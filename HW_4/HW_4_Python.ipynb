{
 "cells": [
  {
   "cell_type": "markdown",
   "metadata": {},
   "source": [
    "## A.1 Import libraries"
   ]
  },
  {
   "cell_type": "code",
   "execution_count": 1,
   "metadata": {},
   "outputs": [],
   "source": [
    "import pandas as pd\n",
    "import matplotlib.pyplot as plt \n",
    "import numpy as np \n",
    "import statsmodels.api as sm\n",
    "import re"
   ]
  },
  {
   "cell_type": "markdown",
   "metadata": {},
   "source": [
    "## A.2 Import data"
   ]
  },
  {
   "cell_type": "markdown",
   "metadata": {},
   "source": [
    "### A.2.1 Import dataframe"
   ]
  },
  {
   "cell_type": "code",
   "execution_count": 2,
   "metadata": {},
   "outputs": [
    {
     "data": {
      "text/html": [
       "<div>\n",
       "<style scoped>\n",
       "    .dataframe tbody tr th:only-of-type {\n",
       "        vertical-align: middle;\n",
       "    }\n",
       "\n",
       "    .dataframe tbody tr th {\n",
       "        vertical-align: top;\n",
       "    }\n",
       "\n",
       "    .dataframe thead th {\n",
       "        text-align: right;\n",
       "    }\n",
       "</style>\n",
       "<table border=\"1\" class=\"dataframe\">\n",
       "  <thead>\n",
       "    <tr style=\"text-align: right;\">\n",
       "      <th></th>\n",
       "      <th>FECHA_ACTUALIZACION</th>\n",
       "      <th>ENTIDAD_UM</th>\n",
       "      <th>sexo</th>\n",
       "      <th>ENTIDAD_NAC</th>\n",
       "      <th>ENTIDAD_RES</th>\n",
       "      <th>MUNICIPIO_RES</th>\n",
       "      <th>TIPO_PACIENTE</th>\n",
       "      <th>FECHA_INGRESO</th>\n",
       "      <th>FECHA_SINTOMAS</th>\n",
       "      <th>FECHA_DEF</th>\n",
       "      <th>...</th>\n",
       "      <th>cardiovascular</th>\n",
       "      <th>obesidad</th>\n",
       "      <th>RENAL_CRONICA</th>\n",
       "      <th>tabaquismo</th>\n",
       "      <th>OTRO_CASO</th>\n",
       "      <th>resultado</th>\n",
       "      <th>migrante</th>\n",
       "      <th>PAIS_NACIONALIDAD</th>\n",
       "      <th>PAIS_ORIGEN</th>\n",
       "      <th>uci</th>\n",
       "    </tr>\n",
       "  </thead>\n",
       "  <tbody>\n",
       "    <tr>\n",
       "      <th>0</th>\n",
       "      <td>2020-04-13</td>\n",
       "      <td>15</td>\n",
       "      <td>1</td>\n",
       "      <td>15</td>\n",
       "      <td>15</td>\n",
       "      <td>37</td>\n",
       "      <td>2</td>\n",
       "      <td>2020-04-09</td>\n",
       "      <td>2020-03-28</td>\n",
       "      <td>9999-99-99</td>\n",
       "      <td>...</td>\n",
       "      <td>2</td>\n",
       "      <td>2</td>\n",
       "      <td>2</td>\n",
       "      <td>2</td>\n",
       "      <td>2</td>\n",
       "      <td>1</td>\n",
       "      <td>99</td>\n",
       "      <td>99</td>\n",
       "      <td>97</td>\n",
       "      <td>1</td>\n",
       "    </tr>\n",
       "    <tr>\n",
       "      <th>1</th>\n",
       "      <td>2020-04-13</td>\n",
       "      <td>28</td>\n",
       "      <td>2</td>\n",
       "      <td>16</td>\n",
       "      <td>28</td>\n",
       "      <td>32</td>\n",
       "      <td>1</td>\n",
       "      <td>2020-04-06</td>\n",
       "      <td>2020-04-04</td>\n",
       "      <td>9999-99-99</td>\n",
       "      <td>...</td>\n",
       "      <td>2</td>\n",
       "      <td>2</td>\n",
       "      <td>2</td>\n",
       "      <td>2</td>\n",
       "      <td>1</td>\n",
       "      <td>1</td>\n",
       "      <td>99</td>\n",
       "      <td>99</td>\n",
       "      <td>97</td>\n",
       "      <td>97</td>\n",
       "    </tr>\n",
       "  </tbody>\n",
       "</table>\n",
       "<p>2 rows × 31 columns</p>\n",
       "</div>"
      ],
      "text/plain": [
       "  FECHA_ACTUALIZACION  ENTIDAD_UM  sexo  ENTIDAD_NAC  ENTIDAD_RES  \\\n",
       "0          2020-04-13          15     1           15           15   \n",
       "1          2020-04-13          28     2           16           28   \n",
       "\n",
       "   MUNICIPIO_RES  TIPO_PACIENTE FECHA_INGRESO FECHA_SINTOMAS   FECHA_DEF  ...  \\\n",
       "0             37              2    2020-04-09     2020-03-28  9999-99-99  ...   \n",
       "1             32              1    2020-04-06     2020-04-04  9999-99-99  ...   \n",
       "\n",
       "   cardiovascular  obesidad  RENAL_CRONICA  tabaquismo  OTRO_CASO  resultado  \\\n",
       "0               2         2              2           2          2          1   \n",
       "1               2         2              2           2          1          1   \n",
       "\n",
       "   migrante  PAIS_NACIONALIDAD  PAIS_ORIGEN  uci  \n",
       "0        99                 99           97    1  \n",
       "1        99                 99           97   97  \n",
       "\n",
       "[2 rows x 31 columns]"
      ]
     },
     "execution_count": 2,
     "metadata": {},
     "output_type": "execute_result"
    }
   ],
   "source": [
    "df = pd.read_stata('COVID19_Mexico_13.04.2020_version1.dta')\n",
    "df.head(2)"
   ]
  },
  {
   "cell_type": "markdown",
   "metadata": {},
   "source": [
    "## A.3 Map variables"
   ]
  },
  {
   "cell_type": "markdown",
   "metadata": {},
   "source": [
    "### A.3.1 Import categorical variables description\n",
    "#### A.3.1.1 Show all sheet names"
   ]
  },
  {
   "cell_type": "code",
   "execution_count": 3,
   "metadata": {},
   "outputs": [
    {
     "data": {
      "text/plain": [
       "['Catálogo SEXO',\n",
       " 'Catálogo TIPO_PACIENTE',\n",
       " 'Catálogo NACIONALIDAD',\n",
       " 'Catálogo RESULTADO',\n",
       " 'Catálogo de ENTIDADES',\n",
       " 'Catálogo MUNICIPIOS']"
      ]
     },
     "execution_count": 3,
     "metadata": {},
     "output_type": "execute_result"
    }
   ],
   "source": [
    "df = pd.read_stata('COVID19_Mexico_13.04.2020_version1.dta')\n",
    "\n",
    "xls = pd.ExcelFile(\"Catalogos_English.xlsx\")\n",
    "sheets = xls.sheet_names\n",
    "sheets = sheets\n",
    "sheets"
   ]
  },
  {
   "cell_type": "markdown",
   "metadata": {},
   "source": [
    "#### A.3.1.2 Lower case sheet names without catalogo"
   ]
  },
  {
   "cell_type": "code",
   "execution_count": 4,
   "metadata": {},
   "outputs": [
    {
     "data": {
      "text/plain": [
       "['sexo',\n",
       " 'tipo_paciente',\n",
       " 'nacionalidad',\n",
       " 'resultado',\n",
       " 'de entidades',\n",
       " 'municipios']"
      ]
     },
     "execution_count": 4,
     "metadata": {},
     "output_type": "execute_result"
    }
   ],
   "source": [
    "col_names = [i.split(' ', 1)[1] for i in sheets]\n",
    "col_names = [i.lower() for i in col_names]\n",
    "col_names"
   ]
  },
  {
   "cell_type": "markdown",
   "metadata": {},
   "source": [
    "#### A.3.1.3 Match sheet names to existing df columns"
   ]
  },
  {
   "cell_type": "code",
   "execution_count": 5,
   "metadata": {},
   "outputs": [
    {
     "data": {
      "text/plain": [
       "[['sexo'],\n",
       " ['TIPO_PACIENTE'],\n",
       " ['nacionalidad', 'PAIS_NACIONALIDAD'],\n",
       " ['resultado'],\n",
       " ['MUNICIPIO_RES']]"
      ]
     },
     "execution_count": 5,
     "metadata": {},
     "output_type": "execute_result"
    }
   ],
   "source": [
    "matching_cols = []\n",
    "for col in col_names:\n",
    "    res = df.filter(regex=re.compile(str(col)[:-1], re.I), axis=1).columns.to_list()\n",
    "    matching_cols.append(res)\n",
    "matching_cols = [x for x in matching_cols if x != []] \n",
    "matching_cols"
   ]
  },
  {
   "cell_type": "markdown",
   "metadata": {},
   "source": [
    "##### A.3.1.3.1 list of list $\\rightarrow$ one list"
   ]
  },
  {
   "cell_type": "code",
   "execution_count": 6,
   "metadata": {},
   "outputs": [
    {
     "data": {
      "text/plain": [
       "['sexo',\n",
       " 'TIPO_PACIENTE',\n",
       " 'nacionalidad',\n",
       " 'PAIS_NACIONALIDAD',\n",
       " 'resultado',\n",
       " 'MUNICIPIO_RES']"
      ]
     },
     "execution_count": 6,
     "metadata": {},
     "output_type": "execute_result"
    }
   ],
   "source": [
    "flatten = lambda l: [item for sublist in l for item in sublist]\n",
    "matching_cols = flatten(matching_cols)\n",
    "matching_cols"
   ]
  },
  {
   "cell_type": "markdown",
   "metadata": {},
   "source": [
    "### A.3.2 Maping"
   ]
  },
  {
   "cell_type": "markdown",
   "metadata": {},
   "source": [
    "#### A.3.2.1 Data is originally in following format"
   ]
  },
  {
   "cell_type": "code",
   "execution_count": 7,
   "metadata": {},
   "outputs": [
    {
     "data": {
      "text/html": [
       "<div>\n",
       "<style scoped>\n",
       "    .dataframe tbody tr th:only-of-type {\n",
       "        vertical-align: middle;\n",
       "    }\n",
       "\n",
       "    .dataframe tbody tr th {\n",
       "        vertical-align: top;\n",
       "    }\n",
       "\n",
       "    .dataframe thead th {\n",
       "        text-align: right;\n",
       "    }\n",
       "</style>\n",
       "<table border=\"1\" class=\"dataframe\">\n",
       "  <thead>\n",
       "    <tr style=\"text-align: right;\">\n",
       "      <th></th>\n",
       "      <th>CLAVE</th>\n",
       "    </tr>\n",
       "    <tr>\n",
       "      <th>DESCRIPCIÓN</th>\n",
       "      <th></th>\n",
       "    </tr>\n",
       "  </thead>\n",
       "  <tbody>\n",
       "    <tr>\n",
       "      <th>FEMALE</th>\n",
       "      <td>1</td>\n",
       "    </tr>\n",
       "    <tr>\n",
       "      <th>MALE</th>\n",
       "      <td>2</td>\n",
       "    </tr>\n",
       "    <tr>\n",
       "      <th>NOT SPECIFIED</th>\n",
       "      <td>99</td>\n",
       "    </tr>\n",
       "  </tbody>\n",
       "</table>\n",
       "</div>"
      ],
      "text/plain": [
       "               CLAVE\n",
       "DESCRIPCIÓN         \n",
       "FEMALE             1\n",
       "MALE               2\n",
       "NOT SPECIFIED     99"
      ]
     },
     "execution_count": 7,
     "metadata": {},
     "output_type": "execute_result"
    }
   ],
   "source": [
    "pd.read_excel(\"Catalogos_English.xlsx\", sheet_name=0, index_col=1)"
   ]
  },
  {
   "cell_type": "markdown",
   "metadata": {},
   "source": [
    "### A.3.2.2 Mapping the data into new columns"
   ]
  },
  {
   "cell_type": "code",
   "execution_count": 8,
   "metadata": {},
   "outputs": [
    {
     "data": {
      "text/html": [
       "<div>\n",
       "<style scoped>\n",
       "    .dataframe tbody tr th:only-of-type {\n",
       "        vertical-align: middle;\n",
       "    }\n",
       "\n",
       "    .dataframe tbody tr th {\n",
       "        vertical-align: top;\n",
       "    }\n",
       "\n",
       "    .dataframe thead th {\n",
       "        text-align: right;\n",
       "    }\n",
       "</style>\n",
       "<table border=\"1\" class=\"dataframe\">\n",
       "  <thead>\n",
       "    <tr style=\"text-align: right;\">\n",
       "      <th></th>\n",
       "      <th>sexo_new</th>\n",
       "      <th>TIPO_PACIENTE_new</th>\n",
       "      <th>nacionalidad_new</th>\n",
       "      <th>PAIS_NACIONALIDAD_new</th>\n",
       "      <th>resultado_new</th>\n",
       "      <th>MUNICIPIO_RES_new</th>\n",
       "    </tr>\n",
       "  </thead>\n",
       "  <tbody>\n",
       "    <tr>\n",
       "      <th>0</th>\n",
       "      <td>FEMALE</td>\n",
       "      <td>HOSPITALIZIED</td>\n",
       "      <td>MEXICAN</td>\n",
       "      <td>99</td>\n",
       "      <td>AGUASCALIENTES</td>\n",
       "      <td>HUHÍ</td>\n",
       "    </tr>\n",
       "    <tr>\n",
       "      <th>1</th>\n",
       "      <td>MALE</td>\n",
       "      <td>OUT PATIENT</td>\n",
       "      <td>MEXICAN</td>\n",
       "      <td>99</td>\n",
       "      <td>AGUASCALIENTES</td>\n",
       "      <td>ESPITA</td>\n",
       "    </tr>\n",
       "    <tr>\n",
       "      <th>2</th>\n",
       "      <td>MALE</td>\n",
       "      <td>HOSPITALIZIED</td>\n",
       "      <td>MEXICAN</td>\n",
       "      <td>99</td>\n",
       "      <td>BAJA CALIFORNIA</td>\n",
       "      <td>MONTE ESCOBEDO</td>\n",
       "    </tr>\n",
       "  </tbody>\n",
       "</table>\n",
       "</div>"
      ],
      "text/plain": [
       "  sexo_new TIPO_PACIENTE_new nacionalidad_new PAIS_NACIONALIDAD_new  \\\n",
       "0   FEMALE     HOSPITALIZIED          MEXICAN                    99   \n",
       "1     MALE       OUT PATIENT          MEXICAN                    99   \n",
       "2     MALE     HOSPITALIZIED          MEXICAN                    99   \n",
       "\n",
       "     resultado_new MUNICIPIO_RES_new  \n",
       "0   AGUASCALIENTES              HUHÍ  \n",
       "1   AGUASCALIENTES            ESPITA  \n",
       "2  BAJA CALIFORNIA    MONTE ESCOBEDO  "
      ]
     },
     "execution_count": 8,
     "metadata": {},
     "output_type": "execute_result"
    }
   ],
   "source": [
    "for (sheet,col) in zip(sheets, matching_cols):\n",
    "    df_sheet = pd.read_excel(\"Catalogos_English.xlsx\", sheet_name=sheet, index_col=1)\n",
    "    dicts = df_sheet.iloc[:,0].to_dict()  \n",
    "    dicts = {dicts[k] : k for k in dicts}\n",
    "    df[str(col)+\"_new\"] = df[col].replace(dicts)\n",
    "df.iloc[:, -6:].head(3)"
   ]
  },
  {
   "cell_type": "markdown",
   "metadata": {},
   "source": [
    "## A.4. Import english column names data"
   ]
  },
  {
   "cell_type": "code",
   "execution_count": 9,
   "metadata": {},
   "outputs": [
    {
     "data": {
      "text/html": [
       "<div>\n",
       "<style scoped>\n",
       "    .dataframe tbody tr th:only-of-type {\n",
       "        vertical-align: middle;\n",
       "    }\n",
       "\n",
       "    .dataframe tbody tr th {\n",
       "        vertical-align: top;\n",
       "    }\n",
       "\n",
       "    .dataframe thead th {\n",
       "        text-align: right;\n",
       "    }\n",
       "</style>\n",
       "<table border=\"1\" class=\"dataframe\">\n",
       "  <thead>\n",
       "    <tr style=\"text-align: right;\">\n",
       "      <th></th>\n",
       "      <th>NOMBRE DE VARIABLE</th>\n",
       "      <th>DESCRIPCIÓN DE VARIABLE</th>\n",
       "    </tr>\n",
       "  </thead>\n",
       "  <tbody>\n",
       "    <tr>\n",
       "      <th>0</th>\n",
       "      <td>FECHA_ACTUALIZACION</td>\n",
       "      <td>Date of database elaboration</td>\n",
       "    </tr>\n",
       "    <tr>\n",
       "      <th>1</th>\n",
       "      <td>ENTIDAD_UM</td>\n",
       "      <td>State where medical attention was received</td>\n",
       "    </tr>\n",
       "    <tr>\n",
       "      <th>2</th>\n",
       "      <td>SEXO</td>\n",
       "      <td>Gender of patient</td>\n",
       "    </tr>\n",
       "  </tbody>\n",
       "</table>\n",
       "</div>"
      ],
      "text/plain": [
       "    NOMBRE DE VARIABLE                     DESCRIPCIÓN DE VARIABLE\n",
       "0  FECHA_ACTUALIZACION                Date of database elaboration\n",
       "1           ENTIDAD_UM  State where medical attention was received\n",
       "2                 SEXO                           Gender of patient"
      ]
     },
     "execution_count": 9,
     "metadata": {},
     "output_type": "execute_result"
    }
   ],
   "source": [
    "col_names_df = pd.read_excel('Descriptores_English.xlsx', usecols=[1,2])\n",
    "col_names_df.head(3)"
   ]
  },
  {
   "cell_type": "markdown",
   "metadata": {},
   "source": [
    "### A.4.1 Replace names in df with english names from \"col_names_df\""
   ]
  },
  {
   "cell_type": "code",
   "execution_count": 10,
   "metadata": {},
   "outputs": [
    {
     "data": {
      "text/html": [
       "<div>\n",
       "<style scoped>\n",
       "    .dataframe tbody tr th:only-of-type {\n",
       "        vertical-align: middle;\n",
       "    }\n",
       "\n",
       "    .dataframe tbody tr th {\n",
       "        vertical-align: top;\n",
       "    }\n",
       "\n",
       "    .dataframe thead th {\n",
       "        text-align: right;\n",
       "    }\n",
       "</style>\n",
       "<table border=\"1\" class=\"dataframe\">\n",
       "  <thead>\n",
       "    <tr style=\"text-align: right;\">\n",
       "      <th></th>\n",
       "      <th>Date of database elaboration</th>\n",
       "      <th>State where medical attention was received</th>\n",
       "      <th>Gender of patient</th>\n",
       "      <th>State of birth of patient</th>\n",
       "      <th>State of residence of patient</th>\n",
       "      <th>Municipality of residence of patient</th>\n",
       "      <th>Type of patient</th>\n",
       "      <th>Date entering medical facility</th>\n",
       "      <th>Date of symptoms</th>\n",
       "      <th>Date of death</th>\n",
       "      <th>...</th>\n",
       "      <th>Patient is migrant</th>\n",
       "      <th>Nationality of patient</th>\n",
       "      <th>Which country is patient from</th>\n",
       "      <th>Patient entered ICU</th>\n",
       "      <th>sexo_new</th>\n",
       "      <th>TIPO_PACIENTE_new</th>\n",
       "      <th>nacionalidad_new</th>\n",
       "      <th>PAIS_NACIONALIDAD_new</th>\n",
       "      <th>resultado_new</th>\n",
       "      <th>MUNICIPIO_RES_new</th>\n",
       "    </tr>\n",
       "  </thead>\n",
       "  <tbody>\n",
       "    <tr>\n",
       "      <th>0</th>\n",
       "      <td>2020-04-13</td>\n",
       "      <td>15</td>\n",
       "      <td>1</td>\n",
       "      <td>15</td>\n",
       "      <td>15</td>\n",
       "      <td>37</td>\n",
       "      <td>2</td>\n",
       "      <td>2020-04-09</td>\n",
       "      <td>2020-03-28</td>\n",
       "      <td>9999-99-99</td>\n",
       "      <td>...</td>\n",
       "      <td>99</td>\n",
       "      <td>99</td>\n",
       "      <td>97</td>\n",
       "      <td>1</td>\n",
       "      <td>FEMALE</td>\n",
       "      <td>HOSPITALIZIED</td>\n",
       "      <td>MEXICAN</td>\n",
       "      <td>99</td>\n",
       "      <td>AGUASCALIENTES</td>\n",
       "      <td>HUHÍ</td>\n",
       "    </tr>\n",
       "    <tr>\n",
       "      <th>1</th>\n",
       "      <td>2020-04-13</td>\n",
       "      <td>28</td>\n",
       "      <td>2</td>\n",
       "      <td>16</td>\n",
       "      <td>28</td>\n",
       "      <td>32</td>\n",
       "      <td>1</td>\n",
       "      <td>2020-04-06</td>\n",
       "      <td>2020-04-04</td>\n",
       "      <td>9999-99-99</td>\n",
       "      <td>...</td>\n",
       "      <td>99</td>\n",
       "      <td>99</td>\n",
       "      <td>97</td>\n",
       "      <td>97</td>\n",
       "      <td>MALE</td>\n",
       "      <td>OUT PATIENT</td>\n",
       "      <td>MEXICAN</td>\n",
       "      <td>99</td>\n",
       "      <td>AGUASCALIENTES</td>\n",
       "      <td>ESPITA</td>\n",
       "    </tr>\n",
       "    <tr>\n",
       "      <th>2</th>\n",
       "      <td>2020-04-13</td>\n",
       "      <td>15</td>\n",
       "      <td>2</td>\n",
       "      <td>15</td>\n",
       "      <td>15</td>\n",
       "      <td>31</td>\n",
       "      <td>2</td>\n",
       "      <td>2020-04-06</td>\n",
       "      <td>2020-04-04</td>\n",
       "      <td>9999-99-99</td>\n",
       "      <td>...</td>\n",
       "      <td>99</td>\n",
       "      <td>99</td>\n",
       "      <td>97</td>\n",
       "      <td>2</td>\n",
       "      <td>MALE</td>\n",
       "      <td>HOSPITALIZIED</td>\n",
       "      <td>MEXICAN</td>\n",
       "      <td>99</td>\n",
       "      <td>BAJA CALIFORNIA</td>\n",
       "      <td>MONTE ESCOBEDO</td>\n",
       "    </tr>\n",
       "  </tbody>\n",
       "</table>\n",
       "<p>3 rows × 37 columns</p>\n",
       "</div>"
      ],
      "text/plain": [
       "  Date of database elaboration  State where medical attention was received  \\\n",
       "0                   2020-04-13                                          15   \n",
       "1                   2020-04-13                                          28   \n",
       "2                   2020-04-13                                          15   \n",
       "\n",
       "   Gender of patient  State of birth of patient  \\\n",
       "0                  1                         15   \n",
       "1                  2                         16   \n",
       "2                  2                         15   \n",
       "\n",
       "   State of residence of patient  Municipality of residence of patient  \\\n",
       "0                             15                                    37   \n",
       "1                             28                                    32   \n",
       "2                             15                                    31   \n",
       "\n",
       "   Type of patient Date entering medical facility Date of symptoms  \\\n",
       "0                2                     2020-04-09       2020-03-28   \n",
       "1                1                     2020-04-06       2020-04-04   \n",
       "2                2                     2020-04-06       2020-04-04   \n",
       "\n",
       "  Date of death  ...  Patient is migrant  Nationality of patient  \\\n",
       "0    9999-99-99  ...                  99                      99   \n",
       "1    9999-99-99  ...                  99                      99   \n",
       "2    9999-99-99  ...                  99                      99   \n",
       "\n",
       "   Which country is patient from  Patient entered ICU  sexo_new  \\\n",
       "0                             97                    1    FEMALE   \n",
       "1                             97                   97      MALE   \n",
       "2                             97                    2      MALE   \n",
       "\n",
       "   TIPO_PACIENTE_new  nacionalidad_new  PAIS_NACIONALIDAD_new  \\\n",
       "0      HOSPITALIZIED           MEXICAN                     99   \n",
       "1        OUT PATIENT           MEXICAN                     99   \n",
       "2      HOSPITALIZIED           MEXICAN                     99   \n",
       "\n",
       "     resultado_new  MUNICIPIO_RES_new  \n",
       "0   AGUASCALIENTES               HUHÍ  \n",
       "1   AGUASCALIENTES             ESPITA  \n",
       "2  BAJA CALIFORNIA     MONTE ESCOBEDO  \n",
       "\n",
       "[3 rows x 37 columns]"
      ]
     },
     "execution_count": 10,
     "metadata": {},
     "output_type": "execute_result"
    }
   ],
   "source": [
    "new_col_names = col_names_df.iloc[:,1].to_list() #New column name into list\n",
    "old_df = df.iloc[:, :len(new_col_names)] #Take old columns\n",
    "old_df.columns = new_col_names #Rename columns\n",
    "df = pd.concat([old_df,df.filter(regex=\"new\",axis=1)], axis=1) #Combine the new named columns \n",
    "df.head(3)"
   ]
  },
  {
   "cell_type": "markdown",
   "metadata": {},
   "source": [
    "# Questions"
   ]
  },
  {
   "cell_type": "markdown",
   "metadata": {},
   "source": [
    "## 1.1 How many individuals have been tested for covid19? "
   ]
  },
  {
   "cell_type": "code",
   "execution_count": 11,
   "metadata": {},
   "outputs": [
    {
     "name": "stdout",
     "output_type": "stream",
     "text": [
      "38670 people have been tested for Covid-19\n"
     ]
    }
   ],
   "source": [
    "ans_1_1 = len(df.loc[:,'Laboratory results of covid19 test'])\n",
    "print('{} people have been tested for Covid-19'.format(ans_1_1))"
   ]
  },
  {
   "cell_type": "markdown",
   "metadata": {},
   "source": [
    "## 1.2 What proportion have tested positive? "
   ]
  },
  {
   "cell_type": "markdown",
   "metadata": {},
   "source": [
    "### 1.2.1 Create confirmed dummy"
   ]
  },
  {
   "cell_type": "code",
   "execution_count": 12,
   "metadata": {},
   "outputs": [],
   "source": [
    "df['confirmed_dummy'] = df['Laboratory results of covid19 test'].replace({2:0})"
   ]
  },
  {
   "cell_type": "markdown",
   "metadata": {},
   "source": [
    "### 1.2.2 Drop the obs that are awaiting test results"
   ]
  },
  {
   "cell_type": "code",
   "execution_count": 13,
   "metadata": {},
   "outputs": [],
   "source": [
    "df =  df.loc[df['Laboratory results of covid19 test']!=3,:]"
   ]
  },
  {
   "cell_type": "markdown",
   "metadata": {},
   "source": [
    "### 1.2.3 Answer: What proportion have tested positive"
   ]
  },
  {
   "cell_type": "code",
   "execution_count": 14,
   "metadata": {},
   "outputs": [
    {
     "name": "stdout",
     "output_type": "stream",
     "text": [
      "17.10% people tested positive\n"
     ]
    }
   ],
   "source": [
    "ans_1_2 = df.loc[:, 'confirmed_dummy'].mean() \n",
    "print('{:.2%} people tested positive'.format(ans_1_2))"
   ]
  },
  {
   "cell_type": "markdown",
   "metadata": {},
   "source": [
    "## 1.3 By gender"
   ]
  },
  {
   "cell_type": "code",
   "execution_count": 15,
   "metadata": {},
   "outputs": [
    {
     "data": {
      "text/html": [
       "<div>\n",
       "<style scoped>\n",
       "    .dataframe tbody tr th:only-of-type {\n",
       "        vertical-align: middle;\n",
       "    }\n",
       "\n",
       "    .dataframe tbody tr th {\n",
       "        vertical-align: top;\n",
       "    }\n",
       "\n",
       "    .dataframe thead th {\n",
       "        text-align: right;\n",
       "    }\n",
       "</style>\n",
       "<table border=\"1\" class=\"dataframe\">\n",
       "  <thead>\n",
       "    <tr style=\"text-align: right;\">\n",
       "      <th></th>\n",
       "      <th>confirmed_dummy</th>\n",
       "    </tr>\n",
       "    <tr>\n",
       "      <th>sexo_new</th>\n",
       "      <th></th>\n",
       "    </tr>\n",
       "  </thead>\n",
       "  <tbody>\n",
       "    <tr>\n",
       "      <th>FEMALE</th>\n",
       "      <td>0.137714</td>\n",
       "    </tr>\n",
       "    <tr>\n",
       "      <th>MALE</th>\n",
       "      <td>0.206960</td>\n",
       "    </tr>\n",
       "  </tbody>\n",
       "</table>\n",
       "</div>"
      ],
      "text/plain": [
       "          confirmed_dummy\n",
       "sexo_new                 \n",
       "FEMALE           0.137714\n",
       "MALE             0.206960"
      ]
     },
     "execution_count": 15,
     "metadata": {},
     "output_type": "execute_result"
    }
   ],
   "source": [
    "ans_1_3 = df.groupby('sexo_new')['confirmed_dummy'].mean()\n",
    "ans_1_3.to_frame().rename(columns={\"Laboratory results of covid19 test\": \"Postive rate\"})"
   ]
  },
  {
   "cell_type": "markdown",
   "metadata": {},
   "source": [
    "## 2. What proportion of individuals testing positive have passed away? "
   ]
  },
  {
   "cell_type": "markdown",
   "metadata": {},
   "source": [
    "## 2.1 Find death column"
   ]
  },
  {
   "cell_type": "code",
   "execution_count": 16,
   "metadata": {},
   "outputs": [
    {
     "data": {
      "text/plain": [
       "['Date of death']"
      ]
     },
     "execution_count": 16,
     "metadata": {},
     "output_type": "execute_result"
    }
   ],
   "source": [
    "death_colname = df.filter(regex='death').columns.to_list()\n",
    "death_colname"
   ]
  },
  {
   "cell_type": "markdown",
   "metadata": {},
   "source": [
    "## 2.2 Create death dummy"
   ]
  },
  {
   "cell_type": "code",
   "execution_count": 17,
   "metadata": {},
   "outputs": [],
   "source": [
    "df['death_dummy'] = list(map(lambda x: 0 if x == '9999-99-99' else 1, df['Date of death']))"
   ]
  },
  {
   "cell_type": "markdown",
   "metadata": {},
   "source": [
    "## 2.3 Answer: What proportion of individuals testing positive have passed away? "
   ]
  },
  {
   "cell_type": "code",
   "execution_count": 18,
   "metadata": {},
   "outputs": [
    {
     "name": "stdout",
     "output_type": "stream",
     "text": [
      "2.11% tested positive have died\n"
     ]
    }
   ],
   "source": [
    "ans_2_3 = float(df[['death_dummy']].mean())\n",
    "print('{:.2%} tested positive have died'.format(ans_2_3))"
   ]
  },
  {
   "cell_type": "markdown",
   "metadata": {},
   "source": [
    "## 2.4 Answer: Passed away by gender"
   ]
  },
  {
   "cell_type": "code",
   "execution_count": 19,
   "metadata": {},
   "outputs": [
    {
     "data": {
      "text/plain": [
       "sexo_new\n",
       "FEMALE    1.46%\n",
       "MALE      2.83%\n",
       "Name: death_dummy, dtype: object"
      ]
     },
     "execution_count": 19,
     "metadata": {},
     "output_type": "execute_result"
    }
   ],
   "source": [
    "round(df.groupby('sexo_new')['death_dummy'].mean()*100,2).astype('str')+'%'"
   ]
  },
  {
   "cell_type": "markdown",
   "metadata": {},
   "source": [
    "# 3. Analyze the probability of passing away by pre existing conditions and age/gender using a regression analysis. "
   ]
  },
  {
   "cell_type": "markdown",
   "metadata": {},
   "source": [
    "## 3.1 Regression by age and gender"
   ]
  },
  {
   "cell_type": "code",
   "execution_count": 20,
   "metadata": {},
   "outputs": [],
   "source": [
    "df['female_dummy'] = df['Gender of patient'].replace({2:0})"
   ]
  },
  {
   "cell_type": "code",
   "execution_count": 21,
   "metadata": {},
   "outputs": [
    {
     "name": "stderr",
     "output_type": "stream",
     "text": [
      "/Users/corybaird/opt/anaconda3/lib/python3.7/site-packages/numpy/core/fromnumeric.py:2542: FutureWarning: Method .ptp is deprecated and will be removed in a future version. Use numpy.ptp instead.\n",
      "  return ptp(axis=axis, out=out, **kwargs)\n"
     ]
    },
    {
     "data": {
      "text/html": [
       "<table class=\"simpletable\">\n",
       "<caption>OLS Regression Results</caption>\n",
       "<tr>\n",
       "  <th>Dep. Variable:</th>       <td>death_dummy</td>   <th>  R-squared:         </th>  <td>   0.024</td> \n",
       "</tr>\n",
       "<tr>\n",
       "  <th>Model:</th>                   <td>OLS</td>       <th>  Adj. R-squared:    </th>  <td>   0.024</td> \n",
       "</tr>\n",
       "<tr>\n",
       "  <th>Method:</th>             <td>Least Squares</td>  <th>  F-statistic:       </th>  <td>   358.1</td> \n",
       "</tr>\n",
       "<tr>\n",
       "  <th>Date:</th>             <td>Sun, 03 May 2020</td> <th>  Prob (F-statistic):</th>  <td>2.18e-154</td>\n",
       "</tr>\n",
       "<tr>\n",
       "  <th>Time:</th>                 <td>10:22:13</td>     <th>  Log-Likelihood:    </th>  <td>  15606.</td> \n",
       "</tr>\n",
       "<tr>\n",
       "  <th>No. Observations:</th>      <td> 29329</td>      <th>  AIC:               </th> <td>-3.121e+04</td>\n",
       "</tr>\n",
       "<tr>\n",
       "  <th>Df Residuals:</th>          <td> 29326</td>      <th>  BIC:               </th> <td>-3.118e+04</td>\n",
       "</tr>\n",
       "<tr>\n",
       "  <th>Df Model:</th>              <td>     2</td>      <th>                     </th>      <td> </td>    \n",
       "</tr>\n",
       "<tr>\n",
       "  <th>Covariance Type:</th>      <td>nonrobust</td>    <th>                     </th>      <td> </td>    \n",
       "</tr>\n",
       "</table>\n",
       "<table class=\"simpletable\">\n",
       "<tr>\n",
       "         <td></td>           <th>coef</th>     <th>std err</th>      <th>t</th>      <th>P>|t|</th>  <th>[0.025</th>    <th>0.975]</th>  \n",
       "</tr>\n",
       "<tr>\n",
       "  <th>const</th>          <td>   -0.0204</td> <td>    0.002</td> <td>   -9.035</td> <td> 0.000</td> <td>   -0.025</td> <td>   -0.016</td>\n",
       "</tr>\n",
       "<tr>\n",
       "  <th>female_dummy</th>   <td>   -0.0128</td> <td>    0.002</td> <td>   -7.703</td> <td> 0.000</td> <td>   -0.016</td> <td>   -0.010</td>\n",
       "</tr>\n",
       "<tr>\n",
       "  <th>Age of patient</th> <td>    0.0012</td> <td> 4.72e-05</td> <td>   25.459</td> <td> 0.000</td> <td>    0.001</td> <td>    0.001</td>\n",
       "</tr>\n",
       "</table>\n",
       "<table class=\"simpletable\">\n",
       "<tr>\n",
       "  <th>Omnibus:</th>       <td>33973.224</td> <th>  Durbin-Watson:     </th>  <td>   1.964</td>  \n",
       "</tr>\n",
       "<tr>\n",
       "  <th>Prob(Omnibus):</th>  <td> 0.000</td>   <th>  Jarque-Bera (JB):  </th> <td>2191194.427</td>\n",
       "</tr>\n",
       "<tr>\n",
       "  <th>Skew:</th>           <td> 6.421</td>   <th>  Prob(JB):          </th>  <td>    0.00</td>  \n",
       "</tr>\n",
       "<tr>\n",
       "  <th>Kurtosis:</th>       <td>43.350</td>   <th>  Cond. No.          </th>  <td>    127.</td>  \n",
       "</tr>\n",
       "</table><br/><br/>Warnings:<br/>[1] Standard Errors assume that the covariance matrix of the errors is correctly specified."
      ],
      "text/plain": [
       "<class 'statsmodels.iolib.summary.Summary'>\n",
       "\"\"\"\n",
       "                            OLS Regression Results                            \n",
       "==============================================================================\n",
       "Dep. Variable:            death_dummy   R-squared:                       0.024\n",
       "Model:                            OLS   Adj. R-squared:                  0.024\n",
       "Method:                 Least Squares   F-statistic:                     358.1\n",
       "Date:                Sun, 03 May 2020   Prob (F-statistic):          2.18e-154\n",
       "Time:                        10:22:13   Log-Likelihood:                 15606.\n",
       "No. Observations:               29329   AIC:                        -3.121e+04\n",
       "Df Residuals:                   29326   BIC:                        -3.118e+04\n",
       "Df Model:                           2                                         \n",
       "Covariance Type:            nonrobust                                         \n",
       "==================================================================================\n",
       "                     coef    std err          t      P>|t|      [0.025      0.975]\n",
       "----------------------------------------------------------------------------------\n",
       "const             -0.0204      0.002     -9.035      0.000      -0.025      -0.016\n",
       "female_dummy      -0.0128      0.002     -7.703      0.000      -0.016      -0.010\n",
       "Age of patient     0.0012   4.72e-05     25.459      0.000       0.001       0.001\n",
       "==============================================================================\n",
       "Omnibus:                    33973.224   Durbin-Watson:                   1.964\n",
       "Prob(Omnibus):                  0.000   Jarque-Bera (JB):          2191194.427\n",
       "Skew:                           6.421   Prob(JB):                         0.00\n",
       "Kurtosis:                      43.350   Cond. No.                         127.\n",
       "==============================================================================\n",
       "\n",
       "Warnings:\n",
       "[1] Standard Errors assume that the covariance matrix of the errors is correctly specified.\n",
       "\"\"\""
      ]
     },
     "execution_count": 21,
     "metadata": {},
     "output_type": "execute_result"
    }
   ],
   "source": [
    "y = df.death_dummy\n",
    "x = df[[\"female_dummy\", 'Age of patient']]\n",
    "x = sm.add_constant(x)\n",
    "sm.OLS(y,x).fit().summary()"
   ]
  },
  {
   "cell_type": "markdown",
   "metadata": {},
   "source": [
    "## 3.2 Regression by age gender and pre-existing conditions\n",
    "\n",
    "### 3.2.1 Create dummy variables for pre-existing condition variables"
   ]
  },
  {
   "cell_type": "code",
   "execution_count": 22,
   "metadata": {},
   "outputs": [],
   "source": [
    "for col in ['Patient has asthma', 'Patient has immonsupression','Patient has hypertension', 'Patient has other illness','Patient has cardiovascular illnesses', 'Patient is obese','Patient has chronic insufficient renal syndrome']:\n",
    "    df[str(col)] = df[str(col)].replace({2:0})"
   ]
  },
  {
   "cell_type": "markdown",
   "metadata": {},
   "source": [
    "### 3.2.2 Regression"
   ]
  },
  {
   "cell_type": "code",
   "execution_count": 23,
   "metadata": {},
   "outputs": [
    {
     "data": {
      "text/html": [
       "<table class=\"simpletable\">\n",
       "<caption>OLS Regression Results</caption>\n",
       "<tr>\n",
       "  <th>Dep. Variable:</th>       <td>death_dummy</td>   <th>  R-squared:         </th>  <td>   0.026</td> \n",
       "</tr>\n",
       "<tr>\n",
       "  <th>Model:</th>                   <td>OLS</td>       <th>  Adj. R-squared:    </th>  <td>   0.026</td> \n",
       "</tr>\n",
       "<tr>\n",
       "  <th>Method:</th>             <td>Least Squares</td>  <th>  F-statistic:       </th>  <td>   87.07</td> \n",
       "</tr>\n",
       "<tr>\n",
       "  <th>Date:</th>             <td>Sun, 03 May 2020</td> <th>  Prob (F-statistic):</th>  <td>1.09e-160</td>\n",
       "</tr>\n",
       "<tr>\n",
       "  <th>Time:</th>                 <td>10:22:13</td>     <th>  Log-Likelihood:    </th>  <td>  15639.</td> \n",
       "</tr>\n",
       "<tr>\n",
       "  <th>No. Observations:</th>      <td> 29329</td>      <th>  AIC:               </th> <td>-3.126e+04</td>\n",
       "</tr>\n",
       "<tr>\n",
       "  <th>Df Residuals:</th>          <td> 29319</td>      <th>  BIC:               </th> <td>-3.118e+04</td>\n",
       "</tr>\n",
       "<tr>\n",
       "  <th>Df Model:</th>              <td>     9</td>      <th>                     </th>      <td> </td>    \n",
       "</tr>\n",
       "<tr>\n",
       "  <th>Covariance Type:</th>      <td>nonrobust</td>    <th>                     </th>      <td> </td>    \n",
       "</tr>\n",
       "</table>\n",
       "<table class=\"simpletable\">\n",
       "<tr>\n",
       "                         <td></td>                            <th>coef</th>     <th>std err</th>      <th>t</th>      <th>P>|t|</th>  <th>[0.025</th>    <th>0.975]</th>  \n",
       "</tr>\n",
       "<tr>\n",
       "  <th>const</th>                                           <td>   -0.0203</td> <td>    0.002</td> <td>   -8.981</td> <td> 0.000</td> <td>   -0.025</td> <td>   -0.016</td>\n",
       "</tr>\n",
       "<tr>\n",
       "  <th>female_dummy</th>                                    <td>   -0.0128</td> <td>    0.002</td> <td>   -7.693</td> <td> 0.000</td> <td>   -0.016</td> <td>   -0.010</td>\n",
       "</tr>\n",
       "<tr>\n",
       "  <th>Age of patient</th>                                  <td>    0.0012</td> <td> 4.73e-05</td> <td>   25.295</td> <td> 0.000</td> <td>    0.001</td> <td>    0.001</td>\n",
       "</tr>\n",
       "<tr>\n",
       "  <th>Patient has asthma</th>                              <td>   -0.0016</td> <td>    0.001</td> <td>   -2.367</td> <td> 0.018</td> <td>   -0.003</td> <td>   -0.000</td>\n",
       "</tr>\n",
       "<tr>\n",
       "  <th>Patient has immonsupression</th>                     <td>    0.0034</td> <td>    0.000</td> <td>    7.119</td> <td> 0.000</td> <td>    0.002</td> <td>    0.004</td>\n",
       "</tr>\n",
       "<tr>\n",
       "  <th>Patient has hypertension</th>                        <td>    0.0008</td> <td>    0.000</td> <td>    1.647</td> <td> 0.100</td> <td>   -0.000</td> <td>    0.002</td>\n",
       "</tr>\n",
       "<tr>\n",
       "  <th>Patient has other illness</th>                       <td>   -0.0006</td> <td>    0.000</td> <td>   -1.838</td> <td> 0.066</td> <td>   -0.001</td> <td>  3.9e-05</td>\n",
       "</tr>\n",
       "<tr>\n",
       "  <th>Patient has cardiovascular illnesses</th>            <td>   -0.0003</td> <td>    0.001</td> <td>   -0.433</td> <td> 0.665</td> <td>   -0.002</td> <td>    0.001</td>\n",
       "</tr>\n",
       "<tr>\n",
       "  <th>Patient is obese</th>                                <td>   -0.0010</td> <td>    0.000</td> <td>   -2.115</td> <td> 0.034</td> <td>   -0.002</td> <td>-7.23e-05</td>\n",
       "</tr>\n",
       "<tr>\n",
       "  <th>Patient has chronic insufficient renal syndrome</th> <td>   -0.0002</td> <td>    0.001</td> <td>   -0.240</td> <td> 0.810</td> <td>   -0.001</td> <td>    0.001</td>\n",
       "</tr>\n",
       "</table>\n",
       "<table class=\"simpletable\">\n",
       "<tr>\n",
       "  <th>Omnibus:</th>       <td>33923.901</td> <th>  Durbin-Watson:     </th>  <td>   1.964</td>  \n",
       "</tr>\n",
       "<tr>\n",
       "  <th>Prob(Omnibus):</th>  <td> 0.000</td>   <th>  Jarque-Bera (JB):  </th> <td>2182424.791</td>\n",
       "</tr>\n",
       "<tr>\n",
       "  <th>Skew:</th>           <td> 6.405</td>   <th>  Prob(JB):          </th>  <td>    0.00</td>  \n",
       "</tr>\n",
       "<tr>\n",
       "  <th>Kurtosis:</th>       <td>43.271</td>   <th>  Cond. No.          </th>  <td>    128.</td>  \n",
       "</tr>\n",
       "</table><br/><br/>Warnings:<br/>[1] Standard Errors assume that the covariance matrix of the errors is correctly specified."
      ],
      "text/plain": [
       "<class 'statsmodels.iolib.summary.Summary'>\n",
       "\"\"\"\n",
       "                            OLS Regression Results                            \n",
       "==============================================================================\n",
       "Dep. Variable:            death_dummy   R-squared:                       0.026\n",
       "Model:                            OLS   Adj. R-squared:                  0.026\n",
       "Method:                 Least Squares   F-statistic:                     87.07\n",
       "Date:                Sun, 03 May 2020   Prob (F-statistic):          1.09e-160\n",
       "Time:                        10:22:13   Log-Likelihood:                 15639.\n",
       "No. Observations:               29329   AIC:                        -3.126e+04\n",
       "Df Residuals:                   29319   BIC:                        -3.118e+04\n",
       "Df Model:                           9                                         \n",
       "Covariance Type:            nonrobust                                         \n",
       "===================================================================================================================\n",
       "                                                      coef    std err          t      P>|t|      [0.025      0.975]\n",
       "-------------------------------------------------------------------------------------------------------------------\n",
       "const                                              -0.0203      0.002     -8.981      0.000      -0.025      -0.016\n",
       "female_dummy                                       -0.0128      0.002     -7.693      0.000      -0.016      -0.010\n",
       "Age of patient                                      0.0012   4.73e-05     25.295      0.000       0.001       0.001\n",
       "Patient has asthma                                 -0.0016      0.001     -2.367      0.018      -0.003      -0.000\n",
       "Patient has immonsupression                         0.0034      0.000      7.119      0.000       0.002       0.004\n",
       "Patient has hypertension                            0.0008      0.000      1.647      0.100      -0.000       0.002\n",
       "Patient has other illness                          -0.0006      0.000     -1.838      0.066      -0.001     3.9e-05\n",
       "Patient has cardiovascular illnesses               -0.0003      0.001     -0.433      0.665      -0.002       0.001\n",
       "Patient is obese                                   -0.0010      0.000     -2.115      0.034      -0.002   -7.23e-05\n",
       "Patient has chronic insufficient renal syndrome    -0.0002      0.001     -0.240      0.810      -0.001       0.001\n",
       "==============================================================================\n",
       "Omnibus:                    33923.901   Durbin-Watson:                   1.964\n",
       "Prob(Omnibus):                  0.000   Jarque-Bera (JB):          2182424.791\n",
       "Skew:                           6.405   Prob(JB):                         0.00\n",
       "Kurtosis:                      43.271   Cond. No.                         128.\n",
       "==============================================================================\n",
       "\n",
       "Warnings:\n",
       "[1] Standard Errors assume that the covariance matrix of the errors is correctly specified.\n",
       "\"\"\""
      ]
     },
     "execution_count": 23,
     "metadata": {},
     "output_type": "execute_result"
    }
   ],
   "source": [
    "y = df.death_dummy\n",
    "x = df[[\"female_dummy\", 'Age of patient', 'Patient has asthma', 'Patient has immonsupression','Patient has hypertension', 'Patient has other illness','Patient has cardiovascular illnesses', 'Patient is obese','Patient has chronic insufficient renal syndrome']]\n",
    "x = sm.add_constant(x)\n",
    "sm.OLS(y,x).fit().summary()"
   ]
  }
 ],
 "metadata": {
  "kernelspec": {
   "display_name": "Python 3",
   "language": "python",
   "name": "python3"
  },
  "language_info": {
   "codemirror_mode": {
    "name": "ipython",
    "version": 3
   },
   "file_extension": ".py",
   "mimetype": "text/x-python",
   "name": "python",
   "nbconvert_exporter": "python",
   "pygments_lexer": "ipython3",
   "version": "3.7.6"
  }
 },
 "nbformat": 4,
 "nbformat_minor": 4
}
