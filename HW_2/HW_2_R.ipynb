{
 "cells": [
  {
   "cell_type": "markdown",
   "metadata": {
    "hideCode": true,
    "hidePrompt": true
   },
   "source": [
    "# A. Import data, EDA, Manipulation"
   ]
  },
  {
   "cell_type": "markdown",
   "metadata": {
    "hideCode": true,
    "hidePrompt": true
   },
   "source": [
    "## A.1 Import and merge\n",
    "\n",
    "### A.1.1 Import libraries"
   ]
  },
  {
   "cell_type": "code",
   "execution_count": 1,
   "metadata": {
    "hideCode": true,
    "hidePrompt": true
   },
   "outputs": [
    {
     "name": "stderr",
     "output_type": "stream",
     "text": [
      "── \u001b[1mAttaching packages\u001b[22m ─────────────────────────────────────── tidyverse 1.3.0 ──\n",
      "\u001b[32m✔\u001b[39m \u001b[34mggplot2\u001b[39m 3.2.1     \u001b[32m✔\u001b[39m \u001b[34mpurrr  \u001b[39m 0.3.3\n",
      "\u001b[32m✔\u001b[39m \u001b[34mtibble \u001b[39m 2.1.3     \u001b[32m✔\u001b[39m \u001b[34mdplyr  \u001b[39m 0.8.4\n",
      "\u001b[32m✔\u001b[39m \u001b[34mtidyr  \u001b[39m 1.0.2     \u001b[32m✔\u001b[39m \u001b[34mstringr\u001b[39m 1.4.0\n",
      "\u001b[32m✔\u001b[39m \u001b[34mreadr  \u001b[39m 1.3.1     \u001b[32m✔\u001b[39m \u001b[34mforcats\u001b[39m 0.4.0\n",
      "Warning message:\n",
      "“package ‘tidyr’ was built under R version 3.6.2”Warning message:\n",
      "“package ‘dplyr’ was built under R version 3.6.2”── \u001b[1mConflicts\u001b[22m ────────────────────────────────────────── tidyverse_conflicts() ──\n",
      "\u001b[31m✖\u001b[39m \u001b[34mdplyr\u001b[39m::\u001b[32mfilter()\u001b[39m masks \u001b[34mstats\u001b[39m::filter()\n",
      "\u001b[31m✖\u001b[39m \u001b[34mdplyr\u001b[39m::\u001b[32mlag()\u001b[39m    masks \u001b[34mstats\u001b[39m::lag()\n"
     ]
    }
   ],
   "source": [
    "library(tidyverse)\n",
    "library(foreign)\n",
    "library(dplyr)"
   ]
  },
  {
   "cell_type": "markdown",
   "metadata": {
    "hideCode": true,
    "hidePrompt": true
   },
   "source": [
    "### A.1.2.1 Set file path for main folder and DTA files folder"
   ]
  },
  {
   "cell_type": "code",
   "execution_count": 2,
   "metadata": {
    "hideCode": true,
    "hidePrompt": true
   },
   "outputs": [],
   "source": [
    "path = getwd()"
   ]
  },
  {
   "cell_type": "markdown",
   "metadata": {
    "hideCode": true,
    "hidePrompt": true
   },
   "source": [
    "## A.2 Calculating consumption"
   ]
  },
  {
   "cell_type": "markdown",
   "metadata": {},
   "source": [
    "### A.2.1 Weekly variables"
   ]
  },
  {
   "cell_type": "markdown",
   "metadata": {},
   "source": [
    "### A.2.1.1 Import weekly variables data \"i_cs\""
   ]
  },
  {
   "cell_type": "code",
   "execution_count": 3,
   "metadata": {},
   "outputs": [],
   "source": [
    "df1 = read.dta(paste(path,'/hh02dta_b1/i_cs.dta', sep=''))\n",
    "df1 = as_tibble(df1)\n",
    "df1 = df1 %>% rename(Household_id = folio)"
   ]
  },
  {
   "cell_type": "markdown",
   "metadata": {},
   "source": [
    "### A.2.1.2 Select weekly consumption variables"
   ]
  },
  {
   "cell_type": "code",
   "execution_count": 11,
   "metadata": {},
   "outputs": [],
   "source": [
    "cons1 = df1 %>%\n",
    "  select(Household_id,\n",
    "         intersect(contains('cs02a_'), ends_with('2')))"
   ]
  },
  {
   "cell_type": "markdown",
   "metadata": {},
   "source": [
    "#### A.2.1.2.1 Convert weekly varibles to monthly vars"
   ]
  },
  {
   "cell_type": "code",
   "execution_count": 12,
   "metadata": {},
   "outputs": [],
   "source": [
    "cons1 = cons1 %>% \n",
    "  mutate_at(vars(cs02a_12:cs02a_82),.funs = funs(. *4.3))"
   ]
  },
  {
   "cell_type": "markdown",
   "metadata": {},
   "source": [
    "### A.2.2 Monthly variables\n",
    "- Uses \"i_cs\""
   ]
  },
  {
   "cell_type": "code",
   "execution_count": 13,
   "metadata": {},
   "outputs": [],
   "source": [
    "cons2 = df1 %>%\n",
    "  select(Household_id,\n",
    "         intersect(contains('cs16'), ends_with('2')))"
   ]
  },
  {
   "cell_type": "markdown",
   "metadata": {},
   "source": [
    "### A.2.3 3-Month variables"
   ]
  },
  {
   "cell_type": "markdown",
   "metadata": {},
   "source": [
    "#### A.2.3.1 Import weekly variables data \"i_cs1\""
   ]
  },
  {
   "cell_type": "code",
   "execution_count": 14,
   "metadata": {},
   "outputs": [],
   "source": [
    "df2 = read.dta(paste(path,'/hh02dta_b1/i_cs1.dta', sep=''))\n",
    "df2 = as_tibble(df2)\n",
    "df2 = df2 %>% rename(Household_id = folio) #Rename"
   ]
  },
  {
   "cell_type": "markdown",
   "metadata": {},
   "source": [
    "#### A.2.1.3.1 Convert 3-month varibles to monthly vars"
   ]
  },
  {
   "cell_type": "code",
   "execution_count": 15,
   "metadata": {},
   "outputs": [],
   "source": [
    "cons3 = df2 %>%\n",
    "  select(Household_id,\n",
    "         intersect(contains('cs22'), ends_with('2')))\n"
   ]
  },
  {
   "cell_type": "code",
   "execution_count": 16,
   "metadata": {},
   "outputs": [],
   "source": [
    "cons3 = cons3 %>% \n",
    "  mutate_at(vars(cs22a_2:cs22h_2),.funs = funs(. /3))"
   ]
  },
  {
   "cell_type": "markdown",
   "metadata": {},
   "source": [
    "### A.2.4 Merge consumption variables into one dataframe"
   ]
  },
  {
   "cell_type": "code",
   "execution_count": 17,
   "metadata": {
    "scrolled": true
   },
   "outputs": [
    {
     "data": {
      "text/html": [
       "<table>\n",
       "<caption>A data.frame: 3 × 26</caption>\n",
       "<thead>\n",
       "\t<tr><th></th><th scope=col>Household_id</th><th scope=col>cs02a_12</th><th scope=col>cs02a_22</th><th scope=col>cs02a_32</th><th scope=col>cs02a_42</th><th scope=col>cs02a_52</th><th scope=col>cs02a_62</th><th scope=col>cs02a_72</th><th scope=col>cs02a_82</th><th scope=col>cs16a_2</th><th scope=col>⋯</th><th scope=col>cs16h_2</th><th scope=col>cs16i_2</th><th scope=col>cs22a_2</th><th scope=col>cs22b_2</th><th scope=col>cs22c_2</th><th scope=col>cs22d_2</th><th scope=col>cs22e_2</th><th scope=col>cs22f_2</th><th scope=col>cs22g_2</th><th scope=col>cs22h_2</th></tr>\n",
       "\t<tr><th></th><th scope=col>&lt;dbl&gt;</th><th scope=col>&lt;dbl&gt;</th><th scope=col>&lt;dbl&gt;</th><th scope=col>&lt;dbl&gt;</th><th scope=col>&lt;dbl&gt;</th><th scope=col>&lt;dbl&gt;</th><th scope=col>&lt;dbl&gt;</th><th scope=col>&lt;dbl&gt;</th><th scope=col>&lt;dbl&gt;</th><th scope=col>&lt;dbl&gt;</th><th scope=col>⋯</th><th scope=col>&lt;dbl&gt;</th><th scope=col>&lt;dbl&gt;</th><th scope=col>&lt;dbl&gt;</th><th scope=col>&lt;dbl&gt;</th><th scope=col>&lt;dbl&gt;</th><th scope=col>&lt;dbl&gt;</th><th scope=col>&lt;dbl&gt;</th><th scope=col>&lt;dbl&gt;</th><th scope=col>&lt;dbl&gt;</th><th scope=col>&lt;dbl&gt;</th></tr>\n",
       "</thead>\n",
       "<tbody>\n",
       "\t<tr><th scope=row>1</th><td>1000</td><td>21.5</td><td>34.4</td><td>21.5</td><td>25.8</td><td> 43.0</td><td>43</td><td>150.5</td><td> 64.5</td><td> 65</td><td>⋯</td><td> 0</td><td>811</td><td>  0.0000</td><td>200.00000</td><td> 66.66667</td><td> 0.00000</td><td>0</td><td>  0</td><td>   0.0000</td><td>0</td></tr>\n",
       "\t<tr><th scope=row>2</th><td>2000</td><td>21.5</td><td>43.0</td><td> 8.6</td><td>21.5</td><td> 51.6</td><td>43</td><td>215.0</td><td>430.0</td><td>184</td><td>⋯</td><td>32</td><td>325</td><td>  0.0000</td><td>166.66667</td><td>  0.00000</td><td> 0.00000</td><td>0</td><td> 50</td><td>2666.6667</td><td>0</td></tr>\n",
       "\t<tr><th scope=row>3</th><td>3000</td><td>21.5</td><td>30.1</td><td>43.0</td><td>73.1</td><td>301.0</td><td>43</td><td>430.0</td><td>215.0</td><td>112</td><td>⋯</td><td>30</td><td>822</td><td>333.3333</td><td> 66.66667</td><td>100.00000</td><td>33.33333</td><td>0</td><td>100</td><td> 133.3333</td><td>0</td></tr>\n",
       "</tbody>\n",
       "</table>\n"
      ],
      "text/latex": [
       "A data.frame: 3 × 26\n",
       "\\begin{tabular}{r|lllllllllllllllllllll}\n",
       "  & Household\\_id & cs02a\\_12 & cs02a\\_22 & cs02a\\_32 & cs02a\\_42 & cs02a\\_52 & cs02a\\_62 & cs02a\\_72 & cs02a\\_82 & cs16a\\_2 & ⋯ & cs16h\\_2 & cs16i\\_2 & cs22a\\_2 & cs22b\\_2 & cs22c\\_2 & cs22d\\_2 & cs22e\\_2 & cs22f\\_2 & cs22g\\_2 & cs22h\\_2\\\\\n",
       "  & <dbl> & <dbl> & <dbl> & <dbl> & <dbl> & <dbl> & <dbl> & <dbl> & <dbl> & <dbl> & ⋯ & <dbl> & <dbl> & <dbl> & <dbl> & <dbl> & <dbl> & <dbl> & <dbl> & <dbl> & <dbl>\\\\\n",
       "\\hline\n",
       "\t1 & 1000 & 21.5 & 34.4 & 21.5 & 25.8 &  43.0 & 43 & 150.5 &  64.5 &  65 & ⋯ &  0 & 811 &   0.0000 & 200.00000 &  66.66667 &  0.00000 & 0 &   0 &    0.0000 & 0\\\\\n",
       "\t2 & 2000 & 21.5 & 43.0 &  8.6 & 21.5 &  51.6 & 43 & 215.0 & 430.0 & 184 & ⋯ & 32 & 325 &   0.0000 & 166.66667 &   0.00000 &  0.00000 & 0 &  50 & 2666.6667 & 0\\\\\n",
       "\t3 & 3000 & 21.5 & 30.1 & 43.0 & 73.1 & 301.0 & 43 & 430.0 & 215.0 & 112 & ⋯ & 30 & 822 & 333.3333 &  66.66667 & 100.00000 & 33.33333 & 0 & 100 &  133.3333 & 0\\\\\n",
       "\\end{tabular}\n"
      ],
      "text/markdown": [
       "\n",
       "A data.frame: 3 × 26\n",
       "\n",
       "| <!--/--> | Household_id &lt;dbl&gt; | cs02a_12 &lt;dbl&gt; | cs02a_22 &lt;dbl&gt; | cs02a_32 &lt;dbl&gt; | cs02a_42 &lt;dbl&gt; | cs02a_52 &lt;dbl&gt; | cs02a_62 &lt;dbl&gt; | cs02a_72 &lt;dbl&gt; | cs02a_82 &lt;dbl&gt; | cs16a_2 &lt;dbl&gt; | ⋯ ⋯ | cs16h_2 &lt;dbl&gt; | cs16i_2 &lt;dbl&gt; | cs22a_2 &lt;dbl&gt; | cs22b_2 &lt;dbl&gt; | cs22c_2 &lt;dbl&gt; | cs22d_2 &lt;dbl&gt; | cs22e_2 &lt;dbl&gt; | cs22f_2 &lt;dbl&gt; | cs22g_2 &lt;dbl&gt; | cs22h_2 &lt;dbl&gt; |\n",
       "|---|---|---|---|---|---|---|---|---|---|---|---|---|---|---|---|---|---|---|---|---|---|\n",
       "| 1 | 1000 | 21.5 | 34.4 | 21.5 | 25.8 |  43.0 | 43 | 150.5 |  64.5 |  65 | ⋯ |  0 | 811 |   0.0000 | 200.00000 |  66.66667 |  0.00000 | 0 |   0 |    0.0000 | 0 |\n",
       "| 2 | 2000 | 21.5 | 43.0 |  8.6 | 21.5 |  51.6 | 43 | 215.0 | 430.0 | 184 | ⋯ | 32 | 325 |   0.0000 | 166.66667 |   0.00000 |  0.00000 | 0 |  50 | 2666.6667 | 0 |\n",
       "| 3 | 3000 | 21.5 | 30.1 | 43.0 | 73.1 | 301.0 | 43 | 430.0 | 215.0 | 112 | ⋯ | 30 | 822 | 333.3333 |  66.66667 | 100.00000 | 33.33333 | 0 | 100 |  133.3333 | 0 |\n",
       "\n"
      ],
      "text/plain": [
       "  Household_id cs02a_12 cs02a_22 cs02a_32 cs02a_42 cs02a_52 cs02a_62 cs02a_72\n",
       "1 1000         21.5     34.4     21.5     25.8      43.0    43       150.5   \n",
       "2 2000         21.5     43.0      8.6     21.5      51.6    43       215.0   \n",
       "3 3000         21.5     30.1     43.0     73.1     301.0    43       430.0   \n",
       "  cs02a_82 cs16a_2 ⋯ cs16h_2 cs16i_2 cs22a_2  cs22b_2   cs22c_2   cs22d_2 \n",
       "1  64.5     65     ⋯  0      811       0.0000 200.00000  66.66667  0.00000\n",
       "2 430.0    184     ⋯ 32      325       0.0000 166.66667   0.00000  0.00000\n",
       "3 215.0    112     ⋯ 30      822     333.3333  66.66667 100.00000 33.33333\n",
       "  cs22e_2 cs22f_2 cs22g_2   cs22h_2\n",
       "1 0         0        0.0000 0      \n",
       "2 0        50     2666.6667 0      \n",
       "3 0       100      133.3333 0      "
      ]
     },
     "metadata": {},
     "output_type": "display_data"
    }
   ],
   "source": [
    "merge1 = merge(cons1, cons2, by = 'Household_id', all= TRUE)\n",
    "cons_merge = merge(merge1, cons3, by = 'Household_id', all= TRUE)\n",
    "head(cons_merge,3)"
   ]
  },
  {
   "cell_type": "code",
   "execution_count": 20,
   "metadata": {},
   "outputs": [],
   "source": [
    "#write.csv(cons_merge, 'consu_R.csv')"
   ]
  },
  {
   "cell_type": "markdown",
   "metadata": {
    "hideCode": true,
    "hidePrompt": true
   },
   "source": [
    "# Homework Questions"
   ]
  },
  {
   "cell_type": "markdown",
   "metadata": {
    "hideCode": true,
    "hidePrompt": true
   },
   "source": [
    "## Q.1. \n",
    "- Calculate a measure of total consumption and per capita consumption for each household in the 2002 round. \n",
    "    - To calculate per capita note you will have to calculate the number of individuals in each household."
   ]
  },
  {
   "cell_type": "markdown",
   "metadata": {
    "hideCode": true,
    "hidePrompt": true
   },
   "source": [
    "## Q.1.1 Total consumption"
   ]
  },
  {
   "cell_type": "markdown",
   "metadata": {
    "hideCode": true,
    "hidePrompt": true
   },
   "source": [
    "### 1.1.1 Calculate total consumer spending\n",
    "- Sum the rows from cons_merge (A.2.4)"
   ]
  },
  {
   "cell_type": "code",
   "execution_count": 32,
   "metadata": {},
   "outputs": [],
   "source": [
    "total_cons = cons_merge %>% mutate(consumption = select(cons_merge,-Household_id)%>% {rowSums(.)})"
   ]
  },
  {
   "cell_type": "code",
   "execution_count": 33,
   "metadata": {},
   "outputs": [
    {
     "data": {
      "text/html": [
       "<table>\n",
       "<caption>A data.frame: 3 × 27</caption>\n",
       "<thead>\n",
       "\t<tr><th></th><th scope=col>Household_id</th><th scope=col>cs02a_12</th><th scope=col>cs02a_22</th><th scope=col>cs02a_32</th><th scope=col>cs02a_42</th><th scope=col>cs02a_52</th><th scope=col>cs02a_62</th><th scope=col>cs02a_72</th><th scope=col>cs02a_82</th><th scope=col>cs16a_2</th><th scope=col>⋯</th><th scope=col>cs16i_2</th><th scope=col>cs22a_2</th><th scope=col>cs22b_2</th><th scope=col>cs22c_2</th><th scope=col>cs22d_2</th><th scope=col>cs22e_2</th><th scope=col>cs22f_2</th><th scope=col>cs22g_2</th><th scope=col>cs22h_2</th><th scope=col>consumption</th></tr>\n",
       "\t<tr><th></th><th scope=col>&lt;dbl&gt;</th><th scope=col>&lt;dbl&gt;</th><th scope=col>&lt;dbl&gt;</th><th scope=col>&lt;dbl&gt;</th><th scope=col>&lt;dbl&gt;</th><th scope=col>&lt;dbl&gt;</th><th scope=col>&lt;dbl&gt;</th><th scope=col>&lt;dbl&gt;</th><th scope=col>&lt;dbl&gt;</th><th scope=col>&lt;dbl&gt;</th><th scope=col>⋯</th><th scope=col>&lt;dbl&gt;</th><th scope=col>&lt;dbl&gt;</th><th scope=col>&lt;dbl&gt;</th><th scope=col>&lt;dbl&gt;</th><th scope=col>&lt;dbl&gt;</th><th scope=col>&lt;dbl&gt;</th><th scope=col>&lt;dbl&gt;</th><th scope=col>&lt;dbl&gt;</th><th scope=col>&lt;dbl&gt;</th><th scope=col>&lt;dbl&gt;</th></tr>\n",
       "</thead>\n",
       "<tbody>\n",
       "\t<tr><th scope=row>1</th><td>1000</td><td>21.5</td><td>34.4</td><td>21.5</td><td>25.8</td><td> 43.0</td><td>43</td><td>150.5</td><td> 64.5</td><td> 65</td><td>⋯</td><td>811</td><td>  0.0000</td><td>200.00000</td><td> 66.66667</td><td> 0.00000</td><td>0</td><td>  0</td><td>   0.0000</td><td>0</td><td>1876.867</td></tr>\n",
       "\t<tr><th scope=row>2</th><td>2000</td><td>21.5</td><td>43.0</td><td> 8.6</td><td>21.5</td><td> 51.6</td><td>43</td><td>215.0</td><td>430.0</td><td>184</td><td>⋯</td><td>325</td><td>  0.0000</td><td>166.66667</td><td>  0.00000</td><td> 0.00000</td><td>0</td><td> 50</td><td>2666.6667</td><td>0</td><td>5464.533</td></tr>\n",
       "\t<tr><th scope=row>3</th><td>3000</td><td>21.5</td><td>30.1</td><td>43.0</td><td>73.1</td><td>301.0</td><td>43</td><td>430.0</td><td>215.0</td><td>112</td><td>⋯</td><td>822</td><td>333.3333</td><td> 66.66667</td><td>100.00000</td><td>33.33333</td><td>0</td><td>100</td><td> 133.3333</td><td>0</td><td>3522.367</td></tr>\n",
       "</tbody>\n",
       "</table>\n"
      ],
      "text/latex": [
       "A data.frame: 3 × 27\n",
       "\\begin{tabular}{r|lllllllllllllllllllll}\n",
       "  & Household\\_id & cs02a\\_12 & cs02a\\_22 & cs02a\\_32 & cs02a\\_42 & cs02a\\_52 & cs02a\\_62 & cs02a\\_72 & cs02a\\_82 & cs16a\\_2 & ⋯ & cs16i\\_2 & cs22a\\_2 & cs22b\\_2 & cs22c\\_2 & cs22d\\_2 & cs22e\\_2 & cs22f\\_2 & cs22g\\_2 & cs22h\\_2 & consumption\\\\\n",
       "  & <dbl> & <dbl> & <dbl> & <dbl> & <dbl> & <dbl> & <dbl> & <dbl> & <dbl> & <dbl> & ⋯ & <dbl> & <dbl> & <dbl> & <dbl> & <dbl> & <dbl> & <dbl> & <dbl> & <dbl> & <dbl>\\\\\n",
       "\\hline\n",
       "\t1 & 1000 & 21.5 & 34.4 & 21.5 & 25.8 &  43.0 & 43 & 150.5 &  64.5 &  65 & ⋯ & 811 &   0.0000 & 200.00000 &  66.66667 &  0.00000 & 0 &   0 &    0.0000 & 0 & 1876.867\\\\\n",
       "\t2 & 2000 & 21.5 & 43.0 &  8.6 & 21.5 &  51.6 & 43 & 215.0 & 430.0 & 184 & ⋯ & 325 &   0.0000 & 166.66667 &   0.00000 &  0.00000 & 0 &  50 & 2666.6667 & 0 & 5464.533\\\\\n",
       "\t3 & 3000 & 21.5 & 30.1 & 43.0 & 73.1 & 301.0 & 43 & 430.0 & 215.0 & 112 & ⋯ & 822 & 333.3333 &  66.66667 & 100.00000 & 33.33333 & 0 & 100 &  133.3333 & 0 & 3522.367\\\\\n",
       "\\end{tabular}\n"
      ],
      "text/markdown": [
       "\n",
       "A data.frame: 3 × 27\n",
       "\n",
       "| <!--/--> | Household_id &lt;dbl&gt; | cs02a_12 &lt;dbl&gt; | cs02a_22 &lt;dbl&gt; | cs02a_32 &lt;dbl&gt; | cs02a_42 &lt;dbl&gt; | cs02a_52 &lt;dbl&gt; | cs02a_62 &lt;dbl&gt; | cs02a_72 &lt;dbl&gt; | cs02a_82 &lt;dbl&gt; | cs16a_2 &lt;dbl&gt; | ⋯ ⋯ | cs16i_2 &lt;dbl&gt; | cs22a_2 &lt;dbl&gt; | cs22b_2 &lt;dbl&gt; | cs22c_2 &lt;dbl&gt; | cs22d_2 &lt;dbl&gt; | cs22e_2 &lt;dbl&gt; | cs22f_2 &lt;dbl&gt; | cs22g_2 &lt;dbl&gt; | cs22h_2 &lt;dbl&gt; | consumption &lt;dbl&gt; |\n",
       "|---|---|---|---|---|---|---|---|---|---|---|---|---|---|---|---|---|---|---|---|---|---|\n",
       "| 1 | 1000 | 21.5 | 34.4 | 21.5 | 25.8 |  43.0 | 43 | 150.5 |  64.5 |  65 | ⋯ | 811 |   0.0000 | 200.00000 |  66.66667 |  0.00000 | 0 |   0 |    0.0000 | 0 | 1876.867 |\n",
       "| 2 | 2000 | 21.5 | 43.0 |  8.6 | 21.5 |  51.6 | 43 | 215.0 | 430.0 | 184 | ⋯ | 325 |   0.0000 | 166.66667 |   0.00000 |  0.00000 | 0 |  50 | 2666.6667 | 0 | 5464.533 |\n",
       "| 3 | 3000 | 21.5 | 30.1 | 43.0 | 73.1 | 301.0 | 43 | 430.0 | 215.0 | 112 | ⋯ | 822 | 333.3333 |  66.66667 | 100.00000 | 33.33333 | 0 | 100 |  133.3333 | 0 | 3522.367 |\n",
       "\n"
      ],
      "text/plain": [
       "  Household_id cs02a_12 cs02a_22 cs02a_32 cs02a_42 cs02a_52 cs02a_62 cs02a_72\n",
       "1 1000         21.5     34.4     21.5     25.8      43.0    43       150.5   \n",
       "2 2000         21.5     43.0      8.6     21.5      51.6    43       215.0   \n",
       "3 3000         21.5     30.1     43.0     73.1     301.0    43       430.0   \n",
       "  cs02a_82 cs16a_2 ⋯ cs16i_2 cs22a_2  cs22b_2   cs22c_2   cs22d_2  cs22e_2\n",
       "1  64.5     65     ⋯ 811       0.0000 200.00000  66.66667  0.00000 0      \n",
       "2 430.0    184     ⋯ 325       0.0000 166.66667   0.00000  0.00000 0      \n",
       "3 215.0    112     ⋯ 822     333.3333  66.66667 100.00000 33.33333 0      \n",
       "  cs22f_2 cs22g_2   cs22h_2 consumption\n",
       "1   0        0.0000 0       1876.867   \n",
       "2  50     2666.6667 0       5464.533   \n",
       "3 100      133.3333 0       3522.367   "
      ]
     },
     "metadata": {},
     "output_type": "display_data"
    }
   ],
   "source": [
    "total_cons%>%head(3)"
   ]
  },
  {
   "cell_type": "markdown",
   "metadata": {
    "hideCode": true,
    "hidePrompt": true
   },
   "source": [
    "#### 1.1.1.1 Basic stats: total consumer spending"
   ]
  },
  {
   "cell_type": "code",
   "execution_count": 34,
   "metadata": {
    "hideCode": true,
    "hidePrompt": true
   },
   "outputs": [
    {
     "data": {
      "text/plain": [
       "     Min.   1st Qu.    Median      Mean   3rd Qu.      Max.      NA's \n",
       "      0.0     598.2    1110.8    2091.1    1993.0 1450982.7      1204 "
      ]
     },
     "metadata": {},
     "output_type": "display_data"
    }
   ],
   "source": [
    "summary(total_cons$consumption)"
   ]
  },
  {
   "cell_type": "markdown",
   "metadata": {
    "hideCode": true,
    "hidePrompt": true
   },
   "source": [
    "#### 1.1.1.2 Graph: total consumer spending"
   ]
  },
  {
   "cell_type": "code",
   "execution_count": 35,
   "metadata": {
    "hideCode": true,
    "hidePrompt": true
   },
   "outputs": [
    {
     "data": {
      "image/png": "[encoded data removed]",
      "text/plain": [
       "Plot with title “Histogram of total_cons$consumption”"
      ]
     },
     "metadata": {},
     "output_type": "display_data"
    }
   ],
   "source": [
    "hist(total_cons$consumption)"
   ]
  },
  {
   "cell_type": "markdown",
   "metadata": {
    "hideCode": true,
    "hidePrompt": true
   },
   "source": [
    "## Q.1.2 Per capita consumption (Total/house size)"
   ]
  },
  {
   "cell_type": "markdown",
   "metadata": {
    "hideCode": true,
    "hidePrompt": true
   },
   "source": [
    "### 1.2.1 Avg. house size"
   ]
  },
  {
   "cell_type": "markdown",
   "metadata": {},
   "source": [
    "#### 1.2.1.1 Import house size data set \"c_ls\""
   ]
  },
  {
   "cell_type": "code",
   "execution_count": 36,
   "metadata": {},
   "outputs": [
    {
     "data": {
      "text/html": [
       "<table>\n",
       "<caption>A tibble: 2 × 24</caption>\n",
       "<thead>\n",
       "\t<tr><th scope=col>folio</th><th scope=col>ls</th><th scope=col>secuencia</th><th scope=col>ls00</th><th scope=col>ls02_1</th><th scope=col>ls02_2</th><th scope=col>ls03_1</th><th scope=col>ls03_21</th><th scope=col>ls03_22</th><th scope=col>ls04</th><th scope=col>⋯</th><th scope=col>ls09</th><th scope=col>ls10</th><th scope=col>ls11</th><th scope=col>ls12</th><th scope=col>ls13_1</th><th scope=col>ls13_2</th><th scope=col>ls14</th><th scope=col>ls15_1</th><th scope=col>ls16</th><th scope=col>ls18</th></tr>\n",
       "\t<tr><th scope=col>&lt;dbl&gt;</th><th scope=col>&lt;dbl&gt;</th><th scope=col>&lt;dbl&gt;</th><th scope=col>&lt;dbl&gt;</th><th scope=col>&lt;dbl&gt;</th><th scope=col>&lt;dbl&gt;</th><th scope=col>&lt;dbl&gt;</th><th scope=col>&lt;dbl&gt;</th><th scope=col>&lt;dbl&gt;</th><th scope=col>&lt;dbl&gt;</th><th scope=col>⋯</th><th scope=col>&lt;dbl&gt;</th><th scope=col>&lt;dbl&gt;</th><th scope=col>&lt;dbl&gt;</th><th scope=col>&lt;dbl&gt;</th><th scope=col>&lt;dbl&gt;</th><th scope=col>&lt;dbl&gt;</th><th scope=col>&lt;dbl&gt;</th><th scope=col>&lt;dbl&gt;</th><th scope=col>&lt;dbl&gt;</th><th scope=col>&lt;dbl&gt;</th></tr>\n",
       "</thead>\n",
       "<tbody>\n",
       "\t<tr><td>1000</td><td>1</td><td>1</td><td>1</td><td>1</td><td>37</td><td>NA</td><td>NA</td><td>NA</td><td>1</td><td>⋯</td><td>1</td><td>5</td><td>2</td><td>1</td><td> 1</td><td>32000</td><td>3</td><td> 6</td><td>3</td><td>NA</td></tr>\n",
       "\t<tr><td>1000</td><td>2</td><td>2</td><td>2</td><td>1</td><td>35</td><td>NA</td><td>NA</td><td>NA</td><td>3</td><td>⋯</td><td>1</td><td>5</td><td>1</td><td>3</td><td>NA</td><td>   NA</td><td>1</td><td>NA</td><td>3</td><td>NA</td></tr>\n",
       "</tbody>\n",
       "</table>\n"
      ],
      "text/latex": [
       "A tibble: 2 × 24\n",
       "\\begin{tabular}{lllllllllllllllllllll}\n",
       " folio & ls & secuencia & ls00 & ls02\\_1 & ls02\\_2 & ls03\\_1 & ls03\\_21 & ls03\\_22 & ls04 & ⋯ & ls09 & ls10 & ls11 & ls12 & ls13\\_1 & ls13\\_2 & ls14 & ls15\\_1 & ls16 & ls18\\\\\n",
       " <dbl> & <dbl> & <dbl> & <dbl> & <dbl> & <dbl> & <dbl> & <dbl> & <dbl> & <dbl> & ⋯ & <dbl> & <dbl> & <dbl> & <dbl> & <dbl> & <dbl> & <dbl> & <dbl> & <dbl> & <dbl>\\\\\n",
       "\\hline\n",
       "\t 1000 & 1 & 1 & 1 & 1 & 37 & NA & NA & NA & 1 & ⋯ & 1 & 5 & 2 & 1 &  1 & 32000 & 3 &  6 & 3 & NA\\\\\n",
       "\t 1000 & 2 & 2 & 2 & 1 & 35 & NA & NA & NA & 3 & ⋯ & 1 & 5 & 1 & 3 & NA &    NA & 1 & NA & 3 & NA\\\\\n",
       "\\end{tabular}\n"
      ],
      "text/markdown": [
       "\n",
       "A tibble: 2 × 24\n",
       "\n",
       "| folio &lt;dbl&gt; | ls &lt;dbl&gt; | secuencia &lt;dbl&gt; | ls00 &lt;dbl&gt; | ls02_1 &lt;dbl&gt; | ls02_2 &lt;dbl&gt; | ls03_1 &lt;dbl&gt; | ls03_21 &lt;dbl&gt; | ls03_22 &lt;dbl&gt; | ls04 &lt;dbl&gt; | ⋯ ⋯ | ls09 &lt;dbl&gt; | ls10 &lt;dbl&gt; | ls11 &lt;dbl&gt; | ls12 &lt;dbl&gt; | ls13_1 &lt;dbl&gt; | ls13_2 &lt;dbl&gt; | ls14 &lt;dbl&gt; | ls15_1 &lt;dbl&gt; | ls16 &lt;dbl&gt; | ls18 &lt;dbl&gt; |\n",
       "|---|---|---|---|---|---|---|---|---|---|---|---|---|---|---|---|---|---|---|---|---|\n",
       "| 1000 | 1 | 1 | 1 | 1 | 37 | NA | NA | NA | 1 | ⋯ | 1 | 5 | 2 | 1 |  1 | 32000 | 3 |  6 | 3 | NA |\n",
       "| 1000 | 2 | 2 | 2 | 1 | 35 | NA | NA | NA | 3 | ⋯ | 1 | 5 | 1 | 3 | NA |    NA | 1 | NA | 3 | NA |\n",
       "\n"
      ],
      "text/plain": [
       "  folio ls secuencia ls00 ls02_1 ls02_2 ls03_1 ls03_21 ls03_22 ls04 ⋯ ls09 ls10\n",
       "1 1000  1  1         1    1      37     NA     NA      NA      1    ⋯ 1    5   \n",
       "2 1000  2  2         2    1      35     NA     NA      NA      3    ⋯ 1    5   \n",
       "  ls11 ls12 ls13_1 ls13_2 ls14 ls15_1 ls16 ls18\n",
       "1 2    1     1     32000  3     6     3    NA  \n",
       "2 1    3    NA        NA  1    NA     3    NA  "
      ]
     },
     "metadata": {},
     "output_type": "display_data"
    }
   ],
   "source": [
    "df_housesize = read.dta(paste(path,'/hh02dta_bc/c_ls.dta', sep=''))\n",
    "df_housesize = as_tibble(df_housesize) #Set as tibble\n",
    "head(df_housesize,2)"
   ]
  },
  {
   "cell_type": "markdown",
   "metadata": {},
   "source": [
    "#### 1.2.1.2 Count family members \"ls\" in each household \"folio\""
   ]
  },
  {
   "cell_type": "code",
   "execution_count": 37,
   "metadata": {},
   "outputs": [
    {
     "data": {
      "text/html": [
       "<table>\n",
       "<caption>A grouped_df: 6 × 2</caption>\n",
       "<thead>\n",
       "\t<tr><th scope=col>Household_id</th><th scope=col>family_members</th></tr>\n",
       "\t<tr><th scope=col>&lt;dbl&gt;</th><th scope=col>&lt;int&gt;</th></tr>\n",
       "</thead>\n",
       "<tbody>\n",
       "\t<tr><td>1000</td><td>4</td></tr>\n",
       "\t<tr><td>2000</td><td>5</td></tr>\n",
       "\t<tr><td>3000</td><td>8</td></tr>\n",
       "\t<tr><td>4000</td><td>5</td></tr>\n",
       "\t<tr><td>6000</td><td>9</td></tr>\n",
       "\t<tr><td>7000</td><td>4</td></tr>\n",
       "</tbody>\n",
       "</table>\n"
      ],
      "text/latex": [
       "A grouped\\_df: 6 × 2\n",
       "\\begin{tabular}{ll}\n",
       " Household\\_id & family\\_members\\\\\n",
       " <dbl> & <int>\\\\\n",
       "\\hline\n",
       "\t 1000 & 4\\\\\n",
       "\t 2000 & 5\\\\\n",
       "\t 3000 & 8\\\\\n",
       "\t 4000 & 5\\\\\n",
       "\t 6000 & 9\\\\\n",
       "\t 7000 & 4\\\\\n",
       "\\end{tabular}\n"
      ],
      "text/markdown": [
       "\n",
       "A grouped_df: 6 × 2\n",
       "\n",
       "| Household_id &lt;dbl&gt; | family_members &lt;int&gt; |\n",
       "|---|---|\n",
       "| 1000 | 4 |\n",
       "| 2000 | 5 |\n",
       "| 3000 | 8 |\n",
       "| 4000 | 5 |\n",
       "| 6000 | 9 |\n",
       "| 7000 | 4 |\n",
       "\n"
      ],
      "text/plain": [
       "  Household_id family_members\n",
       "1 1000         4             \n",
       "2 2000         5             \n",
       "3 3000         8             \n",
       "4 4000         5             \n",
       "5 6000         9             \n",
       "6 7000         4             "
      ]
     },
     "metadata": {},
     "output_type": "display_data"
    }
   ],
   "source": [
    "family_members = df_housesize %>% group_by(folio) %>% count(folio)  \n",
    "family_members = family_members%>% rename(family_members = n, Household_id=folio)\n",
    "head(family_members)"
   ]
  },
  {
   "cell_type": "markdown",
   "metadata": {},
   "source": [
    "#### 1.2.1.2 Family members graph"
   ]
  },
  {
   "cell_type": "code",
   "execution_count": 38,
   "metadata": {
    "hideCode": true,
    "hidePrompt": true
   },
   "outputs": [
    {
     "data": {
      "image/png": "[encoded data removed]",
      "text/plain": [
       "Plot with title “Histogram of family_members$family_members”"
      ]
     },
     "metadata": {},
     "output_type": "display_data"
    }
   ],
   "source": [
    "hist(family_members$family_members)"
   ]
  },
  {
   "cell_type": "markdown",
   "metadata": {
    "hideCode": true,
    "hidePrompt": true
   },
   "source": [
    "## 1.3 Per capita consumption (Total/house size)"
   ]
  },
  {
   "cell_type": "markdown",
   "metadata": {},
   "source": [
    "### 1.3.1 Merge family_members and consumption data set"
   ]
  },
  {
   "cell_type": "markdown",
   "metadata": {},
   "source": [
    "#### 1.3.1.1 Check to see if df are the same length"
   ]
  },
  {
   "cell_type": "code",
   "execution_count": 39,
   "metadata": {},
   "outputs": [
    {
     "data": {
      "text/html": [
       "FALSE"
      ],
      "text/latex": [
       "FALSE"
      ],
      "text/markdown": [
       "FALSE"
      ],
      "text/plain": [
       "[1] FALSE"
      ]
     },
     "metadata": {},
     "output_type": "display_data"
    },
    {
     "data": {
      "text/html": [
       "FALSE"
      ],
      "text/latex": [
       "FALSE"
      ],
      "text/markdown": [
       "FALSE"
      ],
      "text/plain": [
       "[1] FALSE"
      ]
     },
     "metadata": {},
     "output_type": "display_data"
    }
   ],
   "source": [
    "length(family_members$family_members) == length(total_cons$consumption)\n",
    "length(merge(family_members, total_cons, by='Household_id', all=TRUE)$family_members)== length(merge(family_members, total_cons, by='Household_id')$family_members)"
   ]
  },
  {
   "cell_type": "markdown",
   "metadata": {},
   "source": [
    "#### 1.3.1.2 Merge two data sets and drop na values"
   ]
  },
  {
   "cell_type": "code",
   "execution_count": 40,
   "metadata": {
    "scrolled": true
   },
   "outputs": [
    {
     "data": {
      "text/html": [
       "<table>\n",
       "<caption>A data.frame: 3 × 28</caption>\n",
       "<thead>\n",
       "\t<tr><th></th><th scope=col>Household_id</th><th scope=col>family_members</th><th scope=col>cs02a_12</th><th scope=col>cs02a_22</th><th scope=col>cs02a_32</th><th scope=col>cs02a_42</th><th scope=col>cs02a_52</th><th scope=col>cs02a_62</th><th scope=col>cs02a_72</th><th scope=col>cs02a_82</th><th scope=col>⋯</th><th scope=col>cs16i_2</th><th scope=col>cs22a_2</th><th scope=col>cs22b_2</th><th scope=col>cs22c_2</th><th scope=col>cs22d_2</th><th scope=col>cs22e_2</th><th scope=col>cs22f_2</th><th scope=col>cs22g_2</th><th scope=col>cs22h_2</th><th scope=col>consumption</th></tr>\n",
       "\t<tr><th></th><th scope=col>&lt;dbl&gt;</th><th scope=col>&lt;int&gt;</th><th scope=col>&lt;dbl&gt;</th><th scope=col>&lt;dbl&gt;</th><th scope=col>&lt;dbl&gt;</th><th scope=col>&lt;dbl&gt;</th><th scope=col>&lt;dbl&gt;</th><th scope=col>&lt;dbl&gt;</th><th scope=col>&lt;dbl&gt;</th><th scope=col>&lt;dbl&gt;</th><th scope=col>⋯</th><th scope=col>&lt;dbl&gt;</th><th scope=col>&lt;dbl&gt;</th><th scope=col>&lt;dbl&gt;</th><th scope=col>&lt;dbl&gt;</th><th scope=col>&lt;dbl&gt;</th><th scope=col>&lt;dbl&gt;</th><th scope=col>&lt;dbl&gt;</th><th scope=col>&lt;dbl&gt;</th><th scope=col>&lt;dbl&gt;</th><th scope=col>&lt;dbl&gt;</th></tr>\n",
       "</thead>\n",
       "<tbody>\n",
       "\t<tr><th scope=row>1</th><td>1000</td><td>4</td><td>21.5</td><td>34.4</td><td>21.5</td><td>25.8</td><td> 43.0</td><td>43</td><td>150.5</td><td> 64.5</td><td>⋯</td><td>811</td><td>  0.0000</td><td>200.00000</td><td> 66.66667</td><td> 0.00000</td><td>0</td><td>  0</td><td>   0.0000</td><td>0</td><td>1876.867</td></tr>\n",
       "\t<tr><th scope=row>2</th><td>2000</td><td>5</td><td>21.5</td><td>43.0</td><td> 8.6</td><td>21.5</td><td> 51.6</td><td>43</td><td>215.0</td><td>430.0</td><td>⋯</td><td>325</td><td>  0.0000</td><td>166.66667</td><td>  0.00000</td><td> 0.00000</td><td>0</td><td> 50</td><td>2666.6667</td><td>0</td><td>5464.533</td></tr>\n",
       "\t<tr><th scope=row>3</th><td>3000</td><td>8</td><td>21.5</td><td>30.1</td><td>43.0</td><td>73.1</td><td>301.0</td><td>43</td><td>430.0</td><td>215.0</td><td>⋯</td><td>822</td><td>333.3333</td><td> 66.66667</td><td>100.00000</td><td>33.33333</td><td>0</td><td>100</td><td> 133.3333</td><td>0</td><td>3522.367</td></tr>\n",
       "</tbody>\n",
       "</table>\n"
      ],
      "text/latex": [
       "A data.frame: 3 × 28\n",
       "\\begin{tabular}{r|lllllllllllllllllllll}\n",
       "  & Household\\_id & family\\_members & cs02a\\_12 & cs02a\\_22 & cs02a\\_32 & cs02a\\_42 & cs02a\\_52 & cs02a\\_62 & cs02a\\_72 & cs02a\\_82 & ⋯ & cs16i\\_2 & cs22a\\_2 & cs22b\\_2 & cs22c\\_2 & cs22d\\_2 & cs22e\\_2 & cs22f\\_2 & cs22g\\_2 & cs22h\\_2 & consumption\\\\\n",
       "  & <dbl> & <int> & <dbl> & <dbl> & <dbl> & <dbl> & <dbl> & <dbl> & <dbl> & <dbl> & ⋯ & <dbl> & <dbl> & <dbl> & <dbl> & <dbl> & <dbl> & <dbl> & <dbl> & <dbl> & <dbl>\\\\\n",
       "\\hline\n",
       "\t1 & 1000 & 4 & 21.5 & 34.4 & 21.5 & 25.8 &  43.0 & 43 & 150.5 &  64.5 & ⋯ & 811 &   0.0000 & 200.00000 &  66.66667 &  0.00000 & 0 &   0 &    0.0000 & 0 & 1876.867\\\\\n",
       "\t2 & 2000 & 5 & 21.5 & 43.0 &  8.6 & 21.5 &  51.6 & 43 & 215.0 & 430.0 & ⋯ & 325 &   0.0000 & 166.66667 &   0.00000 &  0.00000 & 0 &  50 & 2666.6667 & 0 & 5464.533\\\\\n",
       "\t3 & 3000 & 8 & 21.5 & 30.1 & 43.0 & 73.1 & 301.0 & 43 & 430.0 & 215.0 & ⋯ & 822 & 333.3333 &  66.66667 & 100.00000 & 33.33333 & 0 & 100 &  133.3333 & 0 & 3522.367\\\\\n",
       "\\end{tabular}\n"
      ],
      "text/markdown": [
       "\n",
       "A data.frame: 3 × 28\n",
       "\n",
       "| <!--/--> | Household_id &lt;dbl&gt; | family_members &lt;int&gt; | cs02a_12 &lt;dbl&gt; | cs02a_22 &lt;dbl&gt; | cs02a_32 &lt;dbl&gt; | cs02a_42 &lt;dbl&gt; | cs02a_52 &lt;dbl&gt; | cs02a_62 &lt;dbl&gt; | cs02a_72 &lt;dbl&gt; | cs02a_82 &lt;dbl&gt; | ⋯ ⋯ | cs16i_2 &lt;dbl&gt; | cs22a_2 &lt;dbl&gt; | cs22b_2 &lt;dbl&gt; | cs22c_2 &lt;dbl&gt; | cs22d_2 &lt;dbl&gt; | cs22e_2 &lt;dbl&gt; | cs22f_2 &lt;dbl&gt; | cs22g_2 &lt;dbl&gt; | cs22h_2 &lt;dbl&gt; | consumption &lt;dbl&gt; |\n",
       "|---|---|---|---|---|---|---|---|---|---|---|---|---|---|---|---|---|---|---|---|---|---|\n",
       "| 1 | 1000 | 4 | 21.5 | 34.4 | 21.5 | 25.8 |  43.0 | 43 | 150.5 |  64.5 | ⋯ | 811 |   0.0000 | 200.00000 |  66.66667 |  0.00000 | 0 |   0 |    0.0000 | 0 | 1876.867 |\n",
       "| 2 | 2000 | 5 | 21.5 | 43.0 |  8.6 | 21.5 |  51.6 | 43 | 215.0 | 430.0 | ⋯ | 325 |   0.0000 | 166.66667 |   0.00000 |  0.00000 | 0 |  50 | 2666.6667 | 0 | 5464.533 |\n",
       "| 3 | 3000 | 8 | 21.5 | 30.1 | 43.0 | 73.1 | 301.0 | 43 | 430.0 | 215.0 | ⋯ | 822 | 333.3333 |  66.66667 | 100.00000 | 33.33333 | 0 | 100 |  133.3333 | 0 | 3522.367 |\n",
       "\n"
      ],
      "text/plain": [
       "  Household_id family_members cs02a_12 cs02a_22 cs02a_32 cs02a_42 cs02a_52\n",
       "1 1000         4              21.5     34.4     21.5     25.8      43.0   \n",
       "2 2000         5              21.5     43.0      8.6     21.5      51.6   \n",
       "3 3000         8              21.5     30.1     43.0     73.1     301.0   \n",
       "  cs02a_62 cs02a_72 cs02a_82 ⋯ cs16i_2 cs22a_2  cs22b_2   cs22c_2   cs22d_2 \n",
       "1 43       150.5     64.5    ⋯ 811       0.0000 200.00000  66.66667  0.00000\n",
       "2 43       215.0    430.0    ⋯ 325       0.0000 166.66667   0.00000  0.00000\n",
       "3 43       430.0    215.0    ⋯ 822     333.3333  66.66667 100.00000 33.33333\n",
       "  cs22e_2 cs22f_2 cs22g_2   cs22h_2 consumption\n",
       "1 0         0        0.0000 0       1876.867   \n",
       "2 0        50     2666.6667 0       5464.533   \n",
       "3 0       100      133.3333 0       3522.367   "
      ]
     },
     "metadata": {},
     "output_type": "display_data"
    }
   ],
   "source": [
    "percap_consum = merge(family_members, total_cons, by='Household_id')\n",
    "percap_consum%>% head(3)"
   ]
  },
  {
   "cell_type": "markdown",
   "metadata": {},
   "source": [
    "#### 1.3.1.3 Calculate percapita consumption"
   ]
  },
  {
   "cell_type": "code",
   "execution_count": 41,
   "metadata": {},
   "outputs": [
    {
     "data": {
      "text/html": [
       "<table>\n",
       "<caption>A data.frame: 3 × 29</caption>\n",
       "<thead>\n",
       "\t<tr><th></th><th scope=col>Household_id</th><th scope=col>family_members</th><th scope=col>cs02a_12</th><th scope=col>cs02a_22</th><th scope=col>cs02a_32</th><th scope=col>cs02a_42</th><th scope=col>cs02a_52</th><th scope=col>cs02a_62</th><th scope=col>cs02a_72</th><th scope=col>cs02a_82</th><th scope=col>⋯</th><th scope=col>cs22a_2</th><th scope=col>cs22b_2</th><th scope=col>cs22c_2</th><th scope=col>cs22d_2</th><th scope=col>cs22e_2</th><th scope=col>cs22f_2</th><th scope=col>cs22g_2</th><th scope=col>cs22h_2</th><th scope=col>consumption</th><th scope=col>percap_consum</th></tr>\n",
       "\t<tr><th></th><th scope=col>&lt;dbl&gt;</th><th scope=col>&lt;int&gt;</th><th scope=col>&lt;dbl&gt;</th><th scope=col>&lt;dbl&gt;</th><th scope=col>&lt;dbl&gt;</th><th scope=col>&lt;dbl&gt;</th><th scope=col>&lt;dbl&gt;</th><th scope=col>&lt;dbl&gt;</th><th scope=col>&lt;dbl&gt;</th><th scope=col>&lt;dbl&gt;</th><th scope=col>⋯</th><th scope=col>&lt;dbl&gt;</th><th scope=col>&lt;dbl&gt;</th><th scope=col>&lt;dbl&gt;</th><th scope=col>&lt;dbl&gt;</th><th scope=col>&lt;dbl&gt;</th><th scope=col>&lt;dbl&gt;</th><th scope=col>&lt;dbl&gt;</th><th scope=col>&lt;dbl&gt;</th><th scope=col>&lt;dbl&gt;</th><th scope=col>&lt;dbl&gt;</th></tr>\n",
       "</thead>\n",
       "<tbody>\n",
       "\t<tr><th scope=row>1</th><td>1000</td><td>4</td><td>21.5</td><td>34.4</td><td>21.5</td><td>25.8</td><td> 43.0</td><td>43</td><td>150.5</td><td> 64.5</td><td>⋯</td><td>  0.0000</td><td>200.00000</td><td> 66.66667</td><td> 0.00000</td><td>0</td><td>  0</td><td>   0.0000</td><td>0</td><td>1876.867</td><td> 469.2167</td></tr>\n",
       "\t<tr><th scope=row>2</th><td>2000</td><td>5</td><td>21.5</td><td>43.0</td><td> 8.6</td><td>21.5</td><td> 51.6</td><td>43</td><td>215.0</td><td>430.0</td><td>⋯</td><td>  0.0000</td><td>166.66667</td><td>  0.00000</td><td> 0.00000</td><td>0</td><td> 50</td><td>2666.6667</td><td>0</td><td>5464.533</td><td>1092.9067</td></tr>\n",
       "\t<tr><th scope=row>3</th><td>3000</td><td>8</td><td>21.5</td><td>30.1</td><td>43.0</td><td>73.1</td><td>301.0</td><td>43</td><td>430.0</td><td>215.0</td><td>⋯</td><td>333.3333</td><td> 66.66667</td><td>100.00000</td><td>33.33333</td><td>0</td><td>100</td><td> 133.3333</td><td>0</td><td>3522.367</td><td> 440.2958</td></tr>\n",
       "</tbody>\n",
       "</table>\n"
      ],
      "text/latex": [
       "A data.frame: 3 × 29\n",
       "\\begin{tabular}{r|lllllllllllllllllllll}\n",
       "  & Household\\_id & family\\_members & cs02a\\_12 & cs02a\\_22 & cs02a\\_32 & cs02a\\_42 & cs02a\\_52 & cs02a\\_62 & cs02a\\_72 & cs02a\\_82 & ⋯ & cs22a\\_2 & cs22b\\_2 & cs22c\\_2 & cs22d\\_2 & cs22e\\_2 & cs22f\\_2 & cs22g\\_2 & cs22h\\_2 & consumption & percap\\_consum\\\\\n",
       "  & <dbl> & <int> & <dbl> & <dbl> & <dbl> & <dbl> & <dbl> & <dbl> & <dbl> & <dbl> & ⋯ & <dbl> & <dbl> & <dbl> & <dbl> & <dbl> & <dbl> & <dbl> & <dbl> & <dbl> & <dbl>\\\\\n",
       "\\hline\n",
       "\t1 & 1000 & 4 & 21.5 & 34.4 & 21.5 & 25.8 &  43.0 & 43 & 150.5 &  64.5 & ⋯ &   0.0000 & 200.00000 &  66.66667 &  0.00000 & 0 &   0 &    0.0000 & 0 & 1876.867 &  469.2167\\\\\n",
       "\t2 & 2000 & 5 & 21.5 & 43.0 &  8.6 & 21.5 &  51.6 & 43 & 215.0 & 430.0 & ⋯ &   0.0000 & 166.66667 &   0.00000 &  0.00000 & 0 &  50 & 2666.6667 & 0 & 5464.533 & 1092.9067\\\\\n",
       "\t3 & 3000 & 8 & 21.5 & 30.1 & 43.0 & 73.1 & 301.0 & 43 & 430.0 & 215.0 & ⋯ & 333.3333 &  66.66667 & 100.00000 & 33.33333 & 0 & 100 &  133.3333 & 0 & 3522.367 &  440.2958\\\\\n",
       "\\end{tabular}\n"
      ],
      "text/markdown": [
       "\n",
       "A data.frame: 3 × 29\n",
       "\n",
       "| <!--/--> | Household_id &lt;dbl&gt; | family_members &lt;int&gt; | cs02a_12 &lt;dbl&gt; | cs02a_22 &lt;dbl&gt; | cs02a_32 &lt;dbl&gt; | cs02a_42 &lt;dbl&gt; | cs02a_52 &lt;dbl&gt; | cs02a_62 &lt;dbl&gt; | cs02a_72 &lt;dbl&gt; | cs02a_82 &lt;dbl&gt; | ⋯ ⋯ | cs22a_2 &lt;dbl&gt; | cs22b_2 &lt;dbl&gt; | cs22c_2 &lt;dbl&gt; | cs22d_2 &lt;dbl&gt; | cs22e_2 &lt;dbl&gt; | cs22f_2 &lt;dbl&gt; | cs22g_2 &lt;dbl&gt; | cs22h_2 &lt;dbl&gt; | consumption &lt;dbl&gt; | percap_consum &lt;dbl&gt; |\n",
       "|---|---|---|---|---|---|---|---|---|---|---|---|---|---|---|---|---|---|---|---|---|---|\n",
       "| 1 | 1000 | 4 | 21.5 | 34.4 | 21.5 | 25.8 |  43.0 | 43 | 150.5 |  64.5 | ⋯ |   0.0000 | 200.00000 |  66.66667 |  0.00000 | 0 |   0 |    0.0000 | 0 | 1876.867 |  469.2167 |\n",
       "| 2 | 2000 | 5 | 21.5 | 43.0 |  8.6 | 21.5 |  51.6 | 43 | 215.0 | 430.0 | ⋯ |   0.0000 | 166.66667 |   0.00000 |  0.00000 | 0 |  50 | 2666.6667 | 0 | 5464.533 | 1092.9067 |\n",
       "| 3 | 3000 | 8 | 21.5 | 30.1 | 43.0 | 73.1 | 301.0 | 43 | 430.0 | 215.0 | ⋯ | 333.3333 |  66.66667 | 100.00000 | 33.33333 | 0 | 100 |  133.3333 | 0 | 3522.367 |  440.2958 |\n",
       "\n"
      ],
      "text/plain": [
       "  Household_id family_members cs02a_12 cs02a_22 cs02a_32 cs02a_42 cs02a_52\n",
       "1 1000         4              21.5     34.4     21.5     25.8      43.0   \n",
       "2 2000         5              21.5     43.0      8.6     21.5      51.6   \n",
       "3 3000         8              21.5     30.1     43.0     73.1     301.0   \n",
       "  cs02a_62 cs02a_72 cs02a_82 ⋯ cs22a_2  cs22b_2   cs22c_2   cs22d_2  cs22e_2\n",
       "1 43       150.5     64.5    ⋯   0.0000 200.00000  66.66667  0.00000 0      \n",
       "2 43       215.0    430.0    ⋯   0.0000 166.66667   0.00000  0.00000 0      \n",
       "3 43       430.0    215.0    ⋯ 333.3333  66.66667 100.00000 33.33333 0      \n",
       "  cs22f_2 cs22g_2   cs22h_2 consumption percap_consum\n",
       "1   0        0.0000 0       1876.867     469.2167    \n",
       "2  50     2666.6667 0       5464.533    1092.9067    \n",
       "3 100      133.3333 0       3522.367     440.2958    "
      ]
     },
     "metadata": {},
     "output_type": "display_data"
    }
   ],
   "source": [
    "percap_consum = percap_consum %>%\n",
    "mutate(percap_consum = percap_consum$consumption/percap_consum$family_members)\n",
    "percap_consum%>% head(3)"
   ]
  },
  {
   "cell_type": "code",
   "execution_count": 44,
   "metadata": {},
   "outputs": [],
   "source": [
    "# Export data to CSV\n",
    "#write.csv(percap_consum, 'R_data.csv')"
   ]
  },
  {
   "cell_type": "markdown",
   "metadata": {},
   "source": [
    "#### 1.3.1.4 Percap consumption summary"
   ]
  },
  {
   "cell_type": "code",
   "execution_count": 45,
   "metadata": {
    "hideCode": true,
    "hidePrompt": true
   },
   "outputs": [
    {
     "data": {
      "text/plain": [
       " family_members     cs02a_12            cs02a_22      \n",
       " Min.   : 1.00   Min.   :     0.00   Min.   :   0.00  \n",
       " 1st Qu.: 3.00   1st Qu.:    12.90   1st Qu.:   0.00  \n",
       " Median : 4.00   Median :    21.50   Median :  34.40  \n",
       " Mean   : 4.23   Mean   :    55.89   Mean   :  38.47  \n",
       " 3rd Qu.: 5.00   3rd Qu.:    30.10   3rd Qu.:  47.30  \n",
       " Max.   :17.00   Max.   :215516.00   Max.   :4351.60  \n",
       "                 NA's   :209         NA's   :200      "
      ]
     },
     "metadata": {},
     "output_type": "display_data"
    }
   ],
   "source": [
    "summary(percap_consum[,2:4])"
   ]
  },
  {
   "cell_type": "markdown",
   "metadata": {
    "hideCode": true,
    "hidePrompt": true
   },
   "source": [
    "# Q.2. \n",
    "\n",
    "- Calculate the set of poverty rates nationwide using the FGT indicators of poverty:\n",
    "    - Head count\n",
    "    - Average poverty gap\n",
    "    - Average poverty gap squared. \n",
    "- Assume the poverty line=500 pesos per person. Provide poverty rates based on household consumption per capita.\n",
    "\n"
   ]
  },
  {
   "cell_type": "markdown",
   "metadata": {
    "hideCode": true,
    "hidePrompt": true
   },
   "source": [
    "## 2.1 Headcount using 1000 as an example"
   ]
  },
  {
   "cell_type": "code",
   "execution_count": 174,
   "metadata": {},
   "outputs": [],
   "source": [
    "povertyline = 500\n",
    "\n",
    "below_poverty = percap_consum %>%filter(percap_consum < povertyline )%>% select(percap_consum) \n",
    "observations = length(percap_consum$percap_consum)\n",
    "head_count = length(below_poverty$percap_consum)/observations"
   ]
  },
  {
   "cell_type": "code",
   "execution_count": 175,
   "metadata": {},
   "outputs": [
    {
     "name": "stdout",
     "output_type": "stream",
     "text": [
      "[1] Headcount: 0.04%\n"
     ]
    }
   ],
   "source": [
    "print(paste('Headcount: ', round(head_count*100, 2),'%', sep=''), quote=FALSE)"
   ]
  },
  {
   "cell_type": "markdown",
   "metadata": {
    "hideCode": true,
    "hidePrompt": true
   },
   "source": [
    "## 2.2 Avg. poverty gap"
   ]
  },
  {
   "cell_type": "code",
   "execution_count": 178,
   "metadata": {},
   "outputs": [
    {
     "data": {
      "text/html": [
       "200.395833333333"
      ],
      "text/latex": [
       "200.395833333333"
      ],
      "text/markdown": [
       "200.395833333333"
      ],
      "text/plain": [
       "[1] 200.3958"
      ]
     },
     "metadata": {},
     "output_type": "display_data"
    }
   ],
   "source": [
    "mean(povertyline-below_poverty$percap_consum)"
   ]
  },
  {
   "cell_type": "markdown",
   "metadata": {
    "hideCode": true,
    "hidePrompt": true
   },
   "source": [
    "## 2.3 Avg. poverty gap squared"
   ]
  },
  {
   "cell_type": "code",
   "execution_count": 179,
   "metadata": {
    "hideCode": true,
    "hidePrompt": true
   },
   "outputs": [
    {
     "data": {
      "text/html": [
       "43789.7998206018"
      ],
      "text/latex": [
       "43789.7998206018"
      ],
      "text/markdown": [
       "43789.7998206018"
      ],
      "text/plain": [
       "[1] 43789.8"
      ]
     },
     "metadata": {},
     "output_type": "display_data"
    }
   ],
   "source": [
    "mean((povertyline-below_poverty$percap_consum)**2)"
   ]
  },
  {
   "cell_type": "markdown",
   "metadata": {
    "hideCode": true,
    "hidePrompt": true
   },
   "source": [
    "## Q.3 Repeat 2) by area of residence.\n",
    "\n",
    "- How does the poverty rate change by rural/urban residence?"
   ]
  },
  {
   "cell_type": "markdown",
   "metadata": {},
   "source": [
    "## 3.1. Import residence data from \"c_portad\""
   ]
  },
  {
   "cell_type": "code",
   "execution_count": 24,
   "metadata": {},
   "outputs": [
    {
     "data": {
      "text/html": [
       "<table>\n",
       "<caption>A data.frame: 6 x 11</caption>\n",
       "<thead>\n",
       "\t<tr><th scope=col>Household_id</th><th scope=col>ls</th><th scope=col>rel</th><th scope=col>reh</th><th scope=col>edo</th><th scope=col>mpio</th><th scope=col>loc</th><th scope=col>control</th><th scope=col>estrato</th><th scope=col>edad</th><th scope=col>id_loc</th></tr>\n",
       "\t<tr><th scope=col>&lt;dbl&gt;</th><th scope=col>&lt;dbl&gt;</th><th scope=col>&lt;dbl&gt;</th><th scope=col>&lt;dbl&gt;</th><th scope=col>&lt;dbl&gt;</th><th scope=col>&lt;dbl&gt;</th><th scope=col>&lt;dbl&gt;</th><th scope=col>&lt;dbl&gt;</th><th scope=col>&lt;dbl&gt;</th><th scope=col>&lt;dbl&gt;</th><th scope=col>&lt;dbl&gt;</th></tr>\n",
       "</thead>\n",
       "<tbody>\n",
       "\t<tr><td>6299000</td><td>1</td><td>20</td><td>1</td><td>3</td><td>1</td><td>38</td><td>20</td><td>4</td><td>73</td><td>3138</td></tr>\n",
       "\t<tr><td>6293000</td><td>2</td><td>20</td><td>1</td><td>3</td><td>1</td><td>38</td><td>20</td><td>4</td><td>49</td><td>3138</td></tr>\n",
       "\t<tr><td>6281000</td><td>2</td><td>20</td><td>1</td><td>3</td><td>1</td><td>38</td><td>20</td><td>4</td><td>41</td><td>3138</td></tr>\n",
       "\t<tr><td>6312000</td><td>1</td><td>20</td><td>1</td><td>3</td><td>1</td><td>38</td><td>20</td><td>4</td><td>32</td><td>3138</td></tr>\n",
       "\t<tr><td>6314000</td><td>2</td><td>20</td><td>1</td><td>3</td><td>1</td><td>38</td><td>20</td><td>4</td><td>55</td><td>3138</td></tr>\n",
       "\t<tr><td>6331000</td><td>2</td><td>20</td><td>1</td><td>3</td><td>1</td><td>38</td><td>20</td><td>4</td><td>31</td><td>3138</td></tr>\n",
       "</tbody>\n",
       "</table>\n"
      ],
      "text/latex": [
       "A data.frame: 6 x 11\n",
       "\\begin{tabular}{r|lllllllllll}\n",
       " Household\\_id & ls & rel & reh & edo & mpio & loc & control & estrato & edad & id\\_loc\\\\\n",
       " <dbl> & <dbl> & <dbl> & <dbl> & <dbl> & <dbl> & <dbl> & <dbl> & <dbl> & <dbl> & <dbl>\\\\\n",
       "\\hline\n",
       "\t 6299000 & 1 & 20 & 1 & 3 & 1 & 38 & 20 & 4 & 73 & 3138\\\\\n",
       "\t 6293000 & 2 & 20 & 1 & 3 & 1 & 38 & 20 & 4 & 49 & 3138\\\\\n",
       "\t 6281000 & 2 & 20 & 1 & 3 & 1 & 38 & 20 & 4 & 41 & 3138\\\\\n",
       "\t 6312000 & 1 & 20 & 1 & 3 & 1 & 38 & 20 & 4 & 32 & 3138\\\\\n",
       "\t 6314000 & 2 & 20 & 1 & 3 & 1 & 38 & 20 & 4 & 55 & 3138\\\\\n",
       "\t 6331000 & 2 & 20 & 1 & 3 & 1 & 38 & 20 & 4 & 31 & 3138\\\\\n",
       "\\end{tabular}\n"
      ],
      "text/markdown": [
       "\n",
       "A data.frame: 6 x 11\n",
       "\n",
       "| Household_id &lt;dbl&gt; | ls &lt;dbl&gt; | rel &lt;dbl&gt; | reh &lt;dbl&gt; | edo &lt;dbl&gt; | mpio &lt;dbl&gt; | loc &lt;dbl&gt; | control &lt;dbl&gt; | estrato &lt;dbl&gt; | edad &lt;dbl&gt; | id_loc &lt;dbl&gt; |\n",
       "|---|---|---|---|---|---|---|---|---|---|---|\n",
       "| 6299000 | 1 | 20 | 1 | 3 | 1 | 38 | 20 | 4 | 73 | 3138 |\n",
       "| 6293000 | 2 | 20 | 1 | 3 | 1 | 38 | 20 | 4 | 49 | 3138 |\n",
       "| 6281000 | 2 | 20 | 1 | 3 | 1 | 38 | 20 | 4 | 41 | 3138 |\n",
       "| 6312000 | 1 | 20 | 1 | 3 | 1 | 38 | 20 | 4 | 32 | 3138 |\n",
       "| 6314000 | 2 | 20 | 1 | 3 | 1 | 38 | 20 | 4 | 55 | 3138 |\n",
       "| 6331000 | 2 | 20 | 1 | 3 | 1 | 38 | 20 | 4 | 31 | 3138 |\n",
       "\n"
      ],
      "text/plain": [
       "  Household_id ls rel reh edo mpio loc control estrato edad id_loc\n",
       "1 6299000      1  20  1   3   1    38  20      4       73   3138  \n",
       "2 6293000      2  20  1   3   1    38  20      4       49   3138  \n",
       "3 6281000      2  20  1   3   1    38  20      4       41   3138  \n",
       "4 6312000      1  20  1   3   1    38  20      4       32   3138  \n",
       "5 6314000      2  20  1   3   1    38  20      4       55   3138  \n",
       "6 6331000      2  20  1   3   1    38  20      4       31   3138  "
      ]
     },
     "metadata": {},
     "output_type": "display_data"
    }
   ],
   "source": [
    "residence_df = read.dta(paste(path,'/hh02dta_bc/c_portad.dta', sep=''))\n",
    "residence_df = residence_df%>% rename(Household_id = folio)\n",
    "head(residence_df)"
   ]
  },
  {
   "cell_type": "markdown",
   "metadata": {},
   "source": [
    "### 3.1.1. Merge residence df with percap_consum df from Q.1 & Q.2 "
   ]
  },
  {
   "cell_type": "code",
   "execution_count": 25,
   "metadata": {},
   "outputs": [
    {
     "data": {
      "text/html": [
       "<table>\n",
       "<caption>A tibble: 3 x 14</caption>\n",
       "<thead>\n",
       "\t<tr><th scope=col>Household_id</th><th scope=col>ls</th><th scope=col>rel</th><th scope=col>reh</th><th scope=col>edo</th><th scope=col>mpio</th><th scope=col>loc</th><th scope=col>control</th><th scope=col>estrato</th><th scope=col>edad</th><th scope=col>id_loc</th><th scope=col>family_members</th><th scope=col>consumption</th><th scope=col>percap_consum</th></tr>\n",
       "\t<tr><th scope=col>&lt;dbl&gt;</th><th scope=col>&lt;dbl&gt;</th><th scope=col>&lt;dbl&gt;</th><th scope=col>&lt;dbl&gt;</th><th scope=col>&lt;dbl&gt;</th><th scope=col>&lt;dbl&gt;</th><th scope=col>&lt;dbl&gt;</th><th scope=col>&lt;dbl&gt;</th><th scope=col>&lt;dbl&gt;</th><th scope=col>&lt;dbl&gt;</th><th scope=col>&lt;dbl&gt;</th><th scope=col>&lt;int&gt;</th><th scope=col>&lt;dbl&gt;</th><th scope=col>&lt;dbl&gt;</th></tr>\n",
       "</thead>\n",
       "<tbody>\n",
       "\t<tr><td>1000</td><td>2</td><td>20</td><td>1</td><td>20</td><td>107</td><td>61</td><td>207409</td><td>3</td><td>35</td><td>2010761</td><td>4</td><td>2876.867</td><td> 719.2167</td></tr>\n",
       "\t<tr><td>2000</td><td>2</td><td>20</td><td>4</td><td>20</td><td>107</td><td>61</td><td>207409</td><td>3</td><td>42</td><td>2010761</td><td>5</td><td>7464.533</td><td>1492.9067</td></tr>\n",
       "\t<tr><td>3000</td><td>2</td><td>20</td><td>1</td><td>20</td><td>107</td><td>61</td><td>207409</td><td>3</td><td>35</td><td>2010761</td><td>8</td><td>6522.367</td><td> 815.2958</td></tr>\n",
       "</tbody>\n",
       "</table>\n"
      ],
      "text/latex": [
       "A tibble: 3 x 14\n",
       "\\begin{tabular}{r|llllllllllllll}\n",
       " Household\\_id & ls & rel & reh & edo & mpio & loc & control & estrato & edad & id\\_loc & family\\_members & consumption & percap\\_consum\\\\\n",
       " <dbl> & <dbl> & <dbl> & <dbl> & <dbl> & <dbl> & <dbl> & <dbl> & <dbl> & <dbl> & <dbl> & <int> & <dbl> & <dbl>\\\\\n",
       "\\hline\n",
       "\t 1000 & 2 & 20 & 1 & 20 & 107 & 61 & 207409 & 3 & 35 & 2010761 & 4 & 2876.867 &  719.2167\\\\\n",
       "\t 2000 & 2 & 20 & 4 & 20 & 107 & 61 & 207409 & 3 & 42 & 2010761 & 5 & 7464.533 & 1492.9067\\\\\n",
       "\t 3000 & 2 & 20 & 1 & 20 & 107 & 61 & 207409 & 3 & 35 & 2010761 & 8 & 6522.367 &  815.2958\\\\\n",
       "\\end{tabular}\n"
      ],
      "text/markdown": [
       "\n",
       "A tibble: 3 x 14\n",
       "\n",
       "| Household_id &lt;dbl&gt; | ls &lt;dbl&gt; | rel &lt;dbl&gt; | reh &lt;dbl&gt; | edo &lt;dbl&gt; | mpio &lt;dbl&gt; | loc &lt;dbl&gt; | control &lt;dbl&gt; | estrato &lt;dbl&gt; | edad &lt;dbl&gt; | id_loc &lt;dbl&gt; | family_members &lt;int&gt; | consumption &lt;dbl&gt; | percap_consum &lt;dbl&gt; |\n",
       "|---|---|---|---|---|---|---|---|---|---|---|---|---|---|\n",
       "| 1000 | 2 | 20 | 1 | 20 | 107 | 61 | 207409 | 3 | 35 | 2010761 | 4 | 2876.867 |  719.2167 |\n",
       "| 2000 | 2 | 20 | 4 | 20 | 107 | 61 | 207409 | 3 | 42 | 2010761 | 5 | 7464.533 | 1492.9067 |\n",
       "| 3000 | 2 | 20 | 1 | 20 | 107 | 61 | 207409 | 3 | 35 | 2010761 | 8 | 6522.367 |  815.2958 |\n",
       "\n"
      ],
      "text/plain": [
       "  Household_id ls rel reh edo mpio loc control estrato edad id_loc \n",
       "1 1000         2  20  1   20  107  61  207409  3       35   2010761\n",
       "2 2000         2  20  4   20  107  61  207409  3       42   2010761\n",
       "3 3000         2  20  1   20  107  61  207409  3       35   2010761\n",
       "  family_members consumption percap_consum\n",
       "1 4              2876.867     719.2167    \n",
       "2 5              7464.533    1492.9067    \n",
       "3 8              6522.367     815.2958    "
      ]
     },
     "metadata": {},
     "output_type": "display_data"
    }
   ],
   "source": [
    "consum_residence_df  = merge(residence_df, percap_consum, by='Household_id')\n",
    "consum_residence_df  = as_tibble(consum_residence_df)\n",
    "consum_residence_df %>% head(3)"
   ]
  },
  {
   "cell_type": "markdown",
   "metadata": {},
   "source": [
    "#### 3.1.1.2 Create poverty dummy"
   ]
  },
  {
   "cell_type": "code",
   "execution_count": 51,
   "metadata": {},
   "outputs": [
    {
     "data": {
      "text/html": [
       "<table>\n",
       "<caption>A tibble: 3 x 15</caption>\n",
       "<thead>\n",
       "\t<tr><th scope=col>Household_id</th><th scope=col>ls</th><th scope=col>rel</th><th scope=col>reh</th><th scope=col>edo</th><th scope=col>mpio</th><th scope=col>loc</th><th scope=col>control</th><th scope=col>estrato</th><th scope=col>edad</th><th scope=col>id_loc</th><th scope=col>family_members</th><th scope=col>consumption</th><th scope=col>percap_consum</th><th scope=col>poverty_dummy</th></tr>\n",
       "\t<tr><th scope=col>&lt;dbl&gt;</th><th scope=col>&lt;dbl&gt;</th><th scope=col>&lt;dbl&gt;</th><th scope=col>&lt;dbl&gt;</th><th scope=col>&lt;dbl&gt;</th><th scope=col>&lt;dbl&gt;</th><th scope=col>&lt;dbl&gt;</th><th scope=col>&lt;dbl&gt;</th><th scope=col>&lt;dbl&gt;</th><th scope=col>&lt;dbl&gt;</th><th scope=col>&lt;dbl&gt;</th><th scope=col>&lt;int&gt;</th><th scope=col>&lt;dbl&gt;</th><th scope=col>&lt;dbl&gt;</th><th scope=col>&lt;dbl&gt;</th></tr>\n",
       "</thead>\n",
       "<tbody>\n",
       "\t<tr><td>1000</td><td>2</td><td>20</td><td>1</td><td>20</td><td>107</td><td>61</td><td>207409</td><td>3</td><td>35</td><td>2010761</td><td>4</td><td>2876.867</td><td>719.2167</td><td>1</td></tr>\n",
       "\t<tr><td>3000</td><td>2</td><td>20</td><td>1</td><td>20</td><td>107</td><td>61</td><td>207409</td><td>3</td><td>35</td><td>2010761</td><td>8</td><td>6522.367</td><td>815.2958</td><td>1</td></tr>\n",
       "\t<tr><td>6000</td><td>2</td><td>20</td><td>4</td><td>20</td><td>107</td><td>61</td><td>207409</td><td>3</td><td>62</td><td>2010761</td><td>9</td><td>7778.700</td><td>864.3000</td><td>1</td></tr>\n",
       "</tbody>\n",
       "</table>\n"
      ],
      "text/latex": [
       "A tibble: 3 x 15\n",
       "\\begin{tabular}{r|lllllllllllllll}\n",
       " Household\\_id & ls & rel & reh & edo & mpio & loc & control & estrato & edad & id\\_loc & family\\_members & consumption & percap\\_consum & poverty\\_dummy\\\\\n",
       " <dbl> & <dbl> & <dbl> & <dbl> & <dbl> & <dbl> & <dbl> & <dbl> & <dbl> & <dbl> & <dbl> & <int> & <dbl> & <dbl> & <dbl>\\\\\n",
       "\\hline\n",
       "\t 1000 & 2 & 20 & 1 & 20 & 107 & 61 & 207409 & 3 & 35 & 2010761 & 4 & 2876.867 & 719.2167 & 1\\\\\n",
       "\t 3000 & 2 & 20 & 1 & 20 & 107 & 61 & 207409 & 3 & 35 & 2010761 & 8 & 6522.367 & 815.2958 & 1\\\\\n",
       "\t 6000 & 2 & 20 & 4 & 20 & 107 & 61 & 207409 & 3 & 62 & 2010761 & 9 & 7778.700 & 864.3000 & 1\\\\\n",
       "\\end{tabular}\n"
      ],
      "text/markdown": [
       "\n",
       "A tibble: 3 x 15\n",
       "\n",
       "| Household_id &lt;dbl&gt; | ls &lt;dbl&gt; | rel &lt;dbl&gt; | reh &lt;dbl&gt; | edo &lt;dbl&gt; | mpio &lt;dbl&gt; | loc &lt;dbl&gt; | control &lt;dbl&gt; | estrato &lt;dbl&gt; | edad &lt;dbl&gt; | id_loc &lt;dbl&gt; | family_members &lt;int&gt; | consumption &lt;dbl&gt; | percap_consum &lt;dbl&gt; | poverty_dummy &lt;dbl&gt; |\n",
       "|---|---|---|---|---|---|---|---|---|---|---|---|---|---|---|\n",
       "| 1000 | 2 | 20 | 1 | 20 | 107 | 61 | 207409 | 3 | 35 | 2010761 | 4 | 2876.867 | 719.2167 | 1 |\n",
       "| 3000 | 2 | 20 | 1 | 20 | 107 | 61 | 207409 | 3 | 35 | 2010761 | 8 | 6522.367 | 815.2958 | 1 |\n",
       "| 6000 | 2 | 20 | 4 | 20 | 107 | 61 | 207409 | 3 | 62 | 2010761 | 9 | 7778.700 | 864.3000 | 1 |\n",
       "\n"
      ],
      "text/plain": [
       "  Household_id ls rel reh edo mpio loc control estrato edad id_loc \n",
       "1 1000         2  20  1   20  107  61  207409  3       35   2010761\n",
       "2 3000         2  20  1   20  107  61  207409  3       35   2010761\n",
       "3 6000         2  20  4   20  107  61  207409  3       62   2010761\n",
       "  family_members consumption percap_consum poverty_dummy\n",
       "1 4              2876.867    719.2167      1            \n",
       "2 8              6522.367    815.2958      1            \n",
       "3 9              7778.700    864.3000      1            "
      ]
     },
     "metadata": {},
     "output_type": "display_data"
    }
   ],
   "source": [
    "consum_residence_df$poverty_dummy <- as.numeric(consum_residence_df$percap_consum<povertyline)\n",
    "consum_residence_df %>% filter(poverty_dummy ==1) #Show observations living in poverty"
   ]
  },
  {
   "cell_type": "markdown",
   "metadata": {},
   "source": [
    "## 3.2 Show poverty by area of residence"
   ]
  },
  {
   "cell_type": "code",
   "execution_count": 142,
   "metadata": {
    "scrolled": true
   },
   "outputs": [
    {
     "data": {
      "text/html": [
       "<table>\n",
       "<caption>A grouped_df: 1 x 2</caption>\n",
       "<thead>\n",
       "\t<tr><th scope=col>estrato</th><th scope=col>head_count</th></tr>\n",
       "\t<tr><th scope=col>&lt;dbl&gt;</th><th scope=col>&lt;dbl&gt;</th></tr>\n",
       "</thead>\n",
       "<tbody>\n",
       "\t<tr><td>3</td><td>0.3554502</td></tr>\n",
       "</tbody>\n",
       "</table>\n"
      ],
      "text/latex": [
       "A grouped_df: 1 x 2\n",
       "\\begin{tabular}{r|ll}\n",
       " estrato & head\\_count\\\\\n",
       " <dbl> & <dbl>\\\\\n",
       "\\hline\n",
       "\t 3 & 0.3554502\\\\\n",
       "\\end{tabular}\n"
      ],
      "text/markdown": [
       "\n",
       "A grouped_df: 1 x 2\n",
       "\n",
       "| estrato &lt;dbl&gt; | head_count &lt;dbl&gt; |\n",
       "|---|---|\n",
       "| 3 | 0.3554502 |\n",
       "\n"
      ],
      "text/plain": [
       "  estrato head_count\n",
       "1 3       0.3554502 "
      ]
     },
     "metadata": {},
     "output_type": "display_data"
    }
   ],
   "source": [
    "consum_residence_df %>% \n",
    "group_by(estrato) %>% #Groupby estrato\n",
    "count(poverty_dummy) %>% #Count poverty dummy by each estrato\n",
    "mutate(obs = sum(n))%>% \n",
    "mutate(head_count = (n/obs)*100)%>% \n",
    "filter(poverty_dummy==1) %>% \n",
    "select(estrato, head_count)"
   ]
  },
  {
   "cell_type": "markdown",
   "metadata": {},
   "source": [
    "# Q.4. \n",
    "\n",
    "Calculate the Gini coefficient overall and by urban and rural areas both using consumption measures. In both R and Stata there are programs which can be downloaded to calculate the Gini. Provide a graph of the Lorenz curve."
   ]
  },
  {
   "cell_type": "markdown",
   "metadata": {},
   "source": [
    "## 4.1 Calculate cumulative sum for population and consumption"
   ]
  },
  {
   "cell_type": "code",
   "execution_count": 200,
   "metadata": {
    "scrolled": true
   },
   "outputs": [
    {
     "data": {
      "text/html": [
       "<table>\n",
       "<caption>A data.frame: 3 x 10</caption>\n",
       "<thead>\n",
       "\t<tr><th scope=col>Household_id</th><th scope=col>family_members</th><th scope=col>consumption</th><th scope=col>percap_consum</th><th scope=col>consum_cumulative</th><th scope=col>consum_total</th><th scope=col>pop_total</th><th scope=col>pop_cumulative</th><th scope=col>consum_pct</th><th scope=col>pop_pct</th></tr>\n",
       "\t<tr><th scope=col>&lt;dbl&gt;</th><th scope=col>&lt;int&gt;</th><th scope=col>&lt;dbl&gt;</th><th scope=col>&lt;dbl&gt;</th><th scope=col>&lt;dbl&gt;</th><th scope=col>&lt;dbl&gt;</th><th scope=col>&lt;int&gt;</th><th scope=col>&lt;int&gt;</th><th scope=col>&lt;dbl&gt;</th><th scope=col>&lt;dbl&gt;</th></tr>\n",
       "</thead>\n",
       "<tbody>\n",
       "\t<tr><td>1000</td><td>4</td><td>2876.867</td><td>719.2167</td><td> 719.2167</td><td>12959615415</td><td>34063</td><td> 4</td><td>5.549676e-08</td><td>0.0001174295</td></tr>\n",
       "\t<tr><td>3000</td><td>8</td><td>6522.367</td><td>815.2958</td><td>1534.5125</td><td>12959615415</td><td>34063</td><td>12</td><td>1.184073e-07</td><td>0.0003522884</td></tr>\n",
       "\t<tr><td>6000</td><td>9</td><td>7778.700</td><td>864.3000</td><td>2398.8125</td><td>12959615415</td><td>34063</td><td>21</td><td>1.850990e-07</td><td>0.0006165047</td></tr>\n",
       "</tbody>\n",
       "</table>\n"
      ],
      "text/latex": [
       "A data.frame: 3 x 10\n",
       "\\begin{tabular}{r|llllllllll}\n",
       " Household\\_id & family\\_members & consumption & percap\\_consum & consum\\_cumulative & consum\\_total & pop\\_total & pop\\_cumulative & consum\\_pct & pop\\_pct\\\\\n",
       " <dbl> & <int> & <dbl> & <dbl> & <dbl> & <dbl> & <int> & <int> & <dbl> & <dbl>\\\\\n",
       "\\hline\n",
       "\t 1000 & 4 & 2876.867 & 719.2167 &  719.2167 & 12959615415 & 34063 &  4 & 5.549676e-08 & 0.0001174295\\\\\n",
       "\t 3000 & 8 & 6522.367 & 815.2958 & 1534.5125 & 12959615415 & 34063 & 12 & 1.184073e-07 & 0.0003522884\\\\\n",
       "\t 6000 & 9 & 7778.700 & 864.3000 & 2398.8125 & 12959615415 & 34063 & 21 & 1.850990e-07 & 0.0006165047\\\\\n",
       "\\end{tabular}\n"
      ],
      "text/markdown": [
       "\n",
       "A data.frame: 3 x 10\n",
       "\n",
       "| Household_id &lt;dbl&gt; | family_members &lt;int&gt; | consumption &lt;dbl&gt; | percap_consum &lt;dbl&gt; | consum_cumulative &lt;dbl&gt; | consum_total &lt;dbl&gt; | pop_total &lt;int&gt; | pop_cumulative &lt;int&gt; | consum_pct &lt;dbl&gt; | pop_pct &lt;dbl&gt; |\n",
       "|---|---|---|---|---|---|---|---|---|---|\n",
       "| 1000 | 4 | 2876.867 | 719.2167 |  719.2167 | 12959615415 | 34063 |  4 | 5.549676e-08 | 0.0001174295 |\n",
       "| 3000 | 8 | 6522.367 | 815.2958 | 1534.5125 | 12959615415 | 34063 | 12 | 1.184073e-07 | 0.0003522884 |\n",
       "| 6000 | 9 | 7778.700 | 864.3000 | 2398.8125 | 12959615415 | 34063 | 21 | 1.850990e-07 | 0.0006165047 |\n",
       "\n"
      ],
      "text/plain": [
       "  Household_id family_members consumption percap_consum consum_cumulative\n",
       "1 1000         4              2876.867    719.2167       719.2167        \n",
       "2 3000         8              6522.367    815.2958      1534.5125        \n",
       "3 6000         9              7778.700    864.3000      2398.8125        \n",
       "  consum_total pop_total pop_cumulative consum_pct   pop_pct     \n",
       "1 12959615415  34063      4             5.549676e-08 0.0001174295\n",
       "2 12959615415  34063     12             1.184073e-07 0.0003522884\n",
       "3 12959615415  34063     21             1.850990e-07 0.0006165047"
      ]
     },
     "metadata": {},
     "output_type": "display_data"
    }
   ],
   "source": [
    "gini = percap_consum %>% \n",
    "arrange(percap_consum) %>% #Sort consumption from least to greatest\n",
    "mutate(consum_cumulative = cumsum(percap_consum), consum_total = sum(percap_consum), pop_total = sum(family_members), pop_cumulative = cumsum(family_members))%>% #Calculate total and cumulative sum for variables \n",
    "mutate(consum_pct = (consum_cumulative/consum_total), pop_pct= ((pop_cumulative/ pop_total))) #Calculate quintiles\n",
    "gini %>% head(3) #Show new data"
   ]
  },
  {
   "cell_type": "markdown",
   "metadata": {},
   "source": [
    "### 4.1.1 Plot:"
   ]
  },
  {
   "cell_type": "code",
   "execution_count": 207,
   "metadata": {},
   "outputs": [],
   "source": [
    "library(ggplot2)"
   ]
  },
  {
   "cell_type": "code",
   "execution_count": 232,
   "metadata": {
    "scrolled": true
   },
   "outputs": [
    {
     "data": {
      "image/jpeg": "[encoded data removed]",
      "image/png": "",
      "image/svg+xml": [
       "<?xml version=\"1.0\" encoding=\"UTF-8\"?>\n",
       "<svg xmlns=\"http://www.w3.org/2000/svg\" xmlns:xlink=\"http://www.w3.org/1999/xlink\" width=\"288pt\" height=\"216pt\" viewBox=\"0 0 288 216\" version=\"1.1\">\n",
       "<defs>\n",
       "<g>\n",
       "<symbol overflow=\"visible\" id=\"glyph0-0\">\n",
       "<path style=\"stroke:none;\" d=\"\"/>\n",
       "</symbol>\n",
       "<symbol overflow=\"visible\" id=\"glyph0-1\">\n",
       "<path style=\"stroke:none;\" d=\"M 4.875 -3.3125 C 4.875 -5.59375 3.984375 -6.875 2.5625 -6.875 C 1.140625 -6.875 0.234375 -5.578125 0.234375 -3.359375 C 0.234375 -1.140625 1.140625 0.140625 2.5625 0.140625 C 3.953125 0.140625 4.875 -1.140625 4.875 -3.3125 Z M 3.703125 -3.390625 C 3.703125 -1.515625 3.453125 -0.8125 2.53125 -0.8125 C 1.671875 -0.8125 1.390625 -1.546875 1.390625 -3.359375 C 1.390625 -5.15625 1.671875 -5.859375 2.5625 -5.859375 C 3.4375 -5.859375 3.703125 -5.15625 3.703125 -3.390625 Z M 3.703125 -3.390625 \"/>\n",
       "</symbol>\n",
       "<symbol overflow=\"visible\" id=\"glyph0-2\">\n",
       "<path style=\"stroke:none;\" d=\"M 1.9375 -0.140625 L 1.9375 -1.25 L 0.640625 -1.25 L 0.640625 0 L 1.9375 0 Z M 1.9375 -0.140625 \"/>\n",
       "</symbol>\n",
       "<symbol overflow=\"visible\" id=\"glyph0-3\">\n",
       "<path style=\"stroke:none;\" d=\"M 4.90625 -4.796875 C 4.90625 -5.90625 3.890625 -6.875 2.640625 -6.875 C 1.296875 -6.875 0.34375 -6.046875 0.296875 -4.296875 L 1.4375 -4.296875 C 1.5 -5.546875 1.796875 -5.875 2.609375 -5.875 C 3.359375 -5.875 3.75 -5.484375 3.75 -4.78125 C 3.75 -4.265625 3.484375 -3.90625 2.90625 -3.578125 L 2.046875 -3.09375 C 0.671875 -2.3125 0.21875 -1.59375 0.140625 0 L 4.859375 0 L 4.859375 -1.09375 L 1.40625 -1.09375 C 1.484375 -1.484375 1.734375 -1.734375 2.53125 -2.203125 L 3.46875 -2.703125 C 4.390625 -3.203125 4.90625 -3.984375 4.90625 -4.796875 Z M 4.90625 -4.796875 \"/>\n",
       "</symbol>\n",
       "<symbol overflow=\"visible\" id=\"glyph0-4\">\n",
       "<path style=\"stroke:none;\" d=\"M 4.921875 -2.328125 C 4.921875 -3.625 3.90625 -4.625 2.640625 -4.625 C 2.171875 -4.625 1.6875 -4.46875 1.640625 -4.421875 L 1.828125 -5.640625 L 4.578125 -5.640625 L 4.578125 -6.734375 L 0.875 -6.734375 L 0.34375 -3 L 1.359375 -3 C 1.78125 -3.5 1.984375 -3.609375 2.484375 -3.609375 C 3.375 -3.609375 3.765625 -3.1875 3.765625 -2.21875 C 3.765625 -1.265625 3.390625 -0.859375 2.484375 -0.859375 C 1.78125 -0.859375 1.5 -1.09375 1.265625 -1.96875 L 0.125 -1.96875 C 0.421875 -0.515625 1.34375 0.140625 2.515625 0.140625 C 3.84375 0.140625 4.921875 -0.9375 4.921875 -2.328125 Z M 4.921875 -2.328125 \"/>\n",
       "</symbol>\n",
       "<symbol overflow=\"visible\" id=\"glyph0-5\">\n",
       "<path style=\"stroke:none;\" d=\"M 5 -5.90625 L 5 -6.734375 L 0.265625 -6.734375 L 0.265625 -5.640625 L 3.671875 -5.640625 C 2.5625 -4.234375 1.578125 -2.203125 1.078125 0 L 2.28125 0 C 2.671875 -2.265625 3.5625 -4.15625 5 -5.859375 Z M 5 -5.90625 \"/>\n",
       "</symbol>\n",
       "<symbol overflow=\"visible\" id=\"glyph0-6\">\n",
       "<path style=\"stroke:none;\" d=\"M 3.390625 -0.140625 L 3.390625 -6.875 L 2.5625 -6.875 C 2.234375 -5.71875 2.21875 -5.71875 0.78125 -5.546875 L 0.78125 -4.6875 L 2.234375 -4.6875 L 2.234375 0 L 3.390625 0 Z M 3.390625 -0.140625 \"/>\n",
       "</symbol>\n",
       "<symbol overflow=\"visible\" id=\"glyph1-0\">\n",
       "<path style=\"stroke:none;\" d=\"\"/>\n",
       "</symbol>\n",
       "<symbol overflow=\"visible\" id=\"glyph1-1\">\n",
       "<path style=\"stroke:none;\" d=\"M 5.484375 -2.328125 L 4.40625 -2.328125 C 4.21875 -1.234375 3.859375 -0.96875 3.046875 -0.96875 C 1.984375 -0.96875 1.484375 -1.65625 1.484375 -3.078125 C 1.484375 -4.59375 1.984375 -5.3125 3.03125 -5.3125 C 3.828125 -5.3125 4.203125 -4.96875 4.328125 -4 L 5.546875 -4 C 5.421875 -5.59375 4.375 -6.453125 3.03125 -6.453125 C 1.421875 -6.453125 0.21875 -5.078125 0.21875 -3.078125 C 0.21875 -1.140625 1.390625 0.171875 3.03125 0.171875 C 4.46875 0.171875 5.5 -0.8125 5.625 -2.328125 Z M 5.484375 -2.328125 \"/>\n",
       "</symbol>\n",
       "<symbol overflow=\"visible\" id=\"glyph1-2\">\n",
       "<path style=\"stroke:none;\" d=\"M 5.671875 -0.125 L 5.671875 -6.28125 L 4.453125 -6.28125 L 4.453125 -2.828125 C 4.453125 -1.59375 3.9375 -0.921875 2.9375 -0.921875 C 2.1875 -0.921875 1.828125 -1.25 1.828125 -1.984375 L 1.828125 -6.28125 L 0.609375 -6.28125 L 0.609375 -1.59375 C 0.609375 -0.59375 1.5 0.171875 2.671875 0.171875 C 3.546875 0.171875 4.203125 -0.171875 4.765625 -0.96875 L 4.546875 -1.0625 L 4.546875 0 L 5.671875 0 Z M 5.671875 -0.125 \"/>\n",
       "</symbol>\n",
       "<symbol overflow=\"visible\" id=\"glyph1-3\">\n",
       "<path style=\"stroke:none;\" d=\"M 8.859375 -0.125 L 8.859375 -4.640625 C 8.859375 -5.734375 8.140625 -6.453125 7.015625 -6.453125 C 6.203125 -6.453125 5.625 -6.171875 5.171875 -5.640625 C 4.90625 -6.140625 4.328125 -6.453125 3.546875 -6.453125 C 2.734375 -6.453125 2.109375 -6.125 1.59375 -5.390625 L 1.8125 -5.296875 L 1.8125 -6.28125 L 0.671875 -6.28125 L 0.671875 0 L 1.890625 0 L 1.890625 -3.90625 C 1.890625 -4.78125 2.40625 -5.359375 3.1875 -5.359375 C 3.90625 -5.359375 4.15625 -5.046875 4.15625 -4.28125 L 4.15625 0 L 5.375 0 L 5.375 -3.90625 C 5.375 -4.78125 5.90625 -5.359375 6.6875 -5.359375 C 7.390625 -5.359375 7.640625 -5.03125 7.640625 -4.28125 L 7.640625 0 L 8.859375 0 Z M 8.859375 -0.125 \"/>\n",
       "</symbol>\n",
       "<symbol overflow=\"visible\" id=\"glyph1-4\">\n",
       "<path style=\"stroke:none;\" d=\"M 2.328125 -0.125 L 2.328125 -1.453125 L 0.859375 -1.453125 L 0.859375 0 L 2.328125 0 Z M 2.328125 -0.125 \"/>\n",
       "</symbol>\n",
       "<symbol overflow=\"visible\" id=\"glyph1-5\">\n",
       "<path style=\"stroke:none;\" d=\"\"/>\n",
       "</symbol>\n",
       "<symbol overflow=\"visible\" id=\"glyph1-6\">\n",
       "<path style=\"stroke:none;\" d=\"M 4.375 -6.015625 C 4.375 -7.125 3.390625 -8.125 2.28125 -8.125 C 1.21875 -8.125 0.203125 -7.125 0.203125 -6.03125 C 0.203125 -4.953125 1.21875 -3.9375 2.296875 -3.9375 C 3.375 -3.9375 4.375 -4.953125 4.375 -6.015625 Z M 3.328125 -6.03125 C 3.328125 -5.390625 2.9375 -5 2.296875 -5 C 1.65625 -5 1.25 -5.40625 1.25 -6.03125 C 1.25 -6.6875 1.65625 -7.078125 2.28125 -7.078125 C 2.9375 -7.078125 3.328125 -6.6875 3.328125 -6.03125 Z M 7.765625 -8.40625 L 6.921875 -8.40625 L 2.25 0.234375 L 3.28125 0.234375 L 7.96875 -8.40625 Z M 10 -1.84375 C 10 -2.953125 9.015625 -3.953125 7.90625 -3.953125 C 6.84375 -3.953125 5.8125 -2.9375 5.8125 -1.875 C 5.8125 -0.796875 6.84375 0.21875 7.921875 0.21875 C 8.984375 0.21875 10 -0.796875 10 -1.84375 Z M 8.953125 -1.84375 C 8.953125 -1.234375 8.5625 -0.84375 7.921875 -0.84375 C 7.28125 -0.84375 6.875 -1.234375 6.875 -1.875 C 6.875 -2.5 7.28125 -2.890625 7.90625 -2.890625 C 8.5625 -2.890625 8.953125 -2.5 8.953125 -1.84375 Z M 8.953125 -1.84375 \"/>\n",
       "</symbol>\n",
       "<symbol overflow=\"visible\" id=\"glyph1-7\">\n",
       "<path style=\"stroke:none;\" d=\"M 5.984375 -3.09375 C 5.984375 -5.171875 4.859375 -6.453125 3.125 -6.453125 C 1.4375 -6.453125 0.28125 -5.15625 0.28125 -3.140625 C 0.28125 -1.109375 1.421875 0.171875 3.140625 0.171875 C 4.828125 0.171875 5.984375 -1.109375 5.984375 -3.09375 Z M 4.71875 -3.109375 C 4.71875 -1.6875 4.203125 -0.96875 3.140625 -0.96875 C 2.0625 -0.96875 1.546875 -1.671875 1.546875 -3.140625 C 1.546875 -4.59375 2.0625 -5.3125 3.140625 -5.3125 C 4.21875 -5.3125 4.71875 -4.59375 4.71875 -3.109375 Z M 4.71875 -3.109375 \"/>\n",
       "</symbol>\n",
       "<symbol overflow=\"visible\" id=\"glyph1-8\">\n",
       "<path style=\"stroke:none;\" d=\"M 3.09375 -5.375 L 3.09375 -6.28125 L 2.09375 -6.28125 L 2.09375 -7.09375 C 2.09375 -7.5 2.203125 -7.578125 2.640625 -7.578125 C 2.71875 -7.578125 2.75 -7.578125 3.09375 -7.5625 L 3.09375 -8.59375 C 2.75 -8.65625 2.625 -8.671875 2.421875 -8.671875 C 1.546875 -8.671875 0.875 -8.03125 0.875 -7.171875 L 0.875 -6.28125 L 0.0625 -6.28125 L 0.0625 -5.25 L 0.875 -5.25 L 0.875 0 L 2.09375 0 L 2.09375 -5.25 L 3.09375 -5.25 Z M 3.09375 -5.375 \"/>\n",
       "</symbol>\n",
       "<symbol overflow=\"visible\" id=\"glyph1-9\">\n",
       "<path style=\"stroke:none;\" d=\"M 5.71875 -0.125 L 5.71875 -4.6875 C 5.71875 -5.6875 4.859375 -6.453125 3.6875 -6.453125 C 2.84375 -6.453125 2.21875 -6.15625 1.65625 -5.421875 L 1.890625 -5.328125 L 1.890625 -8.640625 L 0.671875 -8.640625 L 0.671875 0 L 1.890625 0 L 1.890625 -3.453125 C 1.890625 -4.6875 2.40625 -5.359375 3.390625 -5.359375 C 4.078125 -5.359375 4.5 -5.09375 4.5 -4.296875 L 4.5 0 L 5.71875 0 Z M 5.71875 -0.125 \"/>\n",
       "</symbol>\n",
       "<symbol overflow=\"visible\" id=\"glyph1-10\">\n",
       "<path style=\"stroke:none;\" d=\"M 5.40625 -1.8125 C 5.40625 -2.71875 4.765625 -3.28125 3.578125 -3.578125 L 2.65625 -3.796875 C 1.875 -3.984375 1.671875 -4.109375 1.671875 -4.53125 C 1.671875 -5.078125 2.03125 -5.3125 2.8125 -5.3125 C 3.59375 -5.3125 3.859375 -5.109375 3.890625 -4.34375 L 5.15625 -4.34375 C 5.15625 -5.65625 4.25 -6.453125 2.859375 -6.453125 C 1.453125 -6.453125 0.40625 -5.59375 0.40625 -4.484375 C 0.40625 -3.546875 1.03125 -2.96875 2.453125 -2.625 L 3.34375 -2.40625 C 4.015625 -2.25 4.140625 -2.171875 4.140625 -1.734375 C 4.140625 -1.171875 3.71875 -0.96875 2.875 -0.96875 C 2.015625 -0.96875 1.65625 -1.046875 1.5 -2.09375 L 0.25 -2.09375 C 0.296875 -0.578125 1.21875 0.171875 2.796875 0.171875 C 4.3125 0.171875 5.40625 -0.65625 5.40625 -1.8125 Z M 5.40625 -1.8125 \"/>\n",
       "</symbol>\n",
       "<symbol overflow=\"visible\" id=\"glyph1-11\">\n",
       "<path style=\"stroke:none;\" d=\"M 6.03125 -2.859375 C 6.03125 -3.734375 5.953125 -4.296875 5.78125 -4.734375 C 5.390625 -5.734375 4.34375 -6.453125 3.21875 -6.453125 C 1.546875 -6.453125 0.328125 -5.078125 0.328125 -3.109375 C 0.328125 -1.125 1.5 0.171875 3.203125 0.171875 C 4.578125 0.171875 5.65625 -0.734375 5.921875 -2.078125 L 4.71875 -2.078125 C 4.40625 -1.15625 4 -0.96875 3.234375 -0.96875 C 2.234375 -0.96875 1.609375 -1.484375 1.59375 -2.734375 L 6.03125 -2.734375 Z M 4.96875 -3.625 C 4.96875 -3.625 4.765625 -3.765625 4.78125 -3.765625 L 1.625 -3.765625 C 1.6875 -4.71875 2.25 -5.3125 3.203125 -5.3125 C 4.15625 -5.3125 4.734375 -4.65625 4.734375 -3.71875 Z M 4.96875 -3.625 \"/>\n",
       "</symbol>\n",
       "<symbol overflow=\"visible\" id=\"glyph1-12\">\n",
       "<path style=\"stroke:none;\" d=\"M 1.859375 -0.125 L 1.859375 -8.640625 L 0.640625 -8.640625 L 0.640625 0 L 1.859375 0 Z M 1.859375 -0.125 \"/>\n",
       "</symbol>\n",
       "<symbol overflow=\"visible\" id=\"glyph1-13\">\n",
       "<path style=\"stroke:none;\" d=\"M 5.8125 -0.125 L 5.8125 -8.640625 L 4.59375 -8.640625 L 4.59375 -5.390625 L 4.828125 -5.484375 C 4.421875 -6.09375 3.6875 -6.453125 2.890625 -6.453125 C 1.328125 -6.453125 0.15625 -5.125 0.15625 -3.203125 C 0.15625 -1.15625 1.296875 0.171875 2.921875 0.171875 C 3.75 0.171875 4.421875 -0.171875 4.9375 -0.921875 L 4.703125 -1.015625 L 4.703125 0 L 5.8125 0 Z M 4.59375 -3.109375 C 4.59375 -1.71875 4.078125 -0.984375 3.0625 -0.984375 C 2 -0.984375 1.421875 -1.734375 1.421875 -3.140625 C 1.421875 -4.546875 2 -5.296875 3.046875 -5.296875 C 4.078125 -5.296875 4.59375 -4.515625 4.59375 -3.109375 Z M 4.59375 -3.109375 \"/>\n",
       "</symbol>\n",
       "<symbol overflow=\"visible\" id=\"glyph2-0\">\n",
       "<path style=\"stroke:none;\" d=\"\"/>\n",
       "</symbol>\n",
       "<symbol overflow=\"visible\" id=\"glyph2-1\">\n",
       "<path style=\"stroke:none;\" d=\"M -2.328125 -5.484375 L -2.328125 -4.40625 C -1.234375 -4.21875 -0.96875 -3.859375 -0.96875 -3.046875 C -0.96875 -1.984375 -1.65625 -1.484375 -3.078125 -1.484375 C -4.59375 -1.484375 -5.3125 -1.984375 -5.3125 -3.03125 C -5.3125 -3.828125 -4.96875 -4.203125 -4 -4.328125 L -4 -5.546875 C -5.59375 -5.421875 -6.453125 -4.375 -6.453125 -3.03125 C -6.453125 -1.421875 -5.078125 -0.21875 -3.078125 -0.21875 C -1.140625 -0.21875 0.171875 -1.390625 0.171875 -3.03125 C 0.171875 -4.46875 -0.8125 -5.5 -2.328125 -5.625 Z M -2.328125 -5.484375 \"/>\n",
       "</symbol>\n",
       "<symbol overflow=\"visible\" id=\"glyph2-2\">\n",
       "<path style=\"stroke:none;\" d=\"M -0.125 -5.671875 L -6.28125 -5.671875 L -6.28125 -4.453125 L -2.828125 -4.453125 C -1.59375 -4.453125 -0.921875 -3.9375 -0.921875 -2.9375 C -0.921875 -2.1875 -1.25 -1.828125 -1.984375 -1.828125 L -6.28125 -1.828125 L -6.28125 -0.609375 L -1.59375 -0.609375 C -0.59375 -0.609375 0.171875 -1.5 0.171875 -2.671875 C 0.171875 -3.546875 -0.171875 -4.203125 -0.96875 -4.765625 L -1.0625 -4.546875 L 0 -4.546875 L 0 -5.671875 Z M -0.125 -5.671875 \"/>\n",
       "</symbol>\n",
       "<symbol overflow=\"visible\" id=\"glyph2-3\">\n",
       "<path style=\"stroke:none;\" d=\"M -0.125 -8.859375 L -4.640625 -8.859375 C -5.734375 -8.859375 -6.453125 -8.140625 -6.453125 -7.015625 C -6.453125 -6.203125 -6.171875 -5.625 -5.640625 -5.171875 C -6.140625 -4.90625 -6.453125 -4.328125 -6.453125 -3.546875 C -6.453125 -2.734375 -6.125 -2.109375 -5.390625 -1.59375 L -5.296875 -1.8125 L -6.28125 -1.8125 L -6.28125 -0.671875 L 0 -0.671875 L 0 -1.890625 L -3.90625 -1.890625 C -4.78125 -1.890625 -5.359375 -2.40625 -5.359375 -3.1875 C -5.359375 -3.90625 -5.046875 -4.15625 -4.28125 -4.15625 L 0 -4.15625 L 0 -5.375 L -3.90625 -5.375 C -4.78125 -5.375 -5.359375 -5.90625 -5.359375 -6.6875 C -5.359375 -7.390625 -5.03125 -7.640625 -4.28125 -7.640625 L 0 -7.640625 L 0 -8.859375 Z M -0.125 -8.859375 \"/>\n",
       "</symbol>\n",
       "<symbol overflow=\"visible\" id=\"glyph2-4\">\n",
       "<path style=\"stroke:none;\" d=\"M -0.125 -2.328125 L -1.453125 -2.328125 L -1.453125 -0.859375 L 0 -0.859375 L 0 -2.328125 Z M -0.125 -2.328125 \"/>\n",
       "</symbol>\n",
       "<symbol overflow=\"visible\" id=\"glyph2-5\">\n",
       "<path style=\"stroke:none;\" d=\"\"/>\n",
       "</symbol>\n",
       "<symbol overflow=\"visible\" id=\"glyph2-6\">\n",
       "<path style=\"stroke:none;\" d=\"M -6.015625 -4.375 C -7.125 -4.375 -8.125 -3.390625 -8.125 -2.28125 C -8.125 -1.21875 -7.125 -0.203125 -6.03125 -0.203125 C -4.953125 -0.203125 -3.9375 -1.21875 -3.9375 -2.296875 C -3.9375 -3.375 -4.953125 -4.375 -6.015625 -4.375 Z M -6.03125 -3.328125 C -5.390625 -3.328125 -5 -2.9375 -5 -2.296875 C -5 -1.65625 -5.40625 -1.25 -6.03125 -1.25 C -6.6875 -1.25 -7.078125 -1.65625 -7.078125 -2.28125 C -7.078125 -2.9375 -6.6875 -3.328125 -6.03125 -3.328125 Z M -8.40625 -7.765625 L -8.40625 -6.921875 L 0.234375 -2.25 L 0.234375 -3.28125 L -8.40625 -7.96875 Z M -1.84375 -10 C -2.953125 -10 -3.953125 -9.015625 -3.953125 -7.90625 C -3.953125 -6.84375 -2.9375 -5.8125 -1.875 -5.8125 C -0.796875 -5.8125 0.21875 -6.84375 0.21875 -7.921875 C 0.21875 -8.984375 -0.796875 -10 -1.84375 -10 Z M -1.84375 -8.953125 C -1.234375 -8.953125 -0.84375 -8.5625 -0.84375 -7.921875 C -0.84375 -7.28125 -1.234375 -6.875 -1.875 -6.875 C -2.5 -6.875 -2.890625 -7.28125 -2.890625 -7.90625 C -2.890625 -8.5625 -2.5 -8.953125 -1.84375 -8.953125 Z M -1.84375 -8.953125 \"/>\n",
       "</symbol>\n",
       "<symbol overflow=\"visible\" id=\"glyph2-7\">\n",
       "<path style=\"stroke:none;\" d=\"M -3.09375 -5.984375 C -5.171875 -5.984375 -6.453125 -4.859375 -6.453125 -3.125 C -6.453125 -1.4375 -5.15625 -0.28125 -3.140625 -0.28125 C -1.109375 -0.28125 0.171875 -1.421875 0.171875 -3.140625 C 0.171875 -4.828125 -1.109375 -5.984375 -3.09375 -5.984375 Z M -3.109375 -4.71875 C -1.6875 -4.71875 -0.96875 -4.203125 -0.96875 -3.140625 C -0.96875 -2.0625 -1.671875 -1.546875 -3.140625 -1.546875 C -4.59375 -1.546875 -5.3125 -2.0625 -5.3125 -3.140625 C -5.3125 -4.21875 -4.59375 -4.71875 -3.109375 -4.71875 Z M -3.109375 -4.71875 \"/>\n",
       "</symbol>\n",
       "<symbol overflow=\"visible\" id=\"glyph2-8\">\n",
       "<path style=\"stroke:none;\" d=\"M -0.125 -5.734375 L -4.6875 -5.734375 C -5.6875 -5.734375 -6.453125 -4.859375 -6.453125 -3.6875 C -6.453125 -2.796875 -6.078125 -2.109375 -5.234375 -1.59375 L -5.140625 -1.8125 L -6.28125 -1.8125 L -6.28125 -0.671875 L 0 -0.671875 L 0 -1.890625 L -3.453125 -1.890625 C -4.6875 -1.890625 -5.359375 -2.421875 -5.359375 -3.40625 C -5.359375 -4.15625 -5.03125 -4.515625 -4.296875 -4.515625 L 0 -4.515625 L 0 -5.734375 Z M -0.125 -5.734375 \"/>\n",
       "</symbol>\n",
       "<symbol overflow=\"visible\" id=\"glyph2-9\">\n",
       "<path style=\"stroke:none;\" d=\"M -1.8125 -5.40625 C -2.71875 -5.40625 -3.28125 -4.765625 -3.578125 -3.578125 L -3.796875 -2.65625 C -3.984375 -1.875 -4.109375 -1.671875 -4.53125 -1.671875 C -5.078125 -1.671875 -5.3125 -2.03125 -5.3125 -2.8125 C -5.3125 -3.59375 -5.109375 -3.859375 -4.34375 -3.890625 L -4.34375 -5.15625 C -5.65625 -5.15625 -6.453125 -4.25 -6.453125 -2.859375 C -6.453125 -1.453125 -5.59375 -0.40625 -4.484375 -0.40625 C -3.546875 -0.40625 -2.96875 -1.03125 -2.625 -2.453125 L -2.40625 -3.34375 C -2.25 -4.015625 -2.171875 -4.140625 -1.734375 -4.140625 C -1.171875 -4.140625 -0.96875 -3.71875 -0.96875 -2.875 C -0.96875 -2.015625 -1.046875 -1.65625 -2.09375 -1.5 L -2.09375 -0.25 C -0.578125 -0.296875 0.171875 -1.21875 0.171875 -2.796875 C 0.171875 -4.3125 -0.65625 -5.40625 -1.8125 -5.40625 Z M -1.8125 -5.40625 \"/>\n",
       "</symbol>\n",
       "<symbol overflow=\"visible\" id=\"glyph2-10\">\n",
       "<path style=\"stroke:none;\" d=\"M -8.640625 -3.265625 L -8.640625 -2.546875 L 0.234375 0.28125 L 0.234375 -0.625 L -8.640625 -3.4375 Z M -8.640625 -3.265625 \"/>\n",
       "</symbol>\n",
       "<symbol overflow=\"visible\" id=\"glyph2-11\">\n",
       "<path style=\"stroke:none;\" d=\"M -3.078125 -6.140625 C -5.109375 -6.140625 -6.453125 -5.03125 -6.453125 -3.421875 C -6.453125 -2.609375 -6.046875 -1.84375 -5.34375 -1.40625 L -5.25 -1.640625 L -6.28125 -1.640625 L -6.28125 -0.5 L 2.5 -0.5 L 2.5 -1.71875 L -0.84375 -1.71875 L -0.765625 -1.484375 C -0.140625 -1.984375 0.171875 -2.65625 0.171875 -3.4375 C 0.171875 -4.984375 -1.15625 -6.140625 -3.078125 -6.140625 Z M -3.109375 -4.875 C -1.734375 -4.875 -0.984375 -4.3125 -0.984375 -3.265625 C -0.984375 -2.25 -1.671875 -1.71875 -3.09375 -1.71875 C -4.515625 -1.71875 -5.296875 -2.25 -5.296875 -3.265625 C -5.296875 -4.328125 -4.546875 -4.875 -3.109375 -4.875 Z M -3.109375 -4.875 \"/>\n",
       "</symbol>\n",
       "<symbol overflow=\"visible\" id=\"glyph2-12\">\n",
       "<path style=\"stroke:none;\" d=\"M -2.859375 -6.03125 C -3.734375 -6.03125 -4.296875 -5.953125 -4.734375 -5.78125 C -5.734375 -5.390625 -6.453125 -4.34375 -6.453125 -3.21875 C -6.453125 -1.546875 -5.078125 -0.328125 -3.109375 -0.328125 C -1.125 -0.328125 0.171875 -1.5 0.171875 -3.203125 C 0.171875 -4.578125 -0.734375 -5.65625 -2.078125 -5.921875 L -2.078125 -4.71875 C -1.15625 -4.40625 -0.96875 -4 -0.96875 -3.234375 C -0.96875 -2.234375 -1.484375 -1.609375 -2.734375 -1.59375 L -2.734375 -6.03125 Z M -3.625 -4.96875 C -3.625 -4.96875 -3.765625 -4.765625 -3.765625 -4.78125 L -3.765625 -1.625 C -4.71875 -1.6875 -5.3125 -2.25 -5.3125 -3.203125 C -5.3125 -4.15625 -4.65625 -4.734375 -3.71875 -4.734375 Z M -3.625 -4.96875 \"/>\n",
       "</symbol>\n",
       "<symbol overflow=\"visible\" id=\"glyph2-13\">\n",
       "<path style=\"stroke:none;\" d=\"M -5.3125 -3.8125 L -6.40625 -3.8125 C -6.4375 -3.53125 -6.453125 -3.453125 -6.453125 -3.328125 C -6.453125 -2.703125 -6.046875 -2.125 -5.15625 -1.578125 L -5.0625 -1.8125 L -6.28125 -1.8125 L -6.28125 -0.671875 L 0 -0.671875 L 0 -1.890625 L -3.25 -1.890625 C -4.609375 -1.890625 -5.15625 -2.203125 -5.1875 -3.8125 Z M -5.3125 -3.8125 \"/>\n",
       "</symbol>\n",
       "<symbol overflow=\"visible\" id=\"glyph2-14\">\n",
       "<path style=\"stroke:none;\" d=\"M -0.15625 -6.28125 L -1.03125 -6.28125 C -0.984375 -6.046875 -0.984375 -6 -0.984375 -5.953125 C -0.984375 -5.609375 -1.03125 -5.546875 -1.328125 -5.546875 L -4.6875 -5.546875 C -5.75 -5.546875 -6.453125 -4.640625 -6.453125 -3.15625 C -6.453125 -1.703125 -5.765625 -0.671875 -4.25 -0.609375 L -4.25 -1.828125 C -5.109375 -1.921875 -5.3125 -2.234375 -5.3125 -3.125 C -5.3125 -3.984375 -5.125 -4.328125 -4.546875 -4.328125 L -4.296875 -4.328125 C -3.890625 -4.328125 -3.84375 -4.234375 -3.75 -3.46875 C -3.578125 -2.109375 -3.53125 -1.90625 -3.375 -1.546875 C -3.09375 -0.84375 -2.421875 -0.34375 -1.6875 -0.34375 C -0.59375 -0.34375 0.171875 -1.234375 0.171875 -2.46875 C 0.171875 -3.234375 -0.1875 -4.078125 -0.578125 -4.421875 C -0.375 -4.46875 0.078125 -5.03125 0.078125 -5.5 C 0.078125 -5.6875 0.0625 -5.84375 -0.046875 -6.28125 Z M -2.203125 -4.328125 C -1.34375 -4.328125 -0.921875 -3.59375 -0.921875 -2.671875 C -0.921875 -1.921875 -1.0625 -1.609375 -1.71875 -1.609375 C -2.34375 -1.609375 -2.5 -1.90625 -2.640625 -2.9375 C -2.78125 -3.9375 -2.828125 -4.15625 -2.90625 -4.328125 Z M -2.203125 -4.328125 \"/>\n",
       "</symbol>\n",
       "<symbol overflow=\"visible\" id=\"glyph3-0\">\n",
       "<path style=\"stroke:none;\" d=\"\"/>\n",
       "</symbol>\n",
       "<symbol overflow=\"visible\" id=\"glyph3-1\">\n",
       "<path style=\"stroke:none;\" d=\"M 7.421875 -0.125 L 7.421875 -1.390625 L 2.5 -1.390625 L 2.5 -10.25 L 0.953125 -10.25 L 0.953125 0 L 7.421875 0 Z M 7.421875 -0.125 \"/>\n",
       "</symbol>\n",
       "<symbol overflow=\"visible\" id=\"glyph3-2\">\n",
       "<path style=\"stroke:none;\" d=\"M 7.109375 -3.65625 C 7.109375 -6.140625 5.796875 -7.640625 3.734375 -7.640625 C 1.71875 -7.640625 0.359375 -6.125 0.359375 -3.71875 C 0.359375 -1.296875 1.703125 0.203125 3.734375 0.203125 C 5.75 0.203125 7.109375 -1.296875 7.109375 -3.65625 Z M 5.65625 -3.671875 C 5.65625 -1.984375 5 -1.109375 3.734375 -1.109375 C 2.46875 -1.109375 1.8125 -1.96875 1.8125 -3.71875 C 1.8125 -5.4375 2.46875 -6.328125 3.734375 -6.328125 C 5.03125 -6.328125 5.65625 -5.453125 5.65625 -3.671875 Z M 5.65625 -3.671875 \"/>\n",
       "</symbol>\n",
       "<symbol overflow=\"visible\" id=\"glyph3-3\">\n",
       "<path style=\"stroke:none;\" d=\"M 4.515625 -6.296875 L 4.515625 -7.59375 C 4.203125 -7.625 4.109375 -7.640625 3.953125 -7.640625 C 3.21875 -7.640625 2.5625 -7.171875 1.90625 -6.09375 L 2.125 -6 L 2.125 -7.4375 L 0.828125 -7.4375 L 0.828125 0 L 2.21875 0 L 2.21875 -3.84375 C 2.21875 -5.46875 2.625 -6.15625 4.515625 -6.1875 Z M 4.515625 -6.296875 \"/>\n",
       "</symbol>\n",
       "<symbol overflow=\"visible\" id=\"glyph3-4\">\n",
       "<path style=\"stroke:none;\" d=\"M 7.15625 -3.390625 C 7.15625 -4.421875 7.078125 -5.078125 6.859375 -5.625 C 6.40625 -6.796875 5.1875 -7.640625 3.84375 -7.640625 C 1.84375 -7.640625 0.40625 -6.03125 0.40625 -3.671875 C 0.40625 -1.3125 1.796875 0.203125 3.8125 0.203125 C 5.453125 0.203125 6.71875 -0.84375 7.03125 -2.4375 L 5.625 -2.4375 C 5.28125 -1.359375 4.765625 -1.109375 3.84375 -1.109375 C 2.65625 -1.109375 1.890625 -1.734375 1.859375 -3.265625 L 7.15625 -3.265625 Z M 5.890625 -4.296875 C 5.890625 -4.296875 5.71875 -4.4375 5.71875 -4.453125 L 1.90625 -4.453125 C 1.984375 -5.59375 2.671875 -6.328125 3.828125 -6.328125 C 4.953125 -6.328125 5.671875 -5.515625 5.671875 -4.40625 Z M 5.890625 -4.296875 \"/>\n",
       "</symbol>\n",
       "<symbol overflow=\"visible\" id=\"glyph3-5\">\n",
       "<path style=\"stroke:none;\" d=\"M 6.796875 -0.125 L 6.796875 -5.546875 C 6.796875 -6.734375 5.78125 -7.640625 4.40625 -7.640625 C 3.328125 -7.640625 2.546875 -7.1875 1.921875 -6.1875 L 2.140625 -6.09375 L 2.140625 -7.4375 L 0.828125 -7.4375 L 0.828125 0 L 2.21875 0 L 2.21875 -4.078125 C 2.21875 -5.546875 2.890625 -6.390625 4.0625 -6.390625 C 4.953125 -6.390625 5.40625 -5.953125 5.40625 -5.09375 L 5.40625 0 L 6.796875 0 Z M 6.796875 -0.125 \"/>\n",
       "</symbol>\n",
       "<symbol overflow=\"visible\" id=\"glyph3-6\">\n",
       "<path style=\"stroke:none;\" d=\"M 6.390625 -0.125 L 6.390625 -1.265625 L 2.078125 -1.265625 L 6.1875 -6.25 L 6.1875 -7.4375 L 0.578125 -7.4375 L 0.578125 -6.1875 L 4.421875 -6.1875 L 0.28125 -1.203125 L 0.28125 0 L 6.390625 0 Z M 6.390625 -0.125 \"/>\n",
       "</symbol>\n",
       "<symbol overflow=\"visible\" id=\"glyph3-7\">\n",
       "<path style=\"stroke:none;\" d=\"\"/>\n",
       "</symbol>\n",
       "<symbol overflow=\"visible\" id=\"glyph3-8\">\n",
       "<path style=\"stroke:none;\" d=\"M 6.53125 -2.734375 L 5.265625 -2.734375 C 5.0625 -1.4375 4.609375 -1.109375 3.625 -1.109375 C 2.375 -1.109375 1.734375 -1.953125 1.734375 -3.640625 C 1.734375 -5.4375 2.359375 -6.328125 3.609375 -6.328125 C 4.5625 -6.328125 5.03125 -5.890625 5.1875 -4.765625 L 6.59375 -4.765625 C 6.4375 -6.640625 5.21875 -7.640625 3.625 -7.640625 C 1.6875 -7.640625 0.28125 -6.03125 0.28125 -3.640625 C 0.28125 -1.328125 1.65625 0.203125 3.609375 0.203125 C 5.3125 0.203125 6.515625 -0.953125 6.671875 -2.734375 Z M 6.53125 -2.734375 \"/>\n",
       "</symbol>\n",
       "<symbol overflow=\"visible\" id=\"glyph3-9\">\n",
       "<path style=\"stroke:none;\" d=\"M 6.734375 -0.125 L 6.734375 -7.4375 L 5.328125 -7.4375 L 5.328125 -3.34375 C 5.328125 -1.875 4.703125 -1.0625 3.515625 -1.0625 C 2.609375 -1.0625 2.15625 -1.46875 2.15625 -2.328125 L 2.15625 -7.4375 L 0.75 -7.4375 L 0.75 -1.875 C 0.75 -0.6875 1.78125 0.203125 3.171875 0.203125 C 4.234375 0.203125 4.984375 -0.1875 5.65625 -1.140625 L 5.4375 -1.234375 L 5.4375 0 L 6.734375 0 Z M 6.734375 -0.125 \"/>\n",
       "</symbol>\n",
       "<symbol overflow=\"visible\" id=\"glyph3-10\">\n",
       "<path style=\"stroke:none;\" d=\"M 6.65625 -7.4375 L 5.28125 -7.4375 L 3.203125 -1.484375 L 3.46875 -1.484375 L 1.5 -7.4375 L -0.0625 -7.4375 L 2.5625 0 L 3.984375 0 L 6.84375 -7.4375 Z M 6.65625 -7.4375 \"/>\n",
       "</symbol>\n",
       "</g>\n",
       "<clipPath id=\"clip1\">\n",
       "  <path d=\"M 41.882812 24.207031 L 283 24.207031 L 283 184 L 41.882812 184 Z M 41.882812 24.207031 \"/>\n",
       "</clipPath>\n",
       "<clipPath id=\"clip2\">\n",
       "  <path d=\"M 41.882812 157 L 283 157 L 283 159 L 41.882812 159 Z M 41.882812 157 \"/>\n",
       "</clipPath>\n",
       "<clipPath id=\"clip3\">\n",
       "  <path d=\"M 41.882812 121 L 283 121 L 283 123 L 41.882812 123 Z M 41.882812 121 \"/>\n",
       "</clipPath>\n",
       "<clipPath id=\"clip4\">\n",
       "  <path d=\"M 41.882812 85 L 283 85 L 283 86 L 41.882812 86 Z M 41.882812 85 \"/>\n",
       "</clipPath>\n",
       "<clipPath id=\"clip5\">\n",
       "  <path d=\"M 41.882812 49 L 283 49 L 283 50 L 41.882812 50 Z M 41.882812 49 \"/>\n",
       "</clipPath>\n",
       "<clipPath id=\"clip6\">\n",
       "  <path d=\"M 79 24.207031 L 81 24.207031 L 81 184 L 79 184 Z M 79 24.207031 \"/>\n",
       "</clipPath>\n",
       "<clipPath id=\"clip7\">\n",
       "  <path d=\"M 134 24.207031 L 136 24.207031 L 136 184 L 134 184 Z M 134 24.207031 \"/>\n",
       "</clipPath>\n",
       "<clipPath id=\"clip8\">\n",
       "  <path d=\"M 189 24.207031 L 190 24.207031 L 190 184 L 189 184 Z M 189 24.207031 \"/>\n",
       "</clipPath>\n",
       "<clipPath id=\"clip9\">\n",
       "  <path d=\"M 243 24.207031 L 245 24.207031 L 245 184 L 243 184 Z M 243 24.207031 \"/>\n",
       "</clipPath>\n",
       "<clipPath id=\"clip10\">\n",
       "  <path d=\"M 41.882812 175 L 283.519531 175 L 283.519531 177 L 41.882812 177 Z M 41.882812 175 \"/>\n",
       "</clipPath>\n",
       "<clipPath id=\"clip11\">\n",
       "  <path d=\"M 41.882812 139 L 283.519531 139 L 283.519531 141 L 41.882812 141 Z M 41.882812 139 \"/>\n",
       "</clipPath>\n",
       "<clipPath id=\"clip12\">\n",
       "  <path d=\"M 41.882812 102 L 283.519531 102 L 283.519531 105 L 41.882812 105 Z M 41.882812 102 \"/>\n",
       "</clipPath>\n",
       "<clipPath id=\"clip13\">\n",
       "  <path d=\"M 41.882812 66 L 283.519531 66 L 283.519531 69 L 41.882812 69 Z M 41.882812 66 \"/>\n",
       "</clipPath>\n",
       "<clipPath id=\"clip14\">\n",
       "  <path d=\"M 41.882812 30 L 283.519531 30 L 283.519531 33 L 41.882812 33 Z M 41.882812 30 \"/>\n",
       "</clipPath>\n",
       "<clipPath id=\"clip15\">\n",
       "  <path d=\"M 52 24.207031 L 54 24.207031 L 54 184 L 52 184 Z M 52 24.207031 \"/>\n",
       "</clipPath>\n",
       "<clipPath id=\"clip16\">\n",
       "  <path d=\"M 106 24.207031 L 109 24.207031 L 109 184 L 106 184 Z M 106 24.207031 \"/>\n",
       "</clipPath>\n",
       "<clipPath id=\"clip17\">\n",
       "  <path d=\"M 161 24.207031 L 163 24.207031 L 163 184 L 161 184 Z M 161 24.207031 \"/>\n",
       "</clipPath>\n",
       "<clipPath id=\"clip18\">\n",
       "  <path d=\"M 216 24.207031 L 218 24.207031 L 218 184 L 216 184 Z M 216 24.207031 \"/>\n",
       "</clipPath>\n",
       "<clipPath id=\"clip19\">\n",
       "  <path d=\"M 270 24.207031 L 273 24.207031 L 273 184 L 270 184 Z M 270 24.207031 \"/>\n",
       "</clipPath>\n",
       "<clipPath id=\"clip20\">\n",
       "  <path d=\"M 41.882812 24.207031 L 283.519531 24.207031 L 283.519531 184 L 41.882812 184 Z M 41.882812 24.207031 \"/>\n",
       "</clipPath>\n",
       "</defs>\n",
       "<g id=\"surface1679\">\n",
       "<rect x=\"0\" y=\"0\" width=\"288\" height=\"216\" style=\"fill:rgb(100%,100%,100%);fill-opacity:1;stroke:none;\"/>\n",
       "<rect x=\"0\" y=\"0\" width=\"288\" height=\"216\" style=\"fill:rgb(100%,100%,100%);fill-opacity:1;stroke:none;\"/>\n",
       "<path style=\"fill:none;stroke-width:1.422638;stroke-linecap:round;stroke-linejoin:round;stroke:rgb(100%,100%,100%);stroke-opacity:1;stroke-miterlimit:10;\" d=\"M 0 0 L 288 0 L 288 216 L 0 216 Z M 0 0 \"/>\n",
       "<g clip-path=\"url(#clip1)\" clip-rule=\"nonzero\">\n",
       "<path style=\" stroke:none;fill-rule:nonzero;fill:rgb(92.156863%,92.156863%,92.156863%);fill-opacity:1;\" d=\"M 41.882812 24.207031 L 282.519531 24.207031 L 282.519531 183.144531 L 41.882812 183.144531 Z M 41.882812 24.207031 \"/>\n",
       "</g>\n",
       "<g clip-path=\"url(#clip2)\" clip-rule=\"nonzero\">\n",
       "<path style=\"fill:none;stroke-width:0.711319;stroke-linecap:butt;stroke-linejoin:round;stroke:rgb(100%,100%,100%);stroke-opacity:1;stroke-miterlimit:10;\" d=\"M 41.882812 157.859375 L 282.519531 157.859375 \"/>\n",
       "</g>\n",
       "<g clip-path=\"url(#clip3)\" clip-rule=\"nonzero\">\n",
       "<path style=\"fill:none;stroke-width:0.711319;stroke-linecap:butt;stroke-linejoin:round;stroke:rgb(100%,100%,100%);stroke-opacity:1;stroke-miterlimit:10;\" d=\"M 41.882812 121.738281 L 282.519531 121.738281 \"/>\n",
       "</g>\n",
       "<g clip-path=\"url(#clip4)\" clip-rule=\"nonzero\">\n",
       "<path style=\"fill:none;stroke-width:0.711319;stroke-linecap:butt;stroke-linejoin:round;stroke:rgb(100%,100%,100%);stroke-opacity:1;stroke-miterlimit:10;\" d=\"M 41.882812 85.617188 L 282.519531 85.617188 \"/>\n",
       "</g>\n",
       "<g clip-path=\"url(#clip5)\" clip-rule=\"nonzero\">\n",
       "<path style=\"fill:none;stroke-width:0.711319;stroke-linecap:butt;stroke-linejoin:round;stroke:rgb(100%,100%,100%);stroke-opacity:1;stroke-miterlimit:10;\" d=\"M 41.882812 49.496094 L 282.519531 49.496094 \"/>\n",
       "</g>\n",
       "<g clip-path=\"url(#clip6)\" clip-rule=\"nonzero\">\n",
       "<path style=\"fill:none;stroke-width:0.711319;stroke-linecap:butt;stroke-linejoin:round;stroke:rgb(100%,100%,100%);stroke-opacity:1;stroke-miterlimit:10;\" d=\"M 80.144531 183.144531 L 80.144531 24.207031 \"/>\n",
       "</g>\n",
       "<g clip-path=\"url(#clip7)\" clip-rule=\"nonzero\">\n",
       "<path style=\"fill:none;stroke-width:0.711319;stroke-linecap:butt;stroke-linejoin:round;stroke:rgb(100%,100%,100%);stroke-opacity:1;stroke-miterlimit:10;\" d=\"M 134.839844 183.144531 L 134.839844 24.207031 \"/>\n",
       "</g>\n",
       "<g clip-path=\"url(#clip8)\" clip-rule=\"nonzero\">\n",
       "<path style=\"fill:none;stroke-width:0.711319;stroke-linecap:butt;stroke-linejoin:round;stroke:rgb(100%,100%,100%);stroke-opacity:1;stroke-miterlimit:10;\" d=\"M 189.539062 183.144531 L 189.539062 24.207031 \"/>\n",
       "</g>\n",
       "<g clip-path=\"url(#clip9)\" clip-rule=\"nonzero\">\n",
       "<path style=\"fill:none;stroke-width:0.711319;stroke-linecap:butt;stroke-linejoin:round;stroke:rgb(100%,100%,100%);stroke-opacity:1;stroke-miterlimit:10;\" d=\"M 244.234375 183.144531 L 244.234375 24.207031 \"/>\n",
       "</g>\n",
       "<g clip-path=\"url(#clip10)\" clip-rule=\"nonzero\">\n",
       "<path style=\"fill:none;stroke-width:1.422638;stroke-linecap:butt;stroke-linejoin:round;stroke:rgb(100%,100%,100%);stroke-opacity:1;stroke-miterlimit:10;\" d=\"M 41.882812 175.921875 L 282.519531 175.921875 \"/>\n",
       "</g>\n",
       "<g clip-path=\"url(#clip11)\" clip-rule=\"nonzero\">\n",
       "<path style=\"fill:none;stroke-width:1.422638;stroke-linecap:butt;stroke-linejoin:round;stroke:rgb(100%,100%,100%);stroke-opacity:1;stroke-miterlimit:10;\" d=\"M 41.882812 139.800781 L 282.519531 139.800781 \"/>\n",
       "</g>\n",
       "<g clip-path=\"url(#clip12)\" clip-rule=\"nonzero\">\n",
       "<path style=\"fill:none;stroke-width:1.422638;stroke-linecap:butt;stroke-linejoin:round;stroke:rgb(100%,100%,100%);stroke-opacity:1;stroke-miterlimit:10;\" d=\"M 41.882812 103.675781 L 282.519531 103.675781 \"/>\n",
       "</g>\n",
       "<g clip-path=\"url(#clip13)\" clip-rule=\"nonzero\">\n",
       "<path style=\"fill:none;stroke-width:1.422638;stroke-linecap:butt;stroke-linejoin:round;stroke:rgb(100%,100%,100%);stroke-opacity:1;stroke-miterlimit:10;\" d=\"M 41.882812 67.554688 L 282.519531 67.554688 \"/>\n",
       "</g>\n",
       "<g clip-path=\"url(#clip14)\" clip-rule=\"nonzero\">\n",
       "<path style=\"fill:none;stroke-width:1.422638;stroke-linecap:butt;stroke-linejoin:round;stroke:rgb(100%,100%,100%);stroke-opacity:1;stroke-miterlimit:10;\" d=\"M 41.882812 31.433594 L 282.519531 31.433594 \"/>\n",
       "</g>\n",
       "<g clip-path=\"url(#clip15)\" clip-rule=\"nonzero\">\n",
       "<path style=\"fill:none;stroke-width:1.422638;stroke-linecap:butt;stroke-linejoin:round;stroke:rgb(100%,100%,100%);stroke-opacity:1;stroke-miterlimit:10;\" d=\"M 52.796875 183.144531 L 52.796875 24.207031 \"/>\n",
       "</g>\n",
       "<g clip-path=\"url(#clip16)\" clip-rule=\"nonzero\">\n",
       "<path style=\"fill:none;stroke-width:1.422638;stroke-linecap:butt;stroke-linejoin:round;stroke:rgb(100%,100%,100%);stroke-opacity:1;stroke-miterlimit:10;\" d=\"M 107.492188 183.144531 L 107.492188 24.207031 \"/>\n",
       "</g>\n",
       "<g clip-path=\"url(#clip17)\" clip-rule=\"nonzero\">\n",
       "<path style=\"fill:none;stroke-width:1.422638;stroke-linecap:butt;stroke-linejoin:round;stroke:rgb(100%,100%,100%);stroke-opacity:1;stroke-miterlimit:10;\" d=\"M 162.1875 183.144531 L 162.1875 24.207031 \"/>\n",
       "</g>\n",
       "<g clip-path=\"url(#clip18)\" clip-rule=\"nonzero\">\n",
       "<path style=\"fill:none;stroke-width:1.422638;stroke-linecap:butt;stroke-linejoin:round;stroke:rgb(100%,100%,100%);stroke-opacity:1;stroke-miterlimit:10;\" d=\"M 216.886719 183.144531 L 216.886719 24.207031 \"/>\n",
       "</g>\n",
       "<g clip-path=\"url(#clip19)\" clip-rule=\"nonzero\">\n",
       "<path style=\"fill:none;stroke-width:1.422638;stroke-linecap:butt;stroke-linejoin:round;stroke:rgb(100%,100%,100%);stroke-opacity:1;stroke-miterlimit:10;\" d=\"M 271.582031 183.144531 L 271.582031 24.207031 \"/>\n",
       "</g>\n",
       "<path style=\"fill:none;stroke-width:1.422638;stroke-linecap:butt;stroke-linejoin:round;stroke:rgb(0%,0%,0%);stroke-opacity:1;stroke-miterlimit:10;\" d=\"M 52.820312 175.921875 L 54.226562 175.921875 L 54.253906 175.917969 L 55.023438 175.917969 L 55.042969 175.914062 L 55.511719 175.914062 L 55.542969 175.910156 L 55.988281 175.910156 L 56.019531 175.90625 L 56.445312 175.90625 L 56.457031 175.902344 L 56.867188 175.902344 L 56.898438 175.898438 L 57.238281 175.898438 L 57.265625 175.894531 L 57.613281 175.894531 L 57.632812 175.890625 L 57.980469 175.890625 L 58.035156 175.886719 L 58.25 175.886719 L 58.304688 175.882812 L 58.558594 175.882812 L 58.609375 175.878906 L 58.863281 175.878906 L 58.9375 175.875 L 59.136719 175.875 L 59.167969 175.871094 L 59.359375 175.871094 L 59.40625 175.867188 L 59.625 175.867188 L 59.640625 175.863281 L 59.859375 175.863281 L 59.90625 175.859375 L 60.058594 175.859375 L 60.109375 175.855469 L 60.296875 175.855469 L 60.355469 175.851562 L 60.523438 175.851562 L 60.546875 175.847656 L 60.707031 175.847656 L 60.734375 175.84375 L 60.945312 175.84375 L 60.992188 175.839844 L 61.140625 175.839844 L 61.164062 175.835938 L 61.363281 175.835938 L 61.394531 175.832031 L 61.539062 175.832031 L 61.570312 175.828125 L 61.78125 175.828125 L 61.839844 175.824219 L 61.988281 175.824219 L 62.03125 175.820312 L 62.1875 175.820312 L 62.21875 175.816406 L 62.351562 175.816406 L 62.378906 175.8125 L 62.519531 175.8125 L 62.53125 175.808594 L 62.621094 175.808594 L 62.660156 175.804688 L 62.785156 175.804688 L 62.828125 175.800781 L 62.964844 175.800781 L 62.988281 175.796875 L 63.085938 175.796875 L 63.128906 175.792969 L 63.226562 175.792969 L 63.269531 175.789062 L 63.386719 175.789062 L 63.417969 175.785156 L 63.527344 175.785156 L 63.574219 175.78125 L 63.675781 175.78125 L 63.707031 175.777344 L 63.8125 175.777344 L 63.832031 175.773438 L 63.976562 175.773438 L 64.027344 175.769531 L 64.121094 175.769531 L 64.136719 175.765625 L 64.214844 175.765625 L 64.246094 175.761719 L 64.324219 175.761719 L 64.355469 175.757812 L 64.421875 175.757812 L 64.441406 175.753906 L 64.535156 175.753906 L 64.589844 175.75 L 64.652344 175.75 L 64.671875 175.746094 L 64.75 175.746094 L 64.769531 175.742188 L 64.832031 175.742188 L 64.894531 175.738281 L 64.96875 175.738281 L 65 175.734375 L 65.101562 175.734375 L 65.132812 175.730469 L 65.183594 175.730469 L 65.230469 175.726562 L 65.320312 175.726562 L 65.347656 175.722656 L 65.4375 175.722656 L 65.460938 175.71875 L 65.511719 175.71875 L 65.546875 175.714844 L 65.609375 175.714844 L 65.636719 175.710938 L 65.710938 175.710938 L 65.757812 175.707031 L 65.800781 175.707031 L 65.839844 175.703125 L 65.886719 175.703125 L 65.917969 175.699219 L 65.960938 175.699219 L 65.988281 175.695312 L 66.105469 175.695312 L 66.128906 175.691406 L 66.199219 175.691406 L 66.269531 175.6875 L 66.339844 175.6875 L 66.367188 175.683594 L 66.4375 175.683594 L 66.476562 175.679688 L 66.535156 175.679688 L 66.558594 175.675781 L 66.605469 175.675781 L 66.65625 175.671875 L 66.675781 175.671875 L 66.707031 175.667969 L 66.785156 175.667969 L 66.796875 175.664062 L 66.886719 175.664062 L 66.917969 175.660156 L 66.984375 175.660156 L 67.042969 175.65625 L 67.074219 175.65625 L 67.105469 175.652344 L 67.183594 175.652344 L 67.214844 175.648438 L 67.273438 175.648438 L 67.304688 175.644531 L 67.363281 175.644531 L 67.394531 175.640625 L 67.445312 175.640625 L 67.511719 175.636719 L 67.5625 175.636719 L 67.671875 175.632812 L 67.75 175.632812 L 67.792969 175.628906 L 67.820312 175.628906 L 67.863281 175.625 L 67.949219 175.625 L 67.964844 175.621094 L 68.003906 175.621094 L 68.0625 175.617188 L 68.09375 175.617188 L 68.160156 175.613281 L 68.210938 175.613281 L 68.222656 175.609375 L 68.28125 175.609375 L 68.308594 175.605469 L 68.363281 175.605469 L 68.421875 175.601562 L 68.46875 175.601562 L 68.492188 175.597656 L 68.558594 175.597656 L 68.570312 175.59375 L 68.671875 175.59375 L 68.707031 175.589844 L 68.71875 175.589844 L 68.742188 175.585938 L 68.789062 175.585938 L 68.800781 175.582031 L 68.871094 175.582031 L 68.890625 175.578125 L 68.917969 175.578125 L 68.941406 175.574219 L 69.03125 175.574219 L 69.097656 175.570312 L 69.117188 175.570312 L 69.148438 175.566406 L 69.1875 175.566406 L 69.21875 175.5625 L 69.269531 175.5625 L 69.320312 175.558594 L 69.347656 175.558594 L 69.386719 175.554688 L 69.410156 175.554688 L 69.496094 175.550781 L 69.539062 175.550781 L 69.578125 175.546875 L 69.605469 175.546875 L 69.636719 175.542969 L 69.648438 175.542969 L 69.726562 175.539062 L 69.765625 175.539062 L 69.777344 175.535156 L 69.835938 175.535156 L 69.855469 175.53125 L 69.878906 175.53125 L 69.914062 175.527344 L 69.9375 175.527344 L 69.964844 175.523438 L 69.996094 175.523438 L 70.023438 175.519531 L 70.078125 175.519531 L 70.132812 175.515625 L 70.167969 175.515625 L 70.203125 175.511719 L 70.222656 175.511719 L 70.273438 175.507812 L 70.296875 175.507812 L 70.335938 175.503906 L 70.375 175.503906 L 70.421875 175.5 L 70.476562 175.5 L 70.492188 175.496094 L 70.515625 175.496094 L 70.574219 175.492188 L 70.59375 175.492188 L 70.636719 175.488281 L 70.683594 175.488281 L 70.734375 175.484375 L 70.761719 175.484375 L 70.800781 175.480469 L 70.8125 175.480469 L 70.851562 175.476562 L 70.921875 175.476562 L 70.933594 175.472656 L 70.964844 175.472656 L 71 175.46875 L 71.042969 175.46875 L 71.0625 175.464844 L 71.09375 175.464844 L 71.132812 175.460938 L 71.144531 175.460938 L 71.199219 175.457031 L 71.234375 175.457031 L 71.304688 175.453125 L 71.324219 175.453125 L 71.410156 175.449219 L 71.433594 175.449219 L 71.488281 175.445312 L 71.511719 175.445312 L 71.5625 175.441406 L 71.582031 175.441406 L 71.609375 175.4375 L 71.660156 175.4375 L 71.691406 175.433594 L 71.742188 175.433594 L 71.78125 175.429688 L 71.851562 175.429688 L 71.921875 175.425781 L 71.949219 175.425781 L 71.96875 175.421875 L 72.011719 175.421875 L 72.050781 175.417969 L 72.078125 175.417969 L 72.101562 175.414062 L 72.140625 175.414062 L 72.167969 175.410156 L 72.191406 175.410156 L 72.21875 175.40625 L 72.25 175.40625 L 72.300781 175.402344 L 72.335938 175.402344 L 72.367188 175.398438 L 72.390625 175.398438 L 72.425781 175.394531 L 72.46875 175.394531 L 72.496094 175.390625 L 72.546875 175.390625 L 72.570312 175.386719 L 72.589844 175.386719 L 72.617188 175.382812 L 72.667969 175.382812 L 72.699219 175.378906 L 72.746094 175.378906 L 72.757812 175.375 L 72.808594 175.375 L 72.828125 175.371094 L 72.855469 175.371094 L 72.898438 175.367188 L 72.949219 175.367188 L 73.003906 175.363281 L 73.035156 175.363281 L 73.058594 175.359375 L 73.128906 175.359375 L 73.164062 175.355469 L 73.195312 175.355469 L 73.238281 175.351562 L 73.265625 175.351562 L 73.328125 175.34375 L 73.355469 175.34375 L 73.382812 175.339844 L 73.414062 175.339844 L 73.445312 175.335938 L 73.484375 175.335938 L 73.507812 175.332031 L 73.5625 175.332031 L 73.625 175.328125 L 73.652344 175.328125 L 73.691406 175.324219 L 73.714844 175.324219 L 73.734375 175.320312 L 73.761719 175.320312 L 73.8125 175.316406 L 73.84375 175.3125 L 73.871094 175.3125 L 73.90625 175.308594 L 73.960938 175.308594 L 73.976562 175.304688 L 73.992188 175.304688 L 74.015625 175.300781 L 74.03125 175.300781 L 74.054688 175.296875 L 74.082031 175.296875 L 74.144531 175.289062 L 74.160156 175.289062 L 74.191406 175.285156 L 74.242188 175.285156 L 74.265625 175.28125 L 74.304688 175.28125 L 74.320312 175.277344 L 74.34375 175.277344 L 74.382812 175.273438 L 74.414062 175.269531 L 74.433594 175.269531 L 74.460938 175.265625 L 74.492188 175.265625 L 74.539062 175.261719 L 74.59375 175.261719 L 74.640625 175.257812 L 74.683594 175.257812 L 74.71875 175.253906 L 74.738281 175.25 L 74.761719 175.25 L 74.820312 175.246094 L 74.863281 175.246094 L 74.890625 175.242188 L 74.929688 175.242188 L 74.96875 175.238281 L 74.980469 175.234375 L 75.007812 175.234375 L 75.039062 175.230469 L 75.070312 175.230469 L 75.109375 175.226562 L 75.128906 175.226562 L 75.1875 175.222656 L 75.210938 175.21875 L 75.25 175.21875 L 75.328125 175.214844 L 75.378906 175.214844 L 75.417969 175.210938 L 75.449219 175.207031 L 75.476562 175.207031 L 75.511719 175.203125 L 75.558594 175.203125 L 75.578125 175.199219 L 75.605469 175.199219 L 75.648438 175.195312 L 75.6875 175.191406 L 75.707031 175.191406 L 75.746094 175.1875 L 75.757812 175.1875 L 75.789062 175.183594 L 75.816406 175.179688 L 75.847656 175.179688 L 75.90625 175.175781 L 75.945312 175.175781 L 75.988281 175.171875 L 76.007812 175.167969 L 76.054688 175.167969 L 76.109375 175.164062 L 76.125 175.164062 L 76.15625 175.160156 L 76.195312 175.15625 L 76.234375 175.15625 L 76.257812 175.152344 L 76.285156 175.152344 L 76.296875 175.148438 L 76.335938 175.144531 L 76.363281 175.144531 L 76.398438 175.140625 L 76.476562 175.140625 L 76.496094 175.136719 L 76.535156 175.132812 L 76.554688 175.132812 L 76.59375 175.128906 L 76.636719 175.128906 L 76.667969 175.125 L 76.707031 175.121094 L 76.734375 175.121094 L 76.796875 175.113281 L 76.816406 175.113281 L 76.875 175.109375 L 76.902344 175.109375 L 76.925781 175.105469 L 76.957031 175.101562 L 77.011719 175.101562 L 77.035156 175.097656 L 77.0625 175.097656 L 77.074219 175.09375 L 77.101562 175.089844 L 77.136719 175.089844 L 77.175781 175.085938 L 77.246094 175.082031 L 77.28125 175.082031 L 77.304688 175.078125 L 77.34375 175.078125 L 77.375 175.074219 L 77.414062 175.070312 L 77.445312 175.070312 L 77.484375 175.066406 L 77.519531 175.0625 L 77.554688 175.0625 L 77.613281 175.058594 L 77.632812 175.058594 L 77.664062 175.054688 L 77.734375 175.050781 L 77.8125 175.050781 L 77.839844 175.046875 L 77.914062 175.042969 L 77.941406 175.042969 L 77.96875 175.039062 L 78.003906 175.035156 L 78.039062 175.035156 L 78.0625 175.03125 L 78.101562 175.027344 L 78.140625 175.027344 L 78.167969 175.023438 L 78.210938 175.023438 L 78.222656 175.019531 L 78.242188 175.015625 L 78.28125 175.015625 L 78.339844 175.011719 L 78.351562 175.007812 L 78.398438 175.007812 L 78.4375 175 L 78.46875 175 L 78.5 174.996094 L 78.519531 174.992188 L 78.539062 174.992188 L 78.566406 174.988281 L 78.578125 174.984375 L 78.65625 174.984375 L 78.691406 174.980469 L 78.746094 174.976562 L 78.757812 174.976562 L 78.808594 174.972656 L 78.828125 174.96875 L 78.855469 174.96875 L 78.871094 174.964844 L 78.878906 174.964844 L 78.886719 174.960938 L 78.90625 174.957031 L 78.929688 174.953125 L 78.949219 174.953125 L 78.976562 174.949219 L 79.007812 174.945312 L 79.035156 174.945312 L 79.070312 174.941406 L 79.117188 174.9375 L 79.128906 174.9375 L 79.144531 174.933594 L 79.214844 174.929688 L 79.25 174.929688 L 79.289062 174.925781 L 79.316406 174.921875 L 79.347656 174.921875 L 79.378906 174.917969 L 79.414062 174.914062 L 79.464844 174.914062 L 79.46875 174.910156 L 79.488281 174.90625 L 79.527344 174.90625 L 79.566406 174.902344 L 79.585938 174.898438 L 79.628906 174.898438 L 79.648438 174.894531 L 79.703125 174.890625 L 79.738281 174.890625 L 79.765625 174.886719 L 79.835938 174.882812 L 79.875 174.878906 L 79.914062 174.878906 L 79.972656 174.875 L 79.992188 174.871094 L 80.003906 174.871094 L 80.082031 174.867188 L 80.101562 174.863281 L 80.136719 174.863281 L 80.191406 174.859375 L 80.242188 174.855469 L 80.265625 174.855469 L 80.304688 174.851562 L 80.355469 174.847656 L 80.382812 174.84375 L 80.40625 174.84375 L 80.421875 174.839844 L 80.453125 174.835938 L 80.492188 174.835938 L 80.523438 174.832031 L 80.550781 174.828125 L 80.582031 174.828125 L 80.621094 174.824219 L 80.644531 174.820312 L 80.695312 174.816406 L 80.710938 174.816406 L 80.75 174.808594 L 80.78125 174.808594 L 80.804688 174.804688 L 80.839844 174.800781 L 80.871094 174.796875 L 80.910156 174.796875 L 80.933594 174.792969 L 80.980469 174.789062 L 81.011719 174.789062 L 81.039062 174.785156 L 81.074219 174.78125 L 81.101562 174.777344 L 81.128906 174.777344 L 81.179688 174.773438 L 81.203125 174.769531 L 81.21875 174.769531 L 81.238281 174.765625 L 81.261719 174.761719 L 81.292969 174.757812 L 81.332031 174.757812 L 81.359375 174.753906 L 81.390625 174.75 L 81.429688 174.746094 L 81.449219 174.746094 L 81.472656 174.742188 L 81.511719 174.738281 L 81.53125 174.734375 L 81.558594 174.734375 L 81.578125 174.730469 L 81.582031 174.726562 L 81.640625 174.726562 L 81.710938 174.722656 L 81.738281 174.71875 L 81.777344 174.714844 L 81.820312 174.714844 L 81.867188 174.710938 L 81.886719 174.707031 L 81.941406 174.703125 L 81.988281 174.703125 L 82.019531 174.699219 L 82.046875 174.695312 L 82.078125 174.691406 L 82.109375 174.691406 L 82.136719 174.6875 L 82.15625 174.683594 L 82.167969 174.679688 L 82.265625 174.679688 L 82.285156 174.675781 L 82.296875 174.671875 L 82.328125 174.667969 L 82.339844 174.664062 L 82.367188 174.664062 L 82.40625 174.660156 L 82.425781 174.65625 L 82.457031 174.652344 L 82.519531 174.652344 L 82.539062 174.648438 L 82.566406 174.644531 L 82.609375 174.640625 L 82.644531 174.640625 L 82.648438 174.636719 L 82.726562 174.628906 L 82.757812 174.628906 L 82.773438 174.625 L 82.796875 174.621094 L 82.855469 174.617188 L 82.894531 174.617188 L 82.953125 174.613281 L 82.984375 174.609375 L 83.074219 174.605469 L 83.09375 174.601562 L 83.152344 174.601562 L 83.167969 174.597656 L 83.195312 174.59375 L 83.234375 174.589844 L 83.253906 174.589844 L 83.316406 174.582031 L 83.355469 174.578125 L 83.421875 174.574219 L 83.445312 174.574219 L 83.476562 174.570312 L 83.503906 174.566406 L 83.511719 174.5625 L 83.546875 174.5625 L 83.574219 174.558594 L 83.585938 174.554688 L 83.644531 174.550781 L 83.671875 174.546875 L 83.691406 174.546875 L 83.703125 174.542969 L 83.730469 174.539062 L 83.78125 174.535156 L 83.800781 174.53125 L 83.84375 174.53125 L 83.902344 174.527344 L 83.941406 174.519531 L 83.984375 174.515625 L 83.992188 174.515625 L 84.011719 174.511719 L 84.035156 174.507812 L 84.054688 174.503906 L 84.070312 174.5 L 84.101562 174.5 L 84.125 174.496094 L 84.160156 174.492188 L 84.191406 174.488281 L 84.25 174.484375 L 84.292969 174.484375 L 84.3125 174.480469 L 84.339844 174.476562 L 84.363281 174.472656 L 84.398438 174.46875 L 84.421875 174.46875 L 84.449219 174.464844 L 84.472656 174.460938 L 84.503906 174.453125 L 84.550781 174.449219 L 84.613281 174.449219 L 84.667969 174.441406 L 84.710938 174.4375 L 84.730469 174.433594 L 84.757812 174.433594 L 84.78125 174.429688 L 84.800781 174.425781 L 84.832031 174.421875 L 84.859375 174.417969 L 84.890625 174.414062 L 84.921875 174.414062 L 84.960938 174.40625 L 84.992188 174.402344 L 85.019531 174.398438 L 85.039062 174.394531 L 85.058594 174.394531 L 85.089844 174.390625 L 85.117188 174.386719 L 85.148438 174.382812 L 85.207031 174.378906 L 85.230469 174.375 L 85.238281 174.375 L 85.269531 174.371094 L 85.308594 174.367188 L 85.335938 174.363281 L 85.359375 174.359375 L 85.390625 174.355469 L 85.40625 174.351562 L 85.4375 174.351562 L 85.457031 174.347656 L 85.488281 174.34375 L 85.546875 174.339844 L 85.566406 174.335938 L 85.644531 174.332031 L 85.679688 174.332031 L 85.714844 174.328125 L 85.726562 174.324219 L 85.746094 174.320312 L 85.785156 174.316406 L 85.804688 174.3125 L 85.828125 174.308594 L 85.859375 174.308594 L 85.894531 174.304688 L 85.925781 174.300781 L 85.9375 174.296875 L 85.964844 174.292969 L 85.984375 174.289062 L 86.035156 174.285156 L 86.09375 174.28125 L 86.125 174.28125 L 86.164062 174.273438 L 86.214844 174.269531 L 86.234375 174.265625 L 86.292969 174.261719 L 86.324219 174.257812 L 86.34375 174.257812 L 86.394531 174.253906 L 86.417969 174.25 L 86.457031 174.246094 L 86.472656 174.242188 L 86.511719 174.238281 L 86.527344 174.234375 L 86.5625 174.230469 L 86.585938 174.230469 L 86.605469 174.226562 L 86.664062 174.222656 L 86.675781 174.21875 L 86.703125 174.214844 L 86.753906 174.210938 L 86.792969 174.207031 L 86.816406 174.203125 L 86.84375 174.203125 L 86.921875 174.195312 L 86.945312 174.191406 L 86.972656 174.1875 L 87.015625 174.183594 L 87.054688 174.179688 L 87.074219 174.175781 L 87.101562 174.171875 L 87.132812 174.171875 L 87.171875 174.167969 L 87.191406 174.164062 L 87.222656 174.160156 L 87.25 174.15625 L 87.261719 174.152344 L 87.300781 174.148438 L 87.34375 174.144531 L 87.394531 174.140625 L 87.414062 174.140625 L 87.519531 174.128906 L 87.53125 174.125 L 87.59375 174.121094 L 87.664062 174.117188 L 87.691406 174.113281 L 87.730469 174.109375 L 87.773438 174.105469 L 87.792969 174.105469 L 87.8125 174.101562 L 87.863281 174.097656 L 87.902344 174.09375 L 87.921875 174.089844 L 87.96875 174.085938 L 88.039062 174.082031 L 88.078125 174.078125 L 88.109375 174.074219 L 88.121094 174.070312 L 88.160156 174.066406 L 88.1875 174.066406 L 88.199219 174.0625 L 88.21875 174.058594 L 88.261719 174.054688 L 88.269531 174.050781 L 88.308594 174.046875 L 88.367188 174.042969 L 88.390625 174.039062 L 88.449219 174.035156 L 88.488281 174.027344 L 88.519531 174.023438 L 88.550781 174.023438 L 88.621094 174.015625 L 88.648438 174.011719 L 88.6875 174.007812 L 88.75 174 L 88.789062 173.996094 L 88.820312 173.992188 L 88.835938 173.988281 L 88.867188 173.984375 L 88.925781 173.980469 L 88.957031 173.976562 L 88.976562 173.976562 L 89.007812 173.972656 L 89.019531 173.96875 L 89.058594 173.964844 L 89.066406 173.960938 L 89.109375 173.957031 L 89.144531 173.953125 L 89.195312 173.949219 L 89.226562 173.945312 L 89.246094 173.941406 L 89.277344 173.9375 L 89.304688 173.933594 L 89.324219 173.929688 L 89.367188 173.925781 L 89.398438 173.921875 L 89.453125 173.917969 L 89.476562 173.917969 L 89.515625 173.914062 L 89.542969 173.910156 L 89.617188 173.90625 L 89.644531 173.902344 L 89.6875 173.898438 L 89.714844 173.894531 L 89.746094 173.890625 L 89.773438 173.886719 L 89.816406 173.882812 L 89.851562 173.878906 L 89.867188 173.875 L 89.894531 173.871094 L 89.933594 173.867188 L 89.957031 173.863281 L 89.992188 173.859375 L 90.015625 173.855469 L 90.054688 173.851562 L 90.101562 173.847656 L 90.125 173.84375 L 90.183594 173.84375 L 90.214844 173.839844 L 90.261719 173.828125 L 90.292969 173.824219 L 90.304688 173.820312 L 90.332031 173.816406 L 90.351562 173.8125 L 90.382812 173.808594 L 90.402344 173.804688 L 90.429688 173.800781 L 90.453125 173.796875 L 90.480469 173.792969 L 90.5 173.789062 L 90.523438 173.785156 L 90.5625 173.78125 L 90.589844 173.777344 L 90.609375 173.773438 L 90.640625 173.769531 L 90.664062 173.765625 L 90.699219 173.761719 L 90.710938 173.757812 L 90.761719 173.753906 L 90.78125 173.75 L 90.808594 173.746094 L 90.851562 173.742188 L 90.914062 173.734375 L 90.941406 173.730469 L 90.992188 173.726562 L 91.039062 173.722656 L 91.0625 173.71875 L 91.097656 173.714844 L 91.140625 173.710938 L 91.171875 173.707031 L 91.222656 173.703125 L 91.25 173.699219 L 91.269531 173.695312 L 91.332031 173.6875 L 91.367188 173.683594 L 91.398438 173.679688 L 91.410156 173.675781 L 91.449219 173.671875 L 91.46875 173.667969 L 91.519531 173.664062 L 91.566406 173.660156 L 91.628906 173.65625 L 91.648438 173.652344 L 91.71875 173.648438 L 91.765625 173.644531 L 91.789062 173.640625 L 91.847656 173.636719 L 91.890625 173.632812 L 91.929688 173.628906 L 91.945312 173.625 L 92.015625 173.621094 L 92.035156 173.617188 L 92.058594 173.613281 L 92.078125 173.609375 L 92.109375 173.605469 L 92.136719 173.601562 L 92.15625 173.597656 L 92.1875 173.59375 L 92.246094 173.589844 L 92.277344 173.585938 L 92.304688 173.582031 L 92.324219 173.578125 L 92.355469 173.574219 L 92.40625 173.570312 L 92.433594 173.566406 L 92.445312 173.5625 L 92.46875 173.558594 L 92.523438 173.550781 L 92.597656 173.546875 L 92.664062 173.542969 L 92.753906 173.539062 L 92.792969 173.535156 L 92.8125 173.53125 L 92.847656 173.527344 L 92.867188 173.523438 L 92.921875 173.519531 L 92.972656 173.515625 L 93.011719 173.507812 L 93.042969 173.503906 L 93.0625 173.5 L 93.074219 173.496094 L 93.113281 173.492188 L 93.214844 173.484375 L 93.246094 173.480469 L 93.265625 173.476562 L 93.300781 173.472656 L 93.3125 173.464844 L 93.351562 173.457031 L 93.390625 173.453125 L 93.453125 173.445312 L 93.464844 173.441406 L 93.503906 173.4375 L 93.550781 173.433594 L 93.574219 173.429688 L 93.601562 173.425781 L 93.621094 173.421875 L 93.652344 173.417969 L 93.679688 173.414062 L 93.703125 173.410156 L 93.761719 173.40625 L 93.785156 173.402344 L 93.832031 173.398438 L 93.894531 173.394531 L 93.910156 173.390625 L 93.933594 173.382812 L 93.972656 173.378906 L 93.984375 173.375 L 94.050781 173.371094 L 94.074219 173.367188 L 94.09375 173.363281 L 94.140625 173.359375 L 94.171875 173.355469 L 94.183594 173.351562 L 94.230469 173.347656 L 94.269531 173.34375 L 94.328125 173.339844 L 94.382812 173.335938 L 94.421875 173.332031 L 94.441406 173.328125 L 94.480469 173.324219 L 94.507812 173.320312 L 94.539062 173.3125 L 94.5625 173.308594 L 94.597656 173.304688 L 94.609375 173.300781 L 94.640625 173.296875 L 94.691406 173.292969 L 94.710938 173.289062 L 94.738281 173.285156 L 94.796875 173.28125 L 94.820312 173.277344 L 94.851562 173.273438 L 94.878906 173.269531 L 94.890625 173.265625 L 94.941406 173.257812 L 94.96875 173.253906 L 95.046875 173.246094 L 95.070312 173.242188 L 95.105469 173.238281 L 95.167969 173.234375 L 95.226562 173.230469 L 95.289062 173.226562 L 95.320312 173.222656 L 95.367188 173.21875 L 95.398438 173.214844 L 95.425781 173.207031 L 95.46875 173.203125 L 95.496094 173.199219 L 95.539062 173.195312 L 95.585938 173.191406 L 95.628906 173.1875 L 95.695312 173.183594 L 95.726562 173.179688 L 95.753906 173.175781 L 95.796875 173.171875 L 95.828125 173.167969 L 95.898438 173.15625 L 95.9375 173.152344 L 95.972656 173.148438 L 95.996094 173.144531 L 96.042969 173.140625 L 96.066406 173.136719 L 96.105469 173.132812 L 96.136719 173.128906 L 96.164062 173.125 L 96.175781 173.117188 L 96.207031 173.113281 L 96.265625 173.109375 L 96.3125 173.105469 L 96.332031 173.101562 L 96.375 173.097656 L 96.394531 173.09375 L 96.433594 173.089844 L 96.496094 173.085938 L 96.535156 173.078125 L 96.59375 173.074219 L 96.625 173.070312 L 96.652344 173.066406 L 96.683594 173.0625 L 96.710938 173.058594 L 96.742188 173.054688 L 96.75 173.050781 L 96.78125 173.042969 L 96.792969 173.039062 L 96.820312 173.035156 L 96.84375 173.03125 L 96.855469 173.027344 L 96.875 173.023438 L 96.902344 173.019531 L 96.933594 173.015625 L 96.953125 173.007812 L 97 173.003906 L 97.023438 173 L 97.054688 172.996094 L 97.074219 172.992188 L 97.109375 172.988281 L 97.140625 172.984375 L 97.160156 172.980469 L 97.183594 172.972656 L 97.210938 172.96875 L 97.242188 172.964844 L 97.269531 172.960938 L 97.308594 172.957031 L 97.351562 172.953125 L 97.363281 172.949219 L 97.410156 172.941406 L 97.488281 172.9375 L 97.519531 172.933594 L 97.542969 172.929688 L 97.5625 172.925781 L 97.601562 172.921875 L 97.628906 172.917969 L 97.652344 172.910156 L 97.691406 172.90625 L 97.722656 172.902344 L 97.757812 172.898438 L 97.796875 172.894531 L 97.808594 172.890625 L 97.859375 172.886719 L 97.898438 172.878906 L 97.929688 172.875 L 97.941406 172.871094 L 97.960938 172.867188 L 98.007812 172.863281 L 98.046875 172.859375 L 98.078125 172.851562 L 98.089844 172.847656 L 98.121094 172.84375 L 98.160156 172.839844 L 98.179688 172.835938 L 98.21875 172.832031 L 98.246094 172.828125 L 98.257812 172.820312 L 98.277344 172.816406 L 98.355469 172.808594 L 98.40625 172.804688 L 98.425781 172.800781 L 98.449219 172.792969 L 98.496094 172.789062 L 98.519531 172.785156 L 98.546875 172.78125 L 98.566406 172.777344 L 98.578125 172.773438 L 98.597656 172.765625 L 98.628906 172.761719 L 98.675781 172.757812 L 98.695312 172.753906 L 98.738281 172.75 L 98.785156 172.746094 L 98.796875 172.738281 L 98.808594 172.734375 L 98.835938 172.730469 L 98.859375 172.726562 L 98.90625 172.722656 L 98.933594 172.714844 L 98.984375 172.710938 L 99.058594 172.707031 L 99.074219 172.703125 L 99.097656 172.699219 L 99.144531 172.695312 L 99.15625 172.6875 L 99.183594 172.683594 L 99.207031 172.679688 L 99.226562 172.675781 L 99.277344 172.671875 L 99.304688 172.664062 L 99.332031 172.660156 L 99.40625 172.65625 L 99.433594 172.652344 L 99.511719 172.648438 L 99.535156 172.640625 L 99.601562 172.636719 L 99.644531 172.632812 L 99.671875 172.628906 L 99.691406 172.625 L 99.714844 172.617188 L 99.742188 172.613281 L 99.753906 172.609375 L 99.78125 172.605469 L 99.800781 172.601562 L 99.824219 172.59375 L 99.851562 172.589844 L 99.890625 172.585938 L 99.941406 172.582031 L 99.964844 172.578125 L 100 172.570312 L 100.082031 172.566406 L 100.105469 172.5625 L 100.125 172.558594 L 100.171875 172.554688 L 100.195312 172.546875 L 100.234375 172.539062 L 100.289062 172.53125 L 100.3125 172.523438 L 100.339844 172.519531 L 100.449219 172.511719 L 100.484375 172.507812 L 100.511719 172.5 L 100.542969 172.496094 L 100.578125 172.492188 L 100.601562 172.488281 L 100.628906 172.480469 L 100.652344 172.472656 L 100.683594 172.46875 L 100.710938 172.464844 L 100.742188 172.457031 L 100.769531 172.453125 L 100.78125 172.449219 L 100.808594 172.445312 L 100.832031 172.4375 L 100.847656 172.433594 L 100.957031 172.425781 L 100.980469 172.421875 L 100.992188 172.414062 L 101.046875 172.410156 L 101.058594 172.40625 L 101.117188 172.402344 L 101.148438 172.394531 L 101.191406 172.390625 L 101.308594 172.382812 L 101.347656 172.375 L 101.40625 172.371094 L 101.457031 172.367188 L 101.480469 172.363281 L 101.546875 172.359375 L 101.589844 172.351562 L 101.617188 172.347656 L 101.648438 172.34375 L 101.675781 172.339844 L 101.699219 172.332031 L 101.738281 172.328125 L 101.816406 172.324219 L 101.839844 172.320312 L 101.847656 172.3125 L 101.914062 172.308594 L 101.9375 172.304688 L 101.96875 172.300781 L 101.996094 172.292969 L 102.019531 172.289062 L 102.058594 172.285156 L 102.085938 172.28125 L 102.109375 172.273438 L 102.128906 172.269531 L 102.167969 172.265625 L 102.21875 172.261719 L 102.265625 172.253906 L 102.292969 172.25 L 102.324219 172.246094 L 102.386719 172.242188 L 102.417969 172.234375 L 102.476562 172.230469 L 102.496094 172.226562 L 102.527344 172.21875 L 102.566406 172.214844 L 102.59375 172.210938 L 102.605469 172.207031 L 102.632812 172.199219 L 102.6875 172.195312 L 102.726562 172.191406 L 102.78125 172.1875 L 102.8125 172.179688 L 102.855469 172.175781 L 102.882812 172.171875 L 102.90625 172.164062 L 102.953125 172.160156 L 102.976562 172.15625 L 103.015625 172.152344 L 103.054688 172.144531 L 103.085938 172.140625 L 103.113281 172.136719 L 103.191406 172.132812 L 103.230469 172.125 L 103.273438 172.121094 L 103.3125 172.117188 L 103.332031 172.109375 L 103.363281 172.105469 L 103.390625 172.101562 L 103.429688 172.097656 L 103.460938 172.089844 L 103.484375 172.085938 L 103.503906 172.082031 L 103.519531 172.074219 L 103.574219 172.070312 L 103.621094 172.066406 L 103.660156 172.058594 L 103.683594 172.054688 L 103.71875 172.050781 L 103.75 172.046875 L 103.769531 172.039062 L 103.828125 172.035156 L 103.84375 172.03125 L 103.871094 172.023438 L 103.917969 172.019531 L 103.988281 172.015625 L 104.03125 172.011719 L 104.0625 172.003906 L 104.140625 172 L 104.179688 171.996094 L 104.1875 171.988281 L 104.210938 171.984375 L 104.25 171.980469 L 104.320312 171.972656 L 104.351562 171.96875 L 104.378906 171.964844 L 104.390625 171.957031 L 104.417969 171.953125 L 104.4375 171.949219 L 104.480469 171.945312 L 104.496094 171.9375 L 104.507812 171.933594 L 104.527344 171.929688 L 104.570312 171.921875 L 104.597656 171.917969 L 104.628906 171.914062 L 104.65625 171.90625 L 104.707031 171.902344 L 104.730469 171.898438 L 104.785156 171.890625 L 104.847656 171.882812 L 104.867188 171.875 L 104.890625 171.871094 L 104.917969 171.867188 L 104.945312 171.859375 L 104.976562 171.855469 L 105 171.851562 L 105.035156 171.84375 L 105.058594 171.839844 L 105.136719 171.835938 L 105.148438 171.828125 L 105.167969 171.824219 L 105.195312 171.820312 L 105.246094 171.8125 L 105.289062 171.808594 L 105.308594 171.804688 L 105.335938 171.796875 L 105.40625 171.792969 L 105.453125 171.789062 L 105.476562 171.78125 L 105.507812 171.777344 L 105.542969 171.773438 L 105.574219 171.765625 L 105.605469 171.761719 L 105.648438 171.757812 L 105.664062 171.75 L 105.6875 171.746094 L 105.726562 171.742188 L 105.746094 171.734375 L 105.792969 171.730469 L 105.84375 171.726562 L 105.867188 171.71875 L 105.90625 171.714844 L 105.933594 171.710938 L 105.992188 171.699219 L 106.015625 171.691406 L 106.066406 171.6875 L 106.105469 171.683594 L 106.144531 171.675781 L 106.183594 171.671875 L 106.210938 171.667969 L 106.246094 171.660156 L 106.265625 171.65625 L 106.320312 171.652344 L 106.351562 171.644531 L 106.371094 171.640625 L 106.410156 171.636719 L 106.433594 171.628906 L 106.484375 171.625 L 106.503906 171.617188 L 106.523438 171.613281 L 106.535156 171.609375 L 106.5625 171.601562 L 106.59375 171.597656 L 106.632812 171.59375 L 106.660156 171.585938 L 106.679688 171.582031 L 106.714844 171.578125 L 106.742188 171.570312 L 106.78125 171.566406 L 106.792969 171.558594 L 106.84375 171.554688 L 106.871094 171.550781 L 106.921875 171.542969 L 106.972656 171.539062 L 107.03125 171.527344 L 107.070312 171.523438 L 107.109375 171.515625 L 107.121094 171.511719 L 107.148438 171.507812 L 107.199219 171.5 L 107.238281 171.496094 L 107.269531 171.492188 L 107.3125 171.484375 L 107.351562 171.480469 L 107.410156 171.472656 L 107.457031 171.46875 L 107.492188 171.457031 L 107.527344 171.453125 L 107.550781 171.445312 L 107.597656 171.441406 L 107.617188 171.4375 L 107.628906 171.429688 L 107.667969 171.425781 L 107.730469 171.417969 L 107.75 171.414062 L 107.808594 171.410156 L 107.839844 171.402344 L 107.867188 171.398438 L 107.898438 171.394531 L 107.910156 171.386719 L 107.9375 171.382812 L 107.960938 171.375 L 108.007812 171.371094 L 108.078125 171.367188 L 108.097656 171.359375 L 108.136719 171.355469 L 108.160156 171.347656 L 108.199219 171.34375 L 108.234375 171.339844 L 108.265625 171.332031 L 108.339844 171.328125 L 108.394531 171.320312 L 108.445312 171.316406 L 108.488281 171.3125 L 108.519531 171.304688 L 108.554688 171.300781 L 108.628906 171.292969 L 108.648438 171.289062 L 108.695312 171.28125 L 108.714844 171.277344 L 108.765625 171.273438 L 108.796875 171.265625 L 108.835938 171.261719 L 108.847656 171.253906 L 108.875 171.25 L 108.914062 171.246094 L 108.957031 171.238281 L 108.992188 171.234375 L 109.003906 171.226562 L 109.027344 171.222656 L 109.046875 171.21875 L 109.082031 171.210938 L 109.175781 171.199219 L 109.203125 171.195312 L 109.226562 171.1875 L 109.246094 171.183594 L 109.28125 171.179688 L 109.304688 171.171875 L 109.355469 171.167969 L 109.382812 171.160156 L 109.441406 171.15625 L 109.472656 171.148438 L 109.511719 171.144531 L 109.535156 171.140625 L 109.601562 171.132812 L 109.671875 171.128906 L 109.695312 171.121094 L 109.722656 171.117188 L 109.785156 171.109375 L 109.820312 171.105469 L 109.851562 171.097656 L 109.882812 171.09375 L 109.910156 171.089844 L 109.953125 171.082031 L 109.964844 171.078125 L 109.992188 171.070312 L 110.003906 171.066406 L 110.03125 171.058594 L 110.054688 171.054688 L 110.089844 171.046875 L 110.121094 171.042969 L 110.164062 171.039062 L 110.183594 171.03125 L 110.210938 171.027344 L 110.242188 171.019531 L 110.269531 171.015625 L 110.289062 171.007812 L 110.320312 171.003906 L 110.339844 170.996094 L 110.371094 170.992188 L 110.398438 170.984375 L 110.429688 170.980469 L 110.5 170.96875 L 110.558594 170.957031 L 110.589844 170.953125 L 110.621094 170.945312 L 110.648438 170.941406 L 110.671875 170.933594 L 110.691406 170.929688 L 110.699219 170.921875 L 110.722656 170.917969 L 110.777344 170.914062 L 110.808594 170.90625 L 110.839844 170.902344 L 110.871094 170.894531 L 110.890625 170.890625 L 110.917969 170.882812 L 110.941406 170.878906 L 110.976562 170.871094 L 111.007812 170.867188 L 111.03125 170.859375 L 111.058594 170.855469 L 111.085938 170.847656 L 111.105469 170.84375 L 111.128906 170.835938 L 111.15625 170.832031 L 111.1875 170.824219 L 111.210938 170.820312 L 111.246094 170.816406 L 111.265625 170.808594 L 111.300781 170.804688 L 111.347656 170.796875 L 111.386719 170.792969 L 111.40625 170.785156 L 111.4375 170.78125 L 111.449219 170.773438 L 111.484375 170.769531 L 111.515625 170.761719 L 111.527344 170.757812 L 111.558594 170.75 L 111.578125 170.746094 L 111.609375 170.738281 L 111.644531 170.734375 L 111.667969 170.726562 L 111.6875 170.722656 L 111.714844 170.714844 L 111.71875 170.710938 L 111.738281 170.703125 L 111.765625 170.699219 L 111.828125 170.691406 L 111.875 170.679688 L 111.914062 170.675781 L 111.9375 170.667969 L 111.957031 170.664062 L 111.984375 170.65625 L 112.015625 170.652344 L 112.054688 170.644531 L 112.078125 170.640625 L 112.09375 170.632812 L 112.117188 170.628906 L 112.136719 170.621094 L 112.207031 170.617188 L 112.242188 170.609375 L 112.285156 170.605469 L 112.324219 170.597656 L 112.355469 170.59375 L 112.367188 170.585938 L 112.425781 170.574219 L 112.433594 170.570312 L 112.453125 170.5625 L 112.484375 170.558594 L 112.515625 170.550781 L 112.546875 170.546875 L 112.59375 170.539062 L 112.613281 170.535156 L 112.644531 170.527344 L 112.695312 170.523438 L 112.730469 170.515625 L 112.765625 170.511719 L 112.800781 170.503906 L 112.824219 170.5 L 112.832031 170.492188 L 112.902344 170.488281 L 112.914062 170.480469 L 112.941406 170.476562 L 113.011719 170.46875 L 113.054688 170.464844 L 113.082031 170.457031 L 113.101562 170.453125 L 113.242188 170.4375 L 113.269531 170.433594 L 113.289062 170.425781 L 113.292969 170.421875 L 113.359375 170.414062 L 113.398438 170.410156 L 113.421875 170.402344 L 113.46875 170.398438 L 113.488281 170.390625 L 113.503906 170.386719 L 113.53125 170.378906 L 113.5625 170.375 L 113.609375 170.367188 L 113.640625 170.363281 L 113.699219 170.355469 L 113.710938 170.351562 L 113.742188 170.34375 L 113.78125 170.335938 L 113.8125 170.332031 L 113.847656 170.324219 L 113.882812 170.320312 L 113.917969 170.3125 L 113.949219 170.308594 L 113.988281 170.300781 L 114.019531 170.296875 L 114.046875 170.289062 L 114.078125 170.285156 L 114.121094 170.277344 L 114.160156 170.273438 L 114.199219 170.265625 L 114.269531 170.257812 L 114.296875 170.253906 L 114.355469 170.246094 L 114.378906 170.242188 L 114.410156 170.234375 L 114.445312 170.230469 L 114.480469 170.222656 L 114.496094 170.21875 L 114.578125 170.207031 L 114.605469 170.199219 L 114.625 170.191406 L 114.644531 170.1875 L 114.6875 170.179688 L 114.726562 170.175781 L 114.769531 170.167969 L 114.796875 170.164062 L 114.808594 170.15625 L 114.839844 170.152344 L 114.878906 170.144531 L 114.894531 170.136719 L 114.929688 170.132812 L 114.964844 170.125 L 114.976562 170.121094 L 115.007812 170.113281 L 115.054688 170.109375 L 115.085938 170.101562 L 115.117188 170.097656 L 115.164062 170.089844 L 115.183594 170.082031 L 115.1875 170.078125 L 115.238281 170.070312 L 115.285156 170.066406 L 115.3125 170.058594 L 115.34375 170.054688 L 115.382812 170.046875 L 115.414062 170.039062 L 115.445312 170.035156 L 115.464844 170.027344 L 115.503906 170.023438 L 115.535156 170.015625 L 115.542969 170.011719 L 115.566406 170.003906 L 115.613281 170 L 115.636719 169.992188 L 115.652344 169.984375 L 115.714844 169.980469 L 115.773438 169.972656 L 115.84375 169.96875 L 115.863281 169.960938 L 115.921875 169.949219 L 115.945312 169.941406 L 115.964844 169.9375 L 116.011719 169.929688 L 116.042969 169.925781 L 116.054688 169.917969 L 116.09375 169.914062 L 116.160156 169.90625 L 116.175781 169.898438 L 116.234375 169.894531 L 116.273438 169.886719 L 116.3125 169.882812 L 116.34375 169.875 L 116.363281 169.867188 L 116.410156 169.863281 L 116.464844 169.855469 L 116.503906 169.851562 L 116.53125 169.84375 L 116.589844 169.839844 L 116.660156 169.832031 L 116.683594 169.824219 L 116.730469 169.820312 L 116.769531 169.8125 L 116.828125 169.808594 L 116.832031 169.800781 L 116.949219 169.78125 L 116.992188 169.777344 L 117.019531 169.769531 L 117.042969 169.761719 L 117.070312 169.757812 L 117.128906 169.75 L 117.132812 169.746094 L 117.160156 169.738281 L 117.179688 169.730469 L 117.207031 169.726562 L 117.238281 169.71875 L 117.296875 169.707031 L 117.320312 169.699219 L 117.367188 169.695312 L 117.390625 169.6875 L 117.417969 169.679688 L 117.441406 169.675781 L 117.496094 169.667969 L 117.53125 169.664062 L 117.546875 169.65625 L 117.570312 169.648438 L 117.609375 169.644531 L 117.667969 169.636719 L 117.699219 169.632812 L 117.730469 169.625 L 117.75 169.617188 L 117.789062 169.613281 L 117.816406 169.605469 L 117.828125 169.597656 L 117.855469 169.59375 L 117.886719 169.585938 L 117.929688 169.582031 L 117.964844 169.574219 L 117.988281 169.566406 L 118.039062 169.5625 L 118.066406 169.554688 L 118.109375 169.546875 L 118.136719 169.542969 L 118.207031 169.53125 L 118.234375 169.523438 L 118.296875 169.515625 L 118.324219 169.511719 L 118.347656 169.503906 L 118.375 169.496094 L 118.40625 169.492188 L 118.433594 169.484375 L 118.476562 169.480469 L 118.507812 169.472656 L 118.535156 169.464844 L 118.574219 169.460938 L 118.59375 169.453125 L 118.617188 169.445312 L 118.65625 169.441406 L 118.695312 169.425781 L 118.722656 169.421875 L 118.746094 169.414062 L 118.777344 169.40625 L 118.804688 169.402344 L 118.832031 169.394531 L 118.863281 169.390625 L 118.882812 169.382812 L 118.914062 169.375 L 118.976562 169.371094 L 119.03125 169.355469 L 119.082031 169.351562 L 119.113281 169.34375 L 119.152344 169.335938 L 119.222656 169.332031 L 119.246094 169.324219 L 119.261719 169.316406 L 119.285156 169.3125 L 119.324219 169.304688 L 119.371094 169.292969 L 119.394531 169.285156 L 119.460938 169.277344 L 119.484375 169.273438 L 119.519531 169.265625 L 119.550781 169.257812 L 119.554688 169.253906 L 119.59375 169.246094 L 119.652344 169.238281 L 119.683594 169.234375 L 119.703125 169.226562 L 119.769531 169.21875 L 119.800781 169.214844 L 119.824219 169.207031 L 119.851562 169.199219 L 119.890625 169.195312 L 119.929688 169.179688 L 119.953125 169.175781 L 120.023438 169.160156 L 120.042969 169.15625 L 120.109375 169.148438 L 120.140625 169.140625 L 120.1875 169.136719 L 120.25 169.128906 L 120.261719 169.121094 L 120.289062 169.117188 L 120.359375 169.109375 L 120.390625 169.101562 L 120.429688 169.097656 L 120.488281 169.089844 L 120.519531 169.082031 L 120.550781 169.078125 L 120.582031 169.070312 L 120.640625 169.058594 L 120.667969 169.050781 L 120.699219 169.042969 L 120.726562 169.035156 L 120.746094 169.03125 L 120.808594 169.023438 L 120.835938 169.015625 L 120.871094 169.011719 L 120.90625 169.003906 L 120.945312 168.996094 L 120.976562 168.992188 L 121 168.984375 L 121.035156 168.976562 L 121.039062 168.972656 L 121.078125 168.957031 L 121.085938 168.949219 L 121.109375 168.945312 L 121.175781 168.9375 L 121.195312 168.929688 L 121.21875 168.925781 L 121.289062 168.917969 L 121.308594 168.910156 L 121.335938 168.90625 L 121.386719 168.898438 L 121.414062 168.890625 L 121.449219 168.886719 L 121.484375 168.878906 L 121.496094 168.871094 L 121.523438 168.863281 L 121.546875 168.859375 L 121.585938 168.851562 L 121.636719 168.84375 L 121.664062 168.839844 L 121.695312 168.832031 L 121.722656 168.824219 L 121.757812 168.816406 L 121.777344 168.8125 L 121.8125 168.804688 L 121.84375 168.796875 L 121.882812 168.789062 L 121.90625 168.785156 L 121.9375 168.777344 L 121.964844 168.769531 L 121.996094 168.765625 L 122.027344 168.757812 L 122.085938 168.75 L 122.132812 168.738281 L 122.15625 168.730469 L 122.195312 168.722656 L 122.226562 168.714844 L 122.261719 168.710938 L 122.316406 168.703125 L 122.382812 168.695312 L 122.40625 168.6875 L 122.464844 168.683594 L 122.515625 168.675781 L 122.554688 168.667969 L 122.582031 168.660156 L 122.605469 168.65625 L 122.640625 168.648438 L 122.664062 168.640625 L 122.714844 168.632812 L 122.734375 168.628906 L 122.761719 168.621094 L 122.8125 168.613281 L 122.832031 168.605469 L 122.871094 168.601562 L 122.894531 168.59375 L 122.972656 168.578125 L 123.011719 168.574219 L 123.074219 168.558594 L 123.101562 168.550781 L 123.132812 168.546875 L 123.160156 168.539062 L 123.179688 168.53125 L 123.238281 168.523438 L 123.269531 168.519531 L 123.292969 168.511719 L 123.363281 168.496094 L 123.417969 168.492188 L 123.421875 168.484375 L 123.441406 168.476562 L 123.46875 168.46875 L 123.511719 168.460938 L 123.539062 168.457031 L 123.582031 168.449219 L 123.609375 168.441406 L 123.648438 168.433594 L 123.660156 168.429688 L 123.699219 168.421875 L 123.726562 168.414062 L 123.742188 168.40625 L 123.777344 168.398438 L 123.832031 168.394531 L 123.851562 168.386719 L 123.90625 168.371094 L 123.929688 168.367188 L 123.949219 168.359375 L 123.976562 168.351562 L 124.007812 168.34375 L 124.058594 168.335938 L 124.109375 168.332031 L 124.140625 168.324219 L 124.167969 168.316406 L 124.214844 168.308594 L 124.226562 168.304688 L 124.269531 168.296875 L 124.320312 168.289062 L 124.359375 168.28125 L 124.378906 168.273438 L 124.40625 168.269531 L 124.429688 168.261719 L 124.484375 168.253906 L 124.507812 168.246094 L 124.539062 168.238281 L 124.585938 168.234375 L 124.617188 168.226562 L 124.644531 168.21875 L 124.695312 168.210938 L 124.71875 168.203125 L 124.757812 168.199219 L 124.875 168.183594 L 124.898438 168.175781 L 124.9375 168.167969 L 124.996094 168.160156 L 125.046875 168.15625 L 125.078125 168.148438 L 125.085938 168.140625 L 125.144531 168.132812 L 125.175781 168.125 L 125.203125 168.121094 L 125.207031 168.113281 L 125.246094 168.105469 L 125.273438 168.097656 L 125.34375 168.089844 L 125.394531 168.085938 L 125.433594 168.078125 L 125.496094 168.070312 L 125.550781 168.0625 L 125.582031 168.054688 L 125.671875 168.046875 L 125.703125 168.042969 L 125.765625 168.027344 L 125.785156 168.019531 L 125.820312 168.011719 L 125.84375 168.003906 L 125.890625 168 L 125.941406 167.992188 L 125.980469 167.984375 L 126.003906 167.976562 L 126.03125 167.96875 L 126.089844 167.957031 L 126.152344 167.949219 L 126.203125 167.941406 L 126.25 167.933594 L 126.292969 167.925781 L 126.324219 167.917969 L 126.359375 167.914062 L 126.402344 167.90625 L 126.421875 167.898438 L 126.488281 167.890625 L 126.539062 167.882812 L 126.5625 167.875 L 126.613281 167.867188 L 126.6875 167.863281 L 126.730469 167.855469 L 126.769531 167.847656 L 126.820312 167.839844 L 126.859375 167.832031 L 126.890625 167.824219 L 126.917969 167.820312 L 126.960938 167.8125 L 127.007812 167.804688 L 127.066406 167.796875 L 127.101562 167.789062 L 127.140625 167.78125 L 127.175781 167.773438 L 127.226562 167.769531 L 127.28125 167.761719 L 127.308594 167.753906 L 127.355469 167.746094 L 127.390625 167.738281 L 127.4375 167.730469 L 127.476562 167.722656 L 127.535156 167.714844 L 127.570312 167.710938 L 127.605469 167.703125 L 127.660156 167.695312 L 127.699219 167.6875 L 127.746094 167.679688 L 127.769531 167.671875 L 127.796875 167.664062 L 127.835938 167.660156 L 127.894531 167.652344 L 127.914062 167.644531 L 127.976562 167.636719 L 127.996094 167.628906 L 128.046875 167.621094 L 128.117188 167.613281 L 128.144531 167.605469 L 128.175781 167.601562 L 128.195312 167.59375 L 128.234375 167.585938 L 128.3125 167.578125 L 128.382812 167.5625 L 128.402344 167.554688 L 128.445312 167.546875 L 128.472656 167.539062 L 128.527344 167.535156 L 128.605469 167.519531 L 128.664062 167.511719 L 128.726562 167.503906 L 128.746094 167.496094 L 128.804688 167.488281 L 128.832031 167.480469 L 128.871094 167.476562 L 128.90625 167.46875 L 128.972656 167.460938 L 129.023438 167.453125 L 129.054688 167.445312 L 129.089844 167.4375 L 129.121094 167.429688 L 129.144531 167.421875 L 129.214844 167.40625 L 129.332031 167.394531 L 129.363281 167.386719 L 129.421875 167.378906 L 129.433594 167.371094 L 129.484375 167.363281 L 129.523438 167.355469 L 129.570312 167.347656 L 129.59375 167.339844 L 129.640625 167.332031 L 129.652344 167.328125 L 129.679688 167.320312 L 129.703125 167.3125 L 129.730469 167.304688 L 129.769531 167.296875 L 129.789062 167.289062 L 129.8125 167.28125 L 129.851562 167.273438 L 129.859375 167.265625 L 129.890625 167.257812 L 129.910156 167.25 L 129.941406 167.242188 L 129.980469 167.238281 L 130.007812 167.230469 L 130.050781 167.222656 L 130.0625 167.214844 L 130.089844 167.207031 L 130.152344 167.191406 L 130.191406 167.183594 L 130.226562 167.175781 L 130.257812 167.167969 L 130.296875 167.160156 L 130.328125 167.152344 L 130.378906 167.144531 L 130.4375 167.132812 L 130.460938 167.125 L 130.507812 167.117188 L 130.519531 167.109375 L 130.550781 167.101562 L 130.570312 167.09375 L 130.597656 167.085938 L 130.628906 167.078125 L 130.65625 167.070312 L 130.695312 167.0625 L 130.738281 167.054688 L 130.789062 167.046875 L 130.808594 167.039062 L 130.839844 167.03125 L 130.886719 167.023438 L 130.917969 167.015625 L 130.949219 167.011719 L 130.984375 167.003906 L 131.007812 166.996094 L 131.035156 166.988281 L 131.066406 166.980469 L 131.078125 166.972656 L 131.097656 166.964844 L 131.128906 166.957031 L 131.164062 166.949219 L 131.183594 166.941406 L 131.226562 166.933594 L 131.253906 166.925781 L 131.285156 166.917969 L 131.304688 166.910156 L 131.367188 166.902344 L 131.398438 166.894531 L 131.425781 166.886719 L 131.4375 166.878906 L 131.464844 166.871094 L 131.496094 166.863281 L 131.523438 166.855469 L 131.535156 166.847656 L 131.566406 166.839844 L 131.605469 166.835938 L 131.636719 166.828125 L 131.675781 166.820312 L 131.707031 166.8125 L 131.742188 166.804688 L 131.785156 166.796875 L 131.816406 166.789062 L 131.84375 166.78125 L 131.875 166.773438 L 131.894531 166.765625 L 131.941406 166.757812 L 131.960938 166.75 L 131.992188 166.742188 L 132.011719 166.734375 L 132.042969 166.726562 L 132.066406 166.71875 L 132.101562 166.710938 L 132.144531 166.703125 L 132.164062 166.695312 L 132.175781 166.6875 L 132.203125 166.679688 L 132.234375 166.671875 L 132.28125 166.664062 L 132.355469 166.65625 L 132.390625 166.648438 L 132.421875 166.640625 L 132.441406 166.632812 L 132.480469 166.625 L 132.5 166.617188 L 132.609375 166.601562 L 132.660156 166.59375 L 132.671875 166.585938 L 132.703125 166.578125 L 132.722656 166.570312 L 132.824219 166.554688 L 132.863281 166.546875 L 132.910156 166.539062 L 132.941406 166.53125 L 132.96875 166.523438 L 133.03125 166.515625 L 133.070312 166.507812 L 133.132812 166.5 L 133.167969 166.492188 L 133.1875 166.484375 L 133.25 166.46875 L 133.300781 166.460938 L 133.347656 166.453125 L 133.402344 166.445312 L 133.441406 166.4375 L 133.496094 166.429688 L 133.511719 166.421875 L 133.546875 166.414062 L 133.570312 166.402344 L 133.609375 166.386719 L 133.640625 166.378906 L 133.675781 166.371094 L 133.738281 166.355469 L 133.78125 166.347656 L 133.820312 166.332031 L 133.859375 166.324219 L 133.890625 166.316406 L 133.910156 166.308594 L 133.957031 166.300781 L 134 166.292969 L 134.015625 166.285156 L 134.039062 166.277344 L 134.089844 166.269531 L 134.109375 166.261719 L 134.136719 166.253906 L 134.179688 166.246094 L 134.207031 166.238281 L 134.257812 166.230469 L 134.285156 166.222656 L 134.328125 166.214844 L 134.375 166.203125 L 134.394531 166.195312 L 134.425781 166.1875 L 134.46875 166.179688 L 134.488281 166.171875 L 134.523438 166.164062 L 134.542969 166.15625 L 134.605469 166.148438 L 134.632812 166.140625 L 134.675781 166.132812 L 134.683594 166.125 L 134.726562 166.117188 L 134.765625 166.109375 L 134.777344 166.101562 L 134.792969 166.09375 L 134.832031 166.078125 L 134.855469 166.070312 L 134.90625 166.058594 L 134.933594 166.050781 L 134.976562 166.042969 L 135.027344 166.035156 L 135.066406 166.027344 L 135.085938 166.019531 L 135.132812 166.011719 L 135.175781 166.003906 L 135.203125 165.996094 L 135.242188 165.988281 L 135.285156 165.980469 L 135.304688 165.972656 L 135.332031 165.964844 L 135.34375 165.957031 L 135.371094 165.949219 L 135.402344 165.941406 L 135.480469 165.929688 L 135.515625 165.921875 L 135.53125 165.914062 L 135.574219 165.90625 L 135.613281 165.898438 L 135.664062 165.890625 L 135.695312 165.882812 L 135.722656 165.875 L 135.761719 165.859375 L 135.792969 165.851562 L 135.84375 165.84375 L 135.878906 165.832031 L 135.890625 165.824219 L 135.921875 165.816406 L 135.972656 165.808594 L 136 165.800781 L 136.03125 165.792969 L 136.082031 165.785156 L 136.121094 165.777344 L 136.148438 165.769531 L 136.171875 165.761719 L 136.21875 165.753906 L 136.25 165.742188 L 136.300781 165.734375 L 136.347656 165.726562 L 136.398438 165.71875 L 136.429688 165.710938 L 136.457031 165.703125 L 136.488281 165.695312 L 136.511719 165.6875 L 136.5625 165.679688 L 136.617188 165.671875 L 136.652344 165.660156 L 136.710938 165.652344 L 136.738281 165.644531 L 136.761719 165.636719 L 136.796875 165.628906 L 136.839844 165.621094 L 136.878906 165.613281 L 136.925781 165.605469 L 136.949219 165.597656 L 136.988281 165.585938 L 137.015625 165.578125 L 137.070312 165.570312 L 137.089844 165.5625 L 137.117188 165.554688 L 137.160156 165.546875 L 137.207031 165.539062 L 137.257812 165.53125 L 137.289062 165.523438 L 137.316406 165.511719 L 137.355469 165.503906 L 137.375 165.496094 L 137.40625 165.488281 L 137.445312 165.480469 L 137.457031 165.472656 L 137.519531 165.464844 L 137.535156 165.457031 L 137.574219 165.445312 L 137.605469 165.4375 L 137.628906 165.429688 L 137.648438 165.421875 L 137.683594 165.414062 L 137.703125 165.40625 L 137.734375 165.398438 L 137.773438 165.390625 L 137.785156 165.378906 L 137.824219 165.371094 L 137.855469 165.363281 L 137.894531 165.355469 L 137.9375 165.347656 L 137.984375 165.339844 L 138.003906 165.332031 L 138.015625 165.320312 L 138.035156 165.3125 L 138.082031 165.304688 L 138.144531 165.289062 L 138.171875 165.28125 L 138.1875 165.273438 L 138.207031 165.265625 L 138.253906 165.253906 L 138.332031 165.246094 L 138.375 165.238281 L 138.402344 165.230469 L 138.433594 165.222656 L 138.472656 165.214844 L 138.496094 165.203125 L 138.566406 165.1875 L 138.585938 165.179688 L 138.621094 165.171875 L 138.632812 165.164062 L 138.664062 165.15625 L 138.683594 165.144531 L 138.703125 165.136719 L 138.730469 165.128906 L 138.753906 165.121094 L 138.785156 165.113281 L 138.820312 165.105469 L 138.863281 165.09375 L 138.914062 165.085938 L 139.019531 165.0625 L 139.03125 165.054688 L 139.070312 165.042969 L 139.101562 165.035156 L 139.140625 165.027344 L 139.164062 165.019531 L 139.210938 165.011719 L 139.234375 165.003906 L 139.261719 164.992188 L 139.339844 164.976562 L 139.363281 164.96875 L 139.402344 164.960938 L 139.429688 164.953125 L 139.46875 164.941406 L 139.5 164.933594 L 139.511719 164.925781 L 139.519531 164.917969 L 139.539062 164.910156 L 139.558594 164.898438 L 139.578125 164.890625 L 139.589844 164.882812 L 139.617188 164.875 L 139.640625 164.867188 L 139.679688 164.859375 L 139.710938 164.847656 L 139.769531 164.839844 L 139.78125 164.832031 L 139.8125 164.824219 L 139.847656 164.816406 L 139.890625 164.804688 L 139.917969 164.796875 L 139.960938 164.789062 L 139.976562 164.78125 L 140.011719 164.773438 L 140.058594 164.761719 L 140.101562 164.753906 L 140.128906 164.746094 L 140.140625 164.738281 L 140.160156 164.730469 L 140.191406 164.71875 L 140.269531 164.703125 L 140.300781 164.695312 L 140.347656 164.6875 L 140.386719 164.675781 L 140.40625 164.667969 L 140.4375 164.660156 L 140.457031 164.652344 L 140.519531 164.640625 L 140.546875 164.632812 L 140.566406 164.625 L 140.589844 164.617188 L 140.625 164.609375 L 140.636719 164.597656 L 140.65625 164.589844 L 140.667969 164.582031 L 140.695312 164.574219 L 140.738281 164.566406 L 140.765625 164.554688 L 140.804688 164.546875 L 140.835938 164.539062 L 140.863281 164.53125 L 140.917969 164.519531 L 140.984375 164.511719 L 140.996094 164.503906 L 141.042969 164.496094 L 141.066406 164.484375 L 141.09375 164.476562 L 141.132812 164.46875 L 141.164062 164.460938 L 141.203125 164.453125 L 141.246094 164.441406 L 141.277344 164.433594 L 141.292969 164.425781 L 141.3125 164.417969 L 141.355469 164.40625 L 141.386719 164.398438 L 141.421875 164.390625 L 141.425781 164.382812 L 141.472656 164.371094 L 141.492188 164.363281 L 141.523438 164.355469 L 141.542969 164.347656 L 141.59375 164.335938 L 141.625 164.328125 L 141.664062 164.320312 L 141.710938 164.3125 L 141.726562 164.300781 L 141.761719 164.292969 L 141.792969 164.285156 L 141.820312 164.277344 L 141.832031 164.265625 L 141.851562 164.257812 L 141.875 164.25 L 141.921875 164.242188 L 141.953125 164.230469 L 141.972656 164.222656 L 142 164.214844 L 142.023438 164.207031 L 142.050781 164.195312 L 142.089844 164.1875 L 142.132812 164.179688 L 142.152344 164.171875 L 142.191406 164.160156 L 142.253906 164.144531 L 142.3125 164.132812 L 142.332031 164.125 L 142.359375 164.117188 L 142.394531 164.109375 L 142.414062 164.097656 L 142.472656 164.089844 L 142.503906 164.082031 L 142.539062 164.074219 L 142.582031 164.0625 L 142.628906 164.054688 L 142.660156 164.046875 L 142.683594 164.035156 L 142.703125 164.027344 L 142.730469 164.019531 L 142.808594 164 L 142.847656 163.992188 L 142.890625 163.984375 L 142.949219 163.972656 L 142.96875 163.964844 L 143.03125 163.949219 L 143.0625 163.9375 L 143.097656 163.929688 L 143.136719 163.921875 L 143.15625 163.910156 L 143.191406 163.902344 L 143.238281 163.894531 L 143.277344 163.886719 L 143.300781 163.875 L 143.320312 163.867188 L 143.351562 163.859375 L 143.359375 163.847656 L 143.390625 163.839844 L 143.417969 163.832031 L 143.449219 163.820312 L 143.480469 163.8125 L 143.527344 163.804688 L 143.558594 163.796875 L 143.566406 163.785156 L 143.585938 163.777344 L 143.617188 163.769531 L 143.640625 163.757812 L 143.679688 163.75 L 143.726562 163.742188 L 143.75 163.730469 L 143.789062 163.722656 L 143.824219 163.714844 L 143.839844 163.707031 L 143.886719 163.695312 L 143.914062 163.6875 L 143.949219 163.679688 L 143.988281 163.667969 L 144.015625 163.660156 L 144.046875 163.652344 L 144.085938 163.640625 L 144.117188 163.632812 L 144.144531 163.625 L 144.214844 163.613281 L 144.238281 163.605469 L 144.265625 163.597656 L 144.308594 163.585938 L 144.34375 163.578125 L 144.375 163.570312 L 144.40625 163.558594 L 144.453125 163.550781 L 144.476562 163.542969 L 144.492188 163.535156 L 144.523438 163.523438 L 144.566406 163.515625 L 144.59375 163.507812 L 144.632812 163.496094 L 144.671875 163.488281 L 144.695312 163.480469 L 144.734375 163.46875 L 144.761719 163.460938 L 144.792969 163.453125 L 144.816406 163.441406 L 144.886719 163.433594 L 144.914062 163.425781 L 144.941406 163.414062 L 145.003906 163.398438 L 145.042969 163.386719 L 145.074219 163.378906 L 145.101562 163.371094 L 145.125 163.359375 L 145.164062 163.351562 L 145.195312 163.34375 L 145.214844 163.332031 L 145.265625 163.324219 L 145.300781 163.316406 L 145.324219 163.304688 L 145.351562 163.296875 L 145.363281 163.289062 L 145.402344 163.277344 L 145.414062 163.269531 L 145.441406 163.257812 L 145.480469 163.25 L 145.5 163.242188 L 145.523438 163.230469 L 145.574219 163.222656 L 145.621094 163.214844 L 145.652344 163.203125 L 145.664062 163.195312 L 145.683594 163.1875 L 145.722656 163.175781 L 145.761719 163.167969 L 145.78125 163.160156 L 145.828125 163.148438 L 145.871094 163.140625 L 145.917969 163.132812 L 145.960938 163.121094 L 146.011719 163.113281 L 146.078125 163.101562 L 146.128906 163.09375 L 146.167969 163.085938 L 146.179688 163.074219 L 146.21875 163.066406 L 146.238281 163.058594 L 146.257812 163.046875 L 146.296875 163.039062 L 146.328125 163.03125 L 146.339844 163.019531 L 146.371094 163.011719 L 146.390625 163 L 146.449219 162.992188 L 146.5 162.984375 L 146.507812 162.972656 L 146.53125 162.964844 L 146.558594 162.957031 L 146.578125 162.945312 L 146.597656 162.9375 L 146.636719 162.925781 L 146.660156 162.917969 L 146.695312 162.910156 L 146.738281 162.898438 L 146.777344 162.890625 L 146.820312 162.882812 L 146.855469 162.871094 L 146.898438 162.863281 L 146.917969 162.851562 L 146.949219 162.84375 L 146.976562 162.835938 L 147.019531 162.824219 L 147.046875 162.816406 L 147.085938 162.804688 L 147.125 162.796875 L 147.148438 162.789062 L 147.195312 162.777344 L 147.257812 162.769531 L 147.296875 162.757812 L 147.335938 162.75 L 147.355469 162.742188 L 147.398438 162.730469 L 147.453125 162.722656 L 147.484375 162.714844 L 147.515625 162.703125 L 147.542969 162.695312 L 147.578125 162.683594 L 147.617188 162.675781 L 147.664062 162.667969 L 147.683594 162.65625 L 147.722656 162.648438 L 147.757812 162.636719 L 147.8125 162.628906 L 147.835938 162.617188 L 147.863281 162.609375 L 147.882812 162.601562 L 147.925781 162.589844 L 147.964844 162.582031 L 147.984375 162.570312 L 148.015625 162.5625 L 148.03125 162.554688 L 148.046875 162.542969 L 148.113281 162.535156 L 148.144531 162.523438 L 148.152344 162.515625 L 148.175781 162.507812 L 148.191406 162.496094 L 148.230469 162.488281 L 148.242188 162.476562 L 148.246094 162.46875 L 148.3125 162.457031 L 148.355469 162.449219 L 148.394531 162.441406 L 148.421875 162.429688 L 148.480469 162.421875 L 148.511719 162.410156 L 148.542969 162.402344 L 148.570312 162.394531 L 148.582031 162.382812 L 148.601562 162.375 L 148.621094 162.363281 L 148.660156 162.355469 L 148.683594 162.34375 L 148.710938 162.335938 L 148.78125 162.324219 L 148.859375 162.308594 L 148.890625 162.296875 L 148.949219 162.277344 L 148.988281 162.269531 L 149.023438 162.257812 L 149.070312 162.25 L 149.113281 162.238281 L 149.140625 162.230469 L 149.171875 162.222656 L 149.210938 162.210938 L 149.222656 162.203125 L 149.28125 162.191406 L 149.308594 162.183594 L 149.339844 162.171875 L 149.371094 162.164062 L 149.390625 162.152344 L 149.429688 162.144531 L 149.46875 162.132812 L 149.492188 162.125 L 149.527344 162.117188 L 149.566406 162.105469 L 149.578125 162.097656 L 149.609375 162.085938 L 149.667969 162.078125 L 149.691406 162.066406 L 149.738281 162.058594 L 149.769531 162.046875 L 149.820312 162.039062 L 149.855469 162.027344 L 149.886719 162.019531 L 149.910156 162.007812 L 149.945312 162 L 149.957031 161.988281 L 149.976562 161.980469 L 150.007812 161.972656 L 150.027344 161.960938 L 150.144531 161.921875 L 150.179688 161.914062 L 150.214844 161.902344 L 150.21875 161.894531 L 150.257812 161.882812 L 150.285156 161.875 L 150.308594 161.863281 L 150.339844 161.855469 L 150.367188 161.84375 L 150.40625 161.835938 L 150.4375 161.824219 L 150.476562 161.816406 L 150.488281 161.804688 L 150.523438 161.796875 L 150.535156 161.785156 L 150.558594 161.777344 L 150.585938 161.765625 L 150.617188 161.757812 L 150.625 161.746094 L 150.703125 161.726562 L 150.71875 161.71875 L 150.746094 161.707031 L 150.765625 161.699219 L 150.777344 161.691406 L 150.8125 161.679688 L 150.828125 161.671875 L 150.867188 161.660156 L 150.902344 161.652344 L 150.933594 161.640625 L 150.957031 161.632812 L 150.972656 161.621094 L 150.976562 161.613281 L 150.996094 161.601562 L 151.027344 161.59375 L 151.046875 161.582031 L 151.082031 161.574219 L 151.113281 161.5625 L 151.152344 161.554688 L 151.183594 161.542969 L 151.207031 161.535156 L 151.273438 161.523438 L 151.3125 161.515625 L 151.363281 161.503906 L 151.414062 161.496094 L 151.445312 161.484375 L 151.484375 161.476562 L 151.523438 161.464844 L 151.582031 161.457031 L 151.621094 161.445312 L 151.652344 161.4375 L 151.683594 161.425781 L 151.722656 161.417969 L 151.769531 161.40625 L 151.785156 161.398438 L 151.820312 161.386719 L 151.851562 161.378906 L 151.914062 161.347656 L 151.941406 161.335938 L 151.953125 161.328125 L 151.980469 161.316406 L 152.003906 161.308594 L 152.042969 161.296875 L 152.070312 161.289062 L 152.082031 161.277344 L 152.199219 161.257812 L 152.230469 161.25 L 152.261719 161.238281 L 152.292969 161.230469 L 152.3125 161.21875 L 152.378906 161.210938 L 152.398438 161.191406 L 152.429688 161.179688 L 152.472656 161.171875 L 152.492188 161.160156 L 152.542969 161.152344 L 152.597656 161.140625 L 152.621094 161.128906 L 152.648438 161.121094 L 152.679688 161.109375 L 152.710938 161.101562 L 152.75 161.089844 L 152.761719 161.082031 L 152.796875 161.070312 L 152.828125 161.0625 L 152.832031 161.050781 L 152.867188 161.042969 L 152.898438 161.03125 L 152.910156 161.019531 L 152.941406 161.011719 L 152.980469 161 L 152.996094 160.992188 L 153.046875 160.980469 L 153.078125 160.972656 L 153.128906 160.960938 L 153.167969 160.953125 L 153.21875 160.941406 L 153.230469 160.933594 L 153.257812 160.921875 L 153.308594 160.910156 L 153.355469 160.902344 L 153.386719 160.890625 L 153.445312 160.871094 L 153.484375 160.863281 L 153.5 160.851562 L 153.535156 160.84375 L 153.546875 160.832031 L 153.574219 160.820312 L 153.605469 160.8125 L 153.628906 160.800781 L 153.664062 160.792969 L 153.699219 160.78125 L 153.734375 160.773438 L 153.757812 160.761719 L 153.808594 160.75 L 153.824219 160.742188 L 153.835938 160.730469 L 153.867188 160.722656 L 153.90625 160.710938 L 153.945312 160.703125 L 153.964844 160.691406 L 154.007812 160.679688 L 154.042969 160.671875 L 154.078125 160.660156 L 154.09375 160.652344 L 154.125 160.640625 L 154.164062 160.632812 L 154.203125 160.621094 L 154.222656 160.609375 L 154.292969 160.601562 L 154.304688 160.589844 L 154.367188 160.582031 L 154.445312 160.558594 L 154.476562 160.550781 L 154.535156 160.53125 L 154.546875 160.519531 L 154.574219 160.511719 L 154.652344 160.488281 L 154.683594 160.480469 L 154.695312 160.46875 L 154.730469 160.460938 L 154.761719 160.449219 L 154.78125 160.4375 L 154.804688 160.429688 L 154.832031 160.417969 L 154.84375 160.410156 L 154.855469 160.398438 L 154.894531 160.386719 L 154.914062 160.378906 L 154.964844 160.367188 L 155.003906 160.359375 L 155.03125 160.347656 L 155.09375 160.335938 L 155.125 160.328125 L 155.160156 160.316406 L 155.199219 160.308594 L 155.210938 160.296875 L 155.234375 160.285156 L 155.261719 160.277344 L 155.308594 160.265625 L 155.351562 160.253906 L 155.382812 160.246094 L 155.410156 160.234375 L 155.453125 160.226562 L 155.511719 160.214844 L 155.550781 160.203125 L 155.582031 160.195312 L 155.609375 160.183594 L 155.648438 160.175781 L 155.671875 160.164062 L 155.710938 160.152344 L 155.742188 160.144531 L 155.800781 160.132812 L 155.828125 160.121094 L 155.851562 160.113281 L 155.878906 160.101562 L 155.921875 160.09375 L 155.960938 160.082031 L 155.992188 160.070312 L 156.027344 160.0625 L 156.050781 160.050781 L 156.097656 160.039062 L 156.136719 160.03125 L 156.171875 160.019531 L 156.21875 160.007812 L 156.257812 160 L 156.277344 159.988281 L 156.28125 159.980469 L 156.296875 159.96875 L 156.328125 159.957031 L 156.359375 159.949219 L 156.410156 159.9375 L 156.417969 159.925781 L 156.457031 159.917969 L 156.496094 159.90625 L 156.519531 159.894531 L 156.546875 159.886719 L 156.585938 159.875 L 156.617188 159.863281 L 156.675781 159.855469 L 156.714844 159.84375 L 156.738281 159.832031 L 156.769531 159.824219 L 156.808594 159.8125 L 156.839844 159.800781 L 156.878906 159.792969 L 156.949219 159.769531 L 156.996094 159.761719 L 157.035156 159.75 L 157.058594 159.738281 L 157.085938 159.730469 L 157.125 159.71875 L 157.15625 159.707031 L 157.175781 159.6875 L 157.214844 159.675781 L 157.273438 159.667969 L 157.304688 159.65625 L 157.328125 159.644531 L 157.355469 159.636719 L 157.40625 159.625 L 157.417969 159.613281 L 157.464844 159.605469 L 157.496094 159.59375 L 157.523438 159.582031 L 157.527344 159.574219 L 157.542969 159.5625 L 157.574219 159.550781 L 157.613281 159.542969 L 157.632812 159.53125 L 157.675781 159.519531 L 157.753906 159.5 L 157.773438 159.488281 L 157.816406 159.476562 L 157.871094 159.46875 L 157.902344 159.457031 L 157.921875 159.445312 L 157.953125 159.4375 L 157.992188 159.425781 L 158.023438 159.414062 L 158.050781 159.40625 L 158.09375 159.394531 L 158.105469 159.382812 L 158.132812 159.371094 L 158.183594 159.363281 L 158.222656 159.351562 L 158.285156 159.339844 L 158.3125 159.332031 L 158.375 159.308594 L 158.441406 159.300781 L 158.46875 159.289062 L 158.5 159.277344 L 158.542969 159.265625 L 158.574219 159.257812 L 158.59375 159.246094 L 158.648438 159.234375 L 158.683594 159.226562 L 158.730469 159.214844 L 158.753906 159.203125 L 158.789062 159.191406 L 158.800781 159.183594 L 158.832031 159.171875 L 158.890625 159.160156 L 158.9375 159.152344 L 158.96875 159.140625 L 158.988281 159.128906 L 159.011719 159.117188 L 159.042969 159.109375 L 159.121094 159.085938 L 159.160156 159.078125 L 159.207031 159.066406 L 159.210938 159.054688 L 159.289062 159.035156 L 159.320312 159.023438 L 159.359375 159.011719 L 159.386719 159 L 159.429688 158.992188 L 159.460938 158.980469 L 159.496094 158.96875 L 159.527344 158.960938 L 159.570312 158.949219 L 159.585938 158.9375 L 159.617188 158.925781 L 159.695312 158.90625 L 159.71875 158.894531 L 159.75 158.882812 L 159.777344 158.875 L 159.789062 158.863281 L 159.820312 158.851562 L 159.847656 158.839844 L 159.90625 158.832031 L 159.949219 158.820312 L 159.976562 158.808594 L 160.035156 158.796875 L 160.09375 158.789062 L 160.125 158.777344 L 160.167969 158.765625 L 160.21875 158.753906 L 160.238281 158.746094 L 160.308594 158.722656 L 160.324219 158.710938 L 160.375 158.703125 L 160.433594 158.691406 L 160.464844 158.679688 L 160.488281 158.667969 L 160.542969 158.660156 L 160.574219 158.648438 L 160.585938 158.636719 L 160.605469 158.625 L 160.632812 158.617188 L 160.664062 158.605469 L 160.714844 158.59375 L 160.753906 158.582031 L 160.8125 158.574219 L 160.835938 158.5625 L 160.867188 158.550781 L 160.914062 158.539062 L 160.941406 158.527344 L 160.992188 158.519531 L 161.035156 158.507812 L 161.074219 158.496094 L 161.121094 158.484375 L 161.140625 158.476562 L 161.175781 158.464844 L 161.214844 158.453125 L 161.242188 158.441406 L 161.261719 158.429688 L 161.320312 158.410156 L 161.34375 158.398438 L 161.363281 158.386719 L 161.402344 158.378906 L 161.441406 158.367188 L 161.460938 158.355469 L 161.484375 158.34375 L 161.523438 158.332031 L 161.535156 158.324219 L 161.5625 158.3125 L 161.59375 158.300781 L 161.621094 158.289062 L 161.671875 158.28125 L 161.703125 158.269531 L 161.722656 158.257812 L 161.753906 158.246094 L 161.78125 158.234375 L 161.824219 158.226562 L 161.878906 158.214844 L 161.910156 158.203125 L 161.933594 158.191406 L 161.972656 158.179688 L 161.992188 158.171875 L 162.039062 158.160156 L 162.078125 158.148438 L 162.148438 158.125 L 162.199219 158.117188 L 162.222656 158.105469 L 162.25 158.09375 L 162.300781 158.082031 L 162.320312 158.070312 L 162.359375 158.0625 L 162.378906 158.050781 L 162.429688 158.039062 L 162.460938 158.027344 L 162.476562 158.015625 L 162.511719 158.003906 L 162.539062 157.996094 L 162.589844 157.984375 L 162.65625 157.972656 L 162.699219 157.960938 L 162.730469 157.949219 L 162.757812 157.9375 L 162.78125 157.929688 L 162.820312 157.917969 L 162.855469 157.90625 L 162.859375 157.894531 L 162.898438 157.882812 L 162.949219 157.871094 L 162.976562 157.863281 L 163.027344 157.851562 L 163.066406 157.839844 L 163.078125 157.828125 L 163.105469 157.816406 L 163.136719 157.804688 L 163.167969 157.796875 L 163.1875 157.785156 L 163.21875 157.773438 L 163.234375 157.761719 L 163.257812 157.75 L 163.296875 157.738281 L 163.328125 157.730469 L 163.359375 157.71875 L 163.46875 157.695312 L 163.503906 157.683594 L 163.527344 157.671875 L 163.558594 157.660156 L 163.597656 157.652344 L 163.644531 157.640625 L 163.667969 157.628906 L 163.695312 157.617188 L 163.703125 157.605469 L 163.734375 157.59375 L 163.777344 157.585938 L 163.824219 157.574219 L 163.835938 157.5625 L 163.863281 157.550781 L 163.902344 157.539062 L 163.914062 157.527344 L 163.945312 157.515625 L 163.964844 157.507812 L 163.996094 157.496094 L 164.023438 157.484375 L 164.082031 157.472656 L 164.105469 157.460938 L 164.125 157.449219 L 164.183594 157.4375 L 164.214844 157.425781 L 164.234375 157.417969 L 164.261719 157.40625 L 164.324219 157.382812 L 164.34375 157.371094 L 164.371094 157.359375 L 164.382812 157.347656 L 164.402344 157.339844 L 164.433594 157.328125 L 164.511719 157.304688 L 164.554688 157.292969 L 164.59375 157.28125 L 164.625 157.269531 L 164.664062 157.257812 L 164.691406 157.25 L 164.710938 157.238281 L 164.761719 157.226562 L 164.785156 157.214844 L 164.832031 157.203125 L 164.859375 157.191406 L 164.890625 157.179688 L 164.910156 157.167969 L 164.914062 157.15625 L 164.992188 157.136719 L 165.003906 157.125 L 165.050781 157.113281 L 165.0625 157.101562 L 165.082031 157.089844 L 165.113281 157.078125 L 165.140625 157.066406 L 165.179688 157.042969 L 165.222656 157.03125 L 165.261719 157.023438 L 165.289062 157.011719 L 165.3125 157 L 165.359375 156.988281 L 165.390625 156.976562 L 165.417969 156.964844 L 165.460938 156.953125 L 165.492188 156.941406 L 165.53125 156.929688 L 165.550781 156.917969 L 165.578125 156.90625 L 165.609375 156.898438 L 165.648438 156.875 L 165.671875 156.863281 L 165.710938 156.851562 L 165.730469 156.839844 L 165.769531 156.828125 L 165.800781 156.816406 L 165.839844 156.804688 L 165.871094 156.792969 L 165.910156 156.78125 L 165.957031 156.769531 L 165.976562 156.757812 L 166.007812 156.75 L 166.027344 156.738281 L 166.089844 156.714844 L 166.136719 156.703125 L 166.160156 156.691406 L 166.1875 156.679688 L 166.246094 156.644531 L 166.269531 156.632812 L 166.296875 156.621094 L 166.320312 156.609375 L 166.355469 156.597656 L 166.417969 156.574219 L 166.457031 156.566406 L 166.484375 156.554688 L 166.515625 156.542969 L 166.539062 156.53125 L 166.574219 156.519531 L 166.667969 156.484375 L 166.707031 156.460938 L 166.71875 156.449219 L 166.738281 156.4375 L 166.765625 156.425781 L 166.777344 156.414062 L 166.828125 156.402344 L 166.863281 156.390625 L 166.886719 156.378906 L 166.914062 156.367188 L 166.945312 156.355469 L 166.972656 156.34375 L 166.988281 156.332031 L 167.007812 156.320312 L 167.042969 156.308594 L 167.0625 156.296875 L 167.085938 156.285156 L 167.113281 156.277344 L 167.15625 156.265625 L 167.1875 156.253906 L 167.222656 156.242188 L 167.265625 156.230469 L 167.296875 156.21875 L 167.335938 156.207031 L 167.34375 156.195312 L 167.382812 156.183594 L 167.402344 156.171875 L 167.425781 156.160156 L 167.445312 156.148438 L 167.476562 156.136719 L 167.515625 156.125 L 167.566406 156.113281 L 167.585938 156.101562 L 167.621094 156.089844 L 167.644531 156.078125 L 167.683594 156.054688 L 167.714844 156.042969 L 167.75 156.03125 L 167.765625 156.019531 L 167.804688 156.007812 L 167.839844 155.996094 L 167.902344 155.972656 L 167.929688 155.960938 L 167.972656 155.949219 L 168.019531 155.9375 L 168.035156 155.925781 L 168.070312 155.914062 L 168.113281 155.902344 L 168.132812 155.890625 L 168.144531 155.878906 L 168.191406 155.867188 L 168.242188 155.855469 L 168.261719 155.84375 L 168.289062 155.832031 L 168.359375 155.808594 L 168.410156 155.796875 L 168.421875 155.785156 L 168.460938 155.773438 L 168.507812 155.761719 L 168.523438 155.75 L 168.558594 155.738281 L 168.609375 155.726562 L 168.640625 155.714844 L 168.648438 155.703125 L 168.667969 155.691406 L 168.699219 155.679688 L 168.757812 155.667969 L 168.769531 155.65625 L 168.796875 155.644531 L 168.847656 155.632812 L 168.886719 155.621094 L 168.9375 155.609375 L 168.949219 155.597656 L 169 155.585938 L 169.039062 155.574219 L 169.070312 155.5625 L 169.121094 155.550781 L 169.15625 155.539062 L 169.21875 155.515625 L 169.246094 155.503906 L 169.269531 155.492188 L 169.316406 155.480469 L 169.355469 155.46875 L 169.359375 155.457031 L 169.398438 155.441406 L 169.417969 155.429688 L 169.464844 155.417969 L 169.496094 155.40625 L 169.519531 155.394531 L 169.558594 155.371094 L 169.589844 155.359375 L 169.628906 155.347656 L 169.65625 155.335938 L 169.675781 155.324219 L 169.699219 155.3125 L 169.71875 155.300781 L 169.753906 155.289062 L 169.796875 155.277344 L 169.824219 155.265625 L 169.867188 155.253906 L 169.894531 155.242188 L 169.933594 155.230469 L 169.957031 155.21875 L 169.988281 155.207031 L 170.027344 155.195312 L 170.085938 155.183594 L 170.117188 155.171875 L 170.144531 155.160156 L 170.195312 155.148438 L 170.222656 155.132812 L 170.285156 155.109375 L 170.304688 155.097656 L 170.335938 155.085938 L 170.375 155.074219 L 170.414062 155.050781 L 170.445312 155.039062 L 170.472656 155.027344 L 170.492188 155.015625 L 170.523438 155.003906 L 170.5625 154.992188 L 170.59375 154.980469 L 170.710938 154.945312 L 170.734375 154.933594 L 170.773438 154.917969 L 170.8125 154.90625 L 170.824219 154.894531 L 170.851562 154.882812 L 170.882812 154.871094 L 170.90625 154.859375 L 170.914062 154.847656 L 170.953125 154.835938 L 170.980469 154.824219 L 170.984375 154.8125 L 171.023438 154.800781 L 171.054688 154.789062 L 171.101562 154.777344 L 171.140625 154.765625 L 171.160156 154.75 L 171.183594 154.738281 L 171.203125 154.726562 L 171.242188 154.714844 L 171.261719 154.703125 L 171.300781 154.691406 L 171.332031 154.679688 L 171.359375 154.667969 L 171.394531 154.65625 L 171.449219 154.644531 L 171.492188 154.632812 L 171.511719 154.621094 L 171.550781 154.609375 L 171.5625 154.59375 L 171.578125 154.582031 L 171.609375 154.570312 L 171.652344 154.558594 L 171.710938 154.546875 L 171.722656 154.535156 L 171.757812 154.523438 L 171.800781 154.511719 L 171.832031 154.5 L 171.847656 154.488281 L 171.890625 154.476562 L 171.941406 154.460938 L 171.988281 154.449219 L 172.027344 154.425781 L 172.058594 154.414062 L 172.0625 154.402344 L 172.089844 154.390625 L 172.140625 154.378906 L 172.171875 154.367188 L 172.207031 154.355469 L 172.238281 154.339844 L 172.316406 154.316406 L 172.339844 154.304688 L 172.359375 154.292969 L 172.4375 154.269531 L 172.5 154.246094 L 172.535156 154.230469 L 172.550781 154.21875 L 172.585938 154.207031 L 172.636719 154.195312 L 172.660156 154.183594 L 172.699219 154.171875 L 172.730469 154.160156 L 172.765625 154.148438 L 172.804688 154.136719 L 172.828125 154.121094 L 172.867188 154.109375 L 172.894531 154.097656 L 172.914062 154.085938 L 172.9375 154.074219 L 172.949219 154.0625 L 173.027344 154.039062 L 173.054688 154.023438 L 173.078125 154.011719 L 173.117188 154 L 173.148438 153.988281 L 173.1875 153.976562 L 173.21875 153.964844 L 173.246094 153.953125 L 173.273438 153.9375 L 173.308594 153.925781 L 173.347656 153.914062 L 173.375 153.902344 L 173.417969 153.890625 L 173.4375 153.878906 L 173.472656 153.867188 L 173.503906 153.855469 L 173.5625 153.839844 L 173.582031 153.828125 L 173.636719 153.816406 L 173.65625 153.804688 L 173.6875 153.792969 L 173.734375 153.78125 L 173.765625 153.769531 L 173.8125 153.753906 L 173.875 153.730469 L 173.914062 153.71875 L 173.941406 153.707031 L 173.972656 153.695312 L 173.992188 153.683594 L 174.011719 153.667969 L 174.066406 153.65625 L 174.085938 153.644531 L 174.144531 153.632812 L 174.191406 153.621094 L 174.210938 153.609375 L 174.253906 153.59375 L 174.28125 153.582031 L 174.3125 153.570312 L 174.351562 153.558594 L 174.375 153.546875 L 174.390625 153.535156 L 174.414062 153.523438 L 174.460938 153.507812 L 174.5 153.496094 L 174.53125 153.484375 L 174.542969 153.472656 L 174.582031 153.460938 L 174.601562 153.449219 L 174.632812 153.433594 L 174.671875 153.421875 L 174.679688 153.410156 L 174.703125 153.398438 L 174.742188 153.386719 L 174.761719 153.375 L 174.808594 153.359375 L 174.8125 153.347656 L 174.832031 153.335938 L 174.859375 153.324219 L 174.882812 153.3125 L 174.917969 153.300781 L 174.953125 153.285156 L 174.972656 153.273438 L 175.011719 153.261719 L 175.039062 153.25 L 175.050781 153.238281 L 175.082031 153.222656 L 175.121094 153.210938 L 175.128906 153.199219 L 175.179688 153.1875 L 175.210938 153.175781 L 175.230469 153.164062 L 175.269531 153.148438 L 175.332031 153.125 L 175.386719 153.113281 L 175.40625 153.101562 L 175.460938 153.074219 L 175.496094 153.0625 L 175.507812 153.050781 L 175.53125 153.039062 L 175.550781 153.027344 L 175.597656 153.011719 L 175.636719 153 L 175.660156 152.988281 L 175.691406 152.976562 L 175.710938 152.964844 L 175.746094 152.949219 L 175.789062 152.9375 L 175.816406 152.925781 L 175.859375 152.914062 L 175.898438 152.902344 L 175.925781 152.886719 L 175.957031 152.875 L 176.035156 152.851562 L 176.066406 152.839844 L 176.089844 152.824219 L 176.117188 152.8125 L 176.21875 152.789062 L 176.253906 152.773438 L 176.289062 152.761719 L 176.34375 152.75 L 176.375 152.738281 L 176.398438 152.726562 L 176.433594 152.710938 L 176.457031 152.699219 L 176.507812 152.6875 L 176.542969 152.675781 L 176.558594 152.664062 L 176.59375 152.648438 L 176.625 152.636719 L 176.648438 152.625 L 176.667969 152.613281 L 176.722656 152.597656 L 176.746094 152.585938 L 176.757812 152.574219 L 176.8125 152.5625 L 176.847656 152.550781 L 176.882812 152.535156 L 176.914062 152.523438 L 176.953125 152.511719 L 176.996094 152.5 L 177.035156 152.484375 L 177.082031 152.472656 L 177.105469 152.460938 L 177.136719 152.449219 L 177.164062 152.433594 L 177.195312 152.421875 L 177.234375 152.398438 L 177.285156 152.382812 L 177.3125 152.371094 L 177.332031 152.359375 L 177.363281 152.347656 L 177.394531 152.332031 L 177.445312 152.320312 L 177.5 152.308594 L 177.535156 152.296875 L 177.554688 152.28125 L 177.589844 152.269531 L 177.601562 152.257812 L 177.621094 152.246094 L 177.660156 152.230469 L 177.683594 152.21875 L 177.714844 152.207031 L 177.742188 152.195312 L 177.792969 152.179688 L 177.824219 152.167969 L 177.863281 152.15625 L 177.894531 152.144531 L 177.921875 152.128906 L 177.941406 152.117188 L 177.96875 152.105469 L 178 152.089844 L 178.019531 152.078125 L 178.03125 152.066406 L 178.050781 152.054688 L 178.078125 152.039062 L 178.109375 152.027344 L 178.148438 152.015625 L 178.183594 152.003906 L 178.203125 151.988281 L 178.238281 151.976562 L 178.269531 151.964844 L 178.292969 151.949219 L 178.347656 151.9375 L 178.410156 151.914062 L 178.449219 151.898438 L 178.480469 151.886719 L 178.519531 151.875 L 178.539062 151.859375 L 178.570312 151.847656 L 178.617188 151.835938 L 178.65625 151.820312 L 178.691406 151.808594 L 178.707031 151.796875 L 178.71875 151.785156 L 178.746094 151.769531 L 178.816406 151.746094 L 178.847656 151.730469 L 178.886719 151.71875 L 178.890625 151.707031 L 178.929688 151.691406 L 178.976562 151.679688 L 179 151.667969 L 179.039062 151.65625 L 179.058594 151.640625 L 179.089844 151.628906 L 179.125 151.617188 L 179.160156 151.601562 L 179.199219 151.589844 L 179.21875 151.578125 L 179.246094 151.5625 L 179.265625 151.550781 L 179.289062 151.539062 L 179.316406 151.523438 L 179.394531 151.5 L 179.417969 151.484375 L 179.46875 151.472656 L 179.503906 151.460938 L 179.527344 151.445312 L 179.546875 151.433594 L 179.558594 151.421875 L 179.59375 151.40625 L 179.613281 151.394531 L 179.636719 151.382812 L 179.675781 151.367188 L 179.683594 151.355469 L 179.707031 151.34375 L 179.734375 151.328125 L 179.765625 151.316406 L 179.804688 151.304688 L 179.835938 151.289062 L 179.863281 151.277344 L 179.882812 151.265625 L 179.90625 151.25 L 179.933594 151.238281 L 179.964844 151.226562 L 179.992188 151.210938 L 180.015625 151.199219 L 180.054688 151.1875 L 180.066406 151.171875 L 180.085938 151.160156 L 180.113281 151.148438 L 180.152344 151.132812 L 180.175781 151.121094 L 180.203125 151.109375 L 180.234375 151.09375 L 180.261719 151.082031 L 180.3125 151.070312 L 180.351562 151.054688 L 180.375 151.042969 L 180.402344 151.027344 L 180.421875 151.015625 L 180.445312 151.003906 L 180.472656 150.988281 L 180.515625 150.976562 L 180.542969 150.964844 L 180.582031 150.949219 L 180.605469 150.9375 L 180.640625 150.925781 L 180.683594 150.910156 L 180.730469 150.898438 L 180.765625 150.882812 L 180.804688 150.859375 L 180.84375 150.84375 L 180.871094 150.832031 L 180.894531 150.816406 L 180.914062 150.804688 L 180.949219 150.792969 L 180.972656 150.777344 L 180.984375 150.765625 L 181.019531 150.753906 L 181.039062 150.738281 L 181.050781 150.726562 L 181.074219 150.710938 L 181.089844 150.699219 L 181.113281 150.6875 L 181.140625 150.671875 L 181.179688 150.660156 L 181.210938 150.644531 L 181.25 150.632812 L 181.273438 150.621094 L 181.320312 150.605469 L 181.339844 150.59375 L 181.359375 150.578125 L 181.402344 150.566406 L 181.453125 150.554688 L 181.480469 150.527344 L 181.5 150.511719 L 181.527344 150.5 L 181.570312 150.488281 L 181.621094 150.472656 L 181.648438 150.460938 L 181.660156 150.445312 L 181.6875 150.433594 L 181.710938 150.421875 L 181.761719 150.40625 L 181.78125 150.394531 L 181.800781 150.378906 L 181.878906 150.355469 L 181.898438 150.339844 L 181.921875 150.328125 L 181.949219 150.3125 L 181.96875 150.300781 L 182.007812 150.289062 L 182.050781 150.273438 L 182.085938 150.261719 L 182.097656 150.246094 L 182.140625 150.234375 L 182.179688 150.21875 L 182.199219 150.207031 L 182.226562 150.195312 L 182.269531 150.179688 L 182.320312 150.167969 L 182.347656 150.152344 L 182.367188 150.140625 L 182.410156 150.125 L 182.445312 150.113281 L 182.488281 150.101562 L 182.507812 150.085938 L 182.535156 150.074219 L 182.574219 150.058594 L 182.597656 150.046875 L 182.644531 150.03125 L 182.667969 150.019531 L 182.695312 150.007812 L 182.738281 149.992188 L 182.757812 149.980469 L 182.796875 149.964844 L 182.808594 149.953125 L 182.84375 149.9375 L 182.886719 149.925781 L 182.917969 149.914062 L 182.964844 149.898438 L 182.996094 149.886719 L 183.015625 149.871094 L 183.054688 149.859375 L 183.085938 149.84375 L 183.097656 149.832031 L 183.144531 149.816406 L 183.183594 149.792969 L 183.214844 149.777344 L 183.242188 149.765625 L 183.296875 149.738281 L 183.316406 149.722656 L 183.363281 149.710938 L 183.382812 149.699219 L 183.402344 149.683594 L 183.433594 149.671875 L 183.472656 149.65625 L 183.503906 149.644531 L 183.53125 149.628906 L 183.585938 149.601562 L 183.613281 149.589844 L 183.652344 149.574219 L 183.675781 149.5625 L 183.695312 149.550781 L 183.714844 149.535156 L 183.746094 149.523438 L 183.785156 149.507812 L 183.824219 149.496094 L 183.863281 149.480469 L 183.914062 149.46875 L 183.953125 149.453125 L 183.980469 149.441406 L 183.992188 149.425781 L 184.015625 149.414062 L 184.050781 149.402344 L 184.0625 149.386719 L 184.101562 149.375 L 184.125 149.359375 L 184.164062 149.347656 L 184.191406 149.332031 L 184.230469 149.320312 L 184.25 149.304688 L 184.292969 149.292969 L 184.320312 149.277344 L 184.351562 149.265625 L 184.378906 149.25 L 184.398438 149.238281 L 184.429688 149.222656 L 184.46875 149.210938 L 184.492188 149.195312 L 184.539062 149.183594 L 184.558594 149.167969 L 184.578125 149.15625 L 184.601562 149.140625 L 184.613281 149.128906 L 184.660156 149.113281 L 184.699219 149.101562 L 184.71875 149.085938 L 184.75 149.074219 L 184.761719 149.058594 L 184.800781 149.046875 L 184.828125 149.03125 L 184.847656 149.019531 L 184.867188 149.003906 L 184.921875 148.976562 L 184.941406 148.964844 L 184.980469 148.949219 L 185.007812 148.9375 L 185.03125 148.921875 L 185.058594 148.910156 L 185.097656 148.894531 L 185.128906 148.882812 L 185.15625 148.867188 L 185.1875 148.855469 L 185.21875 148.839844 L 185.246094 148.828125 L 185.25 148.8125 L 185.277344 148.800781 L 185.316406 148.785156 L 185.335938 148.773438 L 185.355469 148.757812 L 185.367188 148.746094 L 185.40625 148.730469 L 185.417969 148.71875 L 185.449219 148.703125 L 185.480469 148.691406 L 185.519531 148.675781 L 185.550781 148.660156 L 185.566406 148.648438 L 185.609375 148.632812 L 185.648438 148.621094 L 185.699219 148.605469 L 185.734375 148.59375 L 185.765625 148.578125 L 185.804688 148.566406 L 185.824219 148.550781 L 185.878906 148.523438 L 185.925781 148.511719 L 185.964844 148.496094 L 185.996094 148.484375 L 186.035156 148.46875 L 186.054688 148.453125 L 186.105469 148.441406 L 186.144531 148.425781 L 186.175781 148.414062 L 186.21875 148.398438 L 186.246094 148.386719 L 186.285156 148.371094 L 186.316406 148.359375 L 186.355469 148.34375 L 186.394531 148.332031 L 186.40625 148.316406 L 186.445312 148.300781 L 186.492188 148.289062 L 186.523438 148.273438 L 186.554688 148.261719 L 186.566406 148.246094 L 186.597656 148.234375 L 186.632812 148.21875 L 186.675781 148.207031 L 186.703125 148.191406 L 186.734375 148.175781 L 186.765625 148.164062 L 186.792969 148.148438 L 186.8125 148.136719 L 186.84375 148.121094 L 186.882812 148.109375 L 186.921875 148.09375 L 186.953125 148.078125 L 186.984375 148.066406 L 187.015625 148.050781 L 187.050781 148.039062 L 187.070312 148.023438 L 187.101562 148.011719 L 187.121094 147.996094 L 187.152344 147.980469 L 187.183594 147.96875 L 187.214844 147.953125 L 187.261719 147.941406 L 187.292969 147.925781 L 187.332031 147.914062 L 187.351562 147.898438 L 187.390625 147.882812 L 187.414062 147.871094 L 187.449219 147.855469 L 187.492188 147.84375 L 187.503906 147.828125 L 187.539062 147.8125 L 187.554688 147.800781 L 187.582031 147.785156 L 187.601562 147.773438 L 187.632812 147.757812 L 187.648438 147.742188 L 187.679688 147.730469 L 187.691406 147.714844 L 187.722656 147.703125 L 187.761719 147.6875 L 187.789062 147.671875 L 187.808594 147.660156 L 187.84375 147.644531 L 187.882812 147.632812 L 187.917969 147.617188 L 187.960938 147.601562 L 187.992188 147.589844 L 188.03125 147.574219 L 188.070312 147.5625 L 188.117188 147.546875 L 188.148438 147.53125 L 188.179688 147.519531 L 188.199219 147.503906 L 188.238281 147.492188 L 188.257812 147.476562 L 188.289062 147.460938 L 188.332031 147.449219 L 188.351562 147.433594 L 188.378906 147.417969 L 188.40625 147.40625 L 188.429688 147.390625 L 188.460938 147.378906 L 188.488281 147.363281 L 188.511719 147.347656 L 188.546875 147.335938 L 188.585938 147.304688 L 188.609375 147.292969 L 188.636719 147.277344 L 188.660156 147.265625 L 188.679688 147.25 L 188.71875 147.234375 L 188.746094 147.222656 L 188.785156 147.207031 L 188.820312 147.191406 L 188.859375 147.179688 L 188.878906 147.164062 L 188.894531 147.148438 L 188.925781 147.136719 L 188.949219 147.121094 L 188.976562 147.109375 L 189 147.078125 L 189.027344 147.066406 L 189.066406 147.050781 L 189.089844 147.035156 L 189.117188 147.023438 L 189.148438 147.007812 L 189.183594 146.992188 L 189.226562 146.980469 L 189.257812 146.964844 L 189.296875 146.949219 L 189.324219 146.9375 L 189.347656 146.921875 L 189.394531 146.90625 L 189.425781 146.894531 L 189.453125 146.878906 L 189.476562 146.863281 L 189.503906 146.851562 L 189.527344 146.835938 L 189.5625 146.824219 L 189.578125 146.808594 L 189.613281 146.792969 L 189.636719 146.78125 L 189.664062 146.765625 L 189.695312 146.75 L 189.734375 146.738281 L 189.746094 146.722656 L 189.777344 146.707031 L 189.816406 146.695312 L 189.851562 146.679688 L 189.894531 146.664062 L 189.933594 146.652344 L 189.957031 146.636719 L 189.992188 146.621094 L 190.03125 146.605469 L 190.066406 146.59375 L 190.09375 146.578125 L 190.132812 146.5625 L 190.152344 146.550781 L 190.175781 146.535156 L 190.214844 146.519531 L 190.261719 146.507812 L 190.292969 146.492188 L 190.332031 146.476562 L 190.371094 146.464844 L 190.394531 146.449219 L 190.433594 146.433594 L 190.445312 146.421875 L 190.480469 146.40625 L 190.519531 146.390625 L 190.601562 146.363281 L 190.613281 146.347656 L 190.660156 146.335938 L 190.683594 146.320312 L 190.703125 146.304688 L 190.75 146.289062 L 190.789062 146.277344 L 190.8125 146.261719 L 190.859375 146.246094 L 190.898438 146.234375 L 190.914062 146.21875 L 190.953125 146.203125 L 190.988281 146.191406 L 191.023438 146.175781 L 191.039062 146.160156 L 191.078125 146.144531 L 191.097656 146.132812 L 191.121094 146.117188 L 191.152344 146.101562 L 191.191406 146.089844 L 191.230469 146.074219 L 191.261719 146.058594 L 191.300781 146.046875 L 191.328125 146.03125 L 191.359375 146.015625 L 191.398438 146 L 191.441406 145.988281 L 191.476562 145.972656 L 191.492188 145.957031 L 191.519531 145.945312 L 191.566406 145.929688 L 191.628906 145.898438 L 191.65625 145.886719 L 191.691406 145.871094 L 191.71875 145.855469 L 191.75 145.84375 L 191.765625 145.828125 L 191.789062 145.8125 L 191.816406 145.796875 L 191.855469 145.785156 L 191.867188 145.769531 L 191.890625 145.753906 L 191.90625 145.742188 L 191.96875 145.710938 L 191.996094 145.695312 L 192.019531 145.683594 L 192.054688 145.667969 L 192.085938 145.652344 L 192.117188 145.640625 L 192.195312 145.609375 L 192.25 145.582031 L 192.277344 145.566406 L 192.308594 145.550781 L 192.328125 145.535156 L 192.375 145.523438 L 192.40625 145.507812 L 192.445312 145.492188 L 192.464844 145.480469 L 192.558594 145.433594 L 192.59375 145.421875 L 192.664062 145.390625 L 192.675781 145.375 L 192.703125 145.363281 L 192.734375 145.347656 L 192.757812 145.332031 L 192.785156 145.316406 L 192.804688 145.304688 L 192.867188 145.273438 L 192.90625 145.257812 L 192.9375 145.246094 L 192.972656 145.230469 L 193.003906 145.214844 L 193.023438 145.199219 L 193.054688 145.1875 L 193.085938 145.171875 L 193.203125 145.125 L 193.222656 145.113281 L 193.246094 145.097656 L 193.28125 145.082031 L 193.296875 145.066406 L 193.332031 145.054688 L 193.394531 145.023438 L 193.421875 145.007812 L 193.453125 144.996094 L 193.492188 144.980469 L 193.523438 144.964844 L 193.535156 144.949219 L 193.550781 144.933594 L 193.585938 144.921875 L 193.621094 144.90625 L 193.652344 144.890625 L 193.695312 144.875 L 193.722656 144.859375 L 193.753906 144.847656 L 193.773438 144.832031 L 193.785156 144.816406 L 193.8125 144.800781 L 193.832031 144.789062 L 193.875 144.773438 L 193.910156 144.757812 L 193.949219 144.742188 L 193.96875 144.726562 L 194.003906 144.714844 L 194.019531 144.699219 L 194.082031 144.667969 L 194.109375 144.652344 L 194.152344 144.640625 L 194.164062 144.625 L 194.199219 144.609375 L 194.210938 144.59375 L 194.242188 144.578125 L 194.273438 144.566406 L 194.308594 144.550781 L 194.328125 144.535156 L 194.398438 144.503906 L 194.421875 144.488281 L 194.453125 144.476562 L 194.488281 144.460938 L 194.519531 144.445312 L 194.5625 144.429688 L 194.589844 144.414062 L 194.636719 144.402344 L 194.660156 144.386719 L 194.667969 144.371094 L 194.6875 144.355469 L 194.75 144.324219 L 194.789062 144.3125 L 194.851562 144.28125 L 194.886719 144.265625 L 194.929688 144.25 L 194.960938 144.238281 L 195.007812 144.222656 L 195.027344 144.207031 L 195.070312 144.191406 L 195.078125 144.175781 L 195.117188 144.160156 L 195.140625 144.148438 L 195.195312 144.117188 L 195.210938 144.101562 L 195.25 144.085938 L 195.277344 144.070312 L 195.285156 144.058594 L 195.347656 144.027344 L 195.367188 144.011719 L 195.394531 143.996094 L 195.425781 143.980469 L 195.445312 143.964844 L 195.46875 143.953125 L 195.507812 143.9375 L 195.554688 143.921875 L 195.574219 143.90625 L 195.605469 143.890625 L 195.648438 143.875 L 195.667969 143.859375 L 195.695312 143.847656 L 195.714844 143.832031 L 195.738281 143.816406 L 195.773438 143.800781 L 195.816406 143.785156 L 195.855469 143.769531 L 195.886719 143.757812 L 195.925781 143.742188 L 195.945312 143.726562 L 195.976562 143.710938 L 196.023438 143.695312 L 196.0625 143.679688 L 196.074219 143.664062 L 196.097656 143.648438 L 196.132812 143.636719 L 196.195312 143.605469 L 196.214844 143.589844 L 196.277344 143.558594 L 196.304688 143.542969 L 196.316406 143.53125 L 196.351562 143.515625 L 196.375 143.5 L 196.386719 143.484375 L 196.425781 143.46875 L 196.457031 143.453125 L 196.476562 143.4375 L 196.515625 143.421875 L 196.550781 143.410156 L 196.59375 143.394531 L 196.625 143.378906 L 196.652344 143.363281 L 196.695312 143.347656 L 196.730469 143.332031 L 196.746094 143.316406 L 196.78125 143.300781 L 196.824219 143.285156 L 196.851562 143.269531 L 196.871094 143.257812 L 196.894531 143.242188 L 196.933594 143.226562 L 196.960938 143.210938 L 197.019531 143.164062 L 197.0625 143.148438 L 197.09375 143.132812 L 197.121094 143.117188 L 197.160156 143.105469 L 197.179688 143.089844 L 197.21875 143.074219 L 197.28125 143.042969 L 197.300781 143.027344 L 197.324219 143.011719 L 197.34375 142.996094 L 197.371094 142.980469 L 197.402344 142.964844 L 197.449219 142.949219 L 197.46875 142.9375 L 197.492188 142.921875 L 197.523438 142.90625 L 197.550781 142.890625 L 197.582031 142.875 L 197.621094 142.859375 L 197.652344 142.84375 L 197.691406 142.828125 L 197.738281 142.8125 L 197.777344 142.796875 L 197.808594 142.78125 L 197.832031 142.765625 L 197.867188 142.75 L 197.921875 142.722656 L 197.957031 142.707031 L 197.980469 142.691406 L 198 142.675781 L 198.03125 142.660156 L 198.066406 142.644531 L 198.097656 142.628906 L 198.121094 142.613281 L 198.160156 142.597656 L 198.191406 142.566406 L 198.226562 142.550781 L 198.265625 142.519531 L 198.300781 142.503906 L 198.320312 142.488281 L 198.367188 142.472656 L 198.40625 142.460938 L 198.449219 142.445312 L 198.496094 142.429688 L 198.535156 142.414062 L 198.566406 142.398438 L 198.585938 142.382812 L 198.609375 142.367188 L 198.644531 142.351562 L 198.6875 142.335938 L 198.714844 142.320312 L 198.777344 142.289062 L 198.804688 142.273438 L 198.828125 142.257812 L 198.859375 142.242188 L 198.894531 142.226562 L 198.917969 142.210938 L 198.949219 142.195312 L 198.988281 142.179688 L 199.015625 142.164062 L 199.078125 142.132812 L 199.125 142.117188 L 199.1875 142.085938 L 199.265625 142.054688 L 199.285156 142.039062 L 199.3125 142.023438 L 199.335938 142.007812 L 199.382812 141.992188 L 199.402344 141.976562 L 199.4375 141.960938 L 199.464844 141.945312 L 199.496094 141.929688 L 199.515625 141.914062 L 199.554688 141.898438 L 199.59375 141.867188 L 199.632812 141.851562 L 199.664062 141.835938 L 199.691406 141.820312 L 199.714844 141.804688 L 199.742188 141.789062 L 199.78125 141.773438 L 199.8125 141.757812 L 199.890625 141.726562 L 199.996094 141.679688 L 200.015625 141.664062 L 200.050781 141.648438 L 200.074219 141.632812 L 200.105469 141.617188 L 200.132812 141.601562 L 200.152344 141.585938 L 200.214844 141.554688 L 200.261719 141.539062 L 200.273438 141.523438 L 200.300781 141.507812 L 200.378906 141.476562 L 200.410156 141.460938 L 200.421875 141.445312 L 200.449219 141.429688 L 200.480469 141.414062 L 200.5 141.398438 L 200.523438 141.382812 L 200.5625 141.351562 L 200.609375 141.335938 L 200.640625 141.320312 L 200.664062 141.289062 L 200.699219 141.273438 L 200.730469 141.257812 L 200.773438 141.242188 L 200.820312 141.226562 L 200.851562 141.210938 L 200.878906 141.195312 L 200.910156 141.179688 L 200.9375 141.164062 L 200.972656 141.148438 L 200.988281 141.132812 L 201 141.113281 L 201.011719 141.097656 L 201.039062 141.082031 L 201.0625 141.066406 L 201.109375 141.050781 L 201.171875 141.019531 L 201.1875 141.003906 L 201.21875 140.988281 L 201.242188 140.972656 L 201.296875 140.941406 L 201.316406 140.925781 L 201.359375 140.910156 L 201.386719 140.894531 L 201.410156 140.878906 L 201.441406 140.859375 L 201.476562 140.84375 L 201.507812 140.828125 L 201.53125 140.8125 L 201.566406 140.796875 L 201.589844 140.78125 L 201.621094 140.765625 L 201.648438 140.75 L 201.679688 140.734375 L 201.699219 140.71875 L 201.738281 140.703125 L 201.765625 140.6875 L 201.796875 140.667969 L 201.820312 140.652344 L 201.855469 140.636719 L 201.894531 140.621094 L 201.917969 140.605469 L 201.945312 140.589844 L 201.984375 140.574219 L 202.027344 140.558594 L 202.054688 140.542969 L 202.09375 140.511719 L 202.125 140.492188 L 202.148438 140.476562 L 202.164062 140.460938 L 202.175781 140.445312 L 202.199219 140.429688 L 202.226562 140.414062 L 202.265625 140.398438 L 202.285156 140.382812 L 202.316406 140.367188 L 202.34375 140.347656 L 202.363281 140.332031 L 202.398438 140.316406 L 202.414062 140.300781 L 202.453125 140.285156 L 202.488281 140.269531 L 202.515625 140.253906 L 202.535156 140.238281 L 202.554688 140.21875 L 202.574219 140.203125 L 202.597656 140.1875 L 202.675781 140.15625 L 202.703125 140.140625 L 202.742188 140.125 L 202.761719 140.109375 L 202.785156 140.089844 L 202.816406 140.074219 L 202.894531 140.042969 L 202.925781 140.027344 L 203.03125 139.980469 L 203.042969 139.960938 L 203.050781 139.945312 L 203.074219 139.929688 L 203.101562 139.914062 L 203.164062 139.882812 L 203.175781 139.867188 L 203.210938 139.847656 L 203.234375 139.832031 L 203.273438 139.816406 L 203.300781 139.800781 L 203.324219 139.785156 L 203.351562 139.769531 L 203.375 139.75 L 203.394531 139.734375 L 203.472656 139.703125 L 203.5 139.6875 L 203.535156 139.671875 L 203.5625 139.652344 L 203.59375 139.636719 L 203.632812 139.621094 L 203.660156 139.605469 L 203.824219 139.523438 L 203.863281 139.507812 L 203.933594 139.476562 L 203.96875 139.457031 L 204 139.441406 L 204.039062 139.425781 L 204.078125 139.394531 L 204.101562 139.378906 L 204.132812 139.359375 L 204.160156 139.34375 L 204.179688 139.328125 L 204.191406 139.3125 L 204.210938 139.296875 L 204.230469 139.277344 L 204.261719 139.261719 L 204.28125 139.246094 L 204.308594 139.230469 L 204.371094 139.199219 L 204.390625 139.179688 L 204.421875 139.164062 L 204.449219 139.148438 L 204.46875 139.132812 L 204.492188 139.117188 L 204.511719 139.097656 L 204.53125 139.082031 L 204.566406 139.066406 L 204.589844 139.050781 L 204.628906 139.03125 L 204.65625 139.015625 L 204.675781 139 L 204.691406 138.984375 L 204.71875 138.96875 L 204.757812 138.949219 L 204.796875 138.933594 L 204.816406 138.917969 L 204.855469 138.902344 L 204.878906 138.886719 L 204.90625 138.867188 L 204.929688 138.851562 L 204.96875 138.835938 L 204.988281 138.820312 L 205.027344 138.800781 L 205.054688 138.785156 L 205.117188 138.753906 L 205.144531 138.738281 L 205.175781 138.71875 L 205.207031 138.703125 L 205.21875 138.6875 L 205.238281 138.671875 L 205.257812 138.652344 L 205.285156 138.636719 L 205.324219 138.621094 L 205.355469 138.605469 L 205.378906 138.585938 L 205.414062 138.570312 L 205.433594 138.554688 L 205.464844 138.539062 L 205.496094 138.519531 L 205.535156 138.503906 L 205.554688 138.488281 L 205.578125 138.472656 L 205.597656 138.453125 L 205.632812 138.4375 L 205.648438 138.421875 L 205.675781 138.40625 L 205.707031 138.386719 L 205.738281 138.371094 L 205.757812 138.355469 L 205.796875 138.339844 L 205.816406 138.320312 L 205.824219 138.304688 L 205.863281 138.289062 L 205.894531 138.273438 L 205.921875 138.253906 L 205.945312 138.238281 L 205.964844 138.222656 L 205.996094 138.203125 L 206.035156 138.1875 L 206.0625 138.171875 L 206.09375 138.15625 L 206.125 138.136719 L 206.144531 138.121094 L 206.175781 138.105469 L 206.214844 138.089844 L 206.253906 138.070312 L 206.28125 138.054688 L 206.414062 137.988281 L 206.433594 137.972656 L 206.460938 137.953125 L 206.523438 137.921875 L 206.550781 137.902344 L 206.574219 137.886719 L 206.605469 137.871094 L 206.632812 137.855469 L 206.640625 137.835938 L 206.679688 137.820312 L 206.703125 137.804688 L 206.742188 137.785156 L 206.761719 137.769531 L 206.773438 137.753906 L 206.800781 137.738281 L 206.832031 137.71875 L 206.894531 137.6875 L 206.921875 137.667969 L 207.023438 137.617188 L 207.050781 137.601562 L 207.089844 137.585938 L 207.121094 137.570312 L 207.132812 137.550781 L 207.167969 137.535156 L 207.300781 137.46875 L 207.328125 137.449219 L 207.359375 137.433594 L 207.382812 137.417969 L 207.421875 137.402344 L 207.441406 137.382812 L 207.472656 137.367188 L 207.507812 137.351562 L 207.519531 137.332031 L 207.582031 137.300781 L 207.617188 137.28125 L 207.636719 137.265625 L 207.667969 137.25 L 207.699219 137.230469 L 207.738281 137.214844 L 207.757812 137.199219 L 207.789062 137.179688 L 207.816406 137.164062 L 207.839844 137.148438 L 207.851562 137.128906 L 207.878906 137.113281 L 207.917969 137.097656 L 207.941406 137.082031 L 207.976562 137.0625 L 207.980469 137.046875 L 208 137.03125 L 208.027344 137.011719 L 208.058594 136.996094 L 208.078125 136.980469 L 208.117188 136.960938 L 208.160156 136.945312 L 208.199219 136.929688 L 208.226562 136.910156 L 208.25 136.894531 L 208.269531 136.878906 L 208.296875 136.859375 L 208.328125 136.84375 L 208.367188 136.828125 L 208.378906 136.808594 L 208.386719 136.792969 L 208.425781 136.777344 L 208.496094 136.742188 L 208.519531 136.726562 L 208.527344 136.707031 L 208.597656 136.671875 L 208.625 136.65625 L 208.644531 136.640625 L 208.714844 136.605469 L 208.753906 136.589844 L 208.777344 136.570312 L 208.808594 136.554688 L 208.847656 136.539062 L 208.886719 136.519531 L 208.90625 136.503906 L 208.933594 136.488281 L 208.964844 136.46875 L 209.003906 136.453125 L 209.027344 136.433594 L 209.0625 136.417969 L 209.09375 136.402344 L 209.113281 136.382812 L 209.136719 136.367188 L 209.144531 136.351562 L 209.171875 136.332031 L 209.203125 136.300781 L 209.226562 136.28125 L 209.261719 136.265625 L 209.292969 136.246094 L 209.324219 136.230469 L 209.34375 136.214844 L 209.363281 136.195312 L 209.386719 136.179688 L 209.414062 136.164062 L 209.453125 136.144531 L 209.476562 136.128906 L 209.511719 136.109375 L 209.53125 136.09375 L 209.554688 136.078125 L 209.585938 136.058594 L 209.621094 136.042969 L 209.652344 136.023438 L 209.675781 136.007812 L 209.695312 135.992188 L 209.722656 135.972656 L 209.75 135.957031 L 209.785156 135.941406 L 209.820312 135.921875 L 209.84375 135.90625 L 209.875 135.886719 L 209.929688 135.855469 L 209.960938 135.835938 L 209.980469 135.820312 L 210.003906 135.800781 L 210.03125 135.785156 L 210.054688 135.769531 L 210.082031 135.75 L 210.152344 135.714844 L 210.164062 135.699219 L 210.171875 135.679688 L 210.210938 135.648438 L 210.230469 135.628906 L 210.269531 135.613281 L 210.300781 135.59375 L 210.332031 135.578125 L 210.359375 135.5625 L 210.371094 135.542969 L 210.402344 135.527344 L 210.421875 135.507812 L 210.460938 135.492188 L 210.492188 135.472656 L 210.511719 135.457031 L 210.539062 135.441406 L 210.5625 135.421875 L 210.601562 135.40625 L 210.632812 135.386719 L 210.671875 135.371094 L 210.707031 135.351562 L 210.722656 135.335938 L 210.757812 135.316406 L 210.78125 135.300781 L 210.820312 135.285156 L 210.832031 135.265625 L 210.851562 135.25 L 210.878906 135.230469 L 210.902344 135.214844 L 210.941406 135.195312 L 210.976562 135.179688 L 211.007812 135.160156 L 211.046875 135.144531 L 211.058594 135.128906 L 211.089844 135.109375 L 211.121094 135.09375 L 211.148438 135.074219 L 211.175781 135.058594 L 211.207031 135.039062 L 211.226562 135.023438 L 211.238281 135.003906 L 211.265625 134.988281 L 211.296875 134.96875 L 211.328125 134.953125 L 211.347656 134.9375 L 211.378906 134.917969 L 211.417969 134.902344 L 211.457031 134.882812 L 211.464844 134.867188 L 211.488281 134.847656 L 211.519531 134.832031 L 211.546875 134.8125 L 211.578125 134.796875 L 211.605469 134.777344 L 211.636719 134.761719 L 211.648438 134.742188 L 211.675781 134.726562 L 211.714844 134.707031 L 211.726562 134.691406 L 211.738281 134.671875 L 211.765625 134.65625 L 211.796875 134.636719 L 211.824219 134.621094 L 211.859375 134.585938 L 211.894531 134.566406 L 211.914062 134.550781 L 211.945312 134.535156 L 211.96875 134.515625 L 211.996094 134.5 L 212.023438 134.480469 L 212.054688 134.464844 L 212.085938 134.445312 L 212.125 134.429688 L 212.15625 134.410156 L 212.167969 134.394531 L 212.207031 134.375 L 212.226562 134.359375 L 212.257812 134.339844 L 212.292969 134.324219 L 212.316406 134.304688 L 212.335938 134.289062 L 212.367188 134.269531 L 212.40625 134.253906 L 212.433594 134.234375 L 212.503906 134.199219 L 212.523438 134.183594 L 212.554688 134.164062 L 212.59375 134.148438 L 212.632812 134.128906 L 212.664062 134.109375 L 212.734375 134.074219 L 212.761719 134.058594 L 212.792969 134.039062 L 212.863281 134.003906 L 212.882812 133.988281 L 212.910156 133.96875 L 212.945312 133.933594 L 212.980469 133.917969 L 212.984375 133.898438 L 213.011719 133.882812 L 213.035156 133.863281 L 213.070312 133.847656 L 213.09375 133.828125 L 213.121094 133.8125 L 213.144531 133.792969 L 213.183594 133.777344 L 213.214844 133.757812 L 213.25 133.742188 L 213.273438 133.722656 L 213.304688 133.703125 L 213.34375 133.6875 L 213.378906 133.667969 L 213.402344 133.652344 L 213.441406 133.632812 L 213.46875 133.617188 L 213.503906 133.597656 L 213.519531 133.582031 L 213.550781 133.5625 L 213.578125 133.546875 L 213.613281 133.527344 L 213.640625 133.511719 L 213.671875 133.492188 L 213.691406 133.472656 L 213.703125 133.457031 L 213.738281 133.4375 L 213.773438 133.421875 L 213.800781 133.402344 L 213.832031 133.386719 L 213.851562 133.367188 L 213.882812 133.351562 L 213.910156 133.332031 L 213.921875 133.3125 L 213.949219 133.296875 L 213.96875 133.277344 L 213.992188 133.261719 L 214.027344 133.242188 L 214.050781 133.226562 L 214.082031 133.207031 L 214.101562 133.191406 L 214.121094 133.171875 L 214.160156 133.152344 L 214.171875 133.136719 L 214.199219 133.117188 L 214.21875 133.101562 L 214.246094 133.082031 L 214.269531 133.066406 L 214.277344 133.046875 L 214.296875 133.027344 L 214.320312 133.011719 L 214.347656 132.992188 L 214.386719 132.976562 L 214.40625 132.957031 L 214.425781 132.941406 L 214.449219 132.921875 L 214.476562 132.902344 L 214.507812 132.886719 L 214.539062 132.867188 L 214.558594 132.851562 L 214.570312 132.832031 L 214.605469 132.8125 L 214.628906 132.796875 L 214.640625 132.777344 L 214.660156 132.761719 L 214.6875 132.742188 L 214.71875 132.722656 L 214.757812 132.707031 L 214.777344 132.6875 L 214.808594 132.671875 L 214.835938 132.652344 L 214.859375 132.632812 L 214.894531 132.617188 L 214.917969 132.597656 L 214.957031 132.582031 L 214.976562 132.5625 L 215.003906 132.542969 L 215.039062 132.527344 L 215.058594 132.507812 L 215.074219 132.488281 L 215.105469 132.472656 L 215.136719 132.453125 L 215.175781 132.4375 L 215.207031 132.417969 L 215.214844 132.398438 L 215.238281 132.382812 L 215.265625 132.363281 L 215.296875 132.347656 L 215.335938 132.308594 L 215.363281 132.292969 L 215.402344 132.273438 L 215.425781 132.253906 L 215.457031 132.238281 L 215.484375 132.21875 L 215.507812 132.203125 L 215.527344 132.183594 L 215.554688 132.164062 L 215.59375 132.148438 L 215.613281 132.128906 L 215.652344 132.109375 L 215.671875 132.09375 L 215.6875 132.074219 L 215.707031 132.058594 L 215.722656 132.039062 L 215.746094 132.019531 L 215.761719 132.003906 L 215.785156 131.984375 L 215.816406 131.964844 L 215.851562 131.949219 L 215.886719 131.929688 L 215.90625 131.910156 L 215.941406 131.894531 L 215.960938 131.875 L 215.984375 131.859375 L 216.015625 131.839844 L 216.042969 131.820312 L 216.074219 131.804688 L 216.101562 131.785156 L 216.125 131.765625 L 216.152344 131.75 L 216.183594 131.730469 L 216.210938 131.710938 L 216.230469 131.695312 L 216.25 131.675781 L 216.273438 131.65625 L 216.304688 131.640625 L 216.332031 131.621094 L 216.371094 131.601562 L 216.382812 131.585938 L 216.414062 131.566406 L 216.433594 131.550781 L 216.464844 131.53125 L 216.480469 131.511719 L 216.503906 131.496094 L 216.539062 131.476562 L 216.5625 131.457031 L 216.574219 131.441406 L 216.609375 131.421875 L 216.628906 131.402344 L 216.664062 131.382812 L 216.699219 131.367188 L 216.730469 131.347656 L 216.753906 131.328125 L 216.773438 131.3125 L 216.800781 131.292969 L 216.839844 131.273438 L 216.863281 131.257812 L 216.898438 131.238281 L 216.929688 131.21875 L 216.96875 131.203125 L 216.988281 131.183594 L 217.011719 131.164062 L 217.03125 131.148438 L 217.058594 131.128906 L 217.097656 131.109375 L 217.132812 131.09375 L 217.171875 131.054688 L 217.207031 131.035156 L 217.21875 131.019531 L 217.230469 131 L 217.261719 130.980469 L 217.28125 130.964844 L 217.289062 130.945312 L 217.320312 130.925781 L 217.351562 130.910156 L 217.386719 130.890625 L 217.417969 130.871094 L 217.441406 130.851562 L 217.46875 130.835938 L 217.507812 130.796875 L 217.519531 130.78125 L 217.558594 130.761719 L 217.570312 130.742188 L 217.597656 130.722656 L 217.617188 130.707031 L 217.636719 130.6875 L 217.660156 130.667969 L 217.699219 130.652344 L 217.730469 130.632812 L 217.800781 130.59375 L 217.835938 130.578125 L 217.859375 130.558594 L 217.890625 130.539062 L 217.917969 130.523438 L 217.996094 130.484375 L 218.019531 130.464844 L 218.054688 130.449219 L 218.085938 130.429688 L 218.109375 130.410156 L 218.144531 130.394531 L 218.175781 130.375 L 218.195312 130.355469 L 218.226562 130.335938 L 218.253906 130.320312 L 218.277344 130.300781 L 218.308594 130.28125 L 218.34375 130.261719 L 218.363281 130.246094 L 218.386719 130.207031 L 218.414062 130.1875 L 218.433594 130.171875 L 218.464844 130.152344 L 218.488281 130.132812 L 218.503906 130.113281 L 218.535156 130.097656 L 218.554688 130.078125 L 218.578125 130.058594 L 218.605469 130.039062 L 218.644531 130.023438 L 218.667969 130.003906 L 218.703125 129.984375 L 218.722656 129.964844 L 218.753906 129.949219 L 218.777344 129.929688 L 218.796875 129.910156 L 218.824219 129.890625 L 218.835938 129.875 L 218.863281 129.855469 L 218.902344 129.835938 L 218.925781 129.816406 L 218.957031 129.800781 L 218.992188 129.78125 L 219.03125 129.761719 L 219.0625 129.742188 L 219.09375 129.726562 L 219.105469 129.707031 L 219.136719 129.6875 L 219.171875 129.667969 L 219.203125 129.652344 L 219.234375 129.632812 L 219.246094 129.613281 L 219.261719 129.59375 L 219.292969 129.578125 L 219.320312 129.558594 L 219.332031 129.539062 L 219.363281 129.519531 L 219.390625 129.5 L 219.421875 129.484375 L 219.515625 129.425781 L 219.542969 129.410156 L 219.570312 129.390625 L 219.632812 129.351562 L 219.644531 129.332031 L 219.679688 129.316406 L 219.699219 129.296875 L 219.730469 129.277344 L 219.753906 129.257812 L 219.78125 129.238281 L 219.8125 129.222656 L 219.839844 129.203125 L 219.871094 129.183594 L 219.898438 129.164062 L 219.914062 129.144531 L 219.941406 129.128906 L 220.003906 129.089844 L 220.039062 129.070312 L 220.058594 129.050781 L 220.089844 129.035156 L 220.121094 129.015625 L 220.140625 128.996094 L 220.171875 128.976562 L 220.183594 128.957031 L 220.21875 128.9375 L 220.242188 128.921875 L 220.269531 128.902344 L 220.300781 128.882812 L 220.328125 128.863281 L 220.351562 128.84375 L 220.378906 128.828125 L 220.398438 128.808594 L 220.429688 128.789062 L 220.457031 128.769531 L 220.480469 128.75 L 220.507812 128.730469 L 220.539062 128.714844 L 220.601562 128.675781 L 220.636719 128.65625 L 220.648438 128.636719 L 220.679688 128.617188 L 220.707031 128.601562 L 220.738281 128.582031 L 220.75 128.5625 L 220.78125 128.542969 L 220.835938 128.503906 L 220.847656 128.488281 L 220.867188 128.46875 L 220.929688 128.429688 L 220.9375 128.410156 L 220.960938 128.390625 L 220.988281 128.375 L 221 128.355469 L 221.035156 128.335938 L 221.058594 128.316406 L 221.070312 128.296875 L 221.097656 128.277344 L 221.117188 128.257812 L 221.140625 128.242188 L 221.167969 128.222656 L 221.199219 128.203125 L 221.214844 128.183594 L 221.238281 128.164062 L 221.25 128.144531 L 221.269531 128.125 L 221.304688 128.109375 L 221.328125 128.089844 L 221.359375 128.070312 L 221.394531 128.050781 L 221.425781 128.03125 L 221.4375 128.011719 L 221.457031 127.992188 L 221.496094 127.972656 L 221.535156 127.957031 L 221.597656 127.917969 L 221.625 127.898438 L 221.636719 127.878906 L 221.664062 127.859375 L 221.6875 127.839844 L 221.71875 127.820312 L 221.738281 127.800781 L 221.773438 127.785156 L 221.796875 127.765625 L 221.824219 127.746094 L 221.847656 127.726562 L 221.882812 127.707031 L 221.90625 127.6875 L 221.925781 127.667969 L 221.957031 127.648438 L 221.984375 127.628906 L 222.015625 127.609375 L 222.023438 127.589844 L 222.042969 127.574219 L 222.074219 127.554688 L 222.097656 127.535156 L 222.117188 127.515625 L 222.144531 127.496094 L 222.175781 127.476562 L 222.183594 127.457031 L 222.214844 127.4375 L 222.242188 127.417969 L 222.273438 127.398438 L 222.292969 127.378906 L 222.304688 127.359375 L 222.34375 127.339844 L 222.371094 127.320312 L 222.402344 127.304688 L 222.40625 127.285156 L 222.441406 127.265625 L 222.464844 127.246094 L 222.480469 127.226562 L 222.511719 127.207031 L 222.53125 127.1875 L 222.5625 127.167969 L 222.585938 127.148438 L 222.621094 127.128906 L 222.644531 127.109375 L 222.671875 127.089844 L 222.734375 127.050781 L 222.761719 127.03125 L 222.792969 127.011719 L 222.804688 126.992188 L 222.839844 126.972656 L 222.863281 126.953125 L 222.890625 126.933594 L 222.953125 126.894531 L 222.972656 126.878906 L 223 126.859375 L 223.023438 126.839844 L 223.042969 126.820312 L 223.074219 126.800781 L 223.101562 126.78125 L 223.132812 126.761719 L 223.160156 126.742188 L 223.179688 126.722656 L 223.203125 126.703125 L 223.230469 126.683594 L 223.261719 126.664062 L 223.289062 126.644531 L 223.320312 126.625 L 223.34375 126.605469 L 223.371094 126.585938 L 223.402344 126.566406 L 223.410156 126.546875 L 223.4375 126.527344 L 223.53125 126.46875 L 223.550781 126.449219 L 223.582031 126.429688 L 223.609375 126.410156 L 223.632812 126.390625 L 223.667969 126.371094 L 223.691406 126.351562 L 223.707031 126.332031 L 223.738281 126.3125 L 223.761719 126.292969 L 223.789062 126.273438 L 223.808594 126.253906 L 223.839844 126.234375 L 223.867188 126.214844 L 223.890625 126.195312 L 223.910156 126.175781 L 223.941406 126.15625 L 223.976562 126.136719 L 224.007812 126.117188 L 224.046875 126.078125 L 224.070312 126.058594 L 224.097656 126.039062 L 224.128906 126.019531 L 224.15625 126 L 224.179688 125.980469 L 224.210938 125.960938 L 224.21875 125.941406 L 224.25 125.921875 L 224.289062 125.882812 L 224.296875 125.863281 L 224.328125 125.84375 L 224.339844 125.824219 L 224.375 125.800781 L 224.4375 125.761719 L 224.464844 125.742188 L 224.488281 125.722656 L 224.5 125.703125 L 224.527344 125.683594 L 224.558594 125.664062 L 224.585938 125.644531 L 224.609375 125.625 L 224.625 125.605469 L 224.6875 125.566406 L 224.707031 125.546875 L 224.738281 125.527344 L 224.765625 125.507812 L 224.789062 125.46875 L 224.816406 125.449219 L 224.847656 125.429688 L 224.867188 125.410156 L 224.894531 125.390625 L 224.925781 125.367188 L 224.988281 125.328125 L 225.015625 125.308594 L 225.035156 125.289062 L 225.097656 125.25 L 225.125 125.230469 L 225.144531 125.210938 L 225.175781 125.191406 L 225.195312 125.171875 L 225.222656 125.152344 L 225.285156 125.089844 L 225.3125 125.070312 L 225.324219 125.050781 L 225.351562 125.03125 L 225.367188 125.011719 L 225.394531 124.992188 L 225.40625 124.972656 L 225.464844 124.914062 L 225.484375 124.890625 L 225.492188 124.871094 L 225.503906 124.851562 L 225.535156 124.832031 L 225.554688 124.8125 L 225.585938 124.792969 L 225.613281 124.773438 L 225.644531 124.753906 L 225.664062 124.734375 L 225.695312 124.714844 L 225.730469 124.691406 L 225.761719 124.671875 L 225.785156 124.652344 L 225.8125 124.632812 L 225.835938 124.613281 L 225.890625 124.574219 L 225.894531 124.554688 L 225.925781 124.53125 L 225.960938 124.511719 L 226.054688 124.453125 L 226.082031 124.433594 L 226.113281 124.414062 L 226.140625 124.390625 L 226.171875 124.371094 L 226.183594 124.351562 L 226.191406 124.332031 L 226.253906 124.292969 L 226.289062 124.273438 L 226.308594 124.25 L 226.320312 124.230469 L 226.382812 124.191406 L 226.414062 124.152344 L 226.441406 124.132812 L 226.46875 124.109375 L 226.5 124.089844 L 226.539062 124.050781 L 226.601562 124.011719 L 226.609375 123.988281 L 226.628906 123.96875 L 226.652344 123.949219 L 226.671875 123.929688 L 226.699219 123.910156 L 226.710938 123.890625 L 226.730469 123.867188 L 226.761719 123.847656 L 226.777344 123.828125 L 226.800781 123.808594 L 226.820312 123.789062 L 226.828125 123.765625 L 226.851562 123.746094 L 226.882812 123.726562 L 226.910156 123.707031 L 226.921875 123.6875 L 226.949219 123.667969 L 226.976562 123.644531 L 227 123.625 L 227.027344 123.605469 L 227.039062 123.585938 L 227.066406 123.566406 L 227.097656 123.542969 L 227.136719 123.503906 L 227.167969 123.484375 L 227.191406 123.464844 L 227.226562 123.441406 L 227.289062 123.402344 L 227.308594 123.382812 L 227.335938 123.363281 L 227.339844 123.339844 L 227.367188 123.320312 L 227.390625 123.300781 L 227.425781 123.28125 L 227.4375 123.261719 L 227.46875 123.238281 L 227.5 123.21875 L 227.535156 123.199219 L 227.550781 123.179688 L 227.585938 123.15625 L 227.609375 123.136719 L 227.628906 123.117188 L 227.65625 123.097656 L 227.6875 123.078125 L 227.699219 123.054688 L 227.726562 123.035156 L 227.75 123.015625 L 227.777344 122.996094 L 227.808594 122.972656 L 227.835938 122.953125 L 227.859375 122.933594 L 227.886719 122.914062 L 227.914062 122.890625 L 227.976562 122.851562 L 227.996094 122.832031 L 228.003906 122.808594 L 228.035156 122.789062 L 228.046875 122.769531 L 228.074219 122.75 L 228.09375 122.730469 L 228.113281 122.707031 L 228.144531 122.6875 L 228.167969 122.667969 L 228.203125 122.648438 L 228.222656 122.625 L 228.253906 122.605469 L 228.296875 122.5625 L 228.328125 122.523438 L 228.363281 122.503906 L 228.394531 122.480469 L 228.433594 122.441406 L 228.457031 122.421875 L 228.484375 122.398438 L 228.515625 122.378906 L 228.542969 122.359375 L 228.5625 122.335938 L 228.582031 122.316406 L 228.644531 122.277344 L 228.675781 122.253906 L 228.691406 122.234375 L 228.753906 122.195312 L 228.78125 122.171875 L 228.804688 122.152344 L 228.832031 122.132812 L 228.84375 122.109375 L 228.902344 122.050781 L 228.914062 122.027344 L 228.941406 122.007812 L 228.964844 121.988281 L 228.984375 121.964844 L 229.015625 121.945312 L 229.035156 121.925781 L 229.0625 121.902344 L 229.125 121.863281 L 229.144531 121.84375 L 229.179688 121.820312 L 229.210938 121.800781 L 229.222656 121.78125 L 229.253906 121.757812 L 229.261719 121.738281 L 229.285156 121.71875 L 229.304688 121.695312 L 229.339844 121.675781 L 229.371094 121.65625 L 229.390625 121.632812 L 229.421875 121.613281 L 229.449219 121.59375 L 229.472656 121.570312 L 229.503906 121.550781 L 229.539062 121.53125 L 229.570312 121.507812 L 229.601562 121.488281 L 229.628906 121.46875 L 229.648438 121.445312 L 229.679688 121.425781 L 229.703125 121.40625 L 229.71875 121.382812 L 229.730469 121.363281 L 229.792969 121.300781 L 229.828125 121.28125 L 229.859375 121.257812 L 229.890625 121.238281 L 229.917969 121.21875 L 229.941406 121.195312 L 229.972656 121.175781 L 230.007812 121.15625 L 230.03125 121.132812 L 230.042969 121.113281 L 230.0625 121.09375 L 230.089844 121.070312 L 230.121094 121.050781 L 230.148438 121.03125 L 230.179688 121.007812 L 230.242188 120.96875 L 230.261719 120.945312 L 230.289062 120.925781 L 230.320312 120.90625 L 230.332031 120.882812 L 230.386719 120.84375 L 230.417969 120.820312 L 230.449219 120.800781 L 230.46875 120.777344 L 230.5 120.757812 L 230.527344 120.738281 L 230.558594 120.714844 L 230.585938 120.695312 L 230.609375 120.675781 L 230.628906 120.652344 L 230.648438 120.632812 L 230.675781 120.613281 L 230.6875 120.589844 L 230.710938 120.570312 L 230.746094 120.546875 L 230.757812 120.527344 L 230.765625 120.507812 L 230.785156 120.484375 L 230.847656 120.445312 L 230.867188 120.421875 L 230.898438 120.402344 L 230.929688 120.378906 L 230.957031 120.359375 L 230.988281 120.339844 L 231 120.316406 L 231.027344 120.296875 L 231.058594 120.277344 L 231.085938 120.253906 L 231.105469 120.234375 L 231.136719 120.210938 L 231.148438 120.191406 L 231.183594 120.171875 L 231.214844 120.148438 L 231.226562 120.128906 L 231.253906 120.109375 L 231.285156 120.085938 L 231.316406 120.066406 L 231.347656 120.042969 L 231.375 120.023438 L 231.40625 120.003906 L 231.414062 119.980469 L 231.457031 119.9375 L 231.484375 119.917969 L 231.507812 119.898438 L 231.542969 119.875 L 231.566406 119.855469 L 231.585938 119.832031 L 231.617188 119.8125 L 231.644531 119.792969 L 231.6875 119.75 L 231.714844 119.726562 L 231.746094 119.707031 L 231.761719 119.683594 L 231.785156 119.664062 L 231.8125 119.644531 L 231.832031 119.621094 L 231.855469 119.601562 L 231.886719 119.578125 L 231.921875 119.558594 L 231.953125 119.539062 L 231.976562 119.515625 L 232.011719 119.496094 L 232.042969 119.472656 L 232.0625 119.453125 L 232.09375 119.429688 L 232.101562 119.410156 L 232.132812 119.390625 L 232.140625 119.367188 L 232.171875 119.347656 L 232.195312 119.324219 L 232.222656 119.304688 L 232.253906 119.28125 L 232.273438 119.261719 L 232.285156 119.242188 L 232.3125 119.21875 L 232.335938 119.199219 L 232.371094 119.175781 L 232.394531 119.15625 L 232.421875 119.132812 L 232.445312 119.113281 L 232.480469 119.089844 L 232.503906 119.070312 L 232.53125 119.050781 L 232.5625 119.027344 L 232.589844 119.007812 L 232.59375 118.984375 L 232.613281 118.964844 L 232.644531 118.941406 L 232.664062 118.921875 L 232.679688 118.898438 L 232.722656 118.855469 L 232.753906 118.835938 L 232.773438 118.816406 L 232.808594 118.792969 L 232.820312 118.773438 L 232.863281 118.730469 L 232.898438 118.707031 L 232.921875 118.6875 L 232.953125 118.664062 L 232.972656 118.644531 L 232.992188 118.621094 L 233.023438 118.601562 L 233.050781 118.578125 L 233.078125 118.558594 L 233.101562 118.535156 L 233.128906 118.515625 L 233.152344 118.492188 L 233.167969 118.472656 L 233.199219 118.449219 L 233.230469 118.429688 L 233.261719 118.40625 L 233.289062 118.386719 L 233.300781 118.363281 L 233.320312 118.34375 L 233.339844 118.320312 L 233.367188 118.300781 L 233.398438 118.277344 L 233.441406 118.234375 L 233.476562 118.214844 L 233.507812 118.191406 L 233.53125 118.171875 L 233.566406 118.148438 L 233.570312 118.128906 L 233.601562 118.105469 L 233.621094 118.085938 L 233.65625 118.0625 L 233.6875 118.042969 L 233.730469 118 L 233.765625 117.976562 L 233.78125 117.957031 L 233.789062 117.933594 L 233.808594 117.914062 L 233.835938 117.890625 L 233.855469 117.871094 L 233.886719 117.847656 L 233.910156 117.828125 L 233.945312 117.804688 L 233.976562 117.785156 L 234.019531 117.742188 L 234.039062 117.71875 L 234.066406 117.699219 L 234.089844 117.675781 L 234.109375 117.652344 L 234.144531 117.632812 L 234.160156 117.609375 L 234.175781 117.589844 L 234.199219 117.566406 L 234.234375 117.546875 L 234.265625 117.523438 L 234.296875 117.503906 L 234.328125 117.480469 L 234.359375 117.460938 L 234.375 117.4375 L 234.398438 117.417969 L 234.425781 117.394531 L 234.449219 117.375 L 234.484375 117.351562 L 234.515625 117.328125 L 234.539062 117.308594 L 234.566406 117.285156 L 234.597656 117.265625 L 234.625 117.242188 L 234.65625 117.222656 L 234.6875 117.199219 L 234.722656 117.179688 L 234.746094 117.15625 L 234.773438 117.136719 L 234.792969 117.113281 L 234.804688 117.089844 L 234.828125 117.070312 L 234.855469 117.046875 L 234.863281 117.027344 L 234.882812 117.003906 L 234.894531 116.984375 L 234.921875 116.960938 L 234.945312 116.9375 L 234.972656 116.917969 L 235.015625 116.875 L 235.042969 116.851562 L 235.074219 116.832031 L 235.085938 116.808594 L 235.117188 116.789062 L 235.144531 116.765625 L 235.175781 116.742188 L 235.203125 116.722656 L 235.226562 116.699219 L 235.261719 116.679688 L 235.285156 116.65625 L 235.3125 116.636719 L 235.335938 116.613281 L 235.351562 116.589844 L 235.363281 116.570312 L 235.390625 116.546875 L 235.402344 116.527344 L 235.425781 116.503906 L 235.460938 116.480469 L 235.492188 116.460938 L 235.523438 116.4375 L 235.550781 116.417969 L 235.613281 116.371094 L 235.625 116.351562 L 235.652344 116.328125 L 235.683594 116.308594 L 235.710938 116.285156 L 235.742188 116.261719 L 235.769531 116.242188 L 235.792969 116.21875 L 235.824219 116.199219 L 235.851562 116.175781 L 235.882812 116.152344 L 235.910156 116.132812 L 235.929688 116.109375 L 235.949219 116.089844 L 235.96875 116.066406 L 235.992188 116.042969 L 236.019531 116.023438 L 236.050781 116 L 236.070312 115.980469 L 236.101562 115.957031 L 236.128906 115.933594 L 236.140625 115.914062 L 236.164062 115.890625 L 236.191406 115.867188 L 236.222656 115.847656 L 236.25 115.824219 L 236.261719 115.804688 L 236.292969 115.78125 L 236.320312 115.757812 L 236.347656 115.738281 L 236.359375 115.714844 L 236.378906 115.691406 L 236.382812 115.671875 L 236.421875 115.625 L 236.449219 115.605469 L 236.46875 115.582031 L 236.5 115.5625 L 236.527344 115.539062 L 236.558594 115.515625 L 236.582031 115.496094 L 236.617188 115.472656 L 236.648438 115.449219 L 236.671875 115.429688 L 236.699219 115.40625 L 236.730469 115.382812 L 236.761719 115.363281 L 236.789062 115.339844 L 236.820312 115.316406 L 236.847656 115.296875 L 236.871094 115.273438 L 236.90625 115.25 L 236.9375 115.230469 L 236.96875 115.207031 L 236.988281 115.183594 L 237.007812 115.164062 L 237.039062 115.140625 L 237.058594 115.117188 L 237.089844 115.097656 L 237.109375 115.074219 L 237.121094 115.050781 L 237.148438 115.03125 L 237.160156 115.007812 L 237.175781 114.984375 L 237.199219 114.964844 L 237.21875 114.941406 L 237.25 114.917969 L 237.265625 114.898438 L 237.285156 114.875 L 237.316406 114.851562 L 237.339844 114.832031 L 237.367188 114.808594 L 237.398438 114.785156 L 237.429688 114.765625 L 237.449219 114.742188 L 237.484375 114.71875 L 237.507812 114.699219 L 237.535156 114.675781 L 237.597656 114.628906 L 237.628906 114.609375 L 237.683594 114.5625 L 237.714844 114.542969 L 237.734375 114.519531 L 237.765625 114.496094 L 237.808594 114.453125 L 237.835938 114.429688 L 237.847656 114.410156 L 237.882812 114.386719 L 237.945312 114.339844 L 237.976562 114.320312 L 238.003906 114.296875 L 238.046875 114.253906 L 238.066406 114.230469 L 238.097656 114.207031 L 238.132812 114.183594 L 238.152344 114.164062 L 238.164062 114.140625 L 238.1875 114.117188 L 238.214844 114.097656 L 238.242188 114.074219 L 238.265625 114.050781 L 238.285156 114.027344 L 238.3125 114.007812 L 238.335938 113.984375 L 238.363281 113.960938 L 238.382812 113.941406 L 238.402344 113.917969 L 238.433594 113.894531 L 238.445312 113.871094 L 238.464844 113.851562 L 238.492188 113.828125 L 238.515625 113.804688 L 238.550781 113.78125 L 238.566406 113.761719 L 238.582031 113.738281 L 238.601562 113.714844 L 238.625 113.691406 L 238.640625 113.671875 L 238.664062 113.648438 L 238.691406 113.625 L 238.714844 113.601562 L 238.746094 113.582031 L 238.765625 113.558594 L 238.820312 113.511719 L 238.863281 113.46875 L 238.890625 113.445312 L 238.910156 113.421875 L 238.933594 113.398438 L 238.960938 113.378906 L 238.984375 113.355469 L 239.011719 113.332031 L 239.035156 113.308594 L 239.0625 113.285156 L 239.089844 113.265625 L 239.128906 113.21875 L 239.144531 113.195312 L 239.164062 113.171875 L 239.191406 113.152344 L 239.210938 113.128906 L 239.234375 113.105469 L 239.25 113.082031 L 239.273438 113.058594 L 239.300781 113.039062 L 239.324219 113.015625 L 239.34375 112.992188 L 239.359375 112.96875 L 239.382812 112.945312 L 239.398438 112.921875 L 239.421875 112.902344 L 239.449219 112.878906 L 239.472656 112.855469 L 239.5 112.832031 L 239.523438 112.808594 L 239.542969 112.785156 L 239.570312 112.765625 L 239.597656 112.742188 L 239.609375 112.71875 L 239.632812 112.695312 L 239.660156 112.671875 L 239.679688 112.648438 L 239.703125 112.628906 L 239.757812 112.582031 L 239.78125 112.558594 L 239.808594 112.535156 L 239.828125 112.511719 L 239.839844 112.488281 L 239.867188 112.46875 L 239.890625 112.445312 L 239.917969 112.421875 L 239.941406 112.398438 L 239.960938 112.375 L 239.988281 112.351562 L 240.007812 112.328125 L 240.03125 112.308594 L 240.050781 112.285156 L 240.066406 112.261719 L 240.089844 112.238281 L 240.128906 112.191406 L 240.15625 112.167969 L 240.175781 112.144531 L 240.179688 112.121094 L 240.207031 112.101562 L 240.230469 112.078125 L 240.246094 112.054688 L 240.265625 112.03125 L 240.289062 112.007812 L 240.308594 111.984375 L 240.335938 111.960938 L 240.347656 111.9375 L 240.375 111.914062 L 240.390625 111.894531 L 240.398438 111.871094 L 240.425781 111.847656 L 240.449219 111.824219 L 240.476562 111.800781 L 240.488281 111.777344 L 240.515625 111.753906 L 240.519531 111.730469 L 240.546875 111.707031 L 240.554688 111.683594 L 240.578125 111.660156 L 240.605469 111.640625 L 240.625 111.617188 L 240.648438 111.59375 L 240.675781 111.570312 L 240.699219 111.546875 L 240.71875 111.523438 L 240.746094 111.5 L 240.753906 111.476562 L 240.777344 111.453125 L 240.796875 111.429688 L 240.824219 111.40625 L 240.835938 111.382812 L 240.855469 111.359375 L 240.898438 111.316406 L 240.90625 111.292969 L 240.933594 111.269531 L 240.945312 111.246094 L 240.96875 111.222656 L 241.023438 111.175781 L 241.046875 111.152344 L 241.074219 111.128906 L 241.097656 111.105469 L 241.117188 111.082031 L 241.125 111.058594 L 241.148438 111.035156 L 241.175781 111.011719 L 241.183594 110.988281 L 241.207031 110.964844 L 241.234375 110.941406 L 241.273438 110.894531 L 241.296875 110.871094 L 241.324219 110.847656 L 241.335938 110.824219 L 241.363281 110.800781 L 241.386719 110.777344 L 241.40625 110.753906 L 241.433594 110.730469 L 241.457031 110.707031 L 241.511719 110.660156 L 241.535156 110.636719 L 241.5625 110.613281 L 241.582031 110.589844 L 241.605469 110.566406 L 241.644531 110.519531 L 241.671875 110.496094 L 241.683594 110.472656 L 241.710938 110.449219 L 241.734375 110.425781 L 241.746094 110.402344 L 241.773438 110.378906 L 241.78125 110.355469 L 241.792969 110.332031 L 241.816406 110.308594 L 241.824219 110.285156 L 241.835938 110.261719 L 241.890625 110.214844 L 241.914062 110.191406 L 241.933594 110.167969 L 241.945312 110.144531 L 242 110.097656 L 242.023438 110.074219 L 242.054688 110.050781 L 242.082031 110.027344 L 242.132812 109.976562 L 242.152344 109.953125 L 242.179688 109.929688 L 242.210938 109.882812 L 242.230469 109.859375 L 242.253906 109.835938 L 242.28125 109.8125 L 242.304688 109.789062 L 242.320312 109.765625 L 242.34375 109.742188 L 242.359375 109.71875 L 242.371094 109.695312 L 242.382812 109.667969 L 242.410156 109.644531 L 242.433594 109.621094 L 242.449219 109.597656 L 242.46875 109.574219 L 242.492188 109.550781 L 242.519531 109.527344 L 242.53125 109.503906 L 242.558594 109.480469 L 242.574219 109.457031 L 242.59375 109.433594 L 242.609375 109.40625 L 242.632812 109.382812 L 242.671875 109.335938 L 242.699219 109.3125 L 242.722656 109.289062 L 242.738281 109.265625 L 242.742188 109.242188 L 242.761719 109.214844 L 242.773438 109.191406 L 242.828125 109.144531 L 242.851562 109.121094 L 242.890625 109.074219 L 242.917969 109.050781 L 242.941406 109.023438 L 242.957031 109 L 242.988281 108.976562 L 243.027344 108.929688 L 243.050781 108.90625 L 243.082031 108.882812 L 243.109375 108.855469 L 243.136719 108.832031 L 243.160156 108.808594 L 243.1875 108.785156 L 243.210938 108.761719 L 243.238281 108.738281 L 243.289062 108.6875 L 243.300781 108.664062 L 243.328125 108.640625 L 243.351562 108.617188 L 243.371094 108.59375 L 243.398438 108.570312 L 243.417969 108.542969 L 243.441406 108.519531 L 243.46875 108.496094 L 243.488281 108.472656 L 243.515625 108.449219 L 243.53125 108.425781 L 243.558594 108.398438 L 243.578125 108.375 L 243.605469 108.351562 L 243.625 108.328125 L 243.648438 108.304688 L 243.667969 108.277344 L 243.695312 108.253906 L 243.714844 108.230469 L 243.746094 108.183594 L 243.765625 108.160156 L 243.789062 108.132812 L 243.816406 108.109375 L 243.835938 108.085938 L 243.886719 108.035156 L 243.90625 108.011719 L 243.929688 107.988281 L 243.957031 107.964844 L 243.964844 107.941406 L 243.988281 107.914062 L 244.007812 107.890625 L 244.035156 107.867188 L 244.039062 107.84375 L 244.046875 107.816406 L 244.054688 107.792969 L 244.066406 107.769531 L 244.085938 107.746094 L 244.097656 107.722656 L 244.125 107.695312 L 244.164062 107.648438 L 244.167969 107.625 L 244.21875 107.574219 L 244.238281 107.550781 L 244.246094 107.527344 L 244.265625 107.5 L 244.273438 107.476562 L 244.296875 107.453125 L 244.324219 107.429688 L 244.347656 107.402344 L 244.363281 107.378906 L 244.382812 107.355469 L 244.40625 107.328125 L 244.433594 107.304688 L 244.457031 107.28125 L 244.484375 107.257812 L 244.503906 107.230469 L 244.507812 107.207031 L 244.523438 107.183594 L 244.535156 107.160156 L 244.554688 107.132812 L 244.582031 107.109375 L 244.65625 107.035156 L 244.675781 107.011719 L 244.703125 106.988281 L 244.726562 106.960938 L 244.742188 106.9375 L 244.765625 106.914062 L 244.777344 106.886719 L 244.832031 106.839844 L 244.855469 106.8125 L 244.894531 106.765625 L 244.945312 106.714844 L 244.960938 106.691406 L 244.984375 106.664062 L 244.996094 106.640625 L 245.023438 106.617188 L 245.035156 106.589844 L 245.050781 106.566406 L 245.125 106.492188 L 245.152344 106.46875 L 245.175781 106.441406 L 245.195312 106.417969 L 245.210938 106.394531 L 245.230469 106.367188 L 245.253906 106.34375 L 245.265625 106.320312 L 245.285156 106.292969 L 245.339844 106.246094 L 245.363281 106.21875 L 245.390625 106.195312 L 245.410156 106.171875 L 245.433594 106.144531 L 245.453125 106.121094 L 245.480469 106.097656 L 245.503906 106.070312 L 245.519531 106.046875 L 245.539062 106.019531 L 245.554688 105.996094 L 245.582031 105.972656 L 245.601562 105.945312 L 245.628906 105.921875 L 245.652344 105.898438 L 245.671875 105.871094 L 245.699219 105.847656 L 245.722656 105.820312 L 245.75 105.796875 L 245.761719 105.773438 L 245.78125 105.746094 L 245.792969 105.722656 L 245.8125 105.699219 L 245.863281 105.648438 L 245.882812 105.621094 L 245.902344 105.597656 L 245.929688 105.574219 L 245.953125 105.546875 L 245.972656 105.523438 L 246 105.496094 L 246.011719 105.472656 L 246.03125 105.445312 L 246.070312 105.398438 L 246.082031 105.371094 L 246.109375 105.347656 L 246.128906 105.320312 L 246.148438 105.296875 L 246.171875 105.269531 L 246.210938 105.222656 L 246.230469 105.195312 L 246.25 105.171875 L 246.261719 105.144531 L 246.269531 105.121094 L 246.296875 105.09375 L 246.308594 105.070312 L 246.332031 105.042969 L 246.351562 105.019531 L 246.371094 104.992188 L 246.398438 104.96875 L 246.421875 104.945312 L 246.4375 104.917969 L 246.460938 104.894531 L 246.46875 104.867188 L 246.480469 104.84375 L 246.507812 104.816406 L 246.527344 104.792969 L 246.550781 104.765625 L 246.570312 104.742188 L 246.597656 104.714844 L 246.617188 104.691406 L 246.640625 104.664062 L 246.667969 104.640625 L 246.679688 104.613281 L 246.691406 104.589844 L 246.71875 104.5625 L 246.730469 104.539062 L 246.757812 104.511719 L 246.777344 104.488281 L 246.800781 104.460938 L 246.820312 104.4375 L 246.847656 104.410156 L 246.867188 104.386719 L 246.886719 104.359375 L 246.90625 104.335938 L 246.925781 104.308594 L 246.949219 104.28125 L 246.976562 104.257812 L 247 104.230469 L 247.019531 104.207031 L 247.035156 104.179688 L 247.046875 104.15625 L 247.066406 104.128906 L 247.085938 104.105469 L 247.097656 104.078125 L 247.125 104.054688 L 247.148438 104.027344 L 247.164062 104 L 247.179688 103.976562 L 247.199219 103.949219 L 247.21875 103.925781 L 247.296875 103.847656 L 247.324219 103.824219 L 247.347656 103.796875 L 247.367188 103.769531 L 247.378906 103.746094 L 247.398438 103.71875 L 247.417969 103.695312 L 247.445312 103.667969 L 247.46875 103.640625 L 247.496094 103.617188 L 247.523438 103.589844 L 247.542969 103.566406 L 247.566406 103.539062 L 247.59375 103.511719 L 247.605469 103.488281 L 247.632812 103.460938 L 247.644531 103.4375 L 247.683594 103.382812 L 247.734375 103.332031 L 247.753906 103.308594 L 247.777344 103.253906 L 247.804688 103.230469 L 247.824219 103.203125 L 247.847656 103.175781 L 247.875 103.152344 L 247.894531 103.125 L 247.90625 103.101562 L 247.933594 103.074219 L 247.957031 103.046875 L 247.984375 103.023438 L 247.996094 102.996094 L 248.074219 102.917969 L 248.09375 102.894531 L 248.113281 102.867188 L 248.136719 102.839844 L 248.15625 102.816406 L 248.164062 102.789062 L 248.214844 102.738281 L 248.226562 102.710938 L 248.246094 102.683594 L 248.273438 102.660156 L 248.292969 102.632812 L 248.371094 102.554688 L 248.390625 102.53125 L 248.414062 102.503906 L 248.441406 102.476562 L 248.445312 102.453125 L 248.464844 102.425781 L 248.59375 102.296875 L 248.613281 102.269531 L 248.640625 102.242188 L 248.660156 102.21875 L 248.671875 102.191406 L 248.75 102.113281 L 248.773438 102.085938 L 248.800781 102.0625 L 248.824219 102.035156 L 248.839844 102.007812 L 248.863281 101.980469 L 248.890625 101.957031 L 248.910156 101.929688 L 248.933594 101.902344 L 248.960938 101.878906 L 248.984375 101.851562 L 249.003906 101.824219 L 249.03125 101.800781 L 249.070312 101.746094 L 249.09375 101.71875 L 249.109375 101.695312 L 249.132812 101.667969 L 249.148438 101.640625 L 249.160156 101.617188 L 249.183594 101.589844 L 249.199219 101.5625 L 249.21875 101.535156 L 249.269531 101.484375 L 249.292969 101.457031 L 249.3125 101.433594 L 249.367188 101.378906 L 249.390625 101.351562 L 249.410156 101.328125 L 249.4375 101.300781 L 249.457031 101.273438 L 249.472656 101.246094 L 249.492188 101.222656 L 249.511719 101.195312 L 249.539062 101.167969 L 249.558594 101.140625 L 249.578125 101.117188 L 249.617188 101.0625 L 249.628906 101.035156 L 249.65625 101.011719 L 249.671875 100.984375 L 249.777344 100.878906 L 249.796875 100.851562 L 249.820312 100.824219 L 249.835938 100.800781 L 249.859375 100.773438 L 249.886719 100.746094 L 249.90625 100.71875 L 249.957031 100.667969 L 249.980469 100.640625 L 250 100.613281 L 250.027344 100.585938 L 250.046875 100.5625 L 250.070312 100.535156 L 250.097656 100.507812 L 250.117188 100.480469 L 250.140625 100.453125 L 250.15625 100.429688 L 250.179688 100.402344 L 250.207031 100.375 L 250.21875 100.347656 L 250.226562 100.320312 L 250.25 100.296875 L 250.269531 100.269531 L 250.296875 100.242188 L 250.308594 100.214844 L 250.335938 100.1875 L 250.359375 100.160156 L 250.386719 100.136719 L 250.394531 100.109375 L 250.414062 100.082031 L 250.4375 100.054688 L 250.476562 100 L 250.503906 99.976562 L 250.527344 99.949219 L 250.585938 99.867188 L 250.613281 99.839844 L 250.628906 99.816406 L 250.726562 99.679688 L 250.738281 99.652344 L 250.765625 99.628906 L 250.792969 99.601562 L 250.816406 99.574219 L 250.828125 99.546875 L 250.847656 99.519531 L 250.875 99.492188 L 250.894531 99.464844 L 250.917969 99.4375 L 250.933594 99.414062 L 250.953125 99.386719 L 250.976562 99.359375 L 250.996094 99.332031 L 251.023438 99.304688 L 251.042969 99.277344 L 251.066406 99.25 L 251.085938 99.222656 L 251.09375 99.195312 L 251.113281 99.171875 L 251.136719 99.144531 L 251.15625 99.117188 L 251.183594 99.089844 L 251.207031 99.0625 L 251.226562 99.035156 L 251.28125 98.980469 L 251.304688 98.953125 L 251.324219 98.925781 L 251.351562 98.902344 L 251.363281 98.875 L 251.386719 98.847656 L 251.414062 98.820312 L 251.472656 98.738281 L 251.496094 98.710938 L 251.523438 98.683594 L 251.5625 98.628906 L 251.574219 98.601562 L 251.59375 98.574219 L 251.621094 98.546875 L 251.644531 98.519531 L 251.660156 98.496094 L 251.683594 98.46875 L 251.695312 98.441406 L 251.75 98.386719 L 251.773438 98.359375 L 251.800781 98.332031 L 251.824219 98.304688 L 251.839844 98.277344 L 251.863281 98.25 L 251.890625 98.222656 L 251.929688 98.167969 L 251.953125 98.140625 L 251.980469 98.113281 L 252.003906 98.085938 L 252.023438 98.058594 L 252.050781 98.03125 L 252.070312 98.003906 L 252.09375 97.976562 L 252.113281 97.949219 L 252.140625 97.921875 L 252.152344 97.894531 L 252.171875 97.867188 L 252.183594 97.839844 L 252.238281 97.785156 L 252.261719 97.757812 L 252.289062 97.730469 L 252.3125 97.703125 L 252.332031 97.675781 L 252.359375 97.648438 L 252.398438 97.59375 L 252.421875 97.566406 L 252.449219 97.539062 L 252.472656 97.511719 L 252.492188 97.484375 L 252.507812 97.457031 L 252.53125 97.429688 L 252.542969 97.402344 L 252.597656 97.347656 L 252.621094 97.320312 L 252.640625 97.292969 L 252.652344 97.265625 L 252.667969 97.238281 L 252.691406 97.210938 L 252.71875 97.183594 L 252.742188 97.152344 L 252.757812 97.125 L 252.777344 97.097656 L 252.800781 97.070312 L 252.8125 97.042969 L 252.839844 97.015625 L 252.851562 96.988281 L 252.878906 96.960938 L 252.890625 96.933594 L 252.917969 96.90625 L 252.941406 96.878906 L 252.96875 96.851562 L 252.980469 96.824219 L 253.007812 96.796875 L 253.03125 96.765625 L 253.058594 96.738281 L 253.078125 96.710938 L 253.101562 96.683594 L 253.15625 96.628906 L 253.175781 96.601562 L 253.1875 96.574219 L 253.210938 96.546875 L 253.226562 96.519531 L 253.246094 96.492188 L 253.269531 96.460938 L 253.285156 96.433594 L 253.308594 96.40625 L 253.316406 96.378906 L 253.335938 96.351562 L 253.359375 96.324219 L 253.386719 96.296875 L 253.40625 96.269531 L 253.429688 96.242188 L 253.457031 96.210938 L 253.496094 96.15625 L 253.519531 96.128906 L 253.539062 96.101562 L 253.566406 96.074219 L 253.589844 96.046875 L 253.609375 96.019531 L 253.628906 95.988281 L 253.65625 95.960938 L 253.679688 95.933594 L 253.707031 95.90625 L 253.746094 95.851562 L 253.753906 95.824219 L 253.765625 95.796875 L 253.789062 95.765625 L 253.84375 95.710938 L 253.863281 95.683594 L 253.886719 95.65625 L 253.925781 95.601562 L 253.9375 95.570312 L 253.964844 95.542969 L 254.003906 95.488281 L 254.007812 95.460938 L 254.035156 95.433594 L 254.054688 95.402344 L 254.078125 95.347656 L 254.09375 95.320312 L 254.113281 95.292969 L 254.132812 95.261719 L 254.152344 95.234375 L 254.164062 95.207031 L 254.1875 95.179688 L 254.207031 95.152344 L 254.234375 95.121094 L 254.253906 95.09375 L 254.265625 95.066406 L 254.304688 95.011719 L 254.324219 94.980469 L 254.335938 94.953125 L 254.375 94.898438 L 254.382812 94.867188 L 254.386719 94.839844 L 254.414062 94.8125 L 254.433594 94.785156 L 254.445312 94.753906 L 254.457031 94.726562 L 254.472656 94.699219 L 254.484375 94.671875 L 254.496094 94.640625 L 254.511719 94.613281 L 254.53125 94.585938 L 254.535156 94.558594 L 254.5625 94.527344 L 254.574219 94.5 L 254.59375 94.472656 L 254.605469 94.441406 L 254.644531 94.386719 L 254.65625 94.355469 L 254.675781 94.328125 L 254.703125 94.300781 L 254.722656 94.273438 L 254.746094 94.242188 L 254.785156 94.1875 L 254.8125 94.15625 L 254.835938 94.128906 L 254.855469 94.101562 L 254.882812 94.070312 L 254.921875 94.015625 L 254.941406 93.984375 L 254.964844 93.929688 L 254.984375 93.898438 L 255.015625 93.84375 L 255.035156 93.8125 L 255.0625 93.785156 L 255.074219 93.757812 L 255.09375 93.726562 L 255.113281 93.699219 L 255.132812 93.667969 L 255.171875 93.613281 L 255.179688 93.582031 L 255.191406 93.554688 L 255.210938 93.527344 L 255.222656 93.496094 L 255.234375 93.46875 L 255.25 93.4375 L 255.273438 93.382812 L 255.292969 93.351562 L 255.304688 93.324219 L 255.320312 93.292969 L 255.339844 93.265625 L 255.359375 93.234375 L 255.371094 93.207031 L 255.390625 93.179688 L 255.402344 93.148438 L 255.410156 93.121094 L 255.429688 93.089844 L 255.433594 93.0625 L 255.453125 93.03125 L 255.472656 93.003906 L 255.488281 92.972656 L 255.5 92.945312 L 255.519531 92.914062 L 255.53125 92.886719 L 255.550781 92.855469 L 255.589844 92.800781 L 255.609375 92.769531 L 255.613281 92.742188 L 255.632812 92.710938 L 255.652344 92.683594 L 255.667969 92.652344 L 255.679688 92.625 L 255.699219 92.59375 L 255.703125 92.566406 L 255.722656 92.535156 L 255.730469 92.507812 L 255.742188 92.476562 L 255.761719 92.449219 L 255.78125 92.417969 L 255.792969 92.390625 L 255.808594 92.359375 L 255.828125 92.328125 L 255.847656 92.300781 L 255.867188 92.269531 L 255.878906 92.242188 L 255.890625 92.210938 L 255.910156 92.183594 L 255.929688 92.152344 L 255.941406 92.125 L 255.96875 92.09375 L 255.992188 92.066406 L 256.046875 92.003906 L 256.058594 91.976562 L 256.070312 91.945312 L 256.082031 91.917969 L 256.097656 91.886719 L 256.109375 91.855469 L 256.128906 91.828125 L 256.148438 91.796875 L 256.167969 91.769531 L 256.207031 91.707031 L 256.226562 91.679688 L 256.246094 91.648438 L 256.261719 91.621094 L 256.277344 91.589844 L 256.300781 91.558594 L 256.320312 91.53125 L 256.347656 91.5 L 256.367188 91.46875 L 256.386719 91.441406 L 256.398438 91.410156 L 256.417969 91.378906 L 256.4375 91.351562 L 256.457031 91.320312 L 256.46875 91.289062 L 256.488281 91.261719 L 256.5 91.230469 L 256.519531 91.203125 L 256.550781 91.140625 L 256.570312 91.113281 L 256.609375 91.050781 L 256.636719 91.023438 L 256.648438 90.992188 L 256.6875 90.929688 L 256.707031 90.902344 L 256.71875 90.871094 L 256.738281 90.839844 L 256.75 90.8125 L 256.789062 90.75 L 256.808594 90.722656 L 256.824219 90.691406 L 256.835938 90.660156 L 256.855469 90.628906 L 256.867188 90.601562 L 256.886719 90.570312 L 256.898438 90.539062 L 256.917969 90.511719 L 256.929688 90.480469 L 256.9375 90.449219 L 256.957031 90.417969 L 256.96875 90.390625 L 257.027344 90.296875 L 257.046875 90.269531 L 257.058594 90.238281 L 257.078125 90.207031 L 257.09375 90.175781 L 257.105469 90.148438 L 257.144531 90.085938 L 257.15625 90.054688 L 257.164062 90.023438 L 257.175781 89.996094 L 257.195312 89.964844 L 257.207031 89.933594 L 257.214844 89.902344 L 257.234375 89.871094 L 257.253906 89.84375 L 257.265625 89.8125 L 257.324219 89.71875 L 257.335938 89.6875 L 257.347656 89.660156 L 257.386719 89.597656 L 257.402344 89.566406 L 257.40625 89.535156 L 257.425781 89.503906 L 257.4375 89.476562 L 257.496094 89.382812 L 257.507812 89.351562 L 257.523438 89.320312 L 257.5625 89.257812 L 257.574219 89.230469 L 257.632812 89.136719 L 257.644531 89.105469 L 257.703125 89.011719 L 257.726562 88.949219 L 257.742188 88.917969 L 257.753906 88.890625 L 257.871094 88.703125 L 257.902344 88.640625 L 257.980469 88.515625 L 257.984375 88.484375 L 258.003906 88.453125 L 258.015625 88.421875 L 258.035156 88.390625 L 258.050781 88.359375 L 258.054688 88.328125 L 258.113281 88.234375 L 258.121094 88.203125 L 258.125 88.171875 L 258.144531 88.140625 L 258.152344 88.109375 L 258.171875 88.078125 L 258.183594 88.046875 L 258.203125 88.011719 L 258.222656 87.980469 L 258.234375 87.949219 L 258.292969 87.855469 L 258.304688 87.824219 L 258.320312 87.792969 L 258.359375 87.730469 L 258.363281 87.699219 L 258.382812 87.664062 L 258.421875 87.601562 L 258.429688 87.570312 L 258.449219 87.539062 L 258.464844 87.507812 L 258.484375 87.476562 L 258.5 87.445312 L 258.519531 87.410156 L 258.542969 87.347656 L 258.5625 87.316406 L 258.570312 87.285156 L 258.609375 87.222656 L 258.628906 87.1875 L 258.640625 87.15625 L 258.660156 87.125 L 258.671875 87.09375 L 258.691406 87.0625 L 258.710938 87.027344 L 258.722656 86.996094 L 258.78125 86.902344 L 258.800781 86.867188 L 258.839844 86.804688 L 258.851562 86.773438 L 258.871094 86.742188 L 258.890625 86.707031 L 258.902344 86.675781 L 258.921875 86.644531 L 258.9375 86.613281 L 258.953125 86.578125 L 259.011719 86.484375 L 259.019531 86.449219 L 259.03125 86.417969 L 259.050781 86.386719 L 259.0625 86.355469 L 259.082031 86.320312 L 259.101562 86.289062 L 259.109375 86.257812 L 259.121094 86.222656 L 259.179688 86.128906 L 259.199219 86.09375 L 259.222656 86.03125 L 259.238281 85.996094 L 259.257812 85.964844 L 259.269531 85.933594 L 259.28125 85.898438 L 259.296875 85.867188 L 259.308594 85.835938 L 259.328125 85.800781 L 259.332031 85.769531 L 259.351562 85.738281 L 259.359375 85.703125 L 259.378906 85.671875 L 259.390625 85.640625 L 259.40625 85.605469 L 259.421875 85.574219 L 259.441406 85.542969 L 259.449219 85.507812 L 259.46875 85.476562 L 259.476562 85.445312 L 259.496094 85.410156 L 259.511719 85.378906 L 259.53125 85.34375 L 259.546875 85.3125 L 259.558594 85.28125 L 259.570312 85.246094 L 259.578125 85.214844 L 259.597656 85.183594 L 259.617188 85.148438 L 259.636719 85.117188 L 259.648438 85.082031 L 259.6875 85.019531 L 259.699219 84.984375 L 259.71875 84.953125 L 259.738281 84.917969 L 259.75 84.886719 L 259.769531 84.851562 L 259.808594 84.789062 L 259.820312 84.753906 L 259.839844 84.722656 L 259.859375 84.6875 L 259.878906 84.65625 L 259.898438 84.621094 L 259.917969 84.589844 L 259.9375 84.554688 L 259.949219 84.523438 L 259.96875 84.492188 L 259.988281 84.457031 L 260.007812 84.425781 L 260.019531 84.390625 L 260.027344 84.359375 L 260.039062 84.324219 L 260.054688 84.292969 L 260.074219 84.257812 L 260.085938 84.226562 L 260.097656 84.191406 L 260.109375 84.160156 L 260.128906 84.125 L 260.144531 84.09375 L 260.164062 84.058594 L 260.175781 84.027344 L 260.195312 83.992188 L 260.214844 83.960938 L 260.226562 83.925781 L 260.246094 83.890625 L 260.257812 83.859375 L 260.273438 83.824219 L 260.289062 83.792969 L 260.308594 83.757812 L 260.324219 83.726562 L 260.34375 83.691406 L 260.363281 83.660156 L 260.378906 83.625 L 260.398438 83.589844 L 260.414062 83.558594 L 260.433594 83.523438 L 260.453125 83.492188 L 260.464844 83.457031 L 260.484375 83.425781 L 260.503906 83.390625 L 260.507812 83.355469 L 260.527344 83.324219 L 260.546875 83.289062 L 260.566406 83.257812 L 260.578125 83.222656 L 260.597656 83.1875 L 260.617188 83.15625 L 260.65625 83.085938 L 260.667969 83.054688 L 260.707031 82.984375 L 260.726562 82.953125 L 260.742188 82.917969 L 260.757812 82.886719 L 260.773438 82.851562 L 260.792969 82.816406 L 260.8125 82.785156 L 260.851562 82.714844 L 260.867188 82.679688 L 260.886719 82.648438 L 260.90625 82.613281 L 260.921875 82.578125 L 260.925781 82.546875 L 260.957031 82.476562 L 260.972656 82.445312 L 260.984375 82.410156 L 260.992188 82.375 L 261.003906 82.339844 L 261.015625 82.308594 L 261.046875 82.238281 L 261.066406 82.207031 L 261.085938 82.171875 L 261.101562 82.136719 L 261.121094 82.101562 L 261.132812 82.070312 L 261.144531 82.035156 L 261.164062 82 L 261.175781 81.964844 L 261.195312 81.933594 L 261.234375 81.863281 L 261.246094 81.828125 L 261.261719 81.792969 L 261.28125 81.761719 L 261.304688 81.691406 L 261.324219 81.65625 L 261.335938 81.625 L 261.351562 81.589844 L 261.363281 81.554688 L 261.371094 81.519531 L 261.375 81.484375 L 261.382812 81.449219 L 261.402344 81.417969 L 261.5 81.242188 L 261.511719 81.210938 L 261.550781 81.140625 L 261.5625 81.105469 L 261.570312 81.070312 L 261.589844 81.035156 L 261.601562 81 L 261.613281 80.96875 L 261.632812 80.933594 L 261.644531 80.898438 L 261.660156 80.863281 L 261.699219 80.792969 L 261.714844 80.757812 L 261.722656 80.722656 L 261.742188 80.6875 L 261.753906 80.652344 L 261.773438 80.621094 L 261.910156 80.375 L 261.933594 80.304688 L 261.949219 80.269531 L 261.960938 80.234375 L 261.980469 80.199219 L 261.992188 80.164062 L 262.1875 79.8125 L 262.199219 79.777344 L 262.21875 79.742188 L 262.230469 79.707031 L 262.25 79.671875 L 262.261719 79.636719 L 262.277344 79.601562 L 262.289062 79.566406 L 262.347656 79.460938 L 262.359375 79.425781 L 262.378906 79.386719 L 262.390625 79.351562 L 262.429688 79.28125 L 262.441406 79.246094 L 262.480469 79.175781 L 262.492188 79.140625 L 262.570312 79 L 262.582031 78.964844 L 262.597656 78.929688 L 262.617188 78.890625 L 262.65625 78.820312 L 262.671875 78.785156 L 262.769531 78.609375 L 262.789062 78.570312 L 262.847656 78.464844 L 262.859375 78.429688 L 262.878906 78.394531 L 262.890625 78.359375 L 262.90625 78.320312 L 262.910156 78.285156 L 262.929688 78.25 L 262.960938 78.179688 L 262.976562 78.140625 L 263.035156 78.035156 L 263.046875 78 L 263.066406 77.960938 L 263.125 77.855469 L 263.144531 77.816406 L 263.148438 77.78125 L 263.160156 77.746094 L 263.179688 77.707031 L 263.195312 77.671875 L 263.214844 77.636719 L 263.21875 77.601562 L 263.238281 77.5625 L 263.277344 77.492188 L 263.289062 77.453125 L 263.328125 77.382812 L 263.339844 77.34375 L 263.359375 77.308594 L 263.367188 77.273438 L 263.386719 77.238281 L 263.398438 77.199219 L 263.414062 77.164062 L 263.433594 77.128906 L 263.445312 77.089844 L 263.464844 77.054688 L 263.476562 77.019531 L 263.496094 76.980469 L 263.515625 76.945312 L 263.535156 76.90625 L 263.574219 76.835938 L 263.59375 76.796875 L 263.613281 76.761719 L 263.617188 76.726562 L 263.636719 76.6875 L 263.675781 76.617188 L 263.695312 76.578125 L 263.714844 76.542969 L 263.734375 76.503906 L 263.773438 76.433594 L 263.792969 76.394531 L 263.8125 76.359375 L 263.828125 76.320312 L 263.84375 76.285156 L 263.847656 76.246094 L 263.867188 76.210938 L 263.875 76.175781 L 263.886719 76.136719 L 263.902344 76.101562 L 263.914062 76.0625 L 263.933594 76.027344 L 263.953125 75.988281 L 263.964844 75.953125 L 263.984375 75.914062 L 263.992188 75.878906 L 264.003906 75.84375 L 264.023438 75.804688 L 264.042969 75.769531 L 264.054688 75.730469 L 264.074219 75.695312 L 264.085938 75.65625 L 264.105469 75.621094 L 264.125 75.582031 L 264.136719 75.546875 L 264.15625 75.507812 L 264.175781 75.472656 L 264.195312 75.433594 L 264.214844 75.398438 L 264.234375 75.359375 L 264.253906 75.324219 L 264.265625 75.285156 L 264.273438 75.25 L 264.28125 75.210938 L 264.292969 75.171875 L 264.304688 75.136719 L 264.3125 75.097656 L 264.316406 75.0625 L 264.324219 75.023438 L 264.335938 74.984375 L 264.34375 74.949219 L 264.363281 74.910156 L 264.375 74.875 L 264.414062 74.796875 L 264.433594 74.761719 L 264.441406 74.722656 L 264.445312 74.683594 L 264.460938 74.648438 L 264.472656 74.609375 L 264.480469 74.570312 L 264.492188 74.535156 L 264.503906 74.496094 L 264.523438 74.457031 L 264.542969 74.421875 L 264.554688 74.382812 L 264.5625 74.34375 L 264.574219 74.304688 L 264.59375 74.269531 L 264.652344 74.152344 L 264.671875 74.117188 L 264.691406 74.078125 L 264.714844 74 L 264.734375 73.964844 L 264.753906 73.925781 L 264.800781 73.808594 L 264.8125 73.773438 L 264.820312 73.734375 L 264.84375 73.65625 L 264.851562 73.617188 L 264.863281 73.578125 L 264.871094 73.539062 L 264.894531 73.460938 L 264.910156 73.425781 L 264.914062 73.386719 L 264.929688 73.347656 L 264.964844 73.230469 L 264.972656 73.1875 L 264.984375 73.148438 L 265 73.109375 L 265.023438 73.03125 L 265.039062 72.992188 L 265.074219 72.875 L 265.089844 72.832031 L 265.113281 72.753906 L 265.152344 72.675781 L 265.160156 72.632812 L 265.179688 72.59375 L 265.183594 72.554688 L 265.199219 72.515625 L 265.210938 72.472656 L 265.21875 72.433594 L 265.242188 72.355469 L 265.25 72.3125 L 265.253906 72.273438 L 265.269531 72.234375 L 265.28125 72.191406 L 265.292969 72.152344 L 265.308594 72.113281 L 265.320312 72.070312 L 265.328125 72.03125 L 265.339844 71.992188 L 265.351562 71.949219 L 265.363281 71.910156 L 265.378906 71.871094 L 265.390625 71.828125 L 265.402344 71.789062 L 265.410156 71.746094 L 265.421875 71.707031 L 265.4375 71.664062 L 265.449219 71.625 L 265.460938 71.582031 L 265.472656 71.542969 L 265.480469 71.5 L 265.492188 71.460938 L 265.507812 71.417969 L 265.519531 71.378906 L 265.53125 71.335938 L 265.542969 71.296875 L 265.558594 71.253906 L 265.570312 71.214844 L 265.582031 71.171875 L 265.597656 71.132812 L 265.621094 71.046875 L 265.636719 71.007812 L 265.660156 70.921875 L 265.671875 70.882812 L 265.6875 70.839844 L 265.691406 70.800781 L 265.699219 70.757812 L 265.710938 70.714844 L 265.726562 70.671875 L 265.738281 70.632812 L 265.761719 70.546875 L 265.777344 70.507812 L 265.789062 70.464844 L 265.796875 70.421875 L 265.808594 70.378906 L 265.820312 70.339844 L 265.832031 70.296875 L 265.839844 70.253906 L 265.851562 70.210938 L 265.867188 70.167969 L 265.871094 70.128906 L 265.886719 70.085938 L 265.890625 70.042969 L 265.90625 70 L 265.910156 69.957031 L 265.921875 69.917969 L 265.9375 69.875 L 265.960938 69.789062 L 265.976562 69.746094 L 266 69.660156 L 266.015625 69.617188 L 266.050781 69.488281 L 266.066406 69.445312 L 266.078125 69.40625 L 266.089844 69.363281 L 266.105469 69.320312 L 266.128906 69.234375 L 266.136719 69.191406 L 266.160156 69.105469 L 266.175781 69.019531 L 266.179688 68.976562 L 266.195312 68.933594 L 266.199219 68.890625 L 266.207031 68.847656 L 266.21875 68.800781 L 266.230469 68.757812 L 266.246094 68.714844 L 266.269531 68.628906 L 266.285156 68.585938 L 266.296875 68.539062 L 266.304688 68.496094 L 266.308594 68.453125 L 266.316406 68.410156 L 266.328125 68.363281 L 266.339844 68.320312 L 266.347656 68.277344 L 266.359375 68.234375 L 266.375 68.1875 L 266.398438 68.101562 L 266.410156 68.054688 L 266.425781 68.011719 L 266.4375 67.96875 L 266.449219 67.921875 L 266.464844 67.878906 L 266.46875 67.832031 L 266.484375 67.789062 L 266.496094 67.746094 L 266.507812 67.699219 L 266.519531 67.65625 L 266.535156 67.613281 L 266.546875 67.566406 L 266.558594 67.523438 L 266.566406 67.476562 L 266.578125 67.433594 L 266.59375 67.386719 L 266.617188 67.300781 L 266.628906 67.253906 L 266.644531 67.210938 L 266.65625 67.164062 L 266.667969 67.121094 L 266.683594 67.074219 L 266.6875 67.027344 L 266.699219 66.984375 L 266.714844 66.9375 L 266.726562 66.894531 L 266.738281 66.847656 L 266.753906 66.800781 L 266.765625 66.757812 L 266.777344 66.710938 L 266.789062 66.667969 L 266.804688 66.621094 L 266.808594 66.574219 L 266.824219 66.53125 L 266.847656 66.4375 L 266.863281 66.394531 L 266.898438 66.253906 L 266.914062 66.210938 L 266.9375 66.117188 L 266.953125 66.070312 L 266.964844 66.027344 L 266.972656 65.980469 L 266.996094 65.886719 L 267.003906 65.84375 L 267.007812 65.796875 L 267.023438 65.75 L 267.035156 65.703125 L 267.042969 65.65625 L 267.066406 65.5625 L 267.078125 65.519531 L 267.09375 65.472656 L 267.105469 65.425781 L 267.113281 65.378906 L 267.117188 65.332031 L 267.132812 65.285156 L 267.167969 65.144531 L 267.183594 65.097656 L 267.195312 65.050781 L 267.203125 65.003906 L 267.207031 64.957031 L 267.222656 64.910156 L 267.234375 64.863281 L 267.242188 64.816406 L 267.277344 64.675781 L 267.292969 64.628906 L 267.304688 64.582031 L 267.3125 64.535156 L 267.324219 64.484375 L 267.335938 64.4375 L 267.351562 64.390625 L 267.375 64.296875 L 267.382812 64.25 L 267.394531 64.199219 L 267.40625 64.152344 L 267.421875 64.105469 L 267.425781 64.058594 L 267.441406 64.011719 L 267.453125 63.960938 L 267.457031 63.914062 L 267.472656 63.867188 L 267.476562 63.820312 L 267.492188 63.769531 L 267.503906 63.722656 L 267.511719 63.675781 L 267.515625 63.628906 L 267.53125 63.578125 L 267.542969 63.53125 L 267.550781 63.484375 L 267.5625 63.433594 L 267.585938 63.339844 L 267.601562 63.289062 L 267.605469 63.242188 L 267.621094 63.191406 L 267.632812 63.144531 L 267.644531 63.09375 L 267.65625 63.046875 L 267.664062 62.996094 L 267.675781 62.949219 L 267.691406 62.898438 L 267.703125 62.851562 L 267.714844 62.800781 L 267.730469 62.753906 L 267.734375 62.703125 L 267.746094 62.652344 L 267.761719 62.605469 L 267.765625 62.554688 L 267.78125 62.507812 L 267.804688 62.40625 L 267.8125 62.359375 L 267.824219 62.308594 L 267.835938 62.261719 L 267.851562 62.210938 L 267.863281 62.160156 L 267.871094 62.113281 L 267.894531 62.011719 L 267.910156 61.964844 L 267.921875 61.914062 L 267.929688 61.863281 L 267.941406 61.8125 L 267.945312 61.765625 L 267.960938 61.714844 L 267.972656 61.664062 L 267.980469 61.613281 L 267.992188 61.566406 L 268.003906 61.515625 L 268.011719 61.464844 L 268.035156 61.363281 L 268.050781 61.316406 L 268.054688 61.265625 L 268.070312 61.214844 L 268.074219 61.164062 L 268.089844 61.113281 L 268.101562 61.0625 L 268.113281 61.015625 L 268.125 60.964844 L 268.140625 60.914062 L 268.164062 60.8125 L 268.179688 60.761719 L 268.203125 60.660156 L 268.21875 60.609375 L 268.230469 60.558594 L 268.234375 60.507812 L 268.25 60.457031 L 268.261719 60.40625 L 268.269531 60.355469 L 268.273438 60.304688 L 268.289062 60.253906 L 268.324219 60.101562 L 268.339844 60.050781 L 268.351562 60 L 268.363281 59.945312 L 268.378906 59.894531 L 268.414062 59.742188 L 268.429688 59.691406 L 268.453125 59.589844 L 268.46875 59.539062 L 268.480469 59.484375 L 268.503906 59.382812 L 268.519531 59.332031 L 268.542969 59.230469 L 268.550781 59.175781 L 268.5625 59.125 L 268.578125 59.074219 L 268.589844 59.023438 L 268.601562 58.96875 L 268.613281 58.917969 L 268.628906 58.867188 L 268.640625 58.8125 L 268.652344 58.761719 L 268.667969 58.710938 L 268.671875 58.65625 L 268.679688 58.605469 L 268.691406 58.554688 L 268.703125 58.5 L 268.71875 58.449219 L 268.730469 58.394531 L 268.742188 58.34375 L 268.757812 58.289062 L 268.769531 58.238281 L 268.78125 58.183594 L 268.792969 58.132812 L 268.808594 58.078125 L 268.820312 58.027344 L 268.832031 57.972656 L 268.847656 57.921875 L 268.851562 57.867188 L 268.867188 57.816406 L 268.878906 57.761719 L 268.890625 57.710938 L 268.902344 57.65625 L 268.910156 57.601562 L 268.921875 57.550781 L 268.9375 57.496094 L 268.949219 57.445312 L 268.960938 57.390625 L 268.976562 57.335938 L 268.988281 57.285156 L 268.992188 57.230469 L 269.007812 57.175781 L 269.019531 57.125 L 269.03125 57.070312 L 269.046875 57.015625 L 269.058594 56.964844 L 269.082031 56.855469 L 269.097656 56.804688 L 269.121094 56.695312 L 269.136719 56.644531 L 269.140625 56.589844 L 269.15625 56.535156 L 269.167969 56.480469 L 269.179688 56.429688 L 269.191406 56.375 L 269.207031 56.320312 L 269.21875 56.265625 L 269.230469 56.214844 L 269.246094 56.160156 L 269.269531 56.050781 L 269.28125 56 L 269.296875 55.945312 L 269.300781 55.890625 L 269.316406 55.835938 L 269.328125 55.78125 L 269.339844 55.730469 L 269.355469 55.621094 L 269.378906 55.511719 L 269.386719 55.457031 L 269.398438 55.40625 L 269.40625 55.351562 L 269.429688 55.242188 L 269.445312 55.1875 L 269.46875 55.078125 L 269.476562 55.023438 L 269.5 54.914062 L 269.515625 54.859375 L 269.539062 54.75 L 269.554688 54.695312 L 269.589844 54.53125 L 269.605469 54.421875 L 269.628906 54.3125 L 269.636719 54.257812 L 269.648438 54.203125 L 269.65625 54.148438 L 269.667969 54.09375 L 269.675781 54.039062 L 269.699219 53.929688 L 269.714844 53.875 L 269.75 53.710938 L 269.765625 53.65625 L 269.777344 53.601562 L 269.789062 53.542969 L 269.804688 53.488281 L 269.808594 53.433594 L 269.824219 53.378906 L 269.828125 53.324219 L 269.84375 53.265625 L 269.878906 53.101562 L 269.886719 53.042969 L 269.898438 52.988281 L 269.90625 52.933594 L 269.914062 52.875 L 269.917969 52.820312 L 269.925781 52.761719 L 269.9375 52.703125 L 269.949219 52.648438 L 269.964844 52.53125 L 269.976562 52.476562 L 269.988281 52.417969 L 270.003906 52.359375 L 270.007812 52.304688 L 270.023438 52.1875 L 270.027344 52.128906 L 270.035156 52.070312 L 270.039062 52.011719 L 270.054688 51.894531 L 270.058594 51.835938 L 270.074219 51.71875 L 270.078125 51.660156 L 270.09375 51.542969 L 270.097656 51.484375 L 270.105469 51.421875 L 270.113281 51.363281 L 270.125 51.304688 L 270.132812 51.242188 L 270.144531 51.183594 L 270.148438 51.125 L 270.164062 51 L 270.167969 50.941406 L 270.183594 50.816406 L 270.1875 50.753906 L 270.203125 50.628906 L 270.207031 50.566406 L 270.214844 50.5 L 270.222656 50.4375 L 270.226562 50.371094 L 270.234375 50.308594 L 270.238281 50.242188 L 270.246094 50.179688 L 270.253906 50.113281 L 270.257812 50.046875 L 270.273438 49.914062 L 270.277344 49.847656 L 270.285156 49.777344 L 270.292969 49.710938 L 270.296875 49.644531 L 270.304688 49.578125 L 270.3125 49.507812 L 270.316406 49.441406 L 270.324219 49.375 L 270.328125 49.304688 L 270.335938 49.238281 L 270.34375 49.167969 L 270.347656 49.101562 L 270.363281 48.960938 L 270.367188 48.894531 L 270.382812 48.753906 L 270.386719 48.683594 L 270.402344 48.542969 L 270.40625 48.472656 L 270.414062 48.402344 L 270.417969 48.328125 L 270.425781 48.257812 L 270.433594 48.183594 L 270.4375 48.113281 L 270.445312 48.039062 L 270.453125 47.96875 L 270.457031 47.894531 L 270.472656 47.746094 L 270.476562 47.671875 L 270.492188 47.523438 L 270.496094 47.449219 L 270.511719 47.292969 L 270.515625 47.21875 L 270.523438 47.140625 L 270.527344 47.0625 L 270.542969 46.90625 L 270.546875 46.828125 L 270.5625 46.671875 L 270.566406 46.59375 L 270.582031 46.4375 L 270.585938 46.359375 L 270.59375 46.28125 L 270.601562 46.199219 L 270.605469 46.121094 L 270.613281 46.042969 L 270.617188 45.960938 L 270.632812 45.804688 L 270.636719 45.722656 L 270.644531 45.644531 L 270.652344 45.5625 L 270.65625 45.480469 L 270.664062 45.398438 L 270.671875 45.320312 L 270.675781 45.238281 L 270.691406 45.074219 L 270.695312 44.992188 L 270.703125 44.910156 L 270.707031 44.824219 L 270.722656 44.660156 L 270.726562 44.574219 L 270.734375 44.488281 L 270.742188 44.40625 L 270.746094 44.320312 L 270.761719 44.148438 L 270.765625 44.0625 L 270.78125 43.890625 L 270.785156 43.804688 L 270.800781 43.632812 L 270.804688 43.546875 L 270.8125 43.457031 L 270.816406 43.371094 L 270.824219 43.28125 L 270.832031 43.195312 L 270.835938 43.105469 L 270.84375 43.015625 L 270.851562 42.929688 L 270.855469 42.839844 L 270.871094 42.660156 L 270.875 42.574219 L 270.890625 42.394531 L 270.894531 42.304688 L 270.902344 42.214844 L 270.90625 42.125 L 270.921875 41.945312 L 270.925781 41.851562 L 270.941406 41.671875 L 270.945312 41.578125 L 270.953125 41.488281 L 270.960938 41.394531 L 270.964844 41.304688 L 270.972656 41.210938 L 270.980469 41.121094 L 270.984375 41.027344 L 270.992188 40.9375 L 270.996094 40.84375 L 271.011719 40.65625 L 271.015625 40.5625 L 271.03125 40.375 L 271.035156 40.277344 L 271.042969 40.183594 L 271.050781 40.085938 L 271.054688 39.988281 L 271.0625 39.890625 L 271.070312 39.796875 L 271.074219 39.699219 L 271.089844 39.503906 L 271.09375 39.402344 L 271.101562 39.304688 L 271.105469 39.207031 L 271.113281 39.109375 L 271.121094 39.007812 L 271.125 38.910156 L 271.132812 38.8125 L 271.140625 38.710938 L 271.144531 38.613281 L 271.152344 38.511719 L 271.160156 38.414062 L 271.164062 38.3125 L 271.171875 38.214844 L 271.179688 38.113281 L 271.183594 38.011719 L 271.191406 37.914062 L 271.195312 37.8125 L 271.210938 37.609375 L 271.214844 37.511719 L 271.230469 37.308594 L 271.234375 37.207031 L 271.25 37.003906 L 271.253906 36.902344 L 271.261719 36.800781 L 271.269531 36.695312 L 271.273438 36.59375 L 271.28125 36.492188 L 271.285156 36.390625 L 271.292969 36.289062 L 271.300781 36.183594 L 271.304688 36.082031 L 271.3125 35.976562 L 271.320312 35.875 L 271.324219 35.769531 L 271.339844 35.558594 L 271.34375 35.453125 L 271.359375 35.242188 L 271.363281 35.132812 L 271.371094 35.027344 L 271.375 34.921875 L 271.382812 34.8125 L 271.390625 34.707031 L 271.394531 34.597656 L 271.410156 34.386719 L 271.414062 34.277344 L 271.421875 34.171875 L 271.429688 34.0625 L 271.433594 33.953125 L 271.441406 33.847656 L 271.449219 33.738281 L 271.453125 33.628906 L 271.46875 33.410156 L 271.472656 33.304688 L 271.480469 33.195312 L 271.484375 33.085938 L 271.5 32.867188 L 271.503906 32.757812 L 271.519531 32.539062 L 271.523438 32.425781 L 271.539062 32.207031 L 271.542969 32.097656 L 271.558594 31.878906 L 271.5625 31.765625 L 271.570312 31.65625 L 271.574219 31.542969 L 271.582031 31.433594 \"/>\n",
       "<g clip-path=\"url(#clip20)\" clip-rule=\"nonzero\">\n",
       "<path style=\"fill:none;stroke-width:1.422638;stroke-linecap:butt;stroke-linejoin:round;stroke:rgb(100%,0%,0%);stroke-opacity:1;stroke-miterlimit:10;\" d=\"M 41.882812 183.128906 L 282.519531 24.210938 \"/>\n",
       "</g>\n",
       "<g style=\"fill:rgb(30.196078%,30.196078%,30.196078%);fill-opacity:1;\">\n",
       "  <use xlink:href=\"#glyph0-1\" x=\"18.863281\" y=\"179.453125\"/>\n",
       "  <use xlink:href=\"#glyph0-2\" x=\"24.032349\" y=\"179.453125\"/>\n",
       "  <use xlink:href=\"#glyph0-1\" x=\"26.616882\" y=\"179.453125\"/>\n",
       "  <use xlink:href=\"#glyph0-1\" x=\"31.78595\" y=\"179.453125\"/>\n",
       "</g>\n",
       "<g style=\"fill:rgb(30.196078%,30.196078%,30.196078%);fill-opacity:1;\">\n",
       "  <use xlink:href=\"#glyph0-1\" x=\"18.863281\" y=\"143.332031\"/>\n",
       "  <use xlink:href=\"#glyph0-2\" x=\"24.032349\" y=\"143.332031\"/>\n",
       "  <use xlink:href=\"#glyph0-3\" x=\"26.616882\" y=\"143.332031\"/>\n",
       "  <use xlink:href=\"#glyph0-4\" x=\"31.78595\" y=\"143.332031\"/>\n",
       "</g>\n",
       "<g style=\"fill:rgb(30.196078%,30.196078%,30.196078%);fill-opacity:1;\">\n",
       "  <use xlink:href=\"#glyph0-1\" x=\"18.863281\" y=\"107.207031\"/>\n",
       "  <use xlink:href=\"#glyph0-2\" x=\"24.032349\" y=\"107.207031\"/>\n",
       "  <use xlink:href=\"#glyph0-4\" x=\"26.616882\" y=\"107.207031\"/>\n",
       "  <use xlink:href=\"#glyph0-1\" x=\"31.78595\" y=\"107.207031\"/>\n",
       "</g>\n",
       "<g style=\"fill:rgb(30.196078%,30.196078%,30.196078%);fill-opacity:1;\">\n",
       "  <use xlink:href=\"#glyph0-1\" x=\"18.863281\" y=\"71.085938\"/>\n",
       "  <use xlink:href=\"#glyph0-2\" x=\"24.032349\" y=\"71.085938\"/>\n",
       "  <use xlink:href=\"#glyph0-5\" x=\"26.616882\" y=\"71.085938\"/>\n",
       "  <use xlink:href=\"#glyph0-4\" x=\"31.78595\" y=\"71.085938\"/>\n",
       "</g>\n",
       "<g style=\"fill:rgb(30.196078%,30.196078%,30.196078%);fill-opacity:1;\">\n",
       "  <use xlink:href=\"#glyph0-6\" x=\"18.863281\" y=\"34.964844\"/>\n",
       "  <use xlink:href=\"#glyph0-2\" x=\"24.032349\" y=\"34.964844\"/>\n",
       "  <use xlink:href=\"#glyph0-1\" x=\"26.616882\" y=\"34.964844\"/>\n",
       "  <use xlink:href=\"#glyph0-1\" x=\"31.78595\" y=\"34.964844\"/>\n",
       "</g>\n",
       "<path style=\"fill:none;stroke-width:1.422638;stroke-linecap:butt;stroke-linejoin:round;stroke:rgb(20%,20%,20%);stroke-opacity:1;stroke-miterlimit:10;\" d=\"M 39.144531 175.921875 L 41.882812 175.921875 \"/>\n",
       "<path style=\"fill:none;stroke-width:1.422638;stroke-linecap:butt;stroke-linejoin:round;stroke:rgb(20%,20%,20%);stroke-opacity:1;stroke-miterlimit:10;\" d=\"M 39.144531 139.800781 L 41.882812 139.800781 \"/>\n",
       "<path style=\"fill:none;stroke-width:1.422638;stroke-linecap:butt;stroke-linejoin:round;stroke:rgb(20%,20%,20%);stroke-opacity:1;stroke-miterlimit:10;\" d=\"M 39.144531 103.675781 L 41.882812 103.675781 \"/>\n",
       "<path style=\"fill:none;stroke-width:1.422638;stroke-linecap:butt;stroke-linejoin:round;stroke:rgb(20%,20%,20%);stroke-opacity:1;stroke-miterlimit:10;\" d=\"M 39.144531 67.554688 L 41.882812 67.554688 \"/>\n",
       "<path style=\"fill:none;stroke-width:1.422638;stroke-linecap:butt;stroke-linejoin:round;stroke:rgb(20%,20%,20%);stroke-opacity:1;stroke-miterlimit:10;\" d=\"M 39.144531 31.433594 L 41.882812 31.433594 \"/>\n",
       "<path style=\"fill:none;stroke-width:1.422638;stroke-linecap:butt;stroke-linejoin:round;stroke:rgb(20%,20%,20%);stroke-opacity:1;stroke-miterlimit:10;\" d=\"M 52.796875 185.886719 L 52.796875 183.144531 \"/>\n",
       "<path style=\"fill:none;stroke-width:1.422638;stroke-linecap:butt;stroke-linejoin:round;stroke:rgb(20%,20%,20%);stroke-opacity:1;stroke-miterlimit:10;\" d=\"M 107.492188 185.886719 L 107.492188 183.144531 \"/>\n",
       "<path style=\"fill:none;stroke-width:1.422638;stroke-linecap:butt;stroke-linejoin:round;stroke:rgb(20%,20%,20%);stroke-opacity:1;stroke-miterlimit:10;\" d=\"M 162.1875 185.886719 L 162.1875 183.144531 \"/>\n",
       "<path style=\"fill:none;stroke-width:1.422638;stroke-linecap:butt;stroke-linejoin:round;stroke:rgb(20%,20%,20%);stroke-opacity:1;stroke-miterlimit:10;\" d=\"M 216.886719 185.886719 L 216.886719 183.144531 \"/>\n",
       "<path style=\"fill:none;stroke-width:1.422638;stroke-linecap:butt;stroke-linejoin:round;stroke:rgb(20%,20%,20%);stroke-opacity:1;stroke-miterlimit:10;\" d=\"M 271.582031 185.886719 L 271.582031 183.144531 \"/>\n",
       "<g style=\"fill:rgb(30.196078%,30.196078%,30.196078%);fill-opacity:1;\">\n",
       "  <use xlink:href=\"#glyph0-1\" x=\"43.75\" y=\"195.140625\"/>\n",
       "  <use xlink:href=\"#glyph0-2\" x=\"48.919067\" y=\"195.140625\"/>\n",
       "  <use xlink:href=\"#glyph0-1\" x=\"51.503601\" y=\"195.140625\"/>\n",
       "  <use xlink:href=\"#glyph0-1\" x=\"56.672668\" y=\"195.140625\"/>\n",
       "</g>\n",
       "<g style=\"fill:rgb(30.196078%,30.196078%,30.196078%);fill-opacity:1;\">\n",
       "  <use xlink:href=\"#glyph0-1\" x=\"98.445312\" y=\"195.140625\"/>\n",
       "  <use xlink:href=\"#glyph0-2\" x=\"103.61438\" y=\"195.140625\"/>\n",
       "  <use xlink:href=\"#glyph0-3\" x=\"106.198914\" y=\"195.140625\"/>\n",
       "  <use xlink:href=\"#glyph0-4\" x=\"111.367981\" y=\"195.140625\"/>\n",
       "</g>\n",
       "<g style=\"fill:rgb(30.196078%,30.196078%,30.196078%);fill-opacity:1;\">\n",
       "  <use xlink:href=\"#glyph0-1\" x=\"153.140625\" y=\"195.140625\"/>\n",
       "  <use xlink:href=\"#glyph0-2\" x=\"158.309692\" y=\"195.140625\"/>\n",
       "  <use xlink:href=\"#glyph0-4\" x=\"160.894226\" y=\"195.140625\"/>\n",
       "  <use xlink:href=\"#glyph0-1\" x=\"166.063293\" y=\"195.140625\"/>\n",
       "</g>\n",
       "<g style=\"fill:rgb(30.196078%,30.196078%,30.196078%);fill-opacity:1;\">\n",
       "  <use xlink:href=\"#glyph0-1\" x=\"207.839844\" y=\"195.140625\"/>\n",
       "  <use xlink:href=\"#glyph0-2\" x=\"213.008911\" y=\"195.140625\"/>\n",
       "  <use xlink:href=\"#glyph0-5\" x=\"215.593445\" y=\"195.140625\"/>\n",
       "  <use xlink:href=\"#glyph0-4\" x=\"220.762512\" y=\"195.140625\"/>\n",
       "</g>\n",
       "<g style=\"fill:rgb(30.196078%,30.196078%,30.196078%);fill-opacity:1;\">\n",
       "  <use xlink:href=\"#glyph0-6\" x=\"262.535156\" y=\"195.140625\"/>\n",
       "  <use xlink:href=\"#glyph0-2\" x=\"267.704224\" y=\"195.140625\"/>\n",
       "  <use xlink:href=\"#glyph0-1\" x=\"270.288757\" y=\"195.140625\"/>\n",
       "  <use xlink:href=\"#glyph0-1\" x=\"275.457825\" y=\"195.140625\"/>\n",
       "</g>\n",
       "<g style=\"fill:rgb(0%,0%,0%);fill-opacity:1;\">\n",
       "  <use xlink:href=\"#glyph1-1\" x=\"105.636719\" y=\"208.519531\"/>\n",
       "  <use xlink:href=\"#glyph1-2\" x=\"111.386658\" y=\"208.519531\"/>\n",
       "  <use xlink:href=\"#glyph1-3\" x=\"117.780594\" y=\"208.519531\"/>\n",
       "  <use xlink:href=\"#glyph1-4\" x=\"127.360001\" y=\"208.519531\"/>\n",
       "  <use xlink:href=\"#glyph1-5\" x=\"130.556961\" y=\"208.519531\"/>\n",
       "  <use xlink:href=\"#glyph1-6\" x=\"133.753922\" y=\"208.519531\"/>\n",
       "  <use xlink:href=\"#glyph1-5\" x=\"143.97731\" y=\"208.519531\"/>\n",
       "  <use xlink:href=\"#glyph1-7\" x=\"147.174271\" y=\"208.519531\"/>\n",
       "  <use xlink:href=\"#glyph1-8\" x=\"153.568207\" y=\"208.519531\"/>\n",
       "  <use xlink:href=\"#glyph1-5\" x=\"156.765167\" y=\"208.519531\"/>\n",
       "  <use xlink:href=\"#glyph1-9\" x=\"159.962128\" y=\"208.519531\"/>\n",
       "  <use xlink:href=\"#glyph1-7\" x=\"166.356064\" y=\"208.519531\"/>\n",
       "  <use xlink:href=\"#glyph1-2\" x=\"172.75\" y=\"208.519531\"/>\n",
       "  <use xlink:href=\"#glyph1-10\" x=\"179.143936\" y=\"208.519531\"/>\n",
       "  <use xlink:href=\"#glyph1-11\" x=\"184.893875\" y=\"208.519531\"/>\n",
       "  <use xlink:href=\"#glyph1-9\" x=\"191.287811\" y=\"208.519531\"/>\n",
       "  <use xlink:href=\"#glyph1-7\" x=\"197.681747\" y=\"208.519531\"/>\n",
       "  <use xlink:href=\"#glyph1-12\" x=\"204.075684\" y=\"208.519531\"/>\n",
       "  <use xlink:href=\"#glyph1-13\" x=\"206.628662\" y=\"208.519531\"/>\n",
       "  <use xlink:href=\"#glyph1-10\" x=\"213.022598\" y=\"208.519531\"/>\n",
       "</g>\n",
       "<g style=\"fill:rgb(0%,0%,0%);fill-opacity:1;\">\n",
       "  <use xlink:href=\"#glyph2-1\" x=\"14.121094\" y=\"163.75\"/>\n",
       "  <use xlink:href=\"#glyph2-2\" x=\"14.121094\" y=\"158.000061\"/>\n",
       "  <use xlink:href=\"#glyph2-3\" x=\"14.121094\" y=\"151.606125\"/>\n",
       "  <use xlink:href=\"#glyph2-4\" x=\"14.121094\" y=\"142.026718\"/>\n",
       "  <use xlink:href=\"#glyph2-5\" x=\"14.121094\" y=\"138.829758\"/>\n",
       "  <use xlink:href=\"#glyph2-6\" x=\"14.121094\" y=\"135.632797\"/>\n",
       "  <use xlink:href=\"#glyph2-5\" x=\"14.121094\" y=\"125.409409\"/>\n",
       "  <use xlink:href=\"#glyph2-1\" x=\"14.121094\" y=\"122.212448\"/>\n",
       "  <use xlink:href=\"#glyph2-7\" x=\"14.121094\" y=\"116.462509\"/>\n",
       "  <use xlink:href=\"#glyph2-8\" x=\"14.121094\" y=\"110.068573\"/>\n",
       "  <use xlink:href=\"#glyph2-9\" x=\"14.121094\" y=\"103.674637\"/>\n",
       "  <use xlink:href=\"#glyph2-2\" x=\"14.121094\" y=\"97.924698\"/>\n",
       "  <use xlink:href=\"#glyph2-3\" x=\"14.121094\" y=\"91.530762\"/>\n",
       "  <use xlink:href=\"#glyph2-10\" x=\"14.121094\" y=\"81.951355\"/>\n",
       "  <use xlink:href=\"#glyph2-11\" x=\"14.121094\" y=\"78.754395\"/>\n",
       "  <use xlink:href=\"#glyph2-12\" x=\"14.121094\" y=\"72.360458\"/>\n",
       "  <use xlink:href=\"#glyph2-13\" x=\"14.121094\" y=\"65.966522\"/>\n",
       "  <use xlink:href=\"#glyph2-1\" x=\"14.121094\" y=\"62.137054\"/>\n",
       "  <use xlink:href=\"#glyph2-14\" x=\"14.121094\" y=\"56.387115\"/>\n",
       "  <use xlink:href=\"#glyph2-11\" x=\"14.121094\" y=\"49.993179\"/>\n",
       "</g>\n",
       "<g style=\"fill:rgb(0%,0%,0%);fill-opacity:1;\">\n",
       "  <use xlink:href=\"#glyph3-1\" x=\"122.601562\" y=\"15.730469\"/>\n",
       "  <use xlink:href=\"#glyph3-2\" x=\"130.22049\" y=\"15.730469\"/>\n",
       "  <use xlink:href=\"#glyph3-3\" x=\"137.839417\" y=\"15.730469\"/>\n",
       "  <use xlink:href=\"#glyph3-4\" x=\"142.402557\" y=\"15.730469\"/>\n",
       "  <use xlink:href=\"#glyph3-5\" x=\"150.021484\" y=\"15.730469\"/>\n",
       "  <use xlink:href=\"#glyph3-6\" x=\"157.640411\" y=\"15.730469\"/>\n",
       "  <use xlink:href=\"#glyph3-7\" x=\"164.491959\" y=\"15.730469\"/>\n",
       "  <use xlink:href=\"#glyph3-8\" x=\"168.301422\" y=\"15.730469\"/>\n",
       "  <use xlink:href=\"#glyph3-9\" x=\"175.152969\" y=\"15.730469\"/>\n",
       "  <use xlink:href=\"#glyph3-3\" x=\"182.771896\" y=\"15.730469\"/>\n",
       "  <use xlink:href=\"#glyph3-10\" x=\"187.335037\" y=\"15.730469\"/>\n",
       "  <use xlink:href=\"#glyph3-4\" x=\"194.186584\" y=\"15.730469\"/>\n",
       "</g>\n",
       "</g>\n",
       "</svg>\n"
      ]
     },
     "metadata": {
      "image/svg+xml": {
       "isolated": true
      }
     },
     "output_type": "display_data"
    }
   ],
   "source": [
    "ggplot(data= gini, aes(x=pop_pct, y= consum_pct))+ \n",
    "ggtitle(\"Lorenz curve\")+theme(plot.title = element_text(hjust = 0.5))+ \n",
    "geom_line()+ \n",
    "geom_abline(intercept = 0, slope = 1, color='red')+xlab('cum. % of households')+ylab('cum. % consum/percap')"
   ]
  },
  {
   "cell_type": "markdown",
   "metadata": {},
   "source": [
    "## 4.2 Gini coefficient calculation"
   ]
  },
  {
   "cell_type": "code",
   "execution_count": 262,
   "metadata": {},
   "outputs": [
    {
     "name": "stdout",
     "output_type": "stream",
     "text": [
      "[1] 0.4581869\n"
     ]
    }
   ],
   "source": [
    "cov_consum_V_consum_pct = cov(gini$percap_consum, gini$consum_pct) \n",
    "mean_cons = mean(gini$percap_consum)\n",
    "print((2*cov_consum_V_consum_pct)/(mean_cons))"
   ]
  },
  {
   "cell_type": "code",
   "execution_count": 245,
   "metadata": {},
   "outputs": [
    {
     "data": {
      "text/html": [
       "<table>\n",
       "<caption>A data.frame: 6 x 2</caption>\n",
       "<thead>\n",
       "\t<tr><th></th><th scope=col>consum_pct</th><th scope=col>pop_pct</th></tr>\n",
       "\t<tr><th></th><th scope=col>&lt;dbl&gt;</th><th scope=col>&lt;dbl&gt;</th></tr>\n",
       "</thead>\n",
       "<tbody>\n",
       "\t<tr><th scope=row>6385</th><td>0.4989982</td><td>0.8891172</td></tr>\n",
       "\t<tr><th scope=row>6386</th><td>0.4991761</td><td>0.8892347</td></tr>\n",
       "\t<tr><th scope=row>6387</th><td>0.4993540</td><td>0.8893227</td></tr>\n",
       "\t<tr><th scope=row>6388</th><td>0.4995320</td><td>0.8893814</td></tr>\n",
       "\t<tr><th scope=row>6389</th><td>0.4997101</td><td>0.8894695</td></tr>\n",
       "\t<tr><th scope=row>6390</th><td>0.4998882</td><td>0.8895576</td></tr>\n",
       "</tbody>\n",
       "</table>\n"
      ],
      "text/latex": [
       "A data.frame: 6 x 2\n",
       "\\begin{tabular}{r|ll}\n",
       "  & consum\\_pct & pop\\_pct\\\\\n",
       "  & <dbl> & <dbl>\\\\\n",
       "\\hline\n",
       "\t6385 & 0.4989982 & 0.8891172\\\\\n",
       "\t6386 & 0.4991761 & 0.8892347\\\\\n",
       "\t6387 & 0.4993540 & 0.8893227\\\\\n",
       "\t6388 & 0.4995320 & 0.8893814\\\\\n",
       "\t6389 & 0.4997101 & 0.8894695\\\\\n",
       "\t6390 & 0.4998882 & 0.8895576\\\\\n",
       "\\end{tabular}\n"
      ],
      "text/markdown": [
       "\n",
       "A data.frame: 6 x 2\n",
       "\n",
       "| <!--/--> | consum_pct &lt;dbl&gt; | pop_pct &lt;dbl&gt; |\n",
       "|---|---|---|\n",
       "| 6385 | 0.4989982 | 0.8891172 |\n",
       "| 6386 | 0.4991761 | 0.8892347 |\n",
       "| 6387 | 0.4993540 | 0.8893227 |\n",
       "| 6388 | 0.4995320 | 0.8893814 |\n",
       "| 6389 | 0.4997101 | 0.8894695 |\n",
       "| 6390 | 0.4998882 | 0.8895576 |\n",
       "\n"
      ],
      "text/plain": [
       "     consum_pct pop_pct  \n",
       "6385 0.4989982  0.8891172\n",
       "6386 0.4991761  0.8892347\n",
       "6387 0.4993540  0.8893227\n",
       "6388 0.4995320  0.8893814\n",
       "6389 0.4997101  0.8894695\n",
       "6390 0.4998882  0.8895576"
      ]
     },
     "metadata": {},
     "output_type": "display_data"
    }
   ],
   "source": [
    "gini %>% \n",
    "filter(consum_pct <=.5)%>% \n",
    "select(consum_pct, pop_pct)%>% tail"
   ]
  },
  {
   "cell_type": "markdown",
   "metadata": {},
   "source": [
    "## DPLYR examples"
   ]
  },
  {
   "cell_type": "markdown",
   "metadata": {},
   "source": [
    "## D.1"
   ]
  },
  {
   "cell_type": "code",
   "execution_count": 135,
   "metadata": {},
   "outputs": [
    {
     "data": {
      "text/html": [
       "<table>\n",
       "<caption>A grouped_df: 5 x 3</caption>\n",
       "<thead>\n",
       "\t<tr><th scope=col>estrato</th><th scope=col>poverty_dummy</th><th scope=col>n</th></tr>\n",
       "\t<tr><th scope=col>&lt;dbl&gt;</th><th scope=col>&lt;dbl&gt;</th><th scope=col>&lt;int&gt;</th></tr>\n",
       "</thead>\n",
       "<tbody>\n",
       "\t<tr><td>1</td><td>0</td><td>3151</td></tr>\n",
       "\t<tr><td>2</td><td>0</td><td> 762</td></tr>\n",
       "\t<tr><td>3</td><td>0</td><td> 841</td></tr>\n",
       "\t<tr><td>3</td><td>1</td><td>   3</td></tr>\n",
       "\t<tr><td>4</td><td>0</td><td>3293</td></tr>\n",
       "</tbody>\n",
       "</table>\n"
      ],
      "text/latex": [
       "A grouped_df: 5 x 3\n",
       "\\begin{tabular}{r|lll}\n",
       " estrato & poverty\\_dummy & n\\\\\n",
       " <dbl> & <dbl> & <int>\\\\\n",
       "\\hline\n",
       "\t 1 & 0 & 3151\\\\\n",
       "\t 2 & 0 &  762\\\\\n",
       "\t 3 & 0 &  841\\\\\n",
       "\t 3 & 1 &    3\\\\\n",
       "\t 4 & 0 & 3293\\\\\n",
       "\\end{tabular}\n"
      ],
      "text/markdown": [
       "\n",
       "A grouped_df: 5 x 3\n",
       "\n",
       "| estrato &lt;dbl&gt; | poverty_dummy &lt;dbl&gt; | n &lt;int&gt; |\n",
       "|---|---|---|\n",
       "| 1 | 0 | 3151 |\n",
       "| 2 | 0 |  762 |\n",
       "| 3 | 0 |  841 |\n",
       "| 3 | 1 |    3 |\n",
       "| 4 | 0 | 3293 |\n",
       "\n"
      ],
      "text/plain": [
       "  estrato poverty_dummy n   \n",
       "1 1       0             3151\n",
       "2 2       0              762\n",
       "3 3       0              841\n",
       "4 3       1                3\n",
       "5 4       0             3293"
      ]
     },
     "metadata": {},
     "output_type": "display_data"
    }
   ],
   "source": [
    "consum_residence_df %>% group_by(estrato) %>% count(poverty_dummy) "
   ]
  },
  {
   "cell_type": "code",
   "execution_count": 136,
   "metadata": {},
   "outputs": [
    {
     "data": {
      "text/html": [
       "<table>\n",
       "<caption>A grouped_df: 1 x 3</caption>\n",
       "<thead>\n",
       "\t<tr><th scope=col>estrato</th><th scope=col>poverty_dummy</th><th scope=col>n</th></tr>\n",
       "\t<tr><th scope=col>&lt;dbl&gt;</th><th scope=col>&lt;dbl&gt;</th><th scope=col>&lt;int&gt;</th></tr>\n",
       "</thead>\n",
       "<tbody>\n",
       "\t<tr><td>3</td><td>1</td><td>3</td></tr>\n",
       "</tbody>\n",
       "</table>\n"
      ],
      "text/latex": [
       "A grouped_df: 1 x 3\n",
       "\\begin{tabular}{r|lll}\n",
       " estrato & poverty\\_dummy & n\\\\\n",
       " <dbl> & <dbl> & <int>\\\\\n",
       "\\hline\n",
       "\t 3 & 1 & 3\\\\\n",
       "\\end{tabular}\n"
      ],
      "text/markdown": [
       "\n",
       "A grouped_df: 1 x 3\n",
       "\n",
       "| estrato &lt;dbl&gt; | poverty_dummy &lt;dbl&gt; | n &lt;int&gt; |\n",
       "|---|---|---|\n",
       "| 3 | 1 | 3 |\n",
       "\n"
      ],
      "text/plain": [
       "  estrato poverty_dummy n\n",
       "1 3       1             3"
      ]
     },
     "metadata": {},
     "output_type": "display_data"
    }
   ],
   "source": [
    "consum_residence_df %>% group_by(estrato) %>% count(poverty_dummy) %>% filter(poverty_dummy==1)"
   ]
  }
 ],
 "metadata": {
  "hide_code_all_hidden": true,
  "kernelspec": {
   "display_name": "R (R-Project)",
   "language": "r",
   "name": "ir"
  },
  "language_info": {
   "codemirror_mode": "r",
   "file_extension": ".r",
   "mimetype": "text/x-r-source",
   "name": "R",
   "pygments_lexer": "r",
   "version": "3.6.1"
  }
 },
 "nbformat": 4,
 "nbformat_minor": 1
}
