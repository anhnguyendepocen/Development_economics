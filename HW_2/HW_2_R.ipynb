{
 "cells": [
  {
   "cell_type": "markdown",
   "metadata": {
    "hideCode": true,
    "hidePrompt": true
   },
   "source": [
    "# A. Import data, EDA, Manipulation"
   ]
  },
  {
   "cell_type": "markdown",
   "metadata": {
    "hideCode": true,
    "hidePrompt": true
   },
   "source": [
    "## A.1 Import and merge\n",
    "\n",
    "### A.1.1 Import libraries"
   ]
  },
  {
   "cell_type": "code",
   "execution_count": 1,
   "metadata": {
    "hideCode": true,
    "hidePrompt": true
   },
   "outputs": [
    {
     "name": "stderr",
     "output_type": "stream",
     "text": [
      "── \u001b[1mAttaching packages\u001b[22m ─────────────────────────────────────── tidyverse 1.3.0 ──\n",
      "\u001b[32m✔\u001b[39m \u001b[34mggplot2\u001b[39m 3.2.1     \u001b[32m✔\u001b[39m \u001b[34mpurrr  \u001b[39m 0.3.3\n",
      "\u001b[32m✔\u001b[39m \u001b[34mtibble \u001b[39m 2.1.3     \u001b[32m✔\u001b[39m \u001b[34mdplyr  \u001b[39m 0.8.4\n",
      "\u001b[32m✔\u001b[39m \u001b[34mtidyr  \u001b[39m 1.0.2     \u001b[32m✔\u001b[39m \u001b[34mstringr\u001b[39m 1.4.0\n",
      "\u001b[32m✔\u001b[39m \u001b[34mreadr  \u001b[39m 1.3.1     \u001b[32m✔\u001b[39m \u001b[34mforcats\u001b[39m 0.4.0\n",
      "Warning message:\n",
      "“package ‘tidyr’ was built under R version 3.6.2”Warning message:\n",
      "“package ‘dplyr’ was built under R version 3.6.2”── \u001b[1mConflicts\u001b[22m ────────────────────────────────────────── tidyverse_conflicts() ──\n",
      "\u001b[31m✖\u001b[39m \u001b[34mdplyr\u001b[39m::\u001b[32mfilter()\u001b[39m masks \u001b[34mstats\u001b[39m::filter()\n",
      "\u001b[31m✖\u001b[39m \u001b[34mdplyr\u001b[39m::\u001b[32mlag()\u001b[39m    masks \u001b[34mstats\u001b[39m::lag()\n"
     ]
    }
   ],
   "source": [
    "library(tidyverse)\n",
    "library(foreign)\n",
    "library(dplyr)"
   ]
  },
  {
   "cell_type": "markdown",
   "metadata": {
    "hideCode": true,
    "hidePrompt": true
   },
   "source": [
    "### A.1.2.1 Set file path for main folder and DTA files folder"
   ]
  },
  {
   "cell_type": "code",
   "execution_count": 2,
   "metadata": {
    "hideCode": true,
    "hidePrompt": true
   },
   "outputs": [],
   "source": [
    "path = getwd()"
   ]
  },
  {
   "cell_type": "markdown",
   "metadata": {
    "hideCode": true,
    "hidePrompt": true
   },
   "source": [
    "## A.2 Calculating consumption"
   ]
  },
  {
   "cell_type": "markdown",
   "metadata": {},
   "source": [
    "### A.2.1 Weekly variables"
   ]
  },
  {
   "cell_type": "markdown",
   "metadata": {},
   "source": [
    "### A.2.1.1 Import weekly variables data \"i_cs\""
   ]
  },
  {
   "cell_type": "code",
   "execution_count": 3,
   "metadata": {},
   "outputs": [],
   "source": [
    "df1 = read.dta(paste(path,'/hh02dta_b1/i_cs.dta', sep=''))\n",
    "df1 = as_tibble(df1)\n",
    "df1 = df1 %>% rename(Household_id = folio)"
   ]
  },
  {
   "cell_type": "markdown",
   "metadata": {},
   "source": [
    "### A.2.1.2 Select weekly consumption variables"
   ]
  },
  {
   "cell_type": "code",
   "execution_count": 4,
   "metadata": {},
   "outputs": [],
   "source": [
    "cons1 = df1 %>%\n",
    "  select(Household_id,\n",
    "         intersect(contains('cs02a_'), ends_with('2')))"
   ]
  },
  {
   "cell_type": "markdown",
   "metadata": {},
   "source": [
    "#### A.2.1.2.1 Convert weekly varibles to monthly vars"
   ]
  },
  {
   "cell_type": "code",
   "execution_count": 5,
   "metadata": {},
   "outputs": [
    {
     "name": "stderr",
     "output_type": "stream",
     "text": [
      "Warning message:\n",
      "“funs() is soft deprecated as of dplyr 0.8.0\n",
      "Please use a list of either functions or lambdas: \n",
      "\n",
      "  # Simple named list: \n",
      "  list(mean = mean, median = median)\n",
      "\n",
      "  # Auto named with `tibble::lst()`: \n",
      "  tibble::lst(mean, median)\n",
      "\n",
      "  # Using lambdas\n",
      "  list(~ mean(., trim = .2), ~ median(., na.rm = TRUE))\n",
      "\u001b[90mThis warning is displayed once per session.\u001b[39m”"
     ]
    }
   ],
   "source": [
    "cons1 = cons1 %>% \n",
    "  mutate_at(vars(cs02a_12:cs02a_82),.funs = funs(. *4.3))"
   ]
  },
  {
   "cell_type": "markdown",
   "metadata": {},
   "source": [
    "### A.2.2 Monthly variables\n",
    "- Uses \"i_cs\""
   ]
  },
  {
   "cell_type": "code",
   "execution_count": 6,
   "metadata": {},
   "outputs": [],
   "source": [
    "cons2 = df1 %>%\n",
    "  select(Household_id,\n",
    "         intersect(contains('cs16'), ends_with('2')))"
   ]
  },
  {
   "cell_type": "markdown",
   "metadata": {},
   "source": [
    "### A.2.3 3-Month variables"
   ]
  },
  {
   "cell_type": "markdown",
   "metadata": {},
   "source": [
    "#### A.2.3.1 Import weekly variables data \"i_cs1\""
   ]
  },
  {
   "cell_type": "code",
   "execution_count": 7,
   "metadata": {},
   "outputs": [],
   "source": [
    "df2 = read.dta(paste(path,'/hh02dta_b1/i_cs1.dta', sep=''))\n",
    "df2 = as_tibble(df2)\n",
    "df2 = df2 %>% rename(Household_id = folio) #Rename"
   ]
  },
  {
   "cell_type": "markdown",
   "metadata": {},
   "source": [
    "#### A.2.1.3.1 Convert 3-month varibles to monthly vars"
   ]
  },
  {
   "cell_type": "code",
   "execution_count": 8,
   "metadata": {},
   "outputs": [],
   "source": [
    "cons3 = df2 %>%\n",
    "  select(Household_id,\n",
    "         intersect(contains('cs22'), ends_with('2')))\n"
   ]
  },
  {
   "cell_type": "code",
   "execution_count": 9,
   "metadata": {},
   "outputs": [],
   "source": [
    "cons3 = cons3 %>% \n",
    "  mutate_at(vars(cs22a_2:cs22h_2),.funs = funs(. /3))"
   ]
  },
  {
   "cell_type": "markdown",
   "metadata": {},
   "source": [
    "### A.2.4 Merge consumption variables into one dataframe"
   ]
  },
  {
   "cell_type": "code",
   "execution_count": 10,
   "metadata": {
    "scrolled": true
   },
   "outputs": [
    {
     "data": {
      "text/html": [
       "<table>\n",
       "<caption>A data.frame: 3 × 26</caption>\n",
       "<thead>\n",
       "\t<tr><th></th><th scope=col>Household_id</th><th scope=col>cs02a_12</th><th scope=col>cs02a_22</th><th scope=col>cs02a_32</th><th scope=col>cs02a_42</th><th scope=col>cs02a_52</th><th scope=col>cs02a_62</th><th scope=col>cs02a_72</th><th scope=col>cs02a_82</th><th scope=col>cs16a_2</th><th scope=col>⋯</th><th scope=col>cs16h_2</th><th scope=col>cs16i_2</th><th scope=col>cs22a_2</th><th scope=col>cs22b_2</th><th scope=col>cs22c_2</th><th scope=col>cs22d_2</th><th scope=col>cs22e_2</th><th scope=col>cs22f_2</th><th scope=col>cs22g_2</th><th scope=col>cs22h_2</th></tr>\n",
       "\t<tr><th></th><th scope=col>&lt;dbl&gt;</th><th scope=col>&lt;dbl&gt;</th><th scope=col>&lt;dbl&gt;</th><th scope=col>&lt;dbl&gt;</th><th scope=col>&lt;dbl&gt;</th><th scope=col>&lt;dbl&gt;</th><th scope=col>&lt;dbl&gt;</th><th scope=col>&lt;dbl&gt;</th><th scope=col>&lt;dbl&gt;</th><th scope=col>&lt;dbl&gt;</th><th scope=col>⋯</th><th scope=col>&lt;dbl&gt;</th><th scope=col>&lt;dbl&gt;</th><th scope=col>&lt;dbl&gt;</th><th scope=col>&lt;dbl&gt;</th><th scope=col>&lt;dbl&gt;</th><th scope=col>&lt;dbl&gt;</th><th scope=col>&lt;dbl&gt;</th><th scope=col>&lt;dbl&gt;</th><th scope=col>&lt;dbl&gt;</th><th scope=col>&lt;dbl&gt;</th></tr>\n",
       "</thead>\n",
       "<tbody>\n",
       "\t<tr><th scope=row>1</th><td>1000</td><td>21.5</td><td>34.4</td><td>21.5</td><td>25.8</td><td> 43.0</td><td>43</td><td>150.5</td><td> 64.5</td><td> 65</td><td>⋯</td><td> 0</td><td>811</td><td>  0.0000</td><td>200.00000</td><td> 66.66667</td><td> 0.00000</td><td>0</td><td>  0</td><td>   0.0000</td><td>0</td></tr>\n",
       "\t<tr><th scope=row>2</th><td>2000</td><td>21.5</td><td>43.0</td><td> 8.6</td><td>21.5</td><td> 51.6</td><td>43</td><td>215.0</td><td>430.0</td><td>184</td><td>⋯</td><td>32</td><td>325</td><td>  0.0000</td><td>166.66667</td><td>  0.00000</td><td> 0.00000</td><td>0</td><td> 50</td><td>2666.6667</td><td>0</td></tr>\n",
       "\t<tr><th scope=row>3</th><td>3000</td><td>21.5</td><td>30.1</td><td>43.0</td><td>73.1</td><td>301.0</td><td>43</td><td>430.0</td><td>215.0</td><td>112</td><td>⋯</td><td>30</td><td>822</td><td>333.3333</td><td> 66.66667</td><td>100.00000</td><td>33.33333</td><td>0</td><td>100</td><td> 133.3333</td><td>0</td></tr>\n",
       "</tbody>\n",
       "</table>\n"
      ],
      "text/latex": [
       "A data.frame: 3 × 26\n",
       "\\begin{tabular}{r|lllllllllllllllllllll}\n",
       "  & Household\\_id & cs02a\\_12 & cs02a\\_22 & cs02a\\_32 & cs02a\\_42 & cs02a\\_52 & cs02a\\_62 & cs02a\\_72 & cs02a\\_82 & cs16a\\_2 & ⋯ & cs16h\\_2 & cs16i\\_2 & cs22a\\_2 & cs22b\\_2 & cs22c\\_2 & cs22d\\_2 & cs22e\\_2 & cs22f\\_2 & cs22g\\_2 & cs22h\\_2\\\\\n",
       "  & <dbl> & <dbl> & <dbl> & <dbl> & <dbl> & <dbl> & <dbl> & <dbl> & <dbl> & <dbl> & ⋯ & <dbl> & <dbl> & <dbl> & <dbl> & <dbl> & <dbl> & <dbl> & <dbl> & <dbl> & <dbl>\\\\\n",
       "\\hline\n",
       "\t1 & 1000 & 21.5 & 34.4 & 21.5 & 25.8 &  43.0 & 43 & 150.5 &  64.5 &  65 & ⋯ &  0 & 811 &   0.0000 & 200.00000 &  66.66667 &  0.00000 & 0 &   0 &    0.0000 & 0\\\\\n",
       "\t2 & 2000 & 21.5 & 43.0 &  8.6 & 21.5 &  51.6 & 43 & 215.0 & 430.0 & 184 & ⋯ & 32 & 325 &   0.0000 & 166.66667 &   0.00000 &  0.00000 & 0 &  50 & 2666.6667 & 0\\\\\n",
       "\t3 & 3000 & 21.5 & 30.1 & 43.0 & 73.1 & 301.0 & 43 & 430.0 & 215.0 & 112 & ⋯ & 30 & 822 & 333.3333 &  66.66667 & 100.00000 & 33.33333 & 0 & 100 &  133.3333 & 0\\\\\n",
       "\\end{tabular}\n"
      ],
      "text/markdown": [
       "\n",
       "A data.frame: 3 × 26\n",
       "\n",
       "| <!--/--> | Household_id &lt;dbl&gt; | cs02a_12 &lt;dbl&gt; | cs02a_22 &lt;dbl&gt; | cs02a_32 &lt;dbl&gt; | cs02a_42 &lt;dbl&gt; | cs02a_52 &lt;dbl&gt; | cs02a_62 &lt;dbl&gt; | cs02a_72 &lt;dbl&gt; | cs02a_82 &lt;dbl&gt; | cs16a_2 &lt;dbl&gt; | ⋯ ⋯ | cs16h_2 &lt;dbl&gt; | cs16i_2 &lt;dbl&gt; | cs22a_2 &lt;dbl&gt; | cs22b_2 &lt;dbl&gt; | cs22c_2 &lt;dbl&gt; | cs22d_2 &lt;dbl&gt; | cs22e_2 &lt;dbl&gt; | cs22f_2 &lt;dbl&gt; | cs22g_2 &lt;dbl&gt; | cs22h_2 &lt;dbl&gt; |\n",
       "|---|---|---|---|---|---|---|---|---|---|---|---|---|---|---|---|---|---|---|---|---|---|\n",
       "| 1 | 1000 | 21.5 | 34.4 | 21.5 | 25.8 |  43.0 | 43 | 150.5 |  64.5 |  65 | ⋯ |  0 | 811 |   0.0000 | 200.00000 |  66.66667 |  0.00000 | 0 |   0 |    0.0000 | 0 |\n",
       "| 2 | 2000 | 21.5 | 43.0 |  8.6 | 21.5 |  51.6 | 43 | 215.0 | 430.0 | 184 | ⋯ | 32 | 325 |   0.0000 | 166.66667 |   0.00000 |  0.00000 | 0 |  50 | 2666.6667 | 0 |\n",
       "| 3 | 3000 | 21.5 | 30.1 | 43.0 | 73.1 | 301.0 | 43 | 430.0 | 215.0 | 112 | ⋯ | 30 | 822 | 333.3333 |  66.66667 | 100.00000 | 33.33333 | 0 | 100 |  133.3333 | 0 |\n",
       "\n"
      ],
      "text/plain": [
       "  Household_id cs02a_12 cs02a_22 cs02a_32 cs02a_42 cs02a_52 cs02a_62 cs02a_72\n",
       "1 1000         21.5     34.4     21.5     25.8      43.0    43       150.5   \n",
       "2 2000         21.5     43.0      8.6     21.5      51.6    43       215.0   \n",
       "3 3000         21.5     30.1     43.0     73.1     301.0    43       430.0   \n",
       "  cs02a_82 cs16a_2 ⋯ cs16h_2 cs16i_2 cs22a_2  cs22b_2   cs22c_2   cs22d_2 \n",
       "1  64.5     65     ⋯  0      811       0.0000 200.00000  66.66667  0.00000\n",
       "2 430.0    184     ⋯ 32      325       0.0000 166.66667   0.00000  0.00000\n",
       "3 215.0    112     ⋯ 30      822     333.3333  66.66667 100.00000 33.33333\n",
       "  cs22e_2 cs22f_2 cs22g_2   cs22h_2\n",
       "1 0         0        0.0000 0      \n",
       "2 0        50     2666.6667 0      \n",
       "3 0       100      133.3333 0      "
      ]
     },
     "metadata": {},
     "output_type": "display_data"
    }
   ],
   "source": [
    "merge1 = merge(cons1, cons2, by = 'Household_id', all= TRUE)\n",
    "cons_merge = merge(merge1, cons3, by = 'Household_id', all= TRUE)\n",
    "head(cons_merge,3)"
   ]
  },
  {
   "cell_type": "code",
   "execution_count": 11,
   "metadata": {},
   "outputs": [],
   "source": [
    "#write.csv(cons_merge, 'consu_R.csv')"
   ]
  },
  {
   "cell_type": "markdown",
   "metadata": {
    "hideCode": true,
    "hidePrompt": true
   },
   "source": [
    "# Homework Questions"
   ]
  },
  {
   "cell_type": "markdown",
   "metadata": {
    "hideCode": true,
    "hidePrompt": true
   },
   "source": [
    "## Q.1. \n",
    "- Calculate a measure of total consumption and per capita consumption for each household in the 2002 round. \n",
    "    - To calculate per capita note you will have to calculate the number of individuals in each household."
   ]
  },
  {
   "cell_type": "markdown",
   "metadata": {
    "hideCode": true,
    "hidePrompt": true
   },
   "source": [
    "## Q.1.1 Total consumption"
   ]
  },
  {
   "cell_type": "markdown",
   "metadata": {
    "hideCode": true,
    "hidePrompt": true
   },
   "source": [
    "### 1.1.1 Calculate total consumer spending\n",
    "- Sum the rows from cons_merge (A.2.4)"
   ]
  },
  {
   "cell_type": "code",
   "execution_count": 12,
   "metadata": {},
   "outputs": [],
   "source": [
    "total_cons = cons_merge %>% mutate(consumption = select(cons_merge,-Household_id)%>% {rowSums(.)})\n",
    "total_cons[[\"consumption\"]][is.na(total_cons[[\"consumption\"]])] <- 0"
   ]
  },
  {
   "cell_type": "code",
   "execution_count": 13,
   "metadata": {
    "scrolled": true
   },
   "outputs": [
    {
     "data": {
      "text/html": [
       "<table>\n",
       "<caption>A data.frame: 3 × 27</caption>\n",
       "<thead>\n",
       "\t<tr><th></th><th scope=col>Household_id</th><th scope=col>cs02a_12</th><th scope=col>cs02a_22</th><th scope=col>cs02a_32</th><th scope=col>cs02a_42</th><th scope=col>cs02a_52</th><th scope=col>cs02a_62</th><th scope=col>cs02a_72</th><th scope=col>cs02a_82</th><th scope=col>cs16a_2</th><th scope=col>⋯</th><th scope=col>cs16i_2</th><th scope=col>cs22a_2</th><th scope=col>cs22b_2</th><th scope=col>cs22c_2</th><th scope=col>cs22d_2</th><th scope=col>cs22e_2</th><th scope=col>cs22f_2</th><th scope=col>cs22g_2</th><th scope=col>cs22h_2</th><th scope=col>consumption</th></tr>\n",
       "\t<tr><th></th><th scope=col>&lt;dbl&gt;</th><th scope=col>&lt;dbl&gt;</th><th scope=col>&lt;dbl&gt;</th><th scope=col>&lt;dbl&gt;</th><th scope=col>&lt;dbl&gt;</th><th scope=col>&lt;dbl&gt;</th><th scope=col>&lt;dbl&gt;</th><th scope=col>&lt;dbl&gt;</th><th scope=col>&lt;dbl&gt;</th><th scope=col>&lt;dbl&gt;</th><th scope=col>⋯</th><th scope=col>&lt;dbl&gt;</th><th scope=col>&lt;dbl&gt;</th><th scope=col>&lt;dbl&gt;</th><th scope=col>&lt;dbl&gt;</th><th scope=col>&lt;dbl&gt;</th><th scope=col>&lt;dbl&gt;</th><th scope=col>&lt;dbl&gt;</th><th scope=col>&lt;dbl&gt;</th><th scope=col>&lt;dbl&gt;</th><th scope=col>&lt;dbl&gt;</th></tr>\n",
       "</thead>\n",
       "<tbody>\n",
       "\t<tr><th scope=row>1</th><td>1000</td><td>21.5</td><td>34.4</td><td>21.5</td><td>25.8</td><td> 43.0</td><td>43</td><td>150.5</td><td> 64.5</td><td> 65</td><td>⋯</td><td>811</td><td>  0.0000</td><td>200.00000</td><td> 66.66667</td><td> 0.00000</td><td>0</td><td>  0</td><td>   0.0000</td><td>0</td><td>1876.867</td></tr>\n",
       "\t<tr><th scope=row>2</th><td>2000</td><td>21.5</td><td>43.0</td><td> 8.6</td><td>21.5</td><td> 51.6</td><td>43</td><td>215.0</td><td>430.0</td><td>184</td><td>⋯</td><td>325</td><td>  0.0000</td><td>166.66667</td><td>  0.00000</td><td> 0.00000</td><td>0</td><td> 50</td><td>2666.6667</td><td>0</td><td>5464.533</td></tr>\n",
       "\t<tr><th scope=row>3</th><td>3000</td><td>21.5</td><td>30.1</td><td>43.0</td><td>73.1</td><td>301.0</td><td>43</td><td>430.0</td><td>215.0</td><td>112</td><td>⋯</td><td>822</td><td>333.3333</td><td> 66.66667</td><td>100.00000</td><td>33.33333</td><td>0</td><td>100</td><td> 133.3333</td><td>0</td><td>3522.367</td></tr>\n",
       "</tbody>\n",
       "</table>\n"
      ],
      "text/latex": [
       "A data.frame: 3 × 27\n",
       "\\begin{tabular}{r|lllllllllllllllllllll}\n",
       "  & Household\\_id & cs02a\\_12 & cs02a\\_22 & cs02a\\_32 & cs02a\\_42 & cs02a\\_52 & cs02a\\_62 & cs02a\\_72 & cs02a\\_82 & cs16a\\_2 & ⋯ & cs16i\\_2 & cs22a\\_2 & cs22b\\_2 & cs22c\\_2 & cs22d\\_2 & cs22e\\_2 & cs22f\\_2 & cs22g\\_2 & cs22h\\_2 & consumption\\\\\n",
       "  & <dbl> & <dbl> & <dbl> & <dbl> & <dbl> & <dbl> & <dbl> & <dbl> & <dbl> & <dbl> & ⋯ & <dbl> & <dbl> & <dbl> & <dbl> & <dbl> & <dbl> & <dbl> & <dbl> & <dbl> & <dbl>\\\\\n",
       "\\hline\n",
       "\t1 & 1000 & 21.5 & 34.4 & 21.5 & 25.8 &  43.0 & 43 & 150.5 &  64.5 &  65 & ⋯ & 811 &   0.0000 & 200.00000 &  66.66667 &  0.00000 & 0 &   0 &    0.0000 & 0 & 1876.867\\\\\n",
       "\t2 & 2000 & 21.5 & 43.0 &  8.6 & 21.5 &  51.6 & 43 & 215.0 & 430.0 & 184 & ⋯ & 325 &   0.0000 & 166.66667 &   0.00000 &  0.00000 & 0 &  50 & 2666.6667 & 0 & 5464.533\\\\\n",
       "\t3 & 3000 & 21.5 & 30.1 & 43.0 & 73.1 & 301.0 & 43 & 430.0 & 215.0 & 112 & ⋯ & 822 & 333.3333 &  66.66667 & 100.00000 & 33.33333 & 0 & 100 &  133.3333 & 0 & 3522.367\\\\\n",
       "\\end{tabular}\n"
      ],
      "text/markdown": [
       "\n",
       "A data.frame: 3 × 27\n",
       "\n",
       "| <!--/--> | Household_id &lt;dbl&gt; | cs02a_12 &lt;dbl&gt; | cs02a_22 &lt;dbl&gt; | cs02a_32 &lt;dbl&gt; | cs02a_42 &lt;dbl&gt; | cs02a_52 &lt;dbl&gt; | cs02a_62 &lt;dbl&gt; | cs02a_72 &lt;dbl&gt; | cs02a_82 &lt;dbl&gt; | cs16a_2 &lt;dbl&gt; | ⋯ ⋯ | cs16i_2 &lt;dbl&gt; | cs22a_2 &lt;dbl&gt; | cs22b_2 &lt;dbl&gt; | cs22c_2 &lt;dbl&gt; | cs22d_2 &lt;dbl&gt; | cs22e_2 &lt;dbl&gt; | cs22f_2 &lt;dbl&gt; | cs22g_2 &lt;dbl&gt; | cs22h_2 &lt;dbl&gt; | consumption &lt;dbl&gt; |\n",
       "|---|---|---|---|---|---|---|---|---|---|---|---|---|---|---|---|---|---|---|---|---|---|\n",
       "| 1 | 1000 | 21.5 | 34.4 | 21.5 | 25.8 |  43.0 | 43 | 150.5 |  64.5 |  65 | ⋯ | 811 |   0.0000 | 200.00000 |  66.66667 |  0.00000 | 0 |   0 |    0.0000 | 0 | 1876.867 |\n",
       "| 2 | 2000 | 21.5 | 43.0 |  8.6 | 21.5 |  51.6 | 43 | 215.0 | 430.0 | 184 | ⋯ | 325 |   0.0000 | 166.66667 |   0.00000 |  0.00000 | 0 |  50 | 2666.6667 | 0 | 5464.533 |\n",
       "| 3 | 3000 | 21.5 | 30.1 | 43.0 | 73.1 | 301.0 | 43 | 430.0 | 215.0 | 112 | ⋯ | 822 | 333.3333 |  66.66667 | 100.00000 | 33.33333 | 0 | 100 |  133.3333 | 0 | 3522.367 |\n",
       "\n"
      ],
      "text/plain": [
       "  Household_id cs02a_12 cs02a_22 cs02a_32 cs02a_42 cs02a_52 cs02a_62 cs02a_72\n",
       "1 1000         21.5     34.4     21.5     25.8      43.0    43       150.5   \n",
       "2 2000         21.5     43.0      8.6     21.5      51.6    43       215.0   \n",
       "3 3000         21.5     30.1     43.0     73.1     301.0    43       430.0   \n",
       "  cs02a_82 cs16a_2 ⋯ cs16i_2 cs22a_2  cs22b_2   cs22c_2   cs22d_2  cs22e_2\n",
       "1  64.5     65     ⋯ 811       0.0000 200.00000  66.66667  0.00000 0      \n",
       "2 430.0    184     ⋯ 325       0.0000 166.66667   0.00000  0.00000 0      \n",
       "3 215.0    112     ⋯ 822     333.3333  66.66667 100.00000 33.33333 0      \n",
       "  cs22f_2 cs22g_2   cs22h_2 consumption\n",
       "1   0        0.0000 0       1876.867   \n",
       "2  50     2666.6667 0       5464.533   \n",
       "3 100      133.3333 0       3522.367   "
      ]
     },
     "metadata": {},
     "output_type": "display_data"
    }
   ],
   "source": [
    "total_cons%>%head(3)"
   ]
  },
  {
   "cell_type": "markdown",
   "metadata": {
    "hideCode": true,
    "hidePrompt": true
   },
   "source": [
    "#### 1.1.1.1 Basic stats: total consumer spending"
   ]
  },
  {
   "cell_type": "code",
   "execution_count": 14,
   "metadata": {
    "hideCode": true,
    "hidePrompt": true
   },
   "outputs": [
    {
     "data": {
      "text/plain": [
       "     Min.   1st Qu.    Median      Mean   3rd Qu.      Max. \n",
       "      0.0     348.1     914.1    1778.4    1776.8 1450982.7 "
      ]
     },
     "metadata": {},
     "output_type": "display_data"
    }
   ],
   "source": [
    "summary(total_cons$consumption)"
   ]
  },
  {
   "cell_type": "markdown",
   "metadata": {
    "hideCode": true,
    "hidePrompt": true
   },
   "source": [
    "#### 1.1.1.2 Graph: total consumer spending"
   ]
  },
  {
   "cell_type": "code",
   "execution_count": 15,
   "metadata": {
    "hideCode": true,
    "hidePrompt": true
   },
   "outputs": [
    {
     "data": {
      "image/png": "[encoded data removed]",
      "text/plain": [
       "Plot with title “Histogram of total_cons$consumption”"
      ]
     },
     "metadata": {},
     "output_type": "display_data"
    }
   ],
   "source": [
    "hist(total_cons$consumption)"
   ]
  },
  {
   "cell_type": "markdown",
   "metadata": {
    "hideCode": true,
    "hidePrompt": true
   },
   "source": [
    "## Q.1.2 Per capita consumption (Total/house size)"
   ]
  },
  {
   "cell_type": "markdown",
   "metadata": {
    "hideCode": true,
    "hidePrompt": true
   },
   "source": [
    "### 1.2.1 Avg. house size"
   ]
  },
  {
   "cell_type": "markdown",
   "metadata": {},
   "source": [
    "#### 1.2.1.1 Import house size data set \"c_ls\""
   ]
  },
  {
   "cell_type": "code",
   "execution_count": 16,
   "metadata": {},
   "outputs": [
    {
     "data": {
      "text/html": [
       "<table>\n",
       "<caption>A tibble: 2 × 24</caption>\n",
       "<thead>\n",
       "\t<tr><th scope=col>folio</th><th scope=col>ls</th><th scope=col>secuencia</th><th scope=col>ls00</th><th scope=col>ls02_1</th><th scope=col>ls02_2</th><th scope=col>ls03_1</th><th scope=col>ls03_21</th><th scope=col>ls03_22</th><th scope=col>ls04</th><th scope=col>⋯</th><th scope=col>ls09</th><th scope=col>ls10</th><th scope=col>ls11</th><th scope=col>ls12</th><th scope=col>ls13_1</th><th scope=col>ls13_2</th><th scope=col>ls14</th><th scope=col>ls15_1</th><th scope=col>ls16</th><th scope=col>ls18</th></tr>\n",
       "\t<tr><th scope=col>&lt;dbl&gt;</th><th scope=col>&lt;dbl&gt;</th><th scope=col>&lt;dbl&gt;</th><th scope=col>&lt;dbl&gt;</th><th scope=col>&lt;dbl&gt;</th><th scope=col>&lt;dbl&gt;</th><th scope=col>&lt;dbl&gt;</th><th scope=col>&lt;dbl&gt;</th><th scope=col>&lt;dbl&gt;</th><th scope=col>&lt;dbl&gt;</th><th scope=col>⋯</th><th scope=col>&lt;dbl&gt;</th><th scope=col>&lt;dbl&gt;</th><th scope=col>&lt;dbl&gt;</th><th scope=col>&lt;dbl&gt;</th><th scope=col>&lt;dbl&gt;</th><th scope=col>&lt;dbl&gt;</th><th scope=col>&lt;dbl&gt;</th><th scope=col>&lt;dbl&gt;</th><th scope=col>&lt;dbl&gt;</th><th scope=col>&lt;dbl&gt;</th></tr>\n",
       "</thead>\n",
       "<tbody>\n",
       "\t<tr><td>1000</td><td>1</td><td>1</td><td>1</td><td>1</td><td>37</td><td>NA</td><td>NA</td><td>NA</td><td>1</td><td>⋯</td><td>1</td><td>5</td><td>2</td><td>1</td><td> 1</td><td>32000</td><td>3</td><td> 6</td><td>3</td><td>NA</td></tr>\n",
       "\t<tr><td>1000</td><td>2</td><td>2</td><td>2</td><td>1</td><td>35</td><td>NA</td><td>NA</td><td>NA</td><td>3</td><td>⋯</td><td>1</td><td>5</td><td>1</td><td>3</td><td>NA</td><td>   NA</td><td>1</td><td>NA</td><td>3</td><td>NA</td></tr>\n",
       "</tbody>\n",
       "</table>\n"
      ],
      "text/latex": [
       "A tibble: 2 × 24\n",
       "\\begin{tabular}{lllllllllllllllllllll}\n",
       " folio & ls & secuencia & ls00 & ls02\\_1 & ls02\\_2 & ls03\\_1 & ls03\\_21 & ls03\\_22 & ls04 & ⋯ & ls09 & ls10 & ls11 & ls12 & ls13\\_1 & ls13\\_2 & ls14 & ls15\\_1 & ls16 & ls18\\\\\n",
       " <dbl> & <dbl> & <dbl> & <dbl> & <dbl> & <dbl> & <dbl> & <dbl> & <dbl> & <dbl> & ⋯ & <dbl> & <dbl> & <dbl> & <dbl> & <dbl> & <dbl> & <dbl> & <dbl> & <dbl> & <dbl>\\\\\n",
       "\\hline\n",
       "\t 1000 & 1 & 1 & 1 & 1 & 37 & NA & NA & NA & 1 & ⋯ & 1 & 5 & 2 & 1 &  1 & 32000 & 3 &  6 & 3 & NA\\\\\n",
       "\t 1000 & 2 & 2 & 2 & 1 & 35 & NA & NA & NA & 3 & ⋯ & 1 & 5 & 1 & 3 & NA &    NA & 1 & NA & 3 & NA\\\\\n",
       "\\end{tabular}\n"
      ],
      "text/markdown": [
       "\n",
       "A tibble: 2 × 24\n",
       "\n",
       "| folio &lt;dbl&gt; | ls &lt;dbl&gt; | secuencia &lt;dbl&gt; | ls00 &lt;dbl&gt; | ls02_1 &lt;dbl&gt; | ls02_2 &lt;dbl&gt; | ls03_1 &lt;dbl&gt; | ls03_21 &lt;dbl&gt; | ls03_22 &lt;dbl&gt; | ls04 &lt;dbl&gt; | ⋯ ⋯ | ls09 &lt;dbl&gt; | ls10 &lt;dbl&gt; | ls11 &lt;dbl&gt; | ls12 &lt;dbl&gt; | ls13_1 &lt;dbl&gt; | ls13_2 &lt;dbl&gt; | ls14 &lt;dbl&gt; | ls15_1 &lt;dbl&gt; | ls16 &lt;dbl&gt; | ls18 &lt;dbl&gt; |\n",
       "|---|---|---|---|---|---|---|---|---|---|---|---|---|---|---|---|---|---|---|---|---|\n",
       "| 1000 | 1 | 1 | 1 | 1 | 37 | NA | NA | NA | 1 | ⋯ | 1 | 5 | 2 | 1 |  1 | 32000 | 3 |  6 | 3 | NA |\n",
       "| 1000 | 2 | 2 | 2 | 1 | 35 | NA | NA | NA | 3 | ⋯ | 1 | 5 | 1 | 3 | NA |    NA | 1 | NA | 3 | NA |\n",
       "\n"
      ],
      "text/plain": [
       "  folio ls secuencia ls00 ls02_1 ls02_2 ls03_1 ls03_21 ls03_22 ls04 ⋯ ls09 ls10\n",
       "1 1000  1  1         1    1      37     NA     NA      NA      1    ⋯ 1    5   \n",
       "2 1000  2  2         2    1      35     NA     NA      NA      3    ⋯ 1    5   \n",
       "  ls11 ls12 ls13_1 ls13_2 ls14 ls15_1 ls16 ls18\n",
       "1 2    1     1     32000  3     6     3    NA  \n",
       "2 1    3    NA        NA  1    NA     3    NA  "
      ]
     },
     "metadata": {},
     "output_type": "display_data"
    }
   ],
   "source": [
    "df_housesize = read.dta(paste(path,'/hh02dta_bc/c_ls.dta', sep=''))\n",
    "df_housesize = as_tibble(df_housesize) #Set as tibble\n",
    "head(df_housesize,2)"
   ]
  },
  {
   "cell_type": "markdown",
   "metadata": {},
   "source": [
    "#### 1.2.1.2 Count family members \"ls\" in each household \"folio\""
   ]
  },
  {
   "cell_type": "code",
   "execution_count": 17,
   "metadata": {},
   "outputs": [
    {
     "data": {
      "text/html": [
       "<table>\n",
       "<caption>A grouped_df: 6 × 2</caption>\n",
       "<thead>\n",
       "\t<tr><th scope=col>Household_id</th><th scope=col>family_members</th></tr>\n",
       "\t<tr><th scope=col>&lt;dbl&gt;</th><th scope=col>&lt;int&gt;</th></tr>\n",
       "</thead>\n",
       "<tbody>\n",
       "\t<tr><td>1000</td><td>4</td></tr>\n",
       "\t<tr><td>2000</td><td>5</td></tr>\n",
       "\t<tr><td>3000</td><td>8</td></tr>\n",
       "\t<tr><td>4000</td><td>5</td></tr>\n",
       "\t<tr><td>6000</td><td>9</td></tr>\n",
       "\t<tr><td>7000</td><td>4</td></tr>\n",
       "</tbody>\n",
       "</table>\n"
      ],
      "text/latex": [
       "A grouped\\_df: 6 × 2\n",
       "\\begin{tabular}{ll}\n",
       " Household\\_id & family\\_members\\\\\n",
       " <dbl> & <int>\\\\\n",
       "\\hline\n",
       "\t 1000 & 4\\\\\n",
       "\t 2000 & 5\\\\\n",
       "\t 3000 & 8\\\\\n",
       "\t 4000 & 5\\\\\n",
       "\t 6000 & 9\\\\\n",
       "\t 7000 & 4\\\\\n",
       "\\end{tabular}\n"
      ],
      "text/markdown": [
       "\n",
       "A grouped_df: 6 × 2\n",
       "\n",
       "| Household_id &lt;dbl&gt; | family_members &lt;int&gt; |\n",
       "|---|---|\n",
       "| 1000 | 4 |\n",
       "| 2000 | 5 |\n",
       "| 3000 | 8 |\n",
       "| 4000 | 5 |\n",
       "| 6000 | 9 |\n",
       "| 7000 | 4 |\n",
       "\n"
      ],
      "text/plain": [
       "  Household_id family_members\n",
       "1 1000         4             \n",
       "2 2000         5             \n",
       "3 3000         8             \n",
       "4 4000         5             \n",
       "5 6000         9             \n",
       "6 7000         4             "
      ]
     },
     "metadata": {},
     "output_type": "display_data"
    }
   ],
   "source": [
    "family_members = df_housesize %>% group_by(folio) %>% count(folio)  \n",
    "family_members = family_members%>% rename(family_members = n, Household_id=folio)\n",
    "head(family_members)"
   ]
  },
  {
   "cell_type": "markdown",
   "metadata": {},
   "source": [
    "#### 1.2.1.2 Family members graph"
   ]
  },
  {
   "cell_type": "code",
   "execution_count": 18,
   "metadata": {
    "hideCode": true,
    "hidePrompt": true
   },
   "outputs": [
    {
     "data": {
      "image/png": "[encoded data removed]",
      "text/plain": [
       "Plot with title “Histogram of family_members$family_members”"
      ]
     },
     "metadata": {},
     "output_type": "display_data"
    }
   ],
   "source": [
    "hist(family_members$family_members)"
   ]
  },
  {
   "cell_type": "markdown",
   "metadata": {
    "hideCode": true,
    "hidePrompt": true
   },
   "source": [
    "## 1.3 Per capita consumption (Total/house size)"
   ]
  },
  {
   "cell_type": "markdown",
   "metadata": {},
   "source": [
    "### 1.3.1 Merge family_members and consumption data set"
   ]
  },
  {
   "cell_type": "markdown",
   "metadata": {},
   "source": [
    "#### 1.3.1.1 Check to see if df are the same length"
   ]
  },
  {
   "cell_type": "code",
   "execution_count": 19,
   "metadata": {},
   "outputs": [
    {
     "data": {
      "text/html": [
       "FALSE"
      ],
      "text/latex": [
       "FALSE"
      ],
      "text/markdown": [
       "FALSE"
      ],
      "text/plain": [
       "[1] FALSE"
      ]
     },
     "metadata": {},
     "output_type": "display_data"
    },
    {
     "data": {
      "text/html": [
       "FALSE"
      ],
      "text/latex": [
       "FALSE"
      ],
      "text/markdown": [
       "FALSE"
      ],
      "text/plain": [
       "[1] FALSE"
      ]
     },
     "metadata": {},
     "output_type": "display_data"
    }
   ],
   "source": [
    "length(family_members$family_members) == length(total_cons$consumption)\n",
    "length(merge(family_members, total_cons, by='Household_id', all=TRUE)$family_members)== length(merge(family_members, total_cons, by='Household_id')$family_members)"
   ]
  },
  {
   "cell_type": "markdown",
   "metadata": {},
   "source": [
    "#### 1.3.1.2 Merge two data sets and drop na values"
   ]
  },
  {
   "cell_type": "code",
   "execution_count": 20,
   "metadata": {
    "scrolled": true
   },
   "outputs": [
    {
     "data": {
      "text/html": [
       "<table>\n",
       "<caption>A data.frame: 3 × 28</caption>\n",
       "<thead>\n",
       "\t<tr><th></th><th scope=col>Household_id</th><th scope=col>family_members</th><th scope=col>cs02a_12</th><th scope=col>cs02a_22</th><th scope=col>cs02a_32</th><th scope=col>cs02a_42</th><th scope=col>cs02a_52</th><th scope=col>cs02a_62</th><th scope=col>cs02a_72</th><th scope=col>cs02a_82</th><th scope=col>⋯</th><th scope=col>cs16i_2</th><th scope=col>cs22a_2</th><th scope=col>cs22b_2</th><th scope=col>cs22c_2</th><th scope=col>cs22d_2</th><th scope=col>cs22e_2</th><th scope=col>cs22f_2</th><th scope=col>cs22g_2</th><th scope=col>cs22h_2</th><th scope=col>consumption</th></tr>\n",
       "\t<tr><th></th><th scope=col>&lt;dbl&gt;</th><th scope=col>&lt;int&gt;</th><th scope=col>&lt;dbl&gt;</th><th scope=col>&lt;dbl&gt;</th><th scope=col>&lt;dbl&gt;</th><th scope=col>&lt;dbl&gt;</th><th scope=col>&lt;dbl&gt;</th><th scope=col>&lt;dbl&gt;</th><th scope=col>&lt;dbl&gt;</th><th scope=col>&lt;dbl&gt;</th><th scope=col>⋯</th><th scope=col>&lt;dbl&gt;</th><th scope=col>&lt;dbl&gt;</th><th scope=col>&lt;dbl&gt;</th><th scope=col>&lt;dbl&gt;</th><th scope=col>&lt;dbl&gt;</th><th scope=col>&lt;dbl&gt;</th><th scope=col>&lt;dbl&gt;</th><th scope=col>&lt;dbl&gt;</th><th scope=col>&lt;dbl&gt;</th><th scope=col>&lt;dbl&gt;</th></tr>\n",
       "</thead>\n",
       "<tbody>\n",
       "\t<tr><th scope=row>1</th><td>1000</td><td>4</td><td>21.5</td><td>34.4</td><td>21.5</td><td>25.8</td><td> 43.0</td><td>43</td><td>150.5</td><td> 64.5</td><td>⋯</td><td>811</td><td>  0.0000</td><td>200.00000</td><td> 66.66667</td><td> 0.00000</td><td>0</td><td>  0</td><td>   0.0000</td><td>0</td><td>1876.867</td></tr>\n",
       "\t<tr><th scope=row>2</th><td>2000</td><td>5</td><td>21.5</td><td>43.0</td><td> 8.6</td><td>21.5</td><td> 51.6</td><td>43</td><td>215.0</td><td>430.0</td><td>⋯</td><td>325</td><td>  0.0000</td><td>166.66667</td><td>  0.00000</td><td> 0.00000</td><td>0</td><td> 50</td><td>2666.6667</td><td>0</td><td>5464.533</td></tr>\n",
       "\t<tr><th scope=row>3</th><td>3000</td><td>8</td><td>21.5</td><td>30.1</td><td>43.0</td><td>73.1</td><td>301.0</td><td>43</td><td>430.0</td><td>215.0</td><td>⋯</td><td>822</td><td>333.3333</td><td> 66.66667</td><td>100.00000</td><td>33.33333</td><td>0</td><td>100</td><td> 133.3333</td><td>0</td><td>3522.367</td></tr>\n",
       "</tbody>\n",
       "</table>\n"
      ],
      "text/latex": [
       "A data.frame: 3 × 28\n",
       "\\begin{tabular}{r|lllllllllllllllllllll}\n",
       "  & Household\\_id & family\\_members & cs02a\\_12 & cs02a\\_22 & cs02a\\_32 & cs02a\\_42 & cs02a\\_52 & cs02a\\_62 & cs02a\\_72 & cs02a\\_82 & ⋯ & cs16i\\_2 & cs22a\\_2 & cs22b\\_2 & cs22c\\_2 & cs22d\\_2 & cs22e\\_2 & cs22f\\_2 & cs22g\\_2 & cs22h\\_2 & consumption\\\\\n",
       "  & <dbl> & <int> & <dbl> & <dbl> & <dbl> & <dbl> & <dbl> & <dbl> & <dbl> & <dbl> & ⋯ & <dbl> & <dbl> & <dbl> & <dbl> & <dbl> & <dbl> & <dbl> & <dbl> & <dbl> & <dbl>\\\\\n",
       "\\hline\n",
       "\t1 & 1000 & 4 & 21.5 & 34.4 & 21.5 & 25.8 &  43.0 & 43 & 150.5 &  64.5 & ⋯ & 811 &   0.0000 & 200.00000 &  66.66667 &  0.00000 & 0 &   0 &    0.0000 & 0 & 1876.867\\\\\n",
       "\t2 & 2000 & 5 & 21.5 & 43.0 &  8.6 & 21.5 &  51.6 & 43 & 215.0 & 430.0 & ⋯ & 325 &   0.0000 & 166.66667 &   0.00000 &  0.00000 & 0 &  50 & 2666.6667 & 0 & 5464.533\\\\\n",
       "\t3 & 3000 & 8 & 21.5 & 30.1 & 43.0 & 73.1 & 301.0 & 43 & 430.0 & 215.0 & ⋯ & 822 & 333.3333 &  66.66667 & 100.00000 & 33.33333 & 0 & 100 &  133.3333 & 0 & 3522.367\\\\\n",
       "\\end{tabular}\n"
      ],
      "text/markdown": [
       "\n",
       "A data.frame: 3 × 28\n",
       "\n",
       "| <!--/--> | Household_id &lt;dbl&gt; | family_members &lt;int&gt; | cs02a_12 &lt;dbl&gt; | cs02a_22 &lt;dbl&gt; | cs02a_32 &lt;dbl&gt; | cs02a_42 &lt;dbl&gt; | cs02a_52 &lt;dbl&gt; | cs02a_62 &lt;dbl&gt; | cs02a_72 &lt;dbl&gt; | cs02a_82 &lt;dbl&gt; | ⋯ ⋯ | cs16i_2 &lt;dbl&gt; | cs22a_2 &lt;dbl&gt; | cs22b_2 &lt;dbl&gt; | cs22c_2 &lt;dbl&gt; | cs22d_2 &lt;dbl&gt; | cs22e_2 &lt;dbl&gt; | cs22f_2 &lt;dbl&gt; | cs22g_2 &lt;dbl&gt; | cs22h_2 &lt;dbl&gt; | consumption &lt;dbl&gt; |\n",
       "|---|---|---|---|---|---|---|---|---|---|---|---|---|---|---|---|---|---|---|---|---|---|\n",
       "| 1 | 1000 | 4 | 21.5 | 34.4 | 21.5 | 25.8 |  43.0 | 43 | 150.5 |  64.5 | ⋯ | 811 |   0.0000 | 200.00000 |  66.66667 |  0.00000 | 0 |   0 |    0.0000 | 0 | 1876.867 |\n",
       "| 2 | 2000 | 5 | 21.5 | 43.0 |  8.6 | 21.5 |  51.6 | 43 | 215.0 | 430.0 | ⋯ | 325 |   0.0000 | 166.66667 |   0.00000 |  0.00000 | 0 |  50 | 2666.6667 | 0 | 5464.533 |\n",
       "| 3 | 3000 | 8 | 21.5 | 30.1 | 43.0 | 73.1 | 301.0 | 43 | 430.0 | 215.0 | ⋯ | 822 | 333.3333 |  66.66667 | 100.00000 | 33.33333 | 0 | 100 |  133.3333 | 0 | 3522.367 |\n",
       "\n"
      ],
      "text/plain": [
       "  Household_id family_members cs02a_12 cs02a_22 cs02a_32 cs02a_42 cs02a_52\n",
       "1 1000         4              21.5     34.4     21.5     25.8      43.0   \n",
       "2 2000         5              21.5     43.0      8.6     21.5      51.6   \n",
       "3 3000         8              21.5     30.1     43.0     73.1     301.0   \n",
       "  cs02a_62 cs02a_72 cs02a_82 ⋯ cs16i_2 cs22a_2  cs22b_2   cs22c_2   cs22d_2 \n",
       "1 43       150.5     64.5    ⋯ 811       0.0000 200.00000  66.66667  0.00000\n",
       "2 43       215.0    430.0    ⋯ 325       0.0000 166.66667   0.00000  0.00000\n",
       "3 43       430.0    215.0    ⋯ 822     333.3333  66.66667 100.00000 33.33333\n",
       "  cs22e_2 cs22f_2 cs22g_2   cs22h_2 consumption\n",
       "1 0         0        0.0000 0       1876.867   \n",
       "2 0        50     2666.6667 0       5464.533   \n",
       "3 0       100      133.3333 0       3522.367   "
      ]
     },
     "metadata": {},
     "output_type": "display_data"
    }
   ],
   "source": [
    "percap_consum = merge(family_members, total_cons, by='Household_id')\n",
    "percap_consum%>% head(3)"
   ]
  },
  {
   "cell_type": "markdown",
   "metadata": {},
   "source": [
    "#### 1.3.1.3 Calculate percapita consumption"
   ]
  },
  {
   "cell_type": "code",
   "execution_count": 21,
   "metadata": {},
   "outputs": [
    {
     "data": {
      "text/html": [
       "<table>\n",
       "<caption>A data.frame: 3 × 29</caption>\n",
       "<thead>\n",
       "\t<tr><th></th><th scope=col>Household_id</th><th scope=col>family_members</th><th scope=col>cs02a_12</th><th scope=col>cs02a_22</th><th scope=col>cs02a_32</th><th scope=col>cs02a_42</th><th scope=col>cs02a_52</th><th scope=col>cs02a_62</th><th scope=col>cs02a_72</th><th scope=col>cs02a_82</th><th scope=col>⋯</th><th scope=col>cs22a_2</th><th scope=col>cs22b_2</th><th scope=col>cs22c_2</th><th scope=col>cs22d_2</th><th scope=col>cs22e_2</th><th scope=col>cs22f_2</th><th scope=col>cs22g_2</th><th scope=col>cs22h_2</th><th scope=col>consumption</th><th scope=col>percap_consum</th></tr>\n",
       "\t<tr><th></th><th scope=col>&lt;dbl&gt;</th><th scope=col>&lt;int&gt;</th><th scope=col>&lt;dbl&gt;</th><th scope=col>&lt;dbl&gt;</th><th scope=col>&lt;dbl&gt;</th><th scope=col>&lt;dbl&gt;</th><th scope=col>&lt;dbl&gt;</th><th scope=col>&lt;dbl&gt;</th><th scope=col>&lt;dbl&gt;</th><th scope=col>&lt;dbl&gt;</th><th scope=col>⋯</th><th scope=col>&lt;dbl&gt;</th><th scope=col>&lt;dbl&gt;</th><th scope=col>&lt;dbl&gt;</th><th scope=col>&lt;dbl&gt;</th><th scope=col>&lt;dbl&gt;</th><th scope=col>&lt;dbl&gt;</th><th scope=col>&lt;dbl&gt;</th><th scope=col>&lt;dbl&gt;</th><th scope=col>&lt;dbl&gt;</th><th scope=col>&lt;dbl&gt;</th></tr>\n",
       "</thead>\n",
       "<tbody>\n",
       "\t<tr><th scope=row>1</th><td>1000</td><td>4</td><td>21.5</td><td>34.4</td><td>21.5</td><td>25.8</td><td> 43.0</td><td>43</td><td>150.5</td><td> 64.5</td><td>⋯</td><td>  0.0000</td><td>200.00000</td><td> 66.66667</td><td> 0.00000</td><td>0</td><td>  0</td><td>   0.0000</td><td>0</td><td>1876.867</td><td> 469.2167</td></tr>\n",
       "\t<tr><th scope=row>2</th><td>2000</td><td>5</td><td>21.5</td><td>43.0</td><td> 8.6</td><td>21.5</td><td> 51.6</td><td>43</td><td>215.0</td><td>430.0</td><td>⋯</td><td>  0.0000</td><td>166.66667</td><td>  0.00000</td><td> 0.00000</td><td>0</td><td> 50</td><td>2666.6667</td><td>0</td><td>5464.533</td><td>1092.9067</td></tr>\n",
       "\t<tr><th scope=row>3</th><td>3000</td><td>8</td><td>21.5</td><td>30.1</td><td>43.0</td><td>73.1</td><td>301.0</td><td>43</td><td>430.0</td><td>215.0</td><td>⋯</td><td>333.3333</td><td> 66.66667</td><td>100.00000</td><td>33.33333</td><td>0</td><td>100</td><td> 133.3333</td><td>0</td><td>3522.367</td><td> 440.2958</td></tr>\n",
       "</tbody>\n",
       "</table>\n"
      ],
      "text/latex": [
       "A data.frame: 3 × 29\n",
       "\\begin{tabular}{r|lllllllllllllllllllll}\n",
       "  & Household\\_id & family\\_members & cs02a\\_12 & cs02a\\_22 & cs02a\\_32 & cs02a\\_42 & cs02a\\_52 & cs02a\\_62 & cs02a\\_72 & cs02a\\_82 & ⋯ & cs22a\\_2 & cs22b\\_2 & cs22c\\_2 & cs22d\\_2 & cs22e\\_2 & cs22f\\_2 & cs22g\\_2 & cs22h\\_2 & consumption & percap\\_consum\\\\\n",
       "  & <dbl> & <int> & <dbl> & <dbl> & <dbl> & <dbl> & <dbl> & <dbl> & <dbl> & <dbl> & ⋯ & <dbl> & <dbl> & <dbl> & <dbl> & <dbl> & <dbl> & <dbl> & <dbl> & <dbl> & <dbl>\\\\\n",
       "\\hline\n",
       "\t1 & 1000 & 4 & 21.5 & 34.4 & 21.5 & 25.8 &  43.0 & 43 & 150.5 &  64.5 & ⋯ &   0.0000 & 200.00000 &  66.66667 &  0.00000 & 0 &   0 &    0.0000 & 0 & 1876.867 &  469.2167\\\\\n",
       "\t2 & 2000 & 5 & 21.5 & 43.0 &  8.6 & 21.5 &  51.6 & 43 & 215.0 & 430.0 & ⋯ &   0.0000 & 166.66667 &   0.00000 &  0.00000 & 0 &  50 & 2666.6667 & 0 & 5464.533 & 1092.9067\\\\\n",
       "\t3 & 3000 & 8 & 21.5 & 30.1 & 43.0 & 73.1 & 301.0 & 43 & 430.0 & 215.0 & ⋯ & 333.3333 &  66.66667 & 100.00000 & 33.33333 & 0 & 100 &  133.3333 & 0 & 3522.367 &  440.2958\\\\\n",
       "\\end{tabular}\n"
      ],
      "text/markdown": [
       "\n",
       "A data.frame: 3 × 29\n",
       "\n",
       "| <!--/--> | Household_id &lt;dbl&gt; | family_members &lt;int&gt; | cs02a_12 &lt;dbl&gt; | cs02a_22 &lt;dbl&gt; | cs02a_32 &lt;dbl&gt; | cs02a_42 &lt;dbl&gt; | cs02a_52 &lt;dbl&gt; | cs02a_62 &lt;dbl&gt; | cs02a_72 &lt;dbl&gt; | cs02a_82 &lt;dbl&gt; | ⋯ ⋯ | cs22a_2 &lt;dbl&gt; | cs22b_2 &lt;dbl&gt; | cs22c_2 &lt;dbl&gt; | cs22d_2 &lt;dbl&gt; | cs22e_2 &lt;dbl&gt; | cs22f_2 &lt;dbl&gt; | cs22g_2 &lt;dbl&gt; | cs22h_2 &lt;dbl&gt; | consumption &lt;dbl&gt; | percap_consum &lt;dbl&gt; |\n",
       "|---|---|---|---|---|---|---|---|---|---|---|---|---|---|---|---|---|---|---|---|---|---|\n",
       "| 1 | 1000 | 4 | 21.5 | 34.4 | 21.5 | 25.8 |  43.0 | 43 | 150.5 |  64.5 | ⋯ |   0.0000 | 200.00000 |  66.66667 |  0.00000 | 0 |   0 |    0.0000 | 0 | 1876.867 |  469.2167 |\n",
       "| 2 | 2000 | 5 | 21.5 | 43.0 |  8.6 | 21.5 |  51.6 | 43 | 215.0 | 430.0 | ⋯ |   0.0000 | 166.66667 |   0.00000 |  0.00000 | 0 |  50 | 2666.6667 | 0 | 5464.533 | 1092.9067 |\n",
       "| 3 | 3000 | 8 | 21.5 | 30.1 | 43.0 | 73.1 | 301.0 | 43 | 430.0 | 215.0 | ⋯ | 333.3333 |  66.66667 | 100.00000 | 33.33333 | 0 | 100 |  133.3333 | 0 | 3522.367 |  440.2958 |\n",
       "\n"
      ],
      "text/plain": [
       "  Household_id family_members cs02a_12 cs02a_22 cs02a_32 cs02a_42 cs02a_52\n",
       "1 1000         4              21.5     34.4     21.5     25.8      43.0   \n",
       "2 2000         5              21.5     43.0      8.6     21.5      51.6   \n",
       "3 3000         8              21.5     30.1     43.0     73.1     301.0   \n",
       "  cs02a_62 cs02a_72 cs02a_82 ⋯ cs22a_2  cs22b_2   cs22c_2   cs22d_2  cs22e_2\n",
       "1 43       150.5     64.5    ⋯   0.0000 200.00000  66.66667  0.00000 0      \n",
       "2 43       215.0    430.0    ⋯   0.0000 166.66667   0.00000  0.00000 0      \n",
       "3 43       430.0    215.0    ⋯ 333.3333  66.66667 100.00000 33.33333 0      \n",
       "  cs22f_2 cs22g_2   cs22h_2 consumption percap_consum\n",
       "1   0        0.0000 0       1876.867     469.2167    \n",
       "2  50     2666.6667 0       5464.533    1092.9067    \n",
       "3 100      133.3333 0       3522.367     440.2958    "
      ]
     },
     "metadata": {},
     "output_type": "display_data"
    }
   ],
   "source": [
    "percap_consum = percap_consum %>%\n",
    "mutate(percap_consum = percap_consum$consumption/percap_consum$family_members)\n",
    "percap_consum%>% head(3)"
   ]
  },
  {
   "cell_type": "code",
   "execution_count": 22,
   "metadata": {},
   "outputs": [],
   "source": [
    "# Export data to CSV\n",
    "#write.csv(percap_consum, 'R_data.csv')"
   ]
  },
  {
   "cell_type": "markdown",
   "metadata": {},
   "source": [
    "#### 1.3.1.4 Percap consumption summary"
   ]
  },
  {
   "cell_type": "code",
   "execution_count": 23,
   "metadata": {
    "hideCode": true,
    "hidePrompt": true
   },
   "outputs": [
    {
     "data": {
      "text/plain": [
       " family_members     cs02a_12            cs02a_22      \n",
       " Min.   : 1.00   Min.   :     0.00   Min.   :   0.00  \n",
       " 1st Qu.: 3.00   1st Qu.:    12.90   1st Qu.:   0.00  \n",
       " Median : 4.00   Median :    21.50   Median :  34.40  \n",
       " Mean   : 4.23   Mean   :    55.89   Mean   :  38.47  \n",
       " 3rd Qu.: 5.00   3rd Qu.:    30.10   3rd Qu.:  47.30  \n",
       " Max.   :17.00   Max.   :215516.00   Max.   :4351.60  \n",
       "                 NA's   :209         NA's   :200      "
      ]
     },
     "metadata": {},
     "output_type": "display_data"
    }
   ],
   "source": [
    "summary(percap_consum[,2:4])"
   ]
  },
  {
   "cell_type": "markdown",
   "metadata": {
    "hideCode": true,
    "hidePrompt": true
   },
   "source": [
    "# Q.2. \n",
    "\n",
    "- Calculate the set of poverty rates nationwide using the FGT indicators of poverty:\n",
    "    - Head count\n",
    "    - Average poverty gap\n",
    "    - Average poverty gap squared. \n",
    "- Assume the poverty line=500 pesos per person. Provide poverty rates based on household consumption per capita.\n",
    "\n"
   ]
  },
  {
   "cell_type": "markdown",
   "metadata": {
    "hideCode": true,
    "hidePrompt": true
   },
   "source": [
    "## 2.1 Headcount using 500 as an example"
   ]
  },
  {
   "cell_type": "code",
   "execution_count": 24,
   "metadata": {},
   "outputs": [],
   "source": [
    "povertyline = 500\n",
    "\n",
    "below_poverty = percap_consum %>%filter(percap_consum < povertyline )%>% select(percap_consum) \n",
    "observations = length(percap_consum$percap_consum)\n",
    "head_count = length(below_poverty$percap_consum)/observations"
   ]
  },
  {
   "cell_type": "code",
   "execution_count": 25,
   "metadata": {},
   "outputs": [
    {
     "name": "stdout",
     "output_type": "stream",
     "text": [
      "[1] Headcount: 75.65%\n"
     ]
    }
   ],
   "source": [
    "print(paste('Headcount: ', round(head_count*100, 2),'%', sep=''), quote=FALSE)"
   ]
  },
  {
   "cell_type": "markdown",
   "metadata": {
    "hideCode": true,
    "hidePrompt": true
   },
   "source": [
    "## 2.2 Avg. poverty gap"
   ]
  },
  {
   "cell_type": "code",
   "execution_count": 26,
   "metadata": {},
   "outputs": [
    {
     "data": {
      "text/html": [
       "322.253104113795"
      ],
      "text/latex": [
       "322.253104113795"
      ],
      "text/markdown": [
       "322.253104113795"
      ],
      "text/plain": [
       "[1] 322.2531"
      ]
     },
     "metadata": {},
     "output_type": "display_data"
    }
   ],
   "source": [
    "mean(povertyline-below_poverty$percap_consum)"
   ]
  },
  {
   "cell_type": "markdown",
   "metadata": {
    "hideCode": true,
    "hidePrompt": true
   },
   "source": [
    "## 2.3 Avg. poverty gap squared"
   ]
  },
  {
   "cell_type": "code",
   "execution_count": 27,
   "metadata": {
    "hideCode": true,
    "hidePrompt": true
   },
   "outputs": [
    {
     "data": {
      "text/html": [
       "124393.577090166"
      ],
      "text/latex": [
       "124393.577090166"
      ],
      "text/markdown": [
       "124393.577090166"
      ],
      "text/plain": [
       "[1] 124393.6"
      ]
     },
     "metadata": {},
     "output_type": "display_data"
    }
   ],
   "source": [
    "mean((povertyline-below_poverty$percap_consum)**2)"
   ]
  },
  {
   "cell_type": "markdown",
   "metadata": {
    "hideCode": true,
    "hidePrompt": true
   },
   "source": [
    "## Q.3 Repeat 2) by area of residence.\n",
    "\n",
    "- How does the poverty rate change by rural/urban residence?"
   ]
  },
  {
   "cell_type": "markdown",
   "metadata": {},
   "source": [
    "## 3.1. Import residence data from \"c_portad\""
   ]
  },
  {
   "cell_type": "code",
   "execution_count": 28,
   "metadata": {},
   "outputs": [
    {
     "data": {
      "text/html": [
       "<table>\n",
       "<caption>A data.frame: 6 × 11</caption>\n",
       "<thead>\n",
       "\t<tr><th></th><th scope=col>Household_id</th><th scope=col>ls</th><th scope=col>rel</th><th scope=col>reh</th><th scope=col>edo</th><th scope=col>mpio</th><th scope=col>loc</th><th scope=col>control</th><th scope=col>estrato</th><th scope=col>edad</th><th scope=col>id_loc</th></tr>\n",
       "\t<tr><th></th><th scope=col>&lt;dbl&gt;</th><th scope=col>&lt;dbl&gt;</th><th scope=col>&lt;dbl&gt;</th><th scope=col>&lt;dbl&gt;</th><th scope=col>&lt;dbl&gt;</th><th scope=col>&lt;dbl&gt;</th><th scope=col>&lt;dbl&gt;</th><th scope=col>&lt;dbl&gt;</th><th scope=col>&lt;dbl&gt;</th><th scope=col>&lt;dbl&gt;</th><th scope=col>&lt;dbl&gt;</th></tr>\n",
       "</thead>\n",
       "<tbody>\n",
       "\t<tr><th scope=row>1</th><td>6299000</td><td>1</td><td>20</td><td>1</td><td>3</td><td>1</td><td>38</td><td>20</td><td>4</td><td>73</td><td>3138</td></tr>\n",
       "\t<tr><th scope=row>2</th><td>6293000</td><td>2</td><td>20</td><td>1</td><td>3</td><td>1</td><td>38</td><td>20</td><td>4</td><td>49</td><td>3138</td></tr>\n",
       "\t<tr><th scope=row>3</th><td>6281000</td><td>2</td><td>20</td><td>1</td><td>3</td><td>1</td><td>38</td><td>20</td><td>4</td><td>41</td><td>3138</td></tr>\n",
       "\t<tr><th scope=row>4</th><td>6312000</td><td>1</td><td>20</td><td>1</td><td>3</td><td>1</td><td>38</td><td>20</td><td>4</td><td>32</td><td>3138</td></tr>\n",
       "\t<tr><th scope=row>5</th><td>6314000</td><td>2</td><td>20</td><td>1</td><td>3</td><td>1</td><td>38</td><td>20</td><td>4</td><td>55</td><td>3138</td></tr>\n",
       "\t<tr><th scope=row>6</th><td>6331000</td><td>2</td><td>20</td><td>1</td><td>3</td><td>1</td><td>38</td><td>20</td><td>4</td><td>31</td><td>3138</td></tr>\n",
       "</tbody>\n",
       "</table>\n"
      ],
      "text/latex": [
       "A data.frame: 6 × 11\n",
       "\\begin{tabular}{r|lllllllllll}\n",
       "  & Household\\_id & ls & rel & reh & edo & mpio & loc & control & estrato & edad & id\\_loc\\\\\n",
       "  & <dbl> & <dbl> & <dbl> & <dbl> & <dbl> & <dbl> & <dbl> & <dbl> & <dbl> & <dbl> & <dbl>\\\\\n",
       "\\hline\n",
       "\t1 & 6299000 & 1 & 20 & 1 & 3 & 1 & 38 & 20 & 4 & 73 & 3138\\\\\n",
       "\t2 & 6293000 & 2 & 20 & 1 & 3 & 1 & 38 & 20 & 4 & 49 & 3138\\\\\n",
       "\t3 & 6281000 & 2 & 20 & 1 & 3 & 1 & 38 & 20 & 4 & 41 & 3138\\\\\n",
       "\t4 & 6312000 & 1 & 20 & 1 & 3 & 1 & 38 & 20 & 4 & 32 & 3138\\\\\n",
       "\t5 & 6314000 & 2 & 20 & 1 & 3 & 1 & 38 & 20 & 4 & 55 & 3138\\\\\n",
       "\t6 & 6331000 & 2 & 20 & 1 & 3 & 1 & 38 & 20 & 4 & 31 & 3138\\\\\n",
       "\\end{tabular}\n"
      ],
      "text/markdown": [
       "\n",
       "A data.frame: 6 × 11\n",
       "\n",
       "| <!--/--> | Household_id &lt;dbl&gt; | ls &lt;dbl&gt; | rel &lt;dbl&gt; | reh &lt;dbl&gt; | edo &lt;dbl&gt; | mpio &lt;dbl&gt; | loc &lt;dbl&gt; | control &lt;dbl&gt; | estrato &lt;dbl&gt; | edad &lt;dbl&gt; | id_loc &lt;dbl&gt; |\n",
       "|---|---|---|---|---|---|---|---|---|---|---|---|\n",
       "| 1 | 6299000 | 1 | 20 | 1 | 3 | 1 | 38 | 20 | 4 | 73 | 3138 |\n",
       "| 2 | 6293000 | 2 | 20 | 1 | 3 | 1 | 38 | 20 | 4 | 49 | 3138 |\n",
       "| 3 | 6281000 | 2 | 20 | 1 | 3 | 1 | 38 | 20 | 4 | 41 | 3138 |\n",
       "| 4 | 6312000 | 1 | 20 | 1 | 3 | 1 | 38 | 20 | 4 | 32 | 3138 |\n",
       "| 5 | 6314000 | 2 | 20 | 1 | 3 | 1 | 38 | 20 | 4 | 55 | 3138 |\n",
       "| 6 | 6331000 | 2 | 20 | 1 | 3 | 1 | 38 | 20 | 4 | 31 | 3138 |\n",
       "\n"
      ],
      "text/plain": [
       "  Household_id ls rel reh edo mpio loc control estrato edad id_loc\n",
       "1 6299000      1  20  1   3   1    38  20      4       73   3138  \n",
       "2 6293000      2  20  1   3   1    38  20      4       49   3138  \n",
       "3 6281000      2  20  1   3   1    38  20      4       41   3138  \n",
       "4 6312000      1  20  1   3   1    38  20      4       32   3138  \n",
       "5 6314000      2  20  1   3   1    38  20      4       55   3138  \n",
       "6 6331000      2  20  1   3   1    38  20      4       31   3138  "
      ]
     },
     "metadata": {},
     "output_type": "display_data"
    }
   ],
   "source": [
    "residence_df = read.dta(paste(path,'/hh02dta_bc/c_portad.dta', sep=''))\n",
    "residence_df = residence_df%>% rename(Household_id = folio)\n",
    "head(residence_df)"
   ]
  },
  {
   "cell_type": "markdown",
   "metadata": {},
   "source": [
    "### 3.1.1. Merge residence df with percap_consum df from Q.1 & Q.2 "
   ]
  },
  {
   "cell_type": "code",
   "execution_count": 29,
   "metadata": {},
   "outputs": [
    {
     "data": {
      "text/html": [
       "<table>\n",
       "<caption>A tibble: 3 × 39</caption>\n",
       "<thead>\n",
       "\t<tr><th scope=col>Household_id</th><th scope=col>ls</th><th scope=col>rel</th><th scope=col>reh</th><th scope=col>edo</th><th scope=col>mpio</th><th scope=col>loc</th><th scope=col>control</th><th scope=col>estrato</th><th scope=col>edad</th><th scope=col>⋯</th><th scope=col>cs22a_2</th><th scope=col>cs22b_2</th><th scope=col>cs22c_2</th><th scope=col>cs22d_2</th><th scope=col>cs22e_2</th><th scope=col>cs22f_2</th><th scope=col>cs22g_2</th><th scope=col>cs22h_2</th><th scope=col>consumption</th><th scope=col>percap_consum</th></tr>\n",
       "\t<tr><th scope=col>&lt;dbl&gt;</th><th scope=col>&lt;dbl&gt;</th><th scope=col>&lt;dbl&gt;</th><th scope=col>&lt;dbl&gt;</th><th scope=col>&lt;dbl&gt;</th><th scope=col>&lt;dbl&gt;</th><th scope=col>&lt;dbl&gt;</th><th scope=col>&lt;dbl&gt;</th><th scope=col>&lt;dbl&gt;</th><th scope=col>&lt;dbl&gt;</th><th scope=col>⋯</th><th scope=col>&lt;dbl&gt;</th><th scope=col>&lt;dbl&gt;</th><th scope=col>&lt;dbl&gt;</th><th scope=col>&lt;dbl&gt;</th><th scope=col>&lt;dbl&gt;</th><th scope=col>&lt;dbl&gt;</th><th scope=col>&lt;dbl&gt;</th><th scope=col>&lt;dbl&gt;</th><th scope=col>&lt;dbl&gt;</th><th scope=col>&lt;dbl&gt;</th></tr>\n",
       "</thead>\n",
       "<tbody>\n",
       "\t<tr><td>1000</td><td>2</td><td>20</td><td>1</td><td>20</td><td>107</td><td>61</td><td>207409</td><td>3</td><td>35</td><td>⋯</td><td>  0.0000</td><td>200.00000</td><td> 66.66667</td><td> 0.00000</td><td>0</td><td>  0</td><td>   0.0000</td><td>0</td><td>1876.867</td><td> 469.2167</td></tr>\n",
       "\t<tr><td>2000</td><td>2</td><td>20</td><td>4</td><td>20</td><td>107</td><td>61</td><td>207409</td><td>3</td><td>42</td><td>⋯</td><td>  0.0000</td><td>166.66667</td><td>  0.00000</td><td> 0.00000</td><td>0</td><td> 50</td><td>2666.6667</td><td>0</td><td>5464.533</td><td>1092.9067</td></tr>\n",
       "\t<tr><td>3000</td><td>2</td><td>20</td><td>1</td><td>20</td><td>107</td><td>61</td><td>207409</td><td>3</td><td>35</td><td>⋯</td><td>333.3333</td><td> 66.66667</td><td>100.00000</td><td>33.33333</td><td>0</td><td>100</td><td> 133.3333</td><td>0</td><td>3522.367</td><td> 440.2958</td></tr>\n",
       "</tbody>\n",
       "</table>\n"
      ],
      "text/latex": [
       "A tibble: 3 × 39\n",
       "\\begin{tabular}{lllllllllllllllllllll}\n",
       " Household\\_id & ls & rel & reh & edo & mpio & loc & control & estrato & edad & ⋯ & cs22a\\_2 & cs22b\\_2 & cs22c\\_2 & cs22d\\_2 & cs22e\\_2 & cs22f\\_2 & cs22g\\_2 & cs22h\\_2 & consumption & percap\\_consum\\\\\n",
       " <dbl> & <dbl> & <dbl> & <dbl> & <dbl> & <dbl> & <dbl> & <dbl> & <dbl> & <dbl> & ⋯ & <dbl> & <dbl> & <dbl> & <dbl> & <dbl> & <dbl> & <dbl> & <dbl> & <dbl> & <dbl>\\\\\n",
       "\\hline\n",
       "\t 1000 & 2 & 20 & 1 & 20 & 107 & 61 & 207409 & 3 & 35 & ⋯ &   0.0000 & 200.00000 &  66.66667 &  0.00000 & 0 &   0 &    0.0000 & 0 & 1876.867 &  469.2167\\\\\n",
       "\t 2000 & 2 & 20 & 4 & 20 & 107 & 61 & 207409 & 3 & 42 & ⋯ &   0.0000 & 166.66667 &   0.00000 &  0.00000 & 0 &  50 & 2666.6667 & 0 & 5464.533 & 1092.9067\\\\\n",
       "\t 3000 & 2 & 20 & 1 & 20 & 107 & 61 & 207409 & 3 & 35 & ⋯ & 333.3333 &  66.66667 & 100.00000 & 33.33333 & 0 & 100 &  133.3333 & 0 & 3522.367 &  440.2958\\\\\n",
       "\\end{tabular}\n"
      ],
      "text/markdown": [
       "\n",
       "A tibble: 3 × 39\n",
       "\n",
       "| Household_id &lt;dbl&gt; | ls &lt;dbl&gt; | rel &lt;dbl&gt; | reh &lt;dbl&gt; | edo &lt;dbl&gt; | mpio &lt;dbl&gt; | loc &lt;dbl&gt; | control &lt;dbl&gt; | estrato &lt;dbl&gt; | edad &lt;dbl&gt; | ⋯ ⋯ | cs22a_2 &lt;dbl&gt; | cs22b_2 &lt;dbl&gt; | cs22c_2 &lt;dbl&gt; | cs22d_2 &lt;dbl&gt; | cs22e_2 &lt;dbl&gt; | cs22f_2 &lt;dbl&gt; | cs22g_2 &lt;dbl&gt; | cs22h_2 &lt;dbl&gt; | consumption &lt;dbl&gt; | percap_consum &lt;dbl&gt; |\n",
       "|---|---|---|---|---|---|---|---|---|---|---|---|---|---|---|---|---|---|---|---|---|\n",
       "| 1000 | 2 | 20 | 1 | 20 | 107 | 61 | 207409 | 3 | 35 | ⋯ |   0.0000 | 200.00000 |  66.66667 |  0.00000 | 0 |   0 |    0.0000 | 0 | 1876.867 |  469.2167 |\n",
       "| 2000 | 2 | 20 | 4 | 20 | 107 | 61 | 207409 | 3 | 42 | ⋯ |   0.0000 | 166.66667 |   0.00000 |  0.00000 | 0 |  50 | 2666.6667 | 0 | 5464.533 | 1092.9067 |\n",
       "| 3000 | 2 | 20 | 1 | 20 | 107 | 61 | 207409 | 3 | 35 | ⋯ | 333.3333 |  66.66667 | 100.00000 | 33.33333 | 0 | 100 |  133.3333 | 0 | 3522.367 |  440.2958 |\n",
       "\n"
      ],
      "text/plain": [
       "  Household_id ls rel reh edo mpio loc control estrato edad ⋯ cs22a_2 \n",
       "1 1000         2  20  1   20  107  61  207409  3       35   ⋯   0.0000\n",
       "2 2000         2  20  4   20  107  61  207409  3       42   ⋯   0.0000\n",
       "3 3000         2  20  1   20  107  61  207409  3       35   ⋯ 333.3333\n",
       "  cs22b_2   cs22c_2   cs22d_2  cs22e_2 cs22f_2 cs22g_2   cs22h_2 consumption\n",
       "1 200.00000  66.66667  0.00000 0         0        0.0000 0       1876.867   \n",
       "2 166.66667   0.00000  0.00000 0        50     2666.6667 0       5464.533   \n",
       "3  66.66667 100.00000 33.33333 0       100      133.3333 0       3522.367   \n",
       "  percap_consum\n",
       "1  469.2167    \n",
       "2 1092.9067    \n",
       "3  440.2958    "
      ]
     },
     "metadata": {},
     "output_type": "display_data"
    }
   ],
   "source": [
    "consum_residence_df  = merge(residence_df, percap_consum, by='Household_id')\n",
    "consum_residence_df  = as_tibble(consum_residence_df)\n",
    "consum_residence_df %>% head(3)"
   ]
  },
  {
   "cell_type": "markdown",
   "metadata": {},
   "source": [
    "#### 3.1.1.2 Create poverty dummy"
   ]
  },
  {
   "cell_type": "code",
   "execution_count": 30,
   "metadata": {},
   "outputs": [
    {
     "data": {
      "text/html": [
       "<table>\n",
       "<caption>A tibble: 6089 × 40</caption>\n",
       "<thead>\n",
       "\t<tr><th scope=col>Household_id</th><th scope=col>ls</th><th scope=col>rel</th><th scope=col>reh</th><th scope=col>edo</th><th scope=col>mpio</th><th scope=col>loc</th><th scope=col>control</th><th scope=col>estrato</th><th scope=col>edad</th><th scope=col>⋯</th><th scope=col>cs22b_2</th><th scope=col>cs22c_2</th><th scope=col>cs22d_2</th><th scope=col>cs22e_2</th><th scope=col>cs22f_2</th><th scope=col>cs22g_2</th><th scope=col>cs22h_2</th><th scope=col>consumption</th><th scope=col>percap_consum</th><th scope=col>poverty_dummy</th></tr>\n",
       "\t<tr><th scope=col>&lt;dbl&gt;</th><th scope=col>&lt;dbl&gt;</th><th scope=col>&lt;dbl&gt;</th><th scope=col>&lt;dbl&gt;</th><th scope=col>&lt;dbl&gt;</th><th scope=col>&lt;dbl&gt;</th><th scope=col>&lt;dbl&gt;</th><th scope=col>&lt;dbl&gt;</th><th scope=col>&lt;dbl&gt;</th><th scope=col>&lt;dbl&gt;</th><th scope=col>⋯</th><th scope=col>&lt;dbl&gt;</th><th scope=col>&lt;dbl&gt;</th><th scope=col>&lt;dbl&gt;</th><th scope=col>&lt;dbl&gt;</th><th scope=col>&lt;dbl&gt;</th><th scope=col>&lt;dbl&gt;</th><th scope=col>&lt;dbl&gt;</th><th scope=col>&lt;dbl&gt;</th><th scope=col>&lt;dbl&gt;</th><th scope=col>&lt;dbl&gt;</th></tr>\n",
       "</thead>\n",
       "<tbody>\n",
       "\t<tr><td> 1000</td><td>2</td><td>20</td><td>1</td><td>20</td><td>107</td><td>61</td><td>207409</td><td>3</td><td>35</td><td>⋯</td><td>200.00000</td><td> 66.66667</td><td>  0.00000</td><td>  0.00000</td><td>  0.00000</td><td>  0.00000</td><td>   0</td><td>1876.8667</td><td>469.21667</td><td>1</td></tr>\n",
       "\t<tr><td> 3000</td><td>2</td><td>20</td><td>1</td><td>20</td><td>107</td><td>61</td><td>207409</td><td>3</td><td>35</td><td>⋯</td><td> 66.66667</td><td>100.00000</td><td> 33.33333</td><td>  0.00000</td><td>100.00000</td><td>133.33333</td><td>   0</td><td>3522.3667</td><td>440.29583</td><td>1</td></tr>\n",
       "\t<tr><td> 4000</td><td>2</td><td>20</td><td>4</td><td>20</td><td>107</td><td>61</td><td>207409</td><td>3</td><td>30</td><td>⋯</td><td>490.33333</td><td>139.33333</td><td>139.33333</td><td>334.33333</td><td>  0.00000</td><td>158.33333</td><td>   0</td><td>   0.0000</td><td>  0.00000</td><td>1</td></tr>\n",
       "\t<tr><td> 6000</td><td>2</td><td>20</td><td>4</td><td>20</td><td>107</td><td>61</td><td>207409</td><td>3</td><td>62</td><td>⋯</td><td>  0.00000</td><td>  0.00000</td><td>  0.00000</td><td>  0.00000</td><td>  0.00000</td><td>  0.00000</td><td>   0</td><td>1778.7000</td><td>197.63333</td><td>1</td></tr>\n",
       "\t<tr><td>10000</td><td>1</td><td>20</td><td>1</td><td>20</td><td>107</td><td>61</td><td>207559</td><td>3</td><td>36</td><td>⋯</td><td>  0.00000</td><td> 33.33333</td><td> 50.00000</td><td>  0.00000</td><td>  0.00000</td><td>  0.00000</td><td>   0</td><td> 263.9333</td><td> 52.78667</td><td>1</td></tr>\n",
       "\t<tr><td>11000</td><td>2</td><td>20</td><td>1</td><td>20</td><td>107</td><td>61</td><td>207559</td><td>3</td><td>24</td><td>⋯</td><td>100.00000</td><td>166.66667</td><td>166.66667</td><td>  0.00000</td><td>  0.00000</td><td>  0.00000</td><td>   0</td><td>1603.8333</td><td>400.95833</td><td>1</td></tr>\n",
       "\t<tr><td>14000</td><td>1</td><td>20</td><td>1</td><td>20</td><td>107</td><td>61</td><td>207559</td><td>3</td><td>67</td><td>⋯</td><td>  0.00000</td><td>  4.00000</td><td>  0.00000</td><td>  0.00000</td><td>  0.00000</td><td>116.66667</td><td>   0</td><td> 783.1667</td><td>261.05556</td><td>1</td></tr>\n",
       "\t<tr><td>16000</td><td>1</td><td>20</td><td>1</td><td>20</td><td>107</td><td>61</td><td>207559</td><td>3</td><td>42</td><td>⋯</td><td>  0.00000</td><td>  0.00000</td><td>  0.00000</td><td>  0.00000</td><td>  0.00000</td><td>  0.00000</td><td>   0</td><td>1031.6333</td><td>257.90833</td><td>1</td></tr>\n",
       "\t<tr><td>17000</td><td>3</td><td>20</td><td>1</td><td>20</td><td>107</td><td>61</td><td>207559</td><td>3</td><td>33</td><td>⋯</td><td>500.00000</td><td>  0.00000</td><td>  0.00000</td><td>  0.00000</td><td>  0.00000</td><td>333.33333</td><td>1000</td><td>   0.0000</td><td>  0.00000</td><td>1</td></tr>\n",
       "\t<tr><td>18000</td><td>1</td><td>20</td><td>1</td><td>20</td><td>107</td><td>61</td><td>207559</td><td>3</td><td>26</td><td>⋯</td><td> 16.66667</td><td> 10.00000</td><td> 10.00000</td><td>  0.00000</td><td> 11.66667</td><td>  0.00000</td><td>   0</td><td>1073.6000</td><td>268.40000</td><td>1</td></tr>\n",
       "\t<tr><td>20000</td><td>1</td><td>20</td><td>4</td><td>20</td><td>107</td><td>61</td><td>207095</td><td>3</td><td>69</td><td>⋯</td><td>  0.00000</td><td>  0.00000</td><td>  0.00000</td><td>  0.00000</td><td>  0.00000</td><td>  0.00000</td><td>   0</td><td> 191.8000</td><td>191.80000</td><td>1</td></tr>\n",
       "\t<tr><td>22000</td><td>1</td><td>20</td><td>1</td><td>20</td><td>107</td><td>61</td><td>207095</td><td>3</td><td>64</td><td>⋯</td><td>       NA</td><td>       NA</td><td>       NA</td><td>       NA</td><td> 66.66667</td><td>666.66667</td><td>   0</td><td>   0.0000</td><td>  0.00000</td><td>1</td></tr>\n",
       "\t<tr><td>24000</td><td>1</td><td>20</td><td>4</td><td>20</td><td>107</td><td>61</td><td>207095</td><td>3</td><td>65</td><td>⋯</td><td> 20.00000</td><td>  0.00000</td><td>  0.00000</td><td>  0.00000</td><td> 16.66667</td><td>  0.00000</td><td>  NA</td><td>   0.0000</td><td>  0.00000</td><td>1</td></tr>\n",
       "\t<tr><td>25000</td><td>2</td><td>20</td><td>4</td><td>20</td><td>107</td><td>61</td><td>207095</td><td>3</td><td>43</td><td>⋯</td><td>  0.00000</td><td>  0.00000</td><td> 40.00000</td><td>  0.00000</td><td>  0.00000</td><td>116.66667</td><td>   0</td><td>1487.9667</td><td>114.45897</td><td>1</td></tr>\n",
       "\t<tr><td>26000</td><td>2</td><td>20</td><td>4</td><td>20</td><td>107</td><td>61</td><td>207095</td><td>3</td><td>46</td><td>⋯</td><td>  0.00000</td><td>       NA</td><td>  0.00000</td><td>  0.00000</td><td>  0.00000</td><td>  0.00000</td><td>   0</td><td>   0.0000</td><td>  0.00000</td><td>1</td></tr>\n",
       "\t<tr><td>27000</td><td>2</td><td>20</td><td>4</td><td>20</td><td>107</td><td>61</td><td>207095</td><td>3</td><td>38</td><td>⋯</td><td>166.66667</td><td> 83.33333</td><td>  0.00000</td><td>  0.00000</td><td>  0.00000</td><td>  0.00000</td><td>   0</td><td>1782.7000</td><td>356.54000</td><td>1</td></tr>\n",
       "\t<tr><td>28000</td><td>2</td><td>20</td><td>1</td><td>20</td><td>107</td><td>61</td><td>207095</td><td>3</td><td>40</td><td>⋯</td><td> 50.00000</td><td>  0.00000</td><td> 33.33333</td><td>  0.00000</td><td> 23.33333</td><td>  0.00000</td><td>   0</td><td>2750.4667</td><td>392.92381</td><td>1</td></tr>\n",
       "\t<tr><td>29000</td><td>2</td><td>20</td><td>4</td><td>20</td><td>107</td><td>61</td><td>207095</td><td>3</td><td>67</td><td>⋯</td><td>  0.00000</td><td>  0.00000</td><td>  0.00000</td><td>  0.00000</td><td>  0.00000</td><td> 66.66667</td><td>   0</td><td>1642.2667</td><td>328.45333</td><td>1</td></tr>\n",
       "\t<tr><td>30000</td><td>1</td><td>20</td><td>1</td><td>20</td><td>107</td><td>61</td><td>207095</td><td>3</td><td>47</td><td>⋯</td><td>  0.00000</td><td>  0.00000</td><td>  0.00000</td><td>  0.00000</td><td>  0.00000</td><td> 66.66667</td><td>   0</td><td>1542.0667</td><td>192.75833</td><td>1</td></tr>\n",
       "\t<tr><td>33000</td><td>2</td><td>20</td><td>1</td><td>20</td><td>107</td><td>61</td><td>207095</td><td>3</td><td>24</td><td>⋯</td><td>  0.00000</td><td>       NA</td><td> 66.66667</td><td>  0.00000</td><td>  0.00000</td><td>133.33333</td><td>   0</td><td>   0.0000</td><td>  0.00000</td><td>1</td></tr>\n",
       "\t<tr><td>34000</td><td>1</td><td>20</td><td>1</td><td>20</td><td>107</td><td>61</td><td>207095</td><td>3</td><td>56</td><td>⋯</td><td> 40.00000</td><td>       NA</td><td> 25.00000</td><td>  0.00000</td><td>  0.00000</td><td> 40.00000</td><td>   0</td><td>   0.0000</td><td>  0.00000</td><td>1</td></tr>\n",
       "\t<tr><td>35000</td><td>2</td><td>20</td><td>1</td><td>20</td><td>107</td><td>61</td><td>207095</td><td>3</td><td>44</td><td>⋯</td><td> 66.66667</td><td>166.66667</td><td>  0.00000</td><td>  0.00000</td><td>  0.00000</td><td>800.00000</td><td>   0</td><td>   0.0000</td><td>  0.00000</td><td>1</td></tr>\n",
       "\t<tr><td>37000</td><td>4</td><td>20</td><td>1</td><td>20</td><td>107</td><td>61</td><td>207103</td><td>3</td><td>25</td><td>⋯</td><td>100.00000</td><td>133.33333</td><td>  0.00000</td><td>  0.00000</td><td>  0.00000</td><td> 66.66667</td><td> 200</td><td>2065.6000</td><td>187.78182</td><td>1</td></tr>\n",
       "\t<tr><td>38000</td><td>1</td><td>20</td><td>1</td><td>20</td><td>107</td><td>61</td><td>207103</td><td>3</td><td>70</td><td>⋯</td><td>  0.00000</td><td>  0.00000</td><td>  0.00000</td><td>  0.00000</td><td>  0.00000</td><td> 16.66667</td><td>   0</td><td> 449.1667</td><td>224.58333</td><td>1</td></tr>\n",
       "\t<tr><td>39000</td><td>2</td><td>20</td><td>1</td><td>20</td><td>107</td><td>61</td><td>207103</td><td>3</td><td>36</td><td>⋯</td><td>120.00000</td><td>       NA</td><td>  0.00000</td><td>  0.00000</td><td>  0.00000</td><td>333.33333</td><td>   0</td><td>   0.0000</td><td>  0.00000</td><td>1</td></tr>\n",
       "\t<tr><td>42000</td><td>1</td><td>20</td><td>1</td><td>20</td><td>107</td><td>61</td><td>207103</td><td>3</td><td>42</td><td>⋯</td><td>  0.00000</td><td>  0.00000</td><td>  0.00000</td><td>  0.00000</td><td>  0.00000</td><td>  0.00000</td><td>   0</td><td> 344.1000</td><td> 49.15714</td><td>1</td></tr>\n",
       "\t<tr><td>43000</td><td>1</td><td>20</td><td>4</td><td>20</td><td>107</td><td>61</td><td>207103</td><td>3</td><td>35</td><td>⋯</td><td> 83.33333</td><td>105.00000</td><td>  0.00000</td><td>123.33333</td><td>  0.00000</td><td> 21.66667</td><td>   0</td><td>1100.3333</td><td>275.08333</td><td>1</td></tr>\n",
       "\t<tr><td>44000</td><td>2</td><td>20</td><td>1</td><td>20</td><td>107</td><td>61</td><td>207103</td><td>3</td><td>31</td><td>⋯</td><td>  0.00000</td><td>  0.00000</td><td>  0.00000</td><td>  0.00000</td><td>  0.00000</td><td>  0.00000</td><td>   0</td><td>1173.3000</td><td>195.55000</td><td>1</td></tr>\n",
       "\t<tr><td>46000</td><td>1</td><td>20</td><td>1</td><td>20</td><td>107</td><td>61</td><td>207339</td><td>3</td><td>28</td><td>⋯</td><td>  0.00000</td><td>100.00000</td><td>200.00000</td><td>100.00000</td><td> 46.66667</td><td>500.00000</td><td>   0</td><td>2786.4667</td><td>398.06667</td><td>1</td></tr>\n",
       "\t<tr><td>47000</td><td>1</td><td>20</td><td>1</td><td>20</td><td>107</td><td>61</td><td>207339</td><td>3</td><td>31</td><td>⋯</td><td>  0.00000</td><td> 53.33333</td><td> 53.33333</td><td> 66.66667</td><td>  0.00000</td><td>100.00000</td><td>   0</td><td>1275.0333</td><td>255.00667</td><td>1</td></tr>\n",
       "\t<tr><td>⋮</td><td>⋮</td><td>⋮</td><td>⋮</td><td>⋮</td><td>⋮</td><td>⋮</td><td>⋮</td><td>⋮</td><td>⋮</td><td>⋱</td><td>⋮</td><td>⋮</td><td>⋮</td><td>⋮</td><td>⋮</td><td>⋮</td><td>⋮</td><td>⋮</td><td>⋮</td><td>⋮</td></tr>\n",
       "\t<tr><td>10201000</td><td>2</td><td>20</td><td>1</td><td>15</td><td>106</td><td>61</td><td>158203</td><td>1</td><td>42</td><td>⋯</td><td>  0.00000</td><td>  0.00000</td><td>  0.0000</td><td>       NA</td><td>  4.333333</td><td>200.00000</td><td>  0.0000</td><td>   0.0000</td><td>  0.00000</td><td>1</td></tr>\n",
       "\t<tr><td>10202000</td><td>2</td><td>20</td><td>4</td><td>15</td><td>110</td><td>51</td><td>     8</td><td>3</td><td>52</td><td>⋯</td><td>  0.00000</td><td>  0.00000</td><td>  0.0000</td><td>  0.00000</td><td>  0.000000</td><td>266.66667</td><td>  0.0000</td><td>1477.6667</td><td>492.55556</td><td>1</td></tr>\n",
       "\t<tr><td>10203000</td><td>2</td><td>20</td><td>1</td><td>15</td><td>110</td><td>51</td><td>     8</td><td>3</td><td>24</td><td>⋯</td><td>  0.00000</td><td>  0.00000</td><td>100.0000</td><td>  0.00000</td><td>  0.000000</td><td>133.33333</td><td>  0.0000</td><td> 451.7333</td><td>112.93333</td><td>1</td></tr>\n",
       "\t<tr><td>10237000</td><td>1</td><td>20</td><td>1</td><td>15</td><td> 33</td><td>61</td><td>157417</td><td>1</td><td>21</td><td>⋯</td><td> 50.00000</td><td> 50.00000</td><td>  0.0000</td><td>  0.00000</td><td>  0.000000</td><td>100.00000</td><td>  0.0000</td><td> 881.0000</td><td>293.66667</td><td>1</td></tr>\n",
       "\t<tr><td>10242000</td><td>1</td><td>20</td><td>4</td><td>15</td><td> 33</td><td>61</td><td>157282</td><td>1</td><td>58</td><td>⋯</td><td>112.00000</td><td>       NA</td><td>      NA</td><td>       NA</td><td>100.000000</td><td>  0.00000</td><td>  0.0000</td><td>   0.0000</td><td>  0.00000</td><td>1</td></tr>\n",
       "\t<tr><td>10246000</td><td>3</td><td>20</td><td>1</td><td>15</td><td> 33</td><td>61</td><td>157153</td><td>1</td><td>27</td><td>⋯</td><td> 50.00000</td><td> 56.66667</td><td>  0.0000</td><td>  0.00000</td><td>  0.000000</td><td>266.66667</td><td>  0.0000</td><td> 830.3333</td><td>207.58333</td><td>1</td></tr>\n",
       "\t<tr><td>10251000</td><td>3</td><td>20</td><td>4</td><td>17</td><td>  7</td><td>61</td><td>177353</td><td>1</td><td>45</td><td>⋯</td><td>  0.00000</td><td>  0.00000</td><td>  0.0000</td><td>  0.00000</td><td>  0.000000</td><td>  0.00000</td><td>  0.0000</td><td>1005.1000</td><td>335.03333</td><td>1</td></tr>\n",
       "\t<tr><td>10252000</td><td>2</td><td>20</td><td>1</td><td>17</td><td>  7</td><td>61</td><td>177059</td><td>1</td><td>38</td><td>⋯</td><td>  0.00000</td><td>  0.00000</td><td>  0.0000</td><td>  0.00000</td><td>  0.000000</td><td>  0.00000</td><td>  0.0000</td><td> 785.4000</td><td>261.80000</td><td>1</td></tr>\n",
       "\t<tr><td>10254000</td><td>1</td><td>20</td><td>4</td><td>17</td><td>  7</td><td>61</td><td>177059</td><td>1</td><td>34</td><td>⋯</td><td>  0.00000</td><td>200.00000</td><td>166.6667</td><td> 83.33333</td><td>  0.000000</td><td>183.33333</td><td>  0.0000</td><td>1224.2333</td><td>408.07778</td><td>1</td></tr>\n",
       "\t<tr><td>10259000</td><td>1</td><td>20</td><td>1</td><td>17</td><td>  2</td><td>45</td><td>    26</td><td>4</td><td>24</td><td>⋯</td><td>133.33333</td><td>100.00000</td><td>  0.0000</td><td>100.00000</td><td>  0.000000</td><td>  0.00000</td><td>  0.0000</td><td>1444.5333</td><td>481.51111</td><td>1</td></tr>\n",
       "\t<tr><td>10260000</td><td>1</td><td>20</td><td>1</td><td>17</td><td>  4</td><td>60</td><td>    24</td><td>4</td><td>17</td><td>⋯</td><td>  0.00000</td><td>  0.00000</td><td> 40.0000</td><td>120.00000</td><td>  0.000000</td><td> 13.33333</td><td>  0.0000</td><td> 431.1333</td><td>215.56667</td><td>1</td></tr>\n",
       "\t<tr><td>10261000</td><td>2</td><td>20</td><td>4</td><td>17</td><td>  4</td><td>60</td><td>    24</td><td>4</td><td>42</td><td>⋯</td><td>  0.00000</td><td>  0.00000</td><td>  0.0000</td><td>  0.00000</td><td>  0.000000</td><td>  0.00000</td><td>  0.0000</td><td> 400.0000</td><td> 66.66667</td><td>1</td></tr>\n",
       "\t<tr><td>10262000</td><td>2</td><td>20</td><td>4</td><td>17</td><td> 24</td><td>50</td><td>    10</td><td>2</td><td>26</td><td>⋯</td><td>  0.00000</td><td>  0.00000</td><td>  0.0000</td><td>  0.00000</td><td>  0.000000</td><td>       NA</td><td>  0.0000</td><td>   0.0000</td><td>  0.00000</td><td>1</td></tr>\n",
       "\t<tr><td>10264000</td><td>2</td><td>20</td><td>1</td><td>17</td><td> 24</td><td>50</td><td>    10</td><td>2</td><td>24</td><td>⋯</td><td>  0.00000</td><td>  0.00000</td><td>  0.0000</td><td>  0.00000</td><td>  0.000000</td><td>  0.00000</td><td>  0.0000</td><td> 984.2000</td><td>328.06667</td><td>1</td></tr>\n",
       "\t<tr><td>10266000</td><td>1</td><td>20</td><td>4</td><td>17</td><td>  4</td><td>60</td><td>    24</td><td>4</td><td>24</td><td>⋯</td><td>  0.00000</td><td>  0.00000</td><td>  0.0000</td><td>  0.00000</td><td>  0.000000</td><td>  0.00000</td><td>  0.0000</td><td> 342.0000</td><td> 85.50000</td><td>1</td></tr>\n",
       "\t<tr><td>10302000</td><td>2</td><td>20</td><td>1</td><td>21</td><td> 30</td><td>61</td><td>    30</td><td>4</td><td>24</td><td>⋯</td><td> 50.00000</td><td> 50.00000</td><td>  0.0000</td><td>  0.00000</td><td> 10.000000</td><td>  0.00000</td><td>  0.0000</td><td> 432.5333</td><td>144.17778</td><td>1</td></tr>\n",
       "\t<tr><td>10307000</td><td>2</td><td>24</td><td>4</td><td>21</td><td>114</td><td>61</td><td>217325</td><td>1</td><td>19</td><td>⋯</td><td>  0.00000</td><td>  0.00000</td><td>  0.0000</td><td>  0.00000</td><td>  0.000000</td><td>  0.00000</td><td>  0.0000</td><td> 385.0000</td><td>192.50000</td><td>1</td></tr>\n",
       "\t<tr><td>10308000</td><td>2</td><td>20</td><td>1</td><td>21</td><td>114</td><td>61</td><td>217388</td><td>1</td><td>25</td><td>⋯</td><td>  0.00000</td><td>  0.00000</td><td> 20.0000</td><td>  0.00000</td><td>  0.000000</td><td>  0.00000</td><td>  0.0000</td><td>1486.9000</td><td>371.72500</td><td>1</td></tr>\n",
       "\t<tr><td>10376000</td><td>2</td><td>20</td><td>1</td><td>14</td><td> 98</td><td>61</td><td>147549</td><td>1</td><td>25</td><td>⋯</td><td>  0.00000</td><td>  0.00000</td><td>200.0000</td><td> 66.66667</td><td>  0.000000</td><td>  0.00000</td><td>  0.0000</td><td> 874.2667</td><td>145.71111</td><td>1</td></tr>\n",
       "\t<tr><td>10601000</td><td>1</td><td>20</td><td>1</td><td>26</td><td> 30</td><td>61</td><td>267041</td><td>1</td><td>32</td><td>⋯</td><td> 33.33333</td><td> 83.33333</td><td>  0.0000</td><td>133.33333</td><td>  0.000000</td><td>  0.00000</td><td>106.6667</td><td>1243.6000</td><td>310.90000</td><td>1</td></tr>\n",
       "\t<tr><td>10603000</td><td>2</td><td>20</td><td>1</td><td>26</td><td> 17</td><td>16</td><td>    75</td><td>4</td><td>21</td><td>⋯</td><td>  0.00000</td><td>  0.00000</td><td>  0.0000</td><td>160.00000</td><td>  0.000000</td><td>  0.00000</td><td>  0.0000</td><td> 970.1000</td><td>242.52500</td><td>1</td></tr>\n",
       "\t<tr><td>10604000</td><td>2</td><td>20</td><td>4</td><td>26</td><td> 17</td><td>16</td><td>    75</td><td>4</td><td>21</td><td>⋯</td><td> 86.66667</td><td> 56.66667</td><td>100.0000</td><td>  0.00000</td><td>  0.000000</td><td>  0.00000</td><td>  0.0000</td><td>1001.7667</td><td>200.35333</td><td>1</td></tr>\n",
       "\t<tr><td>10605000</td><td>2</td><td>20</td><td>2</td><td>26</td><td> 30</td><td>13</td><td>    21</td><td>3</td><td>25</td><td>⋯</td><td>  0.00000</td><td>123.33333</td><td>  0.0000</td><td>176.00000</td><td>  0.000000</td><td>233.33333</td><td>  0.0000</td><td>1743.7000</td><td>435.92500</td><td>1</td></tr>\n",
       "\t<tr><td>10701000</td><td>1</td><td>20</td><td>1</td><td>10</td><td> 12</td><td>13</td><td>    11</td><td>4</td><td>47</td><td>⋯</td><td> 66.66667</td><td>  0.00000</td><td>  0.0000</td><td>  0.00000</td><td>  0.000000</td><td>  0.00000</td><td>  0.0000</td><td>1119.6000</td><td>279.90000</td><td>1</td></tr>\n",
       "\t<tr><td>10702000</td><td>2</td><td>20</td><td>3</td><td>10</td><td> 12</td><td>13</td><td>    11</td><td>4</td><td>19</td><td>⋯</td><td> 53.33333</td><td>  0.00000</td><td>  0.0000</td><td>  0.00000</td><td>  0.000000</td><td>  0.00000</td><td>  0.0000</td><td>1436.3333</td><td>359.08333</td><td>1</td></tr>\n",
       "\t<tr><td>10751000</td><td>2</td><td>20</td><td>1</td><td>19</td><td> 26</td><td>61</td><td>197128</td><td>1</td><td>36</td><td>⋯</td><td>166.66667</td><td>  0.00000</td><td>  0.0000</td><td>  0.00000</td><td>  0.000000</td><td>  0.00000</td><td>  0.0000</td><td> 810.6000</td><td>162.12000</td><td>1</td></tr>\n",
       "\t<tr><td>10754000</td><td>2</td><td>20</td><td>1</td><td>19</td><td>  4</td><td>42</td><td>    15</td><td>4</td><td>31</td><td>⋯</td><td>  0.00000</td><td>  0.00000</td><td>  0.0000</td><td>125.00000</td><td>  0.000000</td><td>  0.00000</td><td>333.3333</td><td>1239.4333</td><td>309.85833</td><td>1</td></tr>\n",
       "\t<tr><td>10756000</td><td>1</td><td>20</td><td>1</td><td>19</td><td>  4</td><td>42</td><td>    15</td><td>4</td><td>28</td><td>⋯</td><td>  0.00000</td><td>  0.00000</td><td>  0.0000</td><td>  0.00000</td><td>  0.000000</td><td>  0.00000</td><td>  0.0000</td><td>1072.4000</td><td>214.48000</td><td>1</td></tr>\n",
       "\t<tr><td>10757000</td><td>1</td><td>20</td><td>4</td><td>19</td><td> 33</td><td>10</td><td>    73</td><td>4</td><td>66</td><td>⋯</td><td>  0.00000</td><td>  0.00000</td><td>  0.0000</td><td>  0.00000</td><td>  0.000000</td><td>  0.00000</td><td>  0.0000</td><td> 276.4000</td><td>138.20000</td><td>1</td></tr>\n",
       "\t<tr><td>10759000</td><td>1</td><td>20</td><td>1</td><td>19</td><td> 33</td><td>10</td><td>    73</td><td>4</td><td>22</td><td>⋯</td><td> 66.66667</td><td>  0.00000</td><td>  0.0000</td><td>  0.00000</td><td>  0.000000</td><td>  0.00000</td><td>  0.0000</td><td> 395.1333</td><td>197.56667</td><td>1</td></tr>\n",
       "</tbody>\n",
       "</table>\n"
      ],
      "text/latex": [
       "A tibble: 6089 × 40\n",
       "\\begin{tabular}{lllllllllllllllllllll}\n",
       " Household\\_id & ls & rel & reh & edo & mpio & loc & control & estrato & edad & ⋯ & cs22b\\_2 & cs22c\\_2 & cs22d\\_2 & cs22e\\_2 & cs22f\\_2 & cs22g\\_2 & cs22h\\_2 & consumption & percap\\_consum & poverty\\_dummy\\\\\n",
       " <dbl> & <dbl> & <dbl> & <dbl> & <dbl> & <dbl> & <dbl> & <dbl> & <dbl> & <dbl> & ⋯ & <dbl> & <dbl> & <dbl> & <dbl> & <dbl> & <dbl> & <dbl> & <dbl> & <dbl> & <dbl>\\\\\n",
       "\\hline\n",
       "\t  1000 & 2 & 20 & 1 & 20 & 107 & 61 & 207409 & 3 & 35 & ⋯ & 200.00000 &  66.66667 &   0.00000 &   0.00000 &   0.00000 &   0.00000 &    0 & 1876.8667 & 469.21667 & 1\\\\\n",
       "\t  3000 & 2 & 20 & 1 & 20 & 107 & 61 & 207409 & 3 & 35 & ⋯ &  66.66667 & 100.00000 &  33.33333 &   0.00000 & 100.00000 & 133.33333 &    0 & 3522.3667 & 440.29583 & 1\\\\\n",
       "\t  4000 & 2 & 20 & 4 & 20 & 107 & 61 & 207409 & 3 & 30 & ⋯ & 490.33333 & 139.33333 & 139.33333 & 334.33333 &   0.00000 & 158.33333 &    0 &    0.0000 &   0.00000 & 1\\\\\n",
       "\t  6000 & 2 & 20 & 4 & 20 & 107 & 61 & 207409 & 3 & 62 & ⋯ &   0.00000 &   0.00000 &   0.00000 &   0.00000 &   0.00000 &   0.00000 &    0 & 1778.7000 & 197.63333 & 1\\\\\n",
       "\t 10000 & 1 & 20 & 1 & 20 & 107 & 61 & 207559 & 3 & 36 & ⋯ &   0.00000 &  33.33333 &  50.00000 &   0.00000 &   0.00000 &   0.00000 &    0 &  263.9333 &  52.78667 & 1\\\\\n",
       "\t 11000 & 2 & 20 & 1 & 20 & 107 & 61 & 207559 & 3 & 24 & ⋯ & 100.00000 & 166.66667 & 166.66667 &   0.00000 &   0.00000 &   0.00000 &    0 & 1603.8333 & 400.95833 & 1\\\\\n",
       "\t 14000 & 1 & 20 & 1 & 20 & 107 & 61 & 207559 & 3 & 67 & ⋯ &   0.00000 &   4.00000 &   0.00000 &   0.00000 &   0.00000 & 116.66667 &    0 &  783.1667 & 261.05556 & 1\\\\\n",
       "\t 16000 & 1 & 20 & 1 & 20 & 107 & 61 & 207559 & 3 & 42 & ⋯ &   0.00000 &   0.00000 &   0.00000 &   0.00000 &   0.00000 &   0.00000 &    0 & 1031.6333 & 257.90833 & 1\\\\\n",
       "\t 17000 & 3 & 20 & 1 & 20 & 107 & 61 & 207559 & 3 & 33 & ⋯ & 500.00000 &   0.00000 &   0.00000 &   0.00000 &   0.00000 & 333.33333 & 1000 &    0.0000 &   0.00000 & 1\\\\\n",
       "\t 18000 & 1 & 20 & 1 & 20 & 107 & 61 & 207559 & 3 & 26 & ⋯ &  16.66667 &  10.00000 &  10.00000 &   0.00000 &  11.66667 &   0.00000 &    0 & 1073.6000 & 268.40000 & 1\\\\\n",
       "\t 20000 & 1 & 20 & 4 & 20 & 107 & 61 & 207095 & 3 & 69 & ⋯ &   0.00000 &   0.00000 &   0.00000 &   0.00000 &   0.00000 &   0.00000 &    0 &  191.8000 & 191.80000 & 1\\\\\n",
       "\t 22000 & 1 & 20 & 1 & 20 & 107 & 61 & 207095 & 3 & 64 & ⋯ &        NA &        NA &        NA &        NA &  66.66667 & 666.66667 &    0 &    0.0000 &   0.00000 & 1\\\\\n",
       "\t 24000 & 1 & 20 & 4 & 20 & 107 & 61 & 207095 & 3 & 65 & ⋯ &  20.00000 &   0.00000 &   0.00000 &   0.00000 &  16.66667 &   0.00000 &   NA &    0.0000 &   0.00000 & 1\\\\\n",
       "\t 25000 & 2 & 20 & 4 & 20 & 107 & 61 & 207095 & 3 & 43 & ⋯ &   0.00000 &   0.00000 &  40.00000 &   0.00000 &   0.00000 & 116.66667 &    0 & 1487.9667 & 114.45897 & 1\\\\\n",
       "\t 26000 & 2 & 20 & 4 & 20 & 107 & 61 & 207095 & 3 & 46 & ⋯ &   0.00000 &        NA &   0.00000 &   0.00000 &   0.00000 &   0.00000 &    0 &    0.0000 &   0.00000 & 1\\\\\n",
       "\t 27000 & 2 & 20 & 4 & 20 & 107 & 61 & 207095 & 3 & 38 & ⋯ & 166.66667 &  83.33333 &   0.00000 &   0.00000 &   0.00000 &   0.00000 &    0 & 1782.7000 & 356.54000 & 1\\\\\n",
       "\t 28000 & 2 & 20 & 1 & 20 & 107 & 61 & 207095 & 3 & 40 & ⋯ &  50.00000 &   0.00000 &  33.33333 &   0.00000 &  23.33333 &   0.00000 &    0 & 2750.4667 & 392.92381 & 1\\\\\n",
       "\t 29000 & 2 & 20 & 4 & 20 & 107 & 61 & 207095 & 3 & 67 & ⋯ &   0.00000 &   0.00000 &   0.00000 &   0.00000 &   0.00000 &  66.66667 &    0 & 1642.2667 & 328.45333 & 1\\\\\n",
       "\t 30000 & 1 & 20 & 1 & 20 & 107 & 61 & 207095 & 3 & 47 & ⋯ &   0.00000 &   0.00000 &   0.00000 &   0.00000 &   0.00000 &  66.66667 &    0 & 1542.0667 & 192.75833 & 1\\\\\n",
       "\t 33000 & 2 & 20 & 1 & 20 & 107 & 61 & 207095 & 3 & 24 & ⋯ &   0.00000 &        NA &  66.66667 &   0.00000 &   0.00000 & 133.33333 &    0 &    0.0000 &   0.00000 & 1\\\\\n",
       "\t 34000 & 1 & 20 & 1 & 20 & 107 & 61 & 207095 & 3 & 56 & ⋯ &  40.00000 &        NA &  25.00000 &   0.00000 &   0.00000 &  40.00000 &    0 &    0.0000 &   0.00000 & 1\\\\\n",
       "\t 35000 & 2 & 20 & 1 & 20 & 107 & 61 & 207095 & 3 & 44 & ⋯ &  66.66667 & 166.66667 &   0.00000 &   0.00000 &   0.00000 & 800.00000 &    0 &    0.0000 &   0.00000 & 1\\\\\n",
       "\t 37000 & 4 & 20 & 1 & 20 & 107 & 61 & 207103 & 3 & 25 & ⋯ & 100.00000 & 133.33333 &   0.00000 &   0.00000 &   0.00000 &  66.66667 &  200 & 2065.6000 & 187.78182 & 1\\\\\n",
       "\t 38000 & 1 & 20 & 1 & 20 & 107 & 61 & 207103 & 3 & 70 & ⋯ &   0.00000 &   0.00000 &   0.00000 &   0.00000 &   0.00000 &  16.66667 &    0 &  449.1667 & 224.58333 & 1\\\\\n",
       "\t 39000 & 2 & 20 & 1 & 20 & 107 & 61 & 207103 & 3 & 36 & ⋯ & 120.00000 &        NA &   0.00000 &   0.00000 &   0.00000 & 333.33333 &    0 &    0.0000 &   0.00000 & 1\\\\\n",
       "\t 42000 & 1 & 20 & 1 & 20 & 107 & 61 & 207103 & 3 & 42 & ⋯ &   0.00000 &   0.00000 &   0.00000 &   0.00000 &   0.00000 &   0.00000 &    0 &  344.1000 &  49.15714 & 1\\\\\n",
       "\t 43000 & 1 & 20 & 4 & 20 & 107 & 61 & 207103 & 3 & 35 & ⋯ &  83.33333 & 105.00000 &   0.00000 & 123.33333 &   0.00000 &  21.66667 &    0 & 1100.3333 & 275.08333 & 1\\\\\n",
       "\t 44000 & 2 & 20 & 1 & 20 & 107 & 61 & 207103 & 3 & 31 & ⋯ &   0.00000 &   0.00000 &   0.00000 &   0.00000 &   0.00000 &   0.00000 &    0 & 1173.3000 & 195.55000 & 1\\\\\n",
       "\t 46000 & 1 & 20 & 1 & 20 & 107 & 61 & 207339 & 3 & 28 & ⋯ &   0.00000 & 100.00000 & 200.00000 & 100.00000 &  46.66667 & 500.00000 &    0 & 2786.4667 & 398.06667 & 1\\\\\n",
       "\t 47000 & 1 & 20 & 1 & 20 & 107 & 61 & 207339 & 3 & 31 & ⋯ &   0.00000 &  53.33333 &  53.33333 &  66.66667 &   0.00000 & 100.00000 &    0 & 1275.0333 & 255.00667 & 1\\\\\n",
       "\t ⋮ & ⋮ & ⋮ & ⋮ & ⋮ & ⋮ & ⋮ & ⋮ & ⋮ & ⋮ & ⋱ & ⋮ & ⋮ & ⋮ & ⋮ & ⋮ & ⋮ & ⋮ & ⋮ & ⋮ & ⋮\\\\\n",
       "\t 10201000 & 2 & 20 & 1 & 15 & 106 & 61 & 158203 & 1 & 42 & ⋯ &   0.00000 &   0.00000 &   0.0000 &        NA &   4.333333 & 200.00000 &   0.0000 &    0.0000 &   0.00000 & 1\\\\\n",
       "\t 10202000 & 2 & 20 & 4 & 15 & 110 & 51 &      8 & 3 & 52 & ⋯ &   0.00000 &   0.00000 &   0.0000 &   0.00000 &   0.000000 & 266.66667 &   0.0000 & 1477.6667 & 492.55556 & 1\\\\\n",
       "\t 10203000 & 2 & 20 & 1 & 15 & 110 & 51 &      8 & 3 & 24 & ⋯ &   0.00000 &   0.00000 & 100.0000 &   0.00000 &   0.000000 & 133.33333 &   0.0000 &  451.7333 & 112.93333 & 1\\\\\n",
       "\t 10237000 & 1 & 20 & 1 & 15 &  33 & 61 & 157417 & 1 & 21 & ⋯ &  50.00000 &  50.00000 &   0.0000 &   0.00000 &   0.000000 & 100.00000 &   0.0000 &  881.0000 & 293.66667 & 1\\\\\n",
       "\t 10242000 & 1 & 20 & 4 & 15 &  33 & 61 & 157282 & 1 & 58 & ⋯ & 112.00000 &        NA &       NA &        NA & 100.000000 &   0.00000 &   0.0000 &    0.0000 &   0.00000 & 1\\\\\n",
       "\t 10246000 & 3 & 20 & 1 & 15 &  33 & 61 & 157153 & 1 & 27 & ⋯ &  50.00000 &  56.66667 &   0.0000 &   0.00000 &   0.000000 & 266.66667 &   0.0000 &  830.3333 & 207.58333 & 1\\\\\n",
       "\t 10251000 & 3 & 20 & 4 & 17 &   7 & 61 & 177353 & 1 & 45 & ⋯ &   0.00000 &   0.00000 &   0.0000 &   0.00000 &   0.000000 &   0.00000 &   0.0000 & 1005.1000 & 335.03333 & 1\\\\\n",
       "\t 10252000 & 2 & 20 & 1 & 17 &   7 & 61 & 177059 & 1 & 38 & ⋯ &   0.00000 &   0.00000 &   0.0000 &   0.00000 &   0.000000 &   0.00000 &   0.0000 &  785.4000 & 261.80000 & 1\\\\\n",
       "\t 10254000 & 1 & 20 & 4 & 17 &   7 & 61 & 177059 & 1 & 34 & ⋯ &   0.00000 & 200.00000 & 166.6667 &  83.33333 &   0.000000 & 183.33333 &   0.0000 & 1224.2333 & 408.07778 & 1\\\\\n",
       "\t 10259000 & 1 & 20 & 1 & 17 &   2 & 45 &     26 & 4 & 24 & ⋯ & 133.33333 & 100.00000 &   0.0000 & 100.00000 &   0.000000 &   0.00000 &   0.0000 & 1444.5333 & 481.51111 & 1\\\\\n",
       "\t 10260000 & 1 & 20 & 1 & 17 &   4 & 60 &     24 & 4 & 17 & ⋯ &   0.00000 &   0.00000 &  40.0000 & 120.00000 &   0.000000 &  13.33333 &   0.0000 &  431.1333 & 215.56667 & 1\\\\\n",
       "\t 10261000 & 2 & 20 & 4 & 17 &   4 & 60 &     24 & 4 & 42 & ⋯ &   0.00000 &   0.00000 &   0.0000 &   0.00000 &   0.000000 &   0.00000 &   0.0000 &  400.0000 &  66.66667 & 1\\\\\n",
       "\t 10262000 & 2 & 20 & 4 & 17 &  24 & 50 &     10 & 2 & 26 & ⋯ &   0.00000 &   0.00000 &   0.0000 &   0.00000 &   0.000000 &        NA &   0.0000 &    0.0000 &   0.00000 & 1\\\\\n",
       "\t 10264000 & 2 & 20 & 1 & 17 &  24 & 50 &     10 & 2 & 24 & ⋯ &   0.00000 &   0.00000 &   0.0000 &   0.00000 &   0.000000 &   0.00000 &   0.0000 &  984.2000 & 328.06667 & 1\\\\\n",
       "\t 10266000 & 1 & 20 & 4 & 17 &   4 & 60 &     24 & 4 & 24 & ⋯ &   0.00000 &   0.00000 &   0.0000 &   0.00000 &   0.000000 &   0.00000 &   0.0000 &  342.0000 &  85.50000 & 1\\\\\n",
       "\t 10302000 & 2 & 20 & 1 & 21 &  30 & 61 &     30 & 4 & 24 & ⋯ &  50.00000 &  50.00000 &   0.0000 &   0.00000 &  10.000000 &   0.00000 &   0.0000 &  432.5333 & 144.17778 & 1\\\\\n",
       "\t 10307000 & 2 & 24 & 4 & 21 & 114 & 61 & 217325 & 1 & 19 & ⋯ &   0.00000 &   0.00000 &   0.0000 &   0.00000 &   0.000000 &   0.00000 &   0.0000 &  385.0000 & 192.50000 & 1\\\\\n",
       "\t 10308000 & 2 & 20 & 1 & 21 & 114 & 61 & 217388 & 1 & 25 & ⋯ &   0.00000 &   0.00000 &  20.0000 &   0.00000 &   0.000000 &   0.00000 &   0.0000 & 1486.9000 & 371.72500 & 1\\\\\n",
       "\t 10376000 & 2 & 20 & 1 & 14 &  98 & 61 & 147549 & 1 & 25 & ⋯ &   0.00000 &   0.00000 & 200.0000 &  66.66667 &   0.000000 &   0.00000 &   0.0000 &  874.2667 & 145.71111 & 1\\\\\n",
       "\t 10601000 & 1 & 20 & 1 & 26 &  30 & 61 & 267041 & 1 & 32 & ⋯ &  33.33333 &  83.33333 &   0.0000 & 133.33333 &   0.000000 &   0.00000 & 106.6667 & 1243.6000 & 310.90000 & 1\\\\\n",
       "\t 10603000 & 2 & 20 & 1 & 26 &  17 & 16 &     75 & 4 & 21 & ⋯ &   0.00000 &   0.00000 &   0.0000 & 160.00000 &   0.000000 &   0.00000 &   0.0000 &  970.1000 & 242.52500 & 1\\\\\n",
       "\t 10604000 & 2 & 20 & 4 & 26 &  17 & 16 &     75 & 4 & 21 & ⋯ &  86.66667 &  56.66667 & 100.0000 &   0.00000 &   0.000000 &   0.00000 &   0.0000 & 1001.7667 & 200.35333 & 1\\\\\n",
       "\t 10605000 & 2 & 20 & 2 & 26 &  30 & 13 &     21 & 3 & 25 & ⋯ &   0.00000 & 123.33333 &   0.0000 & 176.00000 &   0.000000 & 233.33333 &   0.0000 & 1743.7000 & 435.92500 & 1\\\\\n",
       "\t 10701000 & 1 & 20 & 1 & 10 &  12 & 13 &     11 & 4 & 47 & ⋯ &  66.66667 &   0.00000 &   0.0000 &   0.00000 &   0.000000 &   0.00000 &   0.0000 & 1119.6000 & 279.90000 & 1\\\\\n",
       "\t 10702000 & 2 & 20 & 3 & 10 &  12 & 13 &     11 & 4 & 19 & ⋯ &  53.33333 &   0.00000 &   0.0000 &   0.00000 &   0.000000 &   0.00000 &   0.0000 & 1436.3333 & 359.08333 & 1\\\\\n",
       "\t 10751000 & 2 & 20 & 1 & 19 &  26 & 61 & 197128 & 1 & 36 & ⋯ & 166.66667 &   0.00000 &   0.0000 &   0.00000 &   0.000000 &   0.00000 &   0.0000 &  810.6000 & 162.12000 & 1\\\\\n",
       "\t 10754000 & 2 & 20 & 1 & 19 &   4 & 42 &     15 & 4 & 31 & ⋯ &   0.00000 &   0.00000 &   0.0000 & 125.00000 &   0.000000 &   0.00000 & 333.3333 & 1239.4333 & 309.85833 & 1\\\\\n",
       "\t 10756000 & 1 & 20 & 1 & 19 &   4 & 42 &     15 & 4 & 28 & ⋯ &   0.00000 &   0.00000 &   0.0000 &   0.00000 &   0.000000 &   0.00000 &   0.0000 & 1072.4000 & 214.48000 & 1\\\\\n",
       "\t 10757000 & 1 & 20 & 4 & 19 &  33 & 10 &     73 & 4 & 66 & ⋯ &   0.00000 &   0.00000 &   0.0000 &   0.00000 &   0.000000 &   0.00000 &   0.0000 &  276.4000 & 138.20000 & 1\\\\\n",
       "\t 10759000 & 1 & 20 & 1 & 19 &  33 & 10 &     73 & 4 & 22 & ⋯ &  66.66667 &   0.00000 &   0.0000 &   0.00000 &   0.000000 &   0.00000 &   0.0000 &  395.1333 & 197.56667 & 1\\\\\n",
       "\\end{tabular}\n"
      ],
      "text/markdown": [
       "\n",
       "A tibble: 6089 × 40\n",
       "\n",
       "| Household_id &lt;dbl&gt; | ls &lt;dbl&gt; | rel &lt;dbl&gt; | reh &lt;dbl&gt; | edo &lt;dbl&gt; | mpio &lt;dbl&gt; | loc &lt;dbl&gt; | control &lt;dbl&gt; | estrato &lt;dbl&gt; | edad &lt;dbl&gt; | ⋯ ⋯ | cs22b_2 &lt;dbl&gt; | cs22c_2 &lt;dbl&gt; | cs22d_2 &lt;dbl&gt; | cs22e_2 &lt;dbl&gt; | cs22f_2 &lt;dbl&gt; | cs22g_2 &lt;dbl&gt; | cs22h_2 &lt;dbl&gt; | consumption &lt;dbl&gt; | percap_consum &lt;dbl&gt; | poverty_dummy &lt;dbl&gt; |\n",
       "|---|---|---|---|---|---|---|---|---|---|---|---|---|---|---|---|---|---|---|---|---|\n",
       "|  1000 | 2 | 20 | 1 | 20 | 107 | 61 | 207409 | 3 | 35 | ⋯ | 200.00000 |  66.66667 |   0.00000 |   0.00000 |   0.00000 |   0.00000 |    0 | 1876.8667 | 469.21667 | 1 |\n",
       "|  3000 | 2 | 20 | 1 | 20 | 107 | 61 | 207409 | 3 | 35 | ⋯ |  66.66667 | 100.00000 |  33.33333 |   0.00000 | 100.00000 | 133.33333 |    0 | 3522.3667 | 440.29583 | 1 |\n",
       "|  4000 | 2 | 20 | 4 | 20 | 107 | 61 | 207409 | 3 | 30 | ⋯ | 490.33333 | 139.33333 | 139.33333 | 334.33333 |   0.00000 | 158.33333 |    0 |    0.0000 |   0.00000 | 1 |\n",
       "|  6000 | 2 | 20 | 4 | 20 | 107 | 61 | 207409 | 3 | 62 | ⋯ |   0.00000 |   0.00000 |   0.00000 |   0.00000 |   0.00000 |   0.00000 |    0 | 1778.7000 | 197.63333 | 1 |\n",
       "| 10000 | 1 | 20 | 1 | 20 | 107 | 61 | 207559 | 3 | 36 | ⋯ |   0.00000 |  33.33333 |  50.00000 |   0.00000 |   0.00000 |   0.00000 |    0 |  263.9333 |  52.78667 | 1 |\n",
       "| 11000 | 2 | 20 | 1 | 20 | 107 | 61 | 207559 | 3 | 24 | ⋯ | 100.00000 | 166.66667 | 166.66667 |   0.00000 |   0.00000 |   0.00000 |    0 | 1603.8333 | 400.95833 | 1 |\n",
       "| 14000 | 1 | 20 | 1 | 20 | 107 | 61 | 207559 | 3 | 67 | ⋯ |   0.00000 |   4.00000 |   0.00000 |   0.00000 |   0.00000 | 116.66667 |    0 |  783.1667 | 261.05556 | 1 |\n",
       "| 16000 | 1 | 20 | 1 | 20 | 107 | 61 | 207559 | 3 | 42 | ⋯ |   0.00000 |   0.00000 |   0.00000 |   0.00000 |   0.00000 |   0.00000 |    0 | 1031.6333 | 257.90833 | 1 |\n",
       "| 17000 | 3 | 20 | 1 | 20 | 107 | 61 | 207559 | 3 | 33 | ⋯ | 500.00000 |   0.00000 |   0.00000 |   0.00000 |   0.00000 | 333.33333 | 1000 |    0.0000 |   0.00000 | 1 |\n",
       "| 18000 | 1 | 20 | 1 | 20 | 107 | 61 | 207559 | 3 | 26 | ⋯ |  16.66667 |  10.00000 |  10.00000 |   0.00000 |  11.66667 |   0.00000 |    0 | 1073.6000 | 268.40000 | 1 |\n",
       "| 20000 | 1 | 20 | 4 | 20 | 107 | 61 | 207095 | 3 | 69 | ⋯ |   0.00000 |   0.00000 |   0.00000 |   0.00000 |   0.00000 |   0.00000 |    0 |  191.8000 | 191.80000 | 1 |\n",
       "| 22000 | 1 | 20 | 1 | 20 | 107 | 61 | 207095 | 3 | 64 | ⋯ |        NA |        NA |        NA |        NA |  66.66667 | 666.66667 |    0 |    0.0000 |   0.00000 | 1 |\n",
       "| 24000 | 1 | 20 | 4 | 20 | 107 | 61 | 207095 | 3 | 65 | ⋯ |  20.00000 |   0.00000 |   0.00000 |   0.00000 |  16.66667 |   0.00000 |   NA |    0.0000 |   0.00000 | 1 |\n",
       "| 25000 | 2 | 20 | 4 | 20 | 107 | 61 | 207095 | 3 | 43 | ⋯ |   0.00000 |   0.00000 |  40.00000 |   0.00000 |   0.00000 | 116.66667 |    0 | 1487.9667 | 114.45897 | 1 |\n",
       "| 26000 | 2 | 20 | 4 | 20 | 107 | 61 | 207095 | 3 | 46 | ⋯ |   0.00000 |        NA |   0.00000 |   0.00000 |   0.00000 |   0.00000 |    0 |    0.0000 |   0.00000 | 1 |\n",
       "| 27000 | 2 | 20 | 4 | 20 | 107 | 61 | 207095 | 3 | 38 | ⋯ | 166.66667 |  83.33333 |   0.00000 |   0.00000 |   0.00000 |   0.00000 |    0 | 1782.7000 | 356.54000 | 1 |\n",
       "| 28000 | 2 | 20 | 1 | 20 | 107 | 61 | 207095 | 3 | 40 | ⋯ |  50.00000 |   0.00000 |  33.33333 |   0.00000 |  23.33333 |   0.00000 |    0 | 2750.4667 | 392.92381 | 1 |\n",
       "| 29000 | 2 | 20 | 4 | 20 | 107 | 61 | 207095 | 3 | 67 | ⋯ |   0.00000 |   0.00000 |   0.00000 |   0.00000 |   0.00000 |  66.66667 |    0 | 1642.2667 | 328.45333 | 1 |\n",
       "| 30000 | 1 | 20 | 1 | 20 | 107 | 61 | 207095 | 3 | 47 | ⋯ |   0.00000 |   0.00000 |   0.00000 |   0.00000 |   0.00000 |  66.66667 |    0 | 1542.0667 | 192.75833 | 1 |\n",
       "| 33000 | 2 | 20 | 1 | 20 | 107 | 61 | 207095 | 3 | 24 | ⋯ |   0.00000 |        NA |  66.66667 |   0.00000 |   0.00000 | 133.33333 |    0 |    0.0000 |   0.00000 | 1 |\n",
       "| 34000 | 1 | 20 | 1 | 20 | 107 | 61 | 207095 | 3 | 56 | ⋯ |  40.00000 |        NA |  25.00000 |   0.00000 |   0.00000 |  40.00000 |    0 |    0.0000 |   0.00000 | 1 |\n",
       "| 35000 | 2 | 20 | 1 | 20 | 107 | 61 | 207095 | 3 | 44 | ⋯ |  66.66667 | 166.66667 |   0.00000 |   0.00000 |   0.00000 | 800.00000 |    0 |    0.0000 |   0.00000 | 1 |\n",
       "| 37000 | 4 | 20 | 1 | 20 | 107 | 61 | 207103 | 3 | 25 | ⋯ | 100.00000 | 133.33333 |   0.00000 |   0.00000 |   0.00000 |  66.66667 |  200 | 2065.6000 | 187.78182 | 1 |\n",
       "| 38000 | 1 | 20 | 1 | 20 | 107 | 61 | 207103 | 3 | 70 | ⋯ |   0.00000 |   0.00000 |   0.00000 |   0.00000 |   0.00000 |  16.66667 |    0 |  449.1667 | 224.58333 | 1 |\n",
       "| 39000 | 2 | 20 | 1 | 20 | 107 | 61 | 207103 | 3 | 36 | ⋯ | 120.00000 |        NA |   0.00000 |   0.00000 |   0.00000 | 333.33333 |    0 |    0.0000 |   0.00000 | 1 |\n",
       "| 42000 | 1 | 20 | 1 | 20 | 107 | 61 | 207103 | 3 | 42 | ⋯ |   0.00000 |   0.00000 |   0.00000 |   0.00000 |   0.00000 |   0.00000 |    0 |  344.1000 |  49.15714 | 1 |\n",
       "| 43000 | 1 | 20 | 4 | 20 | 107 | 61 | 207103 | 3 | 35 | ⋯ |  83.33333 | 105.00000 |   0.00000 | 123.33333 |   0.00000 |  21.66667 |    0 | 1100.3333 | 275.08333 | 1 |\n",
       "| 44000 | 2 | 20 | 1 | 20 | 107 | 61 | 207103 | 3 | 31 | ⋯ |   0.00000 |   0.00000 |   0.00000 |   0.00000 |   0.00000 |   0.00000 |    0 | 1173.3000 | 195.55000 | 1 |\n",
       "| 46000 | 1 | 20 | 1 | 20 | 107 | 61 | 207339 | 3 | 28 | ⋯ |   0.00000 | 100.00000 | 200.00000 | 100.00000 |  46.66667 | 500.00000 |    0 | 2786.4667 | 398.06667 | 1 |\n",
       "| 47000 | 1 | 20 | 1 | 20 | 107 | 61 | 207339 | 3 | 31 | ⋯ |   0.00000 |  53.33333 |  53.33333 |  66.66667 |   0.00000 | 100.00000 |    0 | 1275.0333 | 255.00667 | 1 |\n",
       "| ⋮ | ⋮ | ⋮ | ⋮ | ⋮ | ⋮ | ⋮ | ⋮ | ⋮ | ⋮ | ⋱ | ⋮ | ⋮ | ⋮ | ⋮ | ⋮ | ⋮ | ⋮ | ⋮ | ⋮ | ⋮ |\n",
       "| 10201000 | 2 | 20 | 1 | 15 | 106 | 61 | 158203 | 1 | 42 | ⋯ |   0.00000 |   0.00000 |   0.0000 |        NA |   4.333333 | 200.00000 |   0.0000 |    0.0000 |   0.00000 | 1 |\n",
       "| 10202000 | 2 | 20 | 4 | 15 | 110 | 51 |      8 | 3 | 52 | ⋯ |   0.00000 |   0.00000 |   0.0000 |   0.00000 |   0.000000 | 266.66667 |   0.0000 | 1477.6667 | 492.55556 | 1 |\n",
       "| 10203000 | 2 | 20 | 1 | 15 | 110 | 51 |      8 | 3 | 24 | ⋯ |   0.00000 |   0.00000 | 100.0000 |   0.00000 |   0.000000 | 133.33333 |   0.0000 |  451.7333 | 112.93333 | 1 |\n",
       "| 10237000 | 1 | 20 | 1 | 15 |  33 | 61 | 157417 | 1 | 21 | ⋯ |  50.00000 |  50.00000 |   0.0000 |   0.00000 |   0.000000 | 100.00000 |   0.0000 |  881.0000 | 293.66667 | 1 |\n",
       "| 10242000 | 1 | 20 | 4 | 15 |  33 | 61 | 157282 | 1 | 58 | ⋯ | 112.00000 |        NA |       NA |        NA | 100.000000 |   0.00000 |   0.0000 |    0.0000 |   0.00000 | 1 |\n",
       "| 10246000 | 3 | 20 | 1 | 15 |  33 | 61 | 157153 | 1 | 27 | ⋯ |  50.00000 |  56.66667 |   0.0000 |   0.00000 |   0.000000 | 266.66667 |   0.0000 |  830.3333 | 207.58333 | 1 |\n",
       "| 10251000 | 3 | 20 | 4 | 17 |   7 | 61 | 177353 | 1 | 45 | ⋯ |   0.00000 |   0.00000 |   0.0000 |   0.00000 |   0.000000 |   0.00000 |   0.0000 | 1005.1000 | 335.03333 | 1 |\n",
       "| 10252000 | 2 | 20 | 1 | 17 |   7 | 61 | 177059 | 1 | 38 | ⋯ |   0.00000 |   0.00000 |   0.0000 |   0.00000 |   0.000000 |   0.00000 |   0.0000 |  785.4000 | 261.80000 | 1 |\n",
       "| 10254000 | 1 | 20 | 4 | 17 |   7 | 61 | 177059 | 1 | 34 | ⋯ |   0.00000 | 200.00000 | 166.6667 |  83.33333 |   0.000000 | 183.33333 |   0.0000 | 1224.2333 | 408.07778 | 1 |\n",
       "| 10259000 | 1 | 20 | 1 | 17 |   2 | 45 |     26 | 4 | 24 | ⋯ | 133.33333 | 100.00000 |   0.0000 | 100.00000 |   0.000000 |   0.00000 |   0.0000 | 1444.5333 | 481.51111 | 1 |\n",
       "| 10260000 | 1 | 20 | 1 | 17 |   4 | 60 |     24 | 4 | 17 | ⋯ |   0.00000 |   0.00000 |  40.0000 | 120.00000 |   0.000000 |  13.33333 |   0.0000 |  431.1333 | 215.56667 | 1 |\n",
       "| 10261000 | 2 | 20 | 4 | 17 |   4 | 60 |     24 | 4 | 42 | ⋯ |   0.00000 |   0.00000 |   0.0000 |   0.00000 |   0.000000 |   0.00000 |   0.0000 |  400.0000 |  66.66667 | 1 |\n",
       "| 10262000 | 2 | 20 | 4 | 17 |  24 | 50 |     10 | 2 | 26 | ⋯ |   0.00000 |   0.00000 |   0.0000 |   0.00000 |   0.000000 |        NA |   0.0000 |    0.0000 |   0.00000 | 1 |\n",
       "| 10264000 | 2 | 20 | 1 | 17 |  24 | 50 |     10 | 2 | 24 | ⋯ |   0.00000 |   0.00000 |   0.0000 |   0.00000 |   0.000000 |   0.00000 |   0.0000 |  984.2000 | 328.06667 | 1 |\n",
       "| 10266000 | 1 | 20 | 4 | 17 |   4 | 60 |     24 | 4 | 24 | ⋯ |   0.00000 |   0.00000 |   0.0000 |   0.00000 |   0.000000 |   0.00000 |   0.0000 |  342.0000 |  85.50000 | 1 |\n",
       "| 10302000 | 2 | 20 | 1 | 21 |  30 | 61 |     30 | 4 | 24 | ⋯ |  50.00000 |  50.00000 |   0.0000 |   0.00000 |  10.000000 |   0.00000 |   0.0000 |  432.5333 | 144.17778 | 1 |\n",
       "| 10307000 | 2 | 24 | 4 | 21 | 114 | 61 | 217325 | 1 | 19 | ⋯ |   0.00000 |   0.00000 |   0.0000 |   0.00000 |   0.000000 |   0.00000 |   0.0000 |  385.0000 | 192.50000 | 1 |\n",
       "| 10308000 | 2 | 20 | 1 | 21 | 114 | 61 | 217388 | 1 | 25 | ⋯ |   0.00000 |   0.00000 |  20.0000 |   0.00000 |   0.000000 |   0.00000 |   0.0000 | 1486.9000 | 371.72500 | 1 |\n",
       "| 10376000 | 2 | 20 | 1 | 14 |  98 | 61 | 147549 | 1 | 25 | ⋯ |   0.00000 |   0.00000 | 200.0000 |  66.66667 |   0.000000 |   0.00000 |   0.0000 |  874.2667 | 145.71111 | 1 |\n",
       "| 10601000 | 1 | 20 | 1 | 26 |  30 | 61 | 267041 | 1 | 32 | ⋯ |  33.33333 |  83.33333 |   0.0000 | 133.33333 |   0.000000 |   0.00000 | 106.6667 | 1243.6000 | 310.90000 | 1 |\n",
       "| 10603000 | 2 | 20 | 1 | 26 |  17 | 16 |     75 | 4 | 21 | ⋯ |   0.00000 |   0.00000 |   0.0000 | 160.00000 |   0.000000 |   0.00000 |   0.0000 |  970.1000 | 242.52500 | 1 |\n",
       "| 10604000 | 2 | 20 | 4 | 26 |  17 | 16 |     75 | 4 | 21 | ⋯ |  86.66667 |  56.66667 | 100.0000 |   0.00000 |   0.000000 |   0.00000 |   0.0000 | 1001.7667 | 200.35333 | 1 |\n",
       "| 10605000 | 2 | 20 | 2 | 26 |  30 | 13 |     21 | 3 | 25 | ⋯ |   0.00000 | 123.33333 |   0.0000 | 176.00000 |   0.000000 | 233.33333 |   0.0000 | 1743.7000 | 435.92500 | 1 |\n",
       "| 10701000 | 1 | 20 | 1 | 10 |  12 | 13 |     11 | 4 | 47 | ⋯ |  66.66667 |   0.00000 |   0.0000 |   0.00000 |   0.000000 |   0.00000 |   0.0000 | 1119.6000 | 279.90000 | 1 |\n",
       "| 10702000 | 2 | 20 | 3 | 10 |  12 | 13 |     11 | 4 | 19 | ⋯ |  53.33333 |   0.00000 |   0.0000 |   0.00000 |   0.000000 |   0.00000 |   0.0000 | 1436.3333 | 359.08333 | 1 |\n",
       "| 10751000 | 2 | 20 | 1 | 19 |  26 | 61 | 197128 | 1 | 36 | ⋯ | 166.66667 |   0.00000 |   0.0000 |   0.00000 |   0.000000 |   0.00000 |   0.0000 |  810.6000 | 162.12000 | 1 |\n",
       "| 10754000 | 2 | 20 | 1 | 19 |   4 | 42 |     15 | 4 | 31 | ⋯ |   0.00000 |   0.00000 |   0.0000 | 125.00000 |   0.000000 |   0.00000 | 333.3333 | 1239.4333 | 309.85833 | 1 |\n",
       "| 10756000 | 1 | 20 | 1 | 19 |   4 | 42 |     15 | 4 | 28 | ⋯ |   0.00000 |   0.00000 |   0.0000 |   0.00000 |   0.000000 |   0.00000 |   0.0000 | 1072.4000 | 214.48000 | 1 |\n",
       "| 10757000 | 1 | 20 | 4 | 19 |  33 | 10 |     73 | 4 | 66 | ⋯ |   0.00000 |   0.00000 |   0.0000 |   0.00000 |   0.000000 |   0.00000 |   0.0000 |  276.4000 | 138.20000 | 1 |\n",
       "| 10759000 | 1 | 20 | 1 | 19 |  33 | 10 |     73 | 4 | 22 | ⋯ |  66.66667 |   0.00000 |   0.0000 |   0.00000 |   0.000000 |   0.00000 |   0.0000 |  395.1333 | 197.56667 | 1 |\n",
       "\n"
      ],
      "text/plain": [
       "     Household_id ls rel reh edo mpio loc control estrato edad ⋯ cs22b_2  \n",
       "1     1000        2  20  1   20  107  61  207409  3       35   ⋯ 200.00000\n",
       "2     3000        2  20  1   20  107  61  207409  3       35   ⋯  66.66667\n",
       "3     4000        2  20  4   20  107  61  207409  3       30   ⋯ 490.33333\n",
       "4     6000        2  20  4   20  107  61  207409  3       62   ⋯   0.00000\n",
       "5    10000        1  20  1   20  107  61  207559  3       36   ⋯   0.00000\n",
       "6    11000        2  20  1   20  107  61  207559  3       24   ⋯ 100.00000\n",
       "7    14000        1  20  1   20  107  61  207559  3       67   ⋯   0.00000\n",
       "8    16000        1  20  1   20  107  61  207559  3       42   ⋯   0.00000\n",
       "9    17000        3  20  1   20  107  61  207559  3       33   ⋯ 500.00000\n",
       "10   18000        1  20  1   20  107  61  207559  3       26   ⋯  16.66667\n",
       "11   20000        1  20  4   20  107  61  207095  3       69   ⋯   0.00000\n",
       "12   22000        1  20  1   20  107  61  207095  3       64   ⋯        NA\n",
       "13   24000        1  20  4   20  107  61  207095  3       65   ⋯  20.00000\n",
       "14   25000        2  20  4   20  107  61  207095  3       43   ⋯   0.00000\n",
       "15   26000        2  20  4   20  107  61  207095  3       46   ⋯   0.00000\n",
       "16   27000        2  20  4   20  107  61  207095  3       38   ⋯ 166.66667\n",
       "17   28000        2  20  1   20  107  61  207095  3       40   ⋯  50.00000\n",
       "18   29000        2  20  4   20  107  61  207095  3       67   ⋯   0.00000\n",
       "19   30000        1  20  1   20  107  61  207095  3       47   ⋯   0.00000\n",
       "20   33000        2  20  1   20  107  61  207095  3       24   ⋯   0.00000\n",
       "21   34000        1  20  1   20  107  61  207095  3       56   ⋯  40.00000\n",
       "22   35000        2  20  1   20  107  61  207095  3       44   ⋯  66.66667\n",
       "23   37000        4  20  1   20  107  61  207103  3       25   ⋯ 100.00000\n",
       "24   38000        1  20  1   20  107  61  207103  3       70   ⋯   0.00000\n",
       "25   39000        2  20  1   20  107  61  207103  3       36   ⋯ 120.00000\n",
       "26   42000        1  20  1   20  107  61  207103  3       42   ⋯   0.00000\n",
       "27   43000        1  20  4   20  107  61  207103  3       35   ⋯  83.33333\n",
       "28   44000        2  20  1   20  107  61  207103  3       31   ⋯   0.00000\n",
       "29   46000        1  20  1   20  107  61  207339  3       28   ⋯   0.00000\n",
       "30   47000        1  20  1   20  107  61  207339  3       31   ⋯   0.00000\n",
       "⋮    ⋮            ⋮  ⋮   ⋮   ⋮   ⋮    ⋮   ⋮       ⋮       ⋮    ⋱ ⋮        \n",
       "6060 10201000     2  20  1   15  106  61  158203  1       42   ⋯   0.00000\n",
       "6061 10202000     2  20  4   15  110  51       8  3       52   ⋯   0.00000\n",
       "6062 10203000     2  20  1   15  110  51       8  3       24   ⋯   0.00000\n",
       "6063 10237000     1  20  1   15   33  61  157417  1       21   ⋯  50.00000\n",
       "6064 10242000     1  20  4   15   33  61  157282  1       58   ⋯ 112.00000\n",
       "6065 10246000     3  20  1   15   33  61  157153  1       27   ⋯  50.00000\n",
       "6066 10251000     3  20  4   17    7  61  177353  1       45   ⋯   0.00000\n",
       "6067 10252000     2  20  1   17    7  61  177059  1       38   ⋯   0.00000\n",
       "6068 10254000     1  20  4   17    7  61  177059  1       34   ⋯   0.00000\n",
       "6069 10259000     1  20  1   17    2  45      26  4       24   ⋯ 133.33333\n",
       "6070 10260000     1  20  1   17    4  60      24  4       17   ⋯   0.00000\n",
       "6071 10261000     2  20  4   17    4  60      24  4       42   ⋯   0.00000\n",
       "6072 10262000     2  20  4   17   24  50      10  2       26   ⋯   0.00000\n",
       "6073 10264000     2  20  1   17   24  50      10  2       24   ⋯   0.00000\n",
       "6074 10266000     1  20  4   17    4  60      24  4       24   ⋯   0.00000\n",
       "6075 10302000     2  20  1   21   30  61      30  4       24   ⋯  50.00000\n",
       "6076 10307000     2  24  4   21  114  61  217325  1       19   ⋯   0.00000\n",
       "6077 10308000     2  20  1   21  114  61  217388  1       25   ⋯   0.00000\n",
       "6078 10376000     2  20  1   14   98  61  147549  1       25   ⋯   0.00000\n",
       "6079 10601000     1  20  1   26   30  61  267041  1       32   ⋯  33.33333\n",
       "6080 10603000     2  20  1   26   17  16      75  4       21   ⋯   0.00000\n",
       "6081 10604000     2  20  4   26   17  16      75  4       21   ⋯  86.66667\n",
       "6082 10605000     2  20  2   26   30  13      21  3       25   ⋯   0.00000\n",
       "6083 10701000     1  20  1   10   12  13      11  4       47   ⋯  66.66667\n",
       "6084 10702000     2  20  3   10   12  13      11  4       19   ⋯  53.33333\n",
       "6085 10751000     2  20  1   19   26  61  197128  1       36   ⋯ 166.66667\n",
       "6086 10754000     2  20  1   19    4  42      15  4       31   ⋯   0.00000\n",
       "6087 10756000     1  20  1   19    4  42      15  4       28   ⋯   0.00000\n",
       "6088 10757000     1  20  4   19   33  10      73  4       66   ⋯   0.00000\n",
       "6089 10759000     1  20  1   19   33  10      73  4       22   ⋯  66.66667\n",
       "     cs22c_2   cs22d_2   cs22e_2   cs22f_2    cs22g_2   cs22h_2  consumption\n",
       "1     66.66667   0.00000   0.00000   0.00000    0.00000    0     1876.8667  \n",
       "2    100.00000  33.33333   0.00000 100.00000  133.33333    0     3522.3667  \n",
       "3    139.33333 139.33333 334.33333   0.00000  158.33333    0        0.0000  \n",
       "4      0.00000   0.00000   0.00000   0.00000    0.00000    0     1778.7000  \n",
       "5     33.33333  50.00000   0.00000   0.00000    0.00000    0      263.9333  \n",
       "6    166.66667 166.66667   0.00000   0.00000    0.00000    0     1603.8333  \n",
       "7      4.00000   0.00000   0.00000   0.00000  116.66667    0      783.1667  \n",
       "8      0.00000   0.00000   0.00000   0.00000    0.00000    0     1031.6333  \n",
       "9      0.00000   0.00000   0.00000   0.00000  333.33333 1000        0.0000  \n",
       "10    10.00000  10.00000   0.00000  11.66667    0.00000    0     1073.6000  \n",
       "11     0.00000   0.00000   0.00000   0.00000    0.00000    0      191.8000  \n",
       "12          NA        NA        NA  66.66667  666.66667    0        0.0000  \n",
       "13     0.00000   0.00000   0.00000  16.66667    0.00000   NA        0.0000  \n",
       "14     0.00000  40.00000   0.00000   0.00000  116.66667    0     1487.9667  \n",
       "15          NA   0.00000   0.00000   0.00000    0.00000    0        0.0000  \n",
       "16    83.33333   0.00000   0.00000   0.00000    0.00000    0     1782.7000  \n",
       "17     0.00000  33.33333   0.00000  23.33333    0.00000    0     2750.4667  \n",
       "18     0.00000   0.00000   0.00000   0.00000   66.66667    0     1642.2667  \n",
       "19     0.00000   0.00000   0.00000   0.00000   66.66667    0     1542.0667  \n",
       "20          NA  66.66667   0.00000   0.00000  133.33333    0        0.0000  \n",
       "21          NA  25.00000   0.00000   0.00000   40.00000    0        0.0000  \n",
       "22   166.66667   0.00000   0.00000   0.00000  800.00000    0        0.0000  \n",
       "23   133.33333   0.00000   0.00000   0.00000   66.66667  200     2065.6000  \n",
       "24     0.00000   0.00000   0.00000   0.00000   16.66667    0      449.1667  \n",
       "25          NA   0.00000   0.00000   0.00000  333.33333    0        0.0000  \n",
       "26     0.00000   0.00000   0.00000   0.00000    0.00000    0      344.1000  \n",
       "27   105.00000   0.00000 123.33333   0.00000   21.66667    0     1100.3333  \n",
       "28     0.00000   0.00000   0.00000   0.00000    0.00000    0     1173.3000  \n",
       "29   100.00000 200.00000 100.00000  46.66667  500.00000    0     2786.4667  \n",
       "30    53.33333  53.33333  66.66667   0.00000  100.00000    0     1275.0333  \n",
       "⋮    ⋮         ⋮         ⋮         ⋮          ⋮         ⋮        ⋮          \n",
       "6060   0.00000   0.0000         NA   4.333333 200.00000   0.0000    0.0000  \n",
       "6061   0.00000   0.0000    0.00000   0.000000 266.66667   0.0000 1477.6667  \n",
       "6062   0.00000 100.0000    0.00000   0.000000 133.33333   0.0000  451.7333  \n",
       "6063  50.00000   0.0000    0.00000   0.000000 100.00000   0.0000  881.0000  \n",
       "6064        NA       NA         NA 100.000000   0.00000   0.0000    0.0000  \n",
       "6065  56.66667   0.0000    0.00000   0.000000 266.66667   0.0000  830.3333  \n",
       "6066   0.00000   0.0000    0.00000   0.000000   0.00000   0.0000 1005.1000  \n",
       "6067   0.00000   0.0000    0.00000   0.000000   0.00000   0.0000  785.4000  \n",
       "6068 200.00000 166.6667   83.33333   0.000000 183.33333   0.0000 1224.2333  \n",
       "6069 100.00000   0.0000  100.00000   0.000000   0.00000   0.0000 1444.5333  \n",
       "6070   0.00000  40.0000  120.00000   0.000000  13.33333   0.0000  431.1333  \n",
       "6071   0.00000   0.0000    0.00000   0.000000   0.00000   0.0000  400.0000  \n",
       "6072   0.00000   0.0000    0.00000   0.000000        NA   0.0000    0.0000  \n",
       "6073   0.00000   0.0000    0.00000   0.000000   0.00000   0.0000  984.2000  \n",
       "6074   0.00000   0.0000    0.00000   0.000000   0.00000   0.0000  342.0000  \n",
       "6075  50.00000   0.0000    0.00000  10.000000   0.00000   0.0000  432.5333  \n",
       "6076   0.00000   0.0000    0.00000   0.000000   0.00000   0.0000  385.0000  \n",
       "6077   0.00000  20.0000    0.00000   0.000000   0.00000   0.0000 1486.9000  \n",
       "6078   0.00000 200.0000   66.66667   0.000000   0.00000   0.0000  874.2667  \n",
       "6079  83.33333   0.0000  133.33333   0.000000   0.00000 106.6667 1243.6000  \n",
       "6080   0.00000   0.0000  160.00000   0.000000   0.00000   0.0000  970.1000  \n",
       "6081  56.66667 100.0000    0.00000   0.000000   0.00000   0.0000 1001.7667  \n",
       "6082 123.33333   0.0000  176.00000   0.000000 233.33333   0.0000 1743.7000  \n",
       "6083   0.00000   0.0000    0.00000   0.000000   0.00000   0.0000 1119.6000  \n",
       "6084   0.00000   0.0000    0.00000   0.000000   0.00000   0.0000 1436.3333  \n",
       "6085   0.00000   0.0000    0.00000   0.000000   0.00000   0.0000  810.6000  \n",
       "6086   0.00000   0.0000  125.00000   0.000000   0.00000 333.3333 1239.4333  \n",
       "6087   0.00000   0.0000    0.00000   0.000000   0.00000   0.0000 1072.4000  \n",
       "6088   0.00000   0.0000    0.00000   0.000000   0.00000   0.0000  276.4000  \n",
       "6089   0.00000   0.0000    0.00000   0.000000   0.00000   0.0000  395.1333  \n",
       "     percap_consum poverty_dummy\n",
       "1    469.21667     1            \n",
       "2    440.29583     1            \n",
       "3      0.00000     1            \n",
       "4    197.63333     1            \n",
       "5     52.78667     1            \n",
       "6    400.95833     1            \n",
       "7    261.05556     1            \n",
       "8    257.90833     1            \n",
       "9      0.00000     1            \n",
       "10   268.40000     1            \n",
       "11   191.80000     1            \n",
       "12     0.00000     1            \n",
       "13     0.00000     1            \n",
       "14   114.45897     1            \n",
       "15     0.00000     1            \n",
       "16   356.54000     1            \n",
       "17   392.92381     1            \n",
       "18   328.45333     1            \n",
       "19   192.75833     1            \n",
       "20     0.00000     1            \n",
       "21     0.00000     1            \n",
       "22     0.00000     1            \n",
       "23   187.78182     1            \n",
       "24   224.58333     1            \n",
       "25     0.00000     1            \n",
       "26    49.15714     1            \n",
       "27   275.08333     1            \n",
       "28   195.55000     1            \n",
       "29   398.06667     1            \n",
       "30   255.00667     1            \n",
       "⋮    ⋮             ⋮            \n",
       "6060   0.00000     1            \n",
       "6061 492.55556     1            \n",
       "6062 112.93333     1            \n",
       "6063 293.66667     1            \n",
       "6064   0.00000     1            \n",
       "6065 207.58333     1            \n",
       "6066 335.03333     1            \n",
       "6067 261.80000     1            \n",
       "6068 408.07778     1            \n",
       "6069 481.51111     1            \n",
       "6070 215.56667     1            \n",
       "6071  66.66667     1            \n",
       "6072   0.00000     1            \n",
       "6073 328.06667     1            \n",
       "6074  85.50000     1            \n",
       "6075 144.17778     1            \n",
       "6076 192.50000     1            \n",
       "6077 371.72500     1            \n",
       "6078 145.71111     1            \n",
       "6079 310.90000     1            \n",
       "6080 242.52500     1            \n",
       "6081 200.35333     1            \n",
       "6082 435.92500     1            \n",
       "6083 279.90000     1            \n",
       "6084 359.08333     1            \n",
       "6085 162.12000     1            \n",
       "6086 309.85833     1            \n",
       "6087 214.48000     1            \n",
       "6088 138.20000     1            \n",
       "6089 197.56667     1            "
      ]
     },
     "metadata": {},
     "output_type": "display_data"
    }
   ],
   "source": [
    "consum_residence_df$poverty_dummy <- as.numeric(consum_residence_df$percap_consum<povertyline)\n",
    "consum_residence_df %>% filter(poverty_dummy ==1) #Show observations living in poverty"
   ]
  },
  {
   "cell_type": "markdown",
   "metadata": {},
   "source": [
    "## 3.2 Show poverty by area of residence"
   ]
  },
  {
   "cell_type": "code",
   "execution_count": 31,
   "metadata": {
    "scrolled": true
   },
   "outputs": [
    {
     "data": {
      "text/html": [
       "<table>\n",
       "<caption>A grouped_df: 4 × 2</caption>\n",
       "<thead>\n",
       "\t<tr><th scope=col>estrato</th><th scope=col>head_count</th></tr>\n",
       "\t<tr><th scope=col>&lt;dbl&gt;</th><th scope=col>&lt;dbl&gt;</th></tr>\n",
       "</thead>\n",
       "<tbody>\n",
       "\t<tr><td>1</td><td>65.62996</td></tr>\n",
       "\t<tr><td>2</td><td>64.56693</td></tr>\n",
       "\t<tr><td>3</td><td>81.27962</td></tr>\n",
       "\t<tr><td>4</td><td>86.33465</td></tr>\n",
       "</tbody>\n",
       "</table>\n"
      ],
      "text/latex": [
       "A grouped\\_df: 4 × 2\n",
       "\\begin{tabular}{ll}\n",
       " estrato & head\\_count\\\\\n",
       " <dbl> & <dbl>\\\\\n",
       "\\hline\n",
       "\t 1 & 65.62996\\\\\n",
       "\t 2 & 64.56693\\\\\n",
       "\t 3 & 81.27962\\\\\n",
       "\t 4 & 86.33465\\\\\n",
       "\\end{tabular}\n"
      ],
      "text/markdown": [
       "\n",
       "A grouped_df: 4 × 2\n",
       "\n",
       "| estrato &lt;dbl&gt; | head_count &lt;dbl&gt; |\n",
       "|---|---|\n",
       "| 1 | 65.62996 |\n",
       "| 2 | 64.56693 |\n",
       "| 3 | 81.27962 |\n",
       "| 4 | 86.33465 |\n",
       "\n"
      ],
      "text/plain": [
       "  estrato head_count\n",
       "1 1       65.62996  \n",
       "2 2       64.56693  \n",
       "3 3       81.27962  \n",
       "4 4       86.33465  "
      ]
     },
     "metadata": {},
     "output_type": "display_data"
    }
   ],
   "source": [
    "consum_residence_df %>% \n",
    "group_by(estrato) %>% #Groupby estrato\n",
    "count(poverty_dummy) %>% #Count poverty dummy by each estrato\n",
    "mutate(obs = sum(n))%>% \n",
    "mutate(head_count = (n/obs)*100)%>% \n",
    "filter(poverty_dummy==1) %>% \n",
    "select(estrato, head_count)"
   ]
  },
  {
   "cell_type": "markdown",
   "metadata": {},
   "source": [
    "# Q.4. \n",
    "\n",
    "Calculate the Gini coefficient overall and by urban and rural areas both using consumption measures. In both R and Stata there are programs which can be downloaded to calculate the Gini. Provide a graph of the Lorenz curve."
   ]
  },
  {
   "cell_type": "markdown",
   "metadata": {},
   "source": [
    "## 4.1 Calculate cumulative sum for population and consumption"
   ]
  },
  {
   "cell_type": "code",
   "execution_count": 32,
   "metadata": {
    "scrolled": true
   },
   "outputs": [
    {
     "data": {
      "text/html": [
       "<table>\n",
       "<caption>A data.frame: 3 × 35</caption>\n",
       "<thead>\n",
       "\t<tr><th></th><th scope=col>Household_id</th><th scope=col>family_members</th><th scope=col>cs02a_12</th><th scope=col>cs02a_22</th><th scope=col>cs02a_32</th><th scope=col>cs02a_42</th><th scope=col>cs02a_52</th><th scope=col>cs02a_62</th><th scope=col>cs02a_72</th><th scope=col>cs02a_82</th><th scope=col>⋯</th><th scope=col>cs22g_2</th><th scope=col>cs22h_2</th><th scope=col>consumption</th><th scope=col>percap_consum</th><th scope=col>consum_cumulative</th><th scope=col>consum_total</th><th scope=col>pop_total</th><th scope=col>pop_cumulative</th><th scope=col>consum_pct</th><th scope=col>pop_pct</th></tr>\n",
       "\t<tr><th></th><th scope=col>&lt;dbl&gt;</th><th scope=col>&lt;int&gt;</th><th scope=col>&lt;dbl&gt;</th><th scope=col>&lt;dbl&gt;</th><th scope=col>&lt;dbl&gt;</th><th scope=col>&lt;dbl&gt;</th><th scope=col>&lt;dbl&gt;</th><th scope=col>&lt;dbl&gt;</th><th scope=col>&lt;dbl&gt;</th><th scope=col>&lt;dbl&gt;</th><th scope=col>⋯</th><th scope=col>&lt;dbl&gt;</th><th scope=col>&lt;dbl&gt;</th><th scope=col>&lt;dbl&gt;</th><th scope=col>&lt;dbl&gt;</th><th scope=col>&lt;dbl&gt;</th><th scope=col>&lt;dbl&gt;</th><th scope=col>&lt;int&gt;</th><th scope=col>&lt;int&gt;</th><th scope=col>&lt;dbl&gt;</th><th scope=col>&lt;dbl&gt;</th></tr>\n",
       "</thead>\n",
       "<tbody>\n",
       "\t<tr><th scope=row>1</th><td> 4000</td><td>5</td><td>21.5</td><td>129</td><td>21.5</td><td>25.8</td><td> 0.0</td><td>43</td><td>301</td><td>107.5</td><td>⋯</td><td>158.3333</td><td>   0</td><td>0</td><td>0</td><td>0</td><td>3927553</td><td>34063</td><td> 5</td><td>0</td><td>0.0001467868</td></tr>\n",
       "\t<tr><th scope=row>2</th><td>17000</td><td>5</td><td> 0.0</td><td>  0</td><td> 0.0</td><td> 0.0</td><td> 0.0</td><td> 0</td><td>  0</td><td>  0.0</td><td>⋯</td><td>333.3333</td><td>1000</td><td>0</td><td>0</td><td>0</td><td>3927553</td><td>34063</td><td>10</td><td>0</td><td>0.0002935737</td></tr>\n",
       "\t<tr><th scope=row>3</th><td>22000</td><td>1</td><td>17.2</td><td> 43</td><td> 8.6</td><td>17.2</td><td>51.6</td><td>43</td><td>  0</td><td> 34.4</td><td>⋯</td><td>666.6667</td><td>   0</td><td>0</td><td>0</td><td>0</td><td>3927553</td><td>34063</td><td>11</td><td>0</td><td>0.0003229310</td></tr>\n",
       "</tbody>\n",
       "</table>\n"
      ],
      "text/latex": [
       "A data.frame: 3 × 35\n",
       "\\begin{tabular}{r|lllllllllllllllllllll}\n",
       "  & Household\\_id & family\\_members & cs02a\\_12 & cs02a\\_22 & cs02a\\_32 & cs02a\\_42 & cs02a\\_52 & cs02a\\_62 & cs02a\\_72 & cs02a\\_82 & ⋯ & cs22g\\_2 & cs22h\\_2 & consumption & percap\\_consum & consum\\_cumulative & consum\\_total & pop\\_total & pop\\_cumulative & consum\\_pct & pop\\_pct\\\\\n",
       "  & <dbl> & <int> & <dbl> & <dbl> & <dbl> & <dbl> & <dbl> & <dbl> & <dbl> & <dbl> & ⋯ & <dbl> & <dbl> & <dbl> & <dbl> & <dbl> & <dbl> & <int> & <int> & <dbl> & <dbl>\\\\\n",
       "\\hline\n",
       "\t1 &  4000 & 5 & 21.5 & 129 & 21.5 & 25.8 &  0.0 & 43 & 301 & 107.5 & ⋯ & 158.3333 &    0 & 0 & 0 & 0 & 3927553 & 34063 &  5 & 0 & 0.0001467868\\\\\n",
       "\t2 & 17000 & 5 &  0.0 &   0 &  0.0 &  0.0 &  0.0 &  0 &   0 &   0.0 & ⋯ & 333.3333 & 1000 & 0 & 0 & 0 & 3927553 & 34063 & 10 & 0 & 0.0002935737\\\\\n",
       "\t3 & 22000 & 1 & 17.2 &  43 &  8.6 & 17.2 & 51.6 & 43 &   0 &  34.4 & ⋯ & 666.6667 &    0 & 0 & 0 & 0 & 3927553 & 34063 & 11 & 0 & 0.0003229310\\\\\n",
       "\\end{tabular}\n"
      ],
      "text/markdown": [
       "\n",
       "A data.frame: 3 × 35\n",
       "\n",
       "| <!--/--> | Household_id &lt;dbl&gt; | family_members &lt;int&gt; | cs02a_12 &lt;dbl&gt; | cs02a_22 &lt;dbl&gt; | cs02a_32 &lt;dbl&gt; | cs02a_42 &lt;dbl&gt; | cs02a_52 &lt;dbl&gt; | cs02a_62 &lt;dbl&gt; | cs02a_72 &lt;dbl&gt; | cs02a_82 &lt;dbl&gt; | ⋯ ⋯ | cs22g_2 &lt;dbl&gt; | cs22h_2 &lt;dbl&gt; | consumption &lt;dbl&gt; | percap_consum &lt;dbl&gt; | consum_cumulative &lt;dbl&gt; | consum_total &lt;dbl&gt; | pop_total &lt;int&gt; | pop_cumulative &lt;int&gt; | consum_pct &lt;dbl&gt; | pop_pct &lt;dbl&gt; |\n",
       "|---|---|---|---|---|---|---|---|---|---|---|---|---|---|---|---|---|---|---|---|---|---|\n",
       "| 1 |  4000 | 5 | 21.5 | 129 | 21.5 | 25.8 |  0.0 | 43 | 301 | 107.5 | ⋯ | 158.3333 |    0 | 0 | 0 | 0 | 3927553 | 34063 |  5 | 0 | 0.0001467868 |\n",
       "| 2 | 17000 | 5 |  0.0 |   0 |  0.0 |  0.0 |  0.0 |  0 |   0 |   0.0 | ⋯ | 333.3333 | 1000 | 0 | 0 | 0 | 3927553 | 34063 | 10 | 0 | 0.0002935737 |\n",
       "| 3 | 22000 | 1 | 17.2 |  43 |  8.6 | 17.2 | 51.6 | 43 |   0 |  34.4 | ⋯ | 666.6667 |    0 | 0 | 0 | 0 | 3927553 | 34063 | 11 | 0 | 0.0003229310 |\n",
       "\n"
      ],
      "text/plain": [
       "  Household_id family_members cs02a_12 cs02a_22 cs02a_32 cs02a_42 cs02a_52\n",
       "1  4000        5              21.5     129      21.5     25.8      0.0    \n",
       "2 17000        5               0.0       0       0.0      0.0      0.0    \n",
       "3 22000        1              17.2      43       8.6     17.2     51.6    \n",
       "  cs02a_62 cs02a_72 cs02a_82 ⋯ cs22g_2  cs22h_2 consumption percap_consum\n",
       "1 43       301      107.5    ⋯ 158.3333    0    0           0            \n",
       "2  0         0        0.0    ⋯ 333.3333 1000    0           0            \n",
       "3 43         0       34.4    ⋯ 666.6667    0    0           0            \n",
       "  consum_cumulative consum_total pop_total pop_cumulative consum_pct\n",
       "1 0                 3927553      34063      5             0         \n",
       "2 0                 3927553      34063     10             0         \n",
       "3 0                 3927553      34063     11             0         \n",
       "  pop_pct     \n",
       "1 0.0001467868\n",
       "2 0.0002935737\n",
       "3 0.0003229310"
      ]
     },
     "metadata": {},
     "output_type": "display_data"
    }
   ],
   "source": [
    "gini = percap_consum %>% \n",
    "arrange(percap_consum) %>% #Sort consumption from least to greatest\n",
    "mutate(consum_cumulative = cumsum(percap_consum), consum_total = sum(percap_consum), pop_total = sum(family_members), pop_cumulative = cumsum(family_members))%>% #Calculate total and cumulative sum for variables \n",
    "mutate(consum_pct = (consum_cumulative/consum_total), pop_pct= ((pop_cumulative/ pop_total))) #Calculate quintiles\n",
    "gini %>% head(3) #Show new data"
   ]
  },
  {
   "cell_type": "markdown",
   "metadata": {},
   "source": [
    "### 4.1.1 Plot:"
   ]
  },
  {
   "cell_type": "code",
   "execution_count": 33,
   "metadata": {},
   "outputs": [],
   "source": [
    "library(ggplot2)"
   ]
  },
  {
   "cell_type": "code",
   "execution_count": 34,
   "metadata": {
    "scrolled": true
   },
   "outputs": [
    {
     "data": {
      "image/png": "[encoded data removed]",
      "text/plain": [
       "plot without title"
      ]
     },
     "metadata": {},
     "output_type": "display_data"
    }
   ],
   "source": [
    "ggplot(data= gini, aes(x=pop_pct, y= consum_pct))+ \n",
    "ggtitle(\"Lorenz curve\")+theme(plot.title = element_text(hjust = 0.5))+ \n",
    "geom_line()+ \n",
    "geom_abline(intercept = 0, slope = 1, color='red')+xlab('cum. % of households')+ylab('cum. % consum/percap')"
   ]
  },
  {
   "cell_type": "markdown",
   "metadata": {},
   "source": [
    "## 4.2 Gini coefficient calculation"
   ]
  },
  {
   "cell_type": "code",
   "execution_count": 35,
   "metadata": {},
   "outputs": [
    {
     "name": "stdout",
     "output_type": "stream",
     "text": [
      "[1] 0.6690608\n"
     ]
    }
   ],
   "source": [
    "cov_consum_V_consum_pct = cov(gini$percap_consum, gini$consum_pct) \n",
    "mean_cons = mean(gini$percap_consum)\n",
    "print((2*cov_consum_V_consum_pct)/(mean_cons))"
   ]
  },
  {
   "cell_type": "code",
   "execution_count": 36,
   "metadata": {},
   "outputs": [
    {
     "data": {
      "text/html": [
       "<table>\n",
       "<caption>A data.frame: 6 × 2</caption>\n",
       "<thead>\n",
       "\t<tr><th></th><th scope=col>consum_pct</th><th scope=col>pop_pct</th></tr>\n",
       "\t<tr><th></th><th scope=col>&lt;dbl&gt;</th><th scope=col>&lt;dbl&gt;</th></tr>\n",
       "</thead>\n",
       "<tbody>\n",
       "\t<tr><th scope=row>7367</th><td>0.4986851</td><td>0.9414908</td></tr>\n",
       "\t<tr><th scope=row>7368</th><td>0.4989412</td><td>0.9416082</td></tr>\n",
       "\t<tr><th scope=row>7369</th><td>0.4991975</td><td>0.9417550</td></tr>\n",
       "\t<tr><th scope=row>7370</th><td>0.4994538</td><td>0.9417843</td></tr>\n",
       "\t<tr><th scope=row>7371</th><td>0.4997102</td><td>0.9418431</td></tr>\n",
       "\t<tr><th scope=row>7372</th><td>0.4999668</td><td>0.9418724</td></tr>\n",
       "</tbody>\n",
       "</table>\n"
      ],
      "text/latex": [
       "A data.frame: 6 × 2\n",
       "\\begin{tabular}{r|ll}\n",
       "  & consum\\_pct & pop\\_pct\\\\\n",
       "  & <dbl> & <dbl>\\\\\n",
       "\\hline\n",
       "\t7367 & 0.4986851 & 0.9414908\\\\\n",
       "\t7368 & 0.4989412 & 0.9416082\\\\\n",
       "\t7369 & 0.4991975 & 0.9417550\\\\\n",
       "\t7370 & 0.4994538 & 0.9417843\\\\\n",
       "\t7371 & 0.4997102 & 0.9418431\\\\\n",
       "\t7372 & 0.4999668 & 0.9418724\\\\\n",
       "\\end{tabular}\n"
      ],
      "text/markdown": [
       "\n",
       "A data.frame: 6 × 2\n",
       "\n",
       "| <!--/--> | consum_pct &lt;dbl&gt; | pop_pct &lt;dbl&gt; |\n",
       "|---|---|---|\n",
       "| 7367 | 0.4986851 | 0.9414908 |\n",
       "| 7368 | 0.4989412 | 0.9416082 |\n",
       "| 7369 | 0.4991975 | 0.9417550 |\n",
       "| 7370 | 0.4994538 | 0.9417843 |\n",
       "| 7371 | 0.4997102 | 0.9418431 |\n",
       "| 7372 | 0.4999668 | 0.9418724 |\n",
       "\n"
      ],
      "text/plain": [
       "     consum_pct pop_pct  \n",
       "7367 0.4986851  0.9414908\n",
       "7368 0.4989412  0.9416082\n",
       "7369 0.4991975  0.9417550\n",
       "7370 0.4994538  0.9417843\n",
       "7371 0.4997102  0.9418431\n",
       "7372 0.4999668  0.9418724"
      ]
     },
     "metadata": {},
     "output_type": "display_data"
    }
   ],
   "source": [
    "gini %>% \n",
    "filter(consum_pct <=.5)%>% \n",
    "select(consum_pct, pop_pct)%>% tail"
   ]
  },
  {
   "cell_type": "markdown",
   "metadata": {},
   "source": [
    "## DPLYR examples"
   ]
  },
  {
   "cell_type": "markdown",
   "metadata": {},
   "source": [
    "## D.1"
   ]
  },
  {
   "cell_type": "code",
   "execution_count": 37,
   "metadata": {},
   "outputs": [
    {
     "data": {
      "text/html": [
       "<table>\n",
       "<caption>A grouped_df: 8 × 3</caption>\n",
       "<thead>\n",
       "\t<tr><th scope=col>estrato</th><th scope=col>poverty_dummy</th><th scope=col>n</th></tr>\n",
       "\t<tr><th scope=col>&lt;dbl&gt;</th><th scope=col>&lt;dbl&gt;</th><th scope=col>&lt;int&gt;</th></tr>\n",
       "</thead>\n",
       "<tbody>\n",
       "\t<tr><td>1</td><td>0</td><td>1083</td></tr>\n",
       "\t<tr><td>1</td><td>1</td><td>2068</td></tr>\n",
       "\t<tr><td>2</td><td>0</td><td> 270</td></tr>\n",
       "\t<tr><td>2</td><td>1</td><td> 492</td></tr>\n",
       "\t<tr><td>3</td><td>0</td><td> 158</td></tr>\n",
       "\t<tr><td>3</td><td>1</td><td> 686</td></tr>\n",
       "\t<tr><td>4</td><td>0</td><td> 450</td></tr>\n",
       "\t<tr><td>4</td><td>1</td><td>2843</td></tr>\n",
       "</tbody>\n",
       "</table>\n"
      ],
      "text/latex": [
       "A grouped\\_df: 8 × 3\n",
       "\\begin{tabular}{lll}\n",
       " estrato & poverty\\_dummy & n\\\\\n",
       " <dbl> & <dbl> & <int>\\\\\n",
       "\\hline\n",
       "\t 1 & 0 & 1083\\\\\n",
       "\t 1 & 1 & 2068\\\\\n",
       "\t 2 & 0 &  270\\\\\n",
       "\t 2 & 1 &  492\\\\\n",
       "\t 3 & 0 &  158\\\\\n",
       "\t 3 & 1 &  686\\\\\n",
       "\t 4 & 0 &  450\\\\\n",
       "\t 4 & 1 & 2843\\\\\n",
       "\\end{tabular}\n"
      ],
      "text/markdown": [
       "\n",
       "A grouped_df: 8 × 3\n",
       "\n",
       "| estrato &lt;dbl&gt; | poverty_dummy &lt;dbl&gt; | n &lt;int&gt; |\n",
       "|---|---|---|\n",
       "| 1 | 0 | 1083 |\n",
       "| 1 | 1 | 2068 |\n",
       "| 2 | 0 |  270 |\n",
       "| 2 | 1 |  492 |\n",
       "| 3 | 0 |  158 |\n",
       "| 3 | 1 |  686 |\n",
       "| 4 | 0 |  450 |\n",
       "| 4 | 1 | 2843 |\n",
       "\n"
      ],
      "text/plain": [
       "  estrato poverty_dummy n   \n",
       "1 1       0             1083\n",
       "2 1       1             2068\n",
       "3 2       0              270\n",
       "4 2       1              492\n",
       "5 3       0              158\n",
       "6 3       1              686\n",
       "7 4       0              450\n",
       "8 4       1             2843"
      ]
     },
     "metadata": {},
     "output_type": "display_data"
    }
   ],
   "source": [
    "consum_residence_df %>% group_by(estrato) %>% count(poverty_dummy) "
   ]
  },
  {
   "cell_type": "code",
   "execution_count": 38,
   "metadata": {},
   "outputs": [
    {
     "data": {
      "text/html": [
       "<table>\n",
       "<caption>A grouped_df: 4 × 3</caption>\n",
       "<thead>\n",
       "\t<tr><th scope=col>estrato</th><th scope=col>poverty_dummy</th><th scope=col>n</th></tr>\n",
       "\t<tr><th scope=col>&lt;dbl&gt;</th><th scope=col>&lt;dbl&gt;</th><th scope=col>&lt;int&gt;</th></tr>\n",
       "</thead>\n",
       "<tbody>\n",
       "\t<tr><td>1</td><td>1</td><td>2068</td></tr>\n",
       "\t<tr><td>2</td><td>1</td><td> 492</td></tr>\n",
       "\t<tr><td>3</td><td>1</td><td> 686</td></tr>\n",
       "\t<tr><td>4</td><td>1</td><td>2843</td></tr>\n",
       "</tbody>\n",
       "</table>\n"
      ],
      "text/latex": [
       "A grouped\\_df: 4 × 3\n",
       "\\begin{tabular}{lll}\n",
       " estrato & poverty\\_dummy & n\\\\\n",
       " <dbl> & <dbl> & <int>\\\\\n",
       "\\hline\n",
       "\t 1 & 1 & 2068\\\\\n",
       "\t 2 & 1 &  492\\\\\n",
       "\t 3 & 1 &  686\\\\\n",
       "\t 4 & 1 & 2843\\\\\n",
       "\\end{tabular}\n"
      ],
      "text/markdown": [
       "\n",
       "A grouped_df: 4 × 3\n",
       "\n",
       "| estrato &lt;dbl&gt; | poverty_dummy &lt;dbl&gt; | n &lt;int&gt; |\n",
       "|---|---|---|\n",
       "| 1 | 1 | 2068 |\n",
       "| 2 | 1 |  492 |\n",
       "| 3 | 1 |  686 |\n",
       "| 4 | 1 | 2843 |\n",
       "\n"
      ],
      "text/plain": [
       "  estrato poverty_dummy n   \n",
       "1 1       1             2068\n",
       "2 2       1              492\n",
       "3 3       1              686\n",
       "4 4       1             2843"
      ]
     },
     "metadata": {},
     "output_type": "display_data"
    }
   ],
   "source": [
    "consum_residence_df %>% group_by(estrato) %>% count(poverty_dummy) %>% filter(poverty_dummy==1)"
   ]
  }
 ],
 "metadata": {
  "hide_code_all_hidden": true,
  "kernelspec": {
   "display_name": "R (R-Project)",
   "language": "r",
   "name": "ir"
  },
  "language_info": {
   "codemirror_mode": "r",
   "file_extension": ".r",
   "mimetype": "text/x-r-source",
   "name": "R",
   "pygments_lexer": "r",
   "version": "3.6.1"
  }
 },
 "nbformat": 4,
 "nbformat_minor": 1
}
