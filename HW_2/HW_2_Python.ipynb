{
 "cells": [
  {
   "cell_type": "markdown",
   "metadata": {
    "hideCode": true,
    "hidePrompt": true
   },
   "source": [
    "# A. Import data, EDA, Manipulation"
   ]
  },
  {
   "cell_type": "markdown",
   "metadata": {
    "hideCode": true,
    "hidePrompt": true
   },
   "source": [
    "## A.1 Import and merge\n",
    "\n",
    "### A.1.1 Import libraries"
   ]
  },
  {
   "cell_type": "code",
   "execution_count": 13,
   "metadata": {
    "hideCode": true,
    "hidePrompt": true
   },
   "outputs": [],
   "source": [
    "import re\n",
    "import os\n",
    "import sys\n",
    "import numpy as np\n",
    "import pandas as pd\n",
    "import matplotlib.pyplot as plt"
   ]
  },
  {
   "cell_type": "markdown",
   "metadata": {
    "hideCode": true,
    "hidePrompt": true
   },
   "source": [
    "### A.1.2.1 Set file path for main folder and DTA files folder"
   ]
  },
  {
   "cell_type": "code",
   "execution_count": 14,
   "metadata": {
    "hideCode": true,
    "hidePrompt": true
   },
   "outputs": [],
   "source": [
    "path = os.getcwd() #Main folder\n",
    "files_folder = path+'/hh02dta_bc' #DTA files"
   ]
  },
  {
   "cell_type": "markdown",
   "metadata": {
    "hideCode": true,
    "hidePrompt": true
   },
   "source": [
    "## A.2 Calculating consumption"
   ]
  },
  {
   "cell_type": "markdown",
   "metadata": {},
   "source": [
    "### A.2.1 Weekly variables"
   ]
  },
  {
   "cell_type": "markdown",
   "metadata": {},
   "source": [
    "### A.2.1.1 Import weekly variables data \"i_cs\""
   ]
  },
  {
   "cell_type": "code",
   "execution_count": 15,
   "metadata": {},
   "outputs": [],
   "source": [
    "df1 = pd.read_stata(path+'/hh02dta_b1/i_cs.dta')\n",
    "df1 = df1.rename(columns={'folio':'Household_id'})"
   ]
  },
  {
   "cell_type": "markdown",
   "metadata": {},
   "source": [
    "### A.2.1.2 Select weekly consumption variables"
   ]
  },
  {
   "cell_type": "code",
   "execution_count": 16,
   "metadata": {},
   "outputs": [],
   "source": [
    "#df1.filter(regex='cs02a_', axis=1)\n",
    "cons1 = [i for i in df1.columns if i.startswith('cs02a_') and i.endswith('2')]\n",
    "cons1.append('Household_id')\n",
    "cons1 = df1[cons1]\n",
    "cons1.set_index('Household_id', inplace=True)"
   ]
  },
  {
   "cell_type": "markdown",
   "metadata": {},
   "source": [
    "#### A.2.1.2.1 Convert weekly varibles to monthly vars"
   ]
  },
  {
   "cell_type": "code",
   "execution_count": 17,
   "metadata": {},
   "outputs": [],
   "source": [
    "cons1 = cons1*4.3"
   ]
  },
  {
   "cell_type": "markdown",
   "metadata": {},
   "source": [
    "### A.2.2 Select Monthly variables\n",
    "- Uses \"i_cs\""
   ]
  },
  {
   "cell_type": "code",
   "execution_count": 18,
   "metadata": {},
   "outputs": [],
   "source": [
    "cons2 = [i for i in df1.columns if i.startswith('cs16') and i.endswith('2')]\n",
    "cons2.append('Household_id')\n",
    "cons2 = df1[cons2]\n",
    "cons2.set_index('Household_id', inplace=True)"
   ]
  },
  {
   "cell_type": "markdown",
   "metadata": {},
   "source": [
    "### A.2.3 3-Month variables"
   ]
  },
  {
   "cell_type": "markdown",
   "metadata": {},
   "source": [
    "### A.2.3.1 Import weekly variables data \"i_cs1\""
   ]
  },
  {
   "cell_type": "code",
   "execution_count": 19,
   "metadata": {},
   "outputs": [],
   "source": [
    "df2 = pd.read_stata(path+'/hh02dta_b1/i_cs1.dta')\n",
    "df2 = df2.rename(columns={'folio':'Household_id' })"
   ]
  },
  {
   "cell_type": "markdown",
   "metadata": {},
   "source": [
    "### A.2.3.2 Select 3-month variables"
   ]
  },
  {
   "cell_type": "code",
   "execution_count": 20,
   "metadata": {},
   "outputs": [],
   "source": [
    "cons3 = [i for i in df2.columns if i.startswith('cs22') and i.endswith('2')]\n",
    "cons3.append('Household_id')\n",
    "cons3 = df2[cons3]\n",
    "cons3.set_index('Household_id', inplace=True)"
   ]
  },
  {
   "cell_type": "markdown",
   "metadata": {},
   "source": [
    "### A.3.3 Convert 3-month varibles to monthly vars"
   ]
  },
  {
   "cell_type": "code",
   "execution_count": 21,
   "metadata": {},
   "outputs": [],
   "source": [
    "cons3 = cons3/3"
   ]
  },
  {
   "cell_type": "markdown",
   "metadata": {},
   "source": [
    "### A.2.4 Merge consumption variables into one dataframe"
   ]
  },
  {
   "cell_type": "code",
   "execution_count": 22,
   "metadata": {},
   "outputs": [],
   "source": [
    "cons_merge = pd.concat([cons1, cons2, cons3], axis=1)\n",
    "#cons_merge.to_csv('consu_Python.csv')"
   ]
  },
  {
   "cell_type": "markdown",
   "metadata": {
    "hideCode": true,
    "hidePrompt": true
   },
   "source": [
    "# Homework Questions"
   ]
  },
  {
   "cell_type": "markdown",
   "metadata": {
    "hideCode": true,
    "hidePrompt": true
   },
   "source": [
    "## Q.1. \n",
    "- Calculate a measure of total consumption and per capita consumption for each household in the 2002 round. \n",
    "    - To calculate per capita note you will have to calculate the number of individuals in each household."
   ]
  },
  {
   "cell_type": "markdown",
   "metadata": {
    "hideCode": true,
    "hidePrompt": true
   },
   "source": [
    "## Q.1.1 Total consumption"
   ]
  },
  {
   "cell_type": "markdown",
   "metadata": {
    "hideCode": true,
    "hidePrompt": true
   },
   "source": [
    "### 1.1.1 Calculate total consumer spending\n",
    "- Sum the rows from cons_merge (A.2.4)"
   ]
  },
  {
   "cell_type": "code",
   "execution_count": 23,
   "metadata": {},
   "outputs": [],
   "source": [
    "cons_merge['total_cons'] = cons_merge.sum(axis=1)"
   ]
  },
  {
   "cell_type": "code",
   "execution_count": 24,
   "metadata": {},
   "outputs": [
    {
     "data": {
      "text/plain": [
       "True"
      ]
     },
     "execution_count": 24,
     "metadata": {},
     "output_type": "execute_result"
    }
   ],
   "source": [
    "sum(round(cons_merge.iloc[0,:-1],3))==round(cons_merge.iloc[0,-1],3)"
   ]
  },
  {
   "cell_type": "markdown",
   "metadata": {
    "hideCode": true,
    "hidePrompt": true
   },
   "source": [
    "#### 1.1.1.1 Basic stats: total consumer spending"
   ]
  },
  {
   "cell_type": "code",
   "execution_count": 26,
   "metadata": {},
   "outputs": [
    {
     "data": {
      "text/plain": [
       "count    8.052000e+03\n",
       "mean     2.050501e+03\n",
       "std      1.822217e+04\n",
       "min      0.000000e+00\n",
       "25%      5.951750e+02\n",
       "50%      1.118767e+03\n",
       "75%      2.001467e+03\n",
       "max      1.450983e+06\n",
       "Name: total_cons, dtype: float64"
      ]
     },
     "execution_count": 26,
     "metadata": {},
     "output_type": "execute_result"
    }
   ],
   "source": [
    "cons_merge['total_cons'].describe()"
   ]
  },
  {
   "cell_type": "markdown",
   "metadata": {
    "hideCode": true,
    "hidePrompt": true
   },
   "source": [
    "#### 1.1.1.2 Graph: total consumer spending"
   ]
  },
  {
   "cell_type": "code",
   "execution_count": 27,
   "metadata": {
    "hideCode": true,
    "hidePrompt": true
   },
   "outputs": [
    {
     "name": "stdout",
     "output_type": "stream",
     "text": [
      "Outlier Z-scores: \n",
      " \n",
      "(array([3306, 3454, 4899, 5564, 6591, 6648, 7297, 7758]),)\n"
     ]
    }
   ],
   "source": [
    "from scipy import stats\n",
    "#Calculates Z-scores\n",
    "z = np.abs(stats.zscore(cons_merge['total_cons']))\n",
    "threshold = 3\n",
    "print('Outlier Z-scores: \\n \\n{}'.format(np.where(z > threshold)[:5]))"
   ]
  },
  {
   "cell_type": "code",
   "execution_count": 28,
   "metadata": {},
   "outputs": [
    {
     "data": {
      "image/png": "[encoded data removed]",
      "text/plain": [
       "<Figure size 864x504 with 1 Axes>"
      ]
     },
     "metadata": {
      "image/png": {
       "height": 440,
       "width": 739
      },
      "needs_background": "light"
     },
     "output_type": "display_data"
    }
   ],
   "source": [
    "outlier_removed = cons_merge['total_cons'][(z < 5)].values\n",
    "import seaborn as sns\n",
    "ax = sns.distplot(outlier_removed, hist=True, kde=True, \n",
    "             bins=int(180/5), color = 'darkblue', \n",
    "             hist_kws={'edgecolor':'black'},\n",
    "             kde_kws={'linewidth': 3})\n",
    "ax.set_xlabel('Income')\n",
    "ax.set_ylabel('Pct of households')\n",
    "ax.set_title('Kernal density plot of household total income')\n",
    "plt.show()"
   ]
  },
  {
   "cell_type": "markdown",
   "metadata": {
    "hideCode": true,
    "hidePrompt": true
   },
   "source": [
    "## Q.1.2 Per capita consumption (Total/house size)"
   ]
  },
  {
   "cell_type": "markdown",
   "metadata": {
    "hideCode": true,
    "hidePrompt": true
   },
   "source": [
    "### 1.2.1 Avg. house size"
   ]
  },
  {
   "cell_type": "markdown",
   "metadata": {},
   "source": [
    "#### 1.2.1.1 Import house size data set \"c_ls\""
   ]
  },
  {
   "cell_type": "code",
   "execution_count": 76,
   "metadata": {},
   "outputs": [],
   "source": [
    "df_housesize = pd.read_stata(path+'/hh02dta_bc/c_ls.dta')\n",
    "df_housesize = df_housesize.rename(columns={'folio':'Household_id'})\n",
    "df_housesize.set_index('Household_id', inplace=True)\n",
    "merge = pd.merge(df_housesize, cons_merge, left_index=True, right_index=True)"
   ]
  },
  {
   "cell_type": "markdown",
   "metadata": {},
   "source": [
    "#### 1.2.1.2 Count family members \"ls\" in each household \"folio\""
   ]
  },
  {
   "cell_type": "code",
   "execution_count": 77,
   "metadata": {},
   "outputs": [
    {
     "data": {
      "text/plain": [
       "Household_id\n",
       "1000.0    4\n",
       "1000.0    4\n",
       "1000.0    4\n",
       "1000.0    4\n",
       "2000.0    5\n",
       "Name: family_members, dtype: int64"
      ]
     },
     "execution_count": 77,
     "metadata": {},
     "output_type": "execute_result"
    }
   ],
   "source": [
    "merge['family_members'] = merge.groupby(merge.index.get_level_values(0))['ls'].count()\n",
    "merge.family_members.head(5)"
   ]
  },
  {
   "cell_type": "markdown",
   "metadata": {},
   "source": [
    "#### 1.2.1.2 Family members graph"
   ]
  },
  {
   "cell_type": "code",
   "execution_count": 78,
   "metadata": {
    "hideCode": true,
    "hidePrompt": true
   },
   "outputs": [
    {
     "data": {
      "text/plain": [
       "<matplotlib.axes._subplots.AxesSubplot at 0x7f2fd476d278>"
      ]
     },
     "execution_count": 78,
     "metadata": {},
     "output_type": "execute_result"
    },
    {
     "data": {
      "image/png": "[encoded data removed]",
      "text/plain": [
       "<Figure size 864x504 with 1 Axes>"
      ]
     },
     "metadata": {
      "image/png": {
       "height": 428,
       "width": 723
      },
      "needs_background": "light"
     },
     "output_type": "display_data"
    }
   ],
   "source": [
    "sns.distplot(merge['family_members'], kde=False, bins=10)"
   ]
  },
  {
   "cell_type": "markdown",
   "metadata": {
    "hideCode": true,
    "hidePrompt": true
   },
   "source": [
    "## 1.3 Per capita consumption (Total/house size)"
   ]
  },
  {
   "cell_type": "markdown",
   "metadata": {},
   "source": [
    "### 1.3.1 Merge family_members and consumption data set"
   ]
  },
  {
   "cell_type": "markdown",
   "metadata": {},
   "source": [
    "#### 1.3.1.1 Check to see if df are the same length"
   ]
  },
  {
   "cell_type": "markdown",
   "metadata": {},
   "source": [
    "#### 1.3.1.2 Merge two data sets and drop na values"
   ]
  },
  {
   "cell_type": "markdown",
   "metadata": {},
   "source": [
    "#### 1.3.1.3 Calculate percapita consumption"
   ]
  },
  {
   "cell_type": "code",
   "execution_count": 79,
   "metadata": {},
   "outputs": [],
   "source": [
    "merge['percap_consum'] = (merge.total_cons)/(merge.family_members)"
   ]
  },
  {
   "cell_type": "code",
   "execution_count": 80,
   "metadata": {},
   "outputs": [
    {
     "data": {
      "text/html": [
       "<div>\n",
       "<style scoped>\n",
       "    .dataframe tbody tr th:only-of-type {\n",
       "        vertical-align: middle;\n",
       "    }\n",
       "\n",
       "    .dataframe tbody tr th {\n",
       "        vertical-align: top;\n",
       "    }\n",
       "\n",
       "    .dataframe thead th {\n",
       "        text-align: right;\n",
       "    }\n",
       "</style>\n",
       "<table border=\"1\" class=\"dataframe\">\n",
       "  <thead>\n",
       "    <tr style=\"text-align: right;\">\n",
       "      <th></th>\n",
       "      <th>family_members</th>\n",
       "      <th>total_cons</th>\n",
       "      <th>percap_consum</th>\n",
       "    </tr>\n",
       "    <tr>\n",
       "      <th>Household_id</th>\n",
       "      <th></th>\n",
       "      <th></th>\n",
       "      <th></th>\n",
       "    </tr>\n",
       "  </thead>\n",
       "  <tbody>\n",
       "    <tr>\n",
       "      <th>1000.0</th>\n",
       "      <td>4</td>\n",
       "      <td>1876.866664</td>\n",
       "      <td>469.216666</td>\n",
       "    </tr>\n",
       "    <tr>\n",
       "      <th>1000.0</th>\n",
       "      <td>4</td>\n",
       "      <td>1876.866664</td>\n",
       "      <td>469.216666</td>\n",
       "    </tr>\n",
       "    <tr>\n",
       "      <th>1000.0</th>\n",
       "      <td>4</td>\n",
       "      <td>1876.866664</td>\n",
       "      <td>469.216666</td>\n",
       "    </tr>\n",
       "    <tr>\n",
       "      <th>1000.0</th>\n",
       "      <td>4</td>\n",
       "      <td>1876.866664</td>\n",
       "      <td>469.216666</td>\n",
       "    </tr>\n",
       "    <tr>\n",
       "      <th>2000.0</th>\n",
       "      <td>5</td>\n",
       "      <td>5464.533420</td>\n",
       "      <td>1092.906684</td>\n",
       "    </tr>\n",
       "  </tbody>\n",
       "</table>\n",
       "</div>"
      ],
      "text/plain": [
       "              family_members   total_cons  percap_consum\n",
       "Household_id                                            \n",
       "1000.0                     4  1876.866664     469.216666\n",
       "1000.0                     4  1876.866664     469.216666\n",
       "1000.0                     4  1876.866664     469.216666\n",
       "1000.0                     4  1876.866664     469.216666\n",
       "2000.0                     5  5464.533420    1092.906684"
      ]
     },
     "execution_count": 80,
     "metadata": {},
     "output_type": "execute_result"
    }
   ],
   "source": [
    "merge[['family_members','total_cons', 'percap_consum']].head(5)"
   ]
  },
  {
   "cell_type": "markdown",
   "metadata": {},
   "source": [
    "#### 1.3.1.4 Percap consumption summary"
   ]
  },
  {
   "cell_type": "code",
   "execution_count": 81,
   "metadata": {},
   "outputs": [
    {
     "data": {
      "text/html": [
       "<div>\n",
       "<style scoped>\n",
       "    .dataframe tbody tr th:only-of-type {\n",
       "        vertical-align: middle;\n",
       "    }\n",
       "\n",
       "    .dataframe tbody tr th {\n",
       "        vertical-align: top;\n",
       "    }\n",
       "\n",
       "    .dataframe thead th {\n",
       "        text-align: right;\n",
       "    }\n",
       "</style>\n",
       "<table border=\"1\" class=\"dataframe\">\n",
       "  <thead>\n",
       "    <tr style=\"text-align: right;\">\n",
       "      <th></th>\n",
       "      <th>family_members</th>\n",
       "      <th>total_cons</th>\n",
       "      <th>percap_consum</th>\n",
       "    </tr>\n",
       "  </thead>\n",
       "  <tbody>\n",
       "    <tr>\n",
       "      <th>count</th>\n",
       "      <td>34063.0</td>\n",
       "      <td>34063.0</td>\n",
       "      <td>34063.0</td>\n",
       "    </tr>\n",
       "    <tr>\n",
       "      <th>mean</th>\n",
       "      <td>5.0</td>\n",
       "      <td>2191.0</td>\n",
       "      <td>485.0</td>\n",
       "    </tr>\n",
       "    <tr>\n",
       "      <th>std</th>\n",
       "      <td>2.0</td>\n",
       "      <td>22120.0</td>\n",
       "      <td>3725.0</td>\n",
       "    </tr>\n",
       "    <tr>\n",
       "      <th>min</th>\n",
       "      <td>1.0</td>\n",
       "      <td>0.0</td>\n",
       "      <td>0.0</td>\n",
       "    </tr>\n",
       "    <tr>\n",
       "      <th>25%</th>\n",
       "      <td>4.0</td>\n",
       "      <td>646.0</td>\n",
       "      <td>129.0</td>\n",
       "    </tr>\n",
       "    <tr>\n",
       "      <th>50%</th>\n",
       "      <td>5.0</td>\n",
       "      <td>1178.0</td>\n",
       "      <td>245.0</td>\n",
       "    </tr>\n",
       "    <tr>\n",
       "      <th>75%</th>\n",
       "      <td>6.0</td>\n",
       "      <td>2094.0</td>\n",
       "      <td>465.0</td>\n",
       "    </tr>\n",
       "    <tr>\n",
       "      <th>max</th>\n",
       "      <td>17.0</td>\n",
       "      <td>1450983.0</td>\n",
       "      <td>207283.0</td>\n",
       "    </tr>\n",
       "  </tbody>\n",
       "</table>\n",
       "</div>"
      ],
      "text/plain": [
       "       family_members  total_cons  percap_consum\n",
       "count         34063.0     34063.0        34063.0\n",
       "mean              5.0      2191.0          485.0\n",
       "std               2.0     22120.0         3725.0\n",
       "min               1.0         0.0            0.0\n",
       "25%               4.0       646.0          129.0\n",
       "50%               5.0      1178.0          245.0\n",
       "75%               6.0      2094.0          465.0\n",
       "max              17.0   1450983.0       207283.0"
      ]
     },
     "execution_count": 81,
     "metadata": {},
     "output_type": "execute_result"
    }
   ],
   "source": [
    "round(merge[['family_members','total_cons', 'percap_consum']].describe())"
   ]
  },
  {
   "cell_type": "markdown",
   "metadata": {
    "hideCode": true,
    "hidePrompt": true
   },
   "source": [
    "# Q.2. \n",
    "\n",
    "- Calculate the set of poverty rates nationwide using the FGT indicators of poverty:\n",
    "    - Head count\n",
    "    - Average poverty gap\n",
    "    - Average poverty gap squared. \n",
    "- Assume the poverty line=500 pesos per person. Provide poverty rates based on household consumption per capita.\n",
    "\n"
   ]
  },
  {
   "cell_type": "markdown",
   "metadata": {
    "hideCode": true,
    "hidePrompt": true
   },
   "source": [
    "## 2.1 Headcount using 1000 as an example"
   ]
  },
  {
   "cell_type": "code",
   "execution_count": 82,
   "metadata": {},
   "outputs": [
    {
     "data": {
      "text/html": [
       "<div>\n",
       "<style scoped>\n",
       "    .dataframe tbody tr th:only-of-type {\n",
       "        vertical-align: middle;\n",
       "    }\n",
       "\n",
       "    .dataframe tbody tr th {\n",
       "        vertical-align: top;\n",
       "    }\n",
       "\n",
       "    .dataframe thead th {\n",
       "        text-align: right;\n",
       "    }\n",
       "</style>\n",
       "<table border=\"1\" class=\"dataframe\">\n",
       "  <thead>\n",
       "    <tr style=\"text-align: right;\">\n",
       "      <th></th>\n",
       "      <th>family_members</th>\n",
       "      <th>total_cons</th>\n",
       "      <th>percap_consum</th>\n",
       "      <th>below_poverty_dummy</th>\n",
       "    </tr>\n",
       "    <tr>\n",
       "      <th>Household_id</th>\n",
       "      <th></th>\n",
       "      <th></th>\n",
       "      <th></th>\n",
       "      <th></th>\n",
       "    </tr>\n",
       "  </thead>\n",
       "  <tbody>\n",
       "    <tr>\n",
       "      <th>1000.0</th>\n",
       "      <td>4</td>\n",
       "      <td>1876.866664</td>\n",
       "      <td>469.216666</td>\n",
       "      <td>True</td>\n",
       "    </tr>\n",
       "    <tr>\n",
       "      <th>1000.0</th>\n",
       "      <td>4</td>\n",
       "      <td>1876.866664</td>\n",
       "      <td>469.216666</td>\n",
       "      <td>True</td>\n",
       "    </tr>\n",
       "    <tr>\n",
       "      <th>1000.0</th>\n",
       "      <td>4</td>\n",
       "      <td>1876.866664</td>\n",
       "      <td>469.216666</td>\n",
       "      <td>True</td>\n",
       "    </tr>\n",
       "    <tr>\n",
       "      <th>1000.0</th>\n",
       "      <td>4</td>\n",
       "      <td>1876.866664</td>\n",
       "      <td>469.216666</td>\n",
       "      <td>True</td>\n",
       "    </tr>\n",
       "  </tbody>\n",
       "</table>\n",
       "</div>"
      ],
      "text/plain": [
       "              family_members   total_cons  percap_consum  below_poverty_dummy\n",
       "Household_id                                                                 \n",
       "1000.0                     4  1876.866664     469.216666                 True\n",
       "1000.0                     4  1876.866664     469.216666                 True\n",
       "1000.0                     4  1876.866664     469.216666                 True\n",
       "1000.0                     4  1876.866664     469.216666                 True"
      ]
     },
     "execution_count": 82,
     "metadata": {},
     "output_type": "execute_result"
    }
   ],
   "source": [
    "povertyline = 500\n",
    "merge['below_poverty_dummy'] = merge.percap_consum< int(povertyline)\n",
    "#merge['below_poverty_dummy'] = lambda: merge['percap_consum']<500\n",
    "#merge['below_poverty_dummy'].apply(lambda val: 1 if merge.percap_consum < 1000 else 0)\n",
    "#merge['below_poverty_dummy'] = (merge.percap_consum > int(povertyline)).astype('int')\n",
    "merge[['family_members','total_cons', 'percap_consum', 'below_poverty_dummy']].head(4)"
   ]
  },
  {
   "cell_type": "code",
   "execution_count": 83,
   "metadata": {},
   "outputs": [
    {
     "name": "stdout",
     "output_type": "stream",
     "text": [
      "Headcount: 0.7748877080703402\n"
     ]
    }
   ],
   "source": [
    "head_count = merge['below_poverty_dummy'].mean()\n",
    "print('Headcount: {}'.format(head_count))"
   ]
  },
  {
   "cell_type": "markdown",
   "metadata": {
    "hideCode": true,
    "hidePrompt": true
   },
   "source": [
    "## 2.2 Avg. poverty gap"
   ]
  },
  {
   "cell_type": "code",
   "execution_count": 84,
   "metadata": {},
   "outputs": [
    {
     "data": {
      "text/plain": [
       "225.770804147384"
      ]
     },
     "execution_count": 84,
     "metadata": {},
     "output_type": "execute_result"
    }
   ],
   "source": [
    "((povertyline-merge['percap_consum'])*merge['below_poverty_dummy']).mean()"
   ]
  },
  {
   "cell_type": "markdown",
   "metadata": {
    "hideCode": true,
    "hidePrompt": true
   },
   "source": [
    "## 2.3 Avg. poverty gap squared"
   ]
  },
  {
   "cell_type": "code",
   "execution_count": 85,
   "metadata": {
    "hideCode": true,
    "hidePrompt": true
   },
   "outputs": [
    {
     "data": {
      "text/plain": [
       "77799.84883842707"
      ]
     },
     "execution_count": 85,
     "metadata": {},
     "output_type": "execute_result"
    }
   ],
   "source": [
    "(((povertyline-merge['percap_consum'])*merge['below_poverty_dummy'])**2).mean()"
   ]
  },
  {
   "cell_type": "markdown",
   "metadata": {
    "hideCode": true,
    "hidePrompt": true
   },
   "source": [
    "## Q.3 Repeat 2) by area of residence.\n",
    "\n",
    "- How does the poverty rate change by rural/urban residence?"
   ]
  },
  {
   "cell_type": "markdown",
   "metadata": {},
   "source": [
    "## 3.1. Import residence data from \"c_portad\""
   ]
  },
  {
   "cell_type": "code",
   "execution_count": 86,
   "metadata": {},
   "outputs": [],
   "source": [
    "residence_df = pd.read_stata(path+'/hh02dta_bc/c_portad.dta')\n",
    "residence_df  = residence_df.rename(columns={'folio':'Household_id'})\n",
    "residence_df.set_index('Household_id', inplace=True)"
   ]
  },
  {
   "cell_type": "markdown",
   "metadata": {},
   "source": [
    "### 3.1.1. Merge residence df with percap_consum df from Q.1 & Q.2 "
   ]
  },
  {
   "cell_type": "code",
   "execution_count": 87,
   "metadata": {},
   "outputs": [],
   "source": [
    "consum_residence_df  = pd.merge(residence_df, merge, left_index=True, right_index=True)"
   ]
  },
  {
   "cell_type": "markdown",
   "metadata": {},
   "source": [
    "#### 3.1.1.2 Create poverty dummy"
   ]
  },
  {
   "cell_type": "code",
   "execution_count": 88,
   "metadata": {},
   "outputs": [
    {
     "data": {
      "text/plain": [
       "Household_id\n",
       "1000.0    True\n",
       "1000.0    True\n",
       "Name: below_poverty_dummy, dtype: bool"
      ]
     },
     "execution_count": 88,
     "metadata": {},
     "output_type": "execute_result"
    }
   ],
   "source": [
    "#Created previously\n",
    "consum_residence_df['below_poverty_dummy'].head(2)"
   ]
  },
  {
   "cell_type": "markdown",
   "metadata": {},
   "source": [
    "## 3.2 Show poverty by area of residence"
   ]
  },
  {
   "cell_type": "code",
   "execution_count": 89,
   "metadata": {},
   "outputs": [
    {
     "data": {
      "text/plain": [
       "estrato\n",
       "1.0    0.663626\n",
       "2.0    0.662379\n",
       "3.0    0.820966\n",
       "4.0    0.884178\n",
       "Name: below_poverty_dummy, dtype: float64"
      ]
     },
     "execution_count": 89,
     "metadata": {},
     "output_type": "execute_result"
    }
   ],
   "source": [
    "consum_residence_df.groupby('estrato')['below_poverty_dummy'].mean()"
   ]
  },
  {
   "cell_type": "markdown",
   "metadata": {},
   "source": [
    "# Q.4. \n",
    "\n",
    "Calculate the Gini coefficient overall and by urban and rural areas both using consumption measures. In both R and Stata there are programs which can be downloaded to calculate the Gini. Provide a graph of the Lorenz curve."
   ]
  },
  {
   "cell_type": "markdown",
   "metadata": {},
   "source": [
    "## 4.1 Calculate cumulative sum for population and consumption"
   ]
  },
  {
   "cell_type": "code",
   "execution_count": 90,
   "metadata": {},
   "outputs": [],
   "source": [
    "var_list = ['percap_consum', 'family_members']\n",
    "for i in var_list:\n",
    "    consum_residence_df[str(i)+'_cumulative'] = consum_residence_df[str(i)].cumsum()\n",
    "    consum_residence_df[str(i)+'_cumulative_pct'] = consum_residence_df[str(i)+'_cumulative']/sum(consum_residence_df[str(i)])"
   ]
  },
  {
   "cell_type": "code",
   "execution_count": 91,
   "metadata": {},
   "outputs": [
    {
     "data": {
      "text/html": [
       "<div>\n",
       "<style scoped>\n",
       "    .dataframe tbody tr th:only-of-type {\n",
       "        vertical-align: middle;\n",
       "    }\n",
       "\n",
       "    .dataframe tbody tr th {\n",
       "        vertical-align: top;\n",
       "    }\n",
       "\n",
       "    .dataframe thead th {\n",
       "        text-align: right;\n",
       "    }\n",
       "</style>\n",
       "<table border=\"1\" class=\"dataframe\">\n",
       "  <thead>\n",
       "    <tr style=\"text-align: right;\">\n",
       "      <th></th>\n",
       "      <th>percap_consum_cumulative</th>\n",
       "      <th>percap_consum_cumulative_pct</th>\n",
       "      <th>family_members_cumulative</th>\n",
       "      <th>family_members_cumulative_pct</th>\n",
       "    </tr>\n",
       "    <tr>\n",
       "      <th>Household_id</th>\n",
       "      <th></th>\n",
       "      <th></th>\n",
       "      <th></th>\n",
       "      <th></th>\n",
       "    </tr>\n",
       "  </thead>\n",
       "  <tbody>\n",
       "    <tr>\n",
       "      <th>10758000.0</th>\n",
       "      <td>1.650842e+07</td>\n",
       "      <td>0.999976</td>\n",
       "      <td>177619</td>\n",
       "      <td>0.999977</td>\n",
       "    </tr>\n",
       "    <tr>\n",
       "      <th>10759000.0</th>\n",
       "      <td>1.650861e+07</td>\n",
       "      <td>0.999988</td>\n",
       "      <td>177621</td>\n",
       "      <td>0.999989</td>\n",
       "    </tr>\n",
       "    <tr>\n",
       "      <th>10759000.0</th>\n",
       "      <td>1.650881e+07</td>\n",
       "      <td>1.000000</td>\n",
       "      <td>177623</td>\n",
       "      <td>1.000000</td>\n",
       "    </tr>\n",
       "  </tbody>\n",
       "</table>\n",
       "</div>"
      ],
      "text/plain": [
       "              percap_consum_cumulative  percap_consum_cumulative_pct  \\\n",
       "Household_id                                                           \n",
       "10758000.0                1.650842e+07                      0.999976   \n",
       "10759000.0                1.650861e+07                      0.999988   \n",
       "10759000.0                1.650881e+07                      1.000000   \n",
       "\n",
       "              family_members_cumulative  family_members_cumulative_pct  \n",
       "Household_id                                                            \n",
       "10758000.0                       177619                       0.999977  \n",
       "10759000.0                       177621                       0.999989  \n",
       "10759000.0                       177623                       1.000000  "
      ]
     },
     "execution_count": 91,
     "metadata": {},
     "output_type": "execute_result"
    }
   ],
   "source": [
    "consum_residence_df.iloc[:,-4:].tail(3)"
   ]
  },
  {
   "cell_type": "markdown",
   "metadata": {},
   "source": [
    "### 4.1.1 Plot:"
   ]
  },
  {
   "cell_type": "code",
   "execution_count": 92,
   "metadata": {},
   "outputs": [
    {
     "data": {
      "text/plain": [
       "[<matplotlib.lines.Line2D at 0x7f2fd46e1ba8>]"
      ]
     },
     "execution_count": 92,
     "metadata": {},
     "output_type": "execute_result"
    },
    {
     "data": {
      "image/png": "[encoded data removed]",
      "text/plain": [
       "<Figure size 864x504 with 1 Axes>"
      ]
     },
     "metadata": {
      "image/png": {
       "height": 411,
       "width": 706
      },
      "needs_background": "light"
     },
     "output_type": "display_data"
    }
   ],
   "source": [
    "plt.plot(consum_residence_df['percap_consum_cumulative_pct'],consum_residence_df['family_members_cumulative_pct'])"
   ]
  },
  {
   "cell_type": "markdown",
   "metadata": {},
   "source": [
    "## Gini coefficient calculation"
   ]
  },
  {
   "cell_type": "code",
   "execution_count": 93,
   "metadata": {},
   "outputs": [
    {
     "name": "stdout",
     "output_type": "stream",
     "text": [
      "percap_consum_cumulative_pct    0.150543\n",
      "Name: percap_consum, dtype: float64\n"
     ]
    }
   ],
   "source": [
    "cov_consum_V_consum_pct = consum_residence_df[['percap_consum','percap_consum_cumulative_pct']].cov().iloc[0,1:]\n",
    "mean_cons = np.mean(consum_residence_df['percap_consum'])\n",
    "print((2*cov_consum_V_consum_pct)/mean_cons)"
   ]
  },
  {
   "cell_type": "markdown",
   "metadata": {},
   "source": [
    "# Check answers"
   ]
  },
  {
   "cell_type": "code",
   "execution_count": 75,
   "metadata": {},
   "outputs": [],
   "source": [
    "consum_residence_df[['family_members','total_cons','percap_consum']].to_csv('Data_python.csv')"
   ]
  }
 ],
 "metadata": {
  "hide_code_all_hidden": true,
  "kernelspec": {
   "display_name": "Python 3 (system-wide)",
   "language": "python",
   "name": "python3"
  },
  "language_info": {
   "codemirror_mode": {
    "name": "ipython",
    "version": 3
   },
   "file_extension": ".py",
   "mimetype": "text/x-python",
   "name": "python",
   "nbconvert_exporter": "python",
   "pygments_lexer": "ipython3",
   "version": "3.6.9"
  }
 },
 "nbformat": 4,
 "nbformat_minor": 1
}
