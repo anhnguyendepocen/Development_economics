{
 "cells": [
  {
   "cell_type": "markdown",
   "metadata": {},
   "source": [
    "## A.1.1"
   ]
  },
  {
   "cell_type": "code",
   "execution_count": 1,
   "metadata": {},
   "outputs": [],
   "source": [
    "import pandas as pd\n",
    "import os"
   ]
  },
  {
   "cell_type": "markdown",
   "metadata": {},
   "source": [
    "## A.1.2 Change directory"
   ]
  },
  {
   "cell_type": "code",
   "execution_count": 3,
   "metadata": {},
   "outputs": [],
   "source": [
    "path = os.getcwd()\n",
    "file_loc = path+'/hh02dta_bc'\n",
    "c_ls_path = file_loc+'/c_ls.dta'\n",
    "c_portad_path =  file_loc+'/c_portad.dta'"
   ]
  },
  {
   "cell_type": "markdown",
   "metadata": {},
   "source": [
    "### A.1.3.1 Merge data"
   ]
  },
  {
   "cell_type": "code",
   "execution_count": 5,
   "metadata": {},
   "outputs": [],
   "source": [
    "df = pd.read_stata(c_ls_path)\n",
    "df_size = pd.read_stata(c_portad_path)\n",
    "df_size.set_index(['folio','ls'], inplace=True) #This step is important for merging\n",
    "df.set_index(['folio','ls'], inplace=True) #This step is important for merging"
   ]
  },
  {
   "cell_type": "code",
   "execution_count": 6,
   "metadata": {},
   "outputs": [],
   "source": [
    "merged = pd.merge(df_size, df, left_index=True, right_index=True)"
   ]
  },
  {
   "cell_type": "markdown",
   "metadata": {},
   "source": [
    "## A.2 Examine data"
   ]
  },
  {
   "cell_type": "code",
   "execution_count": 7,
   "metadata": {},
   "outputs": [
    {
     "data": {
      "text/html": [
       "<div>\n",
       "<style scoped>\n",
       "    .dataframe tbody tr th:only-of-type {\n",
       "        vertical-align: middle;\n",
       "    }\n",
       "\n",
       "    .dataframe tbody tr th {\n",
       "        vertical-align: top;\n",
       "    }\n",
       "\n",
       "    .dataframe thead th {\n",
       "        text-align: right;\n",
       "    }\n",
       "</style>\n",
       "<table border=\"1\" class=\"dataframe\">\n",
       "  <thead>\n",
       "    <tr style=\"text-align: right;\">\n",
       "      <th></th>\n",
       "      <th></th>\n",
       "      <th>secuencia</th>\n",
       "      <th>ls00</th>\n",
       "      <th>ls02_1</th>\n",
       "      <th>ls02_2</th>\n",
       "      <th>ls03_1</th>\n",
       "      <th>ls03_21</th>\n",
       "      <th>ls03_22</th>\n",
       "      <th>ls04</th>\n",
       "      <th>ls05_1</th>\n",
       "      <th>ls06</th>\n",
       "      <th>...</th>\n",
       "      <th>ls09</th>\n",
       "      <th>ls10</th>\n",
       "      <th>ls11</th>\n",
       "      <th>ls12</th>\n",
       "      <th>ls13_1</th>\n",
       "      <th>ls13_2</th>\n",
       "      <th>ls14</th>\n",
       "      <th>ls15_1</th>\n",
       "      <th>ls16</th>\n",
       "      <th>ls18</th>\n",
       "    </tr>\n",
       "    <tr>\n",
       "      <th>folio</th>\n",
       "      <th>ls</th>\n",
       "      <th></th>\n",
       "      <th></th>\n",
       "      <th></th>\n",
       "      <th></th>\n",
       "      <th></th>\n",
       "      <th></th>\n",
       "      <th></th>\n",
       "      <th></th>\n",
       "      <th></th>\n",
       "      <th></th>\n",
       "      <th></th>\n",
       "      <th></th>\n",
       "      <th></th>\n",
       "      <th></th>\n",
       "      <th></th>\n",
       "      <th></th>\n",
       "      <th></th>\n",
       "      <th></th>\n",
       "      <th></th>\n",
       "      <th></th>\n",
       "      <th></th>\n",
       "    </tr>\n",
       "  </thead>\n",
       "  <tbody>\n",
       "    <tr>\n",
       "      <th rowspan=\"4\" valign=\"top\">1000.0</th>\n",
       "      <th>1.0</th>\n",
       "      <td>1.0</td>\n",
       "      <td>1.0</td>\n",
       "      <td>1.0</td>\n",
       "      <td>37.0</td>\n",
       "      <td>NaN</td>\n",
       "      <td>NaN</td>\n",
       "      <td>NaN</td>\n",
       "      <td>1.0</td>\n",
       "      <td>1.0</td>\n",
       "      <td>51.0</td>\n",
       "      <td>...</td>\n",
       "      <td>1.0</td>\n",
       "      <td>5.0</td>\n",
       "      <td>2.0</td>\n",
       "      <td>1.0</td>\n",
       "      <td>1.0</td>\n",
       "      <td>32000.0</td>\n",
       "      <td>3.0</td>\n",
       "      <td>6.0</td>\n",
       "      <td>3.0</td>\n",
       "      <td>NaN</td>\n",
       "    </tr>\n",
       "    <tr>\n",
       "      <th>2.0</th>\n",
       "      <td>2.0</td>\n",
       "      <td>2.0</td>\n",
       "      <td>1.0</td>\n",
       "      <td>35.0</td>\n",
       "      <td>NaN</td>\n",
       "      <td>NaN</td>\n",
       "      <td>NaN</td>\n",
       "      <td>3.0</td>\n",
       "      <td>2.0</td>\n",
       "      <td>51.0</td>\n",
       "      <td>...</td>\n",
       "      <td>1.0</td>\n",
       "      <td>5.0</td>\n",
       "      <td>1.0</td>\n",
       "      <td>3.0</td>\n",
       "      <td>NaN</td>\n",
       "      <td>NaN</td>\n",
       "      <td>1.0</td>\n",
       "      <td>NaN</td>\n",
       "      <td>3.0</td>\n",
       "      <td>NaN</td>\n",
       "    </tr>\n",
       "    <tr>\n",
       "      <th>3.0</th>\n",
       "      <td>3.0</td>\n",
       "      <td>3.0</td>\n",
       "      <td>1.0</td>\n",
       "      <td>16.0</td>\n",
       "      <td>NaN</td>\n",
       "      <td>NaN</td>\n",
       "      <td>NaN</td>\n",
       "      <td>3.0</td>\n",
       "      <td>3.0</td>\n",
       "      <td>1.0</td>\n",
       "      <td>...</td>\n",
       "      <td>1.0</td>\n",
       "      <td>6.0</td>\n",
       "      <td>NaN</td>\n",
       "      <td>3.0</td>\n",
       "      <td>NaN</td>\n",
       "      <td>NaN</td>\n",
       "      <td>6.0</td>\n",
       "      <td>0.0</td>\n",
       "      <td>1.0</td>\n",
       "      <td>2.0</td>\n",
       "    </tr>\n",
       "    <tr>\n",
       "      <th>4.0</th>\n",
       "      <td>4.0</td>\n",
       "      <td>4.0</td>\n",
       "      <td>1.0</td>\n",
       "      <td>11.0</td>\n",
       "      <td>NaN</td>\n",
       "      <td>NaN</td>\n",
       "      <td>NaN</td>\n",
       "      <td>1.0</td>\n",
       "      <td>3.0</td>\n",
       "      <td>1.0</td>\n",
       "      <td>...</td>\n",
       "      <td>1.0</td>\n",
       "      <td>NaN</td>\n",
       "      <td>NaN</td>\n",
       "      <td>3.0</td>\n",
       "      <td>NaN</td>\n",
       "      <td>NaN</td>\n",
       "      <td>3.0</td>\n",
       "      <td>4.0</td>\n",
       "      <td>1.0</td>\n",
       "      <td>2.0</td>\n",
       "    </tr>\n",
       "    <tr>\n",
       "      <th>2000.0</th>\n",
       "      <th>1.0</th>\n",
       "      <td>1.0</td>\n",
       "      <td>1.0</td>\n",
       "      <td>1.0</td>\n",
       "      <td>40.0</td>\n",
       "      <td>NaN</td>\n",
       "      <td>NaN</td>\n",
       "      <td>NaN</td>\n",
       "      <td>1.0</td>\n",
       "      <td>1.0</td>\n",
       "      <td>51.0</td>\n",
       "      <td>...</td>\n",
       "      <td>1.0</td>\n",
       "      <td>1.0</td>\n",
       "      <td>2.0</td>\n",
       "      <td>1.0</td>\n",
       "      <td>1.0</td>\n",
       "      <td>43200.0</td>\n",
       "      <td>4.0</td>\n",
       "      <td>3.0</td>\n",
       "      <td>3.0</td>\n",
       "      <td>NaN</td>\n",
       "    </tr>\n",
       "  </tbody>\n",
       "</table>\n",
       "<p>5 rows × 22 columns</p>\n",
       "</div>"
      ],
      "text/plain": [
       "            secuencia  ls00  ls02_1  ls02_2  ls03_1  ls03_21  ls03_22  ls04  \\\n",
       "folio  ls                                                                     \n",
       "1000.0 1.0        1.0   1.0     1.0    37.0     NaN      NaN      NaN   1.0   \n",
       "       2.0        2.0   2.0     1.0    35.0     NaN      NaN      NaN   3.0   \n",
       "       3.0        3.0   3.0     1.0    16.0     NaN      NaN      NaN   3.0   \n",
       "       4.0        4.0   4.0     1.0    11.0     NaN      NaN      NaN   1.0   \n",
       "2000.0 1.0        1.0   1.0     1.0    40.0     NaN      NaN      NaN   1.0   \n",
       "\n",
       "            ls05_1  ls06  ...  ls09  ls10  ls11  ls12  ls13_1   ls13_2  ls14  \\\n",
       "folio  ls                 ...                                                  \n",
       "1000.0 1.0     1.0  51.0  ...   1.0   5.0   2.0   1.0     1.0  32000.0   3.0   \n",
       "       2.0     2.0  51.0  ...   1.0   5.0   1.0   3.0     NaN      NaN   1.0   \n",
       "       3.0     3.0   1.0  ...   1.0   6.0   NaN   3.0     NaN      NaN   6.0   \n",
       "       4.0     3.0   1.0  ...   1.0   NaN   NaN   3.0     NaN      NaN   3.0   \n",
       "2000.0 1.0     1.0  51.0  ...   1.0   1.0   2.0   1.0     1.0  43200.0   4.0   \n",
       "\n",
       "            ls15_1  ls16  ls18  \n",
       "folio  ls                       \n",
       "1000.0 1.0     6.0   3.0   NaN  \n",
       "       2.0     NaN   3.0   NaN  \n",
       "       3.0     0.0   1.0   2.0  \n",
       "       4.0     4.0   1.0   2.0  \n",
       "2000.0 1.0     3.0   3.0   NaN  \n",
       "\n",
       "[5 rows x 22 columns]"
      ]
     },
     "execution_count": 7,
     "metadata": {},
     "output_type": "execute_result"
    }
   ],
   "source": [
    "df.head(5)"
   ]
  },
  {
   "cell_type": "markdown",
   "metadata": {},
   "source": [
    "### A.2.2 Show information on variables"
   ]
  },
  {
   "cell_type": "code",
   "execution_count": 8,
   "metadata": {},
   "outputs": [
    {
     "name": "stdout",
     "output_type": "stream",
     "text": [
      "<class 'pandas.core.frame.DataFrame'>\n",
      "MultiIndex: 35677 entries, (1000.0, 1.0) to (10759000.0, 2.0)\n",
      "Data columns (total 22 columns):\n",
      " #   Column     Non-Null Count  Dtype  \n",
      "---  ------     --------------  -----  \n",
      " 0   secuencia  35677 non-null  float32\n",
      " 1   ls00       35677 non-null  float32\n",
      " 2   ls02_1     35677 non-null  float32\n",
      " 3   ls02_2     35624 non-null  float32\n",
      " 4   ls03_1     53 non-null     float32\n",
      " 5   ls03_21    42 non-null     float32\n",
      " 6   ls03_22    42 non-null     float32\n",
      " 7   ls04       35677 non-null  float32\n",
      " 8   ls05_1     35677 non-null  float32\n",
      " 9   ls06       35677 non-null  float32\n",
      " 10  ls07       35677 non-null  float32\n",
      " 11  ls08       35677 non-null  float32\n",
      " 12  ls09       35677 non-null  float32\n",
      " 13  ls10       25492 non-null  float32\n",
      " 14  ls11       14269 non-null  float32\n",
      " 15  ls12       32923 non-null  float32\n",
      " 16  ls13_1     13098 non-null  float32\n",
      " 17  ls13_2     10626 non-null  float32\n",
      " 18  ls14       32925 non-null  float32\n",
      " 19  ls15_1     25982 non-null  float32\n",
      " 20  ls16       32914 non-null  float32\n",
      " 21  ls18       10525 non-null  float32\n",
      "dtypes: float32(22)\n",
      "memory usage: 4.4 MB\n"
     ]
    }
   ],
   "source": [
    "df.info()"
   ]
  },
  {
   "cell_type": "markdown",
   "metadata": {},
   "source": [
    "## A.3 Drop ages other than 5-14"
   ]
  },
  {
   "cell_type": "code",
   "execution_count": 9,
   "metadata": {},
   "outputs": [],
   "source": [
    "mask = (df['ls02_2']>4) & (df['ls02_2']<15)\n",
    "ages_5to14 = df.loc[mask]"
   ]
  },
  {
   "cell_type": "markdown",
   "metadata": {},
   "source": [
    "### A.3.1 Replace non-attendance number 3 to 0"
   ]
  },
  {
   "cell_type": "code",
   "execution_count": 10,
   "metadata": {},
   "outputs": [],
   "source": [
    "# Python\n",
    "merged['enrolled_dummy'] = merged['ls16'].map({3:0, 1:1})"
   ]
  },
  {
   "cell_type": "markdown",
   "metadata": {},
   "source": [
    "# Q.1\n",
    "## What proportion of children between the ages of 5 and 14 are enrolled in school? "
   ]
  },
  {
   "cell_type": "code",
   "execution_count": 12,
   "metadata": {},
   "outputs": [
    {
     "name": "stderr",
     "output_type": "stream",
     "text": [
      "/usr/local/lib/python3.6/dist-packages/ipykernel/__main__.py:2: SettingWithCopyWarning: \n",
      "A value is trying to be set on a copy of a slice from a DataFrame.\n",
      "Try using .loc[row_indexer,col_indexer] = value instead\n",
      "\n",
      "See the caveats in the documentation: https://pandas.pydata.org/pandas-docs/stable/user_guide/indexing.html#returning-a-view-versus-a-copy\n",
      "  from ipykernel import kernelapp as app\n"
     ]
    },
    {
     "data": {
      "text/html": [
       "<div>\n",
       "<style scoped>\n",
       "    .dataframe tbody tr th:only-of-type {\n",
       "        vertical-align: middle;\n",
       "    }\n",
       "\n",
       "    .dataframe tbody tr th {\n",
       "        vertical-align: top;\n",
       "    }\n",
       "\n",
       "    .dataframe thead th {\n",
       "        text-align: right;\n",
       "    }\n",
       "</style>\n",
       "<table border=\"1\" class=\"dataframe\">\n",
       "  <thead>\n",
       "    <tr style=\"text-align: right;\">\n",
       "      <th></th>\n",
       "      <th>Age</th>\n",
       "      <th>Pct_attendance</th>\n",
       "    </tr>\n",
       "  </thead>\n",
       "  <tbody>\n",
       "    <tr>\n",
       "      <th>0</th>\n",
       "      <td>5.0</td>\n",
       "      <td>0.688976</td>\n",
       "    </tr>\n",
       "    <tr>\n",
       "      <th>1</th>\n",
       "      <td>6.0</td>\n",
       "      <td>0.905685</td>\n",
       "    </tr>\n",
       "    <tr>\n",
       "      <th>2</th>\n",
       "      <td>7.0</td>\n",
       "      <td>0.963777</td>\n",
       "    </tr>\n",
       "    <tr>\n",
       "      <th>3</th>\n",
       "      <td>8.0</td>\n",
       "      <td>0.976932</td>\n",
       "    </tr>\n",
       "    <tr>\n",
       "      <th>4</th>\n",
       "      <td>9.0</td>\n",
       "      <td>0.978035</td>\n",
       "    </tr>\n",
       "    <tr>\n",
       "      <th>5</th>\n",
       "      <td>10.0</td>\n",
       "      <td>0.973626</td>\n",
       "    </tr>\n",
       "    <tr>\n",
       "      <th>6</th>\n",
       "      <td>11.0</td>\n",
       "      <td>0.973684</td>\n",
       "    </tr>\n",
       "    <tr>\n",
       "      <th>7</th>\n",
       "      <td>12.0</td>\n",
       "      <td>0.958951</td>\n",
       "    </tr>\n",
       "    <tr>\n",
       "      <th>8</th>\n",
       "      <td>13.0</td>\n",
       "      <td>0.913237</td>\n",
       "    </tr>\n",
       "    <tr>\n",
       "      <th>9</th>\n",
       "      <td>14.0</td>\n",
       "      <td>0.837153</td>\n",
       "    </tr>\n",
       "  </tbody>\n",
       "</table>\n",
       "</div>"
      ],
      "text/plain": [
       "    Age  Pct_attendance\n",
       "0   5.0        0.688976\n",
       "1   6.0        0.905685\n",
       "2   7.0        0.963777\n",
       "3   8.0        0.976932\n",
       "4   9.0        0.978035\n",
       "5  10.0        0.973626\n",
       "6  11.0        0.973684\n",
       "7  12.0        0.958951\n",
       "8  13.0        0.913237\n",
       "9  14.0        0.837153"
      ]
     },
     "execution_count": 12,
     "metadata": {},
     "output_type": "execute_result"
    }
   ],
   "source": [
    "# Python\n",
    "ages_5to14['enrolled_dummy'] = ages_5to14.ls16.map({3:0, 1:1})\n",
    "q1_answer = ages_5to14.groupby('ls02_2')[('enrolled_dummy')].mean().to_dict()\n",
    "pd.DataFrame({'Age': list(q1_answer.keys()),'Pct_attendance': list(q1_answer.values())})"
   ]
  },
  {
   "cell_type": "markdown",
   "metadata": {},
   "source": [
    "# Q.2\n",
    "## How does the proportion enrolled in school differ by gender? "
   ]
  },
  {
   "cell_type": "code",
   "execution_count": 13,
   "metadata": {},
   "outputs": [
    {
     "name": "stderr",
     "output_type": "stream",
     "text": [
      "/usr/local/lib/python3.6/dist-packages/ipykernel/__main__.py:2: SettingWithCopyWarning: \n",
      "A value is trying to be set on a copy of a slice from a DataFrame.\n",
      "Try using .loc[row_indexer,col_indexer] = value instead\n",
      "\n",
      "See the caveats in the documentation: https://pandas.pydata.org/pandas-docs/stable/user_guide/indexing.html#returning-a-view-versus-a-copy\n",
      "  from ipykernel import kernelapp as app\n"
     ]
    },
    {
     "data": {
      "text/html": [
       "<div>\n",
       "<style scoped>\n",
       "    .dataframe tbody tr th:only-of-type {\n",
       "        vertical-align: middle;\n",
       "    }\n",
       "\n",
       "    .dataframe tbody tr th {\n",
       "        vertical-align: top;\n",
       "    }\n",
       "\n",
       "    .dataframe thead th {\n",
       "        text-align: right;\n",
       "    }\n",
       "</style>\n",
       "<table border=\"1\" class=\"dataframe\">\n",
       "  <thead>\n",
       "    <tr style=\"text-align: right;\">\n",
       "      <th></th>\n",
       "      <th>Gender</th>\n",
       "      <th>Pct_attendance</th>\n",
       "    </tr>\n",
       "  </thead>\n",
       "  <tbody>\n",
       "    <tr>\n",
       "      <th>0</th>\n",
       "      <td>Female</td>\n",
       "      <td>0.915700</td>\n",
       "    </tr>\n",
       "    <tr>\n",
       "      <th>1</th>\n",
       "      <td>Male</td>\n",
       "      <td>0.924202</td>\n",
       "    </tr>\n",
       "  </tbody>\n",
       "</table>\n",
       "</div>"
      ],
      "text/plain": [
       "   Gender  Pct_attendance\n",
       "0  Female        0.915700\n",
       "1    Male        0.924202"
      ]
     },
     "execution_count": 13,
     "metadata": {},
     "output_type": "execute_result"
    }
   ],
   "source": [
    "# Python\n",
    "ages_5to14['Sex_dummy'] = ages_5to14.ls04.map({1:'Male', 3:'Female'})\n",
    "q2_answer = ages_5to14.groupby('Sex_dummy')[('enrolled_dummy')].mean().to_frame()\n",
    "q2_answer.reset_index(inplace=True)\n",
    "q2_answer.columns = ['Gender', 'Pct_attendance']\n",
    "q2_answer"
   ]
  },
  {
   "cell_type": "markdown",
   "metadata": {},
   "source": [
    "# Q.3\n",
    "## How does the proportion enrolled in school differ by size of zone of residence? \n",
    "  - Provide a table or graph. \n",
    "\n",
    "Tip:  Estrato contains the size of community and is located in c_portad.dta from the Control Book. \n",
    "- Estrato=1 Households located in localities with more than 100,000 inhabitants.\n",
    "- Estrato=2  Households located in localities with populations between 15,000 and 100,000.\n",
    "- Estrato=3    Households located in towns with a population between 2,500 and 15,000."
   ]
  },
  {
   "cell_type": "code",
   "execution_count": 14,
   "metadata": {},
   "outputs": [
    {
     "data": {
      "text/html": [
       "<div>\n",
       "<style scoped>\n",
       "    .dataframe tbody tr th:only-of-type {\n",
       "        vertical-align: middle;\n",
       "    }\n",
       "\n",
       "    .dataframe tbody tr th {\n",
       "        vertical-align: top;\n",
       "    }\n",
       "\n",
       "    .dataframe thead th {\n",
       "        text-align: right;\n",
       "    }\n",
       "</style>\n",
       "<table border=\"1\" class=\"dataframe\">\n",
       "  <thead>\n",
       "    <tr style=\"text-align: right;\">\n",
       "      <th></th>\n",
       "      <th>Pct_attendance</th>\n",
       "    </tr>\n",
       "    <tr>\n",
       "      <th>City size</th>\n",
       "      <th></th>\n",
       "    </tr>\n",
       "  </thead>\n",
       "  <tbody>\n",
       "    <tr>\n",
       "      <th>100k</th>\n",
       "      <td>0.049459</td>\n",
       "    </tr>\n",
       "    <tr>\n",
       "      <th>100k-15k</th>\n",
       "      <td>0.039440</td>\n",
       "    </tr>\n",
       "    <tr>\n",
       "      <th>15k-2.5k</th>\n",
       "      <td>0.014790</td>\n",
       "    </tr>\n",
       "    <tr>\n",
       "      <th>&lt;2.5k</th>\n",
       "      <td>0.013126</td>\n",
       "    </tr>\n",
       "  </tbody>\n",
       "</table>\n",
       "</div>"
      ],
      "text/plain": [
       "           Pct_attendance\n",
       "City size                \n",
       "100k             0.049459\n",
       "100k-15k         0.039440\n",
       "15k-2.5k         0.014790\n",
       "<2.5k            0.013126"
      ]
     },
     "execution_count": 14,
     "metadata": {},
     "output_type": "execute_result"
    }
   ],
   "source": [
    "# Python\n",
    "merged['enrolled_dummy'] = merged['ls16'].map({3:0, 1:1})\n",
    "q3_answer = merged.groupby('estrato')['enrolled_dummy'].mean().to_dict()\n",
    "q3_answer = pd.DataFrame(list(q3_answer.values()), \n",
    "index=['100k', '100k-15k', '15k-2.5k', '<2.5k'],\n",
    "columns= ['Pct_attendance'])\n",
    "q3_answer.index.name = 'City size'\n",
    "q3_answer"
   ]
  },
  {
   "cell_type": "markdown",
   "metadata": {},
   "source": [
    "# Q.5 \n",
    "## What proportion of children are working outside the home? \n",
    "- Provide evidence on whether children who work outside the home less likely to attend school. \n",
    "- Compare this evidence for boys and girls and by size of zone of residence. "
   ]
  },
  {
   "cell_type": "code",
   "execution_count": 15,
   "metadata": {},
   "outputs": [
    {
     "data": {
      "text/html": [
       "<div>\n",
       "<style scoped>\n",
       "    .dataframe tbody tr th:only-of-type {\n",
       "        vertical-align: middle;\n",
       "    }\n",
       "\n",
       "    .dataframe tbody tr th {\n",
       "        vertical-align: top;\n",
       "    }\n",
       "\n",
       "    .dataframe thead th {\n",
       "        text-align: right;\n",
       "    }\n",
       "</style>\n",
       "<table border=\"1\" class=\"dataframe\">\n",
       "  <thead>\n",
       "    <tr style=\"text-align: right;\">\n",
       "      <th></th>\n",
       "      <th>Pct_attendance</th>\n",
       "    </tr>\n",
       "  </thead>\n",
       "  <tbody>\n",
       "    <tr>\n",
       "      <th>Worker</th>\n",
       "      <td>0.03231</td>\n",
       "    </tr>\n",
       "    <tr>\n",
       "      <th>Non-worker</th>\n",
       "      <td>0.02853</td>\n",
       "    </tr>\n",
       "  </tbody>\n",
       "</table>\n",
       "</div>"
      ],
      "text/plain": [
       "            Pct_attendance\n",
       "Worker             0.03231\n",
       "Non-worker         0.02853"
      ]
     },
     "execution_count": 15,
     "metadata": {},
     "output_type": "execute_result"
    }
   ],
   "source": [
    "# Python\n",
    "merged['Worked_dummy'] = merged.ls12.map({1:1, 3:0})\n",
    "q5_answer = merged.groupby('Worked_dummy')['enrolled_dummy'].mean().to_dict()\n",
    "q5_answer = pd.DataFrame(list(q5_answer.values()), index=['Worker','Non-worker'],columns= ['Pct_attendance'])\n",
    "q5_answer "
   ]
  },
  {
   "cell_type": "code",
   "execution_count": null,
   "metadata": {},
   "outputs": [],
   "source": []
  }
 ],
 "metadata": {
  "kernelspec": {
   "display_name": "Python 3 (system-wide)",
   "language": "python",
   "name": "python3"
  },
  "language_info": {
   "codemirror_mode": {
    "name": "ipython",
    "version": 3
   },
   "file_extension": ".py",
   "mimetype": "text/x-python",
   "name": "python",
   "nbconvert_exporter": "python",
   "pygments_lexer": "ipython3",
   "version": "3.6.9"
  }
 },
 "nbformat": 4,
 "nbformat_minor": 4
}
