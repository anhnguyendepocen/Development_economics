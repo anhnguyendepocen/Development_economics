{
 "cells": [
  {
   "cell_type": "markdown",
   "metadata": {},
   "source": [
    "## A.1.1"
   ]
  },
  {
   "cell_type": "code",
   "execution_count": 9,
   "metadata": {},
   "outputs": [],
   "source": [
    "library(foreign)"
   ]
  },
  {
   "cell_type": "markdown",
   "metadata": {},
   "source": [
    "## A.1.2 Change directory"
   ]
  },
  {
   "cell_type": "code",
   "execution_count": 10,
   "metadata": {},
   "outputs": [],
   "source": [
    "path = getwd()\n",
    "file_loc = paste(path,'/hh02dta_bc', sep=\"\")\n",
    "c_ls_path = paste(file_loc, '/c_ls.dta',sep=\"\")\n",
    "c_portad_path = paste(file_loc, '/c_portad.dta',sep=\"\")"
   ]
  },
  {
   "cell_type": "markdown",
   "metadata": {},
   "source": [
    "### A.1.3.1 Merge data"
   ]
  },
  {
   "cell_type": "code",
   "execution_count": 11,
   "metadata": {},
   "outputs": [],
   "source": [
    "df = read.dta(c_ls_path)\n",
    "df_size = read.dta(c_portad_path)"
   ]
  },
  {
   "cell_type": "code",
   "execution_count": 12,
   "metadata": {},
   "outputs": [],
   "source": [
    "merged = merge(df,df_size, by=\"folio\")"
   ]
  },
  {
   "cell_type": "markdown",
   "metadata": {},
   "source": [
    "## A.2 Examine data"
   ]
  },
  {
   "cell_type": "code",
   "execution_count": 13,
   "metadata": {},
   "outputs": [
    {
     "data": {
      "text/html": [
       "<table>\n",
       "<caption>A data.frame: 5 × 24</caption>\n",
       "<thead>\n",
       "\t<tr><th></th><th scope=col>folio</th><th scope=col>ls</th><th scope=col>secuencia</th><th scope=col>ls00</th><th scope=col>ls02_1</th><th scope=col>ls02_2</th><th scope=col>ls03_1</th><th scope=col>ls03_21</th><th scope=col>ls03_22</th><th scope=col>ls04</th><th scope=col>⋯</th><th scope=col>ls09</th><th scope=col>ls10</th><th scope=col>ls11</th><th scope=col>ls12</th><th scope=col>ls13_1</th><th scope=col>ls13_2</th><th scope=col>ls14</th><th scope=col>ls15_1</th><th scope=col>ls16</th><th scope=col>ls18</th></tr>\n",
       "\t<tr><th></th><th scope=col>&lt;dbl&gt;</th><th scope=col>&lt;dbl&gt;</th><th scope=col>&lt;dbl&gt;</th><th scope=col>&lt;dbl&gt;</th><th scope=col>&lt;dbl&gt;</th><th scope=col>&lt;dbl&gt;</th><th scope=col>&lt;dbl&gt;</th><th scope=col>&lt;dbl&gt;</th><th scope=col>&lt;dbl&gt;</th><th scope=col>&lt;dbl&gt;</th><th scope=col>⋯</th><th scope=col>&lt;dbl&gt;</th><th scope=col>&lt;dbl&gt;</th><th scope=col>&lt;dbl&gt;</th><th scope=col>&lt;dbl&gt;</th><th scope=col>&lt;dbl&gt;</th><th scope=col>&lt;dbl&gt;</th><th scope=col>&lt;dbl&gt;</th><th scope=col>&lt;dbl&gt;</th><th scope=col>&lt;dbl&gt;</th><th scope=col>&lt;dbl&gt;</th></tr>\n",
       "</thead>\n",
       "<tbody>\n",
       "\t<tr><th scope=row>1</th><td>1000</td><td>1</td><td>1</td><td>1</td><td>1</td><td>37</td><td>NA</td><td>NA</td><td>NA</td><td>1</td><td>⋯</td><td>1</td><td> 5</td><td> 2</td><td>1</td><td> 1</td><td>32000</td><td>3</td><td> 6</td><td>3</td><td>NA</td></tr>\n",
       "\t<tr><th scope=row>2</th><td>1000</td><td>2</td><td>2</td><td>2</td><td>1</td><td>35</td><td>NA</td><td>NA</td><td>NA</td><td>3</td><td>⋯</td><td>1</td><td> 5</td><td> 1</td><td>3</td><td>NA</td><td>   NA</td><td>1</td><td>NA</td><td>3</td><td>NA</td></tr>\n",
       "\t<tr><th scope=row>3</th><td>1000</td><td>3</td><td>3</td><td>3</td><td>1</td><td>16</td><td>NA</td><td>NA</td><td>NA</td><td>3</td><td>⋯</td><td>1</td><td> 6</td><td>NA</td><td>3</td><td>NA</td><td>   NA</td><td>6</td><td> 0</td><td>1</td><td> 2</td></tr>\n",
       "\t<tr><th scope=row>4</th><td>1000</td><td>4</td><td>4</td><td>4</td><td>1</td><td>11</td><td>NA</td><td>NA</td><td>NA</td><td>1</td><td>⋯</td><td>1</td><td>NA</td><td>NA</td><td>3</td><td>NA</td><td>   NA</td><td>3</td><td> 4</td><td>1</td><td> 2</td></tr>\n",
       "\t<tr><th scope=row>5</th><td>2000</td><td>1</td><td>1</td><td>1</td><td>1</td><td>40</td><td>NA</td><td>NA</td><td>NA</td><td>1</td><td>⋯</td><td>1</td><td> 1</td><td> 2</td><td>1</td><td> 1</td><td>43200</td><td>4</td><td> 3</td><td>3</td><td>NA</td></tr>\n",
       "</tbody>\n",
       "</table>\n"
      ],
      "text/latex": [
       "A data.frame: 5 × 24\n",
       "\\begin{tabular}{r|lllllllllllllllllllll}\n",
       "  & folio & ls & secuencia & ls00 & ls02\\_1 & ls02\\_2 & ls03\\_1 & ls03\\_21 & ls03\\_22 & ls04 & ⋯ & ls09 & ls10 & ls11 & ls12 & ls13\\_1 & ls13\\_2 & ls14 & ls15\\_1 & ls16 & ls18\\\\\n",
       "  & <dbl> & <dbl> & <dbl> & <dbl> & <dbl> & <dbl> & <dbl> & <dbl> & <dbl> & <dbl> & ⋯ & <dbl> & <dbl> & <dbl> & <dbl> & <dbl> & <dbl> & <dbl> & <dbl> & <dbl> & <dbl>\\\\\n",
       "\\hline\n",
       "\t1 & 1000 & 1 & 1 & 1 & 1 & 37 & NA & NA & NA & 1 & ⋯ & 1 &  5 &  2 & 1 &  1 & 32000 & 3 &  6 & 3 & NA\\\\\n",
       "\t2 & 1000 & 2 & 2 & 2 & 1 & 35 & NA & NA & NA & 3 & ⋯ & 1 &  5 &  1 & 3 & NA &    NA & 1 & NA & 3 & NA\\\\\n",
       "\t3 & 1000 & 3 & 3 & 3 & 1 & 16 & NA & NA & NA & 3 & ⋯ & 1 &  6 & NA & 3 & NA &    NA & 6 &  0 & 1 &  2\\\\\n",
       "\t4 & 1000 & 4 & 4 & 4 & 1 & 11 & NA & NA & NA & 1 & ⋯ & 1 & NA & NA & 3 & NA &    NA & 3 &  4 & 1 &  2\\\\\n",
       "\t5 & 2000 & 1 & 1 & 1 & 1 & 40 & NA & NA & NA & 1 & ⋯ & 1 &  1 &  2 & 1 &  1 & 43200 & 4 &  3 & 3 & NA\\\\\n",
       "\\end{tabular}\n"
      ],
      "text/markdown": [
       "\n",
       "A data.frame: 5 × 24\n",
       "\n",
       "| <!--/--> | folio &lt;dbl&gt; | ls &lt;dbl&gt; | secuencia &lt;dbl&gt; | ls00 &lt;dbl&gt; | ls02_1 &lt;dbl&gt; | ls02_2 &lt;dbl&gt; | ls03_1 &lt;dbl&gt; | ls03_21 &lt;dbl&gt; | ls03_22 &lt;dbl&gt; | ls04 &lt;dbl&gt; | ⋯ ⋯ | ls09 &lt;dbl&gt; | ls10 &lt;dbl&gt; | ls11 &lt;dbl&gt; | ls12 &lt;dbl&gt; | ls13_1 &lt;dbl&gt; | ls13_2 &lt;dbl&gt; | ls14 &lt;dbl&gt; | ls15_1 &lt;dbl&gt; | ls16 &lt;dbl&gt; | ls18 &lt;dbl&gt; |\n",
       "|---|---|---|---|---|---|---|---|---|---|---|---|---|---|---|---|---|---|---|---|---|---|\n",
       "| 1 | 1000 | 1 | 1 | 1 | 1 | 37 | NA | NA | NA | 1 | ⋯ | 1 |  5 |  2 | 1 |  1 | 32000 | 3 |  6 | 3 | NA |\n",
       "| 2 | 1000 | 2 | 2 | 2 | 1 | 35 | NA | NA | NA | 3 | ⋯ | 1 |  5 |  1 | 3 | NA |    NA | 1 | NA | 3 | NA |\n",
       "| 3 | 1000 | 3 | 3 | 3 | 1 | 16 | NA | NA | NA | 3 | ⋯ | 1 |  6 | NA | 3 | NA |    NA | 6 |  0 | 1 |  2 |\n",
       "| 4 | 1000 | 4 | 4 | 4 | 1 | 11 | NA | NA | NA | 1 | ⋯ | 1 | NA | NA | 3 | NA |    NA | 3 |  4 | 1 |  2 |\n",
       "| 5 | 2000 | 1 | 1 | 1 | 1 | 40 | NA | NA | NA | 1 | ⋯ | 1 |  1 |  2 | 1 |  1 | 43200 | 4 |  3 | 3 | NA |\n",
       "\n"
      ],
      "text/plain": [
       "  folio ls secuencia ls00 ls02_1 ls02_2 ls03_1 ls03_21 ls03_22 ls04 ⋯ ls09 ls10\n",
       "1 1000  1  1         1    1      37     NA     NA      NA      1    ⋯ 1     5  \n",
       "2 1000  2  2         2    1      35     NA     NA      NA      3    ⋯ 1     5  \n",
       "3 1000  3  3         3    1      16     NA     NA      NA      3    ⋯ 1     6  \n",
       "4 1000  4  4         4    1      11     NA     NA      NA      1    ⋯ 1    NA  \n",
       "5 2000  1  1         1    1      40     NA     NA      NA      1    ⋯ 1     1  \n",
       "  ls11 ls12 ls13_1 ls13_2 ls14 ls15_1 ls16 ls18\n",
       "1  2   1     1     32000  3     6     3    NA  \n",
       "2  1   3    NA        NA  1    NA     3    NA  \n",
       "3 NA   3    NA        NA  6     0     1     2  \n",
       "4 NA   3    NA        NA  3     4     1     2  \n",
       "5  2   1     1     43200  4     3     3    NA  "
      ]
     },
     "metadata": {},
     "output_type": "display_data"
    }
   ],
   "source": [
    "head(df, 5)"
   ]
  },
  {
   "cell_type": "markdown",
   "metadata": {},
   "source": [
    "### A.2.2 Show information on variables"
   ]
  },
  {
   "cell_type": "code",
   "execution_count": 14,
   "metadata": {},
   "outputs": [
    {
     "name": "stdout",
     "output_type": "stream",
     "text": [
      "'data.frame':\t35677 obs. of  24 variables:\n",
      " $ folio    : num  1000 1000 1000 1000 2000 2000 2000 2000 2000 3000 ...\n",
      " $ ls       : num  1 2 3 4 1 2 3 4 5 1 ...\n",
      " $ secuencia: num  1 2 3 4 1 2 3 4 5 1 ...\n",
      " $ ls00     : num  1 2 3 4 1 2 3 4 5 1 ...\n",
      " $ ls02_1   : num  1 1 1 1 1 1 1 1 1 1 ...\n",
      " $ ls02_2   : num  37 35 16 11 40 42 19 17 6 48 ...\n",
      " $ ls03_1   : num  NA NA NA NA NA NA NA NA NA NA ...\n",
      " $ ls03_21  : num  NA NA NA NA NA NA NA NA NA NA ...\n",
      " $ ls03_22  : num  NA NA NA NA NA NA NA NA NA NA ...\n",
      " $ ls04     : num  1 3 3 1 1 3 3 3 1 1 ...\n",
      " $ ls05_1   : num  1 2 3 3 1 2 3 3 13 1 ...\n",
      " $ ls06     : num  51 51 1 1 51 51 1 1 51 51 ...\n",
      " $ ls07     : num  51 51 2 2 51 51 2 2 51 8 ...\n",
      " $ ls08     : num  99 99 99 2 99 99 99 99 2 99 ...\n",
      " $ ls09     : num  1 1 1 1 1 1 1 1 1 1 ...\n",
      " $ ls10     : num  5 5 6 NA 1 1 6 6 NA 5 ...\n",
      " $ ls11     : num  2 1 NA NA 2 1 NA NA NA 2 ...\n",
      " $ ls12     : num  1 3 3 3 1 1 3 3 3 1 ...\n",
      " $ ls13_1   : num  1 NA NA NA 1 1 NA NA NA 1 ...\n",
      " $ ls13_2   : num  32000 NA NA NA 43200 4800 NA NA NA 26000 ...\n",
      " $ ls14     : num  3 1 6 3 4 4 6 6 2 3 ...\n",
      " $ ls15_1   : num  6 NA 0 4 3 3 3 1 NA 3 ...\n",
      " $ ls16     : num  3 3 1 1 3 3 3 1 1 3 ...\n",
      " $ ls18     : num  NA NA 2 2 NA NA NA 1 1 NA ...\n",
      " - attr(*, \"datalabel\")= chr \"VERSION (ene 19)\"\n",
      " - attr(*, \"time.stamp\")= chr \"20 Dec 2004 19:18\"\n",
      " - attr(*, \"formats\")= chr  \"%9.0g\" \"%9.0g\" \"%9.0g\" \"%9.0g\" ...\n",
      " - attr(*, \"types\")= int  254 254 254 254 254 254 254 254 254 254 ...\n",
      " - attr(*, \"val.labels\")= chr  \"\" \"\" \"\" \"\" ...\n",
      " - attr(*, \"var.labels\")= chr  \"HOUSEHOLD ID\" \"INDIVIDUAL ID\" \"SEQUENCE\" \"INDIVIDUAL ID\" ...\n",
      " - attr(*, \"version\")= int 8\n"
     ]
    }
   ],
   "source": [
    "str(df)"
   ]
  },
  {
   "cell_type": "markdown",
   "metadata": {},
   "source": [
    "## A.3 Drop ages other than 5-14"
   ]
  },
  {
   "cell_type": "code",
   "execution_count": 15,
   "metadata": {},
   "outputs": [],
   "source": [
    "ages_5to14 <- df[which(df$ls02_2>4 & df$ls02_2<15),]"
   ]
  },
  {
   "cell_type": "markdown",
   "metadata": {},
   "source": [
    "### A.3.1 Replace non-attendance number 3 to 0"
   ]
  },
  {
   "cell_type": "code",
   "execution_count": 16,
   "metadata": {},
   "outputs": [],
   "source": [
    "ages_5to14$ls16[ages_5to14$ls16==3]=0"
   ]
  },
  {
   "cell_type": "markdown",
   "metadata": {},
   "source": [
    "# Q.1\n",
    "## What proportion of children between the ages of 5 and 14 are enrolled in school? "
   ]
  },
  {
   "cell_type": "code",
   "execution_count": 21,
   "metadata": {},
   "outputs": [
    {
     "data": {
      "text/html": [
       "<table>\n",
       "<caption>A data.frame: 10 × 3</caption>\n",
       "<thead>\n",
       "\t<tr><th></th><th scope=col>Attend</th><th scope=col>Non_attend</th><th scope=col>enrolled_pct</th></tr>\n",
       "\t<tr><th></th><th scope=col>&lt;int&gt;</th><th scope=col>&lt;int&gt;</th><th scope=col>&lt;chr&gt;</th></tr>\n",
       "</thead>\n",
       "<tbody>\n",
       "\t<tr><th scope=row>5</th><td>237</td><td>525</td><td>31.1 % </td></tr>\n",
       "\t<tr><th scope=row>6</th><td> 73</td><td>701</td><td>9.43 % </td></tr>\n",
       "\t<tr><th scope=row>7</th><td> 28</td><td>745</td><td>3.62 % </td></tr>\n",
       "\t<tr><th scope=row>8</th><td> 20</td><td>847</td><td>2.31 % </td></tr>\n",
       "\t<tr><th scope=row>9</th><td> 19</td><td>846</td><td>2.2 %  </td></tr>\n",
       "\t<tr><th scope=row>10</th><td> 24</td><td>886</td><td>2.64 % </td></tr>\n",
       "\t<tr><th scope=row>11</th><td> 22</td><td>814</td><td>2.63 % </td></tr>\n",
       "\t<tr><th scope=row>12</th><td> 36</td><td>841</td><td>4.1 %  </td></tr>\n",
       "\t<tr><th scope=row>13</th><td> 78</td><td>821</td><td>8.68 % </td></tr>\n",
       "\t<tr><th scope=row>14</th><td>135</td><td>694</td><td>16.28 %</td></tr>\n",
       "</tbody>\n",
       "</table>\n"
      ],
      "text/latex": [
       "A data.frame: 10 × 3\n",
       "\\begin{tabular}{r|lll}\n",
       "  & Attend & Non\\_attend & enrolled\\_pct\\\\\n",
       "  & <int> & <int> & <chr>\\\\\n",
       "\\hline\n",
       "\t5 & 237 & 525 & 31.1 \\% \\\\\n",
       "\t6 &  73 & 701 & 9.43 \\% \\\\\n",
       "\t7 &  28 & 745 & 3.62 \\% \\\\\n",
       "\t8 &  20 & 847 & 2.31 \\% \\\\\n",
       "\t9 &  19 & 846 & 2.2 \\%  \\\\\n",
       "\t10 &  24 & 886 & 2.64 \\% \\\\\n",
       "\t11 &  22 & 814 & 2.63 \\% \\\\\n",
       "\t12 &  36 & 841 & 4.1 \\%  \\\\\n",
       "\t13 &  78 & 821 & 8.68 \\% \\\\\n",
       "\t14 & 135 & 694 & 16.28 \\%\\\\\n",
       "\\end{tabular}\n"
      ],
      "text/markdown": [
       "\n",
       "A data.frame: 10 × 3\n",
       "\n",
       "| <!--/--> | Attend &lt;int&gt; | Non_attend &lt;int&gt; | enrolled_pct &lt;chr&gt; |\n",
       "|---|---|---|---|\n",
       "| 5 | 237 | 525 | 31.1 %  |\n",
       "| 6 |  73 | 701 | 9.43 %  |\n",
       "| 7 |  28 | 745 | 3.62 %  |\n",
       "| 8 |  20 | 847 | 2.31 %  |\n",
       "| 9 |  19 | 846 | 2.2 %   |\n",
       "| 10 |  24 | 886 | 2.64 %  |\n",
       "| 11 |  22 | 814 | 2.63 %  |\n",
       "| 12 |  36 | 841 | 4.1 %   |\n",
       "| 13 |  78 | 821 | 8.68 %  |\n",
       "| 14 | 135 | 694 | 16.28 % |\n",
       "\n"
      ],
      "text/plain": [
       "   Attend Non_attend enrolled_pct\n",
       "5  237    525        31.1 %      \n",
       "6   73    701        9.43 %      \n",
       "7   28    745        3.62 %      \n",
       "8   20    847        2.31 %      \n",
       "9   19    846        2.2 %       \n",
       "10  24    886        2.64 %      \n",
       "11  22    814        2.63 %      \n",
       "12  36    841        4.1 %       \n",
       "13  78    821        8.68 %      \n",
       "14 135    694        16.28 %     "
      ]
     },
     "metadata": {},
     "output_type": "display_data"
    }
   ],
   "source": [
    "q1_answer <- as.data.frame.matrix(table(ages_5to14$ls02_2, ages_5to14$ls16))\n",
    "colnames(q1_answer)=c(\"Attend\",\"Non_attend\")\n",
    "q1_answer$enrolled_pct <- paste(round(q1_answer$Attend/(q1_answer$Attend+q1_answer$Non_attend)*100, 2), \"%\")\n",
    "q1_answer"
   ]
  },
  {
   "cell_type": "markdown",
   "metadata": {},
   "source": [
    "# Q.2\n",
    "## How does the proportion enrolled in school differ by gender? "
   ]
  },
  {
   "cell_type": "code",
   "execution_count": 27,
   "metadata": {},
   "outputs": [
    {
     "data": {
      "text/html": [
       "<table>\n",
       "<caption>A data.frame: 2 × 3</caption>\n",
       "<thead>\n",
       "\t<tr><th></th><th scope=col>Attend</th><th scope=col>Non_attend</th><th scope=col>enrolled_pct</th></tr>\n",
       "\t<tr><th></th><th scope=col>&lt;int&gt;</th><th scope=col>&lt;int&gt;</th><th scope=col>&lt;chr&gt;</th></tr>\n",
       "</thead>\n",
       "<tbody>\n",
       "\t<tr><th scope=row>Male</th><td>316</td><td>3853</td><td>7.58 %</td></tr>\n",
       "\t<tr><th scope=row>Female</th><td>356</td><td>3867</td><td>8.43 %</td></tr>\n",
       "</tbody>\n",
       "</table>\n"
      ],
      "text/latex": [
       "A data.frame: 2 × 3\n",
       "\\begin{tabular}{r|lll}\n",
       "  & Attend & Non\\_attend & enrolled\\_pct\\\\\n",
       "  & <int> & <int> & <chr>\\\\\n",
       "\\hline\n",
       "\tMale & 316 & 3853 & 7.58 \\%\\\\\n",
       "\tFemale & 356 & 3867 & 8.43 \\%\\\\\n",
       "\\end{tabular}\n"
      ],
      "text/markdown": [
       "\n",
       "A data.frame: 2 × 3\n",
       "\n",
       "| <!--/--> | Attend &lt;int&gt; | Non_attend &lt;int&gt; | enrolled_pct &lt;chr&gt; |\n",
       "|---|---|---|---|\n",
       "| Male | 316 | 3853 | 7.58 % |\n",
       "| Female | 356 | 3867 | 8.43 % |\n",
       "\n"
      ],
      "text/plain": [
       "       Attend Non_attend enrolled_pct\n",
       "Male   316    3853       7.58 %      \n",
       "Female 356    3867       8.43 %      "
      ]
     },
     "metadata": {},
     "output_type": "display_data"
    }
   ],
   "source": [
    "q2_answer <- as.data.frame.matrix(table(ages_5to14$ls04, ages_5to14$ls16))\n",
    "colnames(q2_answer)=c(\"Attend\",\"Non_attend\")\n",
    "q2_answer$enrolled_pct <- paste(round(q2_answer$Attend/(q2_answer$Attend+q2_answer$Non_attend)*100, 2), \"%\")\n",
    "rownames(q2_answer) <- c(\"Male\",\"Female\")\n",
    "q2_answer"
   ]
  },
  {
   "cell_type": "markdown",
   "metadata": {},
   "source": [
    "# Q.3\n",
    "## How does the proportion enrolled in school differ by size of zone of residence? \n",
    "  - Provide a table or graph. \n",
    "\n",
    "Tip:  Estrato contains the size of community and is located in c_portad.dta from the Control Book. \n",
    "- Estrato=1 Households located in localities with more than 100,000 inhabitants.\n",
    "- Estrato=2  Households located in localities with populations between 15,000 and 100,000.\n",
    "- Estrato=3    Households located in towns with a population between 2,500 and 15,000."
   ]
  },
  {
   "cell_type": "code",
   "execution_count": 29,
   "metadata": {},
   "outputs": [
    {
     "data": {
      "text/html": [
       "<table>\n",
       "<caption>A data.frame: 4 × 3</caption>\n",
       "<thead>\n",
       "\t<tr><th></th><th scope=col>Attend</th><th scope=col>Non_attend</th><th scope=col>enrolled_pct</th></tr>\n",
       "\t<tr><th></th><th scope=col>&lt;int&gt;</th><th scope=col>&lt;int&gt;</th><th scope=col>&lt;chr&gt;</th></tr>\n",
       "</thead>\n",
       "<tbody>\n",
       "\t<tr><th scope=row>100k</th><td>4036</td><td>8732</td><td>31.61 %</td></tr>\n",
       "\t<tr><th scope=row>100k-15k</th><td> 982</td><td>1998</td><td>32.95 %</td></tr>\n",
       "\t<tr><th scope=row>15k-2.5k</th><td>1102</td><td>2374</td><td>31.7 % </td></tr>\n",
       "\t<tr><th scope=row>&lt;2.5k</th><td>4379</td><td>9304</td><td>32 %   </td></tr>\n",
       "</tbody>\n",
       "</table>\n"
      ],
      "text/latex": [
       "A data.frame: 4 × 3\n",
       "\\begin{tabular}{r|lll}\n",
       "  & Attend & Non\\_attend & enrolled\\_pct\\\\\n",
       "  & <int> & <int> & <chr>\\\\\n",
       "\\hline\n",
       "\t100k & 4036 & 8732 & 31.61 \\%\\\\\n",
       "\t100k-15k &  982 & 1998 & 32.95 \\%\\\\\n",
       "\t15k-2.5k & 1102 & 2374 & 31.7 \\% \\\\\n",
       "\t<2.5k & 4379 & 9304 & 32 \\%   \\\\\n",
       "\\end{tabular}\n"
      ],
      "text/markdown": [
       "\n",
       "A data.frame: 4 × 3\n",
       "\n",
       "| <!--/--> | Attend &lt;int&gt; | Non_attend &lt;int&gt; | enrolled_pct &lt;chr&gt; |\n",
       "|---|---|---|---|\n",
       "| 100k | 4036 | 8732 | 31.61 % |\n",
       "| 100k-15k |  982 | 1998 | 32.95 % |\n",
       "| 15k-2.5k | 1102 | 2374 | 31.7 %  |\n",
       "| &lt;2.5k | 4379 | 9304 | 32 %    |\n",
       "\n"
      ],
      "text/plain": [
       "         Attend Non_attend enrolled_pct\n",
       "100k     4036   8732       31.61 %     \n",
       "100k-15k  982   1998       32.95 %     \n",
       "15k-2.5k 1102   2374       31.7 %      \n",
       "<2.5k    4379   9304       32 %        "
      ]
     },
     "metadata": {},
     "output_type": "display_data"
    }
   ],
   "source": [
    "# R\n",
    "q3_answer <- as.data.frame.matrix(table(merged$estrato, merged$ls16))\n",
    "colnames(q3_answer)=c(\"Attend\",\"Non_attend\")\n",
    "q3_answer$enrolled_pct <- paste(round(q3_answer$Attend/(q3_answer$Attend+q3_answer$Non_attend)*100, 2), \"%\")\n",
    "rownames(q3_answer) <- c('100k', '100k-15k', '15k-2.5k', '<2.5k')\n",
    "q3_answer"
   ]
  },
  {
   "cell_type": "markdown",
   "metadata": {},
   "source": [
    "# Q.5 \n",
    "## What proportion of children are working outside the home? \n",
    "- Provide evidence on whether children who work outside the home less likely to attend school. \n",
    "- Compare this evidence for boys and girls and by size of zone of residence. "
   ]
  },
  {
   "cell_type": "code",
   "execution_count": 31,
   "metadata": {},
   "outputs": [
    {
     "data": {
      "text/html": [
       "<table>\n",
       "<caption>A data.frame: 4 × 3</caption>\n",
       "<thead>\n",
       "\t<tr><th></th><th scope=col>Attend</th><th scope=col>Non_attend</th><th scope=col>enrolled_pct</th></tr>\n",
       "\t<tr><th></th><th scope=col>&lt;int&gt;</th><th scope=col>&lt;int&gt;</th><th scope=col>&lt;chr&gt;</th></tr>\n",
       "</thead>\n",
       "<tbody>\n",
       "\t<tr><th scope=row>100k</th><td>4036</td><td>8732</td><td>31.61 %</td></tr>\n",
       "\t<tr><th scope=row>100k-15k</th><td> 982</td><td>1998</td><td>32.95 %</td></tr>\n",
       "\t<tr><th scope=row>15k-2.5k</th><td>1102</td><td>2374</td><td>31.7 % </td></tr>\n",
       "\t<tr><th scope=row>&lt;2.5k</th><td>4379</td><td>9304</td><td>32 %   </td></tr>\n",
       "</tbody>\n",
       "</table>\n"
      ],
      "text/latex": [
       "A data.frame: 4 × 3\n",
       "\\begin{tabular}{r|lll}\n",
       "  & Attend & Non\\_attend & enrolled\\_pct\\\\\n",
       "  & <int> & <int> & <chr>\\\\\n",
       "\\hline\n",
       "\t100k & 4036 & 8732 & 31.61 \\%\\\\\n",
       "\t100k-15k &  982 & 1998 & 32.95 \\%\\\\\n",
       "\t15k-2.5k & 1102 & 2374 & 31.7 \\% \\\\\n",
       "\t<2.5k & 4379 & 9304 & 32 \\%   \\\\\n",
       "\\end{tabular}\n"
      ],
      "text/markdown": [
       "\n",
       "A data.frame: 4 × 3\n",
       "\n",
       "| <!--/--> | Attend &lt;int&gt; | Non_attend &lt;int&gt; | enrolled_pct &lt;chr&gt; |\n",
       "|---|---|---|---|\n",
       "| 100k | 4036 | 8732 | 31.61 % |\n",
       "| 100k-15k |  982 | 1998 | 32.95 % |\n",
       "| 15k-2.5k | 1102 | 2374 | 31.7 %  |\n",
       "| &lt;2.5k | 4379 | 9304 | 32 %    |\n",
       "\n"
      ],
      "text/plain": [
       "         Attend Non_attend enrolled_pct\n",
       "100k     4036   8732       31.61 %     \n",
       "100k-15k  982   1998       32.95 %     \n",
       "15k-2.5k 1102   2374       31.7 %      \n",
       "<2.5k    4379   9304       32 %        "
      ]
     },
     "metadata": {},
     "output_type": "display_data"
    }
   ],
   "source": [
    "# R\n",
    "q5_answer <- as.data.frame.matrix(table(merged$ls12, merged$ls16))\n",
    "colnames(q5_answer)=c(\"Attend\",\"Non_attend\")\n",
    "q5_answer$enrolled_pct <- paste(round(q5_answer$Attend/(q5_answer$Attend+q5_answer$Non_attend)*100, 2), \"%\")\n",
    "rownames(q3_answer) <- c('100k', '100k-15k', '15k-2.5k', '<2.5k')\n",
    "q3_answer"
   ]
  }
 ],
 "metadata": {
  "kernelspec": {
   "display_name": "R (R-Project)",
   "language": "r",
   "name": "ir"
  },
  "language_info": {
   "codemirror_mode": "r",
   "file_extension": ".r",
   "mimetype": "text/x-r-source",
   "name": "R",
   "pygments_lexer": "r",
   "version": "3.6.1"
  }
 },
 "nbformat": 4,
 "nbformat_minor": 4
}
