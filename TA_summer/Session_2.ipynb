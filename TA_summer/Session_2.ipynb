{
 "cells": [
  {
   "cell_type": "markdown",
   "metadata": {},
   "source": [
    "## A.1. Import libraries"
   ]
  },
  {
   "cell_type": "code",
   "execution_count": 2,
   "metadata": {},
   "outputs": [],
   "source": [
    "library(dplyr)\n",
    "library(readstata13)"
   ]
  },
  {
   "cell_type": "markdown",
   "metadata": {},
   "source": [
    "## A.2 Set path"
   ]
  },
  {
   "cell_type": "code",
   "execution_count": 7,
   "metadata": {},
   "outputs": [
    {
     "data": {
      "text/html": [
       "'/Users/corybaird/Desktop/3rd/Summer_TA'"
      ],
      "text/latex": [
       "'/Users/corybaird/Desktop/3rd/Summer\\_TA'"
      ],
      "text/markdown": [
       "'/Users/corybaird/Desktop/3rd/Summer_TA'"
      ],
      "text/plain": [
       "[1] \"/Users/corybaird/Desktop/3rd/Summer_TA\""
      ]
     },
     "metadata": {},
     "output_type": "display_data"
    }
   ],
   "source": [
    "path = getwd()\n",
    "path"
   ]
  },
  {
   "cell_type": "markdown",
   "metadata": {},
   "source": [
    "## A.3 List all files in dataset"
   ]
  },
  {
   "cell_type": "markdown",
   "metadata": {},
   "source": [
    "### A.3.1 Lists all the files from 2019 Q1"
   ]
  },
  {
   "cell_type": "code",
   "execution_count": 10,
   "metadata": {},
   "outputs": [
    {
     "data": {
      "text/html": [
       "<ol class=list-inline>\n",
       "\t<li>'coe1t119.dta'</li>\n",
       "\t<li>'coe2t119.dta'</li>\n",
       "\t<li>'hogt119.dta'</li>\n",
       "\t<li>'sdemt119.dta'</li>\n",
       "\t<li>'vivt119.dta'</li>\n",
       "</ol>\n"
      ],
      "text/latex": [
       "\\begin{enumerate*}\n",
       "\\item 'coe1t119.dta'\n",
       "\\item 'coe2t119.dta'\n",
       "\\item 'hogt119.dta'\n",
       "\\item 'sdemt119.dta'\n",
       "\\item 'vivt119.dta'\n",
       "\\end{enumerate*}\n"
      ],
      "text/markdown": [
       "1. 'coe1t119.dta'\n",
       "2. 'coe2t119.dta'\n",
       "3. 'hogt119.dta'\n",
       "4. 'sdemt119.dta'\n",
       "5. 'vivt119.dta'\n",
       "\n",
       "\n"
      ],
      "text/plain": [
       "[1] \"coe1t119.dta\" \"coe2t119.dta\" \"hogt119.dta\"  \"sdemt119.dta\" \"vivt119.dta\" "
      ]
     },
     "metadata": {},
     "output_type": "display_data"
    }
   ],
   "source": [
    "file_2019Q1 = list.files(paste(path,'/Data/2019 Data/Quarter 1' , sep=''), \n",
    "                         #full.names = TRUE\n",
    "                        )\n",
    "file_2019Q1 "
   ]
  },
  {
   "cell_type": "markdown",
   "metadata": {},
   "source": [
    "### A.3.2 Lists all files from 2019 Q2\n"
   ]
  },
  {
   "cell_type": "code",
   "execution_count": 13,
   "metadata": {},
   "outputs": [
    {
     "data": {
      "text/html": [
       "<ol class=list-inline>\n",
       "\t<li>'COE1T219.dta'</li>\n",
       "\t<li>'COE2T219.dta'</li>\n",
       "\t<li>'HOGT219.dta'</li>\n",
       "\t<li>'hs_err_pid48035.log'</li>\n",
       "\t<li>'SDEMT219.dta'</li>\n",
       "\t<li>'VIVT219.dta'</li>\n",
       "</ol>\n"
      ],
      "text/latex": [
       "\\begin{enumerate*}\n",
       "\\item 'COE1T219.dta'\n",
       "\\item 'COE2T219.dta'\n",
       "\\item 'HOGT219.dta'\n",
       "\\item 'hs\\_err\\_pid48035.log'\n",
       "\\item 'SDEMT219.dta'\n",
       "\\item 'VIVT219.dta'\n",
       "\\end{enumerate*}\n"
      ],
      "text/markdown": [
       "1. 'COE1T219.dta'\n",
       "2. 'COE2T219.dta'\n",
       "3. 'HOGT219.dta'\n",
       "4. 'hs_err_pid48035.log'\n",
       "5. 'SDEMT219.dta'\n",
       "6. 'VIVT219.dta'\n",
       "\n",
       "\n"
      ],
      "text/plain": [
       "[1] \"COE1T219.dta\"        \"COE2T219.dta\"        \"HOGT219.dta\"        \n",
       "[4] \"hs_err_pid48035.log\" \"SDEMT219.dta\"        \"VIVT219.dta\"        "
      ]
     },
     "metadata": {},
     "output_type": "display_data"
    }
   ],
   "source": [
    "file_2019Q2 = list.files(paste(path,'/Data/2019 Data/Quarter 2' , sep=''), \n",
    "                         #full.names = TRUE\n",
    "                        )\n",
    "file_2019Q2"
   ]
  },
  {
   "cell_type": "markdown",
   "metadata": {},
   "source": [
    "### A.3.3 Lists all the files from 2018 Q1"
   ]
  },
  {
   "cell_type": "code",
   "execution_count": 14,
   "metadata": {},
   "outputs": [
    {
     "data": {
      "text/html": [
       "<ol class=list-inline>\n",
       "\t<li>'COE1T418.dta'</li>\n",
       "\t<li>'COE2T418.dta'</li>\n",
       "\t<li>'HOGT418.dta'</li>\n",
       "\t<li>'SDEMT418.dta'</li>\n",
       "\t<li>'VIVT418.dta'</li>\n",
       "</ol>\n"
      ],
      "text/latex": [
       "\\begin{enumerate*}\n",
       "\\item 'COE1T418.dta'\n",
       "\\item 'COE2T418.dta'\n",
       "\\item 'HOGT418.dta'\n",
       "\\item 'SDEMT418.dta'\n",
       "\\item 'VIVT418.dta'\n",
       "\\end{enumerate*}\n"
      ],
      "text/markdown": [
       "1. 'COE1T418.dta'\n",
       "2. 'COE2T418.dta'\n",
       "3. 'HOGT418.dta'\n",
       "4. 'SDEMT418.dta'\n",
       "5. 'VIVT418.dta'\n",
       "\n",
       "\n"
      ],
      "text/plain": [
       "[1] \"COE1T418.dta\" \"COE2T418.dta\" \"HOGT418.dta\"  \"SDEMT418.dta\" \"VIVT418.dta\" "
      ]
     },
     "metadata": {},
     "output_type": "display_data"
    }
   ],
   "source": [
    "file_2018 = list.files(paste(path,'/Data/2018 Data/Quarter 4' , sep=''))\n",
    "file_2018"
   ]
  },
  {
   "cell_type": "markdown",
   "metadata": {},
   "source": [
    "# 1. Upload 1 dataset"
   ]
  },
  {
   "cell_type": "markdown",
   "metadata": {},
   "source": [
    "## 1.1. Set folder and file location\n",
    "\n",
    "- You can also skip this step if you know the full path name of file"
   ]
  },
  {
   "cell_type": "code",
   "execution_count": 19,
   "metadata": {},
   "outputs": [],
   "source": [
    "folder_2019Q1 = paste(path,'/Data/2019 Data/Quarter 1', sep='') #Sets folder location\n",
    "sdemt_2019Q1_path = paste(folder_2019Q1, '/sdemt119.dta', sep='') #Sets file location"
   ]
  },
  {
   "cell_type": "markdown",
   "metadata": {},
   "source": [
    "## 1.2 Read dta"
   ]
  },
  {
   "cell_type": "code",
   "execution_count": 23,
   "metadata": {},
   "outputs": [],
   "source": [
    "#df_sdemt = read.dta13(sdemt_2019Q1_path) #This line of code is easier but will show some warning messages\n",
    "df_sdemt = suppressWarnings(read.dta13(sdemt_2019Q1_path)) #This line of code gets rid of warning messages\n",
    "df_sdemt %>% head(2) #Shows first two observations of the data set"
   ]
  },
  {
   "cell_type": "code",
   "execution_count": 26,
   "metadata": {},
   "outputs": [
    {
     "data": {
      "text/html": [
       "<table>\n",
       "<thead><tr><th scope=col>R_DEF</th><th scope=col>LOC</th><th scope=col>MUN</th><th scope=col>EST</th><th scope=col>EST_D</th><th scope=col>AGEB</th><th scope=col>T_LOC</th><th scope=col>CD_A</th><th scope=col>ENT</th><th scope=col>CON</th><th scope=col>...</th><th scope=col>MA48ME1SM</th><th scope=col>P14APOYOS</th><th scope=col>SCIAN</th><th scope=col>T_TRA</th><th scope=col>EMP_PPAL</th><th scope=col>TUE_PPAL</th><th scope=col>TRANS_PPAL</th><th scope=col>MH_FIL2</th><th scope=col>MH_COL</th><th scope=col>SEC_INS</th></tr></thead>\n",
       "<tbody>\n",
       "\t<tr><td>0    </td><td>1    </td><td>2    </td><td>10   </td><td>117  </td><td>0    </td><td>1    </td><td>1    </td><td>9    </td><td>40001</td><td>...  </td><td>0    </td><td>0    </td><td>18   </td><td>1    </td><td>2    </td><td>2    </td><td>0    </td><td>3    </td><td>6    </td><td>4    </td></tr>\n",
       "\t<tr><td>0    </td><td>1    </td><td>2    </td><td>10   </td><td>117  </td><td>0    </td><td>1    </td><td>1    </td><td>9    </td><td>40001</td><td>...  </td><td>0    </td><td>0    </td><td> 6   </td><td>1    </td><td>2    </td><td>2    </td><td>0    </td><td>3    </td><td>2    </td><td>2    </td></tr>\n",
       "</tbody>\n",
       "</table>\n"
      ],
      "text/latex": [
       "\\begin{tabular}{r|llllllllllllllllllllllllllllllllllllllllllllllllllllllllllllllllllllllllllllllllllllllllllllllllllllllll}\n",
       " R\\_DEF & LOC & MUN & EST & EST\\_D & AGEB & T\\_LOC & CD\\_A & ENT & CON & ... & MA48ME1SM & P14APOYOS & SCIAN & T\\_TRA & EMP\\_PPAL & TUE\\_PPAL & TRANS\\_PPAL & MH\\_FIL2 & MH\\_COL & SEC\\_INS\\\\\n",
       "\\hline\n",
       "\t 0     & 1     & 2     & 10    & 117   & 0     & 1     & 1     & 9     & 40001 & ...   & 0     & 0     & 18    & 1     & 2     & 2     & 0     & 3     & 6     & 4    \\\\\n",
       "\t 0     & 1     & 2     & 10    & 117   & 0     & 1     & 1     & 9     & 40001 & ...   & 0     & 0     &  6    & 1     & 2     & 2     & 0     & 3     & 2     & 2    \\\\\n",
       "\\end{tabular}\n"
      ],
      "text/markdown": [
       "\n",
       "| R_DEF | LOC | MUN | EST | EST_D | AGEB | T_LOC | CD_A | ENT | CON | ... | MA48ME1SM | P14APOYOS | SCIAN | T_TRA | EMP_PPAL | TUE_PPAL | TRANS_PPAL | MH_FIL2 | MH_COL | SEC_INS |\n",
       "|---|---|---|---|---|---|---|---|---|---|---|---|---|---|---|---|---|---|---|---|---|\n",
       "| 0     | 1     | 2     | 10    | 117   | 0     | 1     | 1     | 9     | 40001 | ...   | 0     | 0     | 18    | 1     | 2     | 2     | 0     | 3     | 6     | 4     |\n",
       "| 0     | 1     | 2     | 10    | 117   | 0     | 1     | 1     | 9     | 40001 | ...   | 0     | 0     |  6    | 1     | 2     | 2     | 0     | 3     | 2     | 2     |\n",
       "\n"
      ],
      "text/plain": [
       "  R_DEF LOC MUN EST EST_D AGEB T_LOC CD_A ENT CON   ... MA48ME1SM P14APOYOS\n",
       "1 0     1   2   10  117   0    1     1    9   40001 ... 0         0        \n",
       "2 0     1   2   10  117   0    1     1    9   40001 ... 0         0        \n",
       "  SCIAN T_TRA EMP_PPAL TUE_PPAL TRANS_PPAL MH_FIL2 MH_COL SEC_INS\n",
       "1 18    1     2        2        0          3       6      4      \n",
       "2  6    1     2        2        0          3       2      2      "
      ]
     },
     "metadata": {},
     "output_type": "display_data"
    }
   ],
   "source": []
  },
  {
   "cell_type": "markdown",
   "metadata": {},
   "source": [
    "# 2. Select columns"
   ]
  },
  {
   "cell_type": "markdown",
   "metadata": {},
   "source": [
    "## 2.1 Show all column names"
   ]
  },
  {
   "cell_type": "code",
   "execution_count": 32,
   "metadata": {},
   "outputs": [
    {
     "data": {
      "text/html": [
       "<ol class=list-inline>\n",
       "\t<li>'R_DEF'</li>\n",
       "\t<li>'LOC'</li>\n",
       "\t<li>'MUN'</li>\n",
       "\t<li>'EST'</li>\n",
       "\t<li>'EST_D'</li>\n",
       "\t<li>'AGEB'</li>\n",
       "\t<li>'T_LOC'</li>\n",
       "\t<li>'CD_A'</li>\n",
       "\t<li>'ENT'</li>\n",
       "\t<li>'CON'</li>\n",
       "\t<li>'UPM'</li>\n",
       "\t<li>'D_SEM'</li>\n",
       "\t<li>'N_PRO_VIV'</li>\n",
       "\t<li>'V_SEL'</li>\n",
       "\t<li>'N_HOG'</li>\n",
       "\t<li>'H_MUD'</li>\n",
       "\t<li>'N_ENT'</li>\n",
       "\t<li>'PER'</li>\n",
       "\t<li>'N_REN'</li>\n",
       "\t<li>'C_RES'</li>\n",
       "\t<li>'PAR_C'</li>\n",
       "\t<li>'SEX'</li>\n",
       "\t<li>'EDA'</li>\n",
       "\t<li>'NAC_DIA'</li>\n",
       "\t<li>'NAC_MES'</li>\n",
       "\t<li>'NAC_ANIO'</li>\n",
       "\t<li>'L_NAC_C'</li>\n",
       "\t<li>'CS_P12'</li>\n",
       "\t<li>'CS_P13_1'</li>\n",
       "\t<li>'CS_P13_2'</li>\n",
       "\t<li>'CS_P14_C'</li>\n",
       "\t<li>'CS_P15'</li>\n",
       "\t<li>'CS_P16'</li>\n",
       "\t<li>'CS_P17'</li>\n",
       "\t<li>'N_HIJ'</li>\n",
       "\t<li>'E_CON'</li>\n",
       "\t<li>'CS_AD_MOT'</li>\n",
       "\t<li>'CS_P20_DES'</li>\n",
       "\t<li>'CS_AD_DES'</li>\n",
       "\t<li>'CS_NR_MOT'</li>\n",
       "\t<li>'CS_P22_DES'</li>\n",
       "\t<li>'CS_NR_ORI'</li>\n",
       "\t<li>'UR'</li>\n",
       "\t<li>'ZONA'</li>\n",
       "\t<li>'SALARIO'</li>\n",
       "\t<li>'FAC'</li>\n",
       "\t<li>'CLASE1'</li>\n",
       "\t<li>'CLASE2'</li>\n",
       "\t<li>'CLASE3'</li>\n",
       "\t<li>'POS_OCU'</li>\n",
       "\t<li>'SEG_SOC'</li>\n",
       "\t<li>'RAMA'</li>\n",
       "\t<li>'C_OCU11C'</li>\n",
       "\t<li>'ING7C'</li>\n",
       "\t<li>'DUR9C'</li>\n",
       "\t<li>'EMPLE7C'</li>\n",
       "\t<li>'MEDICA5C'</li>\n",
       "\t<li>'BUSCAR5C'</li>\n",
       "\t<li>'RAMA_EST1'</li>\n",
       "\t<li>'RAMA_EST2'</li>\n",
       "\t<li>'DUR_EST'</li>\n",
       "\t<li>'AMBITO1'</li>\n",
       "\t<li>'AMBITO2'</li>\n",
       "\t<li>'TUE1'</li>\n",
       "\t<li>'TUE2'</li>\n",
       "\t<li>'TUE3'</li>\n",
       "\t<li>'BUSQUEDA'</li>\n",
       "\t<li>'D_ANT_LAB'</li>\n",
       "\t<li>'D_CEXP_EST'</li>\n",
       "\t<li>'DUR_DES'</li>\n",
       "\t<li>'SUB_O'</li>\n",
       "\t<li>'S_CLASIFI'</li>\n",
       "\t<li>'REMUNE2C'</li>\n",
       "\t<li>'PRE_ASA'</li>\n",
       "\t<li>'TIP_CON'</li>\n",
       "\t<li>'DISPO'</li>\n",
       "\t<li>'NODISPO'</li>\n",
       "\t<li>'C_INAC5C'</li>\n",
       "\t<li>'PNEA_EST'</li>\n",
       "\t<li>'NIV_INS'</li>\n",
       "\t<li>'EDA5C'</li>\n",
       "\t<li>'EDA7C'</li>\n",
       "\t<li>'EDA12C'</li>\n",
       "\t<li>'EDA19C'</li>\n",
       "\t<li>'HIJ5C'</li>\n",
       "\t<li>'DOMESTICO'</li>\n",
       "\t<li>'ANIOS_ESC'</li>\n",
       "\t<li>'HRSOCUP'</li>\n",
       "\t<li>'INGOCUP'</li>\n",
       "\t<li>'ING_X_HRS'</li>\n",
       "\t<li>'TPG_P8A'</li>\n",
       "\t<li>'TCCO'</li>\n",
       "\t<li>'CP_ANOC'</li>\n",
       "\t<li>'IMSSISSSTE'</li>\n",
       "\t<li>'MA48ME1SM'</li>\n",
       "\t<li>'P14APOYOS'</li>\n",
       "\t<li>'SCIAN'</li>\n",
       "\t<li>'T_TRA'</li>\n",
       "\t<li>'EMP_PPAL'</li>\n",
       "\t<li>'TUE_PPAL'</li>\n",
       "\t<li>'TRANS_PPAL'</li>\n",
       "\t<li>'MH_FIL2'</li>\n",
       "\t<li>'MH_COL'</li>\n",
       "\t<li>'SEC_INS'</li>\n",
       "</ol>\n"
      ],
      "text/latex": [
       "\\begin{enumerate*}\n",
       "\\item 'R\\_DEF'\n",
       "\\item 'LOC'\n",
       "\\item 'MUN'\n",
       "\\item 'EST'\n",
       "\\item 'EST\\_D'\n",
       "\\item 'AGEB'\n",
       "\\item 'T\\_LOC'\n",
       "\\item 'CD\\_A'\n",
       "\\item 'ENT'\n",
       "\\item 'CON'\n",
       "\\item 'UPM'\n",
       "\\item 'D\\_SEM'\n",
       "\\item 'N\\_PRO\\_VIV'\n",
       "\\item 'V\\_SEL'\n",
       "\\item 'N\\_HOG'\n",
       "\\item 'H\\_MUD'\n",
       "\\item 'N\\_ENT'\n",
       "\\item 'PER'\n",
       "\\item 'N\\_REN'\n",
       "\\item 'C\\_RES'\n",
       "\\item 'PAR\\_C'\n",
       "\\item 'SEX'\n",
       "\\item 'EDA'\n",
       "\\item 'NAC\\_DIA'\n",
       "\\item 'NAC\\_MES'\n",
       "\\item 'NAC\\_ANIO'\n",
       "\\item 'L\\_NAC\\_C'\n",
       "\\item 'CS\\_P12'\n",
       "\\item 'CS\\_P13\\_1'\n",
       "\\item 'CS\\_P13\\_2'\n",
       "\\item 'CS\\_P14\\_C'\n",
       "\\item 'CS\\_P15'\n",
       "\\item 'CS\\_P16'\n",
       "\\item 'CS\\_P17'\n",
       "\\item 'N\\_HIJ'\n",
       "\\item 'E\\_CON'\n",
       "\\item 'CS\\_AD\\_MOT'\n",
       "\\item 'CS\\_P20\\_DES'\n",
       "\\item 'CS\\_AD\\_DES'\n",
       "\\item 'CS\\_NR\\_MOT'\n",
       "\\item 'CS\\_P22\\_DES'\n",
       "\\item 'CS\\_NR\\_ORI'\n",
       "\\item 'UR'\n",
       "\\item 'ZONA'\n",
       "\\item 'SALARIO'\n",
       "\\item 'FAC'\n",
       "\\item 'CLASE1'\n",
       "\\item 'CLASE2'\n",
       "\\item 'CLASE3'\n",
       "\\item 'POS\\_OCU'\n",
       "\\item 'SEG\\_SOC'\n",
       "\\item 'RAMA'\n",
       "\\item 'C\\_OCU11C'\n",
       "\\item 'ING7C'\n",
       "\\item 'DUR9C'\n",
       "\\item 'EMPLE7C'\n",
       "\\item 'MEDICA5C'\n",
       "\\item 'BUSCAR5C'\n",
       "\\item 'RAMA\\_EST1'\n",
       "\\item 'RAMA\\_EST2'\n",
       "\\item 'DUR\\_EST'\n",
       "\\item 'AMBITO1'\n",
       "\\item 'AMBITO2'\n",
       "\\item 'TUE1'\n",
       "\\item 'TUE2'\n",
       "\\item 'TUE3'\n",
       "\\item 'BUSQUEDA'\n",
       "\\item 'D\\_ANT\\_LAB'\n",
       "\\item 'D\\_CEXP\\_EST'\n",
       "\\item 'DUR\\_DES'\n",
       "\\item 'SUB\\_O'\n",
       "\\item 'S\\_CLASIFI'\n",
       "\\item 'REMUNE2C'\n",
       "\\item 'PRE\\_ASA'\n",
       "\\item 'TIP\\_CON'\n",
       "\\item 'DISPO'\n",
       "\\item 'NODISPO'\n",
       "\\item 'C\\_INAC5C'\n",
       "\\item 'PNEA\\_EST'\n",
       "\\item 'NIV\\_INS'\n",
       "\\item 'EDA5C'\n",
       "\\item 'EDA7C'\n",
       "\\item 'EDA12C'\n",
       "\\item 'EDA19C'\n",
       "\\item 'HIJ5C'\n",
       "\\item 'DOMESTICO'\n",
       "\\item 'ANIOS\\_ESC'\n",
       "\\item 'HRSOCUP'\n",
       "\\item 'INGOCUP'\n",
       "\\item 'ING\\_X\\_HRS'\n",
       "\\item 'TPG\\_P8A'\n",
       "\\item 'TCCO'\n",
       "\\item 'CP\\_ANOC'\n",
       "\\item 'IMSSISSSTE'\n",
       "\\item 'MA48ME1SM'\n",
       "\\item 'P14APOYOS'\n",
       "\\item 'SCIAN'\n",
       "\\item 'T\\_TRA'\n",
       "\\item 'EMP\\_PPAL'\n",
       "\\item 'TUE\\_PPAL'\n",
       "\\item 'TRANS\\_PPAL'\n",
       "\\item 'MH\\_FIL2'\n",
       "\\item 'MH\\_COL'\n",
       "\\item 'SEC\\_INS'\n",
       "\\end{enumerate*}\n"
      ],
      "text/markdown": [
       "1. 'R_DEF'\n",
       "2. 'LOC'\n",
       "3. 'MUN'\n",
       "4. 'EST'\n",
       "5. 'EST_D'\n",
       "6. 'AGEB'\n",
       "7. 'T_LOC'\n",
       "8. 'CD_A'\n",
       "9. 'ENT'\n",
       "10. 'CON'\n",
       "11. 'UPM'\n",
       "12. 'D_SEM'\n",
       "13. 'N_PRO_VIV'\n",
       "14. 'V_SEL'\n",
       "15. 'N_HOG'\n",
       "16. 'H_MUD'\n",
       "17. 'N_ENT'\n",
       "18. 'PER'\n",
       "19. 'N_REN'\n",
       "20. 'C_RES'\n",
       "21. 'PAR_C'\n",
       "22. 'SEX'\n",
       "23. 'EDA'\n",
       "24. 'NAC_DIA'\n",
       "25. 'NAC_MES'\n",
       "26. 'NAC_ANIO'\n",
       "27. 'L_NAC_C'\n",
       "28. 'CS_P12'\n",
       "29. 'CS_P13_1'\n",
       "30. 'CS_P13_2'\n",
       "31. 'CS_P14_C'\n",
       "32. 'CS_P15'\n",
       "33. 'CS_P16'\n",
       "34. 'CS_P17'\n",
       "35. 'N_HIJ'\n",
       "36. 'E_CON'\n",
       "37. 'CS_AD_MOT'\n",
       "38. 'CS_P20_DES'\n",
       "39. 'CS_AD_DES'\n",
       "40. 'CS_NR_MOT'\n",
       "41. 'CS_P22_DES'\n",
       "42. 'CS_NR_ORI'\n",
       "43. 'UR'\n",
       "44. 'ZONA'\n",
       "45. 'SALARIO'\n",
       "46. 'FAC'\n",
       "47. 'CLASE1'\n",
       "48. 'CLASE2'\n",
       "49. 'CLASE3'\n",
       "50. 'POS_OCU'\n",
       "51. 'SEG_SOC'\n",
       "52. 'RAMA'\n",
       "53. 'C_OCU11C'\n",
       "54. 'ING7C'\n",
       "55. 'DUR9C'\n",
       "56. 'EMPLE7C'\n",
       "57. 'MEDICA5C'\n",
       "58. 'BUSCAR5C'\n",
       "59. 'RAMA_EST1'\n",
       "60. 'RAMA_EST2'\n",
       "61. 'DUR_EST'\n",
       "62. 'AMBITO1'\n",
       "63. 'AMBITO2'\n",
       "64. 'TUE1'\n",
       "65. 'TUE2'\n",
       "66. 'TUE3'\n",
       "67. 'BUSQUEDA'\n",
       "68. 'D_ANT_LAB'\n",
       "69. 'D_CEXP_EST'\n",
       "70. 'DUR_DES'\n",
       "71. 'SUB_O'\n",
       "72. 'S_CLASIFI'\n",
       "73. 'REMUNE2C'\n",
       "74. 'PRE_ASA'\n",
       "75. 'TIP_CON'\n",
       "76. 'DISPO'\n",
       "77. 'NODISPO'\n",
       "78. 'C_INAC5C'\n",
       "79. 'PNEA_EST'\n",
       "80. 'NIV_INS'\n",
       "81. 'EDA5C'\n",
       "82. 'EDA7C'\n",
       "83. 'EDA12C'\n",
       "84. 'EDA19C'\n",
       "85. 'HIJ5C'\n",
       "86. 'DOMESTICO'\n",
       "87. 'ANIOS_ESC'\n",
       "88. 'HRSOCUP'\n",
       "89. 'INGOCUP'\n",
       "90. 'ING_X_HRS'\n",
       "91. 'TPG_P8A'\n",
       "92. 'TCCO'\n",
       "93. 'CP_ANOC'\n",
       "94. 'IMSSISSSTE'\n",
       "95. 'MA48ME1SM'\n",
       "96. 'P14APOYOS'\n",
       "97. 'SCIAN'\n",
       "98. 'T_TRA'\n",
       "99. 'EMP_PPAL'\n",
       "100. 'TUE_PPAL'\n",
       "101. 'TRANS_PPAL'\n",
       "102. 'MH_FIL2'\n",
       "103. 'MH_COL'\n",
       "104. 'SEC_INS'\n",
       "\n",
       "\n"
      ],
      "text/plain": [
       "  [1] \"R_DEF\"      \"LOC\"        \"MUN\"        \"EST\"        \"EST_D\"     \n",
       "  [6] \"AGEB\"       \"T_LOC\"      \"CD_A\"       \"ENT\"        \"CON\"       \n",
       " [11] \"UPM\"        \"D_SEM\"      \"N_PRO_VIV\"  \"V_SEL\"      \"N_HOG\"     \n",
       " [16] \"H_MUD\"      \"N_ENT\"      \"PER\"        \"N_REN\"      \"C_RES\"     \n",
       " [21] \"PAR_C\"      \"SEX\"        \"EDA\"        \"NAC_DIA\"    \"NAC_MES\"   \n",
       " [26] \"NAC_ANIO\"   \"L_NAC_C\"    \"CS_P12\"     \"CS_P13_1\"   \"CS_P13_2\"  \n",
       " [31] \"CS_P14_C\"   \"CS_P15\"     \"CS_P16\"     \"CS_P17\"     \"N_HIJ\"     \n",
       " [36] \"E_CON\"      \"CS_AD_MOT\"  \"CS_P20_DES\" \"CS_AD_DES\"  \"CS_NR_MOT\" \n",
       " [41] \"CS_P22_DES\" \"CS_NR_ORI\"  \"UR\"         \"ZONA\"       \"SALARIO\"   \n",
       " [46] \"FAC\"        \"CLASE1\"     \"CLASE2\"     \"CLASE3\"     \"POS_OCU\"   \n",
       " [51] \"SEG_SOC\"    \"RAMA\"       \"C_OCU11C\"   \"ING7C\"      \"DUR9C\"     \n",
       " [56] \"EMPLE7C\"    \"MEDICA5C\"   \"BUSCAR5C\"   \"RAMA_EST1\"  \"RAMA_EST2\" \n",
       " [61] \"DUR_EST\"    \"AMBITO1\"    \"AMBITO2\"    \"TUE1\"       \"TUE2\"      \n",
       " [66] \"TUE3\"       \"BUSQUEDA\"   \"D_ANT_LAB\"  \"D_CEXP_EST\" \"DUR_DES\"   \n",
       " [71] \"SUB_O\"      \"S_CLASIFI\"  \"REMUNE2C\"   \"PRE_ASA\"    \"TIP_CON\"   \n",
       " [76] \"DISPO\"      \"NODISPO\"    \"C_INAC5C\"   \"PNEA_EST\"   \"NIV_INS\"   \n",
       " [81] \"EDA5C\"      \"EDA7C\"      \"EDA12C\"     \"EDA19C\"     \"HIJ5C\"     \n",
       " [86] \"DOMESTICO\"  \"ANIOS_ESC\"  \"HRSOCUP\"    \"INGOCUP\"    \"ING_X_HRS\" \n",
       " [91] \"TPG_P8A\"    \"TCCO\"       \"CP_ANOC\"    \"IMSSISSSTE\" \"MA48ME1SM\" \n",
       " [96] \"P14APOYOS\"  \"SCIAN\"      \"T_TRA\"      \"EMP_PPAL\"   \"TUE_PPAL\"  \n",
       "[101] \"TRANS_PPAL\" \"MH_FIL2\"    \"MH_COL\"     \"SEC_INS\"   "
      ]
     },
     "metadata": {},
     "output_type": "display_data"
    }
   ],
   "source": [
    "colnames(df_sdemt)"
   ]
  },
  {
   "cell_type": "markdown",
   "metadata": {},
   "source": [
    "## 2.2 Select two columns"
   ]
  },
  {
   "cell_type": "code",
   "execution_count": 33,
   "metadata": {},
   "outputs": [
    {
     "data": {
      "text/html": [
       "<table>\n",
       "<thead><tr><th scope=col>MUN</th><th scope=col>LOC</th></tr></thead>\n",
       "<tbody>\n",
       "\t<tr><td>2</td><td>1</td></tr>\n",
       "\t<tr><td>2</td><td>1</td></tr>\n",
       "</tbody>\n",
       "</table>\n"
      ],
      "text/latex": [
       "\\begin{tabular}{r|ll}\n",
       " MUN & LOC\\\\\n",
       "\\hline\n",
       "\t 2 & 1\\\\\n",
       "\t 2 & 1\\\\\n",
       "\\end{tabular}\n"
      ],
      "text/markdown": [
       "\n",
       "| MUN | LOC |\n",
       "|---|---|\n",
       "| 2 | 1 |\n",
       "| 2 | 1 |\n",
       "\n"
      ],
      "text/plain": [
       "  MUN LOC\n",
       "1 2   1  \n",
       "2 2   1  "
      ]
     },
     "metadata": {},
     "output_type": "display_data"
    }
   ],
   "source": [
    "df_sdemt %>% select(MUN, LOC) %>% head(2) #Erase %>% head(2) to show the whole columns"
   ]
  },
  {
   "cell_type": "markdown",
   "metadata": {},
   "source": [
    "## 2.3 Show summary of data"
   ]
  },
  {
   "cell_type": "code",
   "execution_count": 34,
   "metadata": {},
   "outputs": [
    {
     "data": {
      "text/plain": [
       "      MUN              LOC         \n",
       " Min.   :  1.00   Min.   :   1.00  \n",
       " 1st Qu.:  6.00   1st Qu.:   1.00  \n",
       " Median : 21.00   Median :   1.00  \n",
       " Mean   : 40.96   Mean   :  40.02  \n",
       " 3rd Qu.: 50.00   3rd Qu.:   2.00  \n",
       " Max.   :570.00   Max.   :9046.00  "
      ]
     },
     "metadata": {},
     "output_type": "display_data"
    }
   ],
   "source": [
    "df_sdemt %>% select(MUN, LOC) %>% summary()"
   ]
  },
  {
   "cell_type": "markdown",
   "metadata": {},
   "source": [
    "# 3. Recode data"
   ]
  },
  {
   "cell_type": "markdown",
   "metadata": {},
   "source": [
    "## 3.1 Show the unique observations for one column "
   ]
  },
  {
   "cell_type": "code",
   "execution_count": 55,
   "metadata": {},
   "outputs": [
    {
     "data": {
      "text/html": [
       "<ol class=list-inline>\n",
       "\t<li>1</li>\n",
       "\t<li>0</li>\n",
       "\t<li>2</li>\n",
       "</ol>\n"
      ],
      "text/latex": [
       "\\begin{enumerate*}\n",
       "\\item 1\n",
       "\\item 0\n",
       "\\item 2\n",
       "\\end{enumerate*}\n"
      ],
      "text/markdown": [
       "1. 1\n",
       "2. 0\n",
       "3. 2\n",
       "\n",
       "\n"
      ],
      "text/plain": [
       "[1] 1 0 2"
      ]
     },
     "metadata": {},
     "output_type": "display_data"
    }
   ],
   "source": [
    "unique(df_sdemt$T_TRA)"
   ]
  },
  {
   "cell_type": "markdown",
   "metadata": {},
   "source": [
    "## 3.2 Change all non-1 observations to zero"
   ]
  },
  {
   "cell_type": "markdown",
   "metadata": {},
   "source": [
    "### 3.2.1 Using recode function "
   ]
  },
  {
   "cell_type": "code",
   "execution_count": 63,
   "metadata": {},
   "outputs": [
    {
     "data": {
      "text/html": [
       "<table>\n",
       "<thead><tr><th scope=col>Dummy_example</th></tr></thead>\n",
       "<tbody>\n",
       "\t<tr><td>1</td></tr>\n",
       "\t<tr><td>1</td></tr>\n",
       "\t<tr><td>1</td></tr>\n",
       "</tbody>\n",
       "</table>\n"
      ],
      "text/latex": [
       "\\begin{tabular}{r|l}\n",
       " Dummy\\_example\\\\\n",
       "\\hline\n",
       "\t 1\\\\\n",
       "\t 1\\\\\n",
       "\t 1\\\\\n",
       "\\end{tabular}\n"
      ],
      "text/markdown": [
       "\n",
       "| Dummy_example |\n",
       "|---|\n",
       "| 1 |\n",
       "| 1 |\n",
       "| 1 |\n",
       "\n"
      ],
      "text/plain": [
       "  Dummy_example\n",
       "1 1            \n",
       "2 1            \n",
       "3 1            "
      ]
     },
     "metadata": {},
     "output_type": "display_data"
    }
   ],
   "source": [
    "df_sdemt  %>%  mutate(Dummy_example = recode(T_TRA, \n",
    "                                             '1' = '1',\n",
    "                                            '0'='0',\n",
    "                                            '2'='0'))  %>%  select(Dummy_example) %>% head(3)"
   ]
  },
  {
   "cell_type": "markdown",
   "metadata": {},
   "source": [
    "### 3.2.2 Using as.numeric function"
   ]
  },
  {
   "cell_type": "code",
   "execution_count": 68,
   "metadata": {},
   "outputs": [
    {
     "data": {
      "text/html": [
       "<table>\n",
       "<thead><tr><th scope=col>R_DEF</th><th scope=col>LOC</th><th scope=col>MUN</th><th scope=col>EST</th><th scope=col>EST_D</th><th scope=col>AGEB</th><th scope=col>T_LOC</th><th scope=col>CD_A</th><th scope=col>ENT</th><th scope=col>CON</th><th scope=col>...</th><th scope=col>P14APOYOS</th><th scope=col>SCIAN</th><th scope=col>T_TRA</th><th scope=col>EMP_PPAL</th><th scope=col>TUE_PPAL</th><th scope=col>TRANS_PPAL</th><th scope=col>MH_FIL2</th><th scope=col>MH_COL</th><th scope=col>SEC_INS</th><th scope=col>Dummy_example</th></tr></thead>\n",
       "<tbody>\n",
       "\t<tr><td>0    </td><td>1    </td><td>2    </td><td>10   </td><td>117  </td><td>0    </td><td>1    </td><td>1    </td><td>9    </td><td>40001</td><td>...  </td><td>0    </td><td>18   </td><td>1    </td><td>2    </td><td>2    </td><td>0    </td><td>3    </td><td>6    </td><td>4    </td><td>1    </td></tr>\n",
       "\t<tr><td>0    </td><td>1    </td><td>2    </td><td>10   </td><td>117  </td><td>0    </td><td>1    </td><td>1    </td><td>9    </td><td>40001</td><td>...  </td><td>0    </td><td> 6   </td><td>1    </td><td>2    </td><td>2    </td><td>0    </td><td>3    </td><td>2    </td><td>2    </td><td>1    </td></tr>\n",
       "\t<tr><td>0    </td><td>1    </td><td>2    </td><td>10   </td><td>117  </td><td>0    </td><td>1    </td><td>1    </td><td>9    </td><td>40001</td><td>...  </td><td>0    </td><td> 0   </td><td>1    </td><td>0    </td><td>0    </td><td>0    </td><td>0    </td><td>0    </td><td>0    </td><td>1    </td></tr>\n",
       "</tbody>\n",
       "</table>\n"
      ],
      "text/latex": [
       "\\begin{tabular}{r|lllllllllllllllllllllllllllllllllllllllllllllllllllllllllllllllllllllllllllllllllllllllllllllllllllllllll}\n",
       " R\\_DEF & LOC & MUN & EST & EST\\_D & AGEB & T\\_LOC & CD\\_A & ENT & CON & ... & P14APOYOS & SCIAN & T\\_TRA & EMP\\_PPAL & TUE\\_PPAL & TRANS\\_PPAL & MH\\_FIL2 & MH\\_COL & SEC\\_INS & Dummy\\_example\\\\\n",
       "\\hline\n",
       "\t 0     & 1     & 2     & 10    & 117   & 0     & 1     & 1     & 9     & 40001 & ...   & 0     & 18    & 1     & 2     & 2     & 0     & 3     & 6     & 4     & 1    \\\\\n",
       "\t 0     & 1     & 2     & 10    & 117   & 0     & 1     & 1     & 9     & 40001 & ...   & 0     &  6    & 1     & 2     & 2     & 0     & 3     & 2     & 2     & 1    \\\\\n",
       "\t 0     & 1     & 2     & 10    & 117   & 0     & 1     & 1     & 9     & 40001 & ...   & 0     &  0    & 1     & 0     & 0     & 0     & 0     & 0     & 0     & 1    \\\\\n",
       "\\end{tabular}\n"
      ],
      "text/markdown": [
       "\n",
       "| R_DEF | LOC | MUN | EST | EST_D | AGEB | T_LOC | CD_A | ENT | CON | ... | P14APOYOS | SCIAN | T_TRA | EMP_PPAL | TUE_PPAL | TRANS_PPAL | MH_FIL2 | MH_COL | SEC_INS | Dummy_example |\n",
       "|---|---|---|---|---|---|---|---|---|---|---|---|---|---|---|---|---|---|---|---|---|\n",
       "| 0     | 1     | 2     | 10    | 117   | 0     | 1     | 1     | 9     | 40001 | ...   | 0     | 18    | 1     | 2     | 2     | 0     | 3     | 6     | 4     | 1     |\n",
       "| 0     | 1     | 2     | 10    | 117   | 0     | 1     | 1     | 9     | 40001 | ...   | 0     |  6    | 1     | 2     | 2     | 0     | 3     | 2     | 2     | 1     |\n",
       "| 0     | 1     | 2     | 10    | 117   | 0     | 1     | 1     | 9     | 40001 | ...   | 0     |  0    | 1     | 0     | 0     | 0     | 0     | 0     | 0     | 1     |\n",
       "\n"
      ],
      "text/plain": [
       "  R_DEF LOC MUN EST EST_D AGEB T_LOC CD_A ENT CON   ... P14APOYOS SCIAN T_TRA\n",
       "1 0     1   2   10  117   0    1     1    9   40001 ... 0         18    1    \n",
       "2 0     1   2   10  117   0    1     1    9   40001 ... 0          6    1    \n",
       "3 0     1   2   10  117   0    1     1    9   40001 ... 0          0    1    \n",
       "  EMP_PPAL TUE_PPAL TRANS_PPAL MH_FIL2 MH_COL SEC_INS Dummy_example\n",
       "1 2        2        0          3       6      4       1            \n",
       "2 2        2        0          3       2      2       1            \n",
       "3 0        0        0          0       0      0       1            "
      ]
     },
     "metadata": {},
     "output_type": "display_data"
    }
   ],
   "source": [
    "df_sdemt  %>%  mutate(Dummy_example = as.numeric(T_TRA==1))   %>% head(3)"
   ]
  },
  {
   "cell_type": "markdown",
   "metadata": {},
   "source": [
    "### 3.2.3 Save the code from 3.2 into dataframe "
   ]
  },
  {
   "cell_type": "code",
   "execution_count": 69,
   "metadata": {},
   "outputs": [
    {
     "data": {
      "text/html": [
       "<table>\n",
       "<thead><tr><th scope=col>R_DEF</th><th scope=col>LOC</th><th scope=col>MUN</th><th scope=col>EST</th><th scope=col>EST_D</th><th scope=col>AGEB</th><th scope=col>T_LOC</th><th scope=col>CD_A</th><th scope=col>ENT</th><th scope=col>CON</th><th scope=col>...</th><th scope=col>P14APOYOS</th><th scope=col>SCIAN</th><th scope=col>T_TRA</th><th scope=col>EMP_PPAL</th><th scope=col>TUE_PPAL</th><th scope=col>TRANS_PPAL</th><th scope=col>MH_FIL2</th><th scope=col>MH_COL</th><th scope=col>SEC_INS</th><th scope=col>Dummy_example</th></tr></thead>\n",
       "<tbody>\n",
       "\t<tr><td>0    </td><td>1    </td><td>2    </td><td>10   </td><td>117  </td><td>0    </td><td>1    </td><td>1    </td><td>9    </td><td>40001</td><td>...  </td><td>0    </td><td>18   </td><td>1    </td><td>2    </td><td>2    </td><td>0    </td><td>3    </td><td>6    </td><td>4    </td><td>1    </td></tr>\n",
       "\t<tr><td>0    </td><td>1    </td><td>2    </td><td>10   </td><td>117  </td><td>0    </td><td>1    </td><td>1    </td><td>9    </td><td>40001</td><td>...  </td><td>0    </td><td> 6   </td><td>1    </td><td>2    </td><td>2    </td><td>0    </td><td>3    </td><td>2    </td><td>2    </td><td>1    </td></tr>\n",
       "</tbody>\n",
       "</table>\n"
      ],
      "text/latex": [
       "\\begin{tabular}{r|lllllllllllllllllllllllllllllllllllllllllllllllllllllllllllllllllllllllllllllllllllllllllllllllllllllllll}\n",
       " R\\_DEF & LOC & MUN & EST & EST\\_D & AGEB & T\\_LOC & CD\\_A & ENT & CON & ... & P14APOYOS & SCIAN & T\\_TRA & EMP\\_PPAL & TUE\\_PPAL & TRANS\\_PPAL & MH\\_FIL2 & MH\\_COL & SEC\\_INS & Dummy\\_example\\\\\n",
       "\\hline\n",
       "\t 0     & 1     & 2     & 10    & 117   & 0     & 1     & 1     & 9     & 40001 & ...   & 0     & 18    & 1     & 2     & 2     & 0     & 3     & 6     & 4     & 1    \\\\\n",
       "\t 0     & 1     & 2     & 10    & 117   & 0     & 1     & 1     & 9     & 40001 & ...   & 0     &  6    & 1     & 2     & 2     & 0     & 3     & 2     & 2     & 1    \\\\\n",
       "\\end{tabular}\n"
      ],
      "text/markdown": [
       "\n",
       "| R_DEF | LOC | MUN | EST | EST_D | AGEB | T_LOC | CD_A | ENT | CON | ... | P14APOYOS | SCIAN | T_TRA | EMP_PPAL | TUE_PPAL | TRANS_PPAL | MH_FIL2 | MH_COL | SEC_INS | Dummy_example |\n",
       "|---|---|---|---|---|---|---|---|---|---|---|---|---|---|---|---|---|---|---|---|---|\n",
       "| 0     | 1     | 2     | 10    | 117   | 0     | 1     | 1     | 9     | 40001 | ...   | 0     | 18    | 1     | 2     | 2     | 0     | 3     | 6     | 4     | 1     |\n",
       "| 0     | 1     | 2     | 10    | 117   | 0     | 1     | 1     | 9     | 40001 | ...   | 0     |  6    | 1     | 2     | 2     | 0     | 3     | 2     | 2     | 1     |\n",
       "\n"
      ],
      "text/plain": [
       "  R_DEF LOC MUN EST EST_D AGEB T_LOC CD_A ENT CON   ... P14APOYOS SCIAN T_TRA\n",
       "1 0     1   2   10  117   0    1     1    9   40001 ... 0         18    1    \n",
       "2 0     1   2   10  117   0    1     1    9   40001 ... 0          6    1    \n",
       "  EMP_PPAL TUE_PPAL TRANS_PPAL MH_FIL2 MH_COL SEC_INS Dummy_example\n",
       "1 2        2        0          3       6      4       1            \n",
       "2 2        2        0          3       2      2       1            "
      ]
     },
     "metadata": {},
     "output_type": "display_data"
    }
   ],
   "source": [
    "df_sdemt = df_sdemt  %>%  mutate(Dummy_example = as.numeric(T_TRA==1)) \n",
    "#Now we over-wrote our old dataframe with new column you will notice on the far right\n",
    "\n",
    "df_sdemt %>% head(2)"
   ]
  },
  {
   "cell_type": "code",
   "execution_count": null,
   "metadata": {},
   "outputs": [],
   "source": []
  }
 ],
 "metadata": {
  "kernelspec": {
   "display_name": "R",
   "language": "R",
   "name": "ir"
  },
  "language_info": {
   "codemirror_mode": "r",
   "file_extension": ".r",
   "mimetype": "text/x-r-source",
   "name": "R",
   "pygments_lexer": "r",
   "version": "3.6.1"
  }
 },
 "nbformat": 4,
 "nbformat_minor": 4
}
