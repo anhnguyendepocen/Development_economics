{
 "cells": [
  {
   "cell_type": "markdown",
   "metadata": {},
   "source": [
    "## A.1. Import libraries"
   ]
  },
  {
   "cell_type": "code",
   "execution_count": 3,
   "metadata": {},
   "outputs": [],
   "source": [
    "library(dplyr)\n",
    "library(readstata13)"
   ]
  },
  {
   "cell_type": "markdown",
   "metadata": {},
   "source": [
    "## A.2 Set path"
   ]
  },
  {
   "cell_type": "code",
   "execution_count": 30,
   "metadata": {},
   "outputs": [
    {
     "data": {
      "text/html": [
       "'/Users/corybaird/Desktop/3rd/Summer_TA'"
      ],
      "text/latex": [
       "'/Users/corybaird/Desktop/3rd/Summer\\_TA'"
      ],
      "text/markdown": [
       "'/Users/corybaird/Desktop/3rd/Summer_TA'"
      ],
      "text/plain": [
       "[1] \"/Users/corybaird/Desktop/3rd/Summer_TA\""
      ]
     },
     "metadata": {},
     "output_type": "display_data"
    }
   ],
   "source": [
    "path = getwd()\n",
    "path"
   ]
  },
  {
   "cell_type": "markdown",
   "metadata": {},
   "source": [
    "## A.3 List all files in dataset"
   ]
  },
  {
   "cell_type": "markdown",
   "metadata": {},
   "source": [
    "### A.3.1 Lists all the files from 2019 Q1"
   ]
  },
  {
   "cell_type": "code",
   "execution_count": 9,
   "metadata": {},
   "outputs": [
    {
     "data": {
      "text/html": [
       "<ol class=list-inline>\n",
       "\t<li>'coe1t119.dta'</li>\n",
       "\t<li>'coe2t119.dta'</li>\n",
       "\t<li>'hogt119.dta'</li>\n",
       "\t<li>'sdemt119.dta'</li>\n",
       "\t<li>'vivt119.dta'</li>\n",
       "</ol>\n"
      ],
      "text/latex": [
       "\\begin{enumerate*}\n",
       "\\item 'coe1t119.dta'\n",
       "\\item 'coe2t119.dta'\n",
       "\\item 'hogt119.dta'\n",
       "\\item 'sdemt119.dta'\n",
       "\\item 'vivt119.dta'\n",
       "\\end{enumerate*}\n"
      ],
      "text/markdown": [
       "1. 'coe1t119.dta'\n",
       "2. 'coe2t119.dta'\n",
       "3. 'hogt119.dta'\n",
       "4. 'sdemt119.dta'\n",
       "5. 'vivt119.dta'\n",
       "\n",
       "\n"
      ],
      "text/plain": [
       "[1] \"coe1t119.dta\" \"coe2t119.dta\" \"hogt119.dta\"  \"sdemt119.dta\" \"vivt119.dta\" "
      ]
     },
     "metadata": {},
     "output_type": "display_data"
    }
   ],
   "source": [
    "file_2019Q1 = list.files(paste(path,'/Data/2019 Data/Quarter 1' , sep=''), \n",
    "                         #full.names = TRUE\n",
    "                        )\n",
    "file_2019Q1 "
   ]
  },
  {
   "cell_type": "markdown",
   "metadata": {},
   "source": [
    "### A.3.2 Lists all files from 2019 Q2\n"
   ]
  },
  {
   "cell_type": "code",
   "execution_count": 10,
   "metadata": {},
   "outputs": [
    {
     "data": {
      "text/html": [
       "<ol class=list-inline>\n",
       "\t<li>'COE1T219.dta'</li>\n",
       "\t<li>'COE2T219.dta'</li>\n",
       "\t<li>'HOGT219.dta'</li>\n",
       "\t<li>'hs_err_pid48035.log'</li>\n",
       "\t<li>'SDEMT219.dta'</li>\n",
       "\t<li>'VIVT219.dta'</li>\n",
       "</ol>\n"
      ],
      "text/latex": [
       "\\begin{enumerate*}\n",
       "\\item 'COE1T219.dta'\n",
       "\\item 'COE2T219.dta'\n",
       "\\item 'HOGT219.dta'\n",
       "\\item 'hs\\_err\\_pid48035.log'\n",
       "\\item 'SDEMT219.dta'\n",
       "\\item 'VIVT219.dta'\n",
       "\\end{enumerate*}\n"
      ],
      "text/markdown": [
       "1. 'COE1T219.dta'\n",
       "2. 'COE2T219.dta'\n",
       "3. 'HOGT219.dta'\n",
       "4. 'hs_err_pid48035.log'\n",
       "5. 'SDEMT219.dta'\n",
       "6. 'VIVT219.dta'\n",
       "\n",
       "\n"
      ],
      "text/plain": [
       "[1] \"COE1T219.dta\"        \"COE2T219.dta\"        \"HOGT219.dta\"        \n",
       "[4] \"hs_err_pid48035.log\" \"SDEMT219.dta\"        \"VIVT219.dta\"        "
      ]
     },
     "metadata": {},
     "output_type": "display_data"
    }
   ],
   "source": [
    "file_2019Q2 = list.files(paste(path,'/Data/2019 Data/Quarter 2' , sep=''), \n",
    "                         #full.names = TRUE\n",
    "                        )\n",
    "file_2019Q2"
   ]
  },
  {
   "cell_type": "markdown",
   "metadata": {},
   "source": [
    "### A.3.3 Lists all the files from 2018 Q1"
   ]
  },
  {
   "cell_type": "code",
   "execution_count": 11,
   "metadata": {},
   "outputs": [
    {
     "data": {
      "text/html": [
       "<ol class=list-inline>\n",
       "\t<li>'COE1T418.dta'</li>\n",
       "\t<li>'COE2T418.dta'</li>\n",
       "\t<li>'HOGT418.dta'</li>\n",
       "\t<li>'SDEMT418.dta'</li>\n",
       "\t<li>'VIVT418.dta'</li>\n",
       "</ol>\n"
      ],
      "text/latex": [
       "\\begin{enumerate*}\n",
       "\\item 'COE1T418.dta'\n",
       "\\item 'COE2T418.dta'\n",
       "\\item 'HOGT418.dta'\n",
       "\\item 'SDEMT418.dta'\n",
       "\\item 'VIVT418.dta'\n",
       "\\end{enumerate*}\n"
      ],
      "text/markdown": [
       "1. 'COE1T418.dta'\n",
       "2. 'COE2T418.dta'\n",
       "3. 'HOGT418.dta'\n",
       "4. 'SDEMT418.dta'\n",
       "5. 'VIVT418.dta'\n",
       "\n",
       "\n"
      ],
      "text/plain": [
       "[1] \"COE1T418.dta\" \"COE2T418.dta\" \"HOGT418.dta\"  \"SDEMT418.dta\" \"VIVT418.dta\" "
      ]
     },
     "metadata": {},
     "output_type": "display_data"
    }
   ],
   "source": [
    "file_2018 = list.files(paste(path,'/Data/2018 Data/Quarter 4' , sep=''))\n",
    "file_2018"
   ]
  },
  {
   "cell_type": "markdown",
   "metadata": {},
   "source": [
    "# 1. Upload 1 dataset"
   ]
  },
  {
   "cell_type": "markdown",
   "metadata": {},
   "source": [
    "## 1.1. Set folder and file location\n",
    "\n",
    "- You can also skip this step if you know the full path name of file"
   ]
  },
  {
   "cell_type": "code",
   "execution_count": 12,
   "metadata": {},
   "outputs": [],
   "source": [
    "folder_2019Q1 = paste(path,'/Data/2019 Data/Quarter 1', sep='') #Sets folder location\n",
    "sdemt_2019Q1_path = paste(folder_2019Q1, '/sdemt119.dta', sep='') #Sets file location"
   ]
  },
  {
   "cell_type": "markdown",
   "metadata": {},
   "source": [
    "## 1.2 Read dta"
   ]
  },
  {
   "cell_type": "code",
   "execution_count": 13,
   "metadata": {},
   "outputs": [
    {
     "data": {
      "text/html": [
       "<table>\n",
       "<thead><tr><th scope=col>R_DEF</th><th scope=col>LOC</th><th scope=col>MUN</th><th scope=col>EST</th><th scope=col>EST_D</th><th scope=col>AGEB</th><th scope=col>T_LOC</th><th scope=col>CD_A</th><th scope=col>ENT</th><th scope=col>CON</th><th scope=col>...</th><th scope=col>MA48ME1SM</th><th scope=col>P14APOYOS</th><th scope=col>SCIAN</th><th scope=col>T_TRA</th><th scope=col>EMP_PPAL</th><th scope=col>TUE_PPAL</th><th scope=col>TRANS_PPAL</th><th scope=col>MH_FIL2</th><th scope=col>MH_COL</th><th scope=col>SEC_INS</th></tr></thead>\n",
       "<tbody>\n",
       "\t<tr><td>0    </td><td>1    </td><td>2    </td><td>10   </td><td>117  </td><td>0    </td><td>1    </td><td>1    </td><td>9    </td><td>40001</td><td>...  </td><td>0    </td><td>0    </td><td>18   </td><td>1    </td><td>2    </td><td>2    </td><td>0    </td><td>3    </td><td>6    </td><td>4    </td></tr>\n",
       "\t<tr><td>0    </td><td>1    </td><td>2    </td><td>10   </td><td>117  </td><td>0    </td><td>1    </td><td>1    </td><td>9    </td><td>40001</td><td>...  </td><td>0    </td><td>0    </td><td> 6   </td><td>1    </td><td>2    </td><td>2    </td><td>0    </td><td>3    </td><td>2    </td><td>2    </td></tr>\n",
       "</tbody>\n",
       "</table>\n"
      ],
      "text/latex": [
       "\\begin{tabular}{r|llllllllllllllllllllllllllllllllllllllllllllllllllllllllllllllllllllllllllllllllllllllllllllllllllllllll}\n",
       " R\\_DEF & LOC & MUN & EST & EST\\_D & AGEB & T\\_LOC & CD\\_A & ENT & CON & ... & MA48ME1SM & P14APOYOS & SCIAN & T\\_TRA & EMP\\_PPAL & TUE\\_PPAL & TRANS\\_PPAL & MH\\_FIL2 & MH\\_COL & SEC\\_INS\\\\\n",
       "\\hline\n",
       "\t 0     & 1     & 2     & 10    & 117   & 0     & 1     & 1     & 9     & 40001 & ...   & 0     & 0     & 18    & 1     & 2     & 2     & 0     & 3     & 6     & 4    \\\\\n",
       "\t 0     & 1     & 2     & 10    & 117   & 0     & 1     & 1     & 9     & 40001 & ...   & 0     & 0     &  6    & 1     & 2     & 2     & 0     & 3     & 2     & 2    \\\\\n",
       "\\end{tabular}\n"
      ],
      "text/markdown": [
       "\n",
       "| R_DEF | LOC | MUN | EST | EST_D | AGEB | T_LOC | CD_A | ENT | CON | ... | MA48ME1SM | P14APOYOS | SCIAN | T_TRA | EMP_PPAL | TUE_PPAL | TRANS_PPAL | MH_FIL2 | MH_COL | SEC_INS |\n",
       "|---|---|---|---|---|---|---|---|---|---|---|---|---|---|---|---|---|---|---|---|---|\n",
       "| 0     | 1     | 2     | 10    | 117   | 0     | 1     | 1     | 9     | 40001 | ...   | 0     | 0     | 18    | 1     | 2     | 2     | 0     | 3     | 6     | 4     |\n",
       "| 0     | 1     | 2     | 10    | 117   | 0     | 1     | 1     | 9     | 40001 | ...   | 0     | 0     |  6    | 1     | 2     | 2     | 0     | 3     | 2     | 2     |\n",
       "\n"
      ],
      "text/plain": [
       "  R_DEF LOC MUN EST EST_D AGEB T_LOC CD_A ENT CON   ... MA48ME1SM P14APOYOS\n",
       "1 0     1   2   10  117   0    1     1    9   40001 ... 0         0        \n",
       "2 0     1   2   10  117   0    1     1    9   40001 ... 0         0        \n",
       "  SCIAN T_TRA EMP_PPAL TUE_PPAL TRANS_PPAL MH_FIL2 MH_COL SEC_INS\n",
       "1 18    1     2        2        0          3       6      4      \n",
       "2  6    1     2        2        0          3       2      2      "
      ]
     },
     "metadata": {},
     "output_type": "display_data"
    }
   ],
   "source": [
    "#df_sdemt = read.dta13(sdemt_2019Q1_path) #This line of code is easier but will show some warning messages\n",
    "df_sdemt = suppressWarnings(read.dta13(sdemt_2019Q1_path)) #This line of code gets rid of warning messages\n",
    "df_sdemt %>% head(2) #Shows first two observations of the data set"
   ]
  },
  {
   "cell_type": "code",
   "execution_count": null,
   "metadata": {},
   "outputs": [],
   "source": []
  },
  {
   "cell_type": "markdown",
   "metadata": {},
   "source": [
    "# 2. Select columns"
   ]
  },
  {
   "cell_type": "markdown",
   "metadata": {},
   "source": [
    "## 2.1 Show all column names"
   ]
  },
  {
   "cell_type": "code",
   "execution_count": 22,
   "metadata": {},
   "outputs": [
    {
     "data": {
      "text/html": [
       "<ol class=list-inline>\n",
       "\t<li>'R_DEF'</li>\n",
       "\t<li>'LOC'</li>\n",
       "\t<li>'MUN'</li>\n",
       "</ol>\n"
      ],
      "text/latex": [
       "\\begin{enumerate*}\n",
       "\\item 'R\\_DEF'\n",
       "\\item 'LOC'\n",
       "\\item 'MUN'\n",
       "\\end{enumerate*}\n"
      ],
      "text/markdown": [
       "1. 'R_DEF'\n",
       "2. 'LOC'\n",
       "3. 'MUN'\n",
       "\n",
       "\n"
      ],
      "text/plain": [
       "[1] \"R_DEF\" \"LOC\"   \"MUN\"  "
      ]
     },
     "metadata": {},
     "output_type": "display_data"
    }
   ],
   "source": [
    "colnames(df_sdemt)[c(1:3)] #[c(1:3)] shows first three observations"
   ]
  },
  {
   "cell_type": "markdown",
   "metadata": {},
   "source": [
    "## 2.2 Select two columns"
   ]
  },
  {
   "cell_type": "code",
   "execution_count": 23,
   "metadata": {},
   "outputs": [
    {
     "data": {
      "text/html": [
       "<table>\n",
       "<thead><tr><th scope=col>MUN</th><th scope=col>LOC</th></tr></thead>\n",
       "<tbody>\n",
       "\t<tr><td>2</td><td>1</td></tr>\n",
       "\t<tr><td>2</td><td>1</td></tr>\n",
       "</tbody>\n",
       "</table>\n"
      ],
      "text/latex": [
       "\\begin{tabular}{r|ll}\n",
       " MUN & LOC\\\\\n",
       "\\hline\n",
       "\t 2 & 1\\\\\n",
       "\t 2 & 1\\\\\n",
       "\\end{tabular}\n"
      ],
      "text/markdown": [
       "\n",
       "| MUN | LOC |\n",
       "|---|---|\n",
       "| 2 | 1 |\n",
       "| 2 | 1 |\n",
       "\n"
      ],
      "text/plain": [
       "  MUN LOC\n",
       "1 2   1  \n",
       "2 2   1  "
      ]
     },
     "metadata": {},
     "output_type": "display_data"
    }
   ],
   "source": [
    "df_sdemt %>% select(MUN, LOC) %>% head(2) #Erase %>% head(2) to show the whole columns"
   ]
  },
  {
   "cell_type": "markdown",
   "metadata": {},
   "source": [
    "## 2.3 Show summary of data"
   ]
  },
  {
   "cell_type": "code",
   "execution_count": 24,
   "metadata": {},
   "outputs": [
    {
     "data": {
      "text/plain": [
       "      MUN              LOC         \n",
       " Min.   :  1.00   Min.   :   1.00  \n",
       " 1st Qu.:  6.00   1st Qu.:   1.00  \n",
       " Median : 21.00   Median :   1.00  \n",
       " Mean   : 40.96   Mean   :  40.02  \n",
       " 3rd Qu.: 50.00   3rd Qu.:   2.00  \n",
       " Max.   :570.00   Max.   :9046.00  "
      ]
     },
     "metadata": {},
     "output_type": "display_data"
    }
   ],
   "source": [
    "df_sdemt %>% select(MUN, LOC) %>% summary()"
   ]
  },
  {
   "cell_type": "markdown",
   "metadata": {},
   "source": [
    "### 2.3.1 Show number of observations"
   ]
  },
  {
   "cell_type": "code",
   "execution_count": 29,
   "metadata": {},
   "outputs": [
    {
     "data": {
      "text/html": [
       "<table>\n",
       "<thead><tr><th scope=col>n</th></tr></thead>\n",
       "<tbody>\n",
       "\t<tr><td>406036</td></tr>\n",
       "</tbody>\n",
       "</table>\n"
      ],
      "text/latex": [
       "\\begin{tabular}{r|l}\n",
       " n\\\\\n",
       "\\hline\n",
       "\t 406036\\\\\n",
       "\\end{tabular}\n"
      ],
      "text/markdown": [
       "\n",
       "| n |\n",
       "|---|\n",
       "| 406036 |\n",
       "\n"
      ],
      "text/plain": [
       "  n     \n",
       "1 406036"
      ]
     },
     "metadata": {},
     "output_type": "display_data"
    }
   ],
   "source": [
    "df_sdemt %>% count()"
   ]
  },
  {
   "cell_type": "markdown",
   "metadata": {},
   "source": [
    "## 2.4 Rename columns"
   ]
  },
  {
   "cell_type": "markdown",
   "metadata": {},
   "source": [
    "### 2.4.1 Basic renaming"
   ]
  },
  {
   "cell_type": "code",
   "execution_count": 26,
   "metadata": {},
   "outputs": [
    {
     "data": {
      "text/html": [
       "<table>\n",
       "<thead><tr><th scope=col>R_DEF</th><th scope=col>LOC</th><th scope=col>Municipality</th><th scope=col>EST</th><th scope=col>EST_D</th><th scope=col>AGEB</th><th scope=col>T_LOC</th><th scope=col>CD_A</th><th scope=col>ENT</th><th scope=col>CON</th><th scope=col>...</th><th scope=col>MA48ME1SM</th><th scope=col>P14APOYOS</th><th scope=col>SCIAN</th><th scope=col>T_TRA</th><th scope=col>EMP_PPAL</th><th scope=col>TUE_PPAL</th><th scope=col>TRANS_PPAL</th><th scope=col>MH_FIL2</th><th scope=col>MH_COL</th><th scope=col>SEC_INS</th></tr></thead>\n",
       "<tbody>\n",
       "\t<tr><td>0    </td><td>1    </td><td>2    </td><td>10   </td><td>117  </td><td>0    </td><td>1    </td><td>1    </td><td>9    </td><td>40001</td><td>...  </td><td>0    </td><td>0    </td><td>18   </td><td>1    </td><td>2    </td><td>2    </td><td>0    </td><td>3    </td><td>6    </td><td>4    </td></tr>\n",
       "\t<tr><td>0    </td><td>1    </td><td>2    </td><td>10   </td><td>117  </td><td>0    </td><td>1    </td><td>1    </td><td>9    </td><td>40001</td><td>...  </td><td>0    </td><td>0    </td><td> 6   </td><td>1    </td><td>2    </td><td>2    </td><td>0    </td><td>3    </td><td>2    </td><td>2    </td></tr>\n",
       "\t<tr><td>0    </td><td>1    </td><td>2    </td><td>10   </td><td>117  </td><td>0    </td><td>1    </td><td>1    </td><td>9    </td><td>40001</td><td>...  </td><td>0    </td><td>0    </td><td> 0   </td><td>1    </td><td>0    </td><td>0    </td><td>0    </td><td>0    </td><td>0    </td><td>0    </td></tr>\n",
       "</tbody>\n",
       "</table>\n"
      ],
      "text/latex": [
       "\\begin{tabular}{r|llllllllllllllllllllllllllllllllllllllllllllllllllllllllllllllllllllllllllllllllllllllllllllllllllllllll}\n",
       " R\\_DEF & LOC & Municipality & EST & EST\\_D & AGEB & T\\_LOC & CD\\_A & ENT & CON & ... & MA48ME1SM & P14APOYOS & SCIAN & T\\_TRA & EMP\\_PPAL & TUE\\_PPAL & TRANS\\_PPAL & MH\\_FIL2 & MH\\_COL & SEC\\_INS\\\\\n",
       "\\hline\n",
       "\t 0     & 1     & 2     & 10    & 117   & 0     & 1     & 1     & 9     & 40001 & ...   & 0     & 0     & 18    & 1     & 2     & 2     & 0     & 3     & 6     & 4    \\\\\n",
       "\t 0     & 1     & 2     & 10    & 117   & 0     & 1     & 1     & 9     & 40001 & ...   & 0     & 0     &  6    & 1     & 2     & 2     & 0     & 3     & 2     & 2    \\\\\n",
       "\t 0     & 1     & 2     & 10    & 117   & 0     & 1     & 1     & 9     & 40001 & ...   & 0     & 0     &  0    & 1     & 0     & 0     & 0     & 0     & 0     & 0    \\\\\n",
       "\\end{tabular}\n"
      ],
      "text/markdown": [
       "\n",
       "| R_DEF | LOC | Municipality | EST | EST_D | AGEB | T_LOC | CD_A | ENT | CON | ... | MA48ME1SM | P14APOYOS | SCIAN | T_TRA | EMP_PPAL | TUE_PPAL | TRANS_PPAL | MH_FIL2 | MH_COL | SEC_INS |\n",
       "|---|---|---|---|---|---|---|---|---|---|---|---|---|---|---|---|---|---|---|---|---|\n",
       "| 0     | 1     | 2     | 10    | 117   | 0     | 1     | 1     | 9     | 40001 | ...   | 0     | 0     | 18    | 1     | 2     | 2     | 0     | 3     | 6     | 4     |\n",
       "| 0     | 1     | 2     | 10    | 117   | 0     | 1     | 1     | 9     | 40001 | ...   | 0     | 0     |  6    | 1     | 2     | 2     | 0     | 3     | 2     | 2     |\n",
       "| 0     | 1     | 2     | 10    | 117   | 0     | 1     | 1     | 9     | 40001 | ...   | 0     | 0     |  0    | 1     | 0     | 0     | 0     | 0     | 0     | 0     |\n",
       "\n"
      ],
      "text/plain": [
       "  R_DEF LOC Municipality EST EST_D AGEB T_LOC CD_A ENT CON   ... MA48ME1SM\n",
       "1 0     1   2            10  117   0    1     1    9   40001 ... 0        \n",
       "2 0     1   2            10  117   0    1     1    9   40001 ... 0        \n",
       "3 0     1   2            10  117   0    1     1    9   40001 ... 0        \n",
       "  P14APOYOS SCIAN T_TRA EMP_PPAL TUE_PPAL TRANS_PPAL MH_FIL2 MH_COL SEC_INS\n",
       "1 0         18    1     2        2        0          3       6      4      \n",
       "2 0          6    1     2        2        0          3       2      2      \n",
       "3 0          0    1     0        0        0          0       0      0      "
      ]
     },
     "metadata": {},
     "output_type": "display_data"
    }
   ],
   "source": [
    "df_sdemt %>% rename('Education'= CS_P13_1,\n",
    "                   'Municipality'=MUN,\n",
    "                   #'NEWNAME'= ORIGINAL_NAME\n",
    "                   ) %>% head(3)\n"
   ]
  },
  {
   "cell_type": "markdown",
   "metadata": {},
   "source": [
    "### 2.4.2 Rename and save"
   ]
  },
  {
   "cell_type": "code",
   "execution_count": 28,
   "metadata": {},
   "outputs": [
    {
     "data": {
      "text/html": [
       "<table>\n",
       "<thead><tr><th scope=col>Education</th></tr></thead>\n",
       "<tbody>\n",
       "\t<tr><td>6</td></tr>\n",
       "\t<tr><td>7</td></tr>\n",
       "</tbody>\n",
       "</table>\n"
      ],
      "text/latex": [
       "\\begin{tabular}{r|l}\n",
       " Education\\\\\n",
       "\\hline\n",
       "\t 6\\\\\n",
       "\t 7\\\\\n",
       "\\end{tabular}\n"
      ],
      "text/markdown": [
       "\n",
       "| Education |\n",
       "|---|\n",
       "| 6 |\n",
       "| 7 |\n",
       "\n"
      ],
      "text/plain": [
       "  Education\n",
       "1 6        \n",
       "2 7        "
      ]
     },
     "metadata": {},
     "output_type": "display_data"
    }
   ],
   "source": [
    "#New column\n",
    "df_sdemt_renamed = df_sdemt %>% rename('Education'= CS_P13_1)\n",
    "#Check to see if the column exists\n",
    "df_sdemt_renamed %>% select(Education)  %>% head(2) "
   ]
  },
  {
   "cell_type": "markdown",
   "metadata": {},
   "source": [
    "# 3. Recode data"
   ]
  },
  {
   "cell_type": "markdown",
   "metadata": {},
   "source": [
    "## 3.1 Show the unique observations for one column "
   ]
  },
  {
   "cell_type": "code",
   "execution_count": 55,
   "metadata": {},
   "outputs": [
    {
     "data": {
      "text/html": [
       "<ol class=list-inline>\n",
       "\t<li>1</li>\n",
       "\t<li>0</li>\n",
       "\t<li>2</li>\n",
       "</ol>\n"
      ],
      "text/latex": [
       "\\begin{enumerate*}\n",
       "\\item 1\n",
       "\\item 0\n",
       "\\item 2\n",
       "\\end{enumerate*}\n"
      ],
      "text/markdown": [
       "1. 1\n",
       "2. 0\n",
       "3. 2\n",
       "\n",
       "\n"
      ],
      "text/plain": [
       "[1] 1 0 2"
      ]
     },
     "metadata": {},
     "output_type": "display_data"
    }
   ],
   "source": [
    "unique(df_sdemt$T_TRA)"
   ]
  },
  {
   "cell_type": "markdown",
   "metadata": {},
   "source": [
    "## 3.2 Change all non-1 observations to zero"
   ]
  },
  {
   "cell_type": "markdown",
   "metadata": {},
   "source": [
    "### 3.2.1 Using recode function "
   ]
  },
  {
   "cell_type": "code",
   "execution_count": 63,
   "metadata": {},
   "outputs": [
    {
     "data": {
      "text/html": [
       "<table>\n",
       "<thead><tr><th scope=col>Dummy_example</th></tr></thead>\n",
       "<tbody>\n",
       "\t<tr><td>1</td></tr>\n",
       "\t<tr><td>1</td></tr>\n",
       "\t<tr><td>1</td></tr>\n",
       "</tbody>\n",
       "</table>\n"
      ],
      "text/latex": [
       "\\begin{tabular}{r|l}\n",
       " Dummy\\_example\\\\\n",
       "\\hline\n",
       "\t 1\\\\\n",
       "\t 1\\\\\n",
       "\t 1\\\\\n",
       "\\end{tabular}\n"
      ],
      "text/markdown": [
       "\n",
       "| Dummy_example |\n",
       "|---|\n",
       "| 1 |\n",
       "| 1 |\n",
       "| 1 |\n",
       "\n"
      ],
      "text/plain": [
       "  Dummy_example\n",
       "1 1            \n",
       "2 1            \n",
       "3 1            "
      ]
     },
     "metadata": {},
     "output_type": "display_data"
    }
   ],
   "source": [
    "df_sdemt  %>%  mutate(Dummy_example = recode(T_TRA, \n",
    "                                             '1' = '1',\n",
    "                                            '0'='0',\n",
    "                                            '2'='0'))  %>%  select(Dummy_example) %>% head(3)"
   ]
  },
  {
   "cell_type": "markdown",
   "metadata": {},
   "source": [
    "### 3.2.2 Using as.numeric function"
   ]
  },
  {
   "cell_type": "code",
   "execution_count": 68,
   "metadata": {},
   "outputs": [
    {
     "data": {
      "text/html": [
       "<table>\n",
       "<thead><tr><th scope=col>R_DEF</th><th scope=col>LOC</th><th scope=col>MUN</th><th scope=col>EST</th><th scope=col>EST_D</th><th scope=col>AGEB</th><th scope=col>T_LOC</th><th scope=col>CD_A</th><th scope=col>ENT</th><th scope=col>CON</th><th scope=col>...</th><th scope=col>P14APOYOS</th><th scope=col>SCIAN</th><th scope=col>T_TRA</th><th scope=col>EMP_PPAL</th><th scope=col>TUE_PPAL</th><th scope=col>TRANS_PPAL</th><th scope=col>MH_FIL2</th><th scope=col>MH_COL</th><th scope=col>SEC_INS</th><th scope=col>Dummy_example</th></tr></thead>\n",
       "<tbody>\n",
       "\t<tr><td>0    </td><td>1    </td><td>2    </td><td>10   </td><td>117  </td><td>0    </td><td>1    </td><td>1    </td><td>9    </td><td>40001</td><td>...  </td><td>0    </td><td>18   </td><td>1    </td><td>2    </td><td>2    </td><td>0    </td><td>3    </td><td>6    </td><td>4    </td><td>1    </td></tr>\n",
       "\t<tr><td>0    </td><td>1    </td><td>2    </td><td>10   </td><td>117  </td><td>0    </td><td>1    </td><td>1    </td><td>9    </td><td>40001</td><td>...  </td><td>0    </td><td> 6   </td><td>1    </td><td>2    </td><td>2    </td><td>0    </td><td>3    </td><td>2    </td><td>2    </td><td>1    </td></tr>\n",
       "\t<tr><td>0    </td><td>1    </td><td>2    </td><td>10   </td><td>117  </td><td>0    </td><td>1    </td><td>1    </td><td>9    </td><td>40001</td><td>...  </td><td>0    </td><td> 0   </td><td>1    </td><td>0    </td><td>0    </td><td>0    </td><td>0    </td><td>0    </td><td>0    </td><td>1    </td></tr>\n",
       "</tbody>\n",
       "</table>\n"
      ],
      "text/latex": [
       "\\begin{tabular}{r|lllllllllllllllllllllllllllllllllllllllllllllllllllllllllllllllllllllllllllllllllllllllllllllllllllllllll}\n",
       " R\\_DEF & LOC & MUN & EST & EST\\_D & AGEB & T\\_LOC & CD\\_A & ENT & CON & ... & P14APOYOS & SCIAN & T\\_TRA & EMP\\_PPAL & TUE\\_PPAL & TRANS\\_PPAL & MH\\_FIL2 & MH\\_COL & SEC\\_INS & Dummy\\_example\\\\\n",
       "\\hline\n",
       "\t 0     & 1     & 2     & 10    & 117   & 0     & 1     & 1     & 9     & 40001 & ...   & 0     & 18    & 1     & 2     & 2     & 0     & 3     & 6     & 4     & 1    \\\\\n",
       "\t 0     & 1     & 2     & 10    & 117   & 0     & 1     & 1     & 9     & 40001 & ...   & 0     &  6    & 1     & 2     & 2     & 0     & 3     & 2     & 2     & 1    \\\\\n",
       "\t 0     & 1     & 2     & 10    & 117   & 0     & 1     & 1     & 9     & 40001 & ...   & 0     &  0    & 1     & 0     & 0     & 0     & 0     & 0     & 0     & 1    \\\\\n",
       "\\end{tabular}\n"
      ],
      "text/markdown": [
       "\n",
       "| R_DEF | LOC | MUN | EST | EST_D | AGEB | T_LOC | CD_A | ENT | CON | ... | P14APOYOS | SCIAN | T_TRA | EMP_PPAL | TUE_PPAL | TRANS_PPAL | MH_FIL2 | MH_COL | SEC_INS | Dummy_example |\n",
       "|---|---|---|---|---|---|---|---|---|---|---|---|---|---|---|---|---|---|---|---|---|\n",
       "| 0     | 1     | 2     | 10    | 117   | 0     | 1     | 1     | 9     | 40001 | ...   | 0     | 18    | 1     | 2     | 2     | 0     | 3     | 6     | 4     | 1     |\n",
       "| 0     | 1     | 2     | 10    | 117   | 0     | 1     | 1     | 9     | 40001 | ...   | 0     |  6    | 1     | 2     | 2     | 0     | 3     | 2     | 2     | 1     |\n",
       "| 0     | 1     | 2     | 10    | 117   | 0     | 1     | 1     | 9     | 40001 | ...   | 0     |  0    | 1     | 0     | 0     | 0     | 0     | 0     | 0     | 1     |\n",
       "\n"
      ],
      "text/plain": [
       "  R_DEF LOC MUN EST EST_D AGEB T_LOC CD_A ENT CON   ... P14APOYOS SCIAN T_TRA\n",
       "1 0     1   2   10  117   0    1     1    9   40001 ... 0         18    1    \n",
       "2 0     1   2   10  117   0    1     1    9   40001 ... 0          6    1    \n",
       "3 0     1   2   10  117   0    1     1    9   40001 ... 0          0    1    \n",
       "  EMP_PPAL TUE_PPAL TRANS_PPAL MH_FIL2 MH_COL SEC_INS Dummy_example\n",
       "1 2        2        0          3       6      4       1            \n",
       "2 2        2        0          3       2      2       1            \n",
       "3 0        0        0          0       0      0       1            "
      ]
     },
     "metadata": {},
     "output_type": "display_data"
    }
   ],
   "source": [
    "df_sdemt  %>%  mutate(Dummy_example = as.numeric(T_TRA==1))   %>% head(3)"
   ]
  },
  {
   "cell_type": "markdown",
   "metadata": {},
   "source": [
    "### 3.2.3 Save the code from 3.2 into dataframe "
   ]
  },
  {
   "cell_type": "code",
   "execution_count": 69,
   "metadata": {},
   "outputs": [
    {
     "data": {
      "text/html": [
       "<table>\n",
       "<thead><tr><th scope=col>R_DEF</th><th scope=col>LOC</th><th scope=col>MUN</th><th scope=col>EST</th><th scope=col>EST_D</th><th scope=col>AGEB</th><th scope=col>T_LOC</th><th scope=col>CD_A</th><th scope=col>ENT</th><th scope=col>CON</th><th scope=col>...</th><th scope=col>P14APOYOS</th><th scope=col>SCIAN</th><th scope=col>T_TRA</th><th scope=col>EMP_PPAL</th><th scope=col>TUE_PPAL</th><th scope=col>TRANS_PPAL</th><th scope=col>MH_FIL2</th><th scope=col>MH_COL</th><th scope=col>SEC_INS</th><th scope=col>Dummy_example</th></tr></thead>\n",
       "<tbody>\n",
       "\t<tr><td>0    </td><td>1    </td><td>2    </td><td>10   </td><td>117  </td><td>0    </td><td>1    </td><td>1    </td><td>9    </td><td>40001</td><td>...  </td><td>0    </td><td>18   </td><td>1    </td><td>2    </td><td>2    </td><td>0    </td><td>3    </td><td>6    </td><td>4    </td><td>1    </td></tr>\n",
       "\t<tr><td>0    </td><td>1    </td><td>2    </td><td>10   </td><td>117  </td><td>0    </td><td>1    </td><td>1    </td><td>9    </td><td>40001</td><td>...  </td><td>0    </td><td> 6   </td><td>1    </td><td>2    </td><td>2    </td><td>0    </td><td>3    </td><td>2    </td><td>2    </td><td>1    </td></tr>\n",
       "</tbody>\n",
       "</table>\n"
      ],
      "text/latex": [
       "\\begin{tabular}{r|lllllllllllllllllllllllllllllllllllllllllllllllllllllllllllllllllllllllllllllllllllllllllllllllllllllllll}\n",
       " R\\_DEF & LOC & MUN & EST & EST\\_D & AGEB & T\\_LOC & CD\\_A & ENT & CON & ... & P14APOYOS & SCIAN & T\\_TRA & EMP\\_PPAL & TUE\\_PPAL & TRANS\\_PPAL & MH\\_FIL2 & MH\\_COL & SEC\\_INS & Dummy\\_example\\\\\n",
       "\\hline\n",
       "\t 0     & 1     & 2     & 10    & 117   & 0     & 1     & 1     & 9     & 40001 & ...   & 0     & 18    & 1     & 2     & 2     & 0     & 3     & 6     & 4     & 1    \\\\\n",
       "\t 0     & 1     & 2     & 10    & 117   & 0     & 1     & 1     & 9     & 40001 & ...   & 0     &  6    & 1     & 2     & 2     & 0     & 3     & 2     & 2     & 1    \\\\\n",
       "\\end{tabular}\n"
      ],
      "text/markdown": [
       "\n",
       "| R_DEF | LOC | MUN | EST | EST_D | AGEB | T_LOC | CD_A | ENT | CON | ... | P14APOYOS | SCIAN | T_TRA | EMP_PPAL | TUE_PPAL | TRANS_PPAL | MH_FIL2 | MH_COL | SEC_INS | Dummy_example |\n",
       "|---|---|---|---|---|---|---|---|---|---|---|---|---|---|---|---|---|---|---|---|---|\n",
       "| 0     | 1     | 2     | 10    | 117   | 0     | 1     | 1     | 9     | 40001 | ...   | 0     | 18    | 1     | 2     | 2     | 0     | 3     | 6     | 4     | 1     |\n",
       "| 0     | 1     | 2     | 10    | 117   | 0     | 1     | 1     | 9     | 40001 | ...   | 0     |  6    | 1     | 2     | 2     | 0     | 3     | 2     | 2     | 1     |\n",
       "\n"
      ],
      "text/plain": [
       "  R_DEF LOC MUN EST EST_D AGEB T_LOC CD_A ENT CON   ... P14APOYOS SCIAN T_TRA\n",
       "1 0     1   2   10  117   0    1     1    9   40001 ... 0         18    1    \n",
       "2 0     1   2   10  117   0    1     1    9   40001 ... 0          6    1    \n",
       "  EMP_PPAL TUE_PPAL TRANS_PPAL MH_FIL2 MH_COL SEC_INS Dummy_example\n",
       "1 2        2        0          3       6      4       1            \n",
       "2 2        2        0          3       2      2       1            "
      ]
     },
     "metadata": {},
     "output_type": "display_data"
    }
   ],
   "source": [
    "df_sdemt = df_sdemt  %>%  mutate(Dummy_example = as.numeric(T_TRA==1)) \n",
    "#Now we over-wrote our old dataframe with new column you will notice on the far right\n",
    "\n",
    "df_sdemt %>% head(2)"
   ]
  },
  {
   "cell_type": "markdown",
   "metadata": {},
   "source": [
    "# 4. Merge"
   ]
  },
  {
   "cell_type": "code",
   "execution_count": null,
   "metadata": {},
   "outputs": [],
   "source": [
    "#merge(df1, df2, by=c(\"INDVIDUAL ID\",\"HOUSEHOLD ID\"), all=FALSE)"
   ]
  }
 ],
 "metadata": {
  "kernelspec": {
   "display_name": "R",
   "language": "R",
   "name": "ir"
  },
  "language_info": {
   "codemirror_mode": "r",
   "file_extension": ".r",
   "mimetype": "text/x-r-source",
   "name": "R",
   "pygments_lexer": "r",
   "version": "3.6.1"
  }
 },
 "nbformat": 4,
 "nbformat_minor": 4
}
