{
 "cells": [
  {
   "cell_type": "markdown",
   "metadata": {},
   "source": [
    "PLCY 782\n",
    "Empirical Exercise 3: Due date on ELMS April 13th, 2020 7PM\n",
    "The Informal Sector\n",
    "The objective of this exercise is to study the informal sector using the Mexican Family Life Survey. Using the 2002 data round, please write a program (in whichever statistical package you prefer) to answer the following questions:\n",
    "1. What is the labor market participation of men and women aged 16 to 65? \n",
    "    - 1.1 Provide labor market participation rates by 5 year age ranges for men and women.\n",
    "    \n",
    "    \n",
    "2. Construct at least two different definitions of the informal sector to answer the following questions.\n",
    "    - 2.1 What proportion of men and women who work are in the informal sector?\n",
    "    - 2.2 What are the average hours worked of men and women in the informal sector versus the formal sector?\n",
    "    - 2.3 Compare total earnings, average earnings per hour and median earnings per hour in the formal and informal sector for men and women.\n",
    "    - 2.4 TB24 asks broadly about occupation using this question repeat c) above. \n",
    "    - 2.5 Are there occupations where earnings in the informal sector are close to or higher than the formal sector?"
   ]
  },
  {
   "cell_type": "code",
   "execution_count": 5,
   "metadata": {},
   "outputs": [],
   "source": [
    "#Import libraries\n",
    "import re\n",
    "import os\n",
    "import sys\n",
    "import numpy as np\n",
    "import pandas as pd\n",
    "import seaborn as sns\n",
    "import matplotlib.pyplot as plt"
   ]
  },
  {
   "cell_type": "markdown",
   "metadata": {},
   "source": [
    "# A. Import data\n"
   ]
  },
  {
   "cell_type": "markdown",
   "metadata": {},
   "source": [
    "## A.1.1 Import labor participation data \"c_ls.dta\"\n",
    "- used in Q.1"
   ]
  },
  {
   "cell_type": "code",
   "execution_count": 6,
   "metadata": {},
   "outputs": [
    {
     "name": "stdout",
     "output_type": "stream",
     "text": [
      "<class 'pandas.core.frame.DataFrame'>\n",
      "Int64Index: 35677 entries, 0 to 35676\n",
      "Columns: 24 entries, folio to ls18\n",
      "dtypes: float32(24)\n",
      "memory usage: 3.5 MB\n"
     ]
    },
    {
     "data": {
      "text/html": [
       "<div>\n",
       "<style scoped>\n",
       "    .dataframe tbody tr th:only-of-type {\n",
       "        vertical-align: middle;\n",
       "    }\n",
       "\n",
       "    .dataframe tbody tr th {\n",
       "        vertical-align: top;\n",
       "    }\n",
       "\n",
       "    .dataframe thead th {\n",
       "        text-align: right;\n",
       "    }\n",
       "</style>\n",
       "<table border=\"1\" class=\"dataframe\">\n",
       "  <thead>\n",
       "    <tr style=\"text-align: right;\">\n",
       "      <th></th>\n",
       "      <th>folio</th>\n",
       "      <th>ls</th>\n",
       "      <th>secuencia</th>\n",
       "      <th>ls00</th>\n",
       "      <th>ls02_1</th>\n",
       "      <th>ls02_2</th>\n",
       "      <th>ls03_1</th>\n",
       "      <th>ls03_21</th>\n",
       "      <th>ls03_22</th>\n",
       "      <th>ls04</th>\n",
       "      <th>...</th>\n",
       "      <th>ls09</th>\n",
       "      <th>ls10</th>\n",
       "      <th>ls11</th>\n",
       "      <th>ls12</th>\n",
       "      <th>ls13_1</th>\n",
       "      <th>ls13_2</th>\n",
       "      <th>ls14</th>\n",
       "      <th>ls15_1</th>\n",
       "      <th>ls16</th>\n",
       "      <th>ls18</th>\n",
       "    </tr>\n",
       "  </thead>\n",
       "  <tbody>\n",
       "    <tr>\n",
       "      <th>0</th>\n",
       "      <td>1000.0</td>\n",
       "      <td>1.0</td>\n",
       "      <td>1.0</td>\n",
       "      <td>1.0</td>\n",
       "      <td>1.0</td>\n",
       "      <td>37.0</td>\n",
       "      <td>NaN</td>\n",
       "      <td>NaN</td>\n",
       "      <td>NaN</td>\n",
       "      <td>1.0</td>\n",
       "      <td>...</td>\n",
       "      <td>1.0</td>\n",
       "      <td>5.0</td>\n",
       "      <td>2.0</td>\n",
       "      <td>1.0</td>\n",
       "      <td>1.0</td>\n",
       "      <td>32000.0</td>\n",
       "      <td>3.0</td>\n",
       "      <td>6.0</td>\n",
       "      <td>3.0</td>\n",
       "      <td>NaN</td>\n",
       "    </tr>\n",
       "    <tr>\n",
       "      <th>1</th>\n",
       "      <td>1000.0</td>\n",
       "      <td>2.0</td>\n",
       "      <td>2.0</td>\n",
       "      <td>2.0</td>\n",
       "      <td>1.0</td>\n",
       "      <td>35.0</td>\n",
       "      <td>NaN</td>\n",
       "      <td>NaN</td>\n",
       "      <td>NaN</td>\n",
       "      <td>3.0</td>\n",
       "      <td>...</td>\n",
       "      <td>1.0</td>\n",
       "      <td>5.0</td>\n",
       "      <td>1.0</td>\n",
       "      <td>3.0</td>\n",
       "      <td>NaN</td>\n",
       "      <td>NaN</td>\n",
       "      <td>1.0</td>\n",
       "      <td>NaN</td>\n",
       "      <td>3.0</td>\n",
       "      <td>NaN</td>\n",
       "    </tr>\n",
       "    <tr>\n",
       "      <th>2</th>\n",
       "      <td>1000.0</td>\n",
       "      <td>3.0</td>\n",
       "      <td>3.0</td>\n",
       "      <td>3.0</td>\n",
       "      <td>1.0</td>\n",
       "      <td>16.0</td>\n",
       "      <td>NaN</td>\n",
       "      <td>NaN</td>\n",
       "      <td>NaN</td>\n",
       "      <td>3.0</td>\n",
       "      <td>...</td>\n",
       "      <td>1.0</td>\n",
       "      <td>6.0</td>\n",
       "      <td>NaN</td>\n",
       "      <td>3.0</td>\n",
       "      <td>NaN</td>\n",
       "      <td>NaN</td>\n",
       "      <td>6.0</td>\n",
       "      <td>0.0</td>\n",
       "      <td>1.0</td>\n",
       "      <td>2.0</td>\n",
       "    </tr>\n",
       "  </tbody>\n",
       "</table>\n",
       "<p>3 rows × 24 columns</p>\n",
       "</div>"
      ],
      "text/plain": [
       "    folio   ls  secuencia  ls00  ls02_1  ls02_2  ls03_1  ls03_21  ls03_22  \\\n",
       "0  1000.0  1.0        1.0   1.0     1.0    37.0     NaN      NaN      NaN   \n",
       "1  1000.0  2.0        2.0   2.0     1.0    35.0     NaN      NaN      NaN   \n",
       "2  1000.0  3.0        3.0   3.0     1.0    16.0     NaN      NaN      NaN   \n",
       "\n",
       "   ls04  ...  ls09  ls10  ls11  ls12  ls13_1   ls13_2  ls14  ls15_1  ls16  \\\n",
       "0   1.0  ...   1.0   5.0   2.0   1.0     1.0  32000.0   3.0     6.0   3.0   \n",
       "1   3.0  ...   1.0   5.0   1.0   3.0     NaN      NaN   1.0     NaN   3.0   \n",
       "2   3.0  ...   1.0   6.0   NaN   3.0     NaN      NaN   6.0     0.0   1.0   \n",
       "\n",
       "   ls18  \n",
       "0   NaN  \n",
       "1   NaN  \n",
       "2   2.0  \n",
       "\n",
       "[3 rows x 24 columns]"
      ]
     },
     "execution_count": 6,
     "metadata": {},
     "output_type": "execute_result"
    }
   ],
   "source": [
    "df_labor = pd.read_stata(\"hh02dta_bc/c_ls.dta\")\n",
    "df_labor.info(verbose=False)\n",
    "df_labor.head(3)"
   ]
  },
  {
   "cell_type": "markdown",
   "metadata": {},
   "source": [
    "## A.1.2 Import income data \"iiia_tb\""
   ]
  },
  {
   "cell_type": "code",
   "execution_count": 7,
   "metadata": {},
   "outputs": [
    {
     "name": "stdout",
     "output_type": "stream",
     "text": [
      "<class 'pandas.core.frame.DataFrame'>\n",
      "Int64Index: 19755 entries, 0 to 19754\n",
      "Columns: 252 entries, tb02_1 to tb24_26p_scian\n",
      "dtypes: float32(56), float64(149), object(47)\n",
      "memory usage: 33.9+ MB\n"
     ]
    },
    {
     "data": {
      "text/html": [
       "<div>\n",
       "<style scoped>\n",
       "    .dataframe tbody tr th:only-of-type {\n",
       "        vertical-align: middle;\n",
       "    }\n",
       "\n",
       "    .dataframe tbody tr th {\n",
       "        vertical-align: top;\n",
       "    }\n",
       "\n",
       "    .dataframe thead th {\n",
       "        text-align: right;\n",
       "    }\n",
       "</style>\n",
       "<table border=\"1\" class=\"dataframe\">\n",
       "  <thead>\n",
       "    <tr style=\"text-align: right;\">\n",
       "      <th></th>\n",
       "      <th>tb02_1</th>\n",
       "      <th>tb03</th>\n",
       "      <th>tb04</th>\n",
       "      <th>tb05</th>\n",
       "      <th>tb06</th>\n",
       "      <th>tb07</th>\n",
       "      <th>tb08</th>\n",
       "      <th>tb09_1</th>\n",
       "      <th>tb09_2</th>\n",
       "      <th>tb10</th>\n",
       "      <th>...</th>\n",
       "      <th>tb24_26s_cmo</th>\n",
       "      <th>tb24_26s_scian</th>\n",
       "      <th>tb41_43p_cmo</th>\n",
       "      <th>tb41_43p_scian</th>\n",
       "      <th>tb41_43s_cmo</th>\n",
       "      <th>tb41_43s_scian</th>\n",
       "      <th>tb58_59_cmo</th>\n",
       "      <th>tb58_59_scian</th>\n",
       "      <th>tb24_26p_cmo</th>\n",
       "      <th>tb24_26p_scian</th>\n",
       "    </tr>\n",
       "  </thead>\n",
       "  <tbody>\n",
       "    <tr>\n",
       "      <th>0</th>\n",
       "      <td>1.0</td>\n",
       "      <td>NaN</td>\n",
       "      <td>NaN</td>\n",
       "      <td>NaN</td>\n",
       "      <td>NaN</td>\n",
       "      <td>NaN</td>\n",
       "      <td>NaN</td>\n",
       "      <td>NaN</td>\n",
       "      <td>NaN</td>\n",
       "      <td>NaN</td>\n",
       "      <td>...</td>\n",
       "      <td>NaN</td>\n",
       "      <td>NaN</td>\n",
       "      <td>NaN</td>\n",
       "      <td>NaN</td>\n",
       "      <td>NaN</td>\n",
       "      <td>NaN</td>\n",
       "      <td>54.0</td>\n",
       "      <td>23.0</td>\n",
       "      <td>55.0</td>\n",
       "      <td>93.0</td>\n",
       "    </tr>\n",
       "    <tr>\n",
       "      <th>1</th>\n",
       "      <td>4.0</td>\n",
       "      <td>3.0</td>\n",
       "      <td>3.0</td>\n",
       "      <td>3.0</td>\n",
       "      <td>3.0</td>\n",
       "      <td>NaN</td>\n",
       "      <td>NaN</td>\n",
       "      <td>NaN</td>\n",
       "      <td>NaN</td>\n",
       "      <td>NaN</td>\n",
       "      <td>...</td>\n",
       "      <td>NaN</td>\n",
       "      <td>NaN</td>\n",
       "      <td>NaN</td>\n",
       "      <td>NaN</td>\n",
       "      <td>NaN</td>\n",
       "      <td>NaN</td>\n",
       "      <td>NaN</td>\n",
       "      <td>NaN</td>\n",
       "      <td>NaN</td>\n",
       "      <td>NaN</td>\n",
       "    </tr>\n",
       "    <tr>\n",
       "      <th>2</th>\n",
       "      <td>3.0</td>\n",
       "      <td>3.0</td>\n",
       "      <td>3.0</td>\n",
       "      <td>3.0</td>\n",
       "      <td>3.0</td>\n",
       "      <td>NaN</td>\n",
       "      <td>NaN</td>\n",
       "      <td>NaN</td>\n",
       "      <td>NaN</td>\n",
       "      <td>NaN</td>\n",
       "      <td>...</td>\n",
       "      <td>NaN</td>\n",
       "      <td>NaN</td>\n",
       "      <td>NaN</td>\n",
       "      <td>NaN</td>\n",
       "      <td>NaN</td>\n",
       "      <td>NaN</td>\n",
       "      <td>NaN</td>\n",
       "      <td>NaN</td>\n",
       "      <td>NaN</td>\n",
       "      <td>NaN</td>\n",
       "    </tr>\n",
       "  </tbody>\n",
       "</table>\n",
       "<p>3 rows × 252 columns</p>\n",
       "</div>"
      ],
      "text/plain": [
       "   tb02_1  tb03  tb04  tb05  tb06  tb07  tb08  tb09_1  tb09_2  tb10  ...  \\\n",
       "0     1.0   NaN   NaN   NaN   NaN   NaN   NaN     NaN     NaN   NaN  ...   \n",
       "1     4.0   3.0   3.0   3.0   3.0   NaN   NaN     NaN     NaN   NaN  ...   \n",
       "2     3.0   3.0   3.0   3.0   3.0   NaN   NaN     NaN     NaN   NaN  ...   \n",
       "\n",
       "   tb24_26s_cmo  tb24_26s_scian  tb41_43p_cmo  tb41_43p_scian  tb41_43s_cmo  \\\n",
       "0           NaN             NaN           NaN             NaN           NaN   \n",
       "1           NaN             NaN           NaN             NaN           NaN   \n",
       "2           NaN             NaN           NaN             NaN           NaN   \n",
       "\n",
       "   tb41_43s_scian  tb58_59_cmo  tb58_59_scian  tb24_26p_cmo  tb24_26p_scian  \n",
       "0             NaN         54.0           23.0          55.0            93.0  \n",
       "1             NaN          NaN            NaN           NaN             NaN  \n",
       "2             NaN          NaN            NaN           NaN             NaN  \n",
       "\n",
       "[3 rows x 252 columns]"
      ]
     },
     "execution_count": 7,
     "metadata": {},
     "output_type": "execute_result"
    }
   ],
   "source": [
    "df_income = pd.read_stata(\"hh02dta_b3a/iiia_tb.dta\")\n",
    "df_income.info()\n",
    "df_income.head(3)"
   ]
  },
  {
   "cell_type": "code",
   "execution_count": 8,
   "metadata": {
    "scrolled": false
   },
   "outputs": [
    {
     "data": {
      "text/html": [
       "<div>\n",
       "<style scoped>\n",
       "    .dataframe tbody tr th:only-of-type {\n",
       "        vertical-align: middle;\n",
       "    }\n",
       "\n",
       "    .dataframe tbody tr th {\n",
       "        vertical-align: top;\n",
       "    }\n",
       "\n",
       "    .dataframe thead th {\n",
       "        text-align: right;\n",
       "    }\n",
       "</style>\n",
       "<table border=\"1\" class=\"dataframe\">\n",
       "  <thead>\n",
       "    <tr style=\"text-align: right;\">\n",
       "      <th></th>\n",
       "      <th>ls</th>\n",
       "    </tr>\n",
       "  </thead>\n",
       "  <tbody>\n",
       "    <tr>\n",
       "      <th>0</th>\n",
       "      <td>1.0</td>\n",
       "    </tr>\n",
       "    <tr>\n",
       "      <th>1</th>\n",
       "      <td>2.0</td>\n",
       "    </tr>\n",
       "  </tbody>\n",
       "</table>\n",
       "</div>"
      ],
      "text/plain": [
       "    ls\n",
       "0  1.0\n",
       "1  2.0"
      ]
     },
     "execution_count": 8,
     "metadata": {},
     "output_type": "execute_result"
    }
   ],
   "source": [
    "# Check to see if we have ls data!\n",
    "df_income.filter(regex='ls').head(2)"
   ]
  },
  {
   "cell_type": "markdown",
   "metadata": {},
   "source": [
    "# Homework Questions"
   ]
  },
  {
   "attachments": {
    "Screen%20Shot%202020-04-03%20at%206.03.13%20PM.png": {
     "image/png": "[encoded data removed]"
    },
    "Screen%20Shot%202020-04-03%20at%206.04.13%20PM.png": {
     "image/png": "[encoded data removed]"
    }
   },
   "cell_type": "markdown",
   "metadata": {},
   "source": [
    "# Q.1 Labor market participation\n",
    "\n",
    "![Screen%20Shot%202020-04-03%20at%206.03.13%20PM.png](attachment:Screen%20Shot%202020-04-03%20at%206.03.13%20PM.png)\n",
    "![Screen%20Shot%202020-04-03%20at%206.04.13%20PM.png](attachment:Screen%20Shot%202020-04-03%20at%206.04.13%20PM.png)"
   ]
  },
  {
   "cell_type": "markdown",
   "metadata": {},
   "source": [
    "## Q.1.1 What is the labor market participation of men and women aged 16 to 65"
   ]
  },
  {
   "cell_type": "markdown",
   "metadata": {},
   "source": [
    "### 1.1.1 Filter ages 16-65"
   ]
  },
  {
   "cell_type": "code",
   "execution_count": 9,
   "metadata": {},
   "outputs": [],
   "source": [
    "df_labor['Worked_dummy'] = df_labor.ls12.map({1:1, 3:0}) #Create worked dummy\n",
    "mask = (df_labor['ls02_2']>15) & (df_labor['ls02_2']<66)\n",
    "ages_16to65 = df_labor.loc[mask]"
   ]
  },
  {
   "cell_type": "code",
   "execution_count": 11,
   "metadata": {},
   "outputs": [
    {
     "name": "stdout",
     "output_type": "stream",
     "text": [
      "<class 'pandas.core.frame.DataFrame'>\n",
      "Int64Index: 20852 entries, 0 to 35676\n",
      "Columns: 25 entries, folio to Worked_dummy\n",
      "dtypes: float32(24), float64(1)\n",
      "memory usage: 2.2 MB\n"
     ]
    }
   ],
   "source": [
    "ages_16to65.info(verbose=False)"
   ]
  },
  {
   "cell_type": "markdown",
   "metadata": {},
   "source": [
    "### 1.1.2 Filter men and women"
   ]
  },
  {
   "cell_type": "code",
   "execution_count": 12,
   "metadata": {},
   "outputs": [
    {
     "name": "stderr",
     "output_type": "stream",
     "text": [
      "/usr/local/lib/python3.6/dist-packages/ipykernel/__main__.py:1: SettingWithCopyWarning: \n",
      "A value is trying to be set on a copy of a slice from a DataFrame.\n",
      "Try using .loc[row_indexer,col_indexer] = value instead\n",
      "\n",
      "See the caveats in the documentation: https://pandas.pydata.org/pandas-docs/stable/user_guide/indexing.html#returning-a-view-versus-a-copy\n",
      "  if __name__ == '__main__':\n"
     ]
    }
   ],
   "source": [
    "ages_16to65['gender'] = ages_16to65.ls04.map({1:\"Male\", 3:\"Female\"})"
   ]
  },
  {
   "cell_type": "markdown",
   "metadata": {},
   "source": [
    "### 1.1.3 ANSWER"
   ]
  },
  {
   "cell_type": "code",
   "execution_count": 13,
   "metadata": {},
   "outputs": [
    {
     "name": "stdout",
     "output_type": "stream",
     "text": [
      "Overall--labor market participation: 58.69%\n",
      "Male--labor market participation: 83.87%\n",
      "Female--labor market participation: 36.23%\n"
     ]
    }
   ],
   "source": [
    "ans1_overall = ages_16to65.Worked_dummy.mean()\n",
    "ans1_male = ages_16to65.loc[ages_16to65.gender=='Male'].Worked_dummy.mean()\n",
    "ans1_female = ages_16to65.loc[ages_16to65.gender=='Female'].Worked_dummy.mean()\n",
    "print(\"Overall--labor market participation: {:.2%}\".format(ans1_overall))\n",
    "print(\"Male--labor market participation: {:.2%}\".format(ans1_male))\n",
    "print(\"Female--labor market participation: {:.2%}\".format(ans1_female))"
   ]
  },
  {
   "cell_type": "markdown",
   "metadata": {},
   "source": [
    "## Q1.2 Provide labor market participation rates by 5 year age ranges for men and women."
   ]
  },
  {
   "cell_type": "markdown",
   "metadata": {},
   "source": [
    "### 1.2.1 We cannot use simple groupby function to pull age range"
   ]
  },
  {
   "cell_type": "code",
   "execution_count": 14,
   "metadata": {},
   "outputs": [
    {
     "data": {
      "text/plain": [
       "ls02_2\n",
       "16.0    0.215364\n",
       "17.0    0.312263\n",
       "18.0    0.402597\n",
       "Name: Worked_dummy, dtype: float64"
      ]
     },
     "execution_count": 14,
     "metadata": {},
     "output_type": "execute_result"
    }
   ],
   "source": [
    "ages_16to65.groupby(\"ls02_2\")['Worked_dummy'].mean().head(3)"
   ]
  },
  {
   "cell_type": "markdown",
   "metadata": {},
   "source": [
    "### 1.2.2 Use pd.cut\n",
    "- First sort age values \n",
    "    - Create age cut off values\n",
    "    - ages_16to65[\"ls02_2\"].sort_values().values\n",
    "    - Use pd.cut()"
   ]
  },
  {
   "cell_type": "markdown",
   "metadata": {},
   "source": [
    "#### 1.2.2.1 Create age cut offs"
   ]
  },
  {
   "cell_type": "code",
   "execution_count": 15,
   "metadata": {},
   "outputs": [
    {
     "data": {
      "text/plain": [
       "[15, 20, 25, 30, 35, 40, 45, 50, 55, 60, 65]"
      ]
     },
     "execution_count": 15,
     "metadata": {},
     "output_type": "execute_result"
    }
   ],
   "source": [
    "age_cutoffs= [x for x in range(15,66) if x%5==0]\n",
    "age_cutoffs"
   ]
  },
  {
   "cell_type": "markdown",
   "metadata": {},
   "source": [
    "#### 1.2.2.2 Create age groups"
   ]
  },
  {
   "cell_type": "code",
   "execution_count": 16,
   "metadata": {},
   "outputs": [],
   "source": [
    "age_group = pd.cut(ages_16to65[\"ls02_2\"].sort_values().values, age_cutoffs)"
   ]
  },
  {
   "cell_type": "markdown",
   "metadata": {},
   "source": [
    "#### 1.2.2.3 Groupby mean of worked dummy"
   ]
  },
  {
   "cell_type": "code",
   "execution_count": 17,
   "metadata": {},
   "outputs": [],
   "source": [
    "ans1_2 = ages_16to65.groupby(age_group)[\"Worked_dummy\"].mean().to_frame()\n",
    "ans1_2.index.names= ['Age group']\n",
    "ans1_2.Worked_dummy = ans1_2.Worked_dummy.map(lambda n: '{:.2%}'.format(n))"
   ]
  },
  {
   "cell_type": "markdown",
   "metadata": {},
   "source": [
    "### 1.2.3 Answer"
   ]
  },
  {
   "cell_type": "code",
   "execution_count": 18,
   "metadata": {},
   "outputs": [
    {
     "data": {
      "text/html": [
       "<div>\n",
       "<style scoped>\n",
       "    .dataframe tbody tr th:only-of-type {\n",
       "        vertical-align: middle;\n",
       "    }\n",
       "\n",
       "    .dataframe tbody tr th {\n",
       "        vertical-align: top;\n",
       "    }\n",
       "\n",
       "    .dataframe thead th {\n",
       "        text-align: right;\n",
       "    }\n",
       "</style>\n",
       "<table border=\"1\" class=\"dataframe\">\n",
       "  <thead>\n",
       "    <tr style=\"text-align: right;\">\n",
       "      <th></th>\n",
       "      <th>Worked_dummy</th>\n",
       "    </tr>\n",
       "    <tr>\n",
       "      <th>Age group</th>\n",
       "      <th></th>\n",
       "    </tr>\n",
       "  </thead>\n",
       "  <tbody>\n",
       "    <tr>\n",
       "      <th>(15, 20]</th>\n",
       "      <td>55.15%</td>\n",
       "    </tr>\n",
       "    <tr>\n",
       "      <th>(20, 25]</th>\n",
       "      <td>60.12%</td>\n",
       "    </tr>\n",
       "    <tr>\n",
       "      <th>(25, 30]</th>\n",
       "      <td>60.78%</td>\n",
       "    </tr>\n",
       "    <tr>\n",
       "      <th>(30, 35]</th>\n",
       "      <td>57.29%</td>\n",
       "    </tr>\n",
       "    <tr>\n",
       "      <th>(35, 40]</th>\n",
       "      <td>61.91%</td>\n",
       "    </tr>\n",
       "    <tr>\n",
       "      <th>(40, 45]</th>\n",
       "      <td>60.18%</td>\n",
       "    </tr>\n",
       "    <tr>\n",
       "      <th>(45, 50]</th>\n",
       "      <td>60.48%</td>\n",
       "    </tr>\n",
       "    <tr>\n",
       "      <th>(50, 55]</th>\n",
       "      <td>57.26%</td>\n",
       "    </tr>\n",
       "    <tr>\n",
       "      <th>(55, 60]</th>\n",
       "      <td>56.01%</td>\n",
       "    </tr>\n",
       "    <tr>\n",
       "      <th>(60, 65]</th>\n",
       "      <td>56.38%</td>\n",
       "    </tr>\n",
       "  </tbody>\n",
       "</table>\n",
       "</div>"
      ],
      "text/plain": [
       "          Worked_dummy\n",
       "Age group             \n",
       "(15, 20]        55.15%\n",
       "(20, 25]        60.12%\n",
       "(25, 30]        60.78%\n",
       "(30, 35]        57.29%\n",
       "(35, 40]        61.91%\n",
       "(40, 45]        60.18%\n",
       "(45, 50]        60.48%\n",
       "(50, 55]        57.26%\n",
       "(55, 60]        56.01%\n",
       "(60, 65]        56.38%"
      ]
     },
     "execution_count": 18,
     "metadata": {},
     "output_type": "execute_result"
    }
   ],
   "source": [
    "ans1_2"
   ]
  },
  {
   "cell_type": "markdown",
   "metadata": {},
   "source": [
    "# Q.2. Construct at least two different definitions of the informal sector to answer the following questions.\n",
    "\n",
    "- 2.1 What proportion of men and women who work are in the informal sector?\n",
    "- 2.2 What are the average hours worked of men and women in the informal sector versus the formal sector?\n",
    "- 2.3 Compare total earnings, average earnings per hour and median earnings per hour in the formal and informal sector for men and women.\n",
    "- 2.4 TB24 asks broadly about occupation using this question repeat c) above. "
   ]
  },
  {
   "cell_type": "markdown",
   "metadata": {},
   "source": [
    "## 2.1 What proportion of men and women who work are in the informal sector?\n",
    "\n",
    "- 11 Profesionist 304 \n",
    "- 12 Technicians 230 \n",
    "- 13 Education workers 370 \n",
    "- 14 Arts, performance 63 \n",
    "- 21 Employees and 87 directors of the public, private and social sectors\n",
    "- 41 Agricultural, cattle 2097 activities, foresting, hunting and fishing workers\n",
    "- 51 Chiefs, supervisors 74 \n",
    "- 52 Manufacturing 1877 craftsmen and workers\n",
    "- 53 Operators of fixed 251 machinery of continuous movement and equipment in the process of industrial production\n",
    "- 54 Assistants, laborers and similar in the process of artisan and industrial manufacture and in activities of repair and maintenance 608 \n",
    "- 55 Conductors and assistants of conductors of movable machinery and means of transport 394 \n",
    "- 61 Department chiefs, coordinators and supervisors of the administrative activities and services. 161 \n",
    "- 62 Workers in the support of the administrative activities  735 \n",
    "- 71 Retailers, employees in commerce and sales agents 1,726 \n",
    "- 72 Street sales and services workers233 \n",
    "- 81 Workers in personal establishments 762 \n",
    "- 82 Workers in domestic services 444 \n",
    "- 83 Workers in services of protection, monitoring and armed forces 248\n",
    "- 99 Other workers with 29 occupations noncclassified previously, insufficiently specified and not specified"
   ]
  },
  {
   "cell_type": "markdown",
   "metadata": {},
   "source": [
    "### 2.1.1 Merge df_income and ages_16to65"
   ]
  },
  {
   "cell_type": "code",
   "execution_count": 25,
   "metadata": {},
   "outputs": [
    {
     "name": "stdout",
     "output_type": "stream",
     "text": [
      "<class 'pandas.core.frame.DataFrame'>\n",
      "Int64Index: 11390 entries, 0 to 19754\n",
      "Data columns (total 9 columns):\n",
      " #   Column        Non-Null Count  Dtype  \n",
      "---  ------        --------------  -----  \n",
      " 0   folio         11390 non-null  float32\n",
      " 1   ls            11390 non-null  float32\n",
      " 2   gender        11390 non-null  object \n",
      " 3   Worked_dummy  11384 non-null  float64\n",
      " 4   folio         11390 non-null  float64\n",
      " 5   ls            11390 non-null  float32\n",
      " 6   tb24_26p_cmo  6216 non-null   float64\n",
      " 7   tb44p_2       5363 non-null   float32\n",
      " 8   tb35a_2       1858 non-null   float64\n",
      "dtypes: float32(4), float64(4), object(1)\n",
      "memory usage: 711.9+ KB\n"
     ]
    }
   ],
   "source": [
    "ages_16to65_small = ages_16to65[['folio', 'ls', 'gender', 'Worked_dummy']]\n",
    "df_income_small = df_income[['folio', 'ls', 'tb24_26p_cmo','tb44p_2', 'tb35a_2']]\n",
    "merged = pd.concat([ages_16to65_small, df_income_small], axis=1, join='inner', keys=['ls',\"folio\"])\n",
    "merged.columns = merged.columns.droplevel(0)\n",
    "merged.info(verbose=True)"
   ]
  },
  {
   "cell_type": "code",
   "execution_count": 26,
   "metadata": {},
   "outputs": [
    {
     "name": "stdout",
     "output_type": "stream",
     "text": [
      "<class 'pandas.core.frame.DataFrame'>\n",
      "Int64Index: 17382 entries, 0 to 17381\n",
      "Data columns (total 7 columns):\n",
      " #   Column        Non-Null Count  Dtype  \n",
      "---  ------        --------------  -----  \n",
      " 0   folio         17382 non-null  float32\n",
      " 1   ls            17382 non-null  float32\n",
      " 2   gender        17382 non-null  object \n",
      " 3   Worked_dummy  17382 non-null  float64\n",
      " 4   tb24_26p_cmo  10039 non-null  float64\n",
      " 5   tb44p_2       8703 non-null   float32\n",
      " 6   tb35a_2       3084 non-null   float64\n",
      "dtypes: float32(3), float64(3), object(1)\n",
      "memory usage: 882.7+ KB\n"
     ]
    }
   ],
   "source": [
    "merged = pd.merge(ages_16to65_small, df_income_small, how='inner', on=['ls',\"folio\"]) # Not including 'on='branch_id' will reset index\n",
    "merged.info()"
   ]
  },
  {
   "cell_type": "markdown",
   "metadata": {},
   "source": [
    "#### 2.1.1.1 Create informal dummy"
   ]
  },
  {
   "cell_type": "code",
   "execution_count": 27,
   "metadata": {},
   "outputs": [],
   "source": [
    "mask = (merged[\"tb24_26p_cmo\"]==41) | (merged[\"tb24_26p_cmo\"]==72) | (merged[\"tb24_26p_cmo\"]==81) | (merged[\"tb24_26p_cmo\"]==82)\n",
    "merged['informal_dummy'] = pd.get_dummies(mask, drop_first=True)"
   ]
  },
  {
   "cell_type": "markdown",
   "metadata": {},
   "source": [
    "### 2.1.2 ANSWER"
   ]
  },
  {
   "cell_type": "code",
   "execution_count": 28,
   "metadata": {},
   "outputs": [
    {
     "name": "stdout",
     "output_type": "stream",
     "text": [
      "Formal sector labor market participation: 88.06%\n",
      "Informal sector labor market participation: 49.67%\n",
      "Formal worker percent of labor force 81.59% \n",
      "Informal worker percent of labor force 18.41%\n"
     ]
    }
   ],
   "source": [
    "merged[\"male_dummy\"] = merged.gender.map({\"Male\":1, \"Female\":0})\n",
    "mask = (merged[\"tb24_26p_cmo\"]==41) | (merged[\"tb24_26p_cmo\"]==72) | (merged[\"tb24_26p_cmo\"]==81) | (merged[\"tb24_26p_cmo\"]==82)\n",
    "informal = merged.loc[mask]\n",
    "formal = merged.loc[-mask]\n",
    "formal_mean = informal.Worked_dummy.mean()\n",
    "informal_mean  = formal.Worked_dummy.mean()\n",
    "print(\"Formal sector labor market participation: {:.2%}\".format(formal_mean))\n",
    "print(\"Informal sector labor market participation: {:.2%}\".format(informal_mean))\n",
    "formal_pct = len(formal)/(len(formal)+len(informal))\n",
    "informal_pct = len(informal)/(len(formal)+len(informal))\n",
    "print(\"Formal worker percent of labor force {:.2%} \\nInformal worker percent of labor force {:.2%}\".format(formal_pct ,informal_pct))"
   ]
  },
  {
   "cell_type": "markdown",
   "metadata": {},
   "source": [
    "### 2.1.2 Answer: Cleaner"
   ]
  },
  {
   "cell_type": "code",
   "execution_count": 37,
   "metadata": {},
   "outputs": [
    {
     "data": {
      "text/html": [
       "<div>\n",
       "<style scoped>\n",
       "    .dataframe tbody tr th:only-of-type {\n",
       "        vertical-align: middle;\n",
       "    }\n",
       "\n",
       "    .dataframe tbody tr th {\n",
       "        vertical-align: top;\n",
       "    }\n",
       "\n",
       "    .dataframe thead th {\n",
       "        text-align: right;\n",
       "    }\n",
       "</style>\n",
       "<table border=\"1\" class=\"dataframe\">\n",
       "  <thead>\n",
       "    <tr style=\"text-align: right;\">\n",
       "      <th></th>\n",
       "      <th>informal_dummy</th>\n",
       "    </tr>\n",
       "    <tr>\n",
       "      <th>male_dummy</th>\n",
       "      <th></th>\n",
       "    </tr>\n",
       "  </thead>\n",
       "  <tbody>\n",
       "    <tr>\n",
       "      <th>0</th>\n",
       "      <td>31.46</td>\n",
       "    </tr>\n",
       "    <tr>\n",
       "      <th>1</th>\n",
       "      <td>30.95</td>\n",
       "    </tr>\n",
       "  </tbody>\n",
       "</table>\n",
       "</div>"
      ],
      "text/plain": [
       "            informal_dummy\n",
       "male_dummy                \n",
       "0                    31.46\n",
       "1                    30.95"
      ]
     },
     "execution_count": 37,
     "metadata": {},
     "output_type": "execute_result"
    }
   ],
   "source": [
    "merged[\"male_dummy\"] = merged.gender.map({\"Male\":1, \"Female\":0})\n",
    "#merged.loc[mask, [\"tb24_26p_cmo\",'informal_dummy']]\n",
    "round(merged.dropna().groupby(\"male_dummy\")['informal_dummy'].mean().to_frame()*100,2)"
   ]
  },
  {
   "cell_type": "markdown",
   "metadata": {},
   "source": [
    "## 2.2 What are the average hours worked of men and women in the informal sector versus the formal sector?\n"
   ]
  },
  {
   "cell_type": "markdown",
   "metadata": {},
   "source": [
    "### 2.2.1 Show histogram"
   ]
  },
  {
   "cell_type": "code",
   "execution_count": 31,
   "metadata": {
    "scrolled": true
   },
   "outputs": [
    {
     "data": {
      "image/png": "[encoded data removed]",
      "text/plain": [
       "<Figure size 864x504 with 1 Axes>"
      ]
     },
     "metadata": {
      "image/png": {
       "height": 424,
       "width": 716
      },
      "needs_background": "light"
     },
     "output_type": "display_data"
    }
   ],
   "source": [
    "ax = sns.distplot(merged.loc[merged.gender==\"Female\", \"tb44p_2\"], hist=True, kde=False, bins=10, label=\"Female\")\n",
    "ax = sns.distplot(merged.loc[merged.gender==\"Male\", \"tb44p_2\"], hist=True, kde=False, bins=10, label=\"Male\")\n",
    "ax.set_xlabel('Weekly hours worked')\n",
    "plt.legend();"
   ]
  },
  {
   "cell_type": "markdown",
   "metadata": {},
   "source": [
    "### 2.2.2 Answer"
   ]
  },
  {
   "cell_type": "code",
   "execution_count": 32,
   "metadata": {},
   "outputs": [
    {
     "name": "stdout",
     "output_type": "stream",
     "text": [
      "Informal Male hours worked 44.69\n",
      "Formal Male hours worked 46.29\n",
      "\n",
      "Informal Female hours worked 38.50\n",
      "Formal Female hours worked 39.75\n",
      "\n"
     ]
    }
   ],
   "source": [
    "hours_week_work = \"tb44p_2\"\n",
    "for i in [\"Male\", \"Female\"]:\n",
    "    informal_means = informal.loc[informal['gender']==i].tb44p_2.mean()\n",
    "    formal_means = formal.loc[formal['gender']==i].tb44p_2.mean()\n",
    "    print(\"Informal \"+str(i)+\" hours worked {:.2f}\".format(informal_means))\n",
    "    print(\"Formal \"+str(i)+\" hours worked {:.2f}\".format(formal_means))\n",
    "    print(\"\")"
   ]
  },
  {
   "cell_type": "markdown",
   "metadata": {},
   "source": [
    "### 2.2.2 Answer: Cleaner version"
   ]
  },
  {
   "cell_type": "code",
   "execution_count": 38,
   "metadata": {},
   "outputs": [
    {
     "data": {
      "text/plain": [
       "male_dummy  informal_dummy\n",
       "0           0                 40.369263\n",
       "            1                 39.391304\n",
       "1           0                 45.952950\n",
       "            1                 44.666031\n",
       "Name: tb44p_2, dtype: float32"
      ]
     },
     "execution_count": 38,
     "metadata": {},
     "output_type": "execute_result"
    }
   ],
   "source": [
    "merged.dropna().groupby([\"male_dummy\", \"informal_dummy\"])['tb44p_2'].mean()"
   ]
  },
  {
   "cell_type": "markdown",
   "metadata": {},
   "source": [
    "## 2.3 Compare in the formal and informal sector for men and women for: \n",
    "1. total earnings \n",
    "2. average earnings per hour \n",
    "3. median earnings per hour "
   ]
  },
  {
   "cell_type": "markdown",
   "metadata": {},
   "source": [
    "### 2.3.1 Calculate \"month hours\" and \"hourly wage\""
   ]
  },
  {
   "cell_type": "code",
   "execution_count": 39,
   "metadata": {},
   "outputs": [],
   "source": [
    "monthly_earnings = \"tb35a_2\"\n",
    "merged[\"Monthly_hours\"] = merged.tb44p_2*4.3\n",
    "merged['Hourly_wage'] = merged[monthly_earnings]/merged.Monthly_hours\n",
    "mask = (merged[\"tb24_26p_cmo\"]==41) | (merged[\"tb24_26p_cmo\"]==72) | (merged[\"tb24_26p_cmo\"]==81) | (merged[\"tb24_26p_cmo\"]==82)\n",
    "informal = merged.loc[mask]\n",
    "formal = merged.loc[-mask]"
   ]
  },
  {
   "cell_type": "markdown",
   "metadata": {},
   "source": [
    "### 2.3.2 Answer:"
   ]
  },
  {
   "cell_type": "code",
   "execution_count": 40,
   "metadata": {},
   "outputs": [
    {
     "name": "stdout",
     "output_type": "stream",
     "text": [
      "Informal Male avg. hourly wage 12.51\n",
      "Formal Male avg. hourly wage 26.85\n",
      "\n",
      "Informal Female avg. hourly wage 12.42\n",
      "Formal Female avg. hourly wage 31.79\n",
      "\n"
     ]
    }
   ],
   "source": [
    "hours_week_work = \"tb44p_2\"\n",
    "for i in [\"Male\", \"Female\"]:\n",
    "    informal_means = informal.loc[informal['gender']==i].Hourly_wage.mean()\n",
    "    formal_means = formal.loc[formal['gender']==i].Hourly_wage.mean()\n",
    "    print(\"Informal \"+str(i)+\" avg. hourly wage {:.2f}\".format(informal_means))\n",
    "    print(\"Formal \"+str(i)+\" avg. hourly wage {:.2f}\".format(formal_means))\n",
    "    print(\"\")"
   ]
  },
  {
   "cell_type": "markdown",
   "metadata": {},
   "source": [
    "### 2.3.3 Answer: Cleaner version"
   ]
  },
  {
   "cell_type": "markdown",
   "metadata": {},
   "source": [
    "#### 2.3.3.1 Total earnings"
   ]
  },
  {
   "cell_type": "code",
   "execution_count": 41,
   "metadata": {},
   "outputs": [
    {
     "data": {
      "text/plain": [
       "male_dummy  informal_dummy\n",
       "0           0                 4175.794411\n",
       "            1                 1745.882609\n",
       "1           0                 4303.087254\n",
       "            1                 2144.250000\n",
       "Name: tb35a_2, dtype: float64"
      ]
     },
     "execution_count": 41,
     "metadata": {},
     "output_type": "execute_result"
    }
   ],
   "source": [
    "merged.dropna().groupby([\"male_dummy\", \"informal_dummy\"])[monthly_earnings].mean()"
   ]
  },
  {
   "cell_type": "markdown",
   "metadata": {},
   "source": [
    "#### 2.3.3.2 Avg. & Median earnings per hour"
   ]
  },
  {
   "cell_type": "code",
   "execution_count": 42,
   "metadata": {},
   "outputs": [
    {
     "data": {
      "text/html": [
       "<div>\n",
       "<style scoped>\n",
       "    .dataframe tbody tr th:only-of-type {\n",
       "        vertical-align: middle;\n",
       "    }\n",
       "\n",
       "    .dataframe tbody tr th {\n",
       "        vertical-align: top;\n",
       "    }\n",
       "\n",
       "    .dataframe thead th {\n",
       "        text-align: right;\n",
       "    }\n",
       "</style>\n",
       "<table border=\"1\" class=\"dataframe\">\n",
       "  <thead>\n",
       "    <tr style=\"text-align: right;\">\n",
       "      <th></th>\n",
       "      <th></th>\n",
       "      <th>mean</th>\n",
       "      <th>median</th>\n",
       "    </tr>\n",
       "    <tr>\n",
       "      <th>male_dummy</th>\n",
       "      <th>informal_dummy</th>\n",
       "      <th></th>\n",
       "      <th></th>\n",
       "    </tr>\n",
       "  </thead>\n",
       "  <tbody>\n",
       "    <tr>\n",
       "      <th rowspan=\"2\" valign=\"top\">0</th>\n",
       "      <th>0</th>\n",
       "      <td>31.943008</td>\n",
       "      <td>17.441860</td>\n",
       "    </tr>\n",
       "    <tr>\n",
       "      <th>1</th>\n",
       "      <td>12.423699</td>\n",
       "      <td>9.302326</td>\n",
       "    </tr>\n",
       "    <tr>\n",
       "      <th rowspan=\"2\" valign=\"top\">1</th>\n",
       "      <th>0</th>\n",
       "      <td>26.927515</td>\n",
       "      <td>15.980066</td>\n",
       "    </tr>\n",
       "    <tr>\n",
       "      <th>1</th>\n",
       "      <td>12.509076</td>\n",
       "      <td>9.152764</td>\n",
       "    </tr>\n",
       "  </tbody>\n",
       "</table>\n",
       "</div>"
      ],
      "text/plain": [
       "                                mean     median\n",
       "male_dummy informal_dummy                      \n",
       "0          0               31.943008  17.441860\n",
       "           1               12.423699   9.302326\n",
       "1          0               26.927515  15.980066\n",
       "           1               12.509076   9.152764"
      ]
     },
     "execution_count": 42,
     "metadata": {},
     "output_type": "execute_result"
    }
   ],
   "source": [
    "merged.dropna().groupby([\"male_dummy\", \"informal_dummy\"])['Hourly_wage'].agg([\"mean\", 'median'])"
   ]
  },
  {
   "cell_type": "markdown",
   "metadata": {},
   "source": [
    "## 2.5 Are there occupations where earnings in the informal sector are close to or higher than the formal sector?"
   ]
  },
  {
   "cell_type": "code",
   "execution_count": 43,
   "metadata": {},
   "outputs": [
    {
     "data": {
      "text/html": [
       "<div>\n",
       "<style scoped>\n",
       "    .dataframe tbody tr th:only-of-type {\n",
       "        vertical-align: middle;\n",
       "    }\n",
       "\n",
       "    .dataframe tbody tr th {\n",
       "        vertical-align: top;\n",
       "    }\n",
       "\n",
       "    .dataframe thead th {\n",
       "        text-align: right;\n",
       "    }\n",
       "</style>\n",
       "<table border=\"1\" class=\"dataframe\">\n",
       "  <thead>\n",
       "    <tr style=\"text-align: right;\">\n",
       "      <th></th>\n",
       "      <th>Hourly_wage</th>\n",
       "    </tr>\n",
       "    <tr>\n",
       "      <th>Occupation type</th>\n",
       "      <th></th>\n",
       "    </tr>\n",
       "  </thead>\n",
       "  <tbody>\n",
       "    <tr>\n",
       "      <th>11.0</th>\n",
       "      <td>51.730093</td>\n",
       "    </tr>\n",
       "    <tr>\n",
       "      <th>12.0</th>\n",
       "      <td>47.026180</td>\n",
       "    </tr>\n",
       "    <tr>\n",
       "      <th>13.0</th>\n",
       "      <td>51.023828</td>\n",
       "    </tr>\n",
       "    <tr>\n",
       "      <th>14.0</th>\n",
       "      <td>40.598485</td>\n",
       "    </tr>\n",
       "    <tr>\n",
       "      <th>21.0</th>\n",
       "      <td>65.694016</td>\n",
       "    </tr>\n",
       "    <tr>\n",
       "      <th>41.0</th>\n",
       "      <td>10.649240</td>\n",
       "    </tr>\n",
       "    <tr>\n",
       "      <th>51.0</th>\n",
       "      <td>24.958455</td>\n",
       "    </tr>\n",
       "    <tr>\n",
       "      <th>52.0</th>\n",
       "      <td>20.409994</td>\n",
       "    </tr>\n",
       "    <tr>\n",
       "      <th>53.0</th>\n",
       "      <td>14.608254</td>\n",
       "    </tr>\n",
       "    <tr>\n",
       "      <th>54.0</th>\n",
       "      <td>16.517315</td>\n",
       "    </tr>\n",
       "    <tr>\n",
       "      <th>55.0</th>\n",
       "      <td>30.942198</td>\n",
       "    </tr>\n",
       "    <tr>\n",
       "      <th>61.0</th>\n",
       "      <td>39.854173</td>\n",
       "    </tr>\n",
       "    <tr>\n",
       "      <th>62.0</th>\n",
       "      <td>24.138719</td>\n",
       "    </tr>\n",
       "    <tr>\n",
       "      <th>71.0</th>\n",
       "      <td>22.163873</td>\n",
       "    </tr>\n",
       "    <tr>\n",
       "      <th>72.0</th>\n",
       "      <td>25.186504</td>\n",
       "    </tr>\n",
       "    <tr>\n",
       "      <th>81.0</th>\n",
       "      <td>16.018235</td>\n",
       "    </tr>\n",
       "    <tr>\n",
       "      <th>82.0</th>\n",
       "      <td>11.791082</td>\n",
       "    </tr>\n",
       "    <tr>\n",
       "      <th>83.0</th>\n",
       "      <td>23.216297</td>\n",
       "    </tr>\n",
       "    <tr>\n",
       "      <th>99.0</th>\n",
       "      <td>9.474591</td>\n",
       "    </tr>\n",
       "  </tbody>\n",
       "</table>\n",
       "</div>"
      ],
      "text/plain": [
       "                 Hourly_wage\n",
       "Occupation type             \n",
       "11.0               51.730093\n",
       "12.0               47.026180\n",
       "13.0               51.023828\n",
       "14.0               40.598485\n",
       "21.0               65.694016\n",
       "41.0               10.649240\n",
       "51.0               24.958455\n",
       "52.0               20.409994\n",
       "53.0               14.608254\n",
       "54.0               16.517315\n",
       "55.0               30.942198\n",
       "61.0               39.854173\n",
       "62.0               24.138719\n",
       "71.0               22.163873\n",
       "72.0               25.186504\n",
       "81.0               16.018235\n",
       "82.0               11.791082\n",
       "83.0               23.216297\n",
       "99.0                9.474591"
      ]
     },
     "execution_count": 43,
     "metadata": {},
     "output_type": "execute_result"
    }
   ],
   "source": [
    "ans_25 = merged.groupby(\"tb24_26p_cmo\")[\"Hourly_wage\"].mean().to_frame()\n",
    "ans_25.index.name=\"Occupation type\"\n",
    "ans_25"
   ]
  },
  {
   "cell_type": "code",
   "execution_count": null,
   "metadata": {},
   "outputs": [],
   "source": []
  }
 ],
 "metadata": {
  "kernelspec": {
   "display_name": "Python 3",
   "language": "python",
   "name": "python3"
  },
  "language_info": {
   "codemirror_mode": {
    "name": "ipython",
    "version": 3
   },
   "file_extension": ".py",
   "mimetype": "text/x-python",
   "name": "python",
   "nbconvert_exporter": "python",
   "pygments_lexer": "ipython3",
   "version": "3.7.6"
  }
 },
 "nbformat": 4,
 "nbformat_minor": 4
}
